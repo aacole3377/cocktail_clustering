{
 "cells": [
  {
   "cell_type": "code",
   "execution_count": 1,
   "id": "676cb5e3",
   "metadata": {},
   "outputs": [],
   "source": [
    "url = \"https://raw.githubusercontent.com/rfordatascience/tidytuesday/master/data/2020/2020-05-26/boston_cocktails.csv\"                 "
   ]
  },
  {
   "cell_type": "code",
   "execution_count": 59,
   "id": "709d68f8",
   "metadata": {},
   "outputs": [],
   "source": [
    "import pandas as pd \n",
    "import numpy as np\n",
    "import matplotlib.pyplot as plt\n",
    "import seaborn as sns"
   ]
  },
  {
   "cell_type": "code",
   "execution_count": 43,
   "id": "e8083550",
   "metadata": {},
   "outputs": [
    {
     "data": {
      "text/html": [
       "<div>\n",
       "<style scoped>\n",
       "    .dataframe tbody tr th:only-of-type {\n",
       "        vertical-align: middle;\n",
       "    }\n",
       "\n",
       "    .dataframe tbody tr th {\n",
       "        vertical-align: top;\n",
       "    }\n",
       "\n",
       "    .dataframe thead th {\n",
       "        text-align: right;\n",
       "    }\n",
       "</style>\n",
       "<table border=\"1\" class=\"dataframe\">\n",
       "  <thead>\n",
       "    <tr style=\"text-align: right;\">\n",
       "      <th></th>\n",
       "      <th>name</th>\n",
       "      <th>category</th>\n",
       "      <th>row_id</th>\n",
       "      <th>ingredient_number</th>\n",
       "      <th>ingredient</th>\n",
       "      <th>measure</th>\n",
       "    </tr>\n",
       "  </thead>\n",
       "  <tbody>\n",
       "    <tr>\n",
       "      <th>0</th>\n",
       "      <td>Gauguin</td>\n",
       "      <td>Cocktail Classics</td>\n",
       "      <td>1</td>\n",
       "      <td>1</td>\n",
       "      <td>Light Rum</td>\n",
       "      <td>2 oz</td>\n",
       "    </tr>\n",
       "    <tr>\n",
       "      <th>1</th>\n",
       "      <td>Gauguin</td>\n",
       "      <td>Cocktail Classics</td>\n",
       "      <td>1</td>\n",
       "      <td>2</td>\n",
       "      <td>Passion Fruit Syrup</td>\n",
       "      <td>1 oz</td>\n",
       "    </tr>\n",
       "    <tr>\n",
       "      <th>2</th>\n",
       "      <td>Gauguin</td>\n",
       "      <td>Cocktail Classics</td>\n",
       "      <td>1</td>\n",
       "      <td>3</td>\n",
       "      <td>Lemon Juice</td>\n",
       "      <td>1 oz</td>\n",
       "    </tr>\n",
       "    <tr>\n",
       "      <th>3</th>\n",
       "      <td>Gauguin</td>\n",
       "      <td>Cocktail Classics</td>\n",
       "      <td>1</td>\n",
       "      <td>4</td>\n",
       "      <td>Lime Juice</td>\n",
       "      <td>1 oz</td>\n",
       "    </tr>\n",
       "    <tr>\n",
       "      <th>4</th>\n",
       "      <td>Fort Lauderdale</td>\n",
       "      <td>Cocktail Classics</td>\n",
       "      <td>2</td>\n",
       "      <td>1</td>\n",
       "      <td>Light Rum</td>\n",
       "      <td>1 1/2 oz</td>\n",
       "    </tr>\n",
       "    <tr>\n",
       "      <th>...</th>\n",
       "      <td>...</td>\n",
       "      <td>...</td>\n",
       "      <td>...</td>\n",
       "      <td>...</td>\n",
       "      <td>...</td>\n",
       "      <td>...</td>\n",
       "    </tr>\n",
       "    <tr>\n",
       "      <th>3638</th>\n",
       "      <td>Vow Of Silence</td>\n",
       "      <td>Gin</td>\n",
       "      <td>990</td>\n",
       "      <td>2</td>\n",
       "      <td>Grapefruit Juice</td>\n",
       "      <td>3/4 oz</td>\n",
       "    </tr>\n",
       "    <tr>\n",
       "      <th>3639</th>\n",
       "      <td>Vow Of Silence</td>\n",
       "      <td>Gin</td>\n",
       "      <td>990</td>\n",
       "      <td>3</td>\n",
       "      <td>Fresh Lime Juice</td>\n",
       "      <td>1/2 oz</td>\n",
       "    </tr>\n",
       "    <tr>\n",
       "      <th>3640</th>\n",
       "      <td>Vow Of Silence</td>\n",
       "      <td>Gin</td>\n",
       "      <td>990</td>\n",
       "      <td>4</td>\n",
       "      <td>Yellow Chartreuse</td>\n",
       "      <td>1/2 oz</td>\n",
       "    </tr>\n",
       "    <tr>\n",
       "      <th>3641</th>\n",
       "      <td>Vow Of Silence</td>\n",
       "      <td>Gin</td>\n",
       "      <td>990</td>\n",
       "      <td>5</td>\n",
       "      <td>Amaro</td>\n",
       "      <td>1/4 oz</td>\n",
       "    </tr>\n",
       "    <tr>\n",
       "      <th>3642</th>\n",
       "      <td>Vow Of Silence</td>\n",
       "      <td>Gin</td>\n",
       "      <td>990</td>\n",
       "      <td>6</td>\n",
       "      <td>Simple Syrup</td>\n",
       "      <td>1/4 oz</td>\n",
       "    </tr>\n",
       "  </tbody>\n",
       "</table>\n",
       "<p>3643 rows × 6 columns</p>\n",
       "</div>"
      ],
      "text/plain": [
       "                 name           category  row_id  ingredient_number  \\\n",
       "0             Gauguin  Cocktail Classics       1                  1   \n",
       "1             Gauguin  Cocktail Classics       1                  2   \n",
       "2             Gauguin  Cocktail Classics       1                  3   \n",
       "3             Gauguin  Cocktail Classics       1                  4   \n",
       "4     Fort Lauderdale  Cocktail Classics       2                  1   \n",
       "...               ...                ...     ...                ...   \n",
       "3638   Vow Of Silence                Gin     990                  2   \n",
       "3639   Vow Of Silence                Gin     990                  3   \n",
       "3640   Vow Of Silence                Gin     990                  4   \n",
       "3641   Vow Of Silence                Gin     990                  5   \n",
       "3642   Vow Of Silence                Gin     990                  6   \n",
       "\n",
       "               ingredient   measure  \n",
       "0               Light Rum      2 oz  \n",
       "1     Passion Fruit Syrup      1 oz  \n",
       "2             Lemon Juice      1 oz  \n",
       "3              Lime Juice      1 oz  \n",
       "4               Light Rum  1 1/2 oz  \n",
       "...                   ...       ...  \n",
       "3638     Grapefruit Juice    3/4 oz  \n",
       "3639     Fresh Lime Juice    1/2 oz  \n",
       "3640    Yellow Chartreuse    1/2 oz  \n",
       "3641                Amaro    1/4 oz  \n",
       "3642         Simple Syrup    1/4 oz  \n",
       "\n",
       "[3643 rows x 6 columns]"
      ]
     },
     "execution_count": 43,
     "metadata": {},
     "output_type": "execute_result"
    }
   ],
   "source": [
    "df = pd.read_csv(url)\n",
    "df"
   ]
  },
  {
   "cell_type": "code",
   "execution_count": 44,
   "id": "dc277bdb",
   "metadata": {},
   "outputs": [
    {
     "data": {
      "text/plain": [
       "Index(['name', 'category', 'row_id', 'ingredient_number', 'ingredient',\n",
       "       'measure'],\n",
       "      dtype='object')"
      ]
     },
     "execution_count": 44,
     "metadata": {},
     "output_type": "execute_result"
    }
   ],
   "source": [
    "df.columns"
   ]
  },
  {
   "cell_type": "code",
   "execution_count": 24,
   "id": "0d48f7b7",
   "metadata": {},
   "outputs": [
    {
     "name": "stdout",
     "output_type": "stream",
     "text": [
      "Number of recipes: 989\n",
      "Number of ingredients: 569\n",
      "Number of categories: 11\n"
     ]
    }
   ],
   "source": [
    "n = len(df['name'].unique())\n",
    "q = len(df['ingredient'].unique())\n",
    "p = len(df['category'].unique())\n",
    "print(f\"Number of recipes: {n}\")\n",
    "print(f\"Number of ingredients: {q}\")\n",
    "print(f\"Number of categories: {p}\")"
   ]
  },
  {
   "cell_type": "code",
   "execution_count": 45,
   "id": "7301e217",
   "metadata": {},
   "outputs": [
    {
     "data": {
      "text/plain": [
       "name\n",
       "1626                      5\n",
       "19th Century              4\n",
       "A. J.                     2\n",
       "Absinthe Cocktail         4\n",
       "Absinthe Drip Cocktail    2\n",
       "                         ..\n",
       "Yokahama Romance          4\n",
       "Yolanda                   5\n",
       "Zaza Cocktail             2\n",
       "Zero Mint                 1\n",
       "Zombie                    6\n",
       "Name: ingredient, Length: 989, dtype: int64"
      ]
     },
     "execution_count": 45,
     "metadata": {},
     "output_type": "execute_result"
    }
   ],
   "source": [
    "count_of_ingredients = df.groupby('name')['ingredient'].nunique()\n",
    "count_of_ingredients"
   ]
  },
  {
   "cell_type": "code",
   "execution_count": 42,
   "id": "dc1abaa4",
   "metadata": {},
   "outputs": [
    {
     "name": "stdout",
     "output_type": "stream",
     "text": [
      "Mean of count of ingredients: 3.6784630940343783\n",
      "Mean of count of ingredients: 4.0\n"
     ]
    }
   ],
   "source": [
    "mean_ingredient_count = group.mean()\n",
    "print(f\"Mean of count of ingredients: {mean_ingredient_count}\")\n",
    "median_ingredient_count = group.median()\n",
    "print(f\"Mean of count of ingredients: {median_ingredient_count}\")"
   ]
  },
  {
   "cell_type": "code",
   "execution_count": 60,
   "id": "ceb19d6c",
   "metadata": {},
   "outputs": [
    {
     "data": {
      "text/plain": [
       "ingredient\n",
       "Gin                  176\n",
       "Fresh lemon juice    138\n",
       "Simple Syrup         115\n",
       "Light Rum            113\n",
       "Vodka                112\n",
       "Name: name, dtype: int64"
      ]
     },
     "execution_count": 60,
     "metadata": {},
     "output_type": "execute_result"
    }
   ],
   "source": [
    "# Most common ingredients in drinks\n",
    "most_common_ingredients = df.groupby('ingredient')['name'].nunique()\n",
    "most_common_ingredients.sort_values(ascending=False).head()"
   ]
  },
  {
   "cell_type": "code",
   "execution_count": 67,
   "id": "4e77efc9",
   "metadata": {},
   "outputs": [
    {
     "data": {
      "text/plain": [
       "Gin                  176\n",
       "Fresh lemon juice    138\n",
       "Simple Syrup         115\n",
       "Vodka                114\n",
       "Light Rum            113\n",
       "Triple Sec           107\n",
       "Dry Vermouth         107\n",
       "Fresh Lime Juice     107\n",
       "Powdered Sugar        90\n",
       "Grenadine             85\n",
       "Name: ingredient, dtype: int64"
      ]
     },
     "execution_count": 67,
     "metadata": {},
     "output_type": "execute_result"
    }
   ],
   "source": [
    "top_ten_ingredients = df['ingredient'].value_counts().head(10)\n",
    "top_ten_ingredients"
   ]
  },
  {
   "cell_type": "code",
   "execution_count": 74,
   "id": "cc2c76d4",
   "metadata": {},
   "outputs": [
    {
     "data": {
      "text/plain": [
       "([0, 1, 2, 3, 4, 5, 6, 7, 8, 9],\n",
       " [Text(0, 0, ''),\n",
       "  Text(0, 0, ''),\n",
       "  Text(0, 0, ''),\n",
       "  Text(0, 0, ''),\n",
       "  Text(0, 0, ''),\n",
       "  Text(0, 0, ''),\n",
       "  Text(0, 0, ''),\n",
       "  Text(0, 0, ''),\n",
       "  Text(0, 0, ''),\n",
       "  Text(0, 0, '')])"
      ]
     },
     "execution_count": 74,
     "metadata": {},
     "output_type": "execute_result"
    },
    {
     "data": {
      "image/png": "[encoded data removed]",
      "text/plain": [
       "<Figure size 432x288 with 1 Axes>"
      ]
     },
     "metadata": {
      "needs_background": "light"
     },
     "output_type": "display_data"
    }
   ],
   "source": [
    "plt.bar(top_ten_ingredients.index, top_ten_ingredients.values)\n",
    "plt.title(\"Top 10 ingredients used\")\n",
    "plt.xlabel(\"Ingredient Name\")\n",
    "plt.ylabel(\"Count\")\n",
    "plt.xticks(rotation=90)"
   ]
  },
  {
   "cell_type": "code",
   "execution_count": 78,
   "id": "9401e77c",
   "metadata": {},
   "outputs": [
    {
     "data": {
      "image/png": "[encoded data removed]",
      "text/plain": [
       "<Figure size 720x432 with 1 Axes>"
      ]
     },
     "metadata": {
      "needs_background": "light"
     },
     "output_type": "display_data"
    }
   ],
   "source": [
    "ingredient_counts_per_category = df.groupby(['category', 'ingredient']).size().reset_index(name='counts')\n",
    "# Box Plot\n",
    "plt.figure(figsize=(10, 6))\n",
    "sns.boxplot(x='category', y='counts', data=ingredient_counts_per_category)\n",
    "plt.xticks(rotation=90)\n",
    "plt.title(\"Distribution of Ingredients in Each Category - Box Plot\")\n",
    "plt.show()"
   ]
  },
  {
   "cell_type": "code",
   "execution_count": 79,
   "id": "37f2a3b6",
   "metadata": {},
   "outputs": [
    {
     "data": {
      "image/png": "[encoded data removed]",
      "text/plain": [
       "<Figure size 720x432 with 1 Axes>"
      ]
     },
     "metadata": {
      "needs_background": "light"
     },
     "output_type": "display_data"
    }
   ],
   "source": [
    "# Violin Plot\n",
    "plt.figure(figsize=(10, 6))\n",
    "sns.violinplot(x='category', y='counts', data=ingredient_counts_per_category)\n",
    "plt.xticks(rotation=90)\n",
    "plt.title(\"Distribution of Ingredients in Each Category - Violin Plot\")\n",
    "plt.show()"
   ]
  },
  {
   "cell_type": "code",
   "execution_count": null,
   "id": "cb01c698",
   "metadata": {},
   "outputs": [],
   "source": []
  }
 ],
 "metadata": {
  "kernelspec": {
   "display_name": "Python 3 (ipykernel)",
   "language": "python",
   "name": "python3"
  },
  "language_info": {
   "codemirror_mode": {
    "name": "ipython",
    "version": 3
   },
   "file_extension": ".py",
   "mimetype": "text/x-python",
   "name": "python",
   "nbconvert_exporter": "python",
   "pygments_lexer": "ipython3",
   "version": "3.9.12"
  }
 },
 "nbformat": 4,
 "nbformat_minor": 5
}
