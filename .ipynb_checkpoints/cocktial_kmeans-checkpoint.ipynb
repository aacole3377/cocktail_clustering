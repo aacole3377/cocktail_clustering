{
 "cells": [
  {
   "cell_type": "code",
   "execution_count": 26,
   "id": "f61114b8-f639-4220-9182-692d442930aa",
   "metadata": {},
   "outputs": [],
   "source": [
    "import pandas as pd\n",
    "import numpy as np\n",
    "import seaborn as sns\n",
    "import plotly.express as px\n",
    "from sklearn.cluster import KMeans\n",
    "from sklearn.preprocessing import OneHotEncoder\n",
    "from scipy.cluster.hierarchy import dendrogram, linkage\n",
    "import matplotlib.pyplot as plt\n",
    "from sklearn.manifold import TSNE\n",
    "from sklearn.neighbors import NearestNeighbors\n",
    "from sklearn.metrics.pairwise import euclidean_distances\n",
    "from scipy import stats\n",
    "\n",
    "import re"
   ]
  },
  {
   "cell_type": "code",
   "execution_count": 27,
   "id": "484447bc",
   "metadata": {},
   "outputs": [],
   "source": [
    "\n",
    "def parse_quantity(s):\n",
    "    # Handle non-numeric and special cases\n",
    "    if any(non_numeric in s for non_numeric in ['For glass', 'splash', 'Fresh']):\n",
    "        return np.nan  # or some default value you choose\n",
    "\n",
    "    # Convert fractions to decimals\n",
    "    fraction_match = re.search(r'(\\d+)\\s+(\\d+)/(\\d+)', s)\n",
    "    if fraction_match:\n",
    "        whole, numerator, denominator = map(int, fraction_match.groups())\n",
    "        fraction = numerator / denominator\n",
    "        return whole + fraction\n",
    "\n",
    "    # Convert simple fractions\n",
    "    simple_fraction_match = re.search(r'(\\d+)/(\\d+)', s)\n",
    "    if simple_fraction_match:\n",
    "        numerator, denominator = map(int, simple_fraction_match.groups())\n",
    "        return numerator / denominator\n",
    "\n",
    "    # Extract plain numbers\n",
    "    number_match = re.search(r'(\\d+)', s)\n",
    "    if number_match:\n",
    "        return int(number_match.group(1))\n",
    "\n",
    "    # Default case if no pattern matched\n",
    "    return np.nan\n",
    "\n"
   ]
  },
  {
   "cell_type": "code",
   "execution_count": 28,
   "id": "ed0470e1-e4fe-4b46-a830-0740f72a73a1",
   "metadata": {},
   "outputs": [
    {
     "data": {
      "text/html": [
       "<div>\n",
       "<style scoped>\n",
       "    .dataframe tbody tr th:only-of-type {\n",
       "        vertical-align: middle;\n",
       "    }\n",
       "\n",
       "    .dataframe tbody tr th {\n",
       "        vertical-align: top;\n",
       "    }\n",
       "\n",
       "    .dataframe thead th {\n",
       "        text-align: right;\n",
       "    }\n",
       "</style>\n",
       "<table border=\"1\" class=\"dataframe\">\n",
       "  <thead>\n",
       "    <tr style=\"text-align: right;\">\n",
       "      <th></th>\n",
       "      <th>name</th>\n",
       "      <th>category</th>\n",
       "      <th>row_id</th>\n",
       "      <th>ingredient_number</th>\n",
       "      <th>ingredient</th>\n",
       "      <th>measure</th>\n",
       "    </tr>\n",
       "  </thead>\n",
       "  <tbody>\n",
       "    <tr>\n",
       "      <th>0</th>\n",
       "      <td>Gauguin</td>\n",
       "      <td>Cocktail Classics</td>\n",
       "      <td>1</td>\n",
       "      <td>1</td>\n",
       "      <td>Light Rum</td>\n",
       "      <td>2 oz</td>\n",
       "    </tr>\n",
       "    <tr>\n",
       "      <th>1</th>\n",
       "      <td>Gauguin</td>\n",
       "      <td>Cocktail Classics</td>\n",
       "      <td>1</td>\n",
       "      <td>2</td>\n",
       "      <td>Passion Fruit Syrup</td>\n",
       "      <td>1 oz</td>\n",
       "    </tr>\n",
       "    <tr>\n",
       "      <th>2</th>\n",
       "      <td>Gauguin</td>\n",
       "      <td>Cocktail Classics</td>\n",
       "      <td>1</td>\n",
       "      <td>3</td>\n",
       "      <td>Lemon Juice</td>\n",
       "      <td>1 oz</td>\n",
       "    </tr>\n",
       "    <tr>\n",
       "      <th>3</th>\n",
       "      <td>Gauguin</td>\n",
       "      <td>Cocktail Classics</td>\n",
       "      <td>1</td>\n",
       "      <td>4</td>\n",
       "      <td>Lime Juice</td>\n",
       "      <td>1 oz</td>\n",
       "    </tr>\n",
       "    <tr>\n",
       "      <th>4</th>\n",
       "      <td>Fort Lauderdale</td>\n",
       "      <td>Cocktail Classics</td>\n",
       "      <td>2</td>\n",
       "      <td>1</td>\n",
       "      <td>Light Rum</td>\n",
       "      <td>1 1/2 oz</td>\n",
       "    </tr>\n",
       "    <tr>\n",
       "      <th>...</th>\n",
       "      <td>...</td>\n",
       "      <td>...</td>\n",
       "      <td>...</td>\n",
       "      <td>...</td>\n",
       "      <td>...</td>\n",
       "      <td>...</td>\n",
       "    </tr>\n",
       "    <tr>\n",
       "      <th>3638</th>\n",
       "      <td>Vow Of Silence</td>\n",
       "      <td>Gin</td>\n",
       "      <td>990</td>\n",
       "      <td>2</td>\n",
       "      <td>Grapefruit Juice</td>\n",
       "      <td>3/4 oz</td>\n",
       "    </tr>\n",
       "    <tr>\n",
       "      <th>3639</th>\n",
       "      <td>Vow Of Silence</td>\n",
       "      <td>Gin</td>\n",
       "      <td>990</td>\n",
       "      <td>3</td>\n",
       "      <td>Fresh Lime Juice</td>\n",
       "      <td>1/2 oz</td>\n",
       "    </tr>\n",
       "    <tr>\n",
       "      <th>3640</th>\n",
       "      <td>Vow Of Silence</td>\n",
       "      <td>Gin</td>\n",
       "      <td>990</td>\n",
       "      <td>4</td>\n",
       "      <td>Yellow Chartreuse</td>\n",
       "      <td>1/2 oz</td>\n",
       "    </tr>\n",
       "    <tr>\n",
       "      <th>3641</th>\n",
       "      <td>Vow Of Silence</td>\n",
       "      <td>Gin</td>\n",
       "      <td>990</td>\n",
       "      <td>5</td>\n",
       "      <td>Amaro</td>\n",
       "      <td>1/4 oz</td>\n",
       "    </tr>\n",
       "    <tr>\n",
       "      <th>3642</th>\n",
       "      <td>Vow Of Silence</td>\n",
       "      <td>Gin</td>\n",
       "      <td>990</td>\n",
       "      <td>6</td>\n",
       "      <td>Simple Syrup</td>\n",
       "      <td>1/4 oz</td>\n",
       "    </tr>\n",
       "  </tbody>\n",
       "</table>\n",
       "<p>3643 rows × 6 columns</p>\n",
       "</div>"
      ],
      "text/plain": [
       "                 name           category  row_id  ingredient_number  \\\n",
       "0             Gauguin  Cocktail Classics       1                  1   \n",
       "1             Gauguin  Cocktail Classics       1                  2   \n",
       "2             Gauguin  Cocktail Classics       1                  3   \n",
       "3             Gauguin  Cocktail Classics       1                  4   \n",
       "4     Fort Lauderdale  Cocktail Classics       2                  1   \n",
       "...               ...                ...     ...                ...   \n",
       "3638   Vow Of Silence                Gin     990                  2   \n",
       "3639   Vow Of Silence                Gin     990                  3   \n",
       "3640   Vow Of Silence                Gin     990                  4   \n",
       "3641   Vow Of Silence                Gin     990                  5   \n",
       "3642   Vow Of Silence                Gin     990                  6   \n",
       "\n",
       "               ingredient   measure  \n",
       "0               Light Rum      2 oz  \n",
       "1     Passion Fruit Syrup      1 oz  \n",
       "2             Lemon Juice      1 oz  \n",
       "3              Lime Juice      1 oz  \n",
       "4               Light Rum  1 1/2 oz  \n",
       "...                   ...       ...  \n",
       "3638     Grapefruit Juice    3/4 oz  \n",
       "3639     Fresh Lime Juice    1/2 oz  \n",
       "3640    Yellow Chartreuse    1/2 oz  \n",
       "3641                Amaro    1/4 oz  \n",
       "3642         Simple Syrup    1/4 oz  \n",
       "\n",
       "[3643 rows x 6 columns]"
      ]
     },
     "execution_count": 28,
     "metadata": {},
     "output_type": "execute_result"
    }
   ],
   "source": [
    "url = \"https://raw.githubusercontent.com/rfordatascience/tidytuesday/master/data/2020/2020-05-26/boston_cocktails.csv\"\n",
    "df = pd.read_csv(url)\n",
    "original_data = df.copy()\n",
    "df"
   ]
  },
  {
   "cell_type": "code",
   "execution_count": 29,
   "id": "dad797b2-5c25-4593-a75a-ece0a6f806f3",
   "metadata": {},
   "outputs": [
    {
     "data": {
      "text/html": [
       "<div>\n",
       "<style scoped>\n",
       "    .dataframe tbody tr th:only-of-type {\n",
       "        vertical-align: middle;\n",
       "    }\n",
       "\n",
       "    .dataframe tbody tr th {\n",
       "        vertical-align: top;\n",
       "    }\n",
       "\n",
       "    .dataframe thead th {\n",
       "        text-align: right;\n",
       "    }\n",
       "</style>\n",
       "<table border=\"1\" class=\"dataframe\">\n",
       "  <thead>\n",
       "    <tr style=\"text-align: right;\">\n",
       "      <th></th>\n",
       "      <th>row_id</th>\n",
       "      <th>ingredient_number</th>\n",
       "    </tr>\n",
       "  </thead>\n",
       "  <tbody>\n",
       "    <tr>\n",
       "      <th>count</th>\n",
       "      <td>3643.000000</td>\n",
       "      <td>3643.000000</td>\n",
       "    </tr>\n",
       "    <tr>\n",
       "      <th>mean</th>\n",
       "      <td>505.101016</td>\n",
       "      <td>2.546253</td>\n",
       "    </tr>\n",
       "    <tr>\n",
       "      <th>std</th>\n",
       "      <td>284.396008</td>\n",
       "      <td>1.315743</td>\n",
       "    </tr>\n",
       "    <tr>\n",
       "      <th>min</th>\n",
       "      <td>1.000000</td>\n",
       "      <td>1.000000</td>\n",
       "    </tr>\n",
       "    <tr>\n",
       "      <th>25%</th>\n",
       "      <td>264.500000</td>\n",
       "      <td>1.000000</td>\n",
       "    </tr>\n",
       "    <tr>\n",
       "      <th>50%</th>\n",
       "      <td>502.000000</td>\n",
       "      <td>2.000000</td>\n",
       "    </tr>\n",
       "    <tr>\n",
       "      <th>75%</th>\n",
       "      <td>753.500000</td>\n",
       "      <td>3.000000</td>\n",
       "    </tr>\n",
       "    <tr>\n",
       "      <th>max</th>\n",
       "      <td>990.000000</td>\n",
       "      <td>6.000000</td>\n",
       "    </tr>\n",
       "  </tbody>\n",
       "</table>\n",
       "</div>"
      ],
      "text/plain": [
       "            row_id  ingredient_number\n",
       "count  3643.000000        3643.000000\n",
       "mean    505.101016           2.546253\n",
       "std     284.396008           1.315743\n",
       "min       1.000000           1.000000\n",
       "25%     264.500000           1.000000\n",
       "50%     502.000000           2.000000\n",
       "75%     753.500000           3.000000\n",
       "max     990.000000           6.000000"
      ]
     },
     "execution_count": 29,
     "metadata": {},
     "output_type": "execute_result"
    }
   ],
   "source": [
    "df.describe()"
   ]
  },
  {
   "cell_type": "code",
   "execution_count": 30,
   "id": "2846def1",
   "metadata": {},
   "outputs": [
    {
     "data": {
      "text/plain": [
       "array(['2 oz', '1 oz', '1 1/2 oz', '1/2 oz', '1/4 oz', '3 oz', '1 1/4 oz',\n",
       "       '3/4 oz', '2 1/2 oz', '5 oz', '1', '1 dash', '1 2/3 oz', '1/3 oz',\n",
       "       '4 oz', '6', '1 3/4 oz', '1/2 or 1', '2 1/4 oz', '5 or 6', '6 oz',\n",
       "       'For glass', '1/2 tsp', '24 oz', '1c', '1 tsp', '2 bottles', '2',\n",
       "       '2 750-ml', '25', '5', '1 750-ml', '3 slices', '16 oz', '6 Fresh',\n",
       "       '7', '2 -  3 drops', 'splash', '12', '2 dashes', '1  3/4 oz',\n",
       "       '1 splash'], dtype=object)"
      ]
     },
     "execution_count": 30,
     "metadata": {},
     "output_type": "execute_result"
    }
   ],
   "source": [
    "df['measure'].unique()\n"
   ]
  },
  {
   "cell_type": "code",
   "execution_count": 31,
   "id": "44e47720-c051-49a0-84e8-c9d75bce8e2d",
   "metadata": {},
   "outputs": [
    {
     "data": {
      "text/plain": [
       "name                 0\n",
       "category             0\n",
       "row_id               0\n",
       "ingredient_number    0\n",
       "ingredient           0\n",
       "measure              0\n",
       "dtype: int64"
      ]
     },
     "execution_count": 31,
     "metadata": {},
     "output_type": "execute_result"
    }
   ],
   "source": [
    "df.isna().sum()"
   ]
  },
  {
   "cell_type": "code",
   "execution_count": 32,
   "id": "14af11fc-2c0e-48fe-9114-780d46a130eb",
   "metadata": {},
   "outputs": [
    {
     "data": {
      "text/plain": [
       "0"
      ]
     },
     "execution_count": 32,
     "metadata": {},
     "output_type": "execute_result"
    }
   ],
   "source": [
    "duplicates = df.duplicated()\n",
    "duplicates.sum()"
   ]
  },
  {
   "cell_type": "code",
   "execution_count": 33,
   "id": "f0f5cb65-bf7f-4aa1-af15-4304a11e36a1",
   "metadata": {},
   "outputs": [
    {
     "data": {
      "text/plain": [
       "0"
      ]
     },
     "execution_count": 33,
     "metadata": {},
     "output_type": "execute_result"
    }
   ],
   "source": [
    "df = df.drop_duplicates()\n",
    "duplicates = df.duplicated()\n",
    "duplicates.sum()"
   ]
  },
  {
   "cell_type": "code",
   "execution_count": 34,
   "id": "407f136d-3e89-44fa-bf7e-2d5f55e1aba4",
   "metadata": {},
   "outputs": [
    {
     "data": {
      "text/html": [
       "<div>\n",
       "<style scoped>\n",
       "    .dataframe tbody tr th:only-of-type {\n",
       "        vertical-align: middle;\n",
       "    }\n",
       "\n",
       "    .dataframe tbody tr th {\n",
       "        vertical-align: top;\n",
       "    }\n",
       "\n",
       "    .dataframe thead th {\n",
       "        text-align: right;\n",
       "    }\n",
       "</style>\n",
       "<table border=\"1\" class=\"dataframe\">\n",
       "  <thead>\n",
       "    <tr style=\"text-align: right;\">\n",
       "      <th></th>\n",
       "      <th>name</th>\n",
       "      <th>ingredient</th>\n",
       "    </tr>\n",
       "  </thead>\n",
       "  <tbody>\n",
       "    <tr>\n",
       "      <th>0</th>\n",
       "      <td>Gauguin</td>\n",
       "      <td>Light Rum</td>\n",
       "    </tr>\n",
       "    <tr>\n",
       "      <th>1</th>\n",
       "      <td>Gauguin</td>\n",
       "      <td>Passion Fruit Syrup</td>\n",
       "    </tr>\n",
       "    <tr>\n",
       "      <th>2</th>\n",
       "      <td>Gauguin</td>\n",
       "      <td>Lemon Juice</td>\n",
       "    </tr>\n",
       "    <tr>\n",
       "      <th>3</th>\n",
       "      <td>Gauguin</td>\n",
       "      <td>Lime Juice</td>\n",
       "    </tr>\n",
       "    <tr>\n",
       "      <th>4</th>\n",
       "      <td>Fort Lauderdale</td>\n",
       "      <td>Light Rum</td>\n",
       "    </tr>\n",
       "    <tr>\n",
       "      <th>...</th>\n",
       "      <td>...</td>\n",
       "      <td>...</td>\n",
       "    </tr>\n",
       "    <tr>\n",
       "      <th>3638</th>\n",
       "      <td>Vow Of Silence</td>\n",
       "      <td>Grapefruit Juice</td>\n",
       "    </tr>\n",
       "    <tr>\n",
       "      <th>3639</th>\n",
       "      <td>Vow Of Silence</td>\n",
       "      <td>Fresh Lime Juice</td>\n",
       "    </tr>\n",
       "    <tr>\n",
       "      <th>3640</th>\n",
       "      <td>Vow Of Silence</td>\n",
       "      <td>Yellow Chartreuse</td>\n",
       "    </tr>\n",
       "    <tr>\n",
       "      <th>3641</th>\n",
       "      <td>Vow Of Silence</td>\n",
       "      <td>Amaro</td>\n",
       "    </tr>\n",
       "    <tr>\n",
       "      <th>3642</th>\n",
       "      <td>Vow Of Silence</td>\n",
       "      <td>Simple Syrup</td>\n",
       "    </tr>\n",
       "  </tbody>\n",
       "</table>\n",
       "<p>3643 rows × 2 columns</p>\n",
       "</div>"
      ],
      "text/plain": [
       "                 name           ingredient\n",
       "0             Gauguin            Light Rum\n",
       "1             Gauguin  Passion Fruit Syrup\n",
       "2             Gauguin          Lemon Juice\n",
       "3             Gauguin           Lime Juice\n",
       "4     Fort Lauderdale            Light Rum\n",
       "...               ...                  ...\n",
       "3638   Vow Of Silence     Grapefruit Juice\n",
       "3639   Vow Of Silence     Fresh Lime Juice\n",
       "3640   Vow Of Silence    Yellow Chartreuse\n",
       "3641   Vow Of Silence                Amaro\n",
       "3642   Vow Of Silence         Simple Syrup\n",
       "\n",
       "[3643 rows x 2 columns]"
      ]
     },
     "execution_count": 34,
     "metadata": {},
     "output_type": "execute_result"
    }
   ],
   "source": [
    "cols_to_keep = ['name', 'ingredient',]\n",
    "df = df[cols_to_keep]\n",
    "df"
   ]
  },
  {
   "cell_type": "code",
   "execution_count": 35,
   "id": "c3f54519-6b7d-41b9-aae3-7c93a43b8306",
   "metadata": {},
   "outputs": [],
   "source": [
    "# counts = df['ingredient'].value_counts()\n",
    "# df.plot.hist(x='ingredient', y=counts, bins=50, title='Counts of Ingredients')\n",
    "# plt.show()"
   ]
  },
  {
   "cell_type": "code",
   "execution_count": 36,
   "id": "09704426",
   "metadata": {},
   "outputs": [
    {
     "data": {
      "text/plain": [
       "Gin                                       176\n",
       "Fresh lemon juice                         138\n",
       "Simple Syrup                              115\n",
       "Vodka                                     114\n",
       "Light Rum                                 113\n",
       "                                         ... \n",
       "Lemon or Orange Sherbet                     1\n",
       "Wide spiral of lemon zest                   1\n",
       "Sparkling wine, raspberry and cucumber      1\n",
       "Acai berry flavored vodka                   1\n",
       "Apple Flavored Brandy                       1\n",
       "Name: ingredient, Length: 569, dtype: int64"
      ]
     },
     "execution_count": 36,
     "metadata": {},
     "output_type": "execute_result"
    }
   ],
   "source": [
    "top_ten_ingredients = df['ingredient'].value_counts()\n",
    "top_ten_ingredients"
   ]
  },
  {
   "cell_type": "code",
   "execution_count": 37,
   "id": "6866497f",
   "metadata": {
    "scrolled": false
   },
   "outputs": [
    {
     "data": {
      "image/png": "[encoded data removed]",
      "text/plain": [
       "<Figure size 1440x432 with 1 Axes>"
      ]
     },
     "metadata": {
      "needs_background": "light"
     },
     "output_type": "display_data"
    }
   ],
   "source": [
    "plt.figure(figsize=(20, 6)) \n",
    "\n",
    "plt.bar(top_ten_ingredients.index, top_ten_ingredients.values)\n",
    "plt.title(\"Count of Ingredients\")\n",
    "plt.xlabel(\"Ingredient Name\")\n",
    "plt.ylabel(\"Count\") \n",
    "plt.xticks(rotation=90)\n",
    "plt.show()"
   ]
  },
  {
   "cell_type": "code",
   "execution_count": 38,
   "id": "8df0cb24-4dba-46c4-a6b2-bbbaf4f2a369",
   "metadata": {},
   "outputs": [
    {
     "data": {
      "text/html": [
       "<div>\n",
       "<style scoped>\n",
       "    .dataframe tbody tr th:only-of-type {\n",
       "        vertical-align: middle;\n",
       "    }\n",
       "\n",
       "    .dataframe tbody tr th {\n",
       "        vertical-align: top;\n",
       "    }\n",
       "\n",
       "    .dataframe thead th {\n",
       "        text-align: right;\n",
       "    }\n",
       "</style>\n",
       "<table border=\"1\" class=\"dataframe\">\n",
       "  <thead>\n",
       "    <tr style=\"text-align: right;\">\n",
       "      <th></th>\n",
       "      <th>ingredient_100-proof Vodka</th>\n",
       "      <th>ingredient_151-Proof Rum</th>\n",
       "      <th>ingredient_17-year-old J. Wray and Nephew Ltd. Rum</th>\n",
       "      <th>ingredient_7-Up</th>\n",
       "      <th>ingredient_Absinthe</th>\n",
       "      <th>ingredient_Absinthe Substitute</th>\n",
       "      <th>ingredient_Absinthe or pastis</th>\n",
       "      <th>ingredient_Acai berry flavored vodka</th>\n",
       "      <th>ingredient_African rum</th>\n",
       "      <th>ingredient_Agave nectar</th>\n",
       "      <th>...</th>\n",
       "      <th>ingredient_orgeat or almond syrup</th>\n",
       "      <th>ingredient_pineapple</th>\n",
       "      <th>ingredient_pomegranate molasses (available at Middle Eastern grocers)</th>\n",
       "      <th>ingredient_port</th>\n",
       "      <th>ingredient_powdered sugar</th>\n",
       "      <th>ingredient_red wine</th>\n",
       "      <th>ingredient_springs mint</th>\n",
       "      <th>ingredient_sweet vermouth</th>\n",
       "      <th>ingredient_thin Peeled fresh ginger</th>\n",
       "      <th>ingredient_tiki bitters, such as Bittermen's Elemakule</th>\n",
       "    </tr>\n",
       "  </thead>\n",
       "  <tbody>\n",
       "    <tr>\n",
       "      <th>0</th>\n",
       "      <td>0</td>\n",
       "      <td>0</td>\n",
       "      <td>0</td>\n",
       "      <td>0</td>\n",
       "      <td>0</td>\n",
       "      <td>0</td>\n",
       "      <td>0</td>\n",
       "      <td>0</td>\n",
       "      <td>0</td>\n",
       "      <td>0</td>\n",
       "      <td>...</td>\n",
       "      <td>0</td>\n",
       "      <td>0</td>\n",
       "      <td>0</td>\n",
       "      <td>0</td>\n",
       "      <td>0</td>\n",
       "      <td>0</td>\n",
       "      <td>0</td>\n",
       "      <td>0</td>\n",
       "      <td>0</td>\n",
       "      <td>0</td>\n",
       "    </tr>\n",
       "    <tr>\n",
       "      <th>1</th>\n",
       "      <td>0</td>\n",
       "      <td>0</td>\n",
       "      <td>0</td>\n",
       "      <td>0</td>\n",
       "      <td>0</td>\n",
       "      <td>0</td>\n",
       "      <td>0</td>\n",
       "      <td>0</td>\n",
       "      <td>0</td>\n",
       "      <td>0</td>\n",
       "      <td>...</td>\n",
       "      <td>0</td>\n",
       "      <td>0</td>\n",
       "      <td>0</td>\n",
       "      <td>0</td>\n",
       "      <td>0</td>\n",
       "      <td>0</td>\n",
       "      <td>0</td>\n",
       "      <td>0</td>\n",
       "      <td>0</td>\n",
       "      <td>0</td>\n",
       "    </tr>\n",
       "    <tr>\n",
       "      <th>2</th>\n",
       "      <td>0</td>\n",
       "      <td>0</td>\n",
       "      <td>0</td>\n",
       "      <td>0</td>\n",
       "      <td>0</td>\n",
       "      <td>0</td>\n",
       "      <td>0</td>\n",
       "      <td>0</td>\n",
       "      <td>0</td>\n",
       "      <td>0</td>\n",
       "      <td>...</td>\n",
       "      <td>0</td>\n",
       "      <td>0</td>\n",
       "      <td>0</td>\n",
       "      <td>0</td>\n",
       "      <td>0</td>\n",
       "      <td>0</td>\n",
       "      <td>0</td>\n",
       "      <td>0</td>\n",
       "      <td>0</td>\n",
       "      <td>0</td>\n",
       "    </tr>\n",
       "    <tr>\n",
       "      <th>3</th>\n",
       "      <td>0</td>\n",
       "      <td>0</td>\n",
       "      <td>0</td>\n",
       "      <td>0</td>\n",
       "      <td>0</td>\n",
       "      <td>0</td>\n",
       "      <td>0</td>\n",
       "      <td>0</td>\n",
       "      <td>0</td>\n",
       "      <td>0</td>\n",
       "      <td>...</td>\n",
       "      <td>0</td>\n",
       "      <td>0</td>\n",
       "      <td>0</td>\n",
       "      <td>0</td>\n",
       "      <td>0</td>\n",
       "      <td>0</td>\n",
       "      <td>0</td>\n",
       "      <td>0</td>\n",
       "      <td>0</td>\n",
       "      <td>0</td>\n",
       "    </tr>\n",
       "    <tr>\n",
       "      <th>4</th>\n",
       "      <td>0</td>\n",
       "      <td>0</td>\n",
       "      <td>0</td>\n",
       "      <td>0</td>\n",
       "      <td>0</td>\n",
       "      <td>0</td>\n",
       "      <td>0</td>\n",
       "      <td>0</td>\n",
       "      <td>0</td>\n",
       "      <td>0</td>\n",
       "      <td>...</td>\n",
       "      <td>0</td>\n",
       "      <td>0</td>\n",
       "      <td>0</td>\n",
       "      <td>0</td>\n",
       "      <td>0</td>\n",
       "      <td>0</td>\n",
       "      <td>0</td>\n",
       "      <td>0</td>\n",
       "      <td>0</td>\n",
       "      <td>0</td>\n",
       "    </tr>\n",
       "  </tbody>\n",
       "</table>\n",
       "<p>5 rows × 569 columns</p>\n",
       "</div>"
      ],
      "text/plain": [
       "   ingredient_100-proof Vodka  ingredient_151-Proof Rum  \\\n",
       "0                           0                         0   \n",
       "1                           0                         0   \n",
       "2                           0                         0   \n",
       "3                           0                         0   \n",
       "4                           0                         0   \n",
       "\n",
       "   ingredient_17-year-old J. Wray and Nephew Ltd. Rum  ingredient_7-Up  \\\n",
       "0                                                  0                 0   \n",
       "1                                                  0                 0   \n",
       "2                                                  0                 0   \n",
       "3                                                  0                 0   \n",
       "4                                                  0                 0   \n",
       "\n",
       "   ingredient_Absinthe  ingredient_Absinthe Substitute  \\\n",
       "0                    0                               0   \n",
       "1                    0                               0   \n",
       "2                    0                               0   \n",
       "3                    0                               0   \n",
       "4                    0                               0   \n",
       "\n",
       "   ingredient_Absinthe or pastis  ingredient_Acai berry flavored vodka  \\\n",
       "0                              0                                     0   \n",
       "1                              0                                     0   \n",
       "2                              0                                     0   \n",
       "3                              0                                     0   \n",
       "4                              0                                     0   \n",
       "\n",
       "   ingredient_African rum  ingredient_Agave nectar  ...  \\\n",
       "0                       0                        0  ...   \n",
       "1                       0                        0  ...   \n",
       "2                       0                        0  ...   \n",
       "3                       0                        0  ...   \n",
       "4                       0                        0  ...   \n",
       "\n",
       "   ingredient_orgeat or almond syrup  ingredient_pineapple  \\\n",
       "0                                  0                     0   \n",
       "1                                  0                     0   \n",
       "2                                  0                     0   \n",
       "3                                  0                     0   \n",
       "4                                  0                     0   \n",
       "\n",
       "   ingredient_pomegranate molasses (available at Middle Eastern grocers)  \\\n",
       "0                                                  0                       \n",
       "1                                                  0                       \n",
       "2                                                  0                       \n",
       "3                                                  0                       \n",
       "4                                                  0                       \n",
       "\n",
       "   ingredient_port  ingredient_powdered sugar  ingredient_red wine  \\\n",
       "0                0                          0                    0   \n",
       "1                0                          0                    0   \n",
       "2                0                          0                    0   \n",
       "3                0                          0                    0   \n",
       "4                0                          0                    0   \n",
       "\n",
       "   ingredient_springs mint  ingredient_sweet vermouth  \\\n",
       "0                        0                          0   \n",
       "1                        0                          0   \n",
       "2                        0                          0   \n",
       "3                        0                          0   \n",
       "4                        0                          0   \n",
       "\n",
       "   ingredient_thin Peeled fresh ginger  \\\n",
       "0                                    0   \n",
       "1                                    0   \n",
       "2                                    0   \n",
       "3                                    0   \n",
       "4                                    0   \n",
       "\n",
       "   ingredient_tiki bitters, such as Bittermen's Elemakule  \n",
       "0                                                  0       \n",
       "1                                                  0       \n",
       "2                                                  0       \n",
       "3                                                  0       \n",
       "4                                                  0       \n",
       "\n",
       "[5 rows x 569 columns]"
      ]
     },
     "execution_count": 38,
     "metadata": {},
     "output_type": "execute_result"
    }
   ],
   "source": [
    "dummies = pd.get_dummies(df[['ingredient']])\n",
    "dummies = dummies.astype(int)\n",
    "dummies.head()"
   ]
  },
  {
   "cell_type": "code",
   "execution_count": 39,
   "id": "cf9c8a60-23bc-4f63-a5ec-2804446f7156",
   "metadata": {},
   "outputs": [],
   "source": [
    "# # Assuming 'dummies' is your DataFrame with numeric variables\n",
    "# # Calculate the correlation matrix\n",
    "# corr = dummies.corr()\n",
    "\n",
    "# # Create a heatmap using seaborn\n",
    "# plt.figure(figsize=(10, 8))  # You can adjust the figure size as needed\n",
    "# sns.heatmap(corr, \n",
    "#             xticklabels=corr.columns, \n",
    "#             yticklabels=corr.columns, \n",
    "#             cmap='coolwarm', \n",
    "#             annot=True, \n",
    "#             fmt=\".2f\", \n",
    "#             linewidths=.5)\n",
    "\n",
    "# # Show the plot\n",
    "# plt.show()"
   ]
  },
  {
   "cell_type": "code",
   "execution_count": 40,
   "id": "5e1b70df-8868-4a96-9830-634e49320e69",
   "metadata": {},
   "outputs": [
    {
     "data": {
      "text/html": [
       "<div>\n",
       "<style scoped>\n",
       "    .dataframe tbody tr th:only-of-type {\n",
       "        vertical-align: middle;\n",
       "    }\n",
       "\n",
       "    .dataframe tbody tr th {\n",
       "        vertical-align: top;\n",
       "    }\n",
       "\n",
       "    .dataframe thead th {\n",
       "        text-align: right;\n",
       "    }\n",
       "</style>\n",
       "<table border=\"1\" class=\"dataframe\">\n",
       "  <thead>\n",
       "    <tr style=\"text-align: right;\">\n",
       "      <th></th>\n",
       "      <th>name</th>\n",
       "      <th>ingredient_100-proof Vodka</th>\n",
       "      <th>ingredient_151-Proof Rum</th>\n",
       "      <th>ingredient_17-year-old J. Wray and Nephew Ltd. Rum</th>\n",
       "      <th>ingredient_7-Up</th>\n",
       "      <th>ingredient_Absinthe</th>\n",
       "      <th>ingredient_Absinthe Substitute</th>\n",
       "      <th>ingredient_Absinthe or pastis</th>\n",
       "      <th>ingredient_Acai berry flavored vodka</th>\n",
       "      <th>ingredient_African rum</th>\n",
       "      <th>...</th>\n",
       "      <th>ingredient_orgeat or almond syrup</th>\n",
       "      <th>ingredient_pineapple</th>\n",
       "      <th>ingredient_pomegranate molasses (available at Middle Eastern grocers)</th>\n",
       "      <th>ingredient_port</th>\n",
       "      <th>ingredient_powdered sugar</th>\n",
       "      <th>ingredient_red wine</th>\n",
       "      <th>ingredient_springs mint</th>\n",
       "      <th>ingredient_sweet vermouth</th>\n",
       "      <th>ingredient_thin Peeled fresh ginger</th>\n",
       "      <th>ingredient_tiki bitters, such as Bittermen's Elemakule</th>\n",
       "    </tr>\n",
       "  </thead>\n",
       "  <tbody>\n",
       "    <tr>\n",
       "      <th>0</th>\n",
       "      <td>1626</td>\n",
       "      <td>0</td>\n",
       "      <td>0</td>\n",
       "      <td>0</td>\n",
       "      <td>0</td>\n",
       "      <td>0</td>\n",
       "      <td>0</td>\n",
       "      <td>0</td>\n",
       "      <td>0</td>\n",
       "      <td>0</td>\n",
       "      <td>...</td>\n",
       "      <td>0</td>\n",
       "      <td>0</td>\n",
       "      <td>0</td>\n",
       "      <td>0</td>\n",
       "      <td>0</td>\n",
       "      <td>0</td>\n",
       "      <td>0</td>\n",
       "      <td>0</td>\n",
       "      <td>0</td>\n",
       "      <td>0</td>\n",
       "    </tr>\n",
       "    <tr>\n",
       "      <th>1</th>\n",
       "      <td>19th Century</td>\n",
       "      <td>0</td>\n",
       "      <td>0</td>\n",
       "      <td>0</td>\n",
       "      <td>0</td>\n",
       "      <td>0</td>\n",
       "      <td>0</td>\n",
       "      <td>0</td>\n",
       "      <td>0</td>\n",
       "      <td>0</td>\n",
       "      <td>...</td>\n",
       "      <td>0</td>\n",
       "      <td>0</td>\n",
       "      <td>0</td>\n",
       "      <td>0</td>\n",
       "      <td>0</td>\n",
       "      <td>0</td>\n",
       "      <td>0</td>\n",
       "      <td>0</td>\n",
       "      <td>0</td>\n",
       "      <td>0</td>\n",
       "    </tr>\n",
       "    <tr>\n",
       "      <th>2</th>\n",
       "      <td>A. J.</td>\n",
       "      <td>0</td>\n",
       "      <td>0</td>\n",
       "      <td>0</td>\n",
       "      <td>0</td>\n",
       "      <td>0</td>\n",
       "      <td>0</td>\n",
       "      <td>0</td>\n",
       "      <td>0</td>\n",
       "      <td>0</td>\n",
       "      <td>...</td>\n",
       "      <td>0</td>\n",
       "      <td>0</td>\n",
       "      <td>0</td>\n",
       "      <td>0</td>\n",
       "      <td>0</td>\n",
       "      <td>0</td>\n",
       "      <td>0</td>\n",
       "      <td>0</td>\n",
       "      <td>0</td>\n",
       "      <td>0</td>\n",
       "    </tr>\n",
       "    <tr>\n",
       "      <th>3</th>\n",
       "      <td>Absinthe Cocktail</td>\n",
       "      <td>0</td>\n",
       "      <td>0</td>\n",
       "      <td>0</td>\n",
       "      <td>0</td>\n",
       "      <td>0</td>\n",
       "      <td>1</td>\n",
       "      <td>0</td>\n",
       "      <td>0</td>\n",
       "      <td>0</td>\n",
       "      <td>...</td>\n",
       "      <td>0</td>\n",
       "      <td>0</td>\n",
       "      <td>0</td>\n",
       "      <td>0</td>\n",
       "      <td>0</td>\n",
       "      <td>0</td>\n",
       "      <td>0</td>\n",
       "      <td>0</td>\n",
       "      <td>0</td>\n",
       "      <td>0</td>\n",
       "    </tr>\n",
       "    <tr>\n",
       "      <th>4</th>\n",
       "      <td>Absinthe Drip Cocktail</td>\n",
       "      <td>0</td>\n",
       "      <td>0</td>\n",
       "      <td>0</td>\n",
       "      <td>0</td>\n",
       "      <td>0</td>\n",
       "      <td>0</td>\n",
       "      <td>0</td>\n",
       "      <td>0</td>\n",
       "      <td>0</td>\n",
       "      <td>...</td>\n",
       "      <td>0</td>\n",
       "      <td>0</td>\n",
       "      <td>0</td>\n",
       "      <td>0</td>\n",
       "      <td>0</td>\n",
       "      <td>0</td>\n",
       "      <td>0</td>\n",
       "      <td>0</td>\n",
       "      <td>0</td>\n",
       "      <td>0</td>\n",
       "    </tr>\n",
       "    <tr>\n",
       "      <th>...</th>\n",
       "      <td>...</td>\n",
       "      <td>...</td>\n",
       "      <td>...</td>\n",
       "      <td>...</td>\n",
       "      <td>...</td>\n",
       "      <td>...</td>\n",
       "      <td>...</td>\n",
       "      <td>...</td>\n",
       "      <td>...</td>\n",
       "      <td>...</td>\n",
       "      <td>...</td>\n",
       "      <td>...</td>\n",
       "      <td>...</td>\n",
       "      <td>...</td>\n",
       "      <td>...</td>\n",
       "      <td>...</td>\n",
       "      <td>...</td>\n",
       "      <td>...</td>\n",
       "      <td>...</td>\n",
       "      <td>...</td>\n",
       "      <td>...</td>\n",
       "    </tr>\n",
       "    <tr>\n",
       "      <th>984</th>\n",
       "      <td>Yokahama Romance</td>\n",
       "      <td>0</td>\n",
       "      <td>0</td>\n",
       "      <td>0</td>\n",
       "      <td>0</td>\n",
       "      <td>0</td>\n",
       "      <td>0</td>\n",
       "      <td>0</td>\n",
       "      <td>0</td>\n",
       "      <td>0</td>\n",
       "      <td>...</td>\n",
       "      <td>0</td>\n",
       "      <td>0</td>\n",
       "      <td>0</td>\n",
       "      <td>0</td>\n",
       "      <td>0</td>\n",
       "      <td>0</td>\n",
       "      <td>0</td>\n",
       "      <td>0</td>\n",
       "      <td>0</td>\n",
       "      <td>0</td>\n",
       "    </tr>\n",
       "    <tr>\n",
       "      <th>985</th>\n",
       "      <td>Yolanda</td>\n",
       "      <td>0</td>\n",
       "      <td>0</td>\n",
       "      <td>0</td>\n",
       "      <td>0</td>\n",
       "      <td>0</td>\n",
       "      <td>0</td>\n",
       "      <td>0</td>\n",
       "      <td>0</td>\n",
       "      <td>0</td>\n",
       "      <td>...</td>\n",
       "      <td>0</td>\n",
       "      <td>0</td>\n",
       "      <td>0</td>\n",
       "      <td>0</td>\n",
       "      <td>0</td>\n",
       "      <td>0</td>\n",
       "      <td>0</td>\n",
       "      <td>0</td>\n",
       "      <td>0</td>\n",
       "      <td>0</td>\n",
       "    </tr>\n",
       "    <tr>\n",
       "      <th>986</th>\n",
       "      <td>Zaza Cocktail</td>\n",
       "      <td>0</td>\n",
       "      <td>0</td>\n",
       "      <td>0</td>\n",
       "      <td>0</td>\n",
       "      <td>0</td>\n",
       "      <td>0</td>\n",
       "      <td>0</td>\n",
       "      <td>0</td>\n",
       "      <td>0</td>\n",
       "      <td>...</td>\n",
       "      <td>0</td>\n",
       "      <td>0</td>\n",
       "      <td>0</td>\n",
       "      <td>0</td>\n",
       "      <td>0</td>\n",
       "      <td>0</td>\n",
       "      <td>0</td>\n",
       "      <td>0</td>\n",
       "      <td>0</td>\n",
       "      <td>0</td>\n",
       "    </tr>\n",
       "    <tr>\n",
       "      <th>987</th>\n",
       "      <td>Zero Mint</td>\n",
       "      <td>0</td>\n",
       "      <td>0</td>\n",
       "      <td>0</td>\n",
       "      <td>0</td>\n",
       "      <td>0</td>\n",
       "      <td>0</td>\n",
       "      <td>0</td>\n",
       "      <td>0</td>\n",
       "      <td>0</td>\n",
       "      <td>...</td>\n",
       "      <td>0</td>\n",
       "      <td>0</td>\n",
       "      <td>0</td>\n",
       "      <td>0</td>\n",
       "      <td>0</td>\n",
       "      <td>0</td>\n",
       "      <td>0</td>\n",
       "      <td>0</td>\n",
       "      <td>0</td>\n",
       "      <td>0</td>\n",
       "    </tr>\n",
       "    <tr>\n",
       "      <th>988</th>\n",
       "      <td>Zombie</td>\n",
       "      <td>0</td>\n",
       "      <td>1</td>\n",
       "      <td>0</td>\n",
       "      <td>0</td>\n",
       "      <td>0</td>\n",
       "      <td>0</td>\n",
       "      <td>0</td>\n",
       "      <td>0</td>\n",
       "      <td>0</td>\n",
       "      <td>...</td>\n",
       "      <td>0</td>\n",
       "      <td>0</td>\n",
       "      <td>0</td>\n",
       "      <td>0</td>\n",
       "      <td>0</td>\n",
       "      <td>0</td>\n",
       "      <td>0</td>\n",
       "      <td>0</td>\n",
       "      <td>0</td>\n",
       "      <td>0</td>\n",
       "    </tr>\n",
       "  </tbody>\n",
       "</table>\n",
       "<p>989 rows × 570 columns</p>\n",
       "</div>"
      ],
      "text/plain": [
       "                       name  ingredient_100-proof Vodka  \\\n",
       "0                      1626                           0   \n",
       "1              19th Century                           0   \n",
       "2                     A. J.                           0   \n",
       "3         Absinthe Cocktail                           0   \n",
       "4    Absinthe Drip Cocktail                           0   \n",
       "..                      ...                         ...   \n",
       "984        Yokahama Romance                           0   \n",
       "985                 Yolanda                           0   \n",
       "986           Zaza Cocktail                           0   \n",
       "987               Zero Mint                           0   \n",
       "988                  Zombie                           0   \n",
       "\n",
       "     ingredient_151-Proof Rum  \\\n",
       "0                           0   \n",
       "1                           0   \n",
       "2                           0   \n",
       "3                           0   \n",
       "4                           0   \n",
       "..                        ...   \n",
       "984                         0   \n",
       "985                         0   \n",
       "986                         0   \n",
       "987                         0   \n",
       "988                         1   \n",
       "\n",
       "     ingredient_17-year-old J. Wray and Nephew Ltd. Rum  ingredient_7-Up  \\\n",
       "0                                                    0                 0   \n",
       "1                                                    0                 0   \n",
       "2                                                    0                 0   \n",
       "3                                                    0                 0   \n",
       "4                                                    0                 0   \n",
       "..                                                 ...               ...   \n",
       "984                                                  0                 0   \n",
       "985                                                  0                 0   \n",
       "986                                                  0                 0   \n",
       "987                                                  0                 0   \n",
       "988                                                  0                 0   \n",
       "\n",
       "     ingredient_Absinthe  ingredient_Absinthe Substitute  \\\n",
       "0                      0                               0   \n",
       "1                      0                               0   \n",
       "2                      0                               0   \n",
       "3                      0                               1   \n",
       "4                      0                               0   \n",
       "..                   ...                             ...   \n",
       "984                    0                               0   \n",
       "985                    0                               0   \n",
       "986                    0                               0   \n",
       "987                    0                               0   \n",
       "988                    0                               0   \n",
       "\n",
       "     ingredient_Absinthe or pastis  ingredient_Acai berry flavored vodka  \\\n",
       "0                                0                                     0   \n",
       "1                                0                                     0   \n",
       "2                                0                                     0   \n",
       "3                                0                                     0   \n",
       "4                                0                                     0   \n",
       "..                             ...                                   ...   \n",
       "984                              0                                     0   \n",
       "985                              0                                     0   \n",
       "986                              0                                     0   \n",
       "987                              0                                     0   \n",
       "988                              0                                     0   \n",
       "\n",
       "     ingredient_African rum  ...  ingredient_orgeat or almond syrup  \\\n",
       "0                         0  ...                                  0   \n",
       "1                         0  ...                                  0   \n",
       "2                         0  ...                                  0   \n",
       "3                         0  ...                                  0   \n",
       "4                         0  ...                                  0   \n",
       "..                      ...  ...                                ...   \n",
       "984                       0  ...                                  0   \n",
       "985                       0  ...                                  0   \n",
       "986                       0  ...                                  0   \n",
       "987                       0  ...                                  0   \n",
       "988                       0  ...                                  0   \n",
       "\n",
       "     ingredient_pineapple  \\\n",
       "0                       0   \n",
       "1                       0   \n",
       "2                       0   \n",
       "3                       0   \n",
       "4                       0   \n",
       "..                    ...   \n",
       "984                     0   \n",
       "985                     0   \n",
       "986                     0   \n",
       "987                     0   \n",
       "988                     0   \n",
       "\n",
       "     ingredient_pomegranate molasses (available at Middle Eastern grocers)  \\\n",
       "0                                                    0                       \n",
       "1                                                    0                       \n",
       "2                                                    0                       \n",
       "3                                                    0                       \n",
       "4                                                    0                       \n",
       "..                                                 ...                       \n",
       "984                                                  0                       \n",
       "985                                                  0                       \n",
       "986                                                  0                       \n",
       "987                                                  0                       \n",
       "988                                                  0                       \n",
       "\n",
       "     ingredient_port  ingredient_powdered sugar  ingredient_red wine  \\\n",
       "0                  0                          0                    0   \n",
       "1                  0                          0                    0   \n",
       "2                  0                          0                    0   \n",
       "3                  0                          0                    0   \n",
       "4                  0                          0                    0   \n",
       "..               ...                        ...                  ...   \n",
       "984                0                          0                    0   \n",
       "985                0                          0                    0   \n",
       "986                0                          0                    0   \n",
       "987                0                          0                    0   \n",
       "988                0                          0                    0   \n",
       "\n",
       "     ingredient_springs mint  ingredient_sweet vermouth  \\\n",
       "0                          0                          0   \n",
       "1                          0                          0   \n",
       "2                          0                          0   \n",
       "3                          0                          0   \n",
       "4                          0                          0   \n",
       "..                       ...                        ...   \n",
       "984                        0                          0   \n",
       "985                        0                          0   \n",
       "986                        0                          0   \n",
       "987                        0                          0   \n",
       "988                        0                          0   \n",
       "\n",
       "     ingredient_thin Peeled fresh ginger  \\\n",
       "0                                      0   \n",
       "1                                      0   \n",
       "2                                      0   \n",
       "3                                      0   \n",
       "4                                      0   \n",
       "..                                   ...   \n",
       "984                                    0   \n",
       "985                                    0   \n",
       "986                                    0   \n",
       "987                                    0   \n",
       "988                                    0   \n",
       "\n",
       "     ingredient_tiki bitters, such as Bittermen's Elemakule  \n",
       "0                                                    0       \n",
       "1                                                    0       \n",
       "2                                                    0       \n",
       "3                                                    0       \n",
       "4                                                    0       \n",
       "..                                                 ...       \n",
       "984                                                  0       \n",
       "985                                                  0       \n",
       "986                                                  0       \n",
       "987                                                  0       \n",
       "988                                                  0       \n",
       "\n",
       "[989 rows x 570 columns]"
      ]
     },
     "execution_count": 40,
     "metadata": {},
     "output_type": "execute_result"
    }
   ],
   "source": [
    "one_hot = pd.concat([df[['name']], dummies], axis=1)\n",
    "one_hot = one_hot.groupby(['name']).sum()\n",
    "one_hot.reset_index(inplace=True)\n",
    "one_hot"
   ]
  },
  {
   "cell_type": "code",
   "execution_count": 41,
   "id": "5e52d175",
   "metadata": {},
   "outputs": [],
   "source": [
    "# Assuming all columns except 'name' are numeric\n",
    "numeric_cols = one_hot.columns.drop('name')\n",
    "\n",
    "# # Calculate Z-scores of the numeric data\n",
    "# z_scores = np.abs(stats.zscore(one_hot[numeric_cols]))\n",
    "\n",
    "# # Set a threshold (e.g., 3) for identifying outliers\n",
    "# threshold = 5\n",
    "\n",
    "# # Filter out the outliers - apply the filter to the entire DataFrame\n",
    "# one_hot = one_hot[(z_scores < threshold).all(axis=1)]\n"
   ]
  },
  {
   "cell_type": "code",
   "execution_count": 42,
   "id": "fac758b9-44ca-4b1e-9437-d55f2a97b4af",
   "metadata": {},
   "outputs": [],
   "source": [
    "# names_to_drop = ['No. 8', 'Camino Del Ray', 'Hill Dog', 'Trident', 'Character Development', 'Glogg', 'El Molino', 'El Oso (The Bear)']  # List of names to drop\n",
    "# one_hot = one_hot[~one_hot['name'].isin(names_to_drop)]"
   ]
  },
  {
   "cell_type": "code",
   "execution_count": 43,
   "id": "947442aa-6ac2-42bc-896e-4eacec8111f9",
   "metadata": {},
   "outputs": [],
   "source": [
    "X = one_hot.drop('name', axis=1)\n",
    "Z = linkage(X, method='ward')"
   ]
  },
  {
   "cell_type": "code",
   "execution_count": 44,
   "id": "1267634e-64ee-4289-abf4-c43dfcd4e9a4",
   "metadata": {},
   "outputs": [
    {
     "data": {
      "image/png": "[encoded data removed]",
      "text/plain": [
       "<Figure size 1080x720 with 1 Axes>"
      ]
     },
     "metadata": {
      "needs_background": "light"
     },
     "output_type": "display_data"
    }
   ],
   "source": [
    "plt.figure(figsize=(15, 10))\n",
    "dendrogram(Z, labels=one_hot['name'].values, orientation='left')\n",
    "plt.title('Hierarchical Clustering Dendrogram')\n",
    "plt.xlabel('Cluster Distance')\n",
    "plt.ylabel('Cocktail Name')\n",
    "plt.show()"
   ]
  },
  {
   "cell_type": "code",
   "execution_count": 45,
   "id": "8f32b126-6105-4109-aa27-3f542c778586",
   "metadata": {},
   "outputs": [
    {
     "data": {
      "text/html": [
       "<div>\n",
       "<style scoped>\n",
       "    .dataframe tbody tr th:only-of-type {\n",
       "        vertical-align: middle;\n",
       "    }\n",
       "\n",
       "    .dataframe tbody tr th {\n",
       "        vertical-align: top;\n",
       "    }\n",
       "\n",
       "    .dataframe thead th {\n",
       "        text-align: right;\n",
       "    }\n",
       "</style>\n",
       "<table border=\"1\" class=\"dataframe\">\n",
       "  <thead>\n",
       "    <tr style=\"text-align: right;\">\n",
       "      <th></th>\n",
       "      <th>name</th>\n",
       "      <th>ingredient_100-proof Vodka</th>\n",
       "      <th>ingredient_151-Proof Rum</th>\n",
       "      <th>ingredient_17-year-old J. Wray and Nephew Ltd. Rum</th>\n",
       "      <th>ingredient_7-Up</th>\n",
       "      <th>ingredient_Absinthe</th>\n",
       "      <th>ingredient_Absinthe Substitute</th>\n",
       "      <th>ingredient_Absinthe or pastis</th>\n",
       "      <th>ingredient_Acai berry flavored vodka</th>\n",
       "      <th>ingredient_African rum</th>\n",
       "      <th>...</th>\n",
       "      <th>ingredient_pineapple</th>\n",
       "      <th>ingredient_pomegranate molasses (available at Middle Eastern grocers)</th>\n",
       "      <th>ingredient_port</th>\n",
       "      <th>ingredient_powdered sugar</th>\n",
       "      <th>ingredient_red wine</th>\n",
       "      <th>ingredient_springs mint</th>\n",
       "      <th>ingredient_sweet vermouth</th>\n",
       "      <th>ingredient_thin Peeled fresh ginger</th>\n",
       "      <th>ingredient_tiki bitters, such as Bittermen's Elemakule</th>\n",
       "      <th>Cluster</th>\n",
       "    </tr>\n",
       "  </thead>\n",
       "  <tbody>\n",
       "    <tr>\n",
       "      <th>0</th>\n",
       "      <td>1626</td>\n",
       "      <td>0</td>\n",
       "      <td>0</td>\n",
       "      <td>0</td>\n",
       "      <td>0</td>\n",
       "      <td>0</td>\n",
       "      <td>0</td>\n",
       "      <td>0</td>\n",
       "      <td>0</td>\n",
       "      <td>0</td>\n",
       "      <td>...</td>\n",
       "      <td>0</td>\n",
       "      <td>0</td>\n",
       "      <td>0</td>\n",
       "      <td>0</td>\n",
       "      <td>0</td>\n",
       "      <td>0</td>\n",
       "      <td>0</td>\n",
       "      <td>0</td>\n",
       "      <td>0</td>\n",
       "      <td>0</td>\n",
       "    </tr>\n",
       "    <tr>\n",
       "      <th>1</th>\n",
       "      <td>19th Century</td>\n",
       "      <td>0</td>\n",
       "      <td>0</td>\n",
       "      <td>0</td>\n",
       "      <td>0</td>\n",
       "      <td>0</td>\n",
       "      <td>0</td>\n",
       "      <td>0</td>\n",
       "      <td>0</td>\n",
       "      <td>0</td>\n",
       "      <td>...</td>\n",
       "      <td>0</td>\n",
       "      <td>0</td>\n",
       "      <td>0</td>\n",
       "      <td>0</td>\n",
       "      <td>0</td>\n",
       "      <td>0</td>\n",
       "      <td>0</td>\n",
       "      <td>0</td>\n",
       "      <td>0</td>\n",
       "      <td>0</td>\n",
       "    </tr>\n",
       "    <tr>\n",
       "      <th>2</th>\n",
       "      <td>A. J.</td>\n",
       "      <td>0</td>\n",
       "      <td>0</td>\n",
       "      <td>0</td>\n",
       "      <td>0</td>\n",
       "      <td>0</td>\n",
       "      <td>0</td>\n",
       "      <td>0</td>\n",
       "      <td>0</td>\n",
       "      <td>0</td>\n",
       "      <td>...</td>\n",
       "      <td>0</td>\n",
       "      <td>0</td>\n",
       "      <td>0</td>\n",
       "      <td>0</td>\n",
       "      <td>0</td>\n",
       "      <td>0</td>\n",
       "      <td>0</td>\n",
       "      <td>0</td>\n",
       "      <td>0</td>\n",
       "      <td>0</td>\n",
       "    </tr>\n",
       "    <tr>\n",
       "      <th>3</th>\n",
       "      <td>Absinthe Cocktail</td>\n",
       "      <td>0</td>\n",
       "      <td>0</td>\n",
       "      <td>0</td>\n",
       "      <td>0</td>\n",
       "      <td>0</td>\n",
       "      <td>1</td>\n",
       "      <td>0</td>\n",
       "      <td>0</td>\n",
       "      <td>0</td>\n",
       "      <td>...</td>\n",
       "      <td>0</td>\n",
       "      <td>0</td>\n",
       "      <td>0</td>\n",
       "      <td>0</td>\n",
       "      <td>0</td>\n",
       "      <td>0</td>\n",
       "      <td>0</td>\n",
       "      <td>0</td>\n",
       "      <td>0</td>\n",
       "      <td>0</td>\n",
       "    </tr>\n",
       "    <tr>\n",
       "      <th>4</th>\n",
       "      <td>Absinthe Drip Cocktail</td>\n",
       "      <td>0</td>\n",
       "      <td>0</td>\n",
       "      <td>0</td>\n",
       "      <td>0</td>\n",
       "      <td>0</td>\n",
       "      <td>0</td>\n",
       "      <td>0</td>\n",
       "      <td>0</td>\n",
       "      <td>0</td>\n",
       "      <td>...</td>\n",
       "      <td>0</td>\n",
       "      <td>0</td>\n",
       "      <td>0</td>\n",
       "      <td>0</td>\n",
       "      <td>0</td>\n",
       "      <td>0</td>\n",
       "      <td>0</td>\n",
       "      <td>0</td>\n",
       "      <td>0</td>\n",
       "      <td>0</td>\n",
       "    </tr>\n",
       "  </tbody>\n",
       "</table>\n",
       "<p>5 rows × 571 columns</p>\n",
       "</div>"
      ],
      "text/plain": [
       "                     name  ingredient_100-proof Vodka  \\\n",
       "0                    1626                           0   \n",
       "1            19th Century                           0   \n",
       "2                   A. J.                           0   \n",
       "3       Absinthe Cocktail                           0   \n",
       "4  Absinthe Drip Cocktail                           0   \n",
       "\n",
       "   ingredient_151-Proof Rum  \\\n",
       "0                         0   \n",
       "1                         0   \n",
       "2                         0   \n",
       "3                         0   \n",
       "4                         0   \n",
       "\n",
       "   ingredient_17-year-old J. Wray and Nephew Ltd. Rum  ingredient_7-Up  \\\n",
       "0                                                  0                 0   \n",
       "1                                                  0                 0   \n",
       "2                                                  0                 0   \n",
       "3                                                  0                 0   \n",
       "4                                                  0                 0   \n",
       "\n",
       "   ingredient_Absinthe  ingredient_Absinthe Substitute  \\\n",
       "0                    0                               0   \n",
       "1                    0                               0   \n",
       "2                    0                               0   \n",
       "3                    0                               1   \n",
       "4                    0                               0   \n",
       "\n",
       "   ingredient_Absinthe or pastis  ingredient_Acai berry flavored vodka  \\\n",
       "0                              0                                     0   \n",
       "1                              0                                     0   \n",
       "2                              0                                     0   \n",
       "3                              0                                     0   \n",
       "4                              0                                     0   \n",
       "\n",
       "   ingredient_African rum  ...  ingredient_pineapple  \\\n",
       "0                       0  ...                     0   \n",
       "1                       0  ...                     0   \n",
       "2                       0  ...                     0   \n",
       "3                       0  ...                     0   \n",
       "4                       0  ...                     0   \n",
       "\n",
       "   ingredient_pomegranate molasses (available at Middle Eastern grocers)  \\\n",
       "0                                                  0                       \n",
       "1                                                  0                       \n",
       "2                                                  0                       \n",
       "3                                                  0                       \n",
       "4                                                  0                       \n",
       "\n",
       "   ingredient_port  ingredient_powdered sugar  ingredient_red wine  \\\n",
       "0                0                          0                    0   \n",
       "1                0                          0                    0   \n",
       "2                0                          0                    0   \n",
       "3                0                          0                    0   \n",
       "4                0                          0                    0   \n",
       "\n",
       "   ingredient_springs mint  ingredient_sweet vermouth  \\\n",
       "0                        0                          0   \n",
       "1                        0                          0   \n",
       "2                        0                          0   \n",
       "3                        0                          0   \n",
       "4                        0                          0   \n",
       "\n",
       "   ingredient_thin Peeled fresh ginger  \\\n",
       "0                                    0   \n",
       "1                                    0   \n",
       "2                                    0   \n",
       "3                                    0   \n",
       "4                                    0   \n",
       "\n",
       "   ingredient_tiki bitters, such as Bittermen's Elemakule  Cluster  \n",
       "0                                                  0             0  \n",
       "1                                                  0             0  \n",
       "2                                                  0             0  \n",
       "3                                                  0             0  \n",
       "4                                                  0             0  \n",
       "\n",
       "[5 rows x 571 columns]"
      ]
     },
     "execution_count": 45,
     "metadata": {},
     "output_type": "execute_result"
    }
   ],
   "source": [
    "X = one_hot.drop('name', axis=1)\n",
    "\n",
    "# clusters\n",
    "k = 6\n",
    "kmeans = KMeans(n_clusters=k, random_state=0)\n",
    "kmeans.fit(X)\n",
    "\n",
    "# Use the instance of kmeans to predict\n",
    "clusters = kmeans.predict(X)\n",
    "\n",
    "one_hot = one_hot.copy()  # Ensures that one_hot is a separate copy\n",
    "one_hot['Cluster'] = clusters\n",
    "\n",
    "one_hot.head()\n"
   ]
  },
  {
   "cell_type": "code",
   "execution_count": 59,
   "id": "84ad2d36-00a5-4d0b-a0a5-f0e16df8baf1",
   "metadata": {},
   "outputs": [
    {
     "data": {
      "application/vnd.plotly.v1+json": {
       "config": {
        "plotlyServerURL": "https://plot.ly"
       },
       "data": [
        {
         "customdata": [
          [
           "1626"
          ],
          [
           "19th Century"
          ],
          [
           "A. J."
          ],
          [
           "Absinthe Cocktail"
          ],
          [
           "Absinthe Drip Cocktail"
          ],
          [
           "Absinthe Special Cocktail"
          ],
          [
           "Academic Review"
          ],
          [
           "Acapulco"
          ],
          [
           "Adam and Eve"
          ],
          [
           "Adderly Cocktail"
          ],
          [
           "Admiral Perry"
          ],
          [
           "Affinity Cocktail"
          ],
          [
           "Affinity Cocktail (whisky)"
          ],
          [
           "After Dinner Cocktail"
          ],
          [
           "After Supper Cocktail"
          ],
          [
           "Akogare"
          ],
          [
           "Alamo Splash"
          ],
          [
           "Alexander Cocktail No. 1"
          ],
          [
           "Alexander Cocktail No. 2"
          ],
          [
           "Alexander's Sister Cocktail"
          ],
          [
           "Alfie Cocktail"
          ],
          [
           "Algonquin"
          ],
          [
           "Allegheny"
          ],
          [
           "Allies Cocktail"
          ],
          [
           "Almeria"
          ],
          [
           "Amante Picante"
          ],
          [
           "Amaretto And Cream"
          ],
          [
           "Amaretto Rose"
          ],
          [
           "Amaretto Sour"
          ],
          [
           "Amaretto Stinger"
          ],
          [
           "Amber Amour"
          ],
          [
           "Ambrosia"
          ],
          [
           "American Trilogy"
          ],
          [
           "Americana"
          ],
          [
           "Angel's Share"
          ],
          [
           "Ante"
          ],
          [
           "Antoine Special"
          ],
          [
           "Apple Blow Fizz"
          ],
          [
           "Apple Pie"
          ],
          [
           "Apple Pie Cocktail"
          ],
          [
           "Apple Pie No. 1"
          ],
          [
           "Apple Rum Rickey"
          ],
          [
           "Applecar"
          ],
          [
           "Applejack Punch"
          ],
          [
           "Apricot Anise Collins"
          ],
          [
           "Apricot Anisette Collins"
          ],
          [
           "Apricot Cocktail"
          ],
          [
           "Apricot Lady"
          ],
          [
           "Aquarius"
          ],
          [
           "Aqueduct"
          ],
          [
           "Aunt Jemima"
          ],
          [
           "Autumn Leaves"
          ],
          [
           "Aztec's Mark"
          ],
          [
           "Bacardi Cocktail"
          ],
          [
           "Bachelor's Bait Cocktail"
          ],
          [
           "Back Porch Swizzle"
          ],
          [
           "Baltimore Bracer"
          ],
          [
           "Baltimore Bracer Cocktail"
          ],
          [
           "Barbary Coast Cocktail"
          ],
          [
           "Barnaby's Buffalo Blizzard"
          ],
          [
           "Barton Special"
          ],
          [
           "Basil 8"
          ],
          [
           "Basin Street"
          ],
          [
           "Beals Cocktail"
          ],
          [
           "Beer Buster"
          ],
          [
           "Bella Fragolia"
          ],
          [
           "Bensonhurst"
          ],
          [
           "Bentley"
          ],
          [
           "Bermuda Rose"
          ],
          [
           "Bermuda Rose Cocktail"
          ],
          [
           "Betsy Ross Cocktail"
          ],
          [
           "Between-The-Sheets Cocktail"
          ],
          [
           "Bianca"
          ],
          [
           "Biffy Cocktail"
          ],
          [
           "Big Red Hooter"
          ],
          [
           "Bijou Cocktail"
          ],
          [
           "Bikini"
          ],
          [
           "Billy Taylor"
          ],
          [
           "Bird-of-Paradise Fizz"
          ],
          [
           "Black Cherry Chocolate"
          ],
          [
           "Black Hawk"
          ],
          [
           "Black Hawk Cocktail"
          ],
          [
           "Black Magic"
          ],
          [
           "Black Russian"
          ],
          [
           "Black Velvet"
          ],
          [
           "Blarney Stone Cocktail"
          ],
          [
           "Blood Bronx Cocktail"
          ],
          [
           "Blood and Sand"
          ],
          [
           "Bloodhound Cocktail"
          ],
          [
           "Bloody Bull"
          ],
          [
           "Bloody Maria"
          ],
          [
           "Bloody Mary"
          ],
          [
           "Bloody Scotsman"
          ],
          [
           "Blue Bird"
          ],
          [
           "Blue Canary"
          ],
          [
           "Blue Devil Cocktail"
          ],
          [
           "Blue Lagoon"
          ],
          [
           "Blue Margarita"
          ],
          [
           "Bobby Burns Cocktail"
          ],
          [
           "Bolero Cocktail"
          ],
          [
           "Bolshoi Punch"
          ],
          [
           "Bordeaux Cocktail"
          ],
          [
           "Boston Bullet"
          ],
          [
           "Boston Gold"
          ],
          [
           "Boston Side Car"
          ],
          [
           "Boston Sidecar Cocktail"
          ],
          [
           "Boston Sour"
          ],
          [
           "Bourbon A La Creme"
          ],
          [
           "Bourbon And Elder"
          ],
          [
           "Bourbon Cobbler"
          ],
          [
           "Bourbon Cooler"
          ],
          [
           "Bourbon Crusta"
          ],
          [
           "Bourbon Highball"
          ],
          [
           "Bourbon On The Rocks"
          ],
          [
           "Bourbon Renewal"
          ],
          [
           "Bourbon and Water"
          ],
          [
           "Brandy Alexander"
          ],
          [
           "Brandy Crusta Cocktail"
          ],
          [
           "Brandy Flip"
          ],
          [
           "Brandy Milk Punch"
          ],
          [
           "Brandy Squirt"
          ],
          [
           "Brandy Vermouth Cocktail"
          ],
          [
           "Brandy and Soda"
          ],
          [
           "Brantini"
          ],
          [
           "Brave Bull"
          ],
          [
           "Bravo"
          ],
          [
           "Brighton Punch"
          ],
          [
           "Bronx Cocktail (Dry)"
          ],
          [
           "Bronx Golden Cocktail"
          ],
          [
           "Bronx SIlver Cocktail"
          ],
          [
           "Bronx Terrace Cocktail"
          ],
          [
           "Brooklyn"
          ],
          [
           "Brown Cocktail"
          ],
          [
           "Brunswick Street Cocktail"
          ],
          [
           "Buckjones"
          ],
          [
           "Bucks Fizz"
          ],
          [
           "Bucks Fizz (Mimosa)"
          ],
          [
           "Buddy's Favorite"
          ],
          [
           "Bull And Bear"
          ],
          [
           "Bull Shot"
          ],
          [
           "Bull's Eye"
          ],
          [
           "Bull's Milk"
          ],
          [
           "Bulla's Eye"
          ],
          [
           "Bulldog Cocktail"
          ],
          [
           "Bulldog Highball"
          ],
          [
           "Bulldog Highballl"
          ],
          [
           "Bullfrog"
          ],
          [
           "Bum's Rush"
          ],
          [
           "Bushranger"
          ],
          [
           "Button Hook Cocktail"
          ],
          [
           "Cabaret Cocktail"
          ],
          [
           "Cablegram"
          ],
          [
           "Cablegram Highball"
          ],
          [
           "Cactus Berry"
          ],
          [
           "Cadiz"
          ],
          [
           "Caesar"
          ],
          [
           "Caf_ di Amaretto"
          ],
          [
           "Cafe De Paris Cocktail"
          ],
          [
           "Cafe di Saronno"
          ],
          [
           "Caledonia"
          ],
          [
           "California Lemonade"
          ],
          [
           "Calm Voyage"
          ],
          [
           "Calvados Cocktail"
          ],
          [
           "Cameron's Kick Cocktail"
          ],
          [
           "Camino Del Ray"
          ],
          [
           "Canadian Breeze"
          ],
          [
           "Canadian Cherry"
          ],
          [
           "Canadian Cocktail"
          ],
          [
           "Canadian Pineapple"
          ],
          [
           "Canal Street Daisy"
          ],
          [
           "Cape Codder"
          ],
          [
           "Cappuccino Cocktail"
          ],
          [
           "Cara Sposa"
          ],
          [
           "Caribbean Champagne"
          ],
          [
           "Caribbean Cruise"
          ],
          [
           "Carre Reprise"
          ],
          [
           "Carrol Cocktail"
          ],
          [
           "Carroll Cocktail"
          ],
          [
           "Caruso"
          ],
          [
           "Casa Blanca"
          ],
          [
           "Casco Bay Lemonade"
          ],
          [
           "Catalina Margarita"
          ],
          [
           "Champagne Flamingo"
          ],
          [
           "Champagne Velvet"
          ],
          [
           "Champs Elysees Cocktail"
          ],
          [
           "Chancellor Cocktail"
          ],
          [
           "Chapala"
          ],
          [
           "Chapel Hill"
          ],
          [
           "Chaplin"
          ],
          [
           "Character Development"
          ],
          [
           "Charles Cocktail"
          ],
          [
           "Chas"
          ],
          [
           "Chateau Briand's Rum Cow"
          ],
          [
           "Chef's Pain"
          ],
          [
           "Chelsea Sidecar Cocktail"
          ],
          [
           "Cherry Blossom"
          ],
          [
           "Cherry Blossom Cocktail"
          ],
          [
           "Cherry Cooler"
          ],
          [
           "Cherry Fizz"
          ],
          [
           "Cherry Flip"
          ],
          [
           "Cherry Rum"
          ],
          [
           "Cherry Sling"
          ],
          [
           "Cherry Wine Cocktail"
          ],
          [
           "Chi-Town Flip"
          ],
          [
           "Chicago Cocktail"
          ],
          [
           "Chicago Fizz"
          ],
          [
           "Chinchona"
          ],
          [
           "Chocolate Cocktail"
          ],
          [
           "Chocolate Daisy"
          ],
          [
           "Chocolate Flip"
          ],
          [
           "Chocolate Soldier"
          ],
          [
           "Chocolate Soldier Cocktail"
          ],
          [
           "Chupa Cabra"
          ],
          [
           "Cider Eggnog"
          ],
          [
           "Citronella Cooler"
          ],
          [
           "Clamato Cocktail"
          ],
          [
           "Classic Cocktail"
          ],
          [
           "Clove Cocktail"
          ],
          [
           "Clover Club Cocktail"
          ],
          [
           "Clover Leaf Cocktail"
          ],
          [
           "Coffee Cocktail"
          ],
          [
           "Coffee Flip"
          ],
          [
           "Coffee Grasshopper"
          ],
          [
           "Coffee Old-Fashioned"
          ],
          [
           "Coffee Sour"
          ],
          [
           "Cognac Coupling"
          ],
          [
           "Cognac Highball"
          ],
          [
           "Cold Deck Cocktail"
          ],
          [
           "Cole's Raspberry Cream"
          ],
          [
           "Combo"
          ],
          [
           "Commodore Cocktail"
          ],
          [
           "Company B"
          ],
          [
           "Cool Carlos"
          ],
          [
           "Cornell Cocktail"
          ],
          [
           "Coronation Cocktail"
          ],
          [
           "Corpse Reviver No. 1"
          ],
          [
           "Cosmopolitan"
          ],
          [
           "Cotton Club Flip"
          ],
          [
           "Count Camillo's Paloma"
          ],
          [
           "Cowboy Cocktail"
          ],
          [
           "Creamsicle"
          ],
          [
           "Creamy Orange"
          ],
          [
           "Creamy Screwdriver"
          ],
          [
           "Creme De Cafe"
          ],
          [
           "Creme de Gin Cocktail"
          ],
          [
           "Creole Lady"
          ],
          [
           "Creole Lady Cocktail"
          ],
          [
           "Crocodile Cooler"
          ],
          [
           "Cuban Cocktail No. 1"
          ],
          [
           "Cuban Cocktail No. 2"
          ],
          [
           "Cuban Special Cocktail"
          ],
          [
           "Cubeltini"
          ],
          [
           "D'artagnan"
          ],
          [
           "Daiquiri"
          ],
          [
           "Daiquiri Cocktail"
          ],
          [
           "Daisy Dueller"
          ],
          [
           "De La Louisiane"
          ],
          [
           "Deauville Cocktail"
          ],
          [
           "Delmonico No. 2"
          ],
          [
           "Depth Bomb"
          ],
          [
           "Derby"
          ],
          [
           "Derby Fizz"
          ],
          [
           "Desert Sunrise"
          ],
          [
           "Deshler"
          ],
          [
           "Devil's Cocktail"
          ],
          [
           "Devil's Soul"
          ],
          [
           "Diablo"
          ],
          [
           "Dillatini"
          ],
          [
           "Dillatini Cocktail"
          ],
          [
           "Dinah Cocktail"
          ],
          [
           "Diplomat Cocktail"
          ],
          [
           "Dirty Daisy"
          ],
          [
           "Dirty Harry"
          ],
          [
           "Dixie Cocktail"
          ],
          [
           "Dixie Julep"
          ],
          [
           "Dixie Whiskey Cocktail"
          ],
          [
           "Doctor Cook"
          ],
          [
           "Dolores"
          ],
          [
           "Double Standard Sour"
          ],
          [
           "Dr. Cook"
          ],
          [
           "Dream Cocktail"
          ],
          [
           "Dreamy Dorini Smoking Martini"
          ],
          [
           "Dry Martini"
          ],
          [
           "Dry Martini (5-to-1)"
          ],
          [
           "Du Barry Cocktail"
          ],
          [
           "Dubliner"
          ],
          [
           "Dubonnet Cocktail"
          ],
          [
           "Dubonnet Fizz"
          ],
          [
           "Dubonnet Highball"
          ],
          [
           "Dufftown Flip"
          ],
          [
           "Duke Cocktail"
          ],
          [
           "East India Cocktail No. 1"
          ],
          [
           "Easter Elchies"
          ],
          [
           "Eastern Sour"
          ],
          [
           "Easterner"
          ],
          [
           "Egg Sour"
          ],
          [
           "Eggnog Supreme"
          ],
          [
           "El Molino"
          ],
          [
           "El Ni_o"
          ],
          [
           "El Oso (The Bear)"
          ],
          [
           "El Presidente Cocktail No. 2"
          ],
          [
           "El Profesor"
          ],
          [
           "Electric Jam"
          ],
          [
           "Elk's Own Cocktail"
          ],
          [
           "Emerald Isle Cocktail"
          ],
          [
           "Emperor Norton's Mistress"
          ],
          [
           "Ethel Duffy Cocktail"
          ],
          [
           "Everybody's Irish Cocktail"
          ],
          [
           "Eye-Opener"
          ],
          [
           "Fair-and-Warmer Cocktail"
          ],
          [
           "Fairy Belle Cocktail"
          ],
          [
           "Fallen Angel Cocktail"
          ],
          [
           "Fallen Leaves"
          ],
          [
           "Fancy Brandy"
          ],
          [
           "Fancy Brandy Cocktail"
          ],
          [
           "Fancy Whiskey"
          ],
          [
           "Fancy-Free Cocktail"
          ],
          [
           "Fantasio Cocktail"
          ],
          [
           "Farmer's Cocktail"
          ],
          [
           "Fat Like Buddha"
          ],
          [
           "Favorite Cocktail"
          ],
          [
           "Favourite Cocktail"
          ],
          [
           "Fifty-Fifty Cocktail"
          ],
          [
           "Fireman's Sour"
          ],
          [
           "Flatiron Martini"
          ],
          [
           "Floridita No. 1"
          ],
          [
           "Floridita No. 3"
          ],
          [
           "Flower Power"
          ],
          [
           "Flying Dutchman"
          ],
          [
           "Flying Grasshopper Cocktail"
          ],
          [
           "Flying Scotchman"
          ],
          [
           "Flying Scotchman Cocktail"
          ],
          [
           "Fog Cutter"
          ],
          [
           "Fog Horn"
          ],
          [
           "Fontainebleau Special"
          ],
          [
           "Fort Lauderdale"
          ],
          [
           "Fox River Cocktail"
          ],
          [
           "Francis The Mule"
          ],
          [
           "Frankenjack Cocktail"
          ],
          [
           "Fratelli Cocktail"
          ],
          [
           "Free Silver"
          ],
          [
           "French Martini"
          ],
          [
           "French Quarter"
          ],
          [
           "Frisco Sour"
          ],
          [
           "Frisky Witch"
          ],
          [
           "Frostbite"
          ],
          [
           "Froth Blower Cocktail"
          ],
          [
           "Froupe Cocktail"
          ],
          [
           "Frozen Apple"
          ],
          [
           "Frozen Brandy and Rum"
          ],
          [
           "Gables Collins"
          ],
          [
           "Gaugin"
          ],
          [
           "Gauguin"
          ],
          [
           "General Harrison's Eggnog"
          ],
          [
           "Gentle Ben"
          ],
          [
           "Gentleman's Cocktail"
          ],
          [
           "Georgia Mint Julep"
          ],
          [
           "Georgia Mule"
          ],
          [
           "Georgia Peach"
          ],
          [
           "Gilchrist"
          ],
          [
           "Gilroy Cocktail"
          ],
          [
           "Gimlet"
          ],
          [
           "Gimlet Cocktail"
          ],
          [
           "Gin Cocktail"
          ],
          [
           "Gin Milk Punch"
          ],
          [
           "Gin Sling"
          ],
          [
           "Gin and It"
          ],
          [
           "Gin and Milk Punch"
          ],
          [
           "Ginger Grapefruit Rickey"
          ],
          [
           "Glass Tower"
          ],
          [
           "Glogg"
          ],
          [
           "Gloom Lifter"
          ],
          [
           "Goat's Delight"
          ],
          [
           "God Child"
          ],
          [
           "Godchild"
          ],
          [
           "Godfather"
          ],
          [
           "Godmother"
          ],
          [
           "Golden Dawn"
          ],
          [
           "Golden Eclipse"
          ],
          [
           "Golden Fizz"
          ],
          [
           "Golden Frappe"
          ],
          [
           "Golden Friendship"
          ],
          [
           "Golden Slipper"
          ],
          [
           "Golden Slipper Cocktail"
          ],
          [
           "Goldrush"
          ],
          [
           "Gotham"
          ],
          [
           "Grande Guignol"
          ],
          [
           "Grandfather"
          ],
          [
           "Grape Nehi"
          ],
          [
           "Grape Vodka Froth"
          ],
          [
           "Grapefruit Cocktail"
          ],
          [
           "Grapefruit Gimlet Royale"
          ],
          [
           "Grapefruit Nog"
          ],
          [
           "Grasshopper Cocktail"
          ],
          [
           "Green Devil"
          ],
          [
           "Green Dragon Cocktail"
          ],
          [
           "Green Fizz"
          ],
          [
           "Green Hornet (Dry)"
          ],
          [
           "Green Opal"
          ],
          [
           "Green Opal Cocktail"
          ],
          [
           "Greenback"
          ],
          [
           "Greenpoint"
          ],
          [
           "Grenadine Rickey"
          ],
          [
           "Greyhound"
          ],
          [
           "Grounds For Divorce"
          ],
          [
           "Guadalajara"
          ],
          [
           "H. P. W. Cocktail"
          ],
          [
           "H.P.W. Cocktail"
          ],
          [
           "Hai Karate"
          ],
          [
           "Hair Raiser"
          ],
          [
           "Hair Raiser Cocktail"
          ],
          [
           "Hairy Sunrise"
          ],
          [
           "Handball Cooler"
          ],
          [
           "Harrington"
          ],
          [
           "Harvard Cocktail"
          ],
          [
           "Harvard Cooler"
          ],
          [
           "Harvest Moon"
          ],
          [
           "Harvest Nectar"
          ],
          [
           "Harvey Wallbanger"
          ],
          [
           "Havana Cocktail"
          ],
          [
           "Hawaiin Cocktail"
          ],
          [
           "Headless Horseman"
          ],
          [
           "Heather Blush"
          ],
          [
           "Heather's Kiss"
          ],
          [
           "Heavenly Dram"
          ],
          [
           "Hebrides"
          ],
          [
           "Hemingway's Nog"
          ],
          [
           "Hennessy Martini"
          ],
          [
           "High Cotton"
          ],
          [
           "High Plains Drifter No. 1"
          ],
          [
           "Highland Cooler"
          ],
          [
           "Hill Billy Highball"
          ],
          [
           "Hill Dog"
          ],
          [
           "Hoffman House Cocktail"
          ],
          [
           "Hole-In-One"
          ],
          [
           "Hole-in-One Cocktai"
          ],
          [
           "Hole-in-One Cocktail"
          ],
          [
           "Honeymoon Cocktail"
          ],
          [
           "Hoot Mon Cocktail"
          ],
          [
           "Hop Toad"
          ],
          [
           "Hop Toad Cocktail"
          ],
          [
           "Horse's Neck (With A Kick)"
          ],
          [
           "Hot Brandy Flip"
          ],
          [
           "Hot Pants"
          ],
          [
           "Hot Shot Margarita"
          ],
          [
           "Hotel D'alsace"
          ],
          [
           "Hotel Plaza Cocktail"
          ],
          [
           "Humpty Dumpty"
          ],
          [
           "Huntsman Cocktail"
          ],
          [
           "Hurricane"
          ],
          [
           "Hurricane Leah"
          ],
          [
           "Hush and Wonder"
          ],
          [
           "Hyatt's Jamaican Banana"
          ],
          [
           "I.A.P."
          ],
          [
           "Ibiza"
          ],
          [
           "Ice Cream Flip"
          ],
          [
           "Imperial Fizz"
          ],
          [
           "Incider Cocktail"
          ],
          [
           "Irish Rickey"
          ],
          [
           "Irish Shillelagh"
          ],
          [
           "Irish Whiskey Cocktail"
          ],
          [
           "Irish Whiskey Highball"
          ],
          [
           "Irish Whisky"
          ],
          [
           "Irish Whisky Cocktail"
          ],
          [
           "Irresistible"
          ],
          [
           "Italian Screwdriver"
          ],
          [
           "Jack Maples"
          ],
          [
           "Jack Rose Cocktail"
          ],
          [
           "Jack Sparrow Flip"
          ],
          [
           "Jack-In-The-Box"
          ],
          [
           "Jack-in-the-Box Cocktail"
          ],
          [
           "Jackie-O"
          ],
          [
           "Jacqueline"
          ],
          [
           "Jade"
          ],
          [
           "Jamaica Glow Cocktail"
          ],
          [
           "Jamaica Granito"
          ],
          [
           "Jamaica Hop"
          ],
          [
           "Jamaican Crawler"
          ],
          [
           "Jamaican Ginger"
          ],
          [
           "Japanese"
          ],
          [
           "Japanese Fizz"
          ],
          [
           "Jean Lafitte Cocktail"
          ],
          [
           "Jersey Lightning Cocktail"
          ],
          [
           "Jeyplak Cocktail"
          ],
          [
           "Jinx Cocktail"
          ],
          [
           "Jitterbug Sour"
          ],
          [
           "Jocose Julep"
          ],
          [
           "John Collins"
          ],
          [
           "Jungle Juice"
          ],
          [
           "K. C. B. Cocktail"
          ],
          [
           "K. G. B. Cocktail"
          ],
          [
           "K.C.B. Cocktail"
          ],
          [
           "K.G.B. Cocktail"
          ],
          [
           "Katana"
          ],
          [
           "Kiss the Boys Goodbye"
          ],
          [
           "Knickerbocker Special Cocktail"
          ],
          [
           "Knock-Out Cocktail"
          ],
          [
           "Ko Adang"
          ],
          [
           "Kretchma Cocktail"
          ],
          [
           "Kup's Indispensable Cocktail"
          ],
          [
           "L'italienne"
          ],
          [
           "L.A. Sunrise"
          ],
          [
           "La Bomba"
          ],
          [
           "La Perla"
          ],
          [
           "La Ultima Palabra"
          ],
          [
           "La Vita Dulce"
          ],
          [
           "Lady Love Fizz"
          ],
          [
           "Lasky Cocktail"
          ],
          [
           "Le Paradini"
          ],
          [
           "Leap Frog Highball"
          ],
          [
           "Leap Year Cocktail"
          ],
          [
           "Leaves Of Grass"
          ],
          [
           "Lemon Crush"
          ],
          [
           "Lemon Drop"
          ],
          [
           "Lemonade (Egg)"
          ],
          [
           "Lemonade (Golden)"
          ],
          [
           "Level headed Cocktail"
          ],
          [
           "Lights On The Plaza"
          ],
          [
           "Lil Naue"
          ],
          [
           "Lillypad"
          ],
          [
           "Lime Giant"
          ],
          [
           "Limestone"
          ],
          [
           "Limey"
          ],
          [
           "Limoncello Manzanilla Marmalade Sour"
          ],
          [
           "Little Devil Cocktail"
          ],
          [
           "Little Princess Cocktail"
          ],
          [
           "London Buck"
          ],
          [
           "London Special Cocktail"
          ],
          [
           "Lone Tree Cocktail"
          ],
          [
           "Long Island Iced Tea"
          ],
          [
           "Long Island Tea"
          ],
          [
           "Look Out Below"
          ],
          [
           "Los Angeles Cocktail"
          ],
          [
           "Lounge Lizard"
          ],
          [
           "Love Cocktail"
          ],
          [
           "Lugger"
          ],
          [
           "Lumination"
          ],
          [
           "Lychee Lucy"
          ],
          [
           "Madras"
          ],
          [
           "Mai-Tai (Trader Vic Version)"
          ],
          [
           "Maiden's Prayer"
          ],
          [
           "Malmaison"
          ],
          [
           "Mamie Taylor"
          ],
          [
           "Mamie's Sister"
          ],
          [
           "Mandarine Mist"
          ],
          [
           "Mandarine Sour"
          ],
          [
           "Mandeville"
          ],
          [
           "Manhattan Cocktail (dry)"
          ],
          [
           "Manila Fizz"
          ],
          [
           "Maracuya Mosquito"
          ],
          [
           "Margarita"
          ],
          [
           "Margarita Cocktail"
          ],
          [
           "Margarita Tequila"
          ],
          [
           "Mariposa"
          ],
          [
           "Mariposa Cocktail"
          ],
          [
           "Martini"
          ],
          [
           "Martini (Dry) (5-to-1)"
          ],
          [
           "Martini (Medium)"
          ],
          [
           "Martinique Rose"
          ],
          [
           "Mary Garden Cocktail"
          ],
          [
           "Mary Pickford Cocktail"
          ],
          [
           "May Blossom Fizz"
          ],
          [
           "May Blosson Fizz"
          ],
          [
           "Melon Cocktail"
          ],
          [
           "Merry Widow Cocktail No. 2"
          ],
          [
           "Merry Widow Fizz"
          ],
          [
           "Mexican Firing Squad"
          ],
          [
           "Mexican Madras"
          ],
          [
           "Mexican Monk"
          ],
          [
           "Mexicana"
          ],
          [
           "Mexicola"
          ],
          [
           "Midnight Express"
          ],
          [
           "Milk Punch"
          ],
          [
           "Million-Dollar Cocktail"
          ],
          [
           "Millionaire Cocktail"
          ],
          [
           "Minnehaha Cocktail"
          ],
          [
           "Mint Collins"
          ],
          [
           "Mint Gin Cocktail"
          ],
          [
           "Mint Julep (Southern Style)"
          ],
          [
           "Miss Jones"
          ],
          [
           "Mocha Express"
          ],
          [
           "Mojito"
          ],
          [
           "Monkey Wrench"
          ],
          [
           "Monte Carlo Imperial Highball"
          ],
          [
           "Montezuma"
          ],
          [
           "Montreal Club Bouncer"
          ],
          [
           "Montreal Gin Sour"
          ],
          [
           "Moonquake Shake"
          ],
          [
           "Morning Glory Fizz"
          ],
          [
           "Moscow Mule"
          ],
          [
           "Moulin Rouge Cocktail"
          ],
          [
           "Mountain Cocktail"
          ],
          [
           "Mr. 404"
          ],
          [
           "Napoleon"
          ],
          [
           "Napoleon Cocktail"
          ],
          [
           "Nevada Cocktail"
          ],
          [
           "New Orleans Buck"
          ],
          [
           "New Orleans Gin Fizz"
          ],
          [
           "Night Cap"
          ],
          [
           "Nijinksy Blini"
          ],
          [
           "Nineteenth Hole"
          ],
          [
           "Ninotchka Cocktail"
          ],
          [
           "No. 8"
          ],
          [
           "North Pole Cocktail"
          ],
          [
           "Oh, Gosh!"
          ],
          [
           "Oldest Temptation"
          ],
          [
           "Opening Cocktail"
          ],
          [
           "Opera Cocktail"
          ],
          [
           "Orange Blossom Cocktail"
          ],
          [
           "Orange Gin Collins"
          ],
          [
           "Orange Gin Fizz"
          ],
          [
           "Orange Gin Highball"
          ],
          [
           "Orange Gin Rickey"
          ],
          [
           "Orange Milk Fizz"
          ],
          [
           "Orange Smile"
          ],
          [
           "Orchid Cocktail"
          ],
          [
           "Outrigger"
          ],
          [
           "Pacific Sunshine"
          ],
          [
           "Pacman"
          ],
          [
           "Paddington"
          ],
          [
           "Palmer Cocktail"
          ],
          [
           "Palmetto Cocktail"
          ],
          [
           "Paloma"
          ],
          [
           "Paloma (Natural)"
          ],
          [
           "Pancho Villa"
          ],
          [
           "Paris When It Sizzles"
          ],
          [
           "Parisian Blonde Cocktail"
          ],
          [
           "Passion Daiquiri Cocktail"
          ],
          [
           "Passion Mimosa"
          ],
          [
           "Peach Blossom"
          ],
          [
           "Peach Blow Fizz"
          ],
          [
           "Peach Iced Tea"
          ],
          [
           "Pearl Button"
          ],
          [
           "Peggy Cocktail"
          ],
          [
           "Petit Zinc"
          ],
          [
           "Phoebe Snow"
          ],
          [
           "Phoebe Snow Cocktail"
          ],
          [
           "Pickled Martini"
          ],
          [
           "Pickled Pink"
          ],
          [
           "Pike's Peak Cooler"
          ],
          [
           "Pina Agave"
          ],
          [
           "Pineapple Cocktail"
          ],
          [
           "Pineapple Dream Cocktail"
          ],
          [
           "Pineapple Fizz"
          ],
          [
           "Ping-Pong Cocktail"
          ],
          [
           "Pink Creole"
          ],
          [
           "Pink Lady Cocktail"
          ],
          [
           "Pink Lemonade"
          ],
          [
           "Pink Paradise"
          ],
          [
           "Pink Pussycat"
          ],
          [
           "Pink Rose Fizz"
          ],
          [
           "Pink Squirrel Cocktail"
          ],
          [
           "Plain Vermouth Cocktail"
          ],
          [
           "Planter's Cocktail"
          ],
          [
           "Planter's Punch No. 1"
          ],
          [
           "Planter's Punch No. 2"
          ],
          [
           "Plaza Cocktail"
          ],
          [
           "Poker Cocktail"
          ],
          [
           "Pollyanna Cocktai"
          ],
          [
           "Pollyanna Cocktail"
          ],
          [
           "Polonaise"
          ],
          [
           "Polynesian Cocktail"
          ],
          [
           "Port Wine Cobbler"
          ],
          [
           "Port Wine Flip"
          ],
          [
           "Pousse L'Amour"
          ],
          [
           "Prado"
          ],
          [
           "Praire Chicken"
          ],
          [
           "Praire Oyster Cocktail"
          ],
          [
           "Prairie Chicken"
          ],
          [
           "Prairie Oyster"
          ],
          [
           "Prairie Oyster Cocktail"
          ],
          [
           "Pretty In Pink"
          ],
          [
           "Prince's Smile Cocktail"
          ],
          [
           "Priority Cocktail"
          ],
          [
           "Prohibition Punch"
          ],
          [
           "Puerto Apple"
          ],
          [
           "Puerto Rican Rum Daisy"
          ],
          [
           "Purple Mask"
          ],
          [
           "Purple Pancho"
          ],
          [
           "Purple Passion"
          ],
          [
           "Purple Passion Iced Tea"
          ],
          [
           "Purple Ruby"
          ],
          [
           "Purple Twister"
          ],
          [
           "Quaker's Cocktail"
          ],
          [
           "Quarter Deck Cocktail"
          ],
          [
           "Queen Bee"
          ],
          [
           "Queen Elizabeth Cocktail"
          ],
          [
           "Quetzalcoatl"
          ],
          [
           "Racquet Club Cocktail"
          ],
          [
           "Ramos Fizz"
          ],
          [
           "Rattlesnake Cocktail"
          ],
          [
           "Rebel Charge"
          ],
          [
           "Red Apple"
          ],
          [
           "Red Raider"
          ],
          [
           "Red Swizzle"
          ],
          [
           "Redhead Martini"
          ],
          [
           "Resolute Cocktail"
          ],
          [
           "Restless Native"
          ],
          [
           "Ringo Starr"
          ],
          [
           "Rio Fix"
          ],
          [
           "Rob Roy Cocktail"
          ],
          [
           "Robin's Nest"
          ],
          [
           "Robson Cocktail"
          ],
          [
           "Rock & Rye Cocktail"
          ],
          [
           "Rock & Rye Cooler"
          ],
          [
           "Rococo"
          ],
          [
           "Roselyn Cocktail"
          ],
          [
           "Rosemary Clementine Sparkle"
          ],
          [
           "Rosita"
          ],
          [
           "Rouxby Red"
          ],
          [
           "Royal Clover Club Cocktail"
          ],
          [
           "Royal Cocktail"
          ],
          [
           "Royal Gin Fizz"
          ],
          [
           "Royal Purple Punch"
          ],
          [
           "Ruby Fizz"
          ],
          [
           "Ruby Red"
          ],
          [
           "Rum Cobbler"
          ],
          [
           "Rum Collins"
          ],
          [
           "Rum Cooler"
          ],
          [
           "Rum Coooler"
          ],
          [
           "Rum Daisy"
          ],
          [
           "Rum Dubonnet"
          ],
          [
           "Rum Fix"
          ],
          [
           "Rum Highball"
          ],
          [
           "Rum Martini"
          ],
          [
           "Rum Old-Fashioned"
          ],
          [
           "Rum Relaxer"
          ],
          [
           "Rum Rickey"
          ],
          [
           "Rum Screwdriver"
          ],
          [
           "Rum Sour"
          ],
          [
           "Rum Swizzle"
          ],
          [
           "Rum Toddy (Cold)"
          ],
          [
           "Russian Bear Cocktail"
          ],
          [
           "Rye Whiskey Cocktail"
          ],
          [
           "S & V"
          ],
          [
           "Saint Lucy Bracer"
          ],
          [
           "Sake Martini"
          ],
          [
           "Sake Martini (Sakini)"
          ],
          [
           "Salty Dog"
          ],
          [
           "Sampan Shipwreck A"
          ],
          [
           "San Francisco"
          ],
          [
           "Sand-Martin Cocktail"
          ],
          [
           "Sand-Martini Cocktail"
          ],
          [
           "Santana Sling"
          ],
          [
           "Santiago Cocktail"
          ],
          [
           "Saratoga Cocktail"
          ],
          [
           "Sargasso"
          ],
          [
           "Saronno"
          ],
          [
           "Saronno Colada (Nutty Colada)"
          ],
          [
           "Saronno Mist"
          ],
          [
           "Saronno Rose"
          ],
          [
           "Satin Sheets"
          ],
          [
           "Savannah"
          ],
          [
           "Saxon Cocktail"
          ],
          [
           "Scotch Bird Flyer"
          ],
          [
           "Scotch Cocktail"
          ],
          [
           "Scotch Whisky Highball"
          ],
          [
           "Screwdriver"
          ],
          [
           "Sea Breeze"
          ],
          [
           "Sea Of Cortez"
          ],
          [
           "Seaboabd"
          ],
          [
           "September Morn Cocktail"
          ],
          [
           "Sevilla Cocktail"
          ],
          [
           "Shady Lady"
          ],
          [
           "Shalom"
          ],
          [
           "Shamrock Cocktail"
          ],
          [
           "Sherry Flip"
          ],
          [
           "Sherry Milk Punch"
          ],
          [
           "Sherry Sangaree"
          ],
          [
           "Sherry Twist Cocktail"
          ],
          [
           "Sherry-and-Egg Cocktail"
          ],
          [
           "Siberian Sleighride"
          ],
          [
           "Sidecar"
          ],
          [
           "Sidewinder"
          ],
          [
           "Silk Stockings"
          ],
          [
           "Silver Fizz"
          ],
          [
           "Silver King Cocktail"
          ],
          [
           "Silver Stallion Fizz"
          ],
          [
           "Singapore Sling"
          ],
          [
           "Sir Walter Cocktail"
          ],
          [
           "Sloe Gin Flip"
          ],
          [
           "Sloe Tequila"
          ],
          [
           "Sloppy Joe's Cocktail No. 1"
          ],
          [
           "Smile Cocktail"
          ],
          [
           "Smiler Cocktail"
          ],
          [
           "Smoked Margarita"
          ],
          [
           "Snowball Cocktail"
          ],
          [
           "Snyder"
          ],
          [
           "Society Cocktail"
          ],
          [
           "Sonic Blaster"
          ],
          [
           "Soul Kiss Cocktail"
          ],
          [
           "South Of The Border"
          ],
          [
           "Southern Gin Cocktail"
          ],
          [
           "Soviet"
          ],
          [
           "Spanish Town Cocktail"
          ],
          [
           "Special Rough Cocktail"
          ],
          [
           "Sphinx Cocktail"
          ],
          [
           "Spice Of Life"
          ],
          [
           "Spring Feeling Cocktail"
          ],
          [
           "Spritzer Highball"
          ],
          [
           "Sputnik"
          ],
          [
           "St. Patrick's Day Cocktail"
          ],
          [
           "Stinger Cocktail"
          ],
          [
           "Stockholm 75"
          ],
          [
           "Stone Cocktail"
          ],
          [
           "Stone Wall"
          ],
          [
           "Stormy Colada"
          ],
          [
           "Strawberry Margarita"
          ],
          [
           "Strawberry Sunries"
          ],
          [
           "Stupid Cupid"
          ],
          [
           "Suissesse Cocktail"
          ],
          [
           "Sunburn"
          ],
          [
           "Sunday Confession"
          ],
          [
           "Sunset at Gowanus"
          ],
          [
           "Sunshine Cocktail"
          ],
          [
           "Suntan"
          ],
          [
           "Surf Rider"
          ],
          [
           "Susie Taylor"
          ],
          [
           "Sweet Maria"
          ],
          [
           "Sweet Patootie Cocktail"
          ],
          [
           "T.N.T. Cocktail"
          ],
          [
           "T.N.T. Cocktail No. 1"
          ],
          [
           "T.N.T. Cocktail No. 2"
          ],
          [
           "T.N.T. No. 1"
          ],
          [
           "Tabby Cat"
          ],
          [
           "Tahiti Club"
          ],
          [
           "Tahitian Tea"
          ],
          [
           "Tailspin Cocktail"
          ],
          [
           "Tanq-A-Rita"
          ],
          [
           "Tchoupitolas Street Guzzle"
          ],
          [
           "Tea Saronno"
          ],
          [
           "Temptation Cocktail"
          ],
          [
           "Tempter Cocktail"
          ],
          [
           "Tequila Canyon"
          ],
          [
           "Tequila Cocktail"
          ],
          [
           "Tequila Collins"
          ],
          [
           "Tequila Fizz"
          ],
          [
           "Tequila Manhattan"
          ],
          [
           "Tequila Matador"
          ],
          [
           "Tequila Mockingbird"
          ],
          [
           "Tequila Old-Fashioned"
          ],
          [
           "Tequila Pink"
          ],
          [
           "Tequila Smash"
          ],
          [
           "Tequila Sour"
          ],
          [
           "Tequila Straight"
          ],
          [
           "Tequila Sunrise"
          ],
          [
           "Tequini"
          ],
          [
           "Tequini Cocktail"
          ],
          [
           "Tequonic"
          ],
          [
           "Thanksgiving Special Cocktail"
          ],
          [
           "The 21st Century"
          ],
          [
           "The Beautiful Day"
          ],
          [
           "The Big Crush"
          ],
          [
           "The Blinker"
          ],
          [
           "The Blood Orange"
          ],
          [
           "The Bone"
          ],
          [
           "The Cinquecento"
          ],
          [
           "The Crux"
          ],
          [
           "The Debonair"
          ],
          [
           "The Delmarva Cocktail"
          ],
          [
           "The Duboudreau Cocktail"
          ],
          [
           "The Final Ward"
          ],
          [
           "The Groupie"
          ],
          [
           "The Holy Roller"
          ],
          [
           "The Interesting Cocktail"
          ],
          [
           "The Jamaican Ten Speed"
          ],
          [
           "The Joe Lewis"
          ],
          [
           "The Loop"
          ],
          [
           "The Nomad South"
          ],
          [
           "The Oaxaca Old-Fashioned"
          ],
          [
           "The Old Cuban"
          ],
          [
           "The Poncho"
          ],
          [
           "The Refuge"
          ],
          [
           "The Sfozando"
          ],
          [
           "The Summer Of Love"
          ],
          [
           "The Titian"
          ],
          [
           "The Vacation Cocktail"
          ],
          [
           "The Wink"
          ],
          [
           "The Winkle"
          ],
          [
           "Third-Rail Cocktail"
          ],
          [
           "Three Miller Cocktail"
          ],
          [
           "Three Stripes Cocktail"
          ],
          [
           "Thunder"
          ],
          [
           "Thunder Cocktail"
          ],
          [
           "Thunder and Lightning Cocktail"
          ],
          [
           "Thunderclap Cocktail"
          ],
          [
           "Thyme Collins"
          ],
          [
           "Tia Juanathan"
          ],
          [
           "Tiger Tanaka"
          ],
          [
           "Tijuana Taxi"
          ],
          [
           "Toasted Drop"
          ],
          [
           "Top Banana"
          ],
          [
           "Toreador"
          ],
          [
           "Torridora Cocktail"
          ],
          [
           "Tovarich Cocktail"
          ],
          [
           "Traditional Martini (Dry)"
          ],
          [
           "Trident"
          ],
          [
           "Trinity Cocktail"
          ],
          [
           "Trois Rivieres"
          ],
          [
           "Tropica Cocktail"
          ],
          [
           "Tropical Heart"
          ],
          [
           "Twin Six Cocktail"
          ],
          [
           "Twister"
          ],
          [
           "Ulanda Cocktail"
          ],
          [
           "Underneath The Mango Tree"
          ],
          [
           "Union Jack Cocktail"
          ],
          [
           "Urban Anxiety"
          ],
          [
           "Vagabundo"
          ],
          [
           "Van Vleet"
          ],
          [
           "Velvet Hammer No. 1"
          ],
          [
           "Velvet Hammer No. 2"
          ],
          [
           "Velvet Peach Hammer"
          ],
          [
           "Venial Sin"
          ],
          [
           "Verboten"
          ],
          [
           "Vermouth Cassis"
          ],
          [
           "Vesuvio"
          ],
          [
           "Victor Collins"
          ],
          [
           "Victory Collins"
          ],
          [
           "Violet Fizz"
          ],
          [
           "Violet Fizz Juice"
          ],
          [
           "Virgin"
          ],
          [
           "Virginia Dare"
          ],
          [
           "Viva Villa"
          ],
          [
           "Vodka Collins"
          ],
          [
           "Vodka Cooler"
          ],
          [
           "Vodka Daisy"
          ],
          [
           "Vodka Gimlet"
          ],
          [
           "Vodka Grasshopper"
          ],
          [
           "Vodka Grasshopper Cocktail"
          ],
          [
           "Vodka Gypsy Cocktail"
          ],
          [
           "Vodka Martini"
          ],
          [
           "Vodka Sling"
          ],
          [
           "Vodka Sour"
          ],
          [
           "Vodka Stinger"
          ],
          [
           "Vodka and Apple Juice"
          ],
          [
           "Vodka and Tonic"
          ],
          [
           "Vow Of Silence"
          ],
          [
           "Waikiki Beachcomber"
          ],
          [
           "Waiting On Summer"
          ],
          [
           "Wallick Cocktail"
          ],
          [
           "Wallis Blue Cocktail"
          ],
          [
           "Warsaw Cocktail"
          ],
          [
           "Washington Cocktail"
          ],
          [
           "Water Lily"
          ],
          [
           "Waterbury Cocktail"
          ],
          [
           "Waterloo"
          ],
          [
           "Webster Cocktail"
          ],
          [
           "Wedding Belle Cocktail"
          ],
          [
           "Weep-No-More Cocktail"
          ],
          [
           "Wembley Cocktail"
          ],
          [
           "Wembly Cocktail"
          ],
          [
           "West Side"
          ],
          [
           "Western Rose"
          ],
          [
           "Western Rose Cocktail"
          ],
          [
           "What The Hell"
          ],
          [
           "Whiskey Flip"
          ],
          [
           "Whiskey Milk Punch"
          ],
          [
           "Whiskey Skin"
          ],
          [
           "Whiskey Toddy (cold)"
          ],
          [
           "White Cargo Cocktail"
          ],
          [
           "White Elephant"
          ],
          [
           "White Lady"
          ],
          [
           "White Lady Cocktail"
          ],
          [
           "White Lily Cocktail"
          ],
          [
           "White Lion Cocktail"
          ],
          [
           "White Plush"
          ],
          [
           "White Rose Cocktail"
          ],
          [
           "White Russian"
          ],
          [
           "White Spider"
          ],
          [
           "Why Not?"
          ],
          [
           "Widow's Dream"
          ],
          [
           "Widow's Dream Cocktail"
          ],
          [
           "Widow's Kiss Cocktail"
          ],
          [
           "Wiki Waki Woo"
          ],
          [
           "Will Rogers"
          ],
          [
           "Wolf's Bite"
          ],
          [
           "Woodstock"
          ],
          [
           "X. Y. Z. Cocktail"
          ],
          [
           "X.Y.Z. Cocktail"
          ],
          [
           "Xanthia Cocktail"
          ],
          [
           "Yale Cocktail"
          ],
          [
           "Yellow Rattler"
          ],
          [
           "Yellow Rose Of Texas"
          ],
          [
           "Yellowjacket"
          ],
          [
           "Yokahama Romance"
          ],
          [
           "Yolanda"
          ],
          [
           "Zaza Cocktail"
          ],
          [
           "Zero Mint"
          ],
          [
           "Zombie"
          ]
         ],
         "hovertemplate": "tsne-2d-one=%{x}<br>tsne-2d-two=%{y}<br>name=%{customdata[0]}<br>Cluster=%{marker.color}<extra></extra>",
         "legendgroup": "",
         "marker": {
          "color": [
           0,
           0,
           0,
           0,
           0,
           0,
           0,
           0,
           2,
           0,
           2,
           0,
           2,
           0,
           0,
           0,
           0,
           2,
           0,
           0,
           0,
           2,
           0,
           2,
           0,
           4,
           0,
           0,
           0,
           0,
           0,
           0,
           0,
           0,
           0,
           1,
           1,
           3,
           0,
           5,
           5,
           0,
           0,
           5,
           2,
           2,
           2,
           0,
           0,
           4,
           0,
           0,
           0,
           5,
           5,
           2,
           0,
           0,
           0,
           5,
           2,
           4,
           0,
           2,
           0,
           0,
           2,
           1,
           5,
           5,
           0,
           0,
           4,
           2,
           5,
           2,
           0,
           2,
           3,
           0,
           0,
           0,
           0,
           0,
           0,
           0,
           2,
           0,
           2,
           0,
           0,
           4,
           4,
           2,
           2,
           2,
           0,
           4,
           0,
           0,
           0,
           0,
           2,
           0,
           0,
           0,
           3,
           0,
           0,
           0,
           0,
           0,
           0,
           0,
           0,
           0,
           0,
           0,
           3,
           3,
           3,
           0,
           0,
           2,
           0,
           0,
           0,
           2,
           2,
           2,
           2,
           0,
           2,
           0,
           0,
           0,
           0,
           0,
           5,
           0,
           0,
           0,
           0,
           2,
           2,
           2,
           0,
           4,
           1,
           0,
           2,
           0,
           3,
           0,
           0,
           0,
           0,
           2,
           0,
           0,
           4,
           0,
           0,
           0,
           0,
           0,
           0,
           0,
           0,
           0,
           0,
           0,
           0,
           0,
           5,
           0,
           0,
           0,
           2,
           0,
           0,
           0,
           0,
           0,
           0,
           2,
           5,
           0,
           0,
           0,
           0,
           0,
           0,
           4,
           0,
           0,
           5,
           0,
           0,
           3,
           0,
           0,
           0,
           0,
           0,
           3,
           0,
           3,
           3,
           3,
           1,
           1,
           4,
           3,
           4,
           0,
           0,
           0,
           5,
           5,
           3,
           3,
           0,
           0,
           3,
           0,
           0,
           0,
           0,
           3,
           5,
           0,
           0,
           2,
           1,
           0,
           4,
           4,
           0,
           0,
           0,
           0,
           0,
           0,
           2,
           5,
           5,
           0,
           3,
           4,
           0,
           4,
           0,
           4,
           3,
           0,
           0,
           0,
           2,
           5,
           0,
           3,
           5,
           0,
           2,
           0,
           4,
           2,
           2,
           0,
           2,
           4,
           0,
           2,
           3,
           0,
           2,
           0,
           5,
           0,
           0,
           0,
           2,
           2,
           2,
           0,
           1,
           1,
           1,
           0,
           0,
           0,
           0,
           4,
           0,
           3,
           0,
           0,
           0,
           0,
           0,
           0,
           0,
           3,
           2,
           0,
           0,
           0,
           3,
           0,
           5,
           0,
           2,
           0,
           3,
           0,
           0,
           2,
           2,
           0,
           2,
           2,
           2,
           4,
           0,
           5,
           4,
           0,
           2,
           0,
           0,
           0,
           2,
           2,
           2,
           0,
           0,
           0,
           2,
           0,
           3,
           0,
           0,
           4,
           0,
           0,
           5,
           0,
           0,
           3,
           0,
           4,
           0,
           3,
           2,
           0,
           0,
           0,
           5,
           0,
           2,
           3,
           3,
           2,
           3,
           3,
           2,
           3,
           4,
           0,
           0,
           3,
           0,
           0,
           0,
           0,
           0,
           5,
           0,
           3,
           0,
           0,
           0,
           0,
           0,
           0,
           4,
           0,
           0,
           0,
           2,
           4,
           0,
           0,
           2,
           0,
           3,
           3,
           2,
           0,
           2,
           0,
           5,
           2,
           0,
           2,
           2,
           2,
           4,
           0,
           0,
           0,
           0,
           0,
           5,
           0,
           0,
           0,
           0,
           0,
           2,
           0,
           0,
           0,
           0,
           0,
           0,
           0,
           0,
           4,
           0,
           0,
           0,
           2,
           0,
           0,
           2,
           0,
           0,
           4,
           0,
           0,
           3,
           0,
           0,
           0,
           2,
           0,
           4,
           0,
           0,
           4,
           0,
           0,
           0,
           0,
           0,
           0,
           4,
           0,
           0,
           0,
           0,
           0,
           0,
           0,
           0,
           5,
           0,
           0,
           0,
           0,
           4,
           4,
           0,
           0,
           0,
           5,
           4,
           0,
           3,
           3,
           0,
           2,
           0,
           0,
           4,
           0,
           0,
           0,
           2,
           0,
           2,
           4,
           3,
           0,
           2,
           0,
           5,
           2,
           0,
           0,
           0,
           0,
           4,
           4,
           3,
           2,
           0,
           2,
           2,
           0,
           0,
           0,
           3,
           3,
           0,
           0,
           3,
           4,
           0,
           0,
           0,
           0,
           2,
           0,
           2,
           0,
           2,
           2,
           2,
           5,
           3,
           0,
           0,
           0,
           0,
           0,
           0,
           0,
           2,
           0,
           0,
           2,
           0,
           0,
           5,
           2,
           3,
           4,
           4,
           0,
           4,
           5,
           5,
           2,
           2,
           2,
           4,
           1,
           5,
           5,
           5,
           2,
           0,
           3,
           4,
           4,
           0,
           5,
           4,
           4,
           3,
           5,
           5,
           2,
           0,
           2,
           3,
           0,
           0,
           0,
           0,
           2,
           0,
           2,
           3,
           0,
           3,
           4,
           0,
           2,
           0,
           1,
           1,
           4,
           0,
           3,
           0,
           0,
           2,
           0,
           0,
           2,
           4,
           0,
           5,
           1,
           3,
           0,
           3,
           0,
           0,
           3,
           5,
           0,
           0,
           0,
           5,
           0,
           0,
           0,
           0,
           0,
           0,
           4,
           0,
           3,
           0,
           3,
           3,
           0,
           4,
           1,
           0,
           1,
           1,
           0,
           0,
           3,
           0,
           0,
           0,
           0,
           3,
           5,
           5,
           4,
           0,
           5,
           3,
           0,
           2,
           0,
           4,
           0,
           2,
           0,
           5,
           0,
           0,
           4,
           0,
           3,
           0,
           5,
           0,
           0,
           2,
           0,
           0,
           0,
           0,
           0,
           0,
           0,
           0,
           0,
           4,
           0,
           2,
           4,
           0,
           0,
           4,
           0,
           2,
           0,
           2,
           3,
           3,
           0,
           5,
           5,
           3,
           0,
           2,
           4,
           0,
           4,
           0,
           0,
           5,
           2,
           0,
           0,
           2,
           0,
           2,
           0,
           5,
           3,
           3,
           0,
           3,
           0,
           0,
           4,
           0,
           0,
           5,
           1,
           0,
           0,
           2,
           0,
           5,
           4,
           0,
           0,
           4,
           0,
           0,
           3,
           4,
           0,
           0,
           2,
           0,
           0,
           2,
           2,
           2,
           4,
           4,
           0,
           0,
           0,
           0,
           0,
           0,
           4,
           2,
           5,
           3,
           0,
           0,
           0,
           0,
           4,
           3,
           5,
           3,
           0,
           0,
           2,
           3,
           3,
           3,
           2,
           0,
           0,
           0,
           4,
           5,
           3,
           3,
           2,
           3,
           5,
           3,
           4,
           5,
           5,
           2,
           4,
           0,
           2,
           2,
           0,
           1,
           4,
           2,
           0,
           0,
           0,
           2,
           4,
           2,
           0,
           0,
           0,
           0,
           0,
           0,
           0,
           0,
           0,
           5,
           0,
           0,
           0,
           0,
           4,
           2,
           0,
           5,
           4,
           0,
           2,
           0,
           0,
           0,
           0,
           0,
           4,
           2,
           2,
           0,
           0,
           0,
           1,
           0,
           0,
           5,
           0,
           5,
           0,
           4,
           4,
           0,
           5,
           4,
           0,
           0,
           5,
           2,
           2,
           0,
           2,
           4,
           0,
           4,
           0,
           0,
           4,
           0,
           1,
           0,
           0,
           0,
           0,
           0,
           4,
           0,
           0,
           0,
           0,
           4,
           0,
           4,
           2,
           4,
           2,
           0,
           4,
           4,
           2,
           4,
           0,
           4,
           2,
           3,
           3,
           3,
           0,
           0,
           4,
           0,
           0,
           0,
           0,
           0,
           0,
           0,
           2,
           0,
           2,
           1,
           5,
           0,
           5,
           4,
           2,
           4,
           5,
           0,
           4,
           0,
           0,
           0,
           0,
           0,
           2,
           2,
           3,
           3,
           0,
           3,
           3,
           2,
           0,
           4,
           0,
           0,
           5,
           4,
           0,
           0,
           0,
           2,
           0,
           0,
           0,
           0,
           0,
           4,
           2,
           4,
           2,
           4,
           0,
           2,
           2,
           3,
           0,
           2,
           1,
           1,
           2,
           2,
           0,
           2,
           2,
           2,
           3,
           3,
           0,
           3,
           0,
           2,
           2,
           3,
           2,
           5,
           3,
           2,
           0,
           2,
           2,
           0,
           0,
           0,
           0,
           2,
           2,
           2,
           0,
           0,
           2,
           2,
           2,
           0,
           0,
           2,
           5,
           1,
           0,
           0
          ],
          "coloraxis": "coloraxis",
          "symbol": "circle"
         },
         "mode": "markers",
         "name": "",
         "orientation": "v",
         "showlegend": false,
         "type": "scatter",
         "x": [
          1.9784334897994995,
          7.424238681793213,
          2.860501766204834,
          -15.822587966918945,
          -2.6027426719665527,
          20.391504287719727,
          2.5792534351348877,
          11.056205749511719,
          -28.13149070739746,
          11.074824333190918,
          -9.526433944702148,
          11.074488639831543,
          -13.643675804138184,
          -15.081273078918457,
          -9.272444725036621,
          11.42324161529541,
          13.689607620239258,
          -3.961421489715576,
          -3.723778009414673,
          -2.123980760574341,
          -9.247886657714844,
          -3.312412977218628,
          19.468109130859375,
          -15.63273811340332,
          -6.124953269958496,
          29.516725540161133,
          11.765752792358398,
          27.441892623901367,
          27.566471099853516,
          10.613224983215332,
          27.44204330444336,
          -4.836889743804932,
          3.6178548336029053,
          27.12685775756836,
          3.4607372283935547,
          -7.0814433097839355,
          -7.873039245605469,
          -32.61320114135742,
          -17.62076187133789,
          -13.148195266723633,
          6.593213081359863,
          9.553873062133789,
          -9.47819709777832,
          -9.29482650756836,
          -25.830820083618164,
          -27.172393798828125,
          -23.747835159301758,
          11.192813873291016,
          2.969858169555664,
          19.846635818481445,
          -5.359859943389893,
          1.8926798105239868,
          2.8765604496002197,
          -15.900542259216309,
          -25.67888832092285,
          -4.183567047119141,
          -6.980039596557617,
          14.910822868347168,
          -17.74855613708496,
          25.756269454956055,
          -17.114131927490234,
          21.206348419189453,
          6.4044365882873535,
          -13.10124397277832,
          17.124914169311523,
          28.381778717041016,
          -2.42277455329895,
          -6.825152397155762,
          -23.410860061645508,
          -21.31615447998047,
          -16.396921157836914,
          11.024290084838867,
          23.601036071777344,
          -22.032651901245117,
          17.30816078186035,
          -21.852615356445312,
          28.240039825439453,
          -16.83782196044922,
          -30.96142578125,
          -1.61338472366333,
          4.247360706329346,
          -13.750653266906738,
          22.409149169921875,
          20.67069435119629,
          6.403609752655029,
          3.3570475578308105,
          -19.430089950561523,
          2.9568703174591064,
          -17.704608917236328,
          17.115598678588867,
          22.249650955200195,
          18.756732940673828,
          18.2733097076416,
          -13.025875091552734,
          -11.779908180236816,
          -11.932757377624512,
          26.356481552124023,
          26.77492904663086,
          -3.0370771884918213,
          -3.4358670711517334,
          27.87990951538086,
          5.31040096282959,
          -14.45353889465332,
          19.940065383911133,
          -4.441426753997803,
          -15.883414268493652,
          -33.6149787902832,
          4.691503047943115,
          2.4964349269866943,
          -3.4521539211273193,
          8.030964851379395,
          6.3843092918396,
          4.003864765167236,
          -2.16456937789917,
          26.63315773010254,
          -2.5297489166259766,
          -6.8452467918396,
          -10.38012981414795,
          -31.034645080566406,
          -27.27354621887207,
          -27.76559066772461,
          -1.4705766439437866,
          -5.532594680786133,
          -14.601186752319336,
          13.926084518432617,
          6.14408540725708,
          3.1013076305389404,
          -17.04067039489746,
          -19.186391830444336,
          -17.489675521850586,
          -15.268879890441895,
          -1.3296257257461548,
          -13.442583084106445,
          -0.5884396433830261,
          6.170658111572266,
          -0.499830037355423,
          -1.4835803508758545,
          -1.7857341766357422,
          6.852700710296631,
          16.159927368164062,
          -6.42768669128418,
          20.471473693847656,
          -6.426799297332764,
          -9.69941234588623,
          -18.136646270751953,
          -18.13288116455078,
          17.980466842651367,
          25.63449478149414,
          8.012408256530762,
          -8.178991317749023,
          -18.678966522216797,
          27.327526092529297,
          -30.56044578552246,
          13.370199203491211,
          7.451154708862305,
          15.171875953674316,
          10.33881950378418,
          -26.882484436035156,
          3.165323495864868,
          -7.502246379852295,
          28.060382843017578,
          6.0008697509765625,
          6.462482452392578,
          1.6147098541259766,
          25.816513061523438,
          12.931408882141113,
          12.5054292678833,
          1.9667739868164062,
          -4.9917473793029785,
          3.2140772342681885,
          14.947883605957031,
          22.214923858642578,
          8.27772045135498,
          10.337361335754395,
          15.991079330444336,
          -0.0924825593829155,
          -3.9600865840911865,
          -3.961698055267334,
          -15.643444061279297,
          11.361780166625977,
          31.656299591064453,
          24.5452938079834,
          18.677690505981445,
          6.399404525756836,
          25.177711486816406,
          -11.898520469665527,
          17.4060001373291,
          6.404147148132324,
          5.159512042999268,
          8.014166831970215,
          -1.4705469608306885,
          4.478114604949951,
          6.281754493713379,
          5.310819149017334,
          -17.54544448852539,
          -3.0891098976135254,
          -13.778139114379883,
          -0.5661062598228455,
          -6.70427942276001,
          -32.053375244140625,
          9.229289054870605,
          -6.700685501098633,
          15.181312561035156,
          28.24919891357422,
          -4.300560474395752,
          -34.40340805053711,
          5.655150890350342,
          -27.788612365722656,
          -28.092453002929688,
          -32.056644439697266,
          -16.148204803466797,
          -15.483063697814941,
          27.0122127532959,
          -28.574630737304688,
          17.284547805786133,
          17.436342239379883,
          -8.87965202331543,
          -5.511972904205322,
          -26.242891311645508,
          -24.978622436523438,
          -30.002052307128906,
          -30.782337188720703,
          8.547932624816895,
          26.30742835998535,
          -30.206981658935547,
          -1.8078910112380981,
          -0.7858680486679077,
          -3.6011199951171875,
          25.738012313842773,
          -10.841487884521484,
          27.194761276245117,
          20.467365264892578,
          7.916005611419678,
          -29.581764221191406,
          -13.233393669128418,
          -1.4438601732254028,
          18.752788543701172,
          21.778432846069336,
          2.3670504093170166,
          -1.9995286464691162,
          -1.8108556270599365,
          -9.927040100097656,
          12.582539558410645,
          9.477682113647461,
          -29.466962814331055,
          1.741385817527771,
          1.50689697265625,
          32.19939422607422,
          -19.46485137939453,
          18.694293975830078,
          -15.87632942199707,
          22.508996963500977,
          17.157487869262695,
          22.907901763916016,
          -18.128177642822266,
          30.768892288208008,
          -2.54923939704895,
          -1.6884989738464355,
          -11.789560317993164,
          -1.5761358737945557,
          1.8001599311828613,
          -29.630924224853516,
          21.370746612548828,
          0.8845499753952026,
          -9.500310897827148,
          -0.48325014114379883,
          27.212526321411133,
          -14.77480697631836,
          -6.645908832550049,
          27.36088752746582,
          -15.315511703491211,
          33.5120735168457,
          -0.2951928973197937,
          -17.351255416870117,
          -22.872867584228516,
          2.339162588119507,
          -29.58218765258789,
          -7.369801044464111,
          31.868886947631836,
          -30.427936553955078,
          -5.790038585662842,
          19.017236709594727,
          -6.643117904663086,
          -14.377327919006348,
          -15.075037956237793,
          -14.593161582946777,
          -15.766976356506348,
          -7.319939613342285,
          -5.953608989715576,
          -31.98891830444336,
          -9.894307136535645,
          0.2931795120239258,
          -10.548850059509277,
          25.538639068603516,
          47.77152633666992,
          -29.973642349243164,
          -0.5217675566673279,
          70.84261322021484,
          23.833894729614258,
          80.20775604248047,
          9.009626388549805,
          -2.9084272384643555,
          26.35846519470215,
          -34.12168884277344,
          -18.39599609375,
          5.202000141143799,
          -9.015249252319336,
          -4.324996471405029,
          -21.786428451538086,
          9.102116584777832,
          -25.294870376586914,
          -16.172929763793945,
          -4.819167137145996,
          1.6393041610717773,
          -24.572847366333008,
          2.3099522590637207,
          3.2567138671875,
          -8.057534217834473,
          -16.086875915527344,
          -1.0372273921966553,
          -26.866168975830078,
          -24.999786376953125,
          -14.630319595336914,
          21.02759552001953,
          6.319153785705566,
          20.214414596557617,
          22.75491714477539,
          12.353449821472168,
          -11.866816520690918,
          -5.762781620025635,
          1.8432528972625732,
          -5.461240291595459,
          13.112013816833496,
          -14.69694995880127,
          -7.6001129150390625,
          6.346364498138428,
          10.902679443359375,
          6.950767517089844,
          -14.930313110351562,
          1.018900990486145,
          -27.07895278930664,
          19.676490783691406,
          -5.358417987823486,
          15.001277923583984,
          18.479433059692383,
          17.2587947845459,
          -25.325029373168945,
          -4.598677635192871,
          10.768898963928223,
          -27.142108917236328,
          24.25766372680664,
          16.935623168945312,
          6.269152641296387,
          -29.316932678222656,
          11.597283363342285,
          -7.865444660186768,
          -3.5405380725860596,
          25.900848388671875,
          20.33612632751465,
          1.6131954193115234,
          -10.669400215148926,
          -25.533737182617188,
          -21.550077438354492,
          -18.093708038330078,
          -26.482959747314453,
          -28.636341094970703,
          -20.848665237426758,
          -27.03879165649414,
          17.672517776489258,
          18.893802642822266,
          -18.610912322998047,
          -35.630332946777344,
          -3.7887299060821533,
          4.328706741333008,
          13.771918296813965,
          9.822352409362793,
          13.614203453063965,
          -24.656557083129883,
          10.078344345092773,
          -28.093772888183594,
          -3.3343563079833984,
          7.78743314743042,
          -1.3408194780349731,
          -1.3462860584259033,
          8.16933536529541,
          -4.890615940093994,
          34.219295501708984,
          -0.16785232722759247,
          24.76709747314453,
          13.820837020874023,
          -12.371658325195312,
          21.498065948486328,
          -12.1399507522583,
          -4.966954231262207,
          -19.489521026611328,
          -18.02274513244629,
          -30.633220672607422,
          -23.976564407348633,
          -20.390653610229492,
          -16.671344757080078,
          -26.68596649169922,
          1.085127592086792,
          -15.839571952819824,
          -11.933834075927734,
          -1.4828089475631714,
          14.934917449951172,
          -17.32363510131836,
          -18.161802291870117,
          32.119873046875,
          -5.137149333953857,
          -5.730983257293701,
          16.025772094726562,
          17.344154357910156,
          17.519943237304688,
          -1.4788228273391724,
          22.093053817749023,
          2.3921048641204834,
          14.206018447875977,
          20.055503845214844,
          14.463751792907715,
          -10.133478164672852,
          13.369291305541992,
          8.333189964294434,
          3.1264920234680176,
          8.909820556640625,
          6.720488548278809,
          22.943334579467773,
          -5.490263938903809,
          0.803612470626831,
          30.706790924072266,
          21.88628387451172,
          0.24840714037418365,
          36.84190368652344,
          -14.599579811096191,
          1.5053925514221191,
          -6.485173225402832,
          -10.453768730163574,
          -0.7380717992782593,
          -3.0375783443450928,
          18.723003387451172,
          -17.310714721679688,
          3.471121311187744,
          -29.68128776550293,
          22.51703643798828,
          1.340203881263733,
          -1.9015638828277588,
          -17.346771240234375,
          17.534006118774414,
          22.43984603881836,
          10.100741386413574,
          28.829668045043945,
          21.948163986206055,
          10.538013458251953,
          21.244667053222656,
          8.564230918884277,
          -9.862372398376465,
          19.79754066467285,
          -6.11618709564209,
          20.260913848876953,
          18.595643997192383,
          3.3554341793060303,
          -1.7063627243041992,
          -5.36371374130249,
          -5.364203453063965,
          8.373373985290527,
          4.05738639831543,
          3.100615978240967,
          21.69026756286621,
          28.76729393005371,
          5.522470951080322,
          -7.61151647567749,
          -5.8114495277404785,
          30.839597702026367,
          15.877852439880371,
          -20.133974075317383,
          -4.877691745758057,
          -3.704263687133789,
          15.5975980758667,
          30.70039939880371,
          -2.345510959625244,
          -34.12232971191406,
          -21.974063873291016,
          -3.428438425064087,
          -20.716514587402344,
          14.603477478027344,
          1.578263521194458,
          26.08536720275879,
          27.650346755981445,
          24.050050735473633,
          -4.073143005371094,
          -26.842370986938477,
          -21.97740364074707,
          -25.748445510864258,
          22.44954490661621,
          -34.72637939453125,
          13.074522972106934,
          -15.85863971710205,
          7.767364501953125,
          26.63808822631836,
          -14.278484344482422,
          15.668766975402832,
          20.209381103515625,
          11.694992065429688,
          64.97708892822266,
          27.549270629882812,
          24.437448501586914,
          -29.243698120117188,
          -21.220048904418945,
          19.153535842895508,
          -22.424423217773438,
          -21.82236099243164,
          19.9083194732666,
          33.651145935058594,
          29.320981979370117,
          -30.069217681884766,
          -28.659202575683594,
          26.984411239624023,
          26.25920295715332,
          -28.108531951904297,
          29.042055130004883,
          0.8923525214195251,
          -2.16282320022583,
          11.37890911102295,
          21.47328758239746,
          12.63422679901123,
          7.585095405578613,
          -22.421886444091797,
          0.4698515832424164,
          -20.852989196777344,
          11.200490951538086,
          8.479881286621094,
          21.712953567504883,
          -31.27562141418457,
          9.362319946289062,
          -34.69034194946289,
          -7.031208038330078,
          23.374601364135742,
          21.48130989074707,
          18.10103416442871,
          48.77040100097656,
          -11.714607238769531,
          14.628043174743652,
          -3.1263792514801025,
          -16.853727340698242,
          -4.028063774108887,
          -4.833141326904297,
          17.205018997192383,
          -8.071084022521973,
          -25.09810447692871,
          22.60875129699707,
          27.33321189880371,
          -51.32065963745117,
          27.868026733398438,
          14.573758125305176,
          -13.285465240478516,
          -6.651995658874512,
          -14.881793975830078,
          -17.497650146484375,
          10.266831398010254,
          -7.884204387664795,
          15.472291946411133,
          -22.772586822509766,
          -22.772262573242188,
          -28.55986785888672,
          -5.9563446044921875,
          -33.784889221191406,
          28.250600814819336,
          29.005367279052734,
          13.940622329711914,
          17.623462677001953,
          27.456003189086914,
          30.92607307434082,
          -26.02686309814453,
          -23.515525817871094,
          -18.72299575805664,
          -17.39307975769043,
          -6.768856525421143,
          -8.42680549621582,
          -22.026947021484375,
          20.758840560913086,
          21.44632339477539,
          21.8468017578125,
          10.069721221923828,
          -22.116666793823242,
          2.707735300064087,
          -20.324037551879883,
          -29.750757217407227,
          9.608294486999512,
          -32.29843521118164,
          19.966705322265625,
          -19.13011932373047,
          -19.18037223815918,
          28.265438079833984,
          -15.268441200256348,
          -14.801694869995117,
          23.09276580810547,
          14.497881889343262,
          -30.001747131347656,
          20.974210739135742,
          26.39719009399414,
          -16.086946487426758,
          26.18008041381836,
          -59.129737854003906,
          -29.583065032958984,
          16.40279197692871,
          31.088441848754883,
          -18.130300521850586,
          -15.12381362915039,
          -21.326976776123047,
          -6.3140740394592285,
          -31.227209091186523,
          -2.233962059020996,
          -2.6802217960357666,
          -31.386371612548828,
          -14.66478443145752,
          -20.27033042907715,
          1.4820963144302368,
          24.281747817993164,
          -12.272826194763184,
          15.747872352600098,
          -12.069588661193848,
          9.009055137634277,
          14.12707805633545,
          14.231036186218262,
          -7.4456634521484375,
          30.93388557434082,
          -35.27592849731445,
          -18.220449447631836,
          1.2184468507766724,
          -29.150737762451172,
          -28.09339714050293,
          8.503617286682129,
          21.36797332763672,
          -12.887723922729492,
          16.466575622558594,
          -9.424111366271973,
          -5.627872943878174,
          14.867518424987793,
          13.529627799987793,
          -30.068300247192383,
          18.24534797668457,
          14.467195510864258,
          -13.438008308410645,
          20.233598709106445,
          -34.52376174926758,
          20.037208557128906,
          -20.023313522338867,
          32.551353454589844,
          11.21150016784668,
          20.376306533813477,
          -29.24408531188965,
          -4.6733717918396,
          -14.347671508789062,
          27.424392700195312,
          20.630748748779297,
          12.193435668945312,
          -18.020280838012695,
          7.585989952087402,
          -20.288503646850586,
          -17.93703269958496,
          -5.671918869018555,
          20.31395149230957,
          2.499377727508545,
          -31.163503646850586,
          -6.15275239944458,
          -32.6285400390625,
          -18.169418334960938,
          -12.671380043029785,
          -19.562328338623047,
          -11.714447975158691,
          -12.743805885314941,
          24.2263126373291,
          -21.987079620361328,
          20.948101043701172,
          10.23666000366211,
          9.582067489624023,
          9.032133102416992,
          24.273223876953125,
          25.809646606445312,
          24.394296646118164,
          31.762027740478516,
          20.092329025268555,
          -0.6879553198814392,
          13.904052734375,
          18.584962844848633,
          0.5622015595436096,
          -18.82971954345703,
          12.464705467224121,
          -11.791736602783203,
          -29.026182174682617,
          -30.641155242919922,
          -10.927178382873535,
          27.503528594970703,
          -10.848938941955566,
          -18.692913055419922,
          31.346755981445312,
          -23.4274845123291,
          19.712984085083008,
          80.6814193725586,
          23.58951759338379,
          -5.101440906524658,
          23.31638526916504,
          29.76171112060547,
          -8.42713737487793,
          16.74106216430664,
          -8.050250053405762,
          -16.958145141601562,
          23.90647315979004,
          1.6182056665420532,
          26.107223510742188,
          -17.703269958496094,
          -28.97002601623535,
          -28.96890640258789,
          1.417688250541687,
          -33.17920684814453,
          -11.643805503845215,
          20.967018127441406,
          22.912120819091797,
          20.660205841064453,
          2.4988455772399902,
          18.453752517700195,
          7.4762983322143555,
          21.216421127319336,
          0.5256509780883789,
          9.18640422821045,
          22.332828521728516,
          15.737476348876953,
          18.679710388183594,
          11.484253883361816,
          19.179235458374023,
          28.453142166137695,
          -2.1246747970581055,
          23.888376235961914,
          -24.236618041992188,
          17.81084632873535,
          0.091086745262146,
          -5.279651641845703,
          -19.970592498779297,
          17.348554611206055,
          15.903953552246094,
          -14.938674926757812,
          -21.838619232177734,
          -22.17775535583496,
          33.78702926635742,
          21.0275936126709,
          -10.375629425048828,
          12.288420677185059,
          3.2804298400878906,
          3.4565236568450928,
          3.166264772415161,
          3.4565236568450928,
          28.05760955810547,
          -18.3511962890625,
          20.161027908325195,
          -23.029932022094727,
          -2.366400718688965,
          -2.38140606880188,
          17.34920883178711,
          22.006752014160156,
          27.079233169555664,
          -22.139963150024414,
          -17.17725372314453,
          -30.5073299407959,
          14.763656616210938,
          27.935190200805664,
          -5.239287376403809,
          -31.294586181640625,
          -25.114315032958984,
          -25.409440994262695,
          -9.788712501525879,
          1.1756839752197266,
          23.825271606445312,
          28.485511779785156,
          35.64555740356445,
          17.26957893371582,
          -30.415184020996094,
          -30.417573928833008,
          -18.521093368530273,
          -27.762950897216797,
          14.254646301269531,
          -32.22376251220703,
          26.89057159423828,
          18.75018882751465,
          -25.924631118774414,
          -16.76070213317871,
          14.429828643798828,
          -17.121641159057617,
          -13.331892967224121,
          -16.96241569519043,
          14.61087703704834,
          -7.576017379760742,
          27.728515625,
          -11.445047378540039,
          14.927732467651367,
          11.32706356048584,
          -7.006438732147217,
          -17.93801498413086,
          26.5435733795166,
          -26.47333526611328,
          -0.45115503668785095,
          21.199655532836914,
          -4.772635459899902,
          -14.609989166259766,
          31.102645874023438,
          7.42033576965332,
          10.751753807067871,
          8.222289085388184,
          12.051509857177734,
          -15.575331687927246,
          31.669620513916016,
          -6.903875827789307,
          0.8137008547782898,
          21.14617156982422,
          34.246849060058594,
          -19.50120735168457,
          -0.7428978085517883,
          29.039945602416992,
          18.686321258544922,
          12.70771598815918,
          -11.255023002624512,
          -14.256892204284668,
          -2.999213457107544,
          2.312119722366333,
          -14.256892204284668,
          7.504258155822754,
          14.356001853942871,
          9.873920440673828,
          -21.85360336303711,
          -9.997483253479004,
          10.076196670532227,
          3.4565236568450928,
          -3.6969194412231445,
          -33.22148132324219,
          12.970070838928223,
          -32.864315032958984,
          24.238698959350586,
          -32.70549011230469,
          1.0520250797271729,
          26.258119583129883,
          28.767086029052734,
          25.814512252807617,
          15.7257661819458,
          26.32758903503418,
          24.23912239074707,
          13.542576789855957,
          16.369646072387695,
          15.089098930358887,
          -11.885494232177734,
          14.488245964050293,
          -22.609628677368164,
          30.793825149536133,
          -1.7063627243041992,
          16.1876277923584,
          1.4037823677062988,
          8.117570877075195,
          25.714202880859375,
          0.5665640830993652,
          -2.933718204498291,
          -10.639219284057617,
          -3.098681926727295,
          0.5422034859657288,
          11.325057029724121,
          4.72568416595459,
          31.081911087036133,
          19.3515567779541,
          18.469362258911133,
          3.653409242630005,
          54.387760162353516,
          29.91484260559082,
          6.904809951782227,
          30.112878799438477,
          -8.917593955993652,
          28.70073699951172,
          -6.127435684204102,
          6.301211357116699,
          19.00943374633789,
          21.949729919433594,
          -10.575701713562012,
          24.48666763305664,
          -6.9970927238464355,
          29.968778610229492,
          -14.596630096435547,
          -26.88155174255371,
          -26.136829376220703,
          -26.03696060180664,
          -15.629128456115723,
          33.11604690551758,
          28.04585075378418,
          6.253690719604492,
          57.5185546875,
          22.288373947143555,
          17.86077117919922,
          15.357213973999023,
          9.482805252075195,
          15.12614917755127,
          -11.786765098571777,
          13.409988403320312,
          -18.124717712402344,
          -7.121598720550537,
          16.029525756835938,
          0.3948913812637329,
          -23.62565040588379,
          19.972623825073242,
          -12.517315864562988,
          25.169092178344727,
          -23.507972717285156,
          -0.6397996544837952,
          24.433349609375,
          13.920172691345215,
          16.473276138305664,
          -1.1462392807006836,
          26.6304874420166,
          27.447052001953125,
          -28.218017578125,
          -6.791657447814941,
          -34.49131393432617,
          -22.880699157714844,
          27.299047470092773,
          -21.628889083862305,
          -21.628925323486328,
          -21.72001075744629,
          0.6757904887199402,
          28.183185577392578,
          26.941801071166992,
          24.04384994506836,
          27.40303611755371,
          22.321866989135742,
          24.062936782836914,
          -5.762781620025635,
          1.1770515441894531,
          -8.05887508392334,
          26.942779541015625,
          26.287918090820312,
          18.152687072753906,
          17.55599021911621,
          17.556262969970703,
          15.812958717346191,
          -10.13100528717041,
          29.282670974731445,
          -13.329961776733398,
          -12.174736976623535,
          19.579526901245117,
          -10.766889572143555,
          5.06844425201416,
          -32.44269561767578,
          7.340311050415039,
          -15.348064422607422,
          -14.162900924682617,
          -10.623686790466309,
          -23.028575897216797,
          -23.030719757080078,
          29.15056800842285,
          -21.721704483032227,
          -22.609718322753906,
          -26.867067337036133,
          -31.57199478149414,
          -25.21139907836914,
          -32.34205627441406,
          -25.011558532714844,
          -5.548964977264404,
          -22.35434341430664,
          -11.866418838500977,
          -20.04499053955078,
          -13.227250099182129,
          18.474123001098633,
          -26.02309226989746,
          -30.92389488220215,
          20.689712524414062,
          30.83995246887207,
          -26.866575241088867,
          -2.067678928375244,
          -2.067678928375244,
          -1.8699287176132202,
          8.333669662475586,
          -12.744277000427246,
          -11.585531234741211,
          -9.815534591674805,
          -14.758317947387695,
          12.792797088623047,
          -9.57063102722168,
          -13.409960746765137,
          -17.70697021484375,
          24.442745208740234,
          -3.637803554534912,
          -20.34111213684082,
          -21.107349395751953,
          -15.3612642288208,
          0.31135720014572144,
          11.12958812713623
         ],
         "xaxis": "x",
         "y": [
          7.101919651031494,
          7.789405822753906,
          -5.092939376831055,
          14.998445510864258,
          -6.394410610198975,
          7.639847755432129,
          -5.7797980308532715,
          22.179567337036133,
          -14.89217758178711,
          8.714906692504883,
          -18.262550354003906,
          8.71471881866455,
          -22.517290115356445,
          -4.251546382904053,
          -0.9543015360832214,
          7.725862979888916,
          -0.8297149538993835,
          -10.794896125793457,
          -10.63271713256836,
          -8.905729293823242,
          -5.0695109367370605,
          -16.27349090576172,
          -1.7900195121765137,
          -15.481050491333008,
          8.760952949523926,
          17.77213478088379,
          -7.468295574188232,
          1.4247791767120361,
          1.0679969787597656,
          -7.13131046295166,
          1.4249507188796997,
          11.89749813079834,
          -5.273807525634766,
          9.877575874328613,
          6.069853782653809,
          2.129878282546997,
          -15.691367149353027,
          -2.5886096954345703,
          25.675588607788086,
          5.900094985961914,
          21.039833068847656,
          15.833601951599121,
          -0.34710654616355896,
          4.7533111572265625,
          -17.07180404663086,
          -17.713563919067383,
          -6.495672702789307,
          21.84615707397461,
          -14.900168418884277,
          -5.111661434173584,
          17.73992919921875,
          24.085124969482422,
          9.642315864562988,
          0.9500461220741272,
          -9.784697532653809,
          -15.721139907836914,
          10.1792573928833,
          -21.944950103759766,
          16.29524803161621,
          -11.867185592651367,
          -9.686270713806152,
          -6.640741348266602,
          8.421058654785156,
          -22.30883026123047,
          -11.024209976196289,
          -3.8473591804504395,
          -15.670013427734375,
          2.3729004859924316,
          -10.283223152160645,
          16.788692474365234,
          10.655588150024414,
          18.60777473449707,
          13.135151863098145,
          -5.489852428436279,
          4.815196514129639,
          -18.421682357788086,
          -2.404757499694824,
          -6.031333923339844,
          -4.275329113006592,
          -82.79115295410156,
          5.067337512969971,
          12.085614204406738,
          -9.212646484375,
          -9.98603630065918,
          -13.632786750793457,
          -26.23680877685547,
          -1.5049163103103638,
          -15.700366020202637,
          -17.946552276611328,
          -8.121807098388672,
          2.945810556411743,
          -6.7373175621032715,
          22.95962905883789,
          -5.747194766998291,
          -9.70116138458252,
          -17.624666213989258,
          -2.8758983612060547,
          22.44583511352539,
          21.961349487304688,
          25.71403694152832,
          -2.2175886631011963,
          -2.381563663482666,
          -14.67442512512207,
          -16.305740356445312,
          0.7998991012573242,
          5.774161338806152,
          -2.271244525909424,
          6.064755439758301,
          7.8789567947387695,
          2.8594350814819336,
          8.599128723144531,
          9.245347023010254,
          5.735614776611328,
          2.728881597518921,
          5.072262763977051,
          3.356675863265991,
          16.582460403442383,
          6.807471752166748,
          6.856205463409424,
          5.5663557052612305,
          7.259954929351807,
          19.297626495361328,
          15.130938529968262,
          -13.681475639343262,
          2.899737596511841,
          -10.55739974975586,
          11.932568550109863,
          -13.215570449829102,
          -18.5139102935791,
          -12.756373405456543,
          -12.4563627243042,
          27.798486709594727,
          -15.297184944152832,
          -4.7521748542785645,
          17.28835105895996,
          0.6395318508148193,
          -2.51342511177063,
          3.0536792278289795,
          6.845992565155029,
          -7.547233581542969,
          15.355186462402344,
          12.831757545471191,
          15.354531288146973,
          -11.71487808227539,
          -11.023906707763672,
          -11.02334976196289,
          -10.371715545654297,
          20.07848358154297,
          15.07572078704834,
          12.146968841552734,
          -1.7405799627304077,
          4.4919233322143555,
          1.6406718492507935,
          1.8341537714004517,
          2.5483696460723877,
          -10.460725784301758,
          -6.912990093231201,
          -6.494575500488281,
          0.5915483832359314,
          17.244850158691406,
          6.574672698974609,
          15.324742317199707,
          -16.771310806274414,
          -19.795713424682617,
          -75.03173828125,
          10.491196632385254,
          10.060770988464355,
          15.3622465133667,
          -3.7871923446655273,
          -18.239028930664062,
          -21.914409637451172,
          -13.516759872436523,
          2.636645793914795,
          13.95020866394043,
          9.04468059539795,
          23.24254608154297,
          19.01653289794922,
          19.019933700561523,
          -14.12831974029541,
          20.405778884887695,
          1.8388538360595703,
          2.3609251976013184,
          -9.426868438720703,
          -13.623334884643555,
          6.1016106605529785,
          -22.229793548583984,
          2.7835888862609863,
          8.420719146728516,
          8.158400535583496,
          -69.81437683105469,
          19.297935485839844,
          9.44497299194336,
          -7.196847438812256,
          4.201285362243652,
          10.346840858459473,
          11.986715316772461,
          4.384333610534668,
          1.789507269859314,
          -7.674234390258789,
          6.070312023162842,
          14.390576362609863,
          -7.670683860778809,
          -12.761422157287598,
          4.288722038269043,
          14.30929946899414,
          -0.901168942451477,
          -10.46535587310791,
          9.88687801361084,
          7.5671257972717285,
          7.158058166503906,
          -6.712919235229492,
          -1.7438329458236694,
          17.962736129760742,
          5.141549587249756,
          -4.5937180519104,
          -8.283071517944336,
          16.09697151184082,
          21.96558952331543,
          -8.805541038513184,
          -9.273789405822754,
          7.710999011993408,
          7.5769782066345215,
          2.618053913116455,
          8.524642944335938,
          -8.523234367370605,
          -5.166652679443359,
          -5.021547794342041,
          19.367450714111328,
          -13.966999053955078,
          10.2964506149292,
          -10.640103340148926,
          4.489306926727295,
          -4.780201435089111,
          -12.024219512939453,
          -13.644381523132324,
          24.27327537536621,
          -5.549440383911133,
          26.1219482421875,
          20.968812942504883,
          -8.270267486572266,
          -2.7136263847351074,
          17.87270736694336,
          -13.385000228881836,
          3.65067195892334,
          -13.530426979064941,
          5.117986679077148,
          5.029941082000732,
          3.9591753482818604,
          5.812265872955322,
          20.396133422851562,
          5.703499794006348,
          -3.3151049613952637,
          -2.5685606002807617,
          14.489677429199219,
          5.781385898590088,
          5.147374629974365,
          22.73141860961914,
          12.444559097290039,
          -14.92988109588623,
          13.475397109985352,
          8.626455307006836,
          3.475644826889038,
          -16.918498992919922,
          -11.875015258789062,
          -16.444982528686523,
          -13.815653800964355,
          20.31723976135254,
          -14.695025444030762,
          -19.13744354248047,
          4.632014274597168,
          -20.42790985107422,
          20.357080459594727,
          27.22794532775879,
          -13.667061805725098,
          6.986802101135254,
          14.669361114501953,
          -12.024767875671387,
          8.514634132385254,
          -2.038546085357666,
          -11.495810508728027,
          11.704389572143555,
          -10.625383377075195,
          -19.13299560546875,
          -14.82939338684082,
          -17.565271377563477,
          -23.909868240356445,
          -8.241999626159668,
          -8.164712905883789,
          1.9594582319259644,
          11.080485343933105,
          2.1339447498321533,
          15.772867202758789,
          31.010963439941406,
          11.748047828674316,
          6.515498638153076,
          3.9779305458068848,
          -5.892044544219971,
          -39.334651947021484,
          4.728178977966309,
          5.648038864135742,
          11.882315635681152,
          7.89028787612915,
          -2.8753669261932373,
          -1.9185820817947388,
          -7.772956848144531,
          6.860832691192627,
          -1.2580208778381348,
          -24.327152252197266,
          1.5548516511917114,
          19.256927490234375,
          -10.312493324279785,
          -1.70270574092865,
          20.042699813842773,
          15.440972328186035,
          9.161696434020996,
          15.782820701599121,
          7.624616622924805,
          19.65165138244629,
          -19.502187728881836,
          9.787514686584473,
          -19.31753158569336,
          -18.689363479614258,
          -15.142929077148438,
          15.67786693572998,
          -1.0762786865234375,
          17.949710845947266,
          15.605107307434082,
          5.248537063598633,
          -5.15462064743042,
          5.875220775604248,
          18.721019744873047,
          24.06486701965332,
          15.927875518798828,
          -5.6675615310668945,
          11.234813690185547,
          19.254924774169922,
          -11.410296440124512,
          5.581310749053955,
          -10.754924774169922,
          25.780914306640625,
          1.6229459047317505,
          -11.53238296508789,
          15.283698081970215,
          24.352062225341797,
          -11.950559616088867,
          0.31733280420303345,
          -9.841391563415527,
          18.769630432128906,
          22.991073608398438,
          11.680543899536133,
          -9.72658920288086,
          17.06952476501465,
          15.340088844299316,
          5.586328983306885,
          -17.074073791503906,
          14.752372741699219,
          15.280891418457031,
          -7.975663185119629,
          -13.247204780578613,
          -7.156548023223877,
          -13.461068153381348,
          1.5383543968200684,
          10.531082153320312,
          -8.000033378601074,
          2.6165573596954346,
          -0.6804139018058777,
          -15.559210777282715,
          4.385735988616943,
          18.250627517700195,
          -12.68319320678711,
          -76.91218566894531,
          -3.7561657428741455,
          16.708498001098633,
          0.2561745345592499,
          -8.393686294555664,
          -7.437225818634033,
          -8.416826248168945,
          -11.742589950561523,
          -2.8344390392303467,
          -0.3546960651874542,
          -3.889604091644287,
          18.78946876525879,
          5.214085102081299,
          5.225080490112305,
          6.906153678894043,
          16.170066833496094,
          15.235673904418945,
          21.647987365722656,
          -8.278085708618164,
          -14.745317459106445,
          -9.305459022521973,
          -4.280710697174072,
          16.59239959716797,
          5.420318126678467,
          -7.156968116760254,
          10.005647659301758,
          -3.0836246013641357,
          6.744614601135254,
          -12.38827133178711,
          15.024824142456055,
          -13.213912010192871,
          25.585145950317383,
          1.1195380687713623,
          -9.371356010437012,
          -14.846719741821289,
          1.2033379077911377,
          -18.518999099731445,
          -18.380447387695312,
          13.051112174987793,
          -1.9963765144348145,
          -0.6765062212944031,
          -15.10649299621582,
          -14.113226890563965,
          -12.415008544921875,
          18.536972045898438,
          8.600958824157715,
          24.073030471801758,
          -1.7950588464736938,
          -15.539420127868652,
          12.729024887084961,
          -5.3259687423706055,
          -11.029374122619629,
          -8.388893127441406,
          -20.198137283325195,
          6.908306121826172,
          10.496612548828125,
          7.379072666168213,
          -1.38286554813385,
          -12.189756393432617,
          24.451814651489258,
          8.107358932495117,
          0.3384501338005066,
          -67.11717224121094,
          -15.146804809570312,
          -19.80318832397461,
          -2.021312713623047,
          -15.924864768981934,
          11.651742935180664,
          21.96278953552246,
          19.991172790527344,
          5.629251956939697,
          4.636492729187012,
          6.651492595672607,
          4.684950828552246,
          -2.7009830474853516,
          9.728716850280762,
          -18.180986404418945,
          -15.767910957336426,
          -4.338521480560303,
          -14.49422836303711,
          -0.10631395131349564,
          14.190041542053223,
          13.115730285644531,
          -61.30479431152344,
          -0.5307647585868835,
          2.195340394973755,
          10.146143913269043,
          -70.60400390625,
          21.852157592773438,
          10.637808799743652,
          -26.236879348754883,
          -42.381065368652344,
          -28.415956497192383,
          -28.417245864868164,
          20.58736801147461,
          -7.351406097412109,
          -4.345766544342041,
          18.158369064331055,
          10.713677406311035,
          -5.292308330535889,
          3.8909549713134766,
          -16.6942138671875,
          9.238016128540039,
          19.40313720703125,
          9.85216236114502,
          12.197927474975586,
          -10.686615943908691,
          9.896512031555176,
          13.582364082336426,
          17.408512115478516,
          -1.9187742471694946,
          1.4383647441864014,
          25.724849700927734,
          -14.07034969329834,
          5.3819804191589355,
          10.454611778259277,
          12.527444839477539,
          5.306445598602295,
          -1.2079235315322876,
          -20.363435745239258,
          -18.123754501342773,
          17.959043502807617,
          -17.546165466308594,
          -2.9409945011138916,
          -5.239075660705566,
          17.96318244934082,
          -16.554866790771484,
          -6.164690017700195,
          -10.573814392089844,
          -18.208189010620117,
          -9.232115745544434,
          -16.89039421081543,
          -1.2134625911712646,
          -4.477954864501953,
          24.49724578857422,
          14.052558898925781,
          -3.7675347328186035,
          -5.2025837898254395,
          -8.790240287780762,
          -6.3573479652404785,
          -15.878169059753418,
          7.298271179199219,
          3.453530788421631,
          2.2081029415130615,
          2.7846150398254395,
          -0.12271524220705032,
          9.074198722839355,
          2.4048209190368652,
          10.109575271606445,
          21.87154769897461,
          2.485954761505127,
          2.729349136352539,
          20.40011978149414,
          1.1145521402359009,
          17.069101333618164,
          19.402755737304688,
          -6.356597423553467,
          -0.2943701148033142,
          -15.56315803527832,
          -17.448354721069336,
          -20.270469665527344,
          18.161579132080078,
          3.1064324378967285,
          -5.906371116638184,
          -6.780142307281494,
          13.343085289001465,
          9.108316421508789,
          -17.667320251464844,
          -14.02584457397461,
          -60.67955017089844,
          -4.0333404541015625,
          14.595995903015137,
          0.7132801413536072,
          -6.0402116775512695,
          -1.0215339660644531,
          -1.238034963607788,
          13.080653190612793,
          -17.4334659576416,
          -0.4937872290611267,
          -5.33974027633667,
          21.140193939208984,
          36.89718246459961,
          21.097402572631836,
          16.79437255859375,
          4.954126834869385,
          -19.150470733642578,
          -14.867094039916992,
          -18.78067970275879,
          -8.932772636413574,
          -15.70779037475586,
          10.365995407104492,
          -2.9288671016693115,
          -2.929486036300659,
          -12.346728324890137,
          -8.079697608947754,
          -4.591191291809082,
          16.043048858642578,
          20.730844497680664,
          -4.620626926422119,
          4.9548468589782715,
          21.253433227539062,
          9.01112174987793,
          4.583806037902832,
          -13.585442543029785,
          2.094895362854004,
          -22.261329650878906,
          -6.256607532501221,
          -21.79759407043457,
          6.882546901702881,
          1.8841339349746704,
          -10.408225059509277,
          10.739109992980957,
          14.837182998657227,
          -7.110561847686768,
          -2.2563421726226807,
          -12.54251766204834,
          -8.976909637451172,
          -3.707123041152954,
          -1.9294958114624023,
          -6.230860710144043,
          -15.71640396118164,
          -21.29696273803711,
          -4.984678268432617,
          -7.642493724822998,
          -1.7918871641159058,
          15.449385643005371,
          14.006111145019531,
          -2.4594132900238037,
          11.388668060302734,
          -6.275954723358154,
          -19.501874923706055,
          -10.556389808654785,
          -53.96464920043945,
          -12.024539947509766,
          19.626331329345703,
          6.050946235656738,
          2.4795455932617188,
          -8.640867233276367,
          10.408149719238281,
          -5.184870719909668,
          0.9228188991546631,
          -0.9476257562637329,
          -0.8741500973701477,
          0.8785097002983093,
          1.912972331047058,
          13.583531379699707,
          2.7156646251678467,
          2.02217173576355,
          3.434171438217163,
          14.370290756225586,
          3.343950033187866,
          11.883255004882812,
          3.270805835723877,
          3.585418224334717,
          23.36149787902832,
          12.88245677947998,
          37.35219192504883,
          5.81701135635376,
          0.6460268497467041,
          -9.154828071594238,
          -3.3138387203216553,
          6.166659355163574,
          23.368541717529297,
          -13.503669738769531,
          -14.585246086120605,
          13.954474449157715,
          2.605886936187744,
          -17.886993408203125,
          -11.36323356628418,
          2.783949613571167,
          5.457402229309082,
          12.72842025756836,
          0.42300280928611755,
          11.709892272949219,
          -5.361469745635986,
          16.945810317993164,
          14.74122428894043,
          4.719780921936035,
          -5.966041564941406,
          -13.005412101745605,
          -3.7667291164398193,
          5.241968631744385,
          -22.638702392578125,
          2.5505435466766357,
          15.244327545166016,
          12.971206665039062,
          -18.059568405151367,
          19.403894424438477,
          -17.05002784729004,
          12.625601768493652,
          14.254087448120117,
          -6.004422187805176,
          -9.524577140808105,
          7.697730541229248,
          18.204166412353516,
          -10.203460693359375,
          12.305277824401855,
          21.594196319580078,
          -8.730915069580078,
          21.010347366333008,
          21.638608932495117,
          -9.804245948791504,
          18.025545120239258,
          -9.557331085205078,
          -4.087691307067871,
          16.579572677612305,
          -3.358381986618042,
          -12.707894325256348,
          22.468303680419922,
          -4.734287261962891,
          -4.7762131690979,
          -7.250200271606445,
          -0.1319887787103653,
          15.82028579711914,
          18.215351104736328,
          3.086962938308716,
          -1.6840767860412598,
          3.4679832458496094,
          -14.925944328308105,
          -4.187511920928955,
          -7.503982067108154,
          0.17588698863983154,
          -8.917187690734863,
          0.2779807150363922,
          -5.026600360870361,
          1.1184065341949463,
          -6.4765167236328125,
          19.168577194213867,
          -19.711687088012695,
          22.929672241210938,
          23.615070343017578,
          -12.568610191345215,
          -8.597236633300781,
          -21.798032760620117,
          -12.002363204956055,
          -3.1715450286865234,
          -15.134013175964355,
          -7.528886318206787,
          20.78022575378418,
          0.25064346194267273,
          -4.959120273590088,
          1.3362784385681152,
          1.3367995023727417,
          -0.15990287065505981,
          -4.628497123718262,
          -2.4700894355773926,
          11.385128021240234,
          14.491249084472656,
          10.709983825683594,
          -9.523972511291504,
          12.258477210998535,
          15.153238296508789,
          12.001082420349121,
          1.1236650943756104,
          12.734896659851074,
          11.80165958404541,
          10.04700756072998,
          18.82253646850586,
          13.982902526855469,
          11.233779907226562,
          12.711108207702637,
          15.285843849182129,
          -14.291605949401855,
          8.381491661071777,
          19.38467788696289,
          19.415559768676758,
          -19.555322647094727,
          -10.0975980758667,
          -9.619595527648926,
          -11.370634078979492,
          -22.10294532775879,
          -17.44418716430664,
          -17.379947662353516,
          17.400550842285156,
          15.678004264831543,
          6.729288578033447,
          -10.818363189697266,
          -0.30515336990356445,
          1.33539617061615,
          0.5922310948371887,
          1.33539617061615,
          17.90909767150879,
          -11.89283561706543,
          17.27742576599121,
          2.5584394931793213,
          0.8647149205207825,
          0.7751504778862,
          -14.116851806640625,
          -12.138675689697266,
          19.98080825805664,
          10.517415046691895,
          0.7586305737495422,
          8.707270622253418,
          5.956464767456055,
          -11.78720760345459,
          -23.289398193359375,
          6.095291614532471,
          6.958309650421143,
          7.039133071899414,
          8.872001647949219,
          -0.9055526256561279,
          -14.560017585754395,
          -12.157792091369629,
          11.429312705993652,
          0.32870763540267944,
          -3.211686134338379,
          -3.548579216003418,
          -9.553117752075195,
          -1.3376548290252686,
          17.058908462524414,
          6.827254295349121,
          21.698415756225586,
          16.583267211914062,
          -12.378169059753418,
          -20.288419723510742,
          21.334497451782227,
          15.16557502746582,
          -11.747897148132324,
          -15.149194717407227,
          -2.6176788806915283,
          -14.865965843200684,
          21.663551330566406,
          -5.893453121185303,
          -16.941730499267578,
          18.2030086517334,
          12.263927459716797,
          -18.931764602661133,
          13.77563762664795,
          -13.912242889404297,
          -0.8596850037574768,
          -15.042218208312988,
          -23.909099578857422,
          9.307356834411621,
          2.447061538696289,
          19.872880935668945,
          15.915060997009277,
          -4.953960418701172,
          2.1374309062957764,
          1.8833318948745728,
          1.8554913997650146,
          9.487810134887695,
          -3.5926592350006104,
          1.9971342086791992,
          15.16983413696289,
          -15.897238731384277,
          -2.761465072631836,
          -8.83720874786377,
          18.82952880859375,
          -7.962198257446289,
          -4.802382469177246,
          12.83001708984375,
          -6.894583225250244,
          -2.2181880474090576,
          12.83001708984375,
          0.16156215965747833,
          11.974006652832031,
          -19.3155574798584,
          -18.421993255615234,
          -3.181628942489624,
          14.844257354736328,
          1.33539617061615,
          -6.917233943939209,
          13.37426471710205,
          -1.0348191261291504,
          -8.976431846618652,
          3.264389991760254,
          -10.004673957824707,
          20.60908317565918,
          21.20246124267578,
          19.636707305908203,
          8.693184852600098,
          1.7753026485443115,
          23.89226722717285,
          3.2648887634277344,
          4.14566707611084,
          2.4140446186065674,
          1.34697425365448,
          -19.428983688354492,
          3.191678762435913,
          17.873281478881836,
          22.09535789489746,
          -42.381065368652344,
          20.769922256469727,
          -4.730932235717773,
          -0.31437864899635315,
          12.101033210754395,
          8.185155868530273,
          12.172189712524414,
          31.36872100830078,
          -16.966053009033203,
          -12.496939659118652,
          8.749799728393555,
          -2.4134304523468018,
          24.82381820678711,
          2.8634917736053467,
          -17.544620513916016,
          -20.52485466003418,
          -27.49948501586914,
          20.664262771606445,
          -10.70687484741211,
          11.731782913208008,
          -19.72371482849121,
          22.871675491333008,
          -13.247471809387207,
          -1.05230712890625,
          25.17684555053711,
          20.736751556396484,
          -7.100795269012451,
          16.528228759765625,
          12.25107192993164,
          11.879565238952637,
          -16.295345306396484,
          10.948573112487793,
          10.336084365844727,
          10.118739128112793,
          11.261998176574707,
          1.069036841392517,
          23.266674041748047,
          -3.444068670272827,
          -48.50402069091797,
          0.5568763017654419,
          -14.808195114135742,
          3.79127836227417,
          3.6566784381866455,
          -12.77723217010498,
          -14.946885108947754,
          -81.09256744384766,
          -18.849708557128906,
          1.3853875398635864,
          10.16110610961914,
          -2.8493599891662598,
          -13.741716384887695,
          -6.231679916381836,
          -4.9492950439453125,
          15.1212739944458,
          -10.894853591918945,
          20.240507125854492,
          21.22703742980957,
          14.221647262573242,
          -10.242706298828125,
          -8.404361724853516,
          -4.990270614624023,
          25.742483139038086,
          -14.818741798400879,
          -17.208276748657227,
          -0.533511757850647,
          5.202341079711914,
          -3.55204701423645,
          12.410565376281738,
          12.410510063171387,
          -7.981094837188721,
          9.315011024475098,
          18.258716583251953,
          -3.8639400005340576,
          -4.240882873535156,
          -4.617121696472168,
          -4.23911714553833,
          -14.492176055908203,
          5.875220775604248,
          8.890503883361816,
          -18.19887924194336,
          -3.86177134513855,
          -4.212792873382568,
          -11.174023628234863,
          -10.917057991027832,
          -10.916709899902344,
          28.482614517211914,
          -5.324010848999023,
          17.461109161376953,
          -11.750385284423828,
          -6.458012580871582,
          -1.9454081058502197,
          10.580418586730957,
          12.268260955810547,
          -4.226340293884277,
          13.222777366638184,
          -11.794495582580566,
          -8.242104530334473,
          14.11976432800293,
          -21.228960037231445,
          -21.230165481567383,
          2.1906325817108154,
          -21.40907859802246,
          17.873584747314453,
          -19.31756591796875,
          5.669825077056885,
          5.130911350250244,
          -70.81963348388672,
          5.150893211364746,
          -20.031734466552734,
          -14.791794776916504,
          -5.154234886169434,
          14.579278945922852,
          -3.657334327697754,
          12.39652156829834,
          4.582396507263184,
          -13.157576560974121,
          -9.996493339538574,
          5.086373805999756,
          -19.317598342895508,
          8.166911125183105,
          8.166911125183105,
          6.4853739738464355,
          17.33568572998047,
          -11.746874809265137,
          -9.22403335571289,
          -13.24246883392334,
          5.4875569343566895,
          17.302186965942383,
          -11.380309104919434,
          -16.47812843322754,
          -19.987117767333984,
          3.94838809967041,
          -3.230145215988159,
          -10.153575897216797,
          -13.848724365234375,
          -8.131845474243164,
          -1.1478182077407837,
          15.09083366394043
         ],
         "yaxis": "y"
        }
       ],
       "layout": {
        "coloraxis": {
         "colorbar": {
          "title": {
           "text": "Cluster"
          }
         },
         "colorscale": [
          [
           0,
           "#0d0887"
          ],
          [
           0.1111111111111111,
           "#46039f"
          ],
          [
           0.2222222222222222,
           "#7201a8"
          ],
          [
           0.3333333333333333,
           "#9c179e"
          ],
          [
           0.4444444444444444,
           "#bd3786"
          ],
          [
           0.5555555555555556,
           "#d8576b"
          ],
          [
           0.6666666666666666,
           "#ed7953"
          ],
          [
           0.7777777777777778,
           "#fb9f3a"
          ],
          [
           0.8888888888888888,
           "#fdca26"
          ],
          [
           1,
           "#f0f921"
          ]
         ]
        },
        "height": 800,
        "legend": {
         "tracegroupgap": 0
        },
        "template": {
         "data": {
          "bar": [
           {
            "error_x": {
             "color": "#2a3f5f"
            },
            "error_y": {
             "color": "#2a3f5f"
            },
            "marker": {
             "line": {
              "color": "#E5ECF6",
              "width": 0.5
             },
             "pattern": {
              "fillmode": "overlay",
              "size": 10,
              "solidity": 0.2
             }
            },
            "type": "bar"
           }
          ],
          "barpolar": [
           {
            "marker": {
             "line": {
              "color": "#E5ECF6",
              "width": 0.5
             },
             "pattern": {
              "fillmode": "overlay",
              "size": 10,
              "solidity": 0.2
             }
            },
            "type": "barpolar"
           }
          ],
          "carpet": [
           {
            "aaxis": {
             "endlinecolor": "#2a3f5f",
             "gridcolor": "white",
             "linecolor": "white",
             "minorgridcolor": "white",
             "startlinecolor": "#2a3f5f"
            },
            "baxis": {
             "endlinecolor": "#2a3f5f",
             "gridcolor": "white",
             "linecolor": "white",
             "minorgridcolor": "white",
             "startlinecolor": "#2a3f5f"
            },
            "type": "carpet"
           }
          ],
          "choropleth": [
           {
            "colorbar": {
             "outlinewidth": 0,
             "ticks": ""
            },
            "type": "choropleth"
           }
          ],
          "contour": [
           {
            "colorbar": {
             "outlinewidth": 0,
             "ticks": ""
            },
            "colorscale": [
             [
              0,
              "#0d0887"
             ],
             [
              0.1111111111111111,
              "#46039f"
             ],
             [
              0.2222222222222222,
              "#7201a8"
             ],
             [
              0.3333333333333333,
              "#9c179e"
             ],
             [
              0.4444444444444444,
              "#bd3786"
             ],
             [
              0.5555555555555556,
              "#d8576b"
             ],
             [
              0.6666666666666666,
              "#ed7953"
             ],
             [
              0.7777777777777778,
              "#fb9f3a"
             ],
             [
              0.8888888888888888,
              "#fdca26"
             ],
             [
              1,
              "#f0f921"
             ]
            ],
            "type": "contour"
           }
          ],
          "contourcarpet": [
           {
            "colorbar": {
             "outlinewidth": 0,
             "ticks": ""
            },
            "type": "contourcarpet"
           }
          ],
          "heatmap": [
           {
            "colorbar": {
             "outlinewidth": 0,
             "ticks": ""
            },
            "colorscale": [
             [
              0,
              "#0d0887"
             ],
             [
              0.1111111111111111,
              "#46039f"
             ],
             [
              0.2222222222222222,
              "#7201a8"
             ],
             [
              0.3333333333333333,
              "#9c179e"
             ],
             [
              0.4444444444444444,
              "#bd3786"
             ],
             [
              0.5555555555555556,
              "#d8576b"
             ],
             [
              0.6666666666666666,
              "#ed7953"
             ],
             [
              0.7777777777777778,
              "#fb9f3a"
             ],
             [
              0.8888888888888888,
              "#fdca26"
             ],
             [
              1,
              "#f0f921"
             ]
            ],
            "type": "heatmap"
           }
          ],
          "heatmapgl": [
           {
            "colorbar": {
             "outlinewidth": 0,
             "ticks": ""
            },
            "colorscale": [
             [
              0,
              "#0d0887"
             ],
             [
              0.1111111111111111,
              "#46039f"
             ],
             [
              0.2222222222222222,
              "#7201a8"
             ],
             [
              0.3333333333333333,
              "#9c179e"
             ],
             [
              0.4444444444444444,
              "#bd3786"
             ],
             [
              0.5555555555555556,
              "#d8576b"
             ],
             [
              0.6666666666666666,
              "#ed7953"
             ],
             [
              0.7777777777777778,
              "#fb9f3a"
             ],
             [
              0.8888888888888888,
              "#fdca26"
             ],
             [
              1,
              "#f0f921"
             ]
            ],
            "type": "heatmapgl"
           }
          ],
          "histogram": [
           {
            "marker": {
             "pattern": {
              "fillmode": "overlay",
              "size": 10,
              "solidity": 0.2
             }
            },
            "type": "histogram"
           }
          ],
          "histogram2d": [
           {
            "colorbar": {
             "outlinewidth": 0,
             "ticks": ""
            },
            "colorscale": [
             [
              0,
              "#0d0887"
             ],
             [
              0.1111111111111111,
              "#46039f"
             ],
             [
              0.2222222222222222,
              "#7201a8"
             ],
             [
              0.3333333333333333,
              "#9c179e"
             ],
             [
              0.4444444444444444,
              "#bd3786"
             ],
             [
              0.5555555555555556,
              "#d8576b"
             ],
             [
              0.6666666666666666,
              "#ed7953"
             ],
             [
              0.7777777777777778,
              "#fb9f3a"
             ],
             [
              0.8888888888888888,
              "#fdca26"
             ],
             [
              1,
              "#f0f921"
             ]
            ],
            "type": "histogram2d"
           }
          ],
          "histogram2dcontour": [
           {
            "colorbar": {
             "outlinewidth": 0,
             "ticks": ""
            },
            "colorscale": [
             [
              0,
              "#0d0887"
             ],
             [
              0.1111111111111111,
              "#46039f"
             ],
             [
              0.2222222222222222,
              "#7201a8"
             ],
             [
              0.3333333333333333,
              "#9c179e"
             ],
             [
              0.4444444444444444,
              "#bd3786"
             ],
             [
              0.5555555555555556,
              "#d8576b"
             ],
             [
              0.6666666666666666,
              "#ed7953"
             ],
             [
              0.7777777777777778,
              "#fb9f3a"
             ],
             [
              0.8888888888888888,
              "#fdca26"
             ],
             [
              1,
              "#f0f921"
             ]
            ],
            "type": "histogram2dcontour"
           }
          ],
          "mesh3d": [
           {
            "colorbar": {
             "outlinewidth": 0,
             "ticks": ""
            },
            "type": "mesh3d"
           }
          ],
          "parcoords": [
           {
            "line": {
             "colorbar": {
              "outlinewidth": 0,
              "ticks": ""
             }
            },
            "type": "parcoords"
           }
          ],
          "pie": [
           {
            "automargin": true,
            "type": "pie"
           }
          ],
          "scatter": [
           {
            "marker": {
             "colorbar": {
              "outlinewidth": 0,
              "ticks": ""
             }
            },
            "type": "scatter"
           }
          ],
          "scatter3d": [
           {
            "line": {
             "colorbar": {
              "outlinewidth": 0,
              "ticks": ""
             }
            },
            "marker": {
             "colorbar": {
              "outlinewidth": 0,
              "ticks": ""
             }
            },
            "type": "scatter3d"
           }
          ],
          "scattercarpet": [
           {
            "marker": {
             "colorbar": {
              "outlinewidth": 0,
              "ticks": ""
             }
            },
            "type": "scattercarpet"
           }
          ],
          "scattergeo": [
           {
            "marker": {
             "colorbar": {
              "outlinewidth": 0,
              "ticks": ""
             }
            },
            "type": "scattergeo"
           }
          ],
          "scattergl": [
           {
            "marker": {
             "colorbar": {
              "outlinewidth": 0,
              "ticks": ""
             }
            },
            "type": "scattergl"
           }
          ],
          "scattermapbox": [
           {
            "marker": {
             "colorbar": {
              "outlinewidth": 0,
              "ticks": ""
             }
            },
            "type": "scattermapbox"
           }
          ],
          "scatterpolar": [
           {
            "marker": {
             "colorbar": {
              "outlinewidth": 0,
              "ticks": ""
             }
            },
            "type": "scatterpolar"
           }
          ],
          "scatterpolargl": [
           {
            "marker": {
             "colorbar": {
              "outlinewidth": 0,
              "ticks": ""
             }
            },
            "type": "scatterpolargl"
           }
          ],
          "scatterternary": [
           {
            "marker": {
             "colorbar": {
              "outlinewidth": 0,
              "ticks": ""
             }
            },
            "type": "scatterternary"
           }
          ],
          "surface": [
           {
            "colorbar": {
             "outlinewidth": 0,
             "ticks": ""
            },
            "colorscale": [
             [
              0,
              "#0d0887"
             ],
             [
              0.1111111111111111,
              "#46039f"
             ],
             [
              0.2222222222222222,
              "#7201a8"
             ],
             [
              0.3333333333333333,
              "#9c179e"
             ],
             [
              0.4444444444444444,
              "#bd3786"
             ],
             [
              0.5555555555555556,
              "#d8576b"
             ],
             [
              0.6666666666666666,
              "#ed7953"
             ],
             [
              0.7777777777777778,
              "#fb9f3a"
             ],
             [
              0.8888888888888888,
              "#fdca26"
             ],
             [
              1,
              "#f0f921"
             ]
            ],
            "type": "surface"
           }
          ],
          "table": [
           {
            "cells": {
             "fill": {
              "color": "#EBF0F8"
             },
             "line": {
              "color": "white"
             }
            },
            "header": {
             "fill": {
              "color": "#C8D4E3"
             },
             "line": {
              "color": "white"
             }
            },
            "type": "table"
           }
          ]
         },
         "layout": {
          "annotationdefaults": {
           "arrowcolor": "#2a3f5f",
           "arrowhead": 0,
           "arrowwidth": 1
          },
          "autotypenumbers": "strict",
          "coloraxis": {
           "colorbar": {
            "outlinewidth": 0,
            "ticks": ""
           }
          },
          "colorscale": {
           "diverging": [
            [
             0,
             "#8e0152"
            ],
            [
             0.1,
             "#c51b7d"
            ],
            [
             0.2,
             "#de77ae"
            ],
            [
             0.3,
             "#f1b6da"
            ],
            [
             0.4,
             "#fde0ef"
            ],
            [
             0.5,
             "#f7f7f7"
            ],
            [
             0.6,
             "#e6f5d0"
            ],
            [
             0.7,
             "#b8e186"
            ],
            [
             0.8,
             "#7fbc41"
            ],
            [
             0.9,
             "#4d9221"
            ],
            [
             1,
             "#276419"
            ]
           ],
           "sequential": [
            [
             0,
             "#0d0887"
            ],
            [
             0.1111111111111111,
             "#46039f"
            ],
            [
             0.2222222222222222,
             "#7201a8"
            ],
            [
             0.3333333333333333,
             "#9c179e"
            ],
            [
             0.4444444444444444,
             "#bd3786"
            ],
            [
             0.5555555555555556,
             "#d8576b"
            ],
            [
             0.6666666666666666,
             "#ed7953"
            ],
            [
             0.7777777777777778,
             "#fb9f3a"
            ],
            [
             0.8888888888888888,
             "#fdca26"
            ],
            [
             1,
             "#f0f921"
            ]
           ],
           "sequentialminus": [
            [
             0,
             "#0d0887"
            ],
            [
             0.1111111111111111,
             "#46039f"
            ],
            [
             0.2222222222222222,
             "#7201a8"
            ],
            [
             0.3333333333333333,
             "#9c179e"
            ],
            [
             0.4444444444444444,
             "#bd3786"
            ],
            [
             0.5555555555555556,
             "#d8576b"
            ],
            [
             0.6666666666666666,
             "#ed7953"
            ],
            [
             0.7777777777777778,
             "#fb9f3a"
            ],
            [
             0.8888888888888888,
             "#fdca26"
            ],
            [
             1,
             "#f0f921"
            ]
           ]
          },
          "colorway": [
           "#636efa",
           "#EF553B",
           "#00cc96",
           "#ab63fa",
           "#FFA15A",
           "#19d3f3",
           "#FF6692",
           "#B6E880",
           "#FF97FF",
           "#FECB52"
          ],
          "font": {
           "color": "#2a3f5f"
          },
          "geo": {
           "bgcolor": "white",
           "lakecolor": "white",
           "landcolor": "#E5ECF6",
           "showlakes": true,
           "showland": true,
           "subunitcolor": "white"
          },
          "hoverlabel": {
           "align": "left"
          },
          "hovermode": "closest",
          "mapbox": {
           "style": "light"
          },
          "paper_bgcolor": "white",
          "plot_bgcolor": "#E5ECF6",
          "polar": {
           "angularaxis": {
            "gridcolor": "white",
            "linecolor": "white",
            "ticks": ""
           },
           "bgcolor": "#E5ECF6",
           "radialaxis": {
            "gridcolor": "white",
            "linecolor": "white",
            "ticks": ""
           }
          },
          "scene": {
           "xaxis": {
            "backgroundcolor": "#E5ECF6",
            "gridcolor": "white",
            "gridwidth": 2,
            "linecolor": "white",
            "showbackground": true,
            "ticks": "",
            "zerolinecolor": "white"
           },
           "yaxis": {
            "backgroundcolor": "#E5ECF6",
            "gridcolor": "white",
            "gridwidth": 2,
            "linecolor": "white",
            "showbackground": true,
            "ticks": "",
            "zerolinecolor": "white"
           },
           "zaxis": {
            "backgroundcolor": "#E5ECF6",
            "gridcolor": "white",
            "gridwidth": 2,
            "linecolor": "white",
            "showbackground": true,
            "ticks": "",
            "zerolinecolor": "white"
           }
          },
          "shapedefaults": {
           "line": {
            "color": "#2a3f5f"
           }
          },
          "ternary": {
           "aaxis": {
            "gridcolor": "white",
            "linecolor": "white",
            "ticks": ""
           },
           "baxis": {
            "gridcolor": "white",
            "linecolor": "white",
            "ticks": ""
           },
           "bgcolor": "#E5ECF6",
           "caxis": {
            "gridcolor": "white",
            "linecolor": "white",
            "ticks": ""
           }
          },
          "title": {
           "x": 0.05
          },
          "xaxis": {
           "automargin": true,
           "gridcolor": "white",
           "linecolor": "white",
           "ticks": "",
           "title": {
            "standoff": 15
           },
           "zerolinecolor": "white",
           "zerolinewidth": 2
          },
          "yaxis": {
           "automargin": true,
           "gridcolor": "white",
           "linecolor": "white",
           "ticks": "",
           "title": {
            "standoff": 15
           },
           "zerolinecolor": "white",
           "zerolinewidth": 2
          }
         }
        },
        "title": {
         "text": "t-SNE visualization of Cocktails Clusters"
        },
        "width": 1000,
        "xaxis": {
         "anchor": "y",
         "domain": [
          0,
          1
         ],
         "title": {
          "text": "tsne-2d-one"
         }
        },
        "yaxis": {
         "anchor": "x",
         "domain": [
          0,
          1
         ],
         "title": {
          "text": "tsne-2d-two"
         }
        }
       }
      },
      "text/html": [
       "<div>                            <div id=\"1b78bb9a-e021-4acf-ba90-79613ab71ba8\" class=\"plotly-graph-div\" style=\"height:800px; width:1000px;\"></div>            <script type=\"text/javascript\">                require([\"plotly\"], function(Plotly) {                    window.PLOTLYENV=window.PLOTLYENV || {};                                    if (document.getElementById(\"1b78bb9a-e021-4acf-ba90-79613ab71ba8\")) {                    Plotly.newPlot(                        \"1b78bb9a-e021-4acf-ba90-79613ab71ba8\",                        [{\"customdata\":[[\"1626\"],[\"19th Century\"],[\"A. J.\"],[\"Absinthe Cocktail\"],[\"Absinthe Drip Cocktail\"],[\"Absinthe Special Cocktail\"],[\"Academic Review\"],[\"Acapulco\"],[\"Adam and Eve\"],[\"Adderly Cocktail\"],[\"Admiral Perry\"],[\"Affinity Cocktail\"],[\"Affinity Cocktail (whisky)\"],[\"After Dinner Cocktail\"],[\"After Supper Cocktail\"],[\"Akogare\"],[\"Alamo Splash\"],[\"Alexander Cocktail No. 1\"],[\"Alexander Cocktail No. 2\"],[\"Alexander's Sister Cocktail\"],[\"Alfie Cocktail\"],[\"Algonquin\"],[\"Allegheny\"],[\"Allies Cocktail\"],[\"Almeria\"],[\"Amante Picante\"],[\"Amaretto And Cream\"],[\"Amaretto Rose\"],[\"Amaretto Sour\"],[\"Amaretto Stinger\"],[\"Amber Amour\"],[\"Ambrosia\"],[\"American Trilogy\"],[\"Americana\"],[\"Angel's Share\"],[\"Ante\"],[\"Antoine Special\"],[\"Apple Blow Fizz\"],[\"Apple Pie\"],[\"Apple Pie Cocktail\"],[\"Apple Pie No. 1\"],[\"Apple Rum Rickey\"],[\"Applecar\"],[\"Applejack Punch\"],[\"Apricot Anise Collins\"],[\"Apricot Anisette Collins\"],[\"Apricot Cocktail\"],[\"Apricot Lady\"],[\"Aquarius\"],[\"Aqueduct\"],[\"Aunt Jemima\"],[\"Autumn Leaves\"],[\"Aztec's Mark\"],[\"Bacardi Cocktail\"],[\"Bachelor's Bait Cocktail\"],[\"Back Porch Swizzle\"],[\"Baltimore Bracer\"],[\"Baltimore Bracer Cocktail\"],[\"Barbary Coast Cocktail\"],[\"Barnaby's Buffalo Blizzard\"],[\"Barton Special\"],[\"Basil 8\"],[\"Basin Street\"],[\"Beals Cocktail\"],[\"Beer Buster\"],[\"Bella Fragolia\"],[\"Bensonhurst\"],[\"Bentley\"],[\"Bermuda Rose\"],[\"Bermuda Rose Cocktail\"],[\"Betsy Ross Cocktail\"],[\"Between-The-Sheets Cocktail\"],[\"Bianca\"],[\"Biffy Cocktail\"],[\"Big Red Hooter\"],[\"Bijou Cocktail\"],[\"Bikini\"],[\"Billy Taylor\"],[\"Bird-of-Paradise Fizz\"],[\"Black Cherry Chocolate\"],[\"Black Hawk\"],[\"Black Hawk Cocktail\"],[\"Black Magic\"],[\"Black Russian\"],[\"Black Velvet\"],[\"Blarney Stone Cocktail\"],[\"Blood Bronx Cocktail\"],[\"Blood and Sand\"],[\"Bloodhound Cocktail\"],[\"Bloody Bull\"],[\"Bloody Maria\"],[\"Bloody Mary\"],[\"Bloody Scotsman\"],[\"Blue Bird\"],[\"Blue Canary\"],[\"Blue Devil Cocktail\"],[\"Blue Lagoon\"],[\"Blue Margarita\"],[\"Bobby Burns Cocktail\"],[\"Bolero Cocktail\"],[\"Bolshoi Punch\"],[\"Bordeaux Cocktail\"],[\"Boston Bullet\"],[\"Boston Gold\"],[\"Boston Side Car\"],[\"Boston Sidecar Cocktail\"],[\"Boston Sour\"],[\"Bourbon A La Creme\"],[\"Bourbon And Elder\"],[\"Bourbon Cobbler\"],[\"Bourbon Cooler\"],[\"Bourbon Crusta\"],[\"Bourbon Highball\"],[\"Bourbon On The Rocks\"],[\"Bourbon Renewal\"],[\"Bourbon and Water\"],[\"Brandy Alexander\"],[\"Brandy Crusta Cocktail\"],[\"Brandy Flip\"],[\"Brandy Milk Punch\"],[\"Brandy Squirt\"],[\"Brandy Vermouth Cocktail\"],[\"Brandy and Soda\"],[\"Brantini\"],[\"Brave Bull\"],[\"Bravo\"],[\"Brighton Punch\"],[\"Bronx Cocktail (Dry)\"],[\"Bronx Golden Cocktail\"],[\"Bronx SIlver Cocktail\"],[\"Bronx Terrace Cocktail\"],[\"Brooklyn\"],[\"Brown Cocktail\"],[\"Brunswick Street Cocktail\"],[\"Buckjones\"],[\"Bucks Fizz\"],[\"Bucks Fizz (Mimosa)\"],[\"Buddy's Favorite\"],[\"Bull And Bear\"],[\"Bull Shot\"],[\"Bull's Eye\"],[\"Bull's Milk\"],[\"Bulla's Eye\"],[\"Bulldog Cocktail\"],[\"Bulldog Highball\"],[\"Bulldog Highballl\"],[\"Bullfrog\"],[\"Bum's Rush\"],[\"Bushranger\"],[\"Button Hook Cocktail\"],[\"Cabaret Cocktail\"],[\"Cablegram\"],[\"Cablegram Highball\"],[\"Cactus Berry\"],[\"Cadiz\"],[\"Caesar\"],[\"Caf_ di Amaretto\"],[\"Cafe De Paris Cocktail\"],[\"Cafe di Saronno\"],[\"Caledonia\"],[\"California Lemonade\"],[\"Calm Voyage\"],[\"Calvados Cocktail\"],[\"Cameron's Kick Cocktail\"],[\"Camino Del Ray\"],[\"Canadian Breeze\"],[\"Canadian Cherry\"],[\"Canadian Cocktail\"],[\"Canadian Pineapple\"],[\"Canal Street Daisy\"],[\"Cape Codder\"],[\"Cappuccino Cocktail\"],[\"Cara Sposa\"],[\"Caribbean Champagne\"],[\"Caribbean Cruise\"],[\"Carre Reprise\"],[\"Carrol Cocktail\"],[\"Carroll Cocktail\"],[\"Caruso\"],[\"Casa Blanca\"],[\"Casco Bay Lemonade\"],[\"Catalina Margarita\"],[\"Champagne Flamingo\"],[\"Champagne Velvet\"],[\"Champs Elysees Cocktail\"],[\"Chancellor Cocktail\"],[\"Chapala\"],[\"Chapel Hill\"],[\"Chaplin\"],[\"Character Development\"],[\"Charles Cocktail\"],[\"Chas\"],[\"Chateau Briand's Rum Cow\"],[\"Chef's Pain\"],[\"Chelsea Sidecar Cocktail\"],[\"Cherry Blossom\"],[\"Cherry Blossom Cocktail\"],[\"Cherry Cooler\"],[\"Cherry Fizz\"],[\"Cherry Flip\"],[\"Cherry Rum\"],[\"Cherry Sling\"],[\"Cherry Wine Cocktail\"],[\"Chi-Town Flip\"],[\"Chicago Cocktail\"],[\"Chicago Fizz\"],[\"Chinchona\"],[\"Chocolate Cocktail\"],[\"Chocolate Daisy\"],[\"Chocolate Flip\"],[\"Chocolate Soldier\"],[\"Chocolate Soldier Cocktail\"],[\"Chupa Cabra\"],[\"Cider Eggnog\"],[\"Citronella Cooler\"],[\"Clamato Cocktail\"],[\"Classic Cocktail\"],[\"Clove Cocktail\"],[\"Clover Club Cocktail\"],[\"Clover Leaf Cocktail\"],[\"Coffee Cocktail\"],[\"Coffee Flip\"],[\"Coffee Grasshopper\"],[\"Coffee Old-Fashioned\"],[\"Coffee Sour\"],[\"Cognac Coupling\"],[\"Cognac Highball\"],[\"Cold Deck Cocktail\"],[\"Cole's Raspberry Cream\"],[\"Combo\"],[\"Commodore Cocktail\"],[\"Company B\"],[\"Cool Carlos\"],[\"Cornell Cocktail\"],[\"Coronation Cocktail\"],[\"Corpse Reviver No. 1\"],[\"Cosmopolitan\"],[\"Cotton Club Flip\"],[\"Count Camillo's Paloma\"],[\"Cowboy Cocktail\"],[\"Creamsicle\"],[\"Creamy Orange\"],[\"Creamy Screwdriver\"],[\"Creme De Cafe\"],[\"Creme de Gin Cocktail\"],[\"Creole Lady\"],[\"Creole Lady Cocktail\"],[\"Crocodile Cooler\"],[\"Cuban Cocktail No. 1\"],[\"Cuban Cocktail No. 2\"],[\"Cuban Special Cocktail\"],[\"Cubeltini\"],[\"D'artagnan\"],[\"Daiquiri\"],[\"Daiquiri Cocktail\"],[\"Daisy Dueller\"],[\"De La Louisiane\"],[\"Deauville Cocktail\"],[\"Delmonico No. 2\"],[\"Depth Bomb\"],[\"Derby\"],[\"Derby Fizz\"],[\"Desert Sunrise\"],[\"Deshler\"],[\"Devil's Cocktail\"],[\"Devil's Soul\"],[\"Diablo\"],[\"Dillatini\"],[\"Dillatini Cocktail\"],[\"Dinah Cocktail\"],[\"Diplomat Cocktail\"],[\"Dirty Daisy\"],[\"Dirty Harry\"],[\"Dixie Cocktail\"],[\"Dixie Julep\"],[\"Dixie Whiskey Cocktail\"],[\"Doctor Cook\"],[\"Dolores\"],[\"Double Standard Sour\"],[\"Dr. Cook\"],[\"Dream Cocktail\"],[\"Dreamy Dorini Smoking Martini\"],[\"Dry Martini\"],[\"Dry Martini (5-to-1)\"],[\"Du Barry Cocktail\"],[\"Dubliner\"],[\"Dubonnet Cocktail\"],[\"Dubonnet Fizz\"],[\"Dubonnet Highball\"],[\"Dufftown Flip\"],[\"Duke Cocktail\"],[\"East India Cocktail No. 1\"],[\"Easter Elchies\"],[\"Eastern Sour\"],[\"Easterner\"],[\"Egg Sour\"],[\"Eggnog Supreme\"],[\"El Molino\"],[\"El Ni_o\"],[\"El Oso (The Bear)\"],[\"El Presidente Cocktail No. 2\"],[\"El Profesor\"],[\"Electric Jam\"],[\"Elk's Own Cocktail\"],[\"Emerald Isle Cocktail\"],[\"Emperor Norton's Mistress\"],[\"Ethel Duffy Cocktail\"],[\"Everybody's Irish Cocktail\"],[\"Eye-Opener\"],[\"Fair-and-Warmer Cocktail\"],[\"Fairy Belle Cocktail\"],[\"Fallen Angel Cocktail\"],[\"Fallen Leaves\"],[\"Fancy Brandy\"],[\"Fancy Brandy Cocktail\"],[\"Fancy Whiskey\"],[\"Fancy-Free Cocktail\"],[\"Fantasio Cocktail\"],[\"Farmer's Cocktail\"],[\"Fat Like Buddha\"],[\"Favorite Cocktail\"],[\"Favourite Cocktail\"],[\"Fifty-Fifty Cocktail\"],[\"Fireman's Sour\"],[\"Flatiron Martini\"],[\"Floridita No. 1\"],[\"Floridita No. 3\"],[\"Flower Power\"],[\"Flying Dutchman\"],[\"Flying Grasshopper Cocktail\"],[\"Flying Scotchman\"],[\"Flying Scotchman Cocktail\"],[\"Fog Cutter\"],[\"Fog Horn\"],[\"Fontainebleau Special\"],[\"Fort Lauderdale\"],[\"Fox River Cocktail\"],[\"Francis The Mule\"],[\"Frankenjack Cocktail\"],[\"Fratelli Cocktail\"],[\"Free Silver\"],[\"French Martini\"],[\"French Quarter\"],[\"Frisco Sour\"],[\"Frisky Witch\"],[\"Frostbite\"],[\"Froth Blower Cocktail\"],[\"Froupe Cocktail\"],[\"Frozen Apple\"],[\"Frozen Brandy and Rum\"],[\"Gables Collins\"],[\"Gaugin\"],[\"Gauguin\"],[\"General Harrison's Eggnog\"],[\"Gentle Ben\"],[\"Gentleman's Cocktail\"],[\"Georgia Mint Julep\"],[\"Georgia Mule\"],[\"Georgia Peach\"],[\"Gilchrist\"],[\"Gilroy Cocktail\"],[\"Gimlet\"],[\"Gimlet Cocktail\"],[\"Gin Cocktail\"],[\"Gin Milk Punch\"],[\"Gin Sling\"],[\"Gin and It\"],[\"Gin and Milk Punch\"],[\"Ginger Grapefruit Rickey\"],[\"Glass Tower\"],[\"Glogg\"],[\"Gloom Lifter\"],[\"Goat's Delight\"],[\"God Child\"],[\"Godchild\"],[\"Godfather\"],[\"Godmother\"],[\"Golden Dawn\"],[\"Golden Eclipse\"],[\"Golden Fizz\"],[\"Golden Frappe\"],[\"Golden Friendship\"],[\"Golden Slipper\"],[\"Golden Slipper Cocktail\"],[\"Goldrush\"],[\"Gotham\"],[\"Grande Guignol\"],[\"Grandfather\"],[\"Grape Nehi\"],[\"Grape Vodka Froth\"],[\"Grapefruit Cocktail\"],[\"Grapefruit Gimlet Royale\"],[\"Grapefruit Nog\"],[\"Grasshopper Cocktail\"],[\"Green Devil\"],[\"Green Dragon Cocktail\"],[\"Green Fizz\"],[\"Green Hornet (Dry)\"],[\"Green Opal\"],[\"Green Opal Cocktail\"],[\"Greenback\"],[\"Greenpoint\"],[\"Grenadine Rickey\"],[\"Greyhound\"],[\"Grounds For Divorce\"],[\"Guadalajara\"],[\"H. P. W. Cocktail\"],[\"H.P.W. Cocktail\"],[\"Hai Karate\"],[\"Hair Raiser\"],[\"Hair Raiser Cocktail\"],[\"Hairy Sunrise\"],[\"Handball Cooler\"],[\"Harrington\"],[\"Harvard Cocktail\"],[\"Harvard Cooler\"],[\"Harvest Moon\"],[\"Harvest Nectar\"],[\"Harvey Wallbanger\"],[\"Havana Cocktail\"],[\"Hawaiin Cocktail\"],[\"Headless Horseman\"],[\"Heather Blush\"],[\"Heather's Kiss\"],[\"Heavenly Dram\"],[\"Hebrides\"],[\"Hemingway's Nog\"],[\"Hennessy Martini\"],[\"High Cotton\"],[\"High Plains Drifter No. 1\"],[\"Highland Cooler\"],[\"Hill Billy Highball\"],[\"Hill Dog\"],[\"Hoffman House Cocktail\"],[\"Hole-In-One\"],[\"Hole-in-One Cocktai\"],[\"Hole-in-One Cocktail\"],[\"Honeymoon Cocktail\"],[\"Hoot Mon Cocktail\"],[\"Hop Toad\"],[\"Hop Toad Cocktail\"],[\"Horse's Neck (With A Kick)\"],[\"Hot Brandy Flip\"],[\"Hot Pants\"],[\"Hot Shot Margarita\"],[\"Hotel D'alsace\"],[\"Hotel Plaza Cocktail\"],[\"Humpty Dumpty\"],[\"Huntsman Cocktail\"],[\"Hurricane\"],[\"Hurricane Leah\"],[\"Hush and Wonder\"],[\"Hyatt's Jamaican Banana\"],[\"I.A.P.\"],[\"Ibiza\"],[\"Ice Cream Flip\"],[\"Imperial Fizz\"],[\"Incider Cocktail\"],[\"Irish Rickey\"],[\"Irish Shillelagh\"],[\"Irish Whiskey Cocktail\"],[\"Irish Whiskey Highball\"],[\"Irish Whisky\"],[\"Irish Whisky Cocktail\"],[\"Irresistible\"],[\"Italian Screwdriver\"],[\"Jack Maples\"],[\"Jack Rose Cocktail\"],[\"Jack Sparrow Flip\"],[\"Jack-In-The-Box\"],[\"Jack-in-the-Box Cocktail\"],[\"Jackie-O\"],[\"Jacqueline\"],[\"Jade\"],[\"Jamaica Glow Cocktail\"],[\"Jamaica Granito\"],[\"Jamaica Hop\"],[\"Jamaican Crawler\"],[\"Jamaican Ginger\"],[\"Japanese\"],[\"Japanese Fizz\"],[\"Jean Lafitte Cocktail\"],[\"Jersey Lightning Cocktail\"],[\"Jeyplak Cocktail\"],[\"Jinx Cocktail\"],[\"Jitterbug Sour\"],[\"Jocose Julep\"],[\"John Collins\"],[\"Jungle Juice\"],[\"K. C. B. Cocktail\"],[\"K. G. B. Cocktail\"],[\"K.C.B. Cocktail\"],[\"K.G.B. Cocktail\"],[\"Katana\"],[\"Kiss the Boys Goodbye\"],[\"Knickerbocker Special Cocktail\"],[\"Knock-Out Cocktail\"],[\"Ko Adang\"],[\"Kretchma Cocktail\"],[\"Kup's Indispensable Cocktail\"],[\"L'italienne\"],[\"L.A. Sunrise\"],[\"La Bomba\"],[\"La Perla\"],[\"La Ultima Palabra\"],[\"La Vita Dulce\"],[\"Lady Love Fizz\"],[\"Lasky Cocktail\"],[\"Le Paradini\"],[\"Leap Frog Highball\"],[\"Leap Year Cocktail\"],[\"Leaves Of Grass\"],[\"Lemon Crush\"],[\"Lemon Drop\"],[\"Lemonade (Egg)\"],[\"Lemonade (Golden)\"],[\"Level headed Cocktail\"],[\"Lights On The Plaza\"],[\"Lil Naue\"],[\"Lillypad\"],[\"Lime Giant\"],[\"Limestone\"],[\"Limey\"],[\"Limoncello Manzanilla Marmalade Sour\"],[\"Little Devil Cocktail\"],[\"Little Princess Cocktail\"],[\"London Buck\"],[\"London Special Cocktail\"],[\"Lone Tree Cocktail\"],[\"Long Island Iced Tea\"],[\"Long Island Tea\"],[\"Look Out Below\"],[\"Los Angeles Cocktail\"],[\"Lounge Lizard\"],[\"Love Cocktail\"],[\"Lugger\"],[\"Lumination\"],[\"Lychee Lucy\"],[\"Madras\"],[\"Mai-Tai (Trader Vic Version)\"],[\"Maiden's Prayer\"],[\"Malmaison\"],[\"Mamie Taylor\"],[\"Mamie's Sister\"],[\"Mandarine Mist\"],[\"Mandarine Sour\"],[\"Mandeville\"],[\"Manhattan Cocktail (dry)\"],[\"Manila Fizz\"],[\"Maracuya Mosquito\"],[\"Margarita\"],[\"Margarita Cocktail\"],[\"Margarita Tequila\"],[\"Mariposa\"],[\"Mariposa Cocktail\"],[\"Martini\"],[\"Martini (Dry) (5-to-1)\"],[\"Martini (Medium)\"],[\"Martinique Rose\"],[\"Mary Garden Cocktail\"],[\"Mary Pickford Cocktail\"],[\"May Blossom Fizz\"],[\"May Blosson Fizz\"],[\"Melon Cocktail\"],[\"Merry Widow Cocktail No. 2\"],[\"Merry Widow Fizz\"],[\"Mexican Firing Squad\"],[\"Mexican Madras\"],[\"Mexican Monk\"],[\"Mexicana\"],[\"Mexicola\"],[\"Midnight Express\"],[\"Milk Punch\"],[\"Million-Dollar Cocktail\"],[\"Millionaire Cocktail\"],[\"Minnehaha Cocktail\"],[\"Mint Collins\"],[\"Mint Gin Cocktail\"],[\"Mint Julep (Southern Style)\"],[\"Miss Jones\"],[\"Mocha Express\"],[\"Mojito\"],[\"Monkey Wrench\"],[\"Monte Carlo Imperial Highball\"],[\"Montezuma\"],[\"Montreal Club Bouncer\"],[\"Montreal Gin Sour\"],[\"Moonquake Shake\"],[\"Morning Glory Fizz\"],[\"Moscow Mule\"],[\"Moulin Rouge Cocktail\"],[\"Mountain Cocktail\"],[\"Mr. 404\"],[\"Napoleon\"],[\"Napoleon Cocktail\"],[\"Nevada Cocktail\"],[\"New Orleans Buck\"],[\"New Orleans Gin Fizz\"],[\"Night Cap\"],[\"Nijinksy Blini\"],[\"Nineteenth Hole\"],[\"Ninotchka Cocktail\"],[\"No. 8\"],[\"North Pole Cocktail\"],[\"Oh, Gosh!\"],[\"Oldest Temptation\"],[\"Opening Cocktail\"],[\"Opera Cocktail\"],[\"Orange Blossom Cocktail\"],[\"Orange Gin Collins\"],[\"Orange Gin Fizz\"],[\"Orange Gin Highball\"],[\"Orange Gin Rickey\"],[\"Orange Milk Fizz\"],[\"Orange Smile\"],[\"Orchid Cocktail\"],[\"Outrigger\"],[\"Pacific Sunshine\"],[\"Pacman\"],[\"Paddington\"],[\"Palmer Cocktail\"],[\"Palmetto Cocktail\"],[\"Paloma\"],[\"Paloma (Natural)\"],[\"Pancho Villa\"],[\"Paris When It Sizzles\"],[\"Parisian Blonde Cocktail\"],[\"Passion Daiquiri Cocktail\"],[\"Passion Mimosa\"],[\"Peach Blossom\"],[\"Peach Blow Fizz\"],[\"Peach Iced Tea\"],[\"Pearl Button\"],[\"Peggy Cocktail\"],[\"Petit Zinc\"],[\"Phoebe Snow\"],[\"Phoebe Snow Cocktail\"],[\"Pickled Martini\"],[\"Pickled Pink\"],[\"Pike's Peak Cooler\"],[\"Pina Agave\"],[\"Pineapple Cocktail\"],[\"Pineapple Dream Cocktail\"],[\"Pineapple Fizz\"],[\"Ping-Pong Cocktail\"],[\"Pink Creole\"],[\"Pink Lady Cocktail\"],[\"Pink Lemonade\"],[\"Pink Paradise\"],[\"Pink Pussycat\"],[\"Pink Rose Fizz\"],[\"Pink Squirrel Cocktail\"],[\"Plain Vermouth Cocktail\"],[\"Planter's Cocktail\"],[\"Planter's Punch No. 1\"],[\"Planter's Punch No. 2\"],[\"Plaza Cocktail\"],[\"Poker Cocktail\"],[\"Pollyanna Cocktai\"],[\"Pollyanna Cocktail\"],[\"Polonaise\"],[\"Polynesian Cocktail\"],[\"Port Wine Cobbler\"],[\"Port Wine Flip\"],[\"Pousse L'Amour\"],[\"Prado\"],[\"Praire Chicken\"],[\"Praire Oyster Cocktail\"],[\"Prairie Chicken\"],[\"Prairie Oyster\"],[\"Prairie Oyster Cocktail\"],[\"Pretty In Pink\"],[\"Prince's Smile Cocktail\"],[\"Priority Cocktail\"],[\"Prohibition Punch\"],[\"Puerto Apple\"],[\"Puerto Rican Rum Daisy\"],[\"Purple Mask\"],[\"Purple Pancho\"],[\"Purple Passion\"],[\"Purple Passion Iced Tea\"],[\"Purple Ruby\"],[\"Purple Twister\"],[\"Quaker's Cocktail\"],[\"Quarter Deck Cocktail\"],[\"Queen Bee\"],[\"Queen Elizabeth Cocktail\"],[\"Quetzalcoatl\"],[\"Racquet Club Cocktail\"],[\"Ramos Fizz\"],[\"Rattlesnake Cocktail\"],[\"Rebel Charge\"],[\"Red Apple\"],[\"Red Raider\"],[\"Red Swizzle\"],[\"Redhead Martini\"],[\"Resolute Cocktail\"],[\"Restless Native\"],[\"Ringo Starr\"],[\"Rio Fix\"],[\"Rob Roy Cocktail\"],[\"Robin's Nest\"],[\"Robson Cocktail\"],[\"Rock & Rye Cocktail\"],[\"Rock & Rye Cooler\"],[\"Rococo\"],[\"Roselyn Cocktail\"],[\"Rosemary Clementine Sparkle\"],[\"Rosita\"],[\"Rouxby Red\"],[\"Royal Clover Club Cocktail\"],[\"Royal Cocktail\"],[\"Royal Gin Fizz\"],[\"Royal Purple Punch\"],[\"Ruby Fizz\"],[\"Ruby Red\"],[\"Rum Cobbler\"],[\"Rum Collins\"],[\"Rum Cooler\"],[\"Rum Coooler\"],[\"Rum Daisy\"],[\"Rum Dubonnet\"],[\"Rum Fix\"],[\"Rum Highball\"],[\"Rum Martini\"],[\"Rum Old-Fashioned\"],[\"Rum Relaxer\"],[\"Rum Rickey\"],[\"Rum Screwdriver\"],[\"Rum Sour\"],[\"Rum Swizzle\"],[\"Rum Toddy (Cold)\"],[\"Russian Bear Cocktail\"],[\"Rye Whiskey Cocktail\"],[\"S & V\"],[\"Saint Lucy Bracer\"],[\"Sake Martini\"],[\"Sake Martini (Sakini)\"],[\"Salty Dog\"],[\"Sampan Shipwreck A\"],[\"San Francisco\"],[\"Sand-Martin Cocktail\"],[\"Sand-Martini Cocktail\"],[\"Santana Sling\"],[\"Santiago Cocktail\"],[\"Saratoga Cocktail\"],[\"Sargasso\"],[\"Saronno\"],[\"Saronno Colada (Nutty Colada)\"],[\"Saronno Mist\"],[\"Saronno Rose\"],[\"Satin Sheets\"],[\"Savannah\"],[\"Saxon Cocktail\"],[\"Scotch Bird Flyer\"],[\"Scotch Cocktail\"],[\"Scotch Whisky Highball\"],[\"Screwdriver\"],[\"Sea Breeze\"],[\"Sea Of Cortez\"],[\"Seaboabd\"],[\"September Morn Cocktail\"],[\"Sevilla Cocktail\"],[\"Shady Lady\"],[\"Shalom\"],[\"Shamrock Cocktail\"],[\"Sherry Flip\"],[\"Sherry Milk Punch\"],[\"Sherry Sangaree\"],[\"Sherry Twist Cocktail\"],[\"Sherry-and-Egg Cocktail\"],[\"Siberian Sleighride\"],[\"Sidecar\"],[\"Sidewinder\"],[\"Silk Stockings\"],[\"Silver Fizz\"],[\"Silver King Cocktail\"],[\"Silver Stallion Fizz\"],[\"Singapore Sling\"],[\"Sir Walter Cocktail\"],[\"Sloe Gin Flip\"],[\"Sloe Tequila\"],[\"Sloppy Joe's Cocktail No. 1\"],[\"Smile Cocktail\"],[\"Smiler Cocktail\"],[\"Smoked Margarita\"],[\"Snowball Cocktail\"],[\"Snyder\"],[\"Society Cocktail\"],[\"Sonic Blaster\"],[\"Soul Kiss Cocktail\"],[\"South Of The Border\"],[\"Southern Gin Cocktail\"],[\"Soviet\"],[\"Spanish Town Cocktail\"],[\"Special Rough Cocktail\"],[\"Sphinx Cocktail\"],[\"Spice Of Life\"],[\"Spring Feeling Cocktail\"],[\"Spritzer Highball\"],[\"Sputnik\"],[\"St. Patrick's Day Cocktail\"],[\"Stinger Cocktail\"],[\"Stockholm 75\"],[\"Stone Cocktail\"],[\"Stone Wall\"],[\"Stormy Colada\"],[\"Strawberry Margarita\"],[\"Strawberry Sunries\"],[\"Stupid Cupid\"],[\"Suissesse Cocktail\"],[\"Sunburn\"],[\"Sunday Confession\"],[\"Sunset at Gowanus\"],[\"Sunshine Cocktail\"],[\"Suntan\"],[\"Surf Rider\"],[\"Susie Taylor\"],[\"Sweet Maria\"],[\"Sweet Patootie Cocktail\"],[\"T.N.T. Cocktail\"],[\"T.N.T. Cocktail No. 1\"],[\"T.N.T. Cocktail No. 2\"],[\"T.N.T. No. 1\"],[\"Tabby Cat\"],[\"Tahiti Club\"],[\"Tahitian Tea\"],[\"Tailspin Cocktail\"],[\"Tanq-A-Rita\"],[\"Tchoupitolas Street Guzzle\"],[\"Tea Saronno\"],[\"Temptation Cocktail\"],[\"Tempter Cocktail\"],[\"Tequila Canyon\"],[\"Tequila Cocktail\"],[\"Tequila Collins\"],[\"Tequila Fizz\"],[\"Tequila Manhattan\"],[\"Tequila Matador\"],[\"Tequila Mockingbird\"],[\"Tequila Old-Fashioned\"],[\"Tequila Pink\"],[\"Tequila Smash\"],[\"Tequila Sour\"],[\"Tequila Straight\"],[\"Tequila Sunrise\"],[\"Tequini\"],[\"Tequini Cocktail\"],[\"Tequonic\"],[\"Thanksgiving Special Cocktail\"],[\"The 21st Century\"],[\"The Beautiful Day\"],[\"The Big Crush\"],[\"The Blinker\"],[\"The Blood Orange\"],[\"The Bone\"],[\"The Cinquecento\"],[\"The Crux\"],[\"The Debonair\"],[\"The Delmarva Cocktail\"],[\"The Duboudreau Cocktail\"],[\"The Final Ward\"],[\"The Groupie\"],[\"The Holy Roller\"],[\"The Interesting Cocktail\"],[\"The Jamaican Ten Speed\"],[\"The Joe Lewis\"],[\"The Loop\"],[\"The Nomad South\"],[\"The Oaxaca Old-Fashioned\"],[\"The Old Cuban\"],[\"The Poncho\"],[\"The Refuge\"],[\"The Sfozando\"],[\"The Summer Of Love\"],[\"The Titian\"],[\"The Vacation Cocktail\"],[\"The Wink\"],[\"The Winkle\"],[\"Third-Rail Cocktail\"],[\"Three Miller Cocktail\"],[\"Three Stripes Cocktail\"],[\"Thunder\"],[\"Thunder Cocktail\"],[\"Thunder and Lightning Cocktail\"],[\"Thunderclap Cocktail\"],[\"Thyme Collins\"],[\"Tia Juanathan\"],[\"Tiger Tanaka\"],[\"Tijuana Taxi\"],[\"Toasted Drop\"],[\"Top Banana\"],[\"Toreador\"],[\"Torridora Cocktail\"],[\"Tovarich Cocktail\"],[\"Traditional Martini (Dry)\"],[\"Trident\"],[\"Trinity Cocktail\"],[\"Trois Rivieres\"],[\"Tropica Cocktail\"],[\"Tropical Heart\"],[\"Twin Six Cocktail\"],[\"Twister\"],[\"Ulanda Cocktail\"],[\"Underneath The Mango Tree\"],[\"Union Jack Cocktail\"],[\"Urban Anxiety\"],[\"Vagabundo\"],[\"Van Vleet\"],[\"Velvet Hammer No. 1\"],[\"Velvet Hammer No. 2\"],[\"Velvet Peach Hammer\"],[\"Venial Sin\"],[\"Verboten\"],[\"Vermouth Cassis\"],[\"Vesuvio\"],[\"Victor Collins\"],[\"Victory Collins\"],[\"Violet Fizz\"],[\"Violet Fizz Juice\"],[\"Virgin\"],[\"Virginia Dare\"],[\"Viva Villa\"],[\"Vodka Collins\"],[\"Vodka Cooler\"],[\"Vodka Daisy\"],[\"Vodka Gimlet\"],[\"Vodka Grasshopper\"],[\"Vodka Grasshopper Cocktail\"],[\"Vodka Gypsy Cocktail\"],[\"Vodka Martini\"],[\"Vodka Sling\"],[\"Vodka Sour\"],[\"Vodka Stinger\"],[\"Vodka and Apple Juice\"],[\"Vodka and Tonic\"],[\"Vow Of Silence\"],[\"Waikiki Beachcomber\"],[\"Waiting On Summer\"],[\"Wallick Cocktail\"],[\"Wallis Blue Cocktail\"],[\"Warsaw Cocktail\"],[\"Washington Cocktail\"],[\"Water Lily\"],[\"Waterbury Cocktail\"],[\"Waterloo\"],[\"Webster Cocktail\"],[\"Wedding Belle Cocktail\"],[\"Weep-No-More Cocktail\"],[\"Wembley Cocktail\"],[\"Wembly Cocktail\"],[\"West Side\"],[\"Western Rose\"],[\"Western Rose Cocktail\"],[\"What The Hell\"],[\"Whiskey Flip\"],[\"Whiskey Milk Punch\"],[\"Whiskey Skin\"],[\"Whiskey Toddy (cold)\"],[\"White Cargo Cocktail\"],[\"White Elephant\"],[\"White Lady\"],[\"White Lady Cocktail\"],[\"White Lily Cocktail\"],[\"White Lion Cocktail\"],[\"White Plush\"],[\"White Rose Cocktail\"],[\"White Russian\"],[\"White Spider\"],[\"Why Not?\"],[\"Widow's Dream\"],[\"Widow's Dream Cocktail\"],[\"Widow's Kiss Cocktail\"],[\"Wiki Waki Woo\"],[\"Will Rogers\"],[\"Wolf's Bite\"],[\"Woodstock\"],[\"X. Y. Z. Cocktail\"],[\"X.Y.Z. Cocktail\"],[\"Xanthia Cocktail\"],[\"Yale Cocktail\"],[\"Yellow Rattler\"],[\"Yellow Rose Of Texas\"],[\"Yellowjacket\"],[\"Yokahama Romance\"],[\"Yolanda\"],[\"Zaza Cocktail\"],[\"Zero Mint\"],[\"Zombie\"]],\"hovertemplate\":\"tsne-2d-one=%{x}<br>tsne-2d-two=%{y}<br>name=%{customdata[0]}<br>Cluster=%{marker.color}<extra></extra>\",\"legendgroup\":\"\",\"marker\":{\"color\":[0,0,0,0,0,0,0,0,2,0,2,0,2,0,0,0,0,2,0,0,0,2,0,2,0,4,0,0,0,0,0,0,0,0,0,1,1,3,0,5,5,0,0,5,2,2,2,0,0,4,0,0,0,5,5,2,0,0,0,5,2,4,0,2,0,0,2,1,5,5,0,0,4,2,5,2,0,2,3,0,0,0,0,0,0,0,2,0,2,0,0,4,4,2,2,2,0,4,0,0,0,0,2,0,0,0,3,0,0,0,0,0,0,0,0,0,0,0,3,3,3,0,0,2,0,0,0,2,2,2,2,0,2,0,0,0,0,0,5,0,0,0,0,2,2,2,0,4,1,0,2,0,3,0,0,0,0,2,0,0,4,0,0,0,0,0,0,0,0,0,0,0,0,0,5,0,0,0,2,0,0,0,0,0,0,2,5,0,0,0,0,0,0,4,0,0,5,0,0,3,0,0,0,0,0,3,0,3,3,3,1,1,4,3,4,0,0,0,5,5,3,3,0,0,3,0,0,0,0,3,5,0,0,2,1,0,4,4,0,0,0,0,0,0,2,5,5,0,3,4,0,4,0,4,3,0,0,0,2,5,0,3,5,0,2,0,4,2,2,0,2,4,0,2,3,0,2,0,5,0,0,0,2,2,2,0,1,1,1,0,0,0,0,4,0,3,0,0,0,0,0,0,0,3,2,0,0,0,3,0,5,0,2,0,3,0,0,2,2,0,2,2,2,4,0,5,4,0,2,0,0,0,2,2,2,0,0,0,2,0,3,0,0,4,0,0,5,0,0,3,0,4,0,3,2,0,0,0,5,0,2,3,3,2,3,3,2,3,4,0,0,3,0,0,0,0,0,5,0,3,0,0,0,0,0,0,4,0,0,0,2,4,0,0,2,0,3,3,2,0,2,0,5,2,0,2,2,2,4,0,0,0,0,0,5,0,0,0,0,0,2,0,0,0,0,0,0,0,0,4,0,0,0,2,0,0,2,0,0,4,0,0,3,0,0,0,2,0,4,0,0,4,0,0,0,0,0,0,4,0,0,0,0,0,0,0,0,5,0,0,0,0,4,4,0,0,0,5,4,0,3,3,0,2,0,0,4,0,0,0,2,0,2,4,3,0,2,0,5,2,0,0,0,0,4,4,3,2,0,2,2,0,0,0,3,3,0,0,3,4,0,0,0,0,2,0,2,0,2,2,2,5,3,0,0,0,0,0,0,0,2,0,0,2,0,0,5,2,3,4,4,0,4,5,5,2,2,2,4,1,5,5,5,2,0,3,4,4,0,5,4,4,3,5,5,2,0,2,3,0,0,0,0,2,0,2,3,0,3,4,0,2,0,1,1,4,0,3,0,0,2,0,0,2,4,0,5,1,3,0,3,0,0,3,5,0,0,0,5,0,0,0,0,0,0,4,0,3,0,3,3,0,4,1,0,1,1,0,0,3,0,0,0,0,3,5,5,4,0,5,3,0,2,0,4,0,2,0,5,0,0,4,0,3,0,5,0,0,2,0,0,0,0,0,0,0,0,0,4,0,2,4,0,0,4,0,2,0,2,3,3,0,5,5,3,0,2,4,0,4,0,0,5,2,0,0,2,0,2,0,5,3,3,0,3,0,0,4,0,0,5,1,0,0,2,0,5,4,0,0,4,0,0,3,4,0,0,2,0,0,2,2,2,4,4,0,0,0,0,0,0,4,2,5,3,0,0,0,0,4,3,5,3,0,0,2,3,3,3,2,0,0,0,4,5,3,3,2,3,5,3,4,5,5,2,4,0,2,2,0,1,4,2,0,0,0,2,4,2,0,0,0,0,0,0,0,0,0,5,0,0,0,0,4,2,0,5,4,0,2,0,0,0,0,0,4,2,2,0,0,0,1,0,0,5,0,5,0,4,4,0,5,4,0,0,5,2,2,0,2,4,0,4,0,0,4,0,1,0,0,0,0,0,4,0,0,0,0,4,0,4,2,4,2,0,4,4,2,4,0,4,2,3,3,3,0,0,4,0,0,0,0,0,0,0,2,0,2,1,5,0,5,4,2,4,5,0,4,0,0,0,0,0,2,2,3,3,0,3,3,2,0,4,0,0,5,4,0,0,0,2,0,0,0,0,0,4,2,4,2,4,0,2,2,3,0,2,1,1,2,2,0,2,2,2,3,3,0,3,0,2,2,3,2,5,3,2,0,2,2,0,0,0,0,2,2,2,0,0,2,2,2,0,0,2,5,1,0,0],\"coloraxis\":\"coloraxis\",\"symbol\":\"circle\"},\"mode\":\"markers\",\"name\":\"\",\"orientation\":\"v\",\"showlegend\":false,\"x\":[1.9784334897994995,7.424238681793213,2.860501766204834,-15.822587966918945,-2.6027426719665527,20.391504287719727,2.5792534351348877,11.056205749511719,-28.13149070739746,11.074824333190918,-9.526433944702148,11.074488639831543,-13.643675804138184,-15.081273078918457,-9.272444725036621,11.42324161529541,13.689607620239258,-3.961421489715576,-3.723778009414673,-2.123980760574341,-9.247886657714844,-3.312412977218628,19.468109130859375,-15.63273811340332,-6.124953269958496,29.516725540161133,11.765752792358398,27.441892623901367,27.566471099853516,10.613224983215332,27.44204330444336,-4.836889743804932,3.6178548336029053,27.12685775756836,3.4607372283935547,-7.0814433097839355,-7.873039245605469,-32.61320114135742,-17.62076187133789,-13.148195266723633,6.593213081359863,9.553873062133789,-9.47819709777832,-9.29482650756836,-25.830820083618164,-27.172393798828125,-23.747835159301758,11.192813873291016,2.969858169555664,19.846635818481445,-5.359859943389893,1.8926798105239868,2.8765604496002197,-15.900542259216309,-25.67888832092285,-4.183567047119141,-6.980039596557617,14.910822868347168,-17.74855613708496,25.756269454956055,-17.114131927490234,21.206348419189453,6.4044365882873535,-13.10124397277832,17.124914169311523,28.381778717041016,-2.42277455329895,-6.825152397155762,-23.410860061645508,-21.31615447998047,-16.396921157836914,11.024290084838867,23.601036071777344,-22.032651901245117,17.30816078186035,-21.852615356445312,28.240039825439453,-16.83782196044922,-30.96142578125,-1.61338472366333,4.247360706329346,-13.750653266906738,22.409149169921875,20.67069435119629,6.403609752655029,3.3570475578308105,-19.430089950561523,2.9568703174591064,-17.704608917236328,17.115598678588867,22.249650955200195,18.756732940673828,18.2733097076416,-13.025875091552734,-11.779908180236816,-11.932757377624512,26.356481552124023,26.77492904663086,-3.0370771884918213,-3.4358670711517334,27.87990951538086,5.31040096282959,-14.45353889465332,19.940065383911133,-4.441426753997803,-15.883414268493652,-33.6149787902832,4.691503047943115,2.4964349269866943,-3.4521539211273193,8.030964851379395,6.3843092918396,4.003864765167236,-2.16456937789917,26.63315773010254,-2.5297489166259766,-6.8452467918396,-10.38012981414795,-31.034645080566406,-27.27354621887207,-27.76559066772461,-1.4705766439437866,-5.532594680786133,-14.601186752319336,13.926084518432617,6.14408540725708,3.1013076305389404,-17.04067039489746,-19.186391830444336,-17.489675521850586,-15.268879890441895,-1.3296257257461548,-13.442583084106445,-0.5884396433830261,6.170658111572266,-0.499830037355423,-1.4835803508758545,-1.7857341766357422,6.852700710296631,16.159927368164062,-6.42768669128418,20.471473693847656,-6.426799297332764,-9.69941234588623,-18.136646270751953,-18.13288116455078,17.980466842651367,25.63449478149414,8.012408256530762,-8.178991317749023,-18.678966522216797,27.327526092529297,-30.56044578552246,13.370199203491211,7.451154708862305,15.171875953674316,10.33881950378418,-26.882484436035156,3.165323495864868,-7.502246379852295,28.060382843017578,6.0008697509765625,6.462482452392578,1.6147098541259766,25.816513061523438,12.931408882141113,12.5054292678833,1.9667739868164062,-4.9917473793029785,3.2140772342681885,14.947883605957031,22.214923858642578,8.27772045135498,10.337361335754395,15.991079330444336,-0.0924825593829155,-3.9600865840911865,-3.961698055267334,-15.643444061279297,11.361780166625977,31.656299591064453,24.5452938079834,18.677690505981445,6.399404525756836,25.177711486816406,-11.898520469665527,17.4060001373291,6.404147148132324,5.159512042999268,8.014166831970215,-1.4705469608306885,4.478114604949951,6.281754493713379,5.310819149017334,-17.54544448852539,-3.0891098976135254,-13.778139114379883,-0.5661062598228455,-6.70427942276001,-32.053375244140625,9.229289054870605,-6.700685501098633,15.181312561035156,28.24919891357422,-4.300560474395752,-34.40340805053711,5.655150890350342,-27.788612365722656,-28.092453002929688,-32.056644439697266,-16.148204803466797,-15.483063697814941,27.0122127532959,-28.574630737304688,17.284547805786133,17.436342239379883,-8.87965202331543,-5.511972904205322,-26.242891311645508,-24.978622436523438,-30.002052307128906,-30.782337188720703,8.547932624816895,26.30742835998535,-30.206981658935547,-1.8078910112380981,-0.7858680486679077,-3.6011199951171875,25.738012313842773,-10.841487884521484,27.194761276245117,20.467365264892578,7.916005611419678,-29.581764221191406,-13.233393669128418,-1.4438601732254028,18.752788543701172,21.778432846069336,2.3670504093170166,-1.9995286464691162,-1.8108556270599365,-9.927040100097656,12.582539558410645,9.477682113647461,-29.466962814331055,1.741385817527771,1.50689697265625,32.19939422607422,-19.46485137939453,18.694293975830078,-15.87632942199707,22.508996963500977,17.157487869262695,22.907901763916016,-18.128177642822266,30.768892288208008,-2.54923939704895,-1.6884989738464355,-11.789560317993164,-1.5761358737945557,1.8001599311828613,-29.630924224853516,21.370746612548828,0.8845499753952026,-9.500310897827148,-0.48325014114379883,27.212526321411133,-14.77480697631836,-6.645908832550049,27.36088752746582,-15.315511703491211,33.5120735168457,-0.2951928973197937,-17.351255416870117,-22.872867584228516,2.339162588119507,-29.58218765258789,-7.369801044464111,31.868886947631836,-30.427936553955078,-5.790038585662842,19.017236709594727,-6.643117904663086,-14.377327919006348,-15.075037956237793,-14.593161582946777,-15.766976356506348,-7.319939613342285,-5.953608989715576,-31.98891830444336,-9.894307136535645,0.2931795120239258,-10.548850059509277,25.538639068603516,47.77152633666992,-29.973642349243164,-0.5217675566673279,70.84261322021484,23.833894729614258,80.20775604248047,9.009626388549805,-2.9084272384643555,26.35846519470215,-34.12168884277344,-18.39599609375,5.202000141143799,-9.015249252319336,-4.324996471405029,-21.786428451538086,9.102116584777832,-25.294870376586914,-16.172929763793945,-4.819167137145996,1.6393041610717773,-24.572847366333008,2.3099522590637207,3.2567138671875,-8.057534217834473,-16.086875915527344,-1.0372273921966553,-26.866168975830078,-24.999786376953125,-14.630319595336914,21.02759552001953,6.319153785705566,20.214414596557617,22.75491714477539,12.353449821472168,-11.866816520690918,-5.762781620025635,1.8432528972625732,-5.461240291595459,13.112013816833496,-14.69694995880127,-7.6001129150390625,6.346364498138428,10.902679443359375,6.950767517089844,-14.930313110351562,1.018900990486145,-27.07895278930664,19.676490783691406,-5.358417987823486,15.001277923583984,18.479433059692383,17.2587947845459,-25.325029373168945,-4.598677635192871,10.768898963928223,-27.142108917236328,24.25766372680664,16.935623168945312,6.269152641296387,-29.316932678222656,11.597283363342285,-7.865444660186768,-3.5405380725860596,25.900848388671875,20.33612632751465,1.6131954193115234,-10.669400215148926,-25.533737182617188,-21.550077438354492,-18.093708038330078,-26.482959747314453,-28.636341094970703,-20.848665237426758,-27.03879165649414,17.672517776489258,18.893802642822266,-18.610912322998047,-35.630332946777344,-3.7887299060821533,4.328706741333008,13.771918296813965,9.822352409362793,13.614203453063965,-24.656557083129883,10.078344345092773,-28.093772888183594,-3.3343563079833984,7.78743314743042,-1.3408194780349731,-1.3462860584259033,8.16933536529541,-4.890615940093994,34.219295501708984,-0.16785232722759247,24.76709747314453,13.820837020874023,-12.371658325195312,21.498065948486328,-12.1399507522583,-4.966954231262207,-19.489521026611328,-18.02274513244629,-30.633220672607422,-23.976564407348633,-20.390653610229492,-16.671344757080078,-26.68596649169922,1.085127592086792,-15.839571952819824,-11.933834075927734,-1.4828089475631714,14.934917449951172,-17.32363510131836,-18.161802291870117,32.119873046875,-5.137149333953857,-5.730983257293701,16.025772094726562,17.344154357910156,17.519943237304688,-1.4788228273391724,22.093053817749023,2.3921048641204834,14.206018447875977,20.055503845214844,14.463751792907715,-10.133478164672852,13.369291305541992,8.333189964294434,3.1264920234680176,8.909820556640625,6.720488548278809,22.943334579467773,-5.490263938903809,0.803612470626831,30.706790924072266,21.88628387451172,0.24840714037418365,36.84190368652344,-14.599579811096191,1.5053925514221191,-6.485173225402832,-10.453768730163574,-0.7380717992782593,-3.0375783443450928,18.723003387451172,-17.310714721679688,3.471121311187744,-29.68128776550293,22.51703643798828,1.340203881263733,-1.9015638828277588,-17.346771240234375,17.534006118774414,22.43984603881836,10.100741386413574,28.829668045043945,21.948163986206055,10.538013458251953,21.244667053222656,8.564230918884277,-9.862372398376465,19.79754066467285,-6.11618709564209,20.260913848876953,18.595643997192383,3.3554341793060303,-1.7063627243041992,-5.36371374130249,-5.364203453063965,8.373373985290527,4.05738639831543,3.100615978240967,21.69026756286621,28.76729393005371,5.522470951080322,-7.61151647567749,-5.8114495277404785,30.839597702026367,15.877852439880371,-20.133974075317383,-4.877691745758057,-3.704263687133789,15.5975980758667,30.70039939880371,-2.345510959625244,-34.12232971191406,-21.974063873291016,-3.428438425064087,-20.716514587402344,14.603477478027344,1.578263521194458,26.08536720275879,27.650346755981445,24.050050735473633,-4.073143005371094,-26.842370986938477,-21.97740364074707,-25.748445510864258,22.44954490661621,-34.72637939453125,13.074522972106934,-15.85863971710205,7.767364501953125,26.63808822631836,-14.278484344482422,15.668766975402832,20.209381103515625,11.694992065429688,64.97708892822266,27.549270629882812,24.437448501586914,-29.243698120117188,-21.220048904418945,19.153535842895508,-22.424423217773438,-21.82236099243164,19.9083194732666,33.651145935058594,29.320981979370117,-30.069217681884766,-28.659202575683594,26.984411239624023,26.25920295715332,-28.108531951904297,29.042055130004883,0.8923525214195251,-2.16282320022583,11.37890911102295,21.47328758239746,12.63422679901123,7.585095405578613,-22.421886444091797,0.4698515832424164,-20.852989196777344,11.200490951538086,8.479881286621094,21.712953567504883,-31.27562141418457,9.362319946289062,-34.69034194946289,-7.031208038330078,23.374601364135742,21.48130989074707,18.10103416442871,48.77040100097656,-11.714607238769531,14.628043174743652,-3.1263792514801025,-16.853727340698242,-4.028063774108887,-4.833141326904297,17.205018997192383,-8.071084022521973,-25.09810447692871,22.60875129699707,27.33321189880371,-51.32065963745117,27.868026733398438,14.573758125305176,-13.285465240478516,-6.651995658874512,-14.881793975830078,-17.497650146484375,10.266831398010254,-7.884204387664795,15.472291946411133,-22.772586822509766,-22.772262573242188,-28.55986785888672,-5.9563446044921875,-33.784889221191406,28.250600814819336,29.005367279052734,13.940622329711914,17.623462677001953,27.456003189086914,30.92607307434082,-26.02686309814453,-23.515525817871094,-18.72299575805664,-17.39307975769043,-6.768856525421143,-8.42680549621582,-22.026947021484375,20.758840560913086,21.44632339477539,21.8468017578125,10.069721221923828,-22.116666793823242,2.707735300064087,-20.324037551879883,-29.750757217407227,9.608294486999512,-32.29843521118164,19.966705322265625,-19.13011932373047,-19.18037223815918,28.265438079833984,-15.268441200256348,-14.801694869995117,23.09276580810547,14.497881889343262,-30.001747131347656,20.974210739135742,26.39719009399414,-16.086946487426758,26.18008041381836,-59.129737854003906,-29.583065032958984,16.40279197692871,31.088441848754883,-18.130300521850586,-15.12381362915039,-21.326976776123047,-6.3140740394592285,-31.227209091186523,-2.233962059020996,-2.6802217960357666,-31.386371612548828,-14.66478443145752,-20.27033042907715,1.4820963144302368,24.281747817993164,-12.272826194763184,15.747872352600098,-12.069588661193848,9.009055137634277,14.12707805633545,14.231036186218262,-7.4456634521484375,30.93388557434082,-35.27592849731445,-18.220449447631836,1.2184468507766724,-29.150737762451172,-28.09339714050293,8.503617286682129,21.36797332763672,-12.887723922729492,16.466575622558594,-9.424111366271973,-5.627872943878174,14.867518424987793,13.529627799987793,-30.068300247192383,18.24534797668457,14.467195510864258,-13.438008308410645,20.233598709106445,-34.52376174926758,20.037208557128906,-20.023313522338867,32.551353454589844,11.21150016784668,20.376306533813477,-29.24408531188965,-4.6733717918396,-14.347671508789062,27.424392700195312,20.630748748779297,12.193435668945312,-18.020280838012695,7.585989952087402,-20.288503646850586,-17.93703269958496,-5.671918869018555,20.31395149230957,2.499377727508545,-31.163503646850586,-6.15275239944458,-32.6285400390625,-18.169418334960938,-12.671380043029785,-19.562328338623047,-11.714447975158691,-12.743805885314941,24.2263126373291,-21.987079620361328,20.948101043701172,10.23666000366211,9.582067489624023,9.032133102416992,24.273223876953125,25.809646606445312,24.394296646118164,31.762027740478516,20.092329025268555,-0.6879553198814392,13.904052734375,18.584962844848633,0.5622015595436096,-18.82971954345703,12.464705467224121,-11.791736602783203,-29.026182174682617,-30.641155242919922,-10.927178382873535,27.503528594970703,-10.848938941955566,-18.692913055419922,31.346755981445312,-23.4274845123291,19.712984085083008,80.6814193725586,23.58951759338379,-5.101440906524658,23.31638526916504,29.76171112060547,-8.42713737487793,16.74106216430664,-8.050250053405762,-16.958145141601562,23.90647315979004,1.6182056665420532,26.107223510742188,-17.703269958496094,-28.97002601623535,-28.96890640258789,1.417688250541687,-33.17920684814453,-11.643805503845215,20.967018127441406,22.912120819091797,20.660205841064453,2.4988455772399902,18.453752517700195,7.4762983322143555,21.216421127319336,0.5256509780883789,9.18640422821045,22.332828521728516,15.737476348876953,18.679710388183594,11.484253883361816,19.179235458374023,28.453142166137695,-2.1246747970581055,23.888376235961914,-24.236618041992188,17.81084632873535,0.091086745262146,-5.279651641845703,-19.970592498779297,17.348554611206055,15.903953552246094,-14.938674926757812,-21.838619232177734,-22.17775535583496,33.78702926635742,21.0275936126709,-10.375629425048828,12.288420677185059,3.2804298400878906,3.4565236568450928,3.166264772415161,3.4565236568450928,28.05760955810547,-18.3511962890625,20.161027908325195,-23.029932022094727,-2.366400718688965,-2.38140606880188,17.34920883178711,22.006752014160156,27.079233169555664,-22.139963150024414,-17.17725372314453,-30.5073299407959,14.763656616210938,27.935190200805664,-5.239287376403809,-31.294586181640625,-25.114315032958984,-25.409440994262695,-9.788712501525879,1.1756839752197266,23.825271606445312,28.485511779785156,35.64555740356445,17.26957893371582,-30.415184020996094,-30.417573928833008,-18.521093368530273,-27.762950897216797,14.254646301269531,-32.22376251220703,26.89057159423828,18.75018882751465,-25.924631118774414,-16.76070213317871,14.429828643798828,-17.121641159057617,-13.331892967224121,-16.96241569519043,14.61087703704834,-7.576017379760742,27.728515625,-11.445047378540039,14.927732467651367,11.32706356048584,-7.006438732147217,-17.93801498413086,26.5435733795166,-26.47333526611328,-0.45115503668785095,21.199655532836914,-4.772635459899902,-14.609989166259766,31.102645874023438,7.42033576965332,10.751753807067871,8.222289085388184,12.051509857177734,-15.575331687927246,31.669620513916016,-6.903875827789307,0.8137008547782898,21.14617156982422,34.246849060058594,-19.50120735168457,-0.7428978085517883,29.039945602416992,18.686321258544922,12.70771598815918,-11.255023002624512,-14.256892204284668,-2.999213457107544,2.312119722366333,-14.256892204284668,7.504258155822754,14.356001853942871,9.873920440673828,-21.85360336303711,-9.997483253479004,10.076196670532227,3.4565236568450928,-3.6969194412231445,-33.22148132324219,12.970070838928223,-32.864315032958984,24.238698959350586,-32.70549011230469,1.0520250797271729,26.258119583129883,28.767086029052734,25.814512252807617,15.7257661819458,26.32758903503418,24.23912239074707,13.542576789855957,16.369646072387695,15.089098930358887,-11.885494232177734,14.488245964050293,-22.609628677368164,30.793825149536133,-1.7063627243041992,16.1876277923584,1.4037823677062988,8.117570877075195,25.714202880859375,0.5665640830993652,-2.933718204498291,-10.639219284057617,-3.098681926727295,0.5422034859657288,11.325057029724121,4.72568416595459,31.081911087036133,19.3515567779541,18.469362258911133,3.653409242630005,54.387760162353516,29.91484260559082,6.904809951782227,30.112878799438477,-8.917593955993652,28.70073699951172,-6.127435684204102,6.301211357116699,19.00943374633789,21.949729919433594,-10.575701713562012,24.48666763305664,-6.9970927238464355,29.968778610229492,-14.596630096435547,-26.88155174255371,-26.136829376220703,-26.03696060180664,-15.629128456115723,33.11604690551758,28.04585075378418,6.253690719604492,57.5185546875,22.288373947143555,17.86077117919922,15.357213973999023,9.482805252075195,15.12614917755127,-11.786765098571777,13.409988403320312,-18.124717712402344,-7.121598720550537,16.029525756835938,0.3948913812637329,-23.62565040588379,19.972623825073242,-12.517315864562988,25.169092178344727,-23.507972717285156,-0.6397996544837952,24.433349609375,13.920172691345215,16.473276138305664,-1.1462392807006836,26.6304874420166,27.447052001953125,-28.218017578125,-6.791657447814941,-34.49131393432617,-22.880699157714844,27.299047470092773,-21.628889083862305,-21.628925323486328,-21.72001075744629,0.6757904887199402,28.183185577392578,26.941801071166992,24.04384994506836,27.40303611755371,22.321866989135742,24.062936782836914,-5.762781620025635,1.1770515441894531,-8.05887508392334,26.942779541015625,26.287918090820312,18.152687072753906,17.55599021911621,17.556262969970703,15.812958717346191,-10.13100528717041,29.282670974731445,-13.329961776733398,-12.174736976623535,19.579526901245117,-10.766889572143555,5.06844425201416,-32.44269561767578,7.340311050415039,-15.348064422607422,-14.162900924682617,-10.623686790466309,-23.028575897216797,-23.030719757080078,29.15056800842285,-21.721704483032227,-22.609718322753906,-26.867067337036133,-31.57199478149414,-25.21139907836914,-32.34205627441406,-25.011558532714844,-5.548964977264404,-22.35434341430664,-11.866418838500977,-20.04499053955078,-13.227250099182129,18.474123001098633,-26.02309226989746,-30.92389488220215,20.689712524414062,30.83995246887207,-26.866575241088867,-2.067678928375244,-2.067678928375244,-1.8699287176132202,8.333669662475586,-12.744277000427246,-11.585531234741211,-9.815534591674805,-14.758317947387695,12.792797088623047,-9.57063102722168,-13.409960746765137,-17.70697021484375,24.442745208740234,-3.637803554534912,-20.34111213684082,-21.107349395751953,-15.3612642288208,0.31135720014572144,11.12958812713623],\"xaxis\":\"x\",\"y\":[7.101919651031494,7.789405822753906,-5.092939376831055,14.998445510864258,-6.394410610198975,7.639847755432129,-5.7797980308532715,22.179567337036133,-14.89217758178711,8.714906692504883,-18.262550354003906,8.71471881866455,-22.517290115356445,-4.251546382904053,-0.9543015360832214,7.725862979888916,-0.8297149538993835,-10.794896125793457,-10.63271713256836,-8.905729293823242,-5.0695109367370605,-16.27349090576172,-1.7900195121765137,-15.481050491333008,8.760952949523926,17.77213478088379,-7.468295574188232,1.4247791767120361,1.0679969787597656,-7.13131046295166,1.4249507188796997,11.89749813079834,-5.273807525634766,9.877575874328613,6.069853782653809,2.129878282546997,-15.691367149353027,-2.5886096954345703,25.675588607788086,5.900094985961914,21.039833068847656,15.833601951599121,-0.34710654616355896,4.7533111572265625,-17.07180404663086,-17.713563919067383,-6.495672702789307,21.84615707397461,-14.900168418884277,-5.111661434173584,17.73992919921875,24.085124969482422,9.642315864562988,0.9500461220741272,-9.784697532653809,-15.721139907836914,10.1792573928833,-21.944950103759766,16.29524803161621,-11.867185592651367,-9.686270713806152,-6.640741348266602,8.421058654785156,-22.30883026123047,-11.024209976196289,-3.8473591804504395,-15.670013427734375,2.3729004859924316,-10.283223152160645,16.788692474365234,10.655588150024414,18.60777473449707,13.135151863098145,-5.489852428436279,4.815196514129639,-18.421682357788086,-2.404757499694824,-6.031333923339844,-4.275329113006592,-82.79115295410156,5.067337512969971,12.085614204406738,-9.212646484375,-9.98603630065918,-13.632786750793457,-26.23680877685547,-1.5049163103103638,-15.700366020202637,-17.946552276611328,-8.121807098388672,2.945810556411743,-6.7373175621032715,22.95962905883789,-5.747194766998291,-9.70116138458252,-17.624666213989258,-2.8758983612060547,22.44583511352539,21.961349487304688,25.71403694152832,-2.2175886631011963,-2.381563663482666,-14.67442512512207,-16.305740356445312,0.7998991012573242,5.774161338806152,-2.271244525909424,6.064755439758301,7.8789567947387695,2.8594350814819336,8.599128723144531,9.245347023010254,5.735614776611328,2.728881597518921,5.072262763977051,3.356675863265991,16.582460403442383,6.807471752166748,6.856205463409424,5.5663557052612305,7.259954929351807,19.297626495361328,15.130938529968262,-13.681475639343262,2.899737596511841,-10.55739974975586,11.932568550109863,-13.215570449829102,-18.5139102935791,-12.756373405456543,-12.4563627243042,27.798486709594727,-15.297184944152832,-4.7521748542785645,17.28835105895996,0.6395318508148193,-2.51342511177063,3.0536792278289795,6.845992565155029,-7.547233581542969,15.355186462402344,12.831757545471191,15.354531288146973,-11.71487808227539,-11.023906707763672,-11.02334976196289,-10.371715545654297,20.07848358154297,15.07572078704834,12.146968841552734,-1.7405799627304077,4.4919233322143555,1.6406718492507935,1.8341537714004517,2.5483696460723877,-10.460725784301758,-6.912990093231201,-6.494575500488281,0.5915483832359314,17.244850158691406,6.574672698974609,15.324742317199707,-16.771310806274414,-19.795713424682617,-75.03173828125,10.491196632385254,10.060770988464355,15.3622465133667,-3.7871923446655273,-18.239028930664062,-21.914409637451172,-13.516759872436523,2.636645793914795,13.95020866394043,9.04468059539795,23.24254608154297,19.01653289794922,19.019933700561523,-14.12831974029541,20.405778884887695,1.8388538360595703,2.3609251976013184,-9.426868438720703,-13.623334884643555,6.1016106605529785,-22.229793548583984,2.7835888862609863,8.420719146728516,8.158400535583496,-69.81437683105469,19.297935485839844,9.44497299194336,-7.196847438812256,4.201285362243652,10.346840858459473,11.986715316772461,4.384333610534668,1.789507269859314,-7.674234390258789,6.070312023162842,14.390576362609863,-7.670683860778809,-12.761422157287598,4.288722038269043,14.30929946899414,-0.901168942451477,-10.46535587310791,9.88687801361084,7.5671257972717285,7.158058166503906,-6.712919235229492,-1.7438329458236694,17.962736129760742,5.141549587249756,-4.5937180519104,-8.283071517944336,16.09697151184082,21.96558952331543,-8.805541038513184,-9.273789405822754,7.710999011993408,7.5769782066345215,2.618053913116455,8.524642944335938,-8.523234367370605,-5.166652679443359,-5.021547794342041,19.367450714111328,-13.966999053955078,10.2964506149292,-10.640103340148926,4.489306926727295,-4.780201435089111,-12.024219512939453,-13.644381523132324,24.27327537536621,-5.549440383911133,26.1219482421875,20.968812942504883,-8.270267486572266,-2.7136263847351074,17.87270736694336,-13.385000228881836,3.65067195892334,-13.530426979064941,5.117986679077148,5.029941082000732,3.9591753482818604,5.812265872955322,20.396133422851562,5.703499794006348,-3.3151049613952637,-2.5685606002807617,14.489677429199219,5.781385898590088,5.147374629974365,22.73141860961914,12.444559097290039,-14.92988109588623,13.475397109985352,8.626455307006836,3.475644826889038,-16.918498992919922,-11.875015258789062,-16.444982528686523,-13.815653800964355,20.31723976135254,-14.695025444030762,-19.13744354248047,4.632014274597168,-20.42790985107422,20.357080459594727,27.22794532775879,-13.667061805725098,6.986802101135254,14.669361114501953,-12.024767875671387,8.514634132385254,-2.038546085357666,-11.495810508728027,11.704389572143555,-10.625383377075195,-19.13299560546875,-14.82939338684082,-17.565271377563477,-23.909868240356445,-8.241999626159668,-8.164712905883789,1.9594582319259644,11.080485343933105,2.1339447498321533,15.772867202758789,31.010963439941406,11.748047828674316,6.515498638153076,3.9779305458068848,-5.892044544219971,-39.334651947021484,4.728178977966309,5.648038864135742,11.882315635681152,7.89028787612915,-2.8753669261932373,-1.9185820817947388,-7.772956848144531,6.860832691192627,-1.2580208778381348,-24.327152252197266,1.5548516511917114,19.256927490234375,-10.312493324279785,-1.70270574092865,20.042699813842773,15.440972328186035,9.161696434020996,15.782820701599121,7.624616622924805,19.65165138244629,-19.502187728881836,9.787514686584473,-19.31753158569336,-18.689363479614258,-15.142929077148438,15.67786693572998,-1.0762786865234375,17.949710845947266,15.605107307434082,5.248537063598633,-5.15462064743042,5.875220775604248,18.721019744873047,24.06486701965332,15.927875518798828,-5.6675615310668945,11.234813690185547,19.254924774169922,-11.410296440124512,5.581310749053955,-10.754924774169922,25.780914306640625,1.6229459047317505,-11.53238296508789,15.283698081970215,24.352062225341797,-11.950559616088867,0.31733280420303345,-9.841391563415527,18.769630432128906,22.991073608398438,11.680543899536133,-9.72658920288086,17.06952476501465,15.340088844299316,5.586328983306885,-17.074073791503906,14.752372741699219,15.280891418457031,-7.975663185119629,-13.247204780578613,-7.156548023223877,-13.461068153381348,1.5383543968200684,10.531082153320312,-8.000033378601074,2.6165573596954346,-0.6804139018058777,-15.559210777282715,4.385735988616943,18.250627517700195,-12.68319320678711,-76.91218566894531,-3.7561657428741455,16.708498001098633,0.2561745345592499,-8.393686294555664,-7.437225818634033,-8.416826248168945,-11.742589950561523,-2.8344390392303467,-0.3546960651874542,-3.889604091644287,18.78946876525879,5.214085102081299,5.225080490112305,6.906153678894043,16.170066833496094,15.235673904418945,21.647987365722656,-8.278085708618164,-14.745317459106445,-9.305459022521973,-4.280710697174072,16.59239959716797,5.420318126678467,-7.156968116760254,10.005647659301758,-3.0836246013641357,6.744614601135254,-12.38827133178711,15.024824142456055,-13.213912010192871,25.585145950317383,1.1195380687713623,-9.371356010437012,-14.846719741821289,1.2033379077911377,-18.518999099731445,-18.380447387695312,13.051112174987793,-1.9963765144348145,-0.6765062212944031,-15.10649299621582,-14.113226890563965,-12.415008544921875,18.536972045898438,8.600958824157715,24.073030471801758,-1.7950588464736938,-15.539420127868652,12.729024887084961,-5.3259687423706055,-11.029374122619629,-8.388893127441406,-20.198137283325195,6.908306121826172,10.496612548828125,7.379072666168213,-1.38286554813385,-12.189756393432617,24.451814651489258,8.107358932495117,0.3384501338005066,-67.11717224121094,-15.146804809570312,-19.80318832397461,-2.021312713623047,-15.924864768981934,11.651742935180664,21.96278953552246,19.991172790527344,5.629251956939697,4.636492729187012,6.651492595672607,4.684950828552246,-2.7009830474853516,9.728716850280762,-18.180986404418945,-15.767910957336426,-4.338521480560303,-14.49422836303711,-0.10631395131349564,14.190041542053223,13.115730285644531,-61.30479431152344,-0.5307647585868835,2.195340394973755,10.146143913269043,-70.60400390625,21.852157592773438,10.637808799743652,-26.236879348754883,-42.381065368652344,-28.415956497192383,-28.417245864868164,20.58736801147461,-7.351406097412109,-4.345766544342041,18.158369064331055,10.713677406311035,-5.292308330535889,3.8909549713134766,-16.6942138671875,9.238016128540039,19.40313720703125,9.85216236114502,12.197927474975586,-10.686615943908691,9.896512031555176,13.582364082336426,17.408512115478516,-1.9187742471694946,1.4383647441864014,25.724849700927734,-14.07034969329834,5.3819804191589355,10.454611778259277,12.527444839477539,5.306445598602295,-1.2079235315322876,-20.363435745239258,-18.123754501342773,17.959043502807617,-17.546165466308594,-2.9409945011138916,-5.239075660705566,17.96318244934082,-16.554866790771484,-6.164690017700195,-10.573814392089844,-18.208189010620117,-9.232115745544434,-16.89039421081543,-1.2134625911712646,-4.477954864501953,24.49724578857422,14.052558898925781,-3.7675347328186035,-5.2025837898254395,-8.790240287780762,-6.3573479652404785,-15.878169059753418,7.298271179199219,3.453530788421631,2.2081029415130615,2.7846150398254395,-0.12271524220705032,9.074198722839355,2.4048209190368652,10.109575271606445,21.87154769897461,2.485954761505127,2.729349136352539,20.40011978149414,1.1145521402359009,17.069101333618164,19.402755737304688,-6.356597423553467,-0.2943701148033142,-15.56315803527832,-17.448354721069336,-20.270469665527344,18.161579132080078,3.1064324378967285,-5.906371116638184,-6.780142307281494,13.343085289001465,9.108316421508789,-17.667320251464844,-14.02584457397461,-60.67955017089844,-4.0333404541015625,14.595995903015137,0.7132801413536072,-6.0402116775512695,-1.0215339660644531,-1.238034963607788,13.080653190612793,-17.4334659576416,-0.4937872290611267,-5.33974027633667,21.140193939208984,36.89718246459961,21.097402572631836,16.79437255859375,4.954126834869385,-19.150470733642578,-14.867094039916992,-18.78067970275879,-8.932772636413574,-15.70779037475586,10.365995407104492,-2.9288671016693115,-2.929486036300659,-12.346728324890137,-8.079697608947754,-4.591191291809082,16.043048858642578,20.730844497680664,-4.620626926422119,4.9548468589782715,21.253433227539062,9.01112174987793,4.583806037902832,-13.585442543029785,2.094895362854004,-22.261329650878906,-6.256607532501221,-21.79759407043457,6.882546901702881,1.8841339349746704,-10.408225059509277,10.739109992980957,14.837182998657227,-7.110561847686768,-2.2563421726226807,-12.54251766204834,-8.976909637451172,-3.707123041152954,-1.9294958114624023,-6.230860710144043,-15.71640396118164,-21.29696273803711,-4.984678268432617,-7.642493724822998,-1.7918871641159058,15.449385643005371,14.006111145019531,-2.4594132900238037,11.388668060302734,-6.275954723358154,-19.501874923706055,-10.556389808654785,-53.96464920043945,-12.024539947509766,19.626331329345703,6.050946235656738,2.4795455932617188,-8.640867233276367,10.408149719238281,-5.184870719909668,0.9228188991546631,-0.9476257562637329,-0.8741500973701477,0.8785097002983093,1.912972331047058,13.583531379699707,2.7156646251678467,2.02217173576355,3.434171438217163,14.370290756225586,3.343950033187866,11.883255004882812,3.270805835723877,3.585418224334717,23.36149787902832,12.88245677947998,37.35219192504883,5.81701135635376,0.6460268497467041,-9.154828071594238,-3.3138387203216553,6.166659355163574,23.368541717529297,-13.503669738769531,-14.585246086120605,13.954474449157715,2.605886936187744,-17.886993408203125,-11.36323356628418,2.783949613571167,5.457402229309082,12.72842025756836,0.42300280928611755,11.709892272949219,-5.361469745635986,16.945810317993164,14.74122428894043,4.719780921936035,-5.966041564941406,-13.005412101745605,-3.7667291164398193,5.241968631744385,-22.638702392578125,2.5505435466766357,15.244327545166016,12.971206665039062,-18.059568405151367,19.403894424438477,-17.05002784729004,12.625601768493652,14.254087448120117,-6.004422187805176,-9.524577140808105,7.697730541229248,18.204166412353516,-10.203460693359375,12.305277824401855,21.594196319580078,-8.730915069580078,21.010347366333008,21.638608932495117,-9.804245948791504,18.025545120239258,-9.557331085205078,-4.087691307067871,16.579572677612305,-3.358381986618042,-12.707894325256348,22.468303680419922,-4.734287261962891,-4.7762131690979,-7.250200271606445,-0.1319887787103653,15.82028579711914,18.215351104736328,3.086962938308716,-1.6840767860412598,3.4679832458496094,-14.925944328308105,-4.187511920928955,-7.503982067108154,0.17588698863983154,-8.917187690734863,0.2779807150363922,-5.026600360870361,1.1184065341949463,-6.4765167236328125,19.168577194213867,-19.711687088012695,22.929672241210938,23.615070343017578,-12.568610191345215,-8.597236633300781,-21.798032760620117,-12.002363204956055,-3.1715450286865234,-15.134013175964355,-7.528886318206787,20.78022575378418,0.25064346194267273,-4.959120273590088,1.3362784385681152,1.3367995023727417,-0.15990287065505981,-4.628497123718262,-2.4700894355773926,11.385128021240234,14.491249084472656,10.709983825683594,-9.523972511291504,12.258477210998535,15.153238296508789,12.001082420349121,1.1236650943756104,12.734896659851074,11.80165958404541,10.04700756072998,18.82253646850586,13.982902526855469,11.233779907226562,12.711108207702637,15.285843849182129,-14.291605949401855,8.381491661071777,19.38467788696289,19.415559768676758,-19.555322647094727,-10.0975980758667,-9.619595527648926,-11.370634078979492,-22.10294532775879,-17.44418716430664,-17.379947662353516,17.400550842285156,15.678004264831543,6.729288578033447,-10.818363189697266,-0.30515336990356445,1.33539617061615,0.5922310948371887,1.33539617061615,17.90909767150879,-11.89283561706543,17.27742576599121,2.5584394931793213,0.8647149205207825,0.7751504778862,-14.116851806640625,-12.138675689697266,19.98080825805664,10.517415046691895,0.7586305737495422,8.707270622253418,5.956464767456055,-11.78720760345459,-23.289398193359375,6.095291614532471,6.958309650421143,7.039133071899414,8.872001647949219,-0.9055526256561279,-14.560017585754395,-12.157792091369629,11.429312705993652,0.32870763540267944,-3.211686134338379,-3.548579216003418,-9.553117752075195,-1.3376548290252686,17.058908462524414,6.827254295349121,21.698415756225586,16.583267211914062,-12.378169059753418,-20.288419723510742,21.334497451782227,15.16557502746582,-11.747897148132324,-15.149194717407227,-2.6176788806915283,-14.865965843200684,21.663551330566406,-5.893453121185303,-16.941730499267578,18.2030086517334,12.263927459716797,-18.931764602661133,13.77563762664795,-13.912242889404297,-0.8596850037574768,-15.042218208312988,-23.909099578857422,9.307356834411621,2.447061538696289,19.872880935668945,15.915060997009277,-4.953960418701172,2.1374309062957764,1.8833318948745728,1.8554913997650146,9.487810134887695,-3.5926592350006104,1.9971342086791992,15.16983413696289,-15.897238731384277,-2.761465072631836,-8.83720874786377,18.82952880859375,-7.962198257446289,-4.802382469177246,12.83001708984375,-6.894583225250244,-2.2181880474090576,12.83001708984375,0.16156215965747833,11.974006652832031,-19.3155574798584,-18.421993255615234,-3.181628942489624,14.844257354736328,1.33539617061615,-6.917233943939209,13.37426471710205,-1.0348191261291504,-8.976431846618652,3.264389991760254,-10.004673957824707,20.60908317565918,21.20246124267578,19.636707305908203,8.693184852600098,1.7753026485443115,23.89226722717285,3.2648887634277344,4.14566707611084,2.4140446186065674,1.34697425365448,-19.428983688354492,3.191678762435913,17.873281478881836,22.09535789489746,-42.381065368652344,20.769922256469727,-4.730932235717773,-0.31437864899635315,12.101033210754395,8.185155868530273,12.172189712524414,31.36872100830078,-16.966053009033203,-12.496939659118652,8.749799728393555,-2.4134304523468018,24.82381820678711,2.8634917736053467,-17.544620513916016,-20.52485466003418,-27.49948501586914,20.664262771606445,-10.70687484741211,11.731782913208008,-19.72371482849121,22.871675491333008,-13.247471809387207,-1.05230712890625,25.17684555053711,20.736751556396484,-7.100795269012451,16.528228759765625,12.25107192993164,11.879565238952637,-16.295345306396484,10.948573112487793,10.336084365844727,10.118739128112793,11.261998176574707,1.069036841392517,23.266674041748047,-3.444068670272827,-48.50402069091797,0.5568763017654419,-14.808195114135742,3.79127836227417,3.6566784381866455,-12.77723217010498,-14.946885108947754,-81.09256744384766,-18.849708557128906,1.3853875398635864,10.16110610961914,-2.8493599891662598,-13.741716384887695,-6.231679916381836,-4.9492950439453125,15.1212739944458,-10.894853591918945,20.240507125854492,21.22703742980957,14.221647262573242,-10.242706298828125,-8.404361724853516,-4.990270614624023,25.742483139038086,-14.818741798400879,-17.208276748657227,-0.533511757850647,5.202341079711914,-3.55204701423645,12.410565376281738,12.410510063171387,-7.981094837188721,9.315011024475098,18.258716583251953,-3.8639400005340576,-4.240882873535156,-4.617121696472168,-4.23911714553833,-14.492176055908203,5.875220775604248,8.890503883361816,-18.19887924194336,-3.86177134513855,-4.212792873382568,-11.174023628234863,-10.917057991027832,-10.916709899902344,28.482614517211914,-5.324010848999023,17.461109161376953,-11.750385284423828,-6.458012580871582,-1.9454081058502197,10.580418586730957,12.268260955810547,-4.226340293884277,13.222777366638184,-11.794495582580566,-8.242104530334473,14.11976432800293,-21.228960037231445,-21.230165481567383,2.1906325817108154,-21.40907859802246,17.873584747314453,-19.31756591796875,5.669825077056885,5.130911350250244,-70.81963348388672,5.150893211364746,-20.031734466552734,-14.791794776916504,-5.154234886169434,14.579278945922852,-3.657334327697754,12.39652156829834,4.582396507263184,-13.157576560974121,-9.996493339538574,5.086373805999756,-19.317598342895508,8.166911125183105,8.166911125183105,6.4853739738464355,17.33568572998047,-11.746874809265137,-9.22403335571289,-13.24246883392334,5.4875569343566895,17.302186965942383,-11.380309104919434,-16.47812843322754,-19.987117767333984,3.94838809967041,-3.230145215988159,-10.153575897216797,-13.848724365234375,-8.131845474243164,-1.1478182077407837,15.09083366394043],\"yaxis\":\"y\",\"type\":\"scatter\"}],                        {\"template\":{\"data\":{\"bar\":[{\"error_x\":{\"color\":\"#2a3f5f\"},\"error_y\":{\"color\":\"#2a3f5f\"},\"marker\":{\"line\":{\"color\":\"#E5ECF6\",\"width\":0.5},\"pattern\":{\"fillmode\":\"overlay\",\"size\":10,\"solidity\":0.2}},\"type\":\"bar\"}],\"barpolar\":[{\"marker\":{\"line\":{\"color\":\"#E5ECF6\",\"width\":0.5},\"pattern\":{\"fillmode\":\"overlay\",\"size\":10,\"solidity\":0.2}},\"type\":\"barpolar\"}],\"carpet\":[{\"aaxis\":{\"endlinecolor\":\"#2a3f5f\",\"gridcolor\":\"white\",\"linecolor\":\"white\",\"minorgridcolor\":\"white\",\"startlinecolor\":\"#2a3f5f\"},\"baxis\":{\"endlinecolor\":\"#2a3f5f\",\"gridcolor\":\"white\",\"linecolor\":\"white\",\"minorgridcolor\":\"white\",\"startlinecolor\":\"#2a3f5f\"},\"type\":\"carpet\"}],\"choropleth\":[{\"colorbar\":{\"outlinewidth\":0,\"ticks\":\"\"},\"type\":\"choropleth\"}],\"contour\":[{\"colorbar\":{\"outlinewidth\":0,\"ticks\":\"\"},\"colorscale\":[[0.0,\"#0d0887\"],[0.1111111111111111,\"#46039f\"],[0.2222222222222222,\"#7201a8\"],[0.3333333333333333,\"#9c179e\"],[0.4444444444444444,\"#bd3786\"],[0.5555555555555556,\"#d8576b\"],[0.6666666666666666,\"#ed7953\"],[0.7777777777777778,\"#fb9f3a\"],[0.8888888888888888,\"#fdca26\"],[1.0,\"#f0f921\"]],\"type\":\"contour\"}],\"contourcarpet\":[{\"colorbar\":{\"outlinewidth\":0,\"ticks\":\"\"},\"type\":\"contourcarpet\"}],\"heatmap\":[{\"colorbar\":{\"outlinewidth\":0,\"ticks\":\"\"},\"colorscale\":[[0.0,\"#0d0887\"],[0.1111111111111111,\"#46039f\"],[0.2222222222222222,\"#7201a8\"],[0.3333333333333333,\"#9c179e\"],[0.4444444444444444,\"#bd3786\"],[0.5555555555555556,\"#d8576b\"],[0.6666666666666666,\"#ed7953\"],[0.7777777777777778,\"#fb9f3a\"],[0.8888888888888888,\"#fdca26\"],[1.0,\"#f0f921\"]],\"type\":\"heatmap\"}],\"heatmapgl\":[{\"colorbar\":{\"outlinewidth\":0,\"ticks\":\"\"},\"colorscale\":[[0.0,\"#0d0887\"],[0.1111111111111111,\"#46039f\"],[0.2222222222222222,\"#7201a8\"],[0.3333333333333333,\"#9c179e\"],[0.4444444444444444,\"#bd3786\"],[0.5555555555555556,\"#d8576b\"],[0.6666666666666666,\"#ed7953\"],[0.7777777777777778,\"#fb9f3a\"],[0.8888888888888888,\"#fdca26\"],[1.0,\"#f0f921\"]],\"type\":\"heatmapgl\"}],\"histogram\":[{\"marker\":{\"pattern\":{\"fillmode\":\"overlay\",\"size\":10,\"solidity\":0.2}},\"type\":\"histogram\"}],\"histogram2d\":[{\"colorbar\":{\"outlinewidth\":0,\"ticks\":\"\"},\"colorscale\":[[0.0,\"#0d0887\"],[0.1111111111111111,\"#46039f\"],[0.2222222222222222,\"#7201a8\"],[0.3333333333333333,\"#9c179e\"],[0.4444444444444444,\"#bd3786\"],[0.5555555555555556,\"#d8576b\"],[0.6666666666666666,\"#ed7953\"],[0.7777777777777778,\"#fb9f3a\"],[0.8888888888888888,\"#fdca26\"],[1.0,\"#f0f921\"]],\"type\":\"histogram2d\"}],\"histogram2dcontour\":[{\"colorbar\":{\"outlinewidth\":0,\"ticks\":\"\"},\"colorscale\":[[0.0,\"#0d0887\"],[0.1111111111111111,\"#46039f\"],[0.2222222222222222,\"#7201a8\"],[0.3333333333333333,\"#9c179e\"],[0.4444444444444444,\"#bd3786\"],[0.5555555555555556,\"#d8576b\"],[0.6666666666666666,\"#ed7953\"],[0.7777777777777778,\"#fb9f3a\"],[0.8888888888888888,\"#fdca26\"],[1.0,\"#f0f921\"]],\"type\":\"histogram2dcontour\"}],\"mesh3d\":[{\"colorbar\":{\"outlinewidth\":0,\"ticks\":\"\"},\"type\":\"mesh3d\"}],\"parcoords\":[{\"line\":{\"colorbar\":{\"outlinewidth\":0,\"ticks\":\"\"}},\"type\":\"parcoords\"}],\"pie\":[{\"automargin\":true,\"type\":\"pie\"}],\"scatter\":[{\"marker\":{\"colorbar\":{\"outlinewidth\":0,\"ticks\":\"\"}},\"type\":\"scatter\"}],\"scatter3d\":[{\"line\":{\"colorbar\":{\"outlinewidth\":0,\"ticks\":\"\"}},\"marker\":{\"colorbar\":{\"outlinewidth\":0,\"ticks\":\"\"}},\"type\":\"scatter3d\"}],\"scattercarpet\":[{\"marker\":{\"colorbar\":{\"outlinewidth\":0,\"ticks\":\"\"}},\"type\":\"scattercarpet\"}],\"scattergeo\":[{\"marker\":{\"colorbar\":{\"outlinewidth\":0,\"ticks\":\"\"}},\"type\":\"scattergeo\"}],\"scattergl\":[{\"marker\":{\"colorbar\":{\"outlinewidth\":0,\"ticks\":\"\"}},\"type\":\"scattergl\"}],\"scattermapbox\":[{\"marker\":{\"colorbar\":{\"outlinewidth\":0,\"ticks\":\"\"}},\"type\":\"scattermapbox\"}],\"scatterpolar\":[{\"marker\":{\"colorbar\":{\"outlinewidth\":0,\"ticks\":\"\"}},\"type\":\"scatterpolar\"}],\"scatterpolargl\":[{\"marker\":{\"colorbar\":{\"outlinewidth\":0,\"ticks\":\"\"}},\"type\":\"scatterpolargl\"}],\"scatterternary\":[{\"marker\":{\"colorbar\":{\"outlinewidth\":0,\"ticks\":\"\"}},\"type\":\"scatterternary\"}],\"surface\":[{\"colorbar\":{\"outlinewidth\":0,\"ticks\":\"\"},\"colorscale\":[[0.0,\"#0d0887\"],[0.1111111111111111,\"#46039f\"],[0.2222222222222222,\"#7201a8\"],[0.3333333333333333,\"#9c179e\"],[0.4444444444444444,\"#bd3786\"],[0.5555555555555556,\"#d8576b\"],[0.6666666666666666,\"#ed7953\"],[0.7777777777777778,\"#fb9f3a\"],[0.8888888888888888,\"#fdca26\"],[1.0,\"#f0f921\"]],\"type\":\"surface\"}],\"table\":[{\"cells\":{\"fill\":{\"color\":\"#EBF0F8\"},\"line\":{\"color\":\"white\"}},\"header\":{\"fill\":{\"color\":\"#C8D4E3\"},\"line\":{\"color\":\"white\"}},\"type\":\"table\"}]},\"layout\":{\"annotationdefaults\":{\"arrowcolor\":\"#2a3f5f\",\"arrowhead\":0,\"arrowwidth\":1},\"autotypenumbers\":\"strict\",\"coloraxis\":{\"colorbar\":{\"outlinewidth\":0,\"ticks\":\"\"}},\"colorscale\":{\"diverging\":[[0,\"#8e0152\"],[0.1,\"#c51b7d\"],[0.2,\"#de77ae\"],[0.3,\"#f1b6da\"],[0.4,\"#fde0ef\"],[0.5,\"#f7f7f7\"],[0.6,\"#e6f5d0\"],[0.7,\"#b8e186\"],[0.8,\"#7fbc41\"],[0.9,\"#4d9221\"],[1,\"#276419\"]],\"sequential\":[[0.0,\"#0d0887\"],[0.1111111111111111,\"#46039f\"],[0.2222222222222222,\"#7201a8\"],[0.3333333333333333,\"#9c179e\"],[0.4444444444444444,\"#bd3786\"],[0.5555555555555556,\"#d8576b\"],[0.6666666666666666,\"#ed7953\"],[0.7777777777777778,\"#fb9f3a\"],[0.8888888888888888,\"#fdca26\"],[1.0,\"#f0f921\"]],\"sequentialminus\":[[0.0,\"#0d0887\"],[0.1111111111111111,\"#46039f\"],[0.2222222222222222,\"#7201a8\"],[0.3333333333333333,\"#9c179e\"],[0.4444444444444444,\"#bd3786\"],[0.5555555555555556,\"#d8576b\"],[0.6666666666666666,\"#ed7953\"],[0.7777777777777778,\"#fb9f3a\"],[0.8888888888888888,\"#fdca26\"],[1.0,\"#f0f921\"]]},\"colorway\":[\"#636efa\",\"#EF553B\",\"#00cc96\",\"#ab63fa\",\"#FFA15A\",\"#19d3f3\",\"#FF6692\",\"#B6E880\",\"#FF97FF\",\"#FECB52\"],\"font\":{\"color\":\"#2a3f5f\"},\"geo\":{\"bgcolor\":\"white\",\"lakecolor\":\"white\",\"landcolor\":\"#E5ECF6\",\"showlakes\":true,\"showland\":true,\"subunitcolor\":\"white\"},\"hoverlabel\":{\"align\":\"left\"},\"hovermode\":\"closest\",\"mapbox\":{\"style\":\"light\"},\"paper_bgcolor\":\"white\",\"plot_bgcolor\":\"#E5ECF6\",\"polar\":{\"angularaxis\":{\"gridcolor\":\"white\",\"linecolor\":\"white\",\"ticks\":\"\"},\"bgcolor\":\"#E5ECF6\",\"radialaxis\":{\"gridcolor\":\"white\",\"linecolor\":\"white\",\"ticks\":\"\"}},\"scene\":{\"xaxis\":{\"backgroundcolor\":\"#E5ECF6\",\"gridcolor\":\"white\",\"gridwidth\":2,\"linecolor\":\"white\",\"showbackground\":true,\"ticks\":\"\",\"zerolinecolor\":\"white\"},\"yaxis\":{\"backgroundcolor\":\"#E5ECF6\",\"gridcolor\":\"white\",\"gridwidth\":2,\"linecolor\":\"white\",\"showbackground\":true,\"ticks\":\"\",\"zerolinecolor\":\"white\"},\"zaxis\":{\"backgroundcolor\":\"#E5ECF6\",\"gridcolor\":\"white\",\"gridwidth\":2,\"linecolor\":\"white\",\"showbackground\":true,\"ticks\":\"\",\"zerolinecolor\":\"white\"}},\"shapedefaults\":{\"line\":{\"color\":\"#2a3f5f\"}},\"ternary\":{\"aaxis\":{\"gridcolor\":\"white\",\"linecolor\":\"white\",\"ticks\":\"\"},\"baxis\":{\"gridcolor\":\"white\",\"linecolor\":\"white\",\"ticks\":\"\"},\"bgcolor\":\"#E5ECF6\",\"caxis\":{\"gridcolor\":\"white\",\"linecolor\":\"white\",\"ticks\":\"\"}},\"title\":{\"x\":0.05},\"xaxis\":{\"automargin\":true,\"gridcolor\":\"white\",\"linecolor\":\"white\",\"ticks\":\"\",\"title\":{\"standoff\":15},\"zerolinecolor\":\"white\",\"zerolinewidth\":2},\"yaxis\":{\"automargin\":true,\"gridcolor\":\"white\",\"linecolor\":\"white\",\"ticks\":\"\",\"title\":{\"standoff\":15},\"zerolinecolor\":\"white\",\"zerolinewidth\":2}}},\"xaxis\":{\"anchor\":\"y\",\"domain\":[0.0,1.0],\"title\":{\"text\":\"tsne-2d-one\"}},\"yaxis\":{\"anchor\":\"x\",\"domain\":[0.0,1.0],\"title\":{\"text\":\"tsne-2d-two\"}},\"coloraxis\":{\"colorbar\":{\"title\":{\"text\":\"Cluster\"}},\"colorscale\":[[0.0,\"#0d0887\"],[0.1111111111111111,\"#46039f\"],[0.2222222222222222,\"#7201a8\"],[0.3333333333333333,\"#9c179e\"],[0.4444444444444444,\"#bd3786\"],[0.5555555555555556,\"#d8576b\"],[0.6666666666666666,\"#ed7953\"],[0.7777777777777778,\"#fb9f3a\"],[0.8888888888888888,\"#fdca26\"],[1.0,\"#f0f921\"]]},\"legend\":{\"tracegroupgap\":0},\"title\":{\"text\":\"t-SNE visualization of Cocktails Clusters\"},\"width\":1000,\"height\":800},                        {\"responsive\": true}                    ).then(function(){\n",
       "                            \n",
       "var gd = document.getElementById('1b78bb9a-e021-4acf-ba90-79613ab71ba8');\n",
       "var x = new MutationObserver(function (mutations, observer) {{\n",
       "        var display = window.getComputedStyle(gd).display;\n",
       "        if (!display || display === 'none') {{\n",
       "            console.log([gd, 'removed!']);\n",
       "            Plotly.purge(gd);\n",
       "            observer.disconnect();\n",
       "        }}\n",
       "}});\n",
       "\n",
       "// Listen for the removal of the full notebook cells\n",
       "var notebookContainer = gd.closest('#notebook-container');\n",
       "if (notebookContainer) {{\n",
       "    x.observe(notebookContainer, {childList: true});\n",
       "}}\n",
       "\n",
       "// Listen for the clearing of the current output cell\n",
       "var outputEl = gd.closest('.output');\n",
       "if (outputEl) {{\n",
       "    x.observe(outputEl, {childList: true});\n",
       "}}\n",
       "\n",
       "                        })                };                });            </script>        </div>"
      ]
     },
     "metadata": {},
     "output_type": "display_data"
    },
    {
     "data": {
      "text/plain": [
       "<Figure size 432x288 with 0 Axes>"
      ]
     },
     "metadata": {},
     "output_type": "display_data"
    }
   ],
   "source": [
    "# Perform t-SNE dimensionality reduction\n",
    "tsne = TSNE(n_components=2, random_state=0)\n",
    "tsne_results = tsne.fit_transform(X)\n",
    "\n",
    "# Add the t-SNE results to your dataframe\n",
    "one_hot['tsne-2d-one'] = tsne_results[:,0]\n",
    "one_hot['tsne-2d-two'] = tsne_results[:,1]\n",
    "\n",
    "# Create a Plotly Express scatter plot\n",
    "fig = px.scatter(one_hot, x='tsne-2d-one', y='tsne-2d-two', color='Cluster', \n",
    "                 hover_data=['name'], title='t-SNE visualization of Cocktails Clusters')\n",
    "\n",
    "fig.update_layout(width=1000, height=800)\n",
    "\n",
    "# Save the plot\n",
    "fig.write_image('clustering.png')\n",
    "\n",
    "# Show the plot\n",
    "fig.show()\n",
    "\n"
   ]
  },
  {
   "cell_type": "code",
   "execution_count": 55,
   "id": "af76d219",
   "metadata": {},
   "outputs": [],
   "source": [
    "one_hot.to_csv('cleaned_cocktails.csv', index=False)"
   ]
  },
  {
   "cell_type": "code",
   "execution_count": 47,
   "id": "02217719-80df-4891-940d-d13766b08fff",
   "metadata": {},
   "outputs": [
    {
     "data": {
      "text/plain": [
       "0                        1626\n",
       "1                19th Century\n",
       "2                       A. J.\n",
       "3           Absinthe Cocktail\n",
       "4      Absinthe Drip Cocktail\n",
       "                ...          \n",
       "984          Yokahama Romance\n",
       "985                   Yolanda\n",
       "986             Zaza Cocktail\n",
       "987                 Zero Mint\n",
       "988                    Zombie\n",
       "Name: name, Length: 989, dtype: object"
      ]
     },
     "execution_count": 47,
     "metadata": {},
     "output_type": "execute_result"
    }
   ],
   "source": [
    "# one_hot.loc[one_hot['name'] == 'El Oso (The Bear)']\n",
    "one_hot['name']"
   ]
  },
  {
   "cell_type": "code",
   "execution_count": 48,
   "id": "2762aa05",
   "metadata": {},
   "outputs": [],
   "source": [
    "def find_similar_cocktails(cocktail_name, data, n=5):\n",
    "    if cocktail_name not in data['name'].values:\n",
    "        return \"Cocktail not found in the database.\"\n",
    "\n",
    "    # Get the cluster of the given cocktail\n",
    "    cocktail_cluster = data[data['name'] == cocktail_name]['Cluster'].iloc[0]\n",
    "\n",
    "    # Filter data for cocktails in the same cluster\n",
    "    cluster_data = data[data['Cluster'] == cocktail_cluster]\n",
    "\n",
    "    # Extract the row of the given cocktail\n",
    "    cocktail_row = cluster_data[cluster_data['name'] == cocktail_name].drop(['name', 'Cluster', 'tsne-2d-one', 'tsne-2d-two'], axis=1)\n",
    "\n",
    "    # Exclude the selected cocktail from the cluster data before computing distances\n",
    "    cluster_data = cluster_data[cluster_data['name'] != cocktail_name]\n",
    "\n",
    "    # Compute distances from the given cocktail to all others in the cluster\n",
    "    distances = euclidean_distances(cluster_data.drop(['name', 'Cluster', 'tsne-2d-one', 'tsne-2d-two'], axis=1), cocktail_row).flatten()\n",
    "\n",
    "    # Add distances to the cluster data\n",
    "    cluster_data['Distance'] = distances\n",
    "\n",
    "    # Get top n similar cocktails\n",
    "    similar_cocktails = cluster_data.sort_values('Distance')[:n]\n",
    "\n",
    "    return similar_cocktails['name'].tolist()\n",
    "\n"
   ]
  },
  {
   "cell_type": "code",
   "execution_count": 49,
   "id": "54a79ca0",
   "metadata": {},
   "outputs": [
    {
     "data": {
      "text/plain": [
       "list"
      ]
     },
     "execution_count": 49,
     "metadata": {},
     "output_type": "execute_result"
    }
   ],
   "source": [
    "similar_cocktails = find_similar_cocktails('Martini', one_hot)\n",
    "type(similar_cocktails)"
   ]
  },
  {
   "cell_type": "code",
   "execution_count": 50,
   "id": "4d3b3398",
   "metadata": {},
   "outputs": [
    {
     "data": {
      "text/html": [
       "<div>\n",
       "<style scoped>\n",
       "    .dataframe tbody tr th:only-of-type {\n",
       "        vertical-align: middle;\n",
       "    }\n",
       "\n",
       "    .dataframe tbody tr th {\n",
       "        vertical-align: top;\n",
       "    }\n",
       "\n",
       "    .dataframe thead th {\n",
       "        text-align: right;\n",
       "    }\n",
       "</style>\n",
       "<table border=\"1\" class=\"dataframe\">\n",
       "  <thead>\n",
       "    <tr style=\"text-align: right;\">\n",
       "      <th></th>\n",
       "      <th>name</th>\n",
       "      <th>category</th>\n",
       "      <th>row_id</th>\n",
       "      <th>ingredient_number</th>\n",
       "      <th>ingredient</th>\n",
       "      <th>measure</th>\n",
       "    </tr>\n",
       "  </thead>\n",
       "  <tbody>\n",
       "    <tr>\n",
       "      <th>875</th>\n",
       "      <td>Dry Martini</td>\n",
       "      <td>Cocktail Classics</td>\n",
       "      <td>256</td>\n",
       "      <td>1</td>\n",
       "      <td>Mr. Boston Gin</td>\n",
       "      <td>1 2/3 oz</td>\n",
       "    </tr>\n",
       "    <tr>\n",
       "      <th>876</th>\n",
       "      <td>Dry Martini</td>\n",
       "      <td>Cocktail Classics</td>\n",
       "      <td>256</td>\n",
       "      <td>2</td>\n",
       "      <td>Dry Vermouth</td>\n",
       "      <td>1/3 oz</td>\n",
       "    </tr>\n",
       "    <tr>\n",
       "      <th>884</th>\n",
       "      <td>Dillatini Cocktail</td>\n",
       "      <td>Cocktail Classics</td>\n",
       "      <td>259</td>\n",
       "      <td>1</td>\n",
       "      <td>Mr. Boston Gin</td>\n",
       "      <td>1 1/2 oz</td>\n",
       "    </tr>\n",
       "    <tr>\n",
       "      <th>885</th>\n",
       "      <td>Dillatini Cocktail</td>\n",
       "      <td>Cocktail Classics</td>\n",
       "      <td>259</td>\n",
       "      <td>2</td>\n",
       "      <td>Dry Vermouth</td>\n",
       "      <td>3/4 oz</td>\n",
       "    </tr>\n",
       "    <tr>\n",
       "      <th>2037</th>\n",
       "      <td>Dillatini</td>\n",
       "      <td>Cocktail Classics</td>\n",
       "      <td>563</td>\n",
       "      <td>1</td>\n",
       "      <td>Gin</td>\n",
       "      <td>1 1/2 oz</td>\n",
       "    </tr>\n",
       "    <tr>\n",
       "      <th>2038</th>\n",
       "      <td>Dillatini</td>\n",
       "      <td>Cocktail Classics</td>\n",
       "      <td>563</td>\n",
       "      <td>2</td>\n",
       "      <td>Dry Vermouth</td>\n",
       "      <td>3/4 oz</td>\n",
       "    </tr>\n",
       "    <tr>\n",
       "      <th>2197</th>\n",
       "      <td>Vermouth Cassis</td>\n",
       "      <td>Cocktail Classics</td>\n",
       "      <td>602</td>\n",
       "      <td>1</td>\n",
       "      <td>Creme de Cassis</td>\n",
       "      <td>3/4 oz</td>\n",
       "    </tr>\n",
       "    <tr>\n",
       "      <th>2198</th>\n",
       "      <td>Vermouth Cassis</td>\n",
       "      <td>Cocktail Classics</td>\n",
       "      <td>602</td>\n",
       "      <td>2</td>\n",
       "      <td>Dry Vermouth</td>\n",
       "      <td>1 1/2 oz</td>\n",
       "    </tr>\n",
       "    <tr>\n",
       "      <th>2340</th>\n",
       "      <td>Boston Bullet</td>\n",
       "      <td>Cocktail Classics</td>\n",
       "      <td>643</td>\n",
       "      <td>1</td>\n",
       "      <td>Gin</td>\n",
       "      <td>1 1/2 oz</td>\n",
       "    </tr>\n",
       "    <tr>\n",
       "      <th>2341</th>\n",
       "      <td>Boston Bullet</td>\n",
       "      <td>Cocktail Classics</td>\n",
       "      <td>643</td>\n",
       "      <td>2</td>\n",
       "      <td>Dry Vermouth</td>\n",
       "      <td>3/4 oz</td>\n",
       "    </tr>\n",
       "  </tbody>\n",
       "</table>\n",
       "</div>"
      ],
      "text/plain": [
       "                    name           category  row_id  ingredient_number  \\\n",
       "875          Dry Martini  Cocktail Classics     256                  1   \n",
       "876          Dry Martini  Cocktail Classics     256                  2   \n",
       "884   Dillatini Cocktail  Cocktail Classics     259                  1   \n",
       "885   Dillatini Cocktail  Cocktail Classics     259                  2   \n",
       "2037           Dillatini  Cocktail Classics     563                  1   \n",
       "2038           Dillatini  Cocktail Classics     563                  2   \n",
       "2197     Vermouth Cassis  Cocktail Classics     602                  1   \n",
       "2198     Vermouth Cassis  Cocktail Classics     602                  2   \n",
       "2340       Boston Bullet  Cocktail Classics     643                  1   \n",
       "2341       Boston Bullet  Cocktail Classics     643                  2   \n",
       "\n",
       "           ingredient   measure  \n",
       "875    Mr. Boston Gin  1 2/3 oz  \n",
       "876      Dry Vermouth    1/3 oz  \n",
       "884    Mr. Boston Gin  1 1/2 oz  \n",
       "885      Dry Vermouth    3/4 oz  \n",
       "2037              Gin  1 1/2 oz  \n",
       "2038     Dry Vermouth    3/4 oz  \n",
       "2197  Creme de Cassis    3/4 oz  \n",
       "2198     Dry Vermouth  1 1/2 oz  \n",
       "2340              Gin  1 1/2 oz  \n",
       "2341     Dry Vermouth    3/4 oz  "
      ]
     },
     "execution_count": 50,
     "metadata": {},
     "output_type": "execute_result"
    }
   ],
   "source": [
    "filtered_df = original_data[original_data['name'].isin(similar_cocktails)]\n",
    "filtered_df"
   ]
  },
  {
   "cell_type": "code",
   "execution_count": 51,
   "id": "a4172f12",
   "metadata": {},
   "outputs": [
    {
     "name": "stdout",
     "output_type": "stream",
     "text": [
      "Randomly selected cocktail: Thanksgiving Special Cocktail\n",
      "Similar cocktails: ['Western Rose Cocktail', 'Queen Elizabeth Cocktail', 'Blood Bronx Cocktail', \"Devil's Cocktail\", 'What The Hell']\n"
     ]
    }
   ],
   "source": [
    "\n",
    "random_sample = one_hot['name'].sample(n=1).iloc[0]\n",
    "random_test = find_similar_cocktails(random_sample, one_hot)\n",
    "\n",
    "print(\"Randomly selected cocktail:\", random_sample)\n",
    "print(\"Similar cocktails:\", random_test)"
   ]
  },
  {
   "cell_type": "code",
   "execution_count": 52,
   "id": "f1ad982a",
   "metadata": {},
   "outputs": [
    {
     "data": {
      "text/plain": [
       "name\n",
       "1626                      Bourbon whiskey, Gingerbread liqueur, cherry-f...\n",
       "19th Century              Bourbon whiskey, Fresh lemon juice, White crem...\n",
       "A. J.                                           Applejack, Grapefruit Juice\n",
       "Absinthe Cocktail         Absinthe Substitute, Water, Old Mr. Boston Ani...\n",
       "Absinthe Drip Cocktail                                          Anis, Sugar\n",
       "                                                ...                        \n",
       "Yokahama Romance          Sake, Gin, Maraschino liqueur, Unsprayed rose ...\n",
       "Yolanda                    Brandy, Gin, Anisette, Sweet Vermouth, Grenadine\n",
       "Zaza Cocktail                                                 Gin, Dubonnet\n",
       "Zero Mint                                        Mr. Boston Creme de menthe\n",
       "Zombie                    Gold rum, 151-Proof Rum, Light Rum, each Fresh...\n",
       "Name: ingredient, Length: 989, dtype: object"
      ]
     },
     "execution_count": 52,
     "metadata": {},
     "output_type": "execute_result"
    }
   ],
   "source": [
    "df.groupby('name')['ingredient'].agg(', '.join)"
   ]
  }
 ],
 "metadata": {
  "kernelspec": {
   "display_name": "Python 3 (ipykernel)",
   "language": "python",
   "name": "python3"
  },
  "language_info": {
   "codemirror_mode": {
    "name": "ipython",
    "version": 3
   },
   "file_extension": ".py",
   "mimetype": "text/x-python",
   "name": "python",
   "nbconvert_exporter": "python",
   "pygments_lexer": "ipython3",
   "version": "3.9.12"
  }
 },
 "nbformat": 4,
 "nbformat_minor": 5
}
