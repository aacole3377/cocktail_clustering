{
 "cells": [
  {
   "cell_type": "code",
   "execution_count": 234,
   "id": "8abd9e55",
   "metadata": {},
   "outputs": [],
   "source": [
    "import numpy as np\n",
    "import pandas as pd\n",
    "import matplotlib.pyplot as plt\n",
    "import plotly.express as px\n",
    "from collections import Counter\n",
    "from sklearn.decomposition import PCA\n",
    "from sklearn.preprocessing import StandardScaler\n",
    "import re"
   ]
  },
  {
   "cell_type": "code",
   "execution_count": 235,
   "id": "d23ee760",
   "metadata": {},
   "outputs": [
    {
     "data": {
      "text/html": [
       "<div>\n",
       "<style scoped>\n",
       "    .dataframe tbody tr th:only-of-type {\n",
       "        vertical-align: middle;\n",
       "    }\n",
       "\n",
       "    .dataframe tbody tr th {\n",
       "        vertical-align: top;\n",
       "    }\n",
       "\n",
       "    .dataframe thead th {\n",
       "        text-align: right;\n",
       "    }\n",
       "</style>\n",
       "<table border=\"1\" class=\"dataframe\">\n",
       "  <thead>\n",
       "    <tr style=\"text-align: right;\">\n",
       "      <th></th>\n",
       "      <th>name</th>\n",
       "      <th>category</th>\n",
       "      <th>row_id</th>\n",
       "      <th>ingredient_number</th>\n",
       "      <th>ingredient</th>\n",
       "      <th>measure</th>\n",
       "    </tr>\n",
       "  </thead>\n",
       "  <tbody>\n",
       "    <tr>\n",
       "      <th>0</th>\n",
       "      <td>Gauguin</td>\n",
       "      <td>Cocktail Classics</td>\n",
       "      <td>1</td>\n",
       "      <td>1</td>\n",
       "      <td>Light Rum</td>\n",
       "      <td>2 oz</td>\n",
       "    </tr>\n",
       "    <tr>\n",
       "      <th>1</th>\n",
       "      <td>Gauguin</td>\n",
       "      <td>Cocktail Classics</td>\n",
       "      <td>1</td>\n",
       "      <td>2</td>\n",
       "      <td>Passion Fruit Syrup</td>\n",
       "      <td>1 oz</td>\n",
       "    </tr>\n",
       "    <tr>\n",
       "      <th>2</th>\n",
       "      <td>Gauguin</td>\n",
       "      <td>Cocktail Classics</td>\n",
       "      <td>1</td>\n",
       "      <td>3</td>\n",
       "      <td>Lemon Juice</td>\n",
       "      <td>1 oz</td>\n",
       "    </tr>\n",
       "    <tr>\n",
       "      <th>3</th>\n",
       "      <td>Gauguin</td>\n",
       "      <td>Cocktail Classics</td>\n",
       "      <td>1</td>\n",
       "      <td>4</td>\n",
       "      <td>Lime Juice</td>\n",
       "      <td>1 oz</td>\n",
       "    </tr>\n",
       "    <tr>\n",
       "      <th>4</th>\n",
       "      <td>Fort Lauderdale</td>\n",
       "      <td>Cocktail Classics</td>\n",
       "      <td>2</td>\n",
       "      <td>1</td>\n",
       "      <td>Light Rum</td>\n",
       "      <td>1 1/2 oz</td>\n",
       "    </tr>\n",
       "    <tr>\n",
       "      <th>...</th>\n",
       "      <td>...</td>\n",
       "      <td>...</td>\n",
       "      <td>...</td>\n",
       "      <td>...</td>\n",
       "      <td>...</td>\n",
       "      <td>...</td>\n",
       "    </tr>\n",
       "    <tr>\n",
       "      <th>3638</th>\n",
       "      <td>Vow Of Silence</td>\n",
       "      <td>Gin</td>\n",
       "      <td>990</td>\n",
       "      <td>2</td>\n",
       "      <td>Grapefruit Juice</td>\n",
       "      <td>3/4 oz</td>\n",
       "    </tr>\n",
       "    <tr>\n",
       "      <th>3639</th>\n",
       "      <td>Vow Of Silence</td>\n",
       "      <td>Gin</td>\n",
       "      <td>990</td>\n",
       "      <td>3</td>\n",
       "      <td>Fresh Lime Juice</td>\n",
       "      <td>1/2 oz</td>\n",
       "    </tr>\n",
       "    <tr>\n",
       "      <th>3640</th>\n",
       "      <td>Vow Of Silence</td>\n",
       "      <td>Gin</td>\n",
       "      <td>990</td>\n",
       "      <td>4</td>\n",
       "      <td>Yellow Chartreuse</td>\n",
       "      <td>1/2 oz</td>\n",
       "    </tr>\n",
       "    <tr>\n",
       "      <th>3641</th>\n",
       "      <td>Vow Of Silence</td>\n",
       "      <td>Gin</td>\n",
       "      <td>990</td>\n",
       "      <td>5</td>\n",
       "      <td>Amaro</td>\n",
       "      <td>1/4 oz</td>\n",
       "    </tr>\n",
       "    <tr>\n",
       "      <th>3642</th>\n",
       "      <td>Vow Of Silence</td>\n",
       "      <td>Gin</td>\n",
       "      <td>990</td>\n",
       "      <td>6</td>\n",
       "      <td>Simple Syrup</td>\n",
       "      <td>1/4 oz</td>\n",
       "    </tr>\n",
       "  </tbody>\n",
       "</table>\n",
       "<p>3643 rows × 6 columns</p>\n",
       "</div>"
      ],
      "text/plain": [
       "                 name           category  row_id  ingredient_number  \\\n",
       "0             Gauguin  Cocktail Classics       1                  1   \n",
       "1             Gauguin  Cocktail Classics       1                  2   \n",
       "2             Gauguin  Cocktail Classics       1                  3   \n",
       "3             Gauguin  Cocktail Classics       1                  4   \n",
       "4     Fort Lauderdale  Cocktail Classics       2                  1   \n",
       "...               ...                ...     ...                ...   \n",
       "3638   Vow Of Silence                Gin     990                  2   \n",
       "3639   Vow Of Silence                Gin     990                  3   \n",
       "3640   Vow Of Silence                Gin     990                  4   \n",
       "3641   Vow Of Silence                Gin     990                  5   \n",
       "3642   Vow Of Silence                Gin     990                  6   \n",
       "\n",
       "               ingredient   measure  \n",
       "0               Light Rum      2 oz  \n",
       "1     Passion Fruit Syrup      1 oz  \n",
       "2             Lemon Juice      1 oz  \n",
       "3              Lime Juice      1 oz  \n",
       "4               Light Rum  1 1/2 oz  \n",
       "...                   ...       ...  \n",
       "3638     Grapefruit Juice    3/4 oz  \n",
       "3639     Fresh Lime Juice    1/2 oz  \n",
       "3640    Yellow Chartreuse    1/2 oz  \n",
       "3641                Amaro    1/4 oz  \n",
       "3642         Simple Syrup    1/4 oz  \n",
       "\n",
       "[3643 rows x 6 columns]"
      ]
     },
     "execution_count": 235,
     "metadata": {},
     "output_type": "execute_result"
    }
   ],
   "source": [
    "url = \"https://raw.githubusercontent.com/rfordatascience/tidytuesday/master/data/2020/2020-05-26/boston_cocktails.csv\"\n",
    "df = pd.read_csv(url)\n",
    "original_data = df.copy()\n",
    "df"
   ]
  },
  {
   "cell_type": "code",
   "execution_count": 236,
   "id": "7f93f003",
   "metadata": {},
   "outputs": [
    {
     "data": {
      "text/plain": [
       "6"
      ]
     },
     "execution_count": 236,
     "metadata": {},
     "output_type": "execute_result"
    }
   ],
   "source": [
    "df.shape[1]"
   ]
  },
  {
   "cell_type": "code",
   "execution_count": 237,
   "id": "d08052ab",
   "metadata": {},
   "outputs": [
    {
     "data": {
      "text/html": [
       "<div>\n",
       "<style scoped>\n",
       "    .dataframe tbody tr th:only-of-type {\n",
       "        vertical-align: middle;\n",
       "    }\n",
       "\n",
       "    .dataframe tbody tr th {\n",
       "        vertical-align: top;\n",
       "    }\n",
       "\n",
       "    .dataframe thead th {\n",
       "        text-align: right;\n",
       "    }\n",
       "</style>\n",
       "<table border=\"1\" class=\"dataframe\">\n",
       "  <thead>\n",
       "    <tr style=\"text-align: right;\">\n",
       "      <th></th>\n",
       "      <th>row_id</th>\n",
       "      <th>ingredient_number</th>\n",
       "    </tr>\n",
       "    <tr>\n",
       "      <th>name</th>\n",
       "      <th></th>\n",
       "      <th></th>\n",
       "    </tr>\n",
       "  </thead>\n",
       "  <tbody>\n",
       "    <tr>\n",
       "      <th>1626</th>\n",
       "      <td>2165</td>\n",
       "      <td>15</td>\n",
       "    </tr>\n",
       "    <tr>\n",
       "      <th>19th Century</th>\n",
       "      <td>1724</td>\n",
       "      <td>10</td>\n",
       "    </tr>\n",
       "    <tr>\n",
       "      <th>A. J.</th>\n",
       "      <td>1314</td>\n",
       "      <td>3</td>\n",
       "    </tr>\n",
       "    <tr>\n",
       "      <th>Absinthe Cocktail</th>\n",
       "      <td>1744</td>\n",
       "      <td>10</td>\n",
       "    </tr>\n",
       "    <tr>\n",
       "      <th>Absinthe Drip Cocktail</th>\n",
       "      <td>1322</td>\n",
       "      <td>3</td>\n",
       "    </tr>\n",
       "    <tr>\n",
       "      <th>...</th>\n",
       "      <td>...</td>\n",
       "      <td>...</td>\n",
       "    </tr>\n",
       "    <tr>\n",
       "      <th>Yokahama Romance</th>\n",
       "      <td>3876</td>\n",
       "      <td>10</td>\n",
       "    </tr>\n",
       "    <tr>\n",
       "      <th>Yolanda</th>\n",
       "      <td>70</td>\n",
       "      <td>15</td>\n",
       "    </tr>\n",
       "    <tr>\n",
       "      <th>Zaza Cocktail</th>\n",
       "      <td>1190</td>\n",
       "      <td>3</td>\n",
       "    </tr>\n",
       "    <tr>\n",
       "      <th>Zero Mint</th>\n",
       "      <td>828</td>\n",
       "      <td>1</td>\n",
       "    </tr>\n",
       "    <tr>\n",
       "      <th>Zombie</th>\n",
       "      <td>3462</td>\n",
       "      <td>21</td>\n",
       "    </tr>\n",
       "  </tbody>\n",
       "</table>\n",
       "<p>989 rows × 2 columns</p>\n",
       "</div>"
      ],
      "text/plain": [
       "                        row_id  ingredient_number\n",
       "name                                             \n",
       "1626                      2165                 15\n",
       "19th Century              1724                 10\n",
       "A. J.                     1314                  3\n",
       "Absinthe Cocktail         1744                 10\n",
       "Absinthe Drip Cocktail    1322                  3\n",
       "...                        ...                ...\n",
       "Yokahama Romance          3876                 10\n",
       "Yolanda                     70                 15\n",
       "Zaza Cocktail             1190                  3\n",
       "Zero Mint                  828                  1\n",
       "Zombie                    3462                 21\n",
       "\n",
       "[989 rows x 2 columns]"
      ]
     },
     "execution_count": 237,
     "metadata": {},
     "output_type": "execute_result"
    }
   ],
   "source": [
    "namegroup = df.groupby('name')\n",
    "namegroup.sum()\n"
   ]
  },
  {
   "cell_type": "code",
   "execution_count": 238,
   "id": "4e96e7d9",
   "metadata": {},
   "outputs": [
    {
     "name": "stdout",
     "output_type": "stream",
     "text": [
      "3.6835187057633973\n"
     ]
    }
   ],
   "source": [
    "# Group by 'name' and 'category' and count the rows in each group\n",
    "grouped = df.groupby(['name', 'category']).size()\n",
    "\n",
    "# Calculate the average number of ingredients per drink\n",
    "average_ingredients_per_drink = grouped.mean()\n",
    "\n",
    "print(average_ingredients_per_drink)"
   ]
  },
  {
   "cell_type": "code",
   "execution_count": 239,
   "id": "f323912e",
   "metadata": {},
   "outputs": [
    {
     "name": "stdout",
     "output_type": "stream",
     "text": [
      "category\n",
      "Brandy                   3.595745\n",
      "Cocktail Classics        3.340471\n",
      "Cordials and Liqueurs    3.000000\n",
      "Gin                      3.941176\n",
      "Non-alcoholic Drinks     3.000000\n",
      "Rum                      4.000000\n",
      "Rum - Daiquiris          3.936937\n",
      "Shooters                 3.000000\n",
      "Tequila                  4.264368\n",
      "Vodka                    3.949275\n",
      "Whiskies                 4.154545\n",
      "dtype: float64\n"
     ]
    }
   ],
   "source": [
    "# Group by 'category' and count the rows in each group\n",
    "grouped_by_category = df.groupby('category').apply(lambda x: x.groupby('name').size().mean())\n",
    "\n",
    "print(grouped_by_category)"
   ]
  },
  {
   "cell_type": "code",
   "execution_count": 240,
   "id": "9a336f7b",
   "metadata": {},
   "outputs": [],
   "source": [
    "# df['ingredient'].nunique()\n",
    "# for i in df['ingredient'].unique():\n",
    "#     if 'gin' in i:\n",
    "#         print(i)\n",
    "# def ingredient_count(name):\n",
    "#     # Filter ingredients containing the name (case-insensitive)\n",
    "#     liquor_ingredient = [ingredient for ingredient in df['ingredient'] if name.lower() in ingredient.lower()]\n",
    "    \n",
    "#     # Count occurrences of each ingredient\n",
    "#     ingredient_counter = Counter(liquor_ingredient)\n",
    "\n",
    "#     # Create a string to display the count of each ingredient\n",
    "#     ingredient_count_str = '\\n'.join([f\"{ingredient}: {count}\" for ingredient, count in ingredient_counter.items()])\n",
    "\n",
    "#     return ingredient_count_str\n",
    "\n",
    "# def uniqueCount_ingredientCount(name):\n",
    "#     print(f\"Count of unique {name} ingredients: {len([gin for gin in df['ingredient'].unique() if name.lower() in gin.lower()])}\")\n",
    "#     print(ingredient_count(name))\n",
    "\n",
    "# uniqueCount_ingredientCount(\"gin\")\n",
    "\n",
    "# print(\"Count of unique gin ingredients: \", len([gin for gin in df['ingredient'].unique() if \"gin\" in gin.lower()]))\n",
    "# print(ingredient_count(\"gin\"))\n",
    "\n",
    "# print(\"Count of unique gin ingredients: \", len([gin for gin in df['ingredient'].unique() if \"gin\" in gin.lower()]))\n",
    "# print(ingredient_count(\"whiskey\"))\n",
    "\n",
    "# print(\"Count of unique gin ingredients: \", len([gin for gin in df['ingredient'].unique() if \"gin\" in gin.lower()]))\n",
    "# print(ingredient_count(\"vodka\"))\n",
    "\n",
    "# print(\"Count of unique gin ingredients: \", len([gin for gin in df['ingredient'].unique() if \"gin\" in gin.lower()]))\n",
    "# print(ingredient_count(\"rum\"))\n",
    "\n",
    "# print(\"Count of unique gin ingredients: \", len([gin for gin in df['ingredient'].unique() if \"gin\" in gin.lower()]))\n",
    "# print(ingredient_count(\"tequila\"))\n",
    "\n",
    "# print(\"Count of unique gin ingredients: \", len([gin for gin in df['ingredient'].unique() if \"gin\" in gin.lower()]))\n",
    "# print(ingredient_count(\"brandy\"))"
   ]
  },
  {
   "cell_type": "code",
   "execution_count": 241,
   "id": "557c9ce1",
   "metadata": {},
   "outputs": [
    {
     "name": "stdout",
     "output_type": "stream",
     "text": [
      "Count of unique gin ingredients: 13\n",
      "Gin: 176\n",
      "Sloe gin: 15\n",
      "Tanqueray gin: 1\n",
      "Gin & ginger ale: 2\n",
      "Dry gin: 1\n",
      "Mr. Boston Gin: 8\n",
      "Mint-Flavored Gin: 2\n",
      "Old Tom gin: 1\n",
      "Orange Flavored Gin: 1\n",
      "Old Mr. Boston Dry Gin: 30\n",
      "Old Mr. Boston Orange Flavored Gin: 5\n",
      "Old Mr. Boston Sloe Gin: 2\n",
      "each Light Rum, Gin, Vodka, Blanco tequila, Blue curacao: 1\n",
      "----------------------------\n",
      "Count of unique vodka ingredients: 24\n",
      "Vodka: 114\n",
      "lemon-flavored vodka: 3\n",
      "Mango-flavored vodka: 1\n",
      "Aquavit or vodka: 1\n",
      "Citrus-flavored vodka: 16\n",
      "Orange-flavored vodka: 6\n",
      "Mr. Boston Vodka: 2\n",
      "Grapefruit-flavored vodka: 2\n",
      "Cherry Vodka: 2\n",
      "Peach-flavored vodka: 1\n",
      "Vanilla-flavored vodka: 1\n",
      "Black cherry-flavored vodka: 2\n",
      "Acai berry flavored vodka: 1\n",
      "each Citrus-flavored vodka and orange-flavored vodka: 1\n",
      "Lime Vodka: 4\n",
      "100-proof Vodka: 1\n",
      "Bison grass vodka (Zubrowka): 1\n",
      "each Vodka, tequila blanco, triple sec: 1\n",
      "Old Mr. Boston Vodka: 4\n",
      "Raspberry-flavored vodka: 1\n",
      "Pear-flavored vodka: 1\n",
      "Old Mr. Boston Grape Vodka: 1\n",
      "Old Mr. Boston 100 proof Vodka: 1\n",
      "each Light Rum, Gin, Vodka, Blanco tequila, Blue curacao: 1\n",
      "----------------------------\n",
      "Count of unique whiskey ingredients: 19\n",
      "Bourbon whiskey: 38\n",
      "Scotch Whiskey: 2\n",
      "Straight rye whiskey: 22\n",
      "Irish Whiskey: 15\n",
      "Rye or bourbon whiskey: 3\n",
      "Bourbon or Rye Whiskey: 3\n",
      "Tennessee whiskey: 3\n",
      "Blended Scotch Whiskey: 17\n",
      "White whiskey: 1\n",
      "Bourbon or rye whiskey: 1\n",
      "Georgia Moon Corn Whiskey: 1\n",
      "Old Thompson Blended Whiskey: 6\n",
      "Bourbon Whiskey: 2\n",
      "Blended whiskey: 18\n",
      "Rye Whiskey: 3\n",
      "blended whiskey: 1\n",
      "Old Mr. Boston Blended Whiskey: 1\n",
      "Whiskey barrel bitters: 1\n",
      "Old Kentucky Tavern Bourbon Whiskey: 1\n",
      "----------------------------\n",
      "Count of unique rum ingredients: 25\n",
      "Light Rum: 113\n",
      "Dark rum: 27\n",
      "Bacardi Rum: 1\n",
      "Mr. Boston Rum: 2\n",
      "Coconut-flavored rum: 3\n",
      "Jamaica Rum: 6\n",
      "White rum: 1\n",
      "Gold rum: 1\n",
      "151-Proof Rum: 5\n",
      "each Simple Syrup, light rum, dark rum: 1\n",
      "each Cranberry Juice, orange juice, spiced rum: 1\n",
      "17-year-old J. Wray and Nephew Ltd. Rum: 1\n",
      "Creole Shrubb (rum-based orange liqueur): 1\n",
      "Light or dark rum: 3\n",
      "African rum: 1\n",
      "Coconut rum: 2\n",
      "each Fresh Lime Juice, jamaica rum, grenadine: 1\n",
      "Cachaca (Brazilian rum): 1\n",
      "Old Mr. Boston Rum: 10\n",
      "Batavia arrack or light rum: 1\n",
      "Dark rum, preferably Jamaican: 1\n",
      "Spiced rum: 1\n",
      "each Light Rum, Gin, Vodka, Blanco tequila, Blue curacao: 1\n",
      "each Dark rum, light rum: 1\n",
      "Old Mr. Boston Imported Rum: 1\n",
      "----------------------------\n",
      "Count of unique tequila ingredients: 10\n",
      "Tequila: 7\n",
      "Blanco tequila: 69\n",
      "each Vodka, tequila blanco, triple sec: 1\n",
      "Old Mr. Boston Tequila: 2\n",
      "Reposado blanco tequila: 1\n",
      "Gold tequila: 2\n",
      "Jalapeno-Infused Tequila: 1\n",
      "Reposado tequila: 10\n",
      "each Light Rum, Gin, Vodka, Blanco tequila, Blue curacao: 1\n",
      "Anejo tequila: 6\n",
      "----------------------------\n",
      "Count of unique brandy ingredients: 17\n",
      "cherry-flavored brandy: 17\n",
      "Apple Brandy: 20\n",
      "Brandy: 80\n",
      "Apricot Flavored Brandy: 14\n",
      "Blackberry-flavored brandy: 4\n",
      "Coffee-flavored brandy: 10\n",
      "Mr. Boston Five Star Brandy: 2\n",
      "Pear brandy: 1\n",
      "Mr. Boston Apricot Flavored Brandy: 1\n",
      "Apricot-Flavored Brandy: 16\n",
      "Peach-flavored brandy: 2\n",
      "Brandy, preferably Spanish: 1\n",
      "Old Mr. Boston Five Star Brandy: 15\n",
      "Calvados, apple brandy, or applejack: 1\n",
      "Old Mr. Boston Apricot Flavored Brandy: 7\n",
      "Old Mr. Boston Wild Cherry Flavored Brandy: 1\n",
      "Apple Flavored Brandy: 1\n"
     ]
    }
   ],
   "source": [
    "def ingredient_count(name):\n",
    "    # Define a regular expression pattern for word boundary\n",
    "    pattern = re.compile(rf'\\b{name.lower()}\\b')\n",
    "\n",
    "    # Filter ingredients containing the name as a distinct word\n",
    "    liquor_ingredient = [ingredient for ingredient in df['ingredient'] if pattern.search(ingredient.lower())]\n",
    "\n",
    "    # Count occurrences of each ingredient\n",
    "    ingredient_counter = Counter(liquor_ingredient)\n",
    "\n",
    "    # Create a string to display the count of each ingredient\n",
    "    ingredient_count_str = '\\n'.join([f\"{ingredient}: {count}\" for ingredient, count in ingredient_counter.items()])\n",
    "\n",
    "    return ingredient_count_str\n",
    "\n",
    "def uniqueCount_ingredientCount(name):\n",
    "    # Define a regular expression pattern for word boundary\n",
    "    pattern = re.compile(rf'\\b{name.lower()}\\b')\n",
    "    unique_count = len([ingredient for ingredient in df['ingredient'].unique() if pattern.search(ingredient.lower())])\n",
    "\n",
    "    print(f\"Count of unique {name} ingredients: {unique_count}\")\n",
    "    print(ingredient_count(name))\n",
    "\n",
    "uniqueCount_ingredientCount(\"gin\")\n",
    "print(\"----------------------------\")\n",
    "uniqueCount_ingredientCount(\"vodka\")\n",
    "print(\"----------------------------\")\n",
    "uniqueCount_ingredientCount(\"whiskey\")\n",
    "print(\"----------------------------\")\n",
    "uniqueCount_ingredientCount(\"rum\")\n",
    "print(\"----------------------------\")\n",
    "uniqueCount_ingredientCount(\"tequila\")\n",
    "print(\"----------------------------\")\n",
    "uniqueCount_ingredientCount(\"brandy\")\n",
    "\n"
   ]
  },
  {
   "cell_type": "code",
   "execution_count": 242,
   "id": "b7aeb455",
   "metadata": {},
   "outputs": [
    {
     "data": {
      "text/plain": [
       "array(['Gauguin', 'Fort Lauderdale', 'Cuban Cocktail No. 1',\n",
       "       'Cool Carlos', 'Cherry Rum', 'Casa Blanca', 'Caribbean Champagne',\n",
       "       'Bacardi Cocktail', 'Apple Pie No. 1', 'Yolanda', 'Yellow Rattler',\n",
       "       'Why Not?', 'What The Hell', 'Webster Cocktail',\n",
       "       'Union Jack Cocktail', 'Trinity Cocktail',\n",
       "       'Three Stripes Cocktail', 'Tanq-A-Rita', 'Tailspin Cocktail',\n",
       "       'Sweet Patootie Cocktail', 'Sunshine Cocktail',\n",
       "       'Spring Feeling Cocktail', 'Sphinx Cocktail',\n",
       "       'Southern Gin Cocktail', 'Society Cocktail', 'Snyder',\n",
       "       'Smiler Cocktail', 'Smile Cocktail', 'Sand-Martin Cocktail',\n",
       "       'Roselyn Cocktail', 'Resolute Cocktail', 'Racquet Club Cocktail',\n",
       "       'Pollyanna Cocktai', 'Plaza Cocktail', 'Nineteenth Hole',\n",
       "       'Montreal Club Bouncer', 'Monte Carlo Imperial Highball',\n",
       "       'Melon Cocktail', 'Martini (Medium)', 'Martini (Dry) (5-to-1)',\n",
       "       \"Mamie's Sister\", \"Maiden's Prayer\", 'Lone Tree Cocktail',\n",
       "       'London Buck', 'Leap Frog Highball',\n",
       "       \"Kup's Indispensable Cocktail\", 'Knock-Out Cocktail',\n",
       "       'K. G. B. Cocktail', 'Jeyplak Cocktail', 'H. P. W. Cocktail',\n",
       "       'Hotel Plaza Cocktail', 'Hoffman House Cocktail',\n",
       "       'Hawaiin Cocktail', 'Greyhound', 'Green Devil', 'Greenback',\n",
       "       'Grapefruit Cocktail', 'Gin Sling', 'Gin Milk Punch', 'Gin and It',\n",
       "       'Gin Cocktail', 'Gimlet', 'Free Silver', 'Frankenjack Cocktail',\n",
       "       'Fog Horn', 'Flying Dutchman', 'Fifty-Fifty Cocktail',\n",
       "       'Favorite Cocktail', \"Farmer's Cocktail\", 'Emerald Isle Cocktail',\n",
       "       'Du Barry Cocktail', 'Dry Martini (5-to-1)', 'Dixie Cocktail',\n",
       "       'Delmonico No. 2', 'Caruso', 'Bulldog Highball', 'Brown Cocktail',\n",
       "       'Bronx Terrace Cocktail', 'Bronx Cocktail (Dry)',\n",
       "       'Blue Devil Cocktail', 'Blue Canary', 'Blue Bird',\n",
       "       'Bloodhound Cocktail', 'Billy Taylor', 'Bijou Cocktail',\n",
       "       'Bermuda Rose', 'Apricot Anisette Collins',\n",
       "       \"Alexander's Sister Cocktail\", 'Alexander Cocktail No. 1',\n",
       "       'Adam and Eve', 'Tempter Cocktail', 'Special Rough Cocktail',\n",
       "       'Singapore Sling', 'Saratoga Cocktail', 'Polonaise',\n",
       "       'Merry Widow Cocktail No. 2', 'Lugger', 'Jamaica Hop',\n",
       "       'Hennessy Martini', 'Classic Cocktail', 'Cherry Sling',\n",
       "       'Cherry Fizz', 'Carrol Cocktail', 'Button Hook Cocktail',\n",
       "       \"Bull's Eye\", 'Brantini', 'Brandy Squirt', 'Brandy and Soda',\n",
       "       'Brandy Milk Punch', 'Brandy Crusta Cocktail', 'Brandy Alexander',\n",
       "       'Apricot Cocktail', 'Alexander Cocktail No. 2',\n",
       "       'After Dinner Cocktail', 'Red Raider',\n",
       "       'Mint Julep (Southern Style)', 'Limestone', \"Gentleman's Cocktail\",\n",
       "       'Dixie Julep', \"Buddy's Favorite\", 'Bourbon On The Rocks',\n",
       "       'Bourbon Cobbler', 'Bourbon and Water', 'Sake Martini', 'Saronno',\n",
       "       'Saronno Colada (Nutty Colada)', 'Saronno Mist', 'Saronno Rose',\n",
       "       'Martini', 'Mandarine Sour', 'Mandarine Mist', 'K. C. B. Cocktail',\n",
       "       'Irish Whisky', 'Hill Billy Highball', 'Grenadine Rickey',\n",
       "       'God Child', 'Gin and Milk Punch', 'Tea Saronno', 'T.N.T. No. 1',\n",
       "       'Rum Coooler', 'Sidecar', 'Dry Martini', 'Dr. Cook',\n",
       "       'Dillatini Cocktail', 'Cafe di Saronno', 'Orange Smile',\n",
       "       'Boston Side Car', 'White Cargo Cocktail', \"Pike's Peak Cooler\",\n",
       "       'Pacman', 'Lemonade (Golden)', 'Lemonade (Egg)', 'Chocolate Daisy',\n",
       "       'Creme de Gin Cocktail', 'Creamy Screwdriver', 'Creamy Orange',\n",
       "       'Creamsicle', 'Cowboy Cocktail', 'Coronation Cocktail',\n",
       "       'Cornell Cocktail', 'Combo', \"Cole's Raspberry Cream\",\n",
       "       'Cognac Coupling', 'Coffee Sour', 'Coffee Flip', 'Coffee Cocktail',\n",
       "       'Clove Cocktail', 'Clover Leaf Cocktail', 'Clover Club Cocktail',\n",
       "       'Clamato Cocktail', 'Cider Eggnog', 'Chocolate Soldier',\n",
       "       'Chocolate Flip', 'Chocolate Cocktail', 'Chicago Fizz',\n",
       "       'Cherry Wine Cocktail', 'Cherry Flip', 'Cherry Cooler',\n",
       "       \"Chateau Briand's Rum Cow\", 'Champagne Velvet',\n",
       "       'Canadian Pineapple', 'Calm Voyage', 'Caledonia',\n",
       "       'Caf_ di Amaretto', 'Cafe De Paris Cocktail', 'Suntan', 'Sunburn',\n",
       "       'Suissesse Cocktail', 'Strawberry Sunries', 'Soul Kiss Cocktail',\n",
       "       'Sloe Gin Flip', 'Silver Stallion Fizz', 'Silver King Cocktail',\n",
       "       'Silver Fizz', 'Sherry Twist Cocktail', 'Sherry Sangaree',\n",
       "       'Sherry Milk Punch', 'Sherry Flip', 'Sherry-and-Egg Cocktail',\n",
       "       'Sevilla Cocktail', 'September Morn Cocktail', 'Scotch Bird Flyer',\n",
       "       'Savannah', 'Pink Rose Fizz', 'Prairie Oyster', 'Prairie Chicken',\n",
       "       \"Pousse L'Amour\", 'Puerto Apple', 'Prado', 'Port Wine Flip',\n",
       "       'Port Wine Cobbler', 'Plain Vermouth Cocktail',\n",
       "       'Ping-Pong Cocktail', 'Phoebe Snow', 'Peggy Cocktail',\n",
       "       'Peach Blow Fizz', 'Peach Blossom', 'Passion Mimosa',\n",
       "       'Palmer Cocktail', 'Mountain Cocktail', 'Morning Glory Fizz',\n",
       "       'Montreal Gin Sour', 'Montezuma', 'Mint Gin Cocktail',\n",
       "       'Mint Collins', 'Million-Dollar Cocktail', 'Millionaire Cocktail',\n",
       "       'Milk Punch', 'Merry Widow Fizz', 'May Blossom Fizz',\n",
       "       'Mary Garden Cocktail', 'Manila Fizz', 'Absinthe Cocktail',\n",
       "       'Vodka Martini', 'Rum Dubonnet', 'Ruby Fizz', 'Royal Purple Punch',\n",
       "       'Royal Gin Fizz', 'Royal Cocktail', 'Royal Clover Club Cocktail',\n",
       "       'Rococo', 'Rock & Rye Cooler', 'Rock & Rye Cocktail',\n",
       "       'Red Swizzle', 'Rebel Charge', 'Rattlesnake Cocktail',\n",
       "       'Ramos Fizz', 'San Francisco', 'Sand-Martini Cocktail',\n",
       "       'Sake Martini (Sakini)', 'Rye Whiskey Cocktail', \"Widow's Dream\",\n",
       "       'Whiskey Flip', 'White Rose Cocktail', 'White Plush',\n",
       "       'White Elephant', 'Whiskey Toddy (cold)', 'Whiskey Skin',\n",
       "       'Whiskey Milk Punch', 'Daiquiri', 'Wembley Cocktail',\n",
       "       'Weep-No-More Cocktail', 'Wedding Belle Cocktail', 'Waterloo',\n",
       "       'Waterbury Cocktail', 'Washington Cocktail', 'Twin Six Cocktail',\n",
       "       'Tropical Heart', 'Trois Rivieres', 'Tovarich Cocktail',\n",
       "       'T.N.T. Cocktail No. 2', 'T.N.T. Cocktail No. 1', 'Thunder',\n",
       "       'Tequila Fizz', 'Tequila Cocktail', 'Temptation Cocktail',\n",
       "       'Tchoupitolas Street Guzzle', 'Tahitian Tea', 'Limey',\n",
       "       'Love Cocktail', 'Los Angeles Cocktail', 'Long Island Tea',\n",
       "       'Lime Giant', 'Lil Naue', 'Leap Year Cocktail', 'Lasky Cocktail',\n",
       "       'Lady Love Fizz', \"Hyatt's Jamaican Banana\", 'H.P.W. Cocktail',\n",
       "       'Hot Shot Margarita', 'Hot Brandy Flip', 'Hole-in-One Cocktai',\n",
       "       'Hair Raiser', 'Green Opal', 'Green Hornet (Dry)', 'Green Fizz',\n",
       "       'Grape Vodka Froth', 'Grapefruit Nog', 'Golden Slipper',\n",
       "       'Golden Frappe', 'Golden Fizz', 'Gloom Lifter', 'Glogg',\n",
       "       \"General Harrison's Eggnog\", 'Frozen Brandy and Rum',\n",
       "       'Frozen Apple', 'Froth Blower Cocktail', 'Favourite Cocktail',\n",
       "       'Fairy Belle Cocktail', 'Duke Cocktail', 'Dubonnet Highball',\n",
       "       'Dubonnet Fizz', 'Dubonnet Cocktail', 'Doctor Cook', 'Dillatini',\n",
       "       \"Devil's Cocktail\", 'Derby Fizz', 'Jean Lafitte Cocktail',\n",
       "       'Japanese Fizz', 'North Pole Cocktail', 'New Orleans Gin Fizz',\n",
       "       'Napoleon', 'Kiss the Boys Goodbye', 'K.G.B. Cocktail',\n",
       "       'Eye-Opener', \"Elk's Own Cocktail\", 'Eggnog Supreme', 'Egg Sour',\n",
       "       'White Lion Cocktail', 'Outrigger', 'Opera Cocktail',\n",
       "       'Opening Cocktail', 'Queen Bee', 'Zaza Cocktail', 'Vesuvio',\n",
       "       'Virgin', 'Vermouth Cassis', 'Verboten', 'Velvet Hammer No. 2',\n",
       "       'Velvet Hammer No. 1', 'Ulanda Cocktail', 'Boston Sour',\n",
       "       'Bird-of-Paradise Fizz', 'Biffy Cocktail',\n",
       "       'Between-The-Sheets Cocktail', 'Bentley', 'Barton Special',\n",
       "       \"Barnaby's Buffalo Blizzard\", 'Baltimore Bracer',\n",
       "       \"Bachelor's Bait Cocktail\", 'Bushranger', 'Bulldog Highballl',\n",
       "       'Bucks Fizz (Mimosa)', 'Buckjones', 'Bronx SIlver Cocktail',\n",
       "       'Bronx Golden Cocktail', 'Almeria', 'Aunt Jemima', 'Apricot Lady',\n",
       "       'Apricot Anise Collins', 'Apple Rum Rickey', 'Applejack Punch',\n",
       "       'Brandy Flip', 'Boston Bullet', 'Black Velvet', 'Applecar',\n",
       "       'Apple Blow Fizz', 'Antoine Special', 'Ante', 'Allies Cocktail',\n",
       "       'A. J.', 'After Supper Cocktail', 'Acapulco',\n",
       "       'Absinthe Drip Cocktail', 'Ambrosia', 'Scotch Cocktail',\n",
       "       'Seaboabd', 'Prairie Oyster Cocktail', 'Margarita',\n",
       "       'Thunder and Lightning Cocktail', 'Baltimore Bracer Cocktail',\n",
       "       'Thanksgiving Special Cocktail', 'Tequini Cocktail',\n",
       "       'Stinger Cocktail', 'Spritzer Highball', 'Victor Collins',\n",
       "       'Snowball Cocktail', 'Violet Fizz', 'Shamrock Cocktail',\n",
       "       'Scotch Whisky Highball', \"St. Patrick's Day Cocktail\",\n",
       "       'Purple Twister', \"Prince's Smile Cocktail\", 'Praire Chicken',\n",
       "       'Pollyanna Cocktail', 'Pink Squirrel Cocktail',\n",
       "       'Pink Lady Cocktail', 'Phoebe Snow Cocktail',\n",
       "       'Passion Daiquiri Cocktail', 'Parisian Blonde Cocktail',\n",
       "       'Rob Roy Cocktail', 'T.N.T. Cocktail', 'Thunderclap Cocktail',\n",
       "       'Thunder Cocktail', 'White Lady Cocktail', 'Western Rose Cocktail',\n",
       "       \"Widow's Kiss Cocktail\", \"Widow's Dream Cocktail\",\n",
       "       'Vodka Gypsy Cocktail', 'Vodka Grasshopper Cocktail',\n",
       "       'Violet Fizz Juice', 'Queen Elizabeth Cocktail', 'Orchid Cocktail',\n",
       "       'Orange Milk Fizz', 'Orange Gin Rickey', 'Orange Gin Highball',\n",
       "       'Orange Gin Fizz', 'Orange Gin Collins', 'Orange Blossom Cocktail',\n",
       "       'Napoleon Cocktail', 'Moulin Rouge Cocktail', 'Mariposa Cocktail',\n",
       "       'Margarita Cocktail', 'Manhattan Cocktail (dry)', 'Mamie Taylor',\n",
       "       'Zero Mint', 'London Special Cocktail', 'K.C.B. Cocktail',\n",
       "       'Jersey Lightning Cocktail', 'Jamaica Glow Cocktail',\n",
       "       'Jack-in-the-Box Cocktail', 'Irish Whisky Cocktail',\n",
       "       'Hop Toad Cocktail', 'Hole-in-One Cocktail',\n",
       "       'Hair Raiser Cocktail', 'Green Opal Cocktail',\n",
       "       'Green Dragon Cocktail', 'Grasshopper Cocktail',\n",
       "       'Golden Slipper Cocktail', 'Gimlet Cocktail',\n",
       "       'Flying Scotchman Cocktail', 'Flying Grasshopper Cocktail',\n",
       "       'Fancy Brandy Cocktail', 'Fallen Angel Cocktail',\n",
       "       'Traditional Martini (Dry)', 'Diplomat Cocktail',\n",
       "       'Daiquiri Cocktail', 'Cuban Special Cocktail',\n",
       "       'Creole Lady Cocktail', 'Chocolate Soldier Cocktail',\n",
       "       'Cherry Blossom Cocktail', 'Chelsea Sidecar Cocktail',\n",
       "       'X. Y. Z. Cocktail', 'Cablegram Highball', 'Cabaret Cocktail',\n",
       "       'Bucks Fizz', 'Boston Sidecar Cocktail', 'Bolero Cocktail',\n",
       "       'Pineapple Dream Cocktail', 'Blood Bronx Cocktail',\n",
       "       'Black Hawk Cocktail', 'Betsy Ross Cocktail',\n",
       "       'Bermuda Rose Cocktail', 'Barbary Coast Cocktail',\n",
       "       'May Blosson Fizz', 'Apple Pie Cocktail', 'Minnehaha Cocktail'],\n",
       "      dtype=object)"
      ]
     },
     "execution_count": 242,
     "metadata": {},
     "output_type": "execute_result"
    }
   ],
   "source": [
    "filtered = df[df[\"category\"] == 'Cocktail Classics'] \n",
    "filtered['name'].unique()"
   ]
  },
  {
   "cell_type": "code",
   "execution_count": 243,
   "id": "27f8e45d",
   "metadata": {},
   "outputs": [
    {
     "data": {
      "text/html": [
       "<div>\n",
       "<style scoped>\n",
       "    .dataframe tbody tr th:only-of-type {\n",
       "        vertical-align: middle;\n",
       "    }\n",
       "\n",
       "    .dataframe tbody tr th {\n",
       "        vertical-align: top;\n",
       "    }\n",
       "\n",
       "    .dataframe thead th {\n",
       "        text-align: right;\n",
       "    }\n",
       "</style>\n",
       "<table border=\"1\" class=\"dataframe\">\n",
       "  <thead>\n",
       "    <tr style=\"text-align: right;\">\n",
       "      <th></th>\n",
       "      <th>name</th>\n",
       "      <th>category</th>\n",
       "      <th>row_id</th>\n",
       "      <th>ingredient_number</th>\n",
       "      <th>ingredient</th>\n",
       "      <th>measure</th>\n",
       "    </tr>\n",
       "  </thead>\n",
       "  <tbody>\n",
       "    <tr>\n",
       "      <th>3039</th>\n",
       "      <td>Mai-Tai (Trader Vic Version)</td>\n",
       "      <td>Rum - Daiquiris</td>\n",
       "      <td>839</td>\n",
       "      <td>1</td>\n",
       "      <td>Dark rum, preferably Jamaican</td>\n",
       "      <td>2 oz</td>\n",
       "    </tr>\n",
       "    <tr>\n",
       "      <th>3040</th>\n",
       "      <td>Mai-Tai (Trader Vic Version)</td>\n",
       "      <td>Rum - Daiquiris</td>\n",
       "      <td>839</td>\n",
       "      <td>2</td>\n",
       "      <td>Orange curacao</td>\n",
       "      <td>1/2 oz</td>\n",
       "    </tr>\n",
       "    <tr>\n",
       "      <th>3041</th>\n",
       "      <td>Mai-Tai (Trader Vic Version)</td>\n",
       "      <td>Rum - Daiquiris</td>\n",
       "      <td>839</td>\n",
       "      <td>3</td>\n",
       "      <td>Fresh lime juice (reserve 1/2 lime shell for g...</td>\n",
       "      <td>1 oz</td>\n",
       "    </tr>\n",
       "    <tr>\n",
       "      <th>3042</th>\n",
       "      <td>Mai-Tai (Trader Vic Version)</td>\n",
       "      <td>Rum - Daiquiris</td>\n",
       "      <td>839</td>\n",
       "      <td>4</td>\n",
       "      <td>Orgeat Syrup</td>\n",
       "      <td>1/2 oz</td>\n",
       "    </tr>\n",
       "    <tr>\n",
       "      <th>3043</th>\n",
       "      <td>Mai-Tai (Trader Vic Version)</td>\n",
       "      <td>Rum - Daiquiris</td>\n",
       "      <td>839</td>\n",
       "      <td>5</td>\n",
       "      <td>Rock candy syrup or simple syrup</td>\n",
       "      <td>1/4 oz</td>\n",
       "    </tr>\n",
       "  </tbody>\n",
       "</table>\n",
       "</div>"
      ],
      "text/plain": [
       "                              name         category  row_id  \\\n",
       "3039  Mai-Tai (Trader Vic Version)  Rum - Daiquiris     839   \n",
       "3040  Mai-Tai (Trader Vic Version)  Rum - Daiquiris     839   \n",
       "3041  Mai-Tai (Trader Vic Version)  Rum - Daiquiris     839   \n",
       "3042  Mai-Tai (Trader Vic Version)  Rum - Daiquiris     839   \n",
       "3043  Mai-Tai (Trader Vic Version)  Rum - Daiquiris     839   \n",
       "\n",
       "      ingredient_number                                         ingredient  \\\n",
       "3039                  1                      Dark rum, preferably Jamaican   \n",
       "3040                  2                                     Orange curacao   \n",
       "3041                  3  Fresh lime juice (reserve 1/2 lime shell for g...   \n",
       "3042                  4                                       Orgeat Syrup   \n",
       "3043                  5                   Rock candy syrup or simple syrup   \n",
       "\n",
       "     measure  \n",
       "3039    2 oz  \n",
       "3040  1/2 oz  \n",
       "3041    1 oz  \n",
       "3042  1/2 oz  \n",
       "3043  1/4 oz  "
      ]
     },
     "execution_count": 243,
     "metadata": {},
     "output_type": "execute_result"
    }
   ],
   "source": [
    "vodka_sling = df[df['name'] == 'Mai-Tai (Trader Vic Version)']\n",
    "vodka_sling"
   ]
  },
  {
   "cell_type": "code",
   "execution_count": 244,
   "id": "c58498ec",
   "metadata": {},
   "outputs": [
    {
     "data": {
      "text/plain": [
       "array(['1626', '19th Century', 'A. J.', 'Absinthe Cocktail',\n",
       "       'Absinthe Drip Cocktail', 'Absinthe Special Cocktail',\n",
       "       'Academic Review', 'Acapulco', 'Adam and Eve', 'Adderly Cocktail',\n",
       "       'Admiral Perry', 'Affinity Cocktail', 'Affinity Cocktail (whisky)',\n",
       "       'After Dinner Cocktail', 'After Supper Cocktail', 'Akogare',\n",
       "       'Alamo Splash', 'Alexander Cocktail No. 1',\n",
       "       'Alexander Cocktail No. 2', \"Alexander's Sister Cocktail\",\n",
       "       'Alfie Cocktail', 'Algonquin', 'Allegheny', 'Allies Cocktail',\n",
       "       'Almeria', 'Amante Picante', 'Amaretto And Cream', 'Amaretto Rose',\n",
       "       'Amaretto Sour', 'Amaretto Stinger', 'Amber Amour', 'Ambrosia',\n",
       "       'American Trilogy', 'Americana', \"Angel's Share\", 'Ante',\n",
       "       'Antoine Special', 'Apple Blow Fizz', 'Apple Pie',\n",
       "       'Apple Pie Cocktail', 'Apple Pie No. 1', 'Apple Rum Rickey',\n",
       "       'Applecar', 'Applejack Punch', 'Apricot Anise Collins',\n",
       "       'Apricot Anisette Collins', 'Apricot Cocktail', 'Apricot Lady',\n",
       "       'Aquarius', 'Aqueduct', 'Aunt Jemima', 'Autumn Leaves',\n",
       "       \"Aztec's Mark\", 'Bacardi Cocktail', \"Bachelor's Bait Cocktail\",\n",
       "       'Back Porch Swizzle', 'Baltimore Bracer',\n",
       "       'Baltimore Bracer Cocktail', 'Barbary Coast Cocktail',\n",
       "       \"Barnaby's Buffalo Blizzard\", 'Barton Special', 'Basil 8',\n",
       "       'Basin Street', 'Beals Cocktail', 'Beer Buster', 'Bella Fragolia',\n",
       "       'Bensonhurst', 'Bentley', 'Bermuda Rose', 'Bermuda Rose Cocktail',\n",
       "       'Betsy Ross Cocktail', 'Between-The-Sheets Cocktail', 'Bianca',\n",
       "       'Biffy Cocktail', 'Big Red Hooter', 'Bijou Cocktail', 'Bikini',\n",
       "       'Billy Taylor', 'Bird-of-Paradise Fizz', 'Black Cherry Chocolate',\n",
       "       'Black Hawk', 'Black Hawk Cocktail', 'Black Magic',\n",
       "       'Black Russian', 'Black Velvet', 'Blarney Stone Cocktail',\n",
       "       'Blood Bronx Cocktail', 'Blood and Sand', 'Bloodhound Cocktail',\n",
       "       'Bloody Bull', 'Bloody Maria', 'Bloody Mary', 'Bloody Scotsman',\n",
       "       'Blue Bird', 'Blue Canary', 'Blue Devil Cocktail', 'Blue Lagoon',\n",
       "       'Blue Margarita', 'Bobby Burns Cocktail', 'Bolero Cocktail',\n",
       "       'Bolshoi Punch', 'Bordeaux Cocktail', 'Boston Bullet',\n",
       "       'Boston Gold', 'Boston Side Car', 'Boston Sidecar Cocktail',\n",
       "       'Boston Sour', 'Bourbon A La Creme', 'Bourbon And Elder',\n",
       "       'Bourbon Cobbler', 'Bourbon Cooler', 'Bourbon Crusta',\n",
       "       'Bourbon Highball', 'Bourbon On The Rocks', 'Bourbon Renewal',\n",
       "       'Bourbon and Water', 'Brandy Alexander', 'Brandy Crusta Cocktail',\n",
       "       'Brandy Flip', 'Brandy Milk Punch', 'Brandy Squirt',\n",
       "       'Brandy Vermouth Cocktail', 'Brandy and Soda', 'Brantini',\n",
       "       'Brave Bull', 'Bravo', 'Brighton Punch', 'Bronx Cocktail (Dry)',\n",
       "       'Bronx Golden Cocktail', 'Bronx SIlver Cocktail',\n",
       "       'Bronx Terrace Cocktail', 'Brooklyn', 'Brown Cocktail',\n",
       "       'Brunswick Street Cocktail', 'Buckjones', 'Bucks Fizz',\n",
       "       'Bucks Fizz (Mimosa)', \"Buddy's Favorite\", 'Bull And Bear',\n",
       "       'Bull Shot', \"Bull's Eye\", \"Bull's Milk\", \"Bulla's Eye\",\n",
       "       'Bulldog Cocktail', 'Bulldog Highball', 'Bulldog Highballl',\n",
       "       'Bullfrog', \"Bum's Rush\", 'Bushranger', 'Button Hook Cocktail',\n",
       "       'Cabaret Cocktail', 'Cablegram', 'Cablegram Highball',\n",
       "       'Cactus Berry', 'Cadiz', 'Caesar', 'Caf_ di Amaretto',\n",
       "       'Cafe De Paris Cocktail', 'Cafe di Saronno', 'Caledonia',\n",
       "       'California Lemonade', 'Calm Voyage', 'Calvados Cocktail',\n",
       "       \"Cameron's Kick Cocktail\", 'Camino Del Ray', 'Canadian Breeze',\n",
       "       'Canadian Cherry', 'Canadian Cocktail', 'Canadian Pineapple',\n",
       "       'Canal Street Daisy', 'Cape Codder', 'Cappuccino Cocktail',\n",
       "       'Cara Sposa', 'Caribbean Champagne', 'Caribbean Cruise',\n",
       "       'Carre Reprise', 'Carrol Cocktail', 'Carroll Cocktail', 'Caruso',\n",
       "       'Casa Blanca', 'Casco Bay Lemonade', 'Catalina Margarita',\n",
       "       'Champagne Flamingo', 'Champagne Velvet',\n",
       "       'Champs Elysees Cocktail', 'Chancellor Cocktail', 'Chapala',\n",
       "       'Chapel Hill', 'Chaplin', 'Character Development',\n",
       "       'Charles Cocktail', 'Chas', \"Chateau Briand's Rum Cow\",\n",
       "       \"Chef's Pain\", 'Chelsea Sidecar Cocktail', 'Cherry Blossom',\n",
       "       'Cherry Blossom Cocktail', 'Cherry Cooler', 'Cherry Fizz',\n",
       "       'Cherry Flip', 'Cherry Rum', 'Cherry Sling',\n",
       "       'Cherry Wine Cocktail', 'Chi-Town Flip', 'Chicago Cocktail',\n",
       "       'Chicago Fizz', 'Chinchona', 'Chocolate Cocktail',\n",
       "       'Chocolate Daisy', 'Chocolate Flip', 'Chocolate Soldier',\n",
       "       'Chocolate Soldier Cocktail', 'Chupa Cabra', 'Cider Eggnog',\n",
       "       'Citronella Cooler', 'Clamato Cocktail', 'Classic Cocktail',\n",
       "       'Clove Cocktail', 'Clover Club Cocktail', 'Clover Leaf Cocktail',\n",
       "       'Coffee Cocktail', 'Coffee Flip', 'Coffee Grasshopper',\n",
       "       'Coffee Old-Fashioned', 'Coffee Sour', 'Cognac Coupling',\n",
       "       'Cognac Highball', 'Cold Deck Cocktail', \"Cole's Raspberry Cream\",\n",
       "       'Combo', 'Commodore Cocktail', 'Company B', 'Cool Carlos',\n",
       "       'Cornell Cocktail', 'Coronation Cocktail', 'Corpse Reviver No. 1',\n",
       "       'Cosmopolitan', 'Cotton Club Flip', \"Count Camillo's Paloma\",\n",
       "       'Cowboy Cocktail', 'Creamsicle', 'Creamy Orange',\n",
       "       'Creamy Screwdriver', 'Creme De Cafe', 'Creme de Gin Cocktail',\n",
       "       'Creole Lady', 'Creole Lady Cocktail', 'Crocodile Cooler',\n",
       "       'Cuban Cocktail No. 1', 'Cuban Cocktail No. 2',\n",
       "       'Cuban Special Cocktail', 'Cubeltini', \"D'artagnan\", 'Daiquiri',\n",
       "       'Daiquiri Cocktail', 'Daisy Dueller', 'De La Louisiane',\n",
       "       'Deauville Cocktail', 'Delmonico No. 2', 'Depth Bomb', 'Derby',\n",
       "       'Derby Fizz', 'Desert Sunrise', 'Deshler', \"Devil's Cocktail\",\n",
       "       \"Devil's Soul\", 'Diablo', 'Dillatini', 'Dillatini Cocktail',\n",
       "       'Dinah Cocktail', 'Diplomat Cocktail', 'Dirty Daisy',\n",
       "       'Dirty Harry', 'Dixie Cocktail', 'Dixie Julep',\n",
       "       'Dixie Whiskey Cocktail', 'Doctor Cook', 'Dolores',\n",
       "       'Double Standard Sour', 'Dr. Cook', 'Dream Cocktail',\n",
       "       'Dreamy Dorini Smoking Martini', 'Dry Martini',\n",
       "       'Dry Martini (5-to-1)', 'Du Barry Cocktail', 'Dubliner',\n",
       "       'Dubonnet Cocktail', 'Dubonnet Fizz', 'Dubonnet Highball',\n",
       "       'Dufftown Flip', 'Duke Cocktail', 'East India Cocktail No. 1',\n",
       "       'Easter Elchies', 'Eastern Sour', 'Easterner', 'Egg Sour',\n",
       "       'Eggnog Supreme', 'El Molino', 'El Ni_o', 'El Oso (The Bear)',\n",
       "       'El Presidente Cocktail No. 2', 'El Profesor', 'Electric Jam',\n",
       "       \"Elk's Own Cocktail\", 'Emerald Isle Cocktail',\n",
       "       \"Emperor Norton's Mistress\", 'Ethel Duffy Cocktail',\n",
       "       \"Everybody's Irish Cocktail\", 'Eye-Opener',\n",
       "       'Fair-and-Warmer Cocktail', 'Fairy Belle Cocktail',\n",
       "       'Fallen Angel Cocktail', 'Fallen Leaves', 'Fancy Brandy',\n",
       "       'Fancy Brandy Cocktail', 'Fancy Whiskey', 'Fancy-Free Cocktail',\n",
       "       'Fantasio Cocktail', \"Farmer's Cocktail\", 'Fat Like Buddha',\n",
       "       'Favorite Cocktail', 'Favourite Cocktail', 'Fifty-Fifty Cocktail',\n",
       "       \"Fireman's Sour\", 'Flatiron Martini', 'Floridita No. 1',\n",
       "       'Floridita No. 3', 'Flower Power', 'Flying Dutchman',\n",
       "       'Flying Grasshopper Cocktail', 'Flying Scotchman',\n",
       "       'Flying Scotchman Cocktail', 'Fog Cutter', 'Fog Horn',\n",
       "       'Fontainebleau Special', 'Fort Lauderdale', 'Fox River Cocktail',\n",
       "       'Francis The Mule', 'Frankenjack Cocktail', 'Fratelli Cocktail',\n",
       "       'Free Silver', 'French Martini', 'French Quarter', 'Frisco Sour',\n",
       "       'Frisky Witch', 'Frostbite', 'Froth Blower Cocktail',\n",
       "       'Froupe Cocktail', 'Frozen Apple', 'Frozen Brandy and Rum',\n",
       "       'Gables Collins', 'Gaugin', 'Gauguin', \"General Harrison's Eggnog\",\n",
       "       'Gentle Ben', \"Gentleman's Cocktail\", 'Georgia Mint Julep',\n",
       "       'Georgia Mule', 'Georgia Peach', 'Gilchrist', 'Gilroy Cocktail',\n",
       "       'Gimlet', 'Gimlet Cocktail', 'Gin Cocktail', 'Gin Milk Punch',\n",
       "       'Gin Sling', 'Gin and It', 'Gin and Milk Punch',\n",
       "       'Ginger Grapefruit Rickey', 'Glass Tower', 'Glogg', 'Gloom Lifter',\n",
       "       \"Goat's Delight\", 'God Child', 'Godchild', 'Godfather',\n",
       "       'Godmother', 'Golden Dawn', 'Golden Eclipse', 'Golden Fizz',\n",
       "       'Golden Frappe', 'Golden Friendship', 'Golden Slipper',\n",
       "       'Golden Slipper Cocktail', 'Goldrush', 'Gotham', 'Grande Guignol',\n",
       "       'Grandfather', 'Grape Nehi', 'Grape Vodka Froth',\n",
       "       'Grapefruit Cocktail', 'Grapefruit Gimlet Royale',\n",
       "       'Grapefruit Nog', 'Grasshopper Cocktail', 'Green Devil',\n",
       "       'Green Dragon Cocktail', 'Green Fizz', 'Green Hornet (Dry)',\n",
       "       'Green Opal', 'Green Opal Cocktail', 'Greenback', 'Greenpoint',\n",
       "       'Grenadine Rickey', 'Greyhound', 'Grounds For Divorce',\n",
       "       'Guadalajara', 'H. P. W. Cocktail', 'H.P.W. Cocktail',\n",
       "       'Hai Karate', 'Hair Raiser', 'Hair Raiser Cocktail',\n",
       "       'Hairy Sunrise', 'Handball Cooler', 'Harrington',\n",
       "       'Harvard Cocktail', 'Harvard Cooler', 'Harvest Moon',\n",
       "       'Harvest Nectar', 'Harvey Wallbanger', 'Havana Cocktail',\n",
       "       'Hawaiin Cocktail', 'Headless Horseman', 'Heather Blush',\n",
       "       \"Heather's Kiss\", 'Heavenly Dram', 'Hebrides', \"Hemingway's Nog\",\n",
       "       'Hennessy Martini', 'High Cotton', 'High Plains Drifter No. 1',\n",
       "       'Highland Cooler', 'Hill Billy Highball', 'Hill Dog',\n",
       "       'Hoffman House Cocktail', 'Hole-In-One', 'Hole-in-One Cocktai',\n",
       "       'Hole-in-One Cocktail', 'Honeymoon Cocktail', 'Hoot Mon Cocktail',\n",
       "       'Hop Toad', 'Hop Toad Cocktail', \"Horse's Neck (With A Kick)\",\n",
       "       'Hot Brandy Flip', 'Hot Pants', 'Hot Shot Margarita',\n",
       "       \"Hotel D'alsace\", 'Hotel Plaza Cocktail', 'Humpty Dumpty',\n",
       "       'Huntsman Cocktail', 'Hurricane', 'Hurricane Leah',\n",
       "       'Hush and Wonder', \"Hyatt's Jamaican Banana\", 'I.A.P.', 'Ibiza',\n",
       "       'Ice Cream Flip', 'Imperial Fizz', 'Incider Cocktail',\n",
       "       'Irish Rickey', 'Irish Shillelagh', 'Irish Whiskey Cocktail',\n",
       "       'Irish Whiskey Highball', 'Irish Whisky', 'Irish Whisky Cocktail',\n",
       "       'Irresistible', 'Italian Screwdriver', 'Jack Maples',\n",
       "       'Jack Rose Cocktail', 'Jack Sparrow Flip', 'Jack-In-The-Box',\n",
       "       'Jack-in-the-Box Cocktail', 'Jackie-O', 'Jacqueline', 'Jade',\n",
       "       'Jamaica Glow Cocktail', 'Jamaica Granito', 'Jamaica Hop',\n",
       "       'Jamaican Crawler', 'Jamaican Ginger', 'Japanese', 'Japanese Fizz',\n",
       "       'Jean Lafitte Cocktail', 'Jersey Lightning Cocktail',\n",
       "       'Jeyplak Cocktail', 'Jinx Cocktail', 'Jitterbug Sour',\n",
       "       'Jocose Julep', 'John Collins', 'Jungle Juice',\n",
       "       'K. C. B. Cocktail', 'K. G. B. Cocktail', 'K.C.B. Cocktail',\n",
       "       'K.G.B. Cocktail', 'Katana', 'Kiss the Boys Goodbye',\n",
       "       'Knickerbocker Special Cocktail', 'Knock-Out Cocktail', 'Ko Adang',\n",
       "       'Kretchma Cocktail', \"Kup's Indispensable Cocktail\", \"L'italienne\",\n",
       "       'L.A. Sunrise', 'La Bomba', 'La Perla', 'La Ultima Palabra',\n",
       "       'La Vita Dulce', 'Lady Love Fizz', 'Lasky Cocktail', 'Le Paradini',\n",
       "       'Leap Frog Highball', 'Leap Year Cocktail', 'Leaves Of Grass',\n",
       "       'Lemon Crush', 'Lemon Drop', 'Lemonade (Egg)', 'Lemonade (Golden)',\n",
       "       'Level headed Cocktail', 'Lights On The Plaza', 'Lil Naue',\n",
       "       'Lillypad', 'Lime Giant', 'Limestone', 'Limey',\n",
       "       'Limoncello Manzanilla Marmalade Sour', 'Little Devil Cocktail',\n",
       "       'Little Princess Cocktail', 'London Buck',\n",
       "       'London Special Cocktail', 'Lone Tree Cocktail',\n",
       "       'Long Island Iced Tea', 'Long Island Tea', 'Look Out Below',\n",
       "       'Los Angeles Cocktail', 'Lounge Lizard', 'Love Cocktail', 'Lugger',\n",
       "       'Lumination', 'Lychee Lucy', 'Madras',\n",
       "       'Mai-Tai (Trader Vic Version)', \"Maiden's Prayer\", 'Malmaison',\n",
       "       'Mamie Taylor', \"Mamie's Sister\", 'Mandarine Mist',\n",
       "       'Mandarine Sour', 'Mandeville', 'Manhattan Cocktail (dry)',\n",
       "       'Manila Fizz', 'Maracuya Mosquito', 'Margarita',\n",
       "       'Margarita Cocktail', 'Margarita Tequila', 'Mariposa',\n",
       "       'Mariposa Cocktail', 'Martini', 'Martini (Dry) (5-to-1)',\n",
       "       'Martini (Medium)', 'Martinique Rose', 'Mary Garden Cocktail',\n",
       "       'Mary Pickford Cocktail', 'May Blossom Fizz', 'May Blosson Fizz',\n",
       "       'Melon Cocktail', 'Merry Widow Cocktail No. 2', 'Merry Widow Fizz',\n",
       "       'Mexican Firing Squad', 'Mexican Madras', 'Mexican Monk',\n",
       "       'Mexicana', 'Mexicola', 'Midnight Express', 'Milk Punch',\n",
       "       'Million-Dollar Cocktail', 'Millionaire Cocktail',\n",
       "       'Minnehaha Cocktail', 'Mint Collins', 'Mint Gin Cocktail',\n",
       "       'Mint Julep (Southern Style)', 'Miss Jones', 'Mocha Express',\n",
       "       'Mojito', 'Monkey Wrench', 'Monte Carlo Imperial Highball',\n",
       "       'Montezuma', 'Montreal Club Bouncer', 'Montreal Gin Sour',\n",
       "       'Moonquake Shake', 'Morning Glory Fizz', 'Moscow Mule',\n",
       "       'Moulin Rouge Cocktail', 'Mountain Cocktail', 'Mr. 404',\n",
       "       'Napoleon', 'Napoleon Cocktail', 'Nevada Cocktail',\n",
       "       'New Orleans Buck', 'New Orleans Gin Fizz', 'Night Cap',\n",
       "       'Nijinksy Blini', 'Nineteenth Hole', 'Ninotchka Cocktail', 'No. 8',\n",
       "       'North Pole Cocktail', 'Oh, Gosh!', 'Oldest Temptation',\n",
       "       'Opening Cocktail', 'Opera Cocktail', 'Orange Blossom Cocktail',\n",
       "       'Orange Gin Collins', 'Orange Gin Fizz', 'Orange Gin Highball',\n",
       "       'Orange Gin Rickey', 'Orange Milk Fizz', 'Orange Smile',\n",
       "       'Orchid Cocktail', 'Outrigger', 'Pacific Sunshine', 'Pacman',\n",
       "       'Paddington', 'Palmer Cocktail', 'Palmetto Cocktail', 'Paloma',\n",
       "       'Paloma (Natural)', 'Pancho Villa', 'Paris When It Sizzles',\n",
       "       'Parisian Blonde Cocktail', 'Passion Daiquiri Cocktail',\n",
       "       'Passion Mimosa', 'Peach Blossom', 'Peach Blow Fizz',\n",
       "       'Peach Iced Tea', 'Pearl Button', 'Peggy Cocktail', 'Petit Zinc',\n",
       "       'Phoebe Snow', 'Phoebe Snow Cocktail', 'Pickled Martini',\n",
       "       'Pickled Pink', \"Pike's Peak Cooler\", 'Pina Agave',\n",
       "       'Pineapple Cocktail', 'Pineapple Dream Cocktail', 'Pineapple Fizz',\n",
       "       'Ping-Pong Cocktail', 'Pink Creole', 'Pink Lady Cocktail',\n",
       "       'Pink Lemonade', 'Pink Paradise', 'Pink Pussycat',\n",
       "       'Pink Rose Fizz', 'Pink Squirrel Cocktail',\n",
       "       'Plain Vermouth Cocktail', \"Planter's Cocktail\",\n",
       "       \"Planter's Punch No. 1\", \"Planter's Punch No. 2\", 'Plaza Cocktail',\n",
       "       'Poker Cocktail', 'Pollyanna Cocktai', 'Pollyanna Cocktail',\n",
       "       'Polonaise', 'Polynesian Cocktail', 'Port Wine Cobbler',\n",
       "       'Port Wine Flip', \"Pousse L'Amour\", 'Prado', 'Praire Chicken',\n",
       "       'Praire Oyster Cocktail', 'Prairie Chicken', 'Prairie Oyster',\n",
       "       'Prairie Oyster Cocktail', 'Pretty In Pink',\n",
       "       \"Prince's Smile Cocktail\", 'Priority Cocktail',\n",
       "       'Prohibition Punch', 'Puerto Apple', 'Puerto Rican Rum Daisy',\n",
       "       'Purple Mask', 'Purple Pancho', 'Purple Passion',\n",
       "       'Purple Passion Iced Tea', 'Purple Ruby', 'Purple Twister',\n",
       "       \"Quaker's Cocktail\", 'Quarter Deck Cocktail', 'Queen Bee',\n",
       "       'Queen Elizabeth Cocktail', 'Quetzalcoatl',\n",
       "       'Racquet Club Cocktail', 'Ramos Fizz', 'Rattlesnake Cocktail',\n",
       "       'Rebel Charge', 'Red Apple', 'Red Raider', 'Red Swizzle',\n",
       "       'Redhead Martini', 'Resolute Cocktail', 'Restless Native',\n",
       "       'Ringo Starr', 'Rio Fix', 'Rob Roy Cocktail', \"Robin's Nest\",\n",
       "       'Robson Cocktail', 'Rock & Rye Cocktail', 'Rock & Rye Cooler',\n",
       "       'Rococo', 'Roselyn Cocktail', 'Rosemary Clementine Sparkle',\n",
       "       'Rosita', 'Rouxby Red', 'Royal Clover Club Cocktail',\n",
       "       'Royal Cocktail', 'Royal Gin Fizz', 'Royal Purple Punch',\n",
       "       'Ruby Fizz', 'Ruby Red', 'Rum Cobbler', 'Rum Collins',\n",
       "       'Rum Cooler', 'Rum Coooler', 'Rum Daisy', 'Rum Dubonnet',\n",
       "       'Rum Fix', 'Rum Highball', 'Rum Martini', 'Rum Old-Fashioned',\n",
       "       'Rum Relaxer', 'Rum Rickey', 'Rum Screwdriver', 'Rum Sour',\n",
       "       'Rum Swizzle', 'Rum Toddy (Cold)', 'Russian Bear Cocktail',\n",
       "       'Rye Whiskey Cocktail', 'S & V', 'Saint Lucy Bracer',\n",
       "       'Sake Martini', 'Sake Martini (Sakini)', 'Salty Dog',\n",
       "       'Sampan Shipwreck A', 'San Francisco', 'Sand-Martin Cocktail',\n",
       "       'Sand-Martini Cocktail', 'Santana Sling', 'Santiago Cocktail',\n",
       "       'Saratoga Cocktail', 'Sargasso', 'Saronno',\n",
       "       'Saronno Colada (Nutty Colada)', 'Saronno Mist', 'Saronno Rose',\n",
       "       'Satin Sheets', 'Savannah', 'Saxon Cocktail', 'Scotch Bird Flyer',\n",
       "       'Scotch Cocktail', 'Scotch Whisky Highball', 'Screwdriver',\n",
       "       'Sea Breeze', 'Sea Of Cortez', 'Seaboabd',\n",
       "       'September Morn Cocktail', 'Sevilla Cocktail', 'Shady Lady',\n",
       "       'Shalom', 'Shamrock Cocktail', 'Sherry Flip', 'Sherry Milk Punch',\n",
       "       'Sherry Sangaree', 'Sherry Twist Cocktail',\n",
       "       'Sherry-and-Egg Cocktail', 'Siberian Sleighride', 'Sidecar',\n",
       "       'Sidewinder', 'Silk Stockings', 'Silver Fizz',\n",
       "       'Silver King Cocktail', 'Silver Stallion Fizz', 'Singapore Sling',\n",
       "       'Sir Walter Cocktail', 'Sloe Gin Flip', 'Sloe Tequila',\n",
       "       \"Sloppy Joe's Cocktail No. 1\", 'Smile Cocktail', 'Smiler Cocktail',\n",
       "       'Smoked Margarita', 'Snowball Cocktail', 'Snyder',\n",
       "       'Society Cocktail', 'Sonic Blaster', 'Soul Kiss Cocktail',\n",
       "       'South Of The Border', 'Southern Gin Cocktail', 'Soviet',\n",
       "       'Spanish Town Cocktail', 'Special Rough Cocktail',\n",
       "       'Sphinx Cocktail', 'Spice Of Life', 'Spring Feeling Cocktail',\n",
       "       'Spritzer Highball', 'Sputnik', \"St. Patrick's Day Cocktail\",\n",
       "       'Stinger Cocktail', 'Stockholm 75', 'Stone Cocktail', 'Stone Wall',\n",
       "       'Stormy Colada', 'Strawberry Margarita', 'Strawberry Sunries',\n",
       "       'Stupid Cupid', 'Suissesse Cocktail', 'Sunburn',\n",
       "       'Sunday Confession', 'Sunset at Gowanus', 'Sunshine Cocktail',\n",
       "       'Suntan', 'Surf Rider', 'Susie Taylor', 'Sweet Maria',\n",
       "       'Sweet Patootie Cocktail', 'T.N.T. Cocktail',\n",
       "       'T.N.T. Cocktail No. 1', 'T.N.T. Cocktail No. 2', 'T.N.T. No. 1',\n",
       "       'Tabby Cat', 'Tahiti Club', 'Tahitian Tea', 'Tailspin Cocktail',\n",
       "       'Tanq-A-Rita', 'Tchoupitolas Street Guzzle', 'Tea Saronno',\n",
       "       'Temptation Cocktail', 'Tempter Cocktail', 'Tequila Canyon',\n",
       "       'Tequila Cocktail', 'Tequila Collins', 'Tequila Fizz',\n",
       "       'Tequila Manhattan', 'Tequila Matador', 'Tequila Mockingbird',\n",
       "       'Tequila Old-Fashioned', 'Tequila Pink', 'Tequila Smash',\n",
       "       'Tequila Sour', 'Tequila Straight', 'Tequila Sunrise', 'Tequini',\n",
       "       'Tequini Cocktail', 'Tequonic', 'Thanksgiving Special Cocktail',\n",
       "       'The 21st Century', 'The Beautiful Day', 'The Big Crush',\n",
       "       'The Blinker', 'The Blood Orange', 'The Bone', 'The Cinquecento',\n",
       "       'The Crux', 'The Debonair', 'The Delmarva Cocktail',\n",
       "       'The Duboudreau Cocktail', 'The Final Ward', 'The Groupie',\n",
       "       'The Holy Roller', 'The Interesting Cocktail',\n",
       "       'The Jamaican Ten Speed', 'The Joe Lewis', 'The Loop',\n",
       "       'The Nomad South', 'The Oaxaca Old-Fashioned', 'The Old Cuban',\n",
       "       'The Poncho', 'The Refuge', 'The Sfozando', 'The Summer Of Love',\n",
       "       'The Titian', 'The Vacation Cocktail', 'The Wink', 'The Winkle',\n",
       "       'Third-Rail Cocktail', 'Three Miller Cocktail',\n",
       "       'Three Stripes Cocktail', 'Thunder', 'Thunder Cocktail',\n",
       "       'Thunder and Lightning Cocktail', 'Thunderclap Cocktail',\n",
       "       'Thyme Collins', 'Tia Juanathan', 'Tiger Tanaka', 'Tijuana Taxi',\n",
       "       'Toasted Drop', 'Top Banana', 'Toreador', 'Torridora Cocktail',\n",
       "       'Tovarich Cocktail', 'Traditional Martini (Dry)', 'Trident',\n",
       "       'Trinity Cocktail', 'Trois Rivieres', 'Tropica Cocktail',\n",
       "       'Tropical Heart', 'Twin Six Cocktail', 'Twister',\n",
       "       'Ulanda Cocktail', 'Underneath The Mango Tree',\n",
       "       'Union Jack Cocktail', 'Urban Anxiety', 'Vagabundo', 'Van Vleet',\n",
       "       'Velvet Hammer No. 1', 'Velvet Hammer No. 2',\n",
       "       'Velvet Peach Hammer', 'Venial Sin', 'Verboten', 'Vermouth Cassis',\n",
       "       'Vesuvio', 'Victor Collins', 'Victory Collins', 'Violet Fizz',\n",
       "       'Violet Fizz Juice', 'Virgin', 'Virginia Dare', 'Viva Villa',\n",
       "       'Vodka Collins', 'Vodka Cooler', 'Vodka Daisy', 'Vodka Gimlet',\n",
       "       'Vodka Grasshopper', 'Vodka Grasshopper Cocktail',\n",
       "       'Vodka Gypsy Cocktail', 'Vodka Martini', 'Vodka Sling',\n",
       "       'Vodka Sour', 'Vodka Stinger', 'Vodka and Apple Juice',\n",
       "       'Vodka and Tonic', 'Vow Of Silence', 'Waikiki Beachcomber',\n",
       "       'Waiting On Summer', 'Wallick Cocktail', 'Wallis Blue Cocktail',\n",
       "       'Warsaw Cocktail', 'Washington Cocktail', 'Water Lily',\n",
       "       'Waterbury Cocktail', 'Waterloo', 'Webster Cocktail',\n",
       "       'Wedding Belle Cocktail', 'Weep-No-More Cocktail',\n",
       "       'Wembley Cocktail', 'Wembly Cocktail', 'West Side', 'Western Rose',\n",
       "       'Western Rose Cocktail', 'What The Hell', 'Whiskey Flip',\n",
       "       'Whiskey Milk Punch', 'Whiskey Skin', 'Whiskey Toddy (cold)',\n",
       "       'White Cargo Cocktail', 'White Elephant', 'White Lady',\n",
       "       'White Lady Cocktail', 'White Lily Cocktail',\n",
       "       'White Lion Cocktail', 'White Plush', 'White Rose Cocktail',\n",
       "       'White Russian', 'White Spider', 'Why Not?', \"Widow's Dream\",\n",
       "       \"Widow's Dream Cocktail\", \"Widow's Kiss Cocktail\", 'Wiki Waki Woo',\n",
       "       'Will Rogers', \"Wolf's Bite\", 'Woodstock', 'X. Y. Z. Cocktail',\n",
       "       'X.Y.Z. Cocktail', 'Xanthia Cocktail', 'Yale Cocktail',\n",
       "       'Yellow Rattler', 'Yellow Rose Of Texas', 'Yellowjacket',\n",
       "       'Yokahama Romance', 'Yolanda', 'Zaza Cocktail', 'Zero Mint',\n",
       "       'Zombie'], dtype=object)"
      ]
     },
     "execution_count": 244,
     "metadata": {},
     "output_type": "execute_result"
    }
   ],
   "source": [
    "unique_names = df['name'].unique()\n",
    "sorted_names = np.sort(unique_names)\n",
    "sorted_names"
   ]
  },
  {
   "cell_type": "code",
   "execution_count": 245,
   "id": "984580a2",
   "metadata": {},
   "outputs": [
    {
     "data": {
      "text/plain": [
       "category\n",
       "Brandy                    169\n",
       "Cocktail Classics        1560\n",
       "Cordials and Liqueurs      24\n",
       "Gin                        67\n",
       "Non-alcoholic Drinks        3\n",
       "Rum                         4\n",
       "Rum - Daiquiris           437\n",
       "Shooters                    6\n",
       "Tequila                   371\n",
       "Vodka                     545\n",
       "Whiskies                  457\n",
       "Name: ingredient, dtype: int64"
      ]
     },
     "execution_count": 245,
     "metadata": {},
     "output_type": "execute_result"
    }
   ],
   "source": [
    "grouped = df.groupby('category')['ingredient'].count()\n",
    "grouped"
   ]
  },
  {
   "cell_type": "code",
   "execution_count": 246,
   "id": "7073562d",
   "metadata": {},
   "outputs": [
    {
     "data": {
      "text/plain": [
       "array(['2 oz', '1 oz', '1 1/2 oz', '1/2 oz', '1/4 oz', '3 oz', '1 1/4 oz',\n",
       "       '3/4 oz', '2 1/2 oz', '5 oz', '1', '1 dash', '1 2/3 oz', '1/3 oz',\n",
       "       '4 oz', '6', '1 3/4 oz', '1/2 or 1', '2 1/4 oz', '5 or 6', '6 oz',\n",
       "       'For glass', '1/2 tsp', '24 oz', '1c', '1 tsp', '2 bottles', '2',\n",
       "       '2 750-ml', '25', '5', '1 750-ml', '3 slices', '16 oz', '6 Fresh',\n",
       "       '7', '2 -  3 drops', 'splash', '12', '2 dashes', '1  3/4 oz',\n",
       "       '1 splash'], dtype=object)"
      ]
     },
     "execution_count": 246,
     "metadata": {},
     "output_type": "execute_result"
    }
   ],
   "source": [
    "df['measure'].unique()"
   ]
  },
  {
   "cell_type": "code",
   "execution_count": 247,
   "id": "d5d63f2f",
   "metadata": {},
   "outputs": [
    {
     "data": {
      "text/plain": [
       "[2.0,\n",
       " 1.0,\n",
       " 1.0,\n",
       " 1.0,\n",
       " 1.5,\n",
       " 0.5,\n",
       " 0.25,\n",
       " 0.25,\n",
       " 3.0,\n",
       " 1.0,\n",
       " 0.5,\n",
       " 0.5,\n",
       " 2.0,\n",
       " 1.5,\n",
       " 2.0,\n",
       " 2.0,\n",
       " 1.0,\n",
       " 1.0,\n",
       " 2.0,\n",
       " 1.0,\n",
       " 0.5,\n",
       " 1.0,\n",
       " 1.0,\n",
       " 1.25,\n",
       " 1.5,\n",
       " 1.0,\n",
       " 2.0,\n",
       " 1.5,\n",
       " 1.5,\n",
       " 1.5,\n",
       " 0.5,\n",
       " 0.5,\n",
       " 1.5,\n",
       " 0.25,\n",
       " 0.25,\n",
       " 1.5,\n",
       " 1.0,\n",
       " 0.75,\n",
       " 0.5,\n",
       " 1.0,\n",
       " 1.5,\n",
       " 0.5,\n",
       " 0.5,\n",
       " 0.75,\n",
       " 0.75,\n",
       " 1.0,\n",
       " 0.5,\n",
       " 1.0,\n",
       " 0.5,\n",
       " 0.5,\n",
       " 0.5,\n",
       " 1.0,\n",
       " 1.0,\n",
       " 1.0,\n",
       " 1.0,\n",
       " 0.5,\n",
       " 0.5,\n",
       " 1.0,\n",
       " 1.0,\n",
       " 0.5,\n",
       " 1.0,\n",
       " 1.5,\n",
       " 0.75,\n",
       " 1.0,\n",
       " 1.0,\n",
       " 1.0,\n",
       " 1.0,\n",
       " 0.5,\n",
       " 1.5,\n",
       " 0.5,\n",
       " 1.0,\n",
       " 0.75,\n",
       " 1.5,\n",
       " 0.5,\n",
       " 2.5,\n",
       " 0.5,\n",
       " 1.0,\n",
       " 0.5,\n",
       " 5.0,\n",
       " 0.75,\n",
       " 0.75,\n",
       " 0.75,\n",
       " 1.0,\n",
       " 0.5,\n",
       " 1.0,\n",
       " 1.5,\n",
       " 3.0,\n",
       " 1.0,\n",
       " 1.5,\n",
       " 0.75,\n",
       " 0.5,\n",
       " 1.0,\n",
       " 0.75,\n",
       " 0.75,\n",
       " 0.75,\n",
       " 1.0,\n",
       " 1.0,\n",
       " 0.5,\n",
       " 1.0,\n",
       " 0.75,\n",
       " 1.5,\n",
       " 1.0,\n",
       " 1.0,\n",
       " 0.5,\n",
       " 1.0,\n",
       " 1.5,\n",
       " 1.5,\n",
       " 1.5,\n",
       " 2.0,\n",
       " 0.5,\n",
       " 0.75,\n",
       " 0.5,\n",
       " 1.0,\n",
       " 1.0,\n",
       " 2.0,\n",
       " 2.0,\n",
       " 0.5,\n",
       " 1.5,\n",
       " 0.75,\n",
       " 0.25,\n",
       " 1.5,\n",
       " 0.5,\n",
       " 0.5,\n",
       " 0.5,\n",
       " 0.5,\n",
       " 1.0,\n",
       " 1.0,\n",
       " 0.25,\n",
       " 1.0,\n",
       " 1.0,\n",
       " 0.5,\n",
       " 1.5,\n",
       " 0.5,\n",
       " 0.5,\n",
       " 1.0,\n",
       " 1.5,\n",
       " 1.5,\n",
       " 2.0,\n",
       " 1.0,\n",
       " 1.0,\n",
       " 2.0,\n",
       " 0.5,\n",
       " 2.0,\n",
       " 0.75,\n",
       " 1.5,\n",
       " 0.5,\n",
       " 0.25,\n",
       " 0.5,\n",
       " 1.0,\n",
       " 1.5,\n",
       " 0.75,\n",
       " 1.0,\n",
       " 1.5,\n",
       " 1.5,\n",
       " 3.0,\n",
       " 3.0,\n",
       " 2.0,\n",
       " 0.5,\n",
       " 0.5,\n",
       " 0.75,\n",
       " 0.75,\n",
       " 0.75,\n",
       " 2.0,\n",
       " 0.5,\n",
       " 0.5,\n",
       " 0.25,\n",
       " 1.0,\n",
       " 1.0,\n",
       " 1.5,\n",
       " 0.25,\n",
       " 1.0,\n",
       " 1.5,\n",
       " 1.0,\n",
       " 1.0,\n",
       " 1.0,\n",
       " 1.5,\n",
       " 0.5,\n",
       " 2.0,\n",
       " 0.5,\n",
       " 0.25,\n",
       " 1.5,\n",
       " 1.0,\n",
       " 0.5,\n",
       " 1.0,\n",
       " 0.5,\n",
       " 1.0,\n",
       " 2.0,\n",
       " 0.25,\n",
       " 0.25,\n",
       " 1.5,\n",
       " 0.5,\n",
       " 0.5,\n",
       " 1.67,\n",
       " 0.33,\n",
       " 1.0,\n",
       " 2.0,\n",
       " 1.5,\n",
       " 0.5,\n",
       " 1.0,\n",
       " 1.0,\n",
       " 1.5,\n",
       " 0.5,\n",
       " 1.0,\n",
       " 0.75,\n",
       " 1.5,\n",
       " 2.0,\n",
       " 0.5,\n",
       " 0.5,\n",
       " 2.0,\n",
       " 1.5,\n",
       " 4.0,\n",
       " 1.0,\n",
       " 0.5,\n",
       " 0.5,\n",
       " 1.5,\n",
       " 1.0,\n",
       " 0.5,\n",
       " 0.75,\n",
       " 0.75,\n",
       " 1.0,\n",
       " 0.5,\n",
       " 1.5,\n",
       " 0.25,\n",
       " 0.25,\n",
       " 1.5,\n",
       " 0.5,\n",
       " 1.0,\n",
       " 0.5,\n",
       " 1.0,\n",
       " 1.5,\n",
       " 0.75,\n",
       " 0.25,\n",
       " 1.5,\n",
       " 1.5,\n",
       " 1.5,\n",
       " 2.0,\n",
       " 0.25,\n",
       " 3.0,\n",
       " 0.75,\n",
       " 0.75,\n",
       " 0.75,\n",
       " 0.75,\n",
       " 1.5,\n",
       " 2.0,\n",
       " 1.0,\n",
       " 0.5,\n",
       " 2.0,\n",
       " 1.0,\n",
       " 1.5,\n",
       " 5.0,\n",
       " 1.5,\n",
       " 1.5,\n",
       " 1.0,\n",
       " 1.5,\n",
       " 1.0,\n",
       " 1.0,\n",
       " 1.0,\n",
       " 1.0,\n",
       " 1.0,\n",
       " 1.0,\n",
       " 2.0,\n",
       " 0.5,\n",
       " 0.5,\n",
       " 1.5,\n",
       " 1.0,\n",
       " 1.0,\n",
       " 1.0,\n",
       " 1.0,\n",
       " 0.5,\n",
       " 2.0,\n",
       " 1.0,\n",
       " 2.0,\n",
       " 1.0,\n",
       " 1.0,\n",
       " 2.0,\n",
       " 1.0,\n",
       " 2.0,\n",
       " 1.0,\n",
       " 2.0,\n",
       " 2.0,\n",
       " 1.5,\n",
       " 0.75,\n",
       " 0.5,\n",
       " 6.0,\n",
       " 1.0,\n",
       " 1.0,\n",
       " 1.5,\n",
       " 0.25,\n",
       " 0.5,\n",
       " 1.5,\n",
       " 0.5,\n",
       " 1.0,\n",
       " 1.0,\n",
       " 0.75,\n",
       " 0.5,\n",
       " 1.0,\n",
       " 0.5,\n",
       " 1.5,\n",
       " 0.5,\n",
       " 1.5,\n",
       " 2.0,\n",
       " 1.0,\n",
       " 2.0,\n",
       " 1.0,\n",
       " 1.5,\n",
       " 0.75,\n",
       " 1.0,\n",
       " 1.5,\n",
       " 1.5,\n",
       " 0.75,\n",
       " 0.75,\n",
       " 0.75,\n",
       " 0.25,\n",
       " 1.0,\n",
       " 0.5,\n",
       " 0.5,\n",
       " 2.0,\n",
       " 1.5,\n",
       " 0.5,\n",
       " 0.5,\n",
       " 1.0,\n",
       " 2.0,\n",
       " 1.0,\n",
       " 3.0,\n",
       " 1.0,\n",
       " 0.75,\n",
       " 0.5,\n",
       " 1.5,\n",
       " 1.67,\n",
       " 0.33,\n",
       " 0.25,\n",
       " 1.0,\n",
       " 0.5,\n",
       " 1.0,\n",
       " 1.0,\n",
       " 1.0,\n",
       " 1.5,\n",
       " 1.75,\n",
       " 0.75,\n",
       " 0.25,\n",
       " 1.0,\n",
       " 1.0,\n",
       " 1.0,\n",
       " 1.5,\n",
       " 1.0,\n",
       " 0.5,\n",
       " 0.5,\n",
       " 2.0,\n",
       " 0.75,\n",
       " 0.75,\n",
       " 0.75,\n",
       " 1.5,\n",
       " 1.5,\n",
       " 0.5,\n",
       " 1.0,\n",
       " 1.0,\n",
       " 0.25,\n",
       " 1.5,\n",
       " 0.5,\n",
       " 0.5,\n",
       " 0.5,\n",
       " 1.0,\n",
       " 1.5,\n",
       " 1.0,\n",
       " 0.5,\n",
       " 0.75,\n",
       " 3.0,\n",
       " 1.0,\n",
       " 1.5,\n",
       " 0.5,\n",
       " 1.0,\n",
       " 0.5,\n",
       " 0.5,\n",
       " 1.0,\n",
       " 0.5,\n",
       " 2.0,\n",
       " 0.75,\n",
       " 0.75,\n",
       " 0.75,\n",
       " 1.0,\n",
       " 1.25,\n",
       " 1.5,\n",
       " 1.5,\n",
       " 2.0,\n",
       " 2.0,\n",
       " 0.75,\n",
       " 0.75,\n",
       " 1.5,\n",
       " 0.5,\n",
       " 1.5,\n",
       " 1.0,\n",
       " 1.0,\n",
       " 1.0,\n",
       " 1.0,\n",
       " 2.0,\n",
       " 0.5,\n",
       " 1.0,\n",
       " 1.0,\n",
       " 1.0,\n",
       " 1.0,\n",
       " 1.0,\n",
       " 1.0,\n",
       " 1.0,\n",
       " 2.0,\n",
       " 1.0,\n",
       " 0.5,\n",
       " 1.5,\n",
       " 0.5,\n",
       " 0.25,\n",
       " 1.0,\n",
       " 1.0,\n",
       " 1.5,\n",
       " 1.5,\n",
       " 0.5,\n",
       " 0.75,\n",
       " 0.75,\n",
       " 0.75,\n",
       " 0.75,\n",
       " 0.5,\n",
       " 1.0,\n",
       " 2.0,\n",
       " 0.5,\n",
       " 2.0,\n",
       " 2.0,\n",
       " 1.0,\n",
       " 1.0,\n",
       " 0.5,\n",
       " 2.0,\n",
       " 0.5,\n",
       " 0.5,\n",
       " 2.0,\n",
       " 1.5,\n",
       " 1.0,\n",
       " 0.5,\n",
       " 1.0,\n",
       " 1.5,\n",
       " 1.0,\n",
       " 0.5,\n",
       " 1.25,\n",
       " 1.25,\n",
       " 1.0,\n",
       " 1.0,\n",
       " 1.0,\n",
       " 1.0,\n",
       " 1.0,\n",
       " 1.0,\n",
       " 1.5,\n",
       " 0.5,\n",
       " 0.5,\n",
       " 2.0,\n",
       " 0.5,\n",
       " 1.0,\n",
       " 2.0,\n",
       " 0.5,\n",
       " 2.0,\n",
       " 1.0,\n",
       " 0.5,\n",
       " 1.0,\n",
       " 2.0,\n",
       " 0.5,\n",
       " 0.75,\n",
       " 0.25,\n",
       " 0.25,\n",
       " 1.5,\n",
       " 1.5,\n",
       " 1.0,\n",
       " 2.0,\n",
       " 0.5,\n",
       " 0.5,\n",
       " 2.0,\n",
       " 2.0,\n",
       " 0.5,\n",
       " 1.5,\n",
       " 0.75,\n",
       " 0.5,\n",
       " 0.5,\n",
       " 0.5,\n",
       " 0.5,\n",
       " 1.0,\n",
       " 2.0,\n",
       " 1.5,\n",
       " 1.0,\n",
       " 1.0,\n",
       " 2.25,\n",
       " 0.5,\n",
       " 0.25,\n",
       " 1.0,\n",
       " 1.5,\n",
       " 1.0,\n",
       " 1.0,\n",
       " 2.0,\n",
       " 1.0,\n",
       " 2.0,\n",
       " 1.0,\n",
       " 2.0,\n",
       " 0.75,\n",
       " 0.75,\n",
       " 1.0,\n",
       " 1.0,\n",
       " 1.0,\n",
       " 0.5,\n",
       " 2.0,\n",
       " 1.0,\n",
       " 1.0,\n",
       " 3.0,\n",
       " 2.0,\n",
       " 1.0,\n",
       " 1.0,\n",
       " 0.5,\n",
       " 0.5,\n",
       " 0.5,\n",
       " 2.0,\n",
       " 0.25,\n",
       " 0.25,\n",
       " 1.5,\n",
       " 1.0,\n",
       " 1.0,\n",
       " 1.0,\n",
       " 1.0,\n",
       " 1.0,\n",
       " 1.0,\n",
       " 1.0,\n",
       " 1.5,\n",
       " 1.0,\n",
       " 0.5,\n",
       " 0.25,\n",
       " 2.0,\n",
       " 1.0,\n",
       " 0.5,\n",
       " 1.0,\n",
       " 1.0,\n",
       " 2.0,\n",
       " 11.0,\n",
       " 1.0,\n",
       " 2.0,\n",
       " 2.5,\n",
       " 1.5,\n",
       " 1.5,\n",
       " 0.75,\n",
       " 0.25,\n",
       " 0.5,\n",
       " 1.5,\n",
       " 0.5,\n",
       " 0.5,\n",
       " 1.0,\n",
       " 2.5,\n",
       " 1.5,\n",
       " 2.0,\n",
       " 1.0,\n",
       " 0.5,\n",
       " 1.5,\n",
       " 6.0,\n",
       " 2.0,\n",
       " 2.5,\n",
       " 1.0,\n",
       " 2.0,\n",
       " 1.5,\n",
       " 2.0,\n",
       " 4.0,\n",
       " 2.0,\n",
       " 0.5,\n",
       " 0.5,\n",
       " 1.0,\n",
       " 1.0,\n",
       " 2.0,\n",
       " 2.0,\n",
       " 0.5,\n",
       " 1.75,\n",
       " 0.75,\n",
       " 0.25,\n",
       " 0.5,\n",
       " 1.0,\n",
       " 1.0,\n",
       " 1.0,\n",
       " 1.0,\n",
       " 1.0,\n",
       " 2.0,\n",
       " 0.75,\n",
       " 1.0,\n",
       " 1.0,\n",
       " 3.0,\n",
       " 1.5,\n",
       " 0.75,\n",
       " 1.0,\n",
       " 1.0,\n",
       " 1.0,\n",
       " 1.0,\n",
       " 1.0,\n",
       " 1.0,\n",
       " 3.0,\n",
       " 3.0,\n",
       " 3.0,\n",
       " 1.5,\n",
       " 1.5,\n",
       " 0.5,\n",
       " 1.0,\n",
       " 1.5,\n",
       " 0.75,\n",
       " 0.75,\n",
       " 0.5,\n",
       " 2.0,\n",
       " 2.0,\n",
       " 0.75,\n",
       " 0.5,\n",
       " 0.5,\n",
       " 1.0,\n",
       " 2.0,\n",
       " 0.5,\n",
       " 0.5,\n",
       " 0.25,\n",
       " 2.0,\n",
       " 0.5,\n",
       " 0.5,\n",
       " 0.25,\n",
       " 2.0,\n",
       " 2.0,\n",
       " 0.5,\n",
       " 4.0,\n",
       " 1.0,\n",
       " 1.0,\n",
       " 1.0,\n",
       " 0.25,\n",
       " 0.75,\n",
       " 0.75,\n",
       " 0.75,\n",
       " 0.75,\n",
       " 1.5,\n",
       " 0.75,\n",
       " 2.0,\n",
       " 1.0,\n",
       " 0.25,\n",
       " 0.25,\n",
       " 1.0,\n",
       " 2.0,\n",
       " 1.0,\n",
       " 1.5,\n",
       " 0.5,\n",
       " 1.0,\n",
       " 0.5,\n",
       " 0.75,\n",
       " 0.5,\n",
       " 2.0,\n",
       " 2.0,\n",
       " 0.5,\n",
       " 1.0,\n",
       " 1.0,\n",
       " 0.75,\n",
       " 0.75,\n",
       " 0.75,\n",
       " 0.5,\n",
       " 2.0,\n",
       " 0.5,\n",
       " 2.0,\n",
       " 1.0,\n",
       " 1.0,\n",
       " 1.0,\n",
       " 1.0,\n",
       " 0.5,\n",
       " 1.0,\n",
       " 2.0,\n",
       " 1.0,\n",
       " 1.0,\n",
       " 2.0,\n",
       " 3.0,\n",
       " 1.5,\n",
       " 0.5,\n",
       " 0.25,\n",
       " 2.0,\n",
       " 1.0,\n",
       " 0.5,\n",
       " 0.5,\n",
       " 1.5,\n",
       " 0.75,\n",
       " 0.25,\n",
       " 0.75,\n",
       " 1.0,\n",
       " 2.0,\n",
       " 1.5,\n",
       " 1.0,\n",
       " 0.25,\n",
       " 0.25,\n",
       " 0.5,\n",
       " 1.5,\n",
       " 0.25,\n",
       " 0.25,\n",
       " 2.0,\n",
       " 0.5,\n",
       " 0.5,\n",
       " 1.0,\n",
       " 2.0,\n",
       " 0.5,\n",
       " 0.5,\n",
       " 0.5,\n",
       " 1.0,\n",
       " 2.0,\n",
       " 0.5,\n",
       " 2.0,\n",
       " 0.75,\n",
       " 0.25,\n",
       " 0.25,\n",
       " 0.5,\n",
       " 0.5,\n",
       " 0.25,\n",
       " 1.0,\n",
       " 2.0,\n",
       " 2.0,\n",
       " 0.5,\n",
       " 0.5,\n",
       " 2.0,\n",
       " 0.75,\n",
       " 0.75,\n",
       " 1.0,\n",
       " 0.5,\n",
       " 0.5,\n",
       " 0.25,\n",
       " 2.0,\n",
       " 0.5,\n",
       " 0.5,\n",
       " 0.25,\n",
       " 1.0,\n",
       " 2.0,\n",
       " 1.0,\n",
       " 0.5,\n",
       " 1.0,\n",
       " 0.5,\n",
       " 0.5,\n",
       " 3.0,\n",
       " 1.0,\n",
       " 2.0,\n",
       " 0.5,\n",
       " 0.75,\n",
       " 0.5,\n",
       " 1.5,\n",
       " 2.0,\n",
       " 1.0,\n",
       " 1.0,\n",
       " 1.0,\n",
       " 3.0,\n",
       " 2.0,\n",
       " 2.0,\n",
       " 1.0,\n",
       " 2.0,\n",
       " 1.0,\n",
       " 1.0,\n",
       " 1.0,\n",
       " 1.0,\n",
       " 0.5,\n",
       " 0.5,\n",
       " 1.0,\n",
       " 2.0,\n",
       " 0.5,\n",
       " 0.25,\n",
       " 1.5,\n",
       " 0.75,\n",
       " 0.5,\n",
       " 1.0,\n",
       " 1.0,\n",
       " 1.0,\n",
       " 2.0,\n",
       " 1.0,\n",
       " 2.0,\n",
       " 0.5,\n",
       " 2.0,\n",
       " 0.5,\n",
       " 0.25,\n",
       " 1.5,\n",
       " 0.75,\n",
       " 0.5,\n",
       " 6.0,\n",
       " 1.5,\n",
       " 1.0,\n",
       " 2.0,\n",
       " 2.0,\n",
       " 1.0,\n",
       " 0.25,\n",
       " 1.5,\n",
       " 0.5,\n",
       " 0.5,\n",
       " 0.25,\n",
       " 0.25,\n",
       " 1.5,\n",
       " 0.5,\n",
       " 0.25,\n",
       " 2.0,\n",
       " 1.5,\n",
       " 1.5,\n",
       " 2.0,\n",
       " 0.5,\n",
       " 1.0,\n",
       " 1.0,\n",
       " 2.0,\n",
       " 0.25,\n",
       " 1.0,\n",
       " 0.5,\n",
       " 0.75,\n",
       " 0.75,\n",
       " 0.75,\n",
       " 3.0,\n",
       " 2.0,\n",
       " 0.5,\n",
       " 0.5,\n",
       " 0.5,\n",
       " 1.25,\n",
       " 1.25,\n",
       " 3.0,\n",
       " 3.0,\n",
       " 1.0,\n",
       " 3.0,\n",
       " 3.0,\n",
       " 0.75,\n",
       " 0.75,\n",
       " 0.75,\n",
       " 3.0,\n",
       " 3.0,\n",
       " 2.5,\n",
       " 1.0,\n",
       " 1.5,\n",
       " 0.5,\n",
       " 0.5,\n",
       " 2.0,\n",
       " 0.75,\n",
       " 0.75,\n",
       " 0.5,\n",
       " 0.5,\n",
       " 0.5,\n",
       " 0.5,\n",
       " 1.0,\n",
       " 1.0,\n",
       " 1.0,\n",
       " 1.5,\n",
       " 1.5,\n",
       " 1.0,\n",
       " 0.5,\n",
       " 2.0,\n",
       " 1.0,\n",
       " 1.25,\n",
       " 0.75,\n",
       " 0.5,\n",
       " 3.0,\n",
       " 2.0,\n",
       " 0.5,\n",
       " 0.75,\n",
       " 1.0,\n",
       " 2.0,\n",
       " 1.0,\n",
       " 0.5,\n",
       " 0.5,\n",
       " 1.0,\n",
       " 1.0,\n",
       " 1.0,\n",
       " 1.0,\n",
       " 0.5,\n",
       " 1.5,\n",
       " 1.0,\n",
       " 0.5,\n",
       " 1.5,\n",
       " 1.0,\n",
       " 0.5,\n",
       " 2.0,\n",
       " 0.75,\n",
       " 0.5,\n",
       " 2.0,\n",
       " 0.75,\n",
       " 0.5,\n",
       " 1.0,\n",
       " 1.5,\n",
       " 4.0,\n",
       " 1.0,\n",
       " 1.5,\n",
       " 5.0,\n",
       " 2.0,\n",
       " 0.75,\n",
       " 2.0,\n",
       " 1.0,\n",
       " 2.0,\n",
       " 1.67,\n",
       " 0.33,\n",
       " 0.5,\n",
       " 1.5,\n",
       " 5.0,\n",
       " 0.75,\n",
       " 1.0,\n",
       " 1.0,\n",
       " 1.0,\n",
       " 1.5,\n",
       " 0.75,\n",
       " 2.0,\n",
       " 0.75,\n",
       " 0.75,\n",
       " 0.75,\n",
       " 0.25,\n",
       " 1.0,\n",
       " 2.0,\n",
       " 0.75,\n",
       " 0.5,\n",
       " 0.5,\n",
       " 1.5,\n",
       " 0.5,\n",
       " 0.5,\n",
       " 0.5,\n",
       " 0.5,\n",
       " 1.5,\n",
       " 0.25,\n",
       " 0.25,\n",
       " 0.25,\n",
       " 0.25,\n",
       " 1.0,\n",
       " 1.5,\n",
       " 0.25,\n",
       " 1.0,\n",
       " 1.0,\n",
       " 1.0,\n",
       " 0.5,\n",
       " 0.5,\n",
       " 2.0,\n",
       " 0.5,\n",
       " 0.5,\n",
       " 2.0,\n",
       " 2.0,\n",
       " 1.5,\n",
       " 1.5,\n",
       " 1.0,\n",
       " 0.75,\n",
       " 0.75,\n",
       " 0.75,\n",
       " 1.0,\n",
       " 2.0,\n",
       " 0.5,\n",
       " 1.5,\n",
       " 0.25,\n",
       " 0.75,\n",
       " 0.5,\n",
       " 0.5,\n",
       " 0.25,\n",
       " 1.5,\n",
       " 0.75,\n",
       " 0.75,\n",
       " 1.0,\n",
       " 1.0,\n",
       " 2.0,\n",
       " 0.5,\n",
       " 0.5,\n",
       " 1.0,\n",
       " 1.0,\n",
       " 0.5,\n",
       " 1.5,\n",
       " 0.5,\n",
       " 0.5,\n",
       " 1.0,\n",
       " 1.0,\n",
       " 1.0,\n",
       " 1.0,\n",
       " 1.0,\n",
       " 0.5,\n",
       " 1.0,\n",
       " 1.0,\n",
       " 0.75,\n",
       " 0.75,\n",
       " 0.5,\n",
       " 0.5,\n",
       " 1.0,\n",
       " 4.0,\n",
       " 0.75,\n",
       " 0.75,\n",
       " 1.5,\n",
       " 1.0,\n",
       " 1.5,\n",
       " 1.0,\n",
       " 0.5,\n",
       " 1.0,\n",
       " 1.0,\n",
       " 1.0,\n",
       " 0.75,\n",
       " 1.0,\n",
       " 1.0,\n",
       " 1.5,\n",
       " 0.5,\n",
       " 0.5,\n",
       " 1.0,\n",
       " 1.5,\n",
       " 1.5,\n",
       " 0.5,\n",
       " 0.25,\n",
       " 0.25,\n",
       " 1.0,\n",
       " 1.5,\n",
       " 0.5,\n",
       " 0.5,\n",
       " 0.5,\n",
       " 1.0,\n",
       " 1.0,\n",
       " 1.0,\n",
       " 0.5,\n",
       " 0.5,\n",
       " 0.5,\n",
       " 0.5,\n",
       " 0.5,\n",
       " 0.75,\n",
       " 1.5,\n",
       " 0.75,\n",
       " ...]"
      ]
     },
     "execution_count": 247,
     "metadata": {},
     "output_type": "execute_result"
    }
   ],
   "source": [
    "def convert_to_ounces(measure):\n",
    "    # Handle non-numeric cases\n",
    "    if measure in ['splash', 'dash', 'For glass']:\n",
    "        return 0.5  # Assigning an arbitrary small value\n",
    "    if 'bottle' in measure:\n",
    "        return 25.36  # Assuming one bottle is approximately 750ml or 25.36 oz\n",
    "\n",
    "    # Extract numeric values\n",
    "    numbers = re.findall(r'\\d+\\/\\d+|\\d+', measure)\n",
    "    numbers = [eval(num) if '/' in num else float(num) for num in numbers]\n",
    "\n",
    "    # Handle cases like '1 1/2 oz' -> [1, 1/2]\n",
    "    total_oz = sum(numbers)\n",
    "\n",
    "    # Round to 2 decimal places\n",
    "    total_oz = round(total_oz, 2)\n",
    "    \n",
    "    return total_oz\n",
    "\n",
    "# Example usage\n",
    "measures = df['measure']\n",
    "\n",
    "numerical_measures = [convert_to_ounces(m) for m in measures]\n",
    "numerical_measures\n"
   ]
  },
  {
   "cell_type": "code",
   "execution_count": 248,
   "id": "4c7e6049",
   "metadata": {},
   "outputs": [
    {
     "data": {
      "text/html": [
       "<div>\n",
       "<style scoped>\n",
       "    .dataframe tbody tr th:only-of-type {\n",
       "        vertical-align: middle;\n",
       "    }\n",
       "\n",
       "    .dataframe tbody tr th {\n",
       "        vertical-align: top;\n",
       "    }\n",
       "\n",
       "    .dataframe thead th {\n",
       "        text-align: right;\n",
       "    }\n",
       "</style>\n",
       "<table border=\"1\" class=\"dataframe\">\n",
       "  <thead>\n",
       "    <tr style=\"text-align: right;\">\n",
       "      <th></th>\n",
       "      <th>100-proof Vodka</th>\n",
       "      <th>151-Proof Rum</th>\n",
       "      <th>17-year-old J. Wray and Nephew Ltd. Rum</th>\n",
       "      <th>7-Up</th>\n",
       "      <th>Absinthe</th>\n",
       "      <th>Absinthe Substitute</th>\n",
       "      <th>Absinthe or pastis</th>\n",
       "      <th>Acai berry flavored vodka</th>\n",
       "      <th>African rum</th>\n",
       "      <th>Agave nectar</th>\n",
       "      <th>...</th>\n",
       "      <th>orgeat or almond syrup</th>\n",
       "      <th>pineapple</th>\n",
       "      <th>pomegranate molasses (available at Middle Eastern grocers)</th>\n",
       "      <th>port</th>\n",
       "      <th>powdered sugar</th>\n",
       "      <th>red wine</th>\n",
       "      <th>springs mint</th>\n",
       "      <th>sweet vermouth</th>\n",
       "      <th>thin Peeled fresh ginger</th>\n",
       "      <th>tiki bitters, such as Bittermen's Elemakule</th>\n",
       "    </tr>\n",
       "  </thead>\n",
       "  <tbody>\n",
       "    <tr>\n",
       "      <th>0</th>\n",
       "      <td>0.0</td>\n",
       "      <td>0.0</td>\n",
       "      <td>0.0</td>\n",
       "      <td>0.0</td>\n",
       "      <td>0.0</td>\n",
       "      <td>0.0</td>\n",
       "      <td>0.0</td>\n",
       "      <td>0.0</td>\n",
       "      <td>0.0</td>\n",
       "      <td>0.0</td>\n",
       "      <td>...</td>\n",
       "      <td>0.0</td>\n",
       "      <td>0.0</td>\n",
       "      <td>0.0</td>\n",
       "      <td>0.0</td>\n",
       "      <td>0.0</td>\n",
       "      <td>0.0</td>\n",
       "      <td>0.0</td>\n",
       "      <td>0.0</td>\n",
       "      <td>0.0</td>\n",
       "      <td>0.0</td>\n",
       "    </tr>\n",
       "    <tr>\n",
       "      <th>1</th>\n",
       "      <td>0.0</td>\n",
       "      <td>0.0</td>\n",
       "      <td>0.0</td>\n",
       "      <td>0.0</td>\n",
       "      <td>0.0</td>\n",
       "      <td>0.0</td>\n",
       "      <td>0.0</td>\n",
       "      <td>0.0</td>\n",
       "      <td>0.0</td>\n",
       "      <td>0.0</td>\n",
       "      <td>...</td>\n",
       "      <td>0.0</td>\n",
       "      <td>0.0</td>\n",
       "      <td>0.0</td>\n",
       "      <td>0.0</td>\n",
       "      <td>0.0</td>\n",
       "      <td>0.0</td>\n",
       "      <td>0.0</td>\n",
       "      <td>0.0</td>\n",
       "      <td>0.0</td>\n",
       "      <td>0.0</td>\n",
       "    </tr>\n",
       "    <tr>\n",
       "      <th>2</th>\n",
       "      <td>0.0</td>\n",
       "      <td>0.0</td>\n",
       "      <td>0.0</td>\n",
       "      <td>0.0</td>\n",
       "      <td>0.0</td>\n",
       "      <td>0.0</td>\n",
       "      <td>0.0</td>\n",
       "      <td>0.0</td>\n",
       "      <td>0.0</td>\n",
       "      <td>0.0</td>\n",
       "      <td>...</td>\n",
       "      <td>0.0</td>\n",
       "      <td>0.0</td>\n",
       "      <td>0.0</td>\n",
       "      <td>0.0</td>\n",
       "      <td>0.0</td>\n",
       "      <td>0.0</td>\n",
       "      <td>0.0</td>\n",
       "      <td>0.0</td>\n",
       "      <td>0.0</td>\n",
       "      <td>0.0</td>\n",
       "    </tr>\n",
       "    <tr>\n",
       "      <th>3</th>\n",
       "      <td>0.0</td>\n",
       "      <td>0.0</td>\n",
       "      <td>0.0</td>\n",
       "      <td>0.0</td>\n",
       "      <td>0.0</td>\n",
       "      <td>0.0</td>\n",
       "      <td>0.0</td>\n",
       "      <td>0.0</td>\n",
       "      <td>0.0</td>\n",
       "      <td>0.0</td>\n",
       "      <td>...</td>\n",
       "      <td>0.0</td>\n",
       "      <td>0.0</td>\n",
       "      <td>0.0</td>\n",
       "      <td>0.0</td>\n",
       "      <td>0.0</td>\n",
       "      <td>0.0</td>\n",
       "      <td>0.0</td>\n",
       "      <td>0.0</td>\n",
       "      <td>0.0</td>\n",
       "      <td>0.0</td>\n",
       "    </tr>\n",
       "    <tr>\n",
       "      <th>4</th>\n",
       "      <td>0.0</td>\n",
       "      <td>0.0</td>\n",
       "      <td>0.0</td>\n",
       "      <td>0.0</td>\n",
       "      <td>0.0</td>\n",
       "      <td>0.0</td>\n",
       "      <td>0.0</td>\n",
       "      <td>0.0</td>\n",
       "      <td>0.0</td>\n",
       "      <td>0.0</td>\n",
       "      <td>...</td>\n",
       "      <td>0.0</td>\n",
       "      <td>0.0</td>\n",
       "      <td>0.0</td>\n",
       "      <td>0.0</td>\n",
       "      <td>0.0</td>\n",
       "      <td>0.0</td>\n",
       "      <td>0.0</td>\n",
       "      <td>0.0</td>\n",
       "      <td>0.0</td>\n",
       "      <td>0.0</td>\n",
       "    </tr>\n",
       "    <tr>\n",
       "      <th>...</th>\n",
       "      <td>...</td>\n",
       "      <td>...</td>\n",
       "      <td>...</td>\n",
       "      <td>...</td>\n",
       "      <td>...</td>\n",
       "      <td>...</td>\n",
       "      <td>...</td>\n",
       "      <td>...</td>\n",
       "      <td>...</td>\n",
       "      <td>...</td>\n",
       "      <td>...</td>\n",
       "      <td>...</td>\n",
       "      <td>...</td>\n",
       "      <td>...</td>\n",
       "      <td>...</td>\n",
       "      <td>...</td>\n",
       "      <td>...</td>\n",
       "      <td>...</td>\n",
       "      <td>...</td>\n",
       "      <td>...</td>\n",
       "      <td>...</td>\n",
       "    </tr>\n",
       "    <tr>\n",
       "      <th>3638</th>\n",
       "      <td>0.0</td>\n",
       "      <td>0.0</td>\n",
       "      <td>0.0</td>\n",
       "      <td>0.0</td>\n",
       "      <td>0.0</td>\n",
       "      <td>0.0</td>\n",
       "      <td>0.0</td>\n",
       "      <td>0.0</td>\n",
       "      <td>0.0</td>\n",
       "      <td>0.0</td>\n",
       "      <td>...</td>\n",
       "      <td>0.0</td>\n",
       "      <td>0.0</td>\n",
       "      <td>0.0</td>\n",
       "      <td>0.0</td>\n",
       "      <td>0.0</td>\n",
       "      <td>0.0</td>\n",
       "      <td>0.0</td>\n",
       "      <td>0.0</td>\n",
       "      <td>0.0</td>\n",
       "      <td>0.0</td>\n",
       "    </tr>\n",
       "    <tr>\n",
       "      <th>3639</th>\n",
       "      <td>0.0</td>\n",
       "      <td>0.0</td>\n",
       "      <td>0.0</td>\n",
       "      <td>0.0</td>\n",
       "      <td>0.0</td>\n",
       "      <td>0.0</td>\n",
       "      <td>0.0</td>\n",
       "      <td>0.0</td>\n",
       "      <td>0.0</td>\n",
       "      <td>0.0</td>\n",
       "      <td>...</td>\n",
       "      <td>0.0</td>\n",
       "      <td>0.0</td>\n",
       "      <td>0.0</td>\n",
       "      <td>0.0</td>\n",
       "      <td>0.0</td>\n",
       "      <td>0.0</td>\n",
       "      <td>0.0</td>\n",
       "      <td>0.0</td>\n",
       "      <td>0.0</td>\n",
       "      <td>0.0</td>\n",
       "    </tr>\n",
       "    <tr>\n",
       "      <th>3640</th>\n",
       "      <td>0.0</td>\n",
       "      <td>0.0</td>\n",
       "      <td>0.0</td>\n",
       "      <td>0.0</td>\n",
       "      <td>0.0</td>\n",
       "      <td>0.0</td>\n",
       "      <td>0.0</td>\n",
       "      <td>0.0</td>\n",
       "      <td>0.0</td>\n",
       "      <td>0.0</td>\n",
       "      <td>...</td>\n",
       "      <td>0.0</td>\n",
       "      <td>0.0</td>\n",
       "      <td>0.0</td>\n",
       "      <td>0.0</td>\n",
       "      <td>0.0</td>\n",
       "      <td>0.0</td>\n",
       "      <td>0.0</td>\n",
       "      <td>0.0</td>\n",
       "      <td>0.0</td>\n",
       "      <td>0.0</td>\n",
       "    </tr>\n",
       "    <tr>\n",
       "      <th>3641</th>\n",
       "      <td>0.0</td>\n",
       "      <td>0.0</td>\n",
       "      <td>0.0</td>\n",
       "      <td>0.0</td>\n",
       "      <td>0.0</td>\n",
       "      <td>0.0</td>\n",
       "      <td>0.0</td>\n",
       "      <td>0.0</td>\n",
       "      <td>0.0</td>\n",
       "      <td>0.0</td>\n",
       "      <td>...</td>\n",
       "      <td>0.0</td>\n",
       "      <td>0.0</td>\n",
       "      <td>0.0</td>\n",
       "      <td>0.0</td>\n",
       "      <td>0.0</td>\n",
       "      <td>0.0</td>\n",
       "      <td>0.0</td>\n",
       "      <td>0.0</td>\n",
       "      <td>0.0</td>\n",
       "      <td>0.0</td>\n",
       "    </tr>\n",
       "    <tr>\n",
       "      <th>3642</th>\n",
       "      <td>0.0</td>\n",
       "      <td>0.0</td>\n",
       "      <td>0.0</td>\n",
       "      <td>0.0</td>\n",
       "      <td>0.0</td>\n",
       "      <td>0.0</td>\n",
       "      <td>0.0</td>\n",
       "      <td>0.0</td>\n",
       "      <td>0.0</td>\n",
       "      <td>0.0</td>\n",
       "      <td>...</td>\n",
       "      <td>0.0</td>\n",
       "      <td>0.0</td>\n",
       "      <td>0.0</td>\n",
       "      <td>0.0</td>\n",
       "      <td>0.0</td>\n",
       "      <td>0.0</td>\n",
       "      <td>0.0</td>\n",
       "      <td>0.0</td>\n",
       "      <td>0.0</td>\n",
       "      <td>0.0</td>\n",
       "    </tr>\n",
       "  </tbody>\n",
       "</table>\n",
       "<p>3643 rows × 569 columns</p>\n",
       "</div>"
      ],
      "text/plain": [
       "      100-proof Vodka  151-Proof Rum  17-year-old J. Wray and Nephew Ltd. Rum  \\\n",
       "0                 0.0            0.0                                      0.0   \n",
       "1                 0.0            0.0                                      0.0   \n",
       "2                 0.0            0.0                                      0.0   \n",
       "3                 0.0            0.0                                      0.0   \n",
       "4                 0.0            0.0                                      0.0   \n",
       "...               ...            ...                                      ...   \n",
       "3638              0.0            0.0                                      0.0   \n",
       "3639              0.0            0.0                                      0.0   \n",
       "3640              0.0            0.0                                      0.0   \n",
       "3641              0.0            0.0                                      0.0   \n",
       "3642              0.0            0.0                                      0.0   \n",
       "\n",
       "      7-Up  Absinthe  Absinthe Substitute  Absinthe or pastis  \\\n",
       "0      0.0       0.0                  0.0                 0.0   \n",
       "1      0.0       0.0                  0.0                 0.0   \n",
       "2      0.0       0.0                  0.0                 0.0   \n",
       "3      0.0       0.0                  0.0                 0.0   \n",
       "4      0.0       0.0                  0.0                 0.0   \n",
       "...    ...       ...                  ...                 ...   \n",
       "3638   0.0       0.0                  0.0                 0.0   \n",
       "3639   0.0       0.0                  0.0                 0.0   \n",
       "3640   0.0       0.0                  0.0                 0.0   \n",
       "3641   0.0       0.0                  0.0                 0.0   \n",
       "3642   0.0       0.0                  0.0                 0.0   \n",
       "\n",
       "      Acai berry flavored vodka  African rum  Agave nectar  ...  \\\n",
       "0                           0.0          0.0           0.0  ...   \n",
       "1                           0.0          0.0           0.0  ...   \n",
       "2                           0.0          0.0           0.0  ...   \n",
       "3                           0.0          0.0           0.0  ...   \n",
       "4                           0.0          0.0           0.0  ...   \n",
       "...                         ...          ...           ...  ...   \n",
       "3638                        0.0          0.0           0.0  ...   \n",
       "3639                        0.0          0.0           0.0  ...   \n",
       "3640                        0.0          0.0           0.0  ...   \n",
       "3641                        0.0          0.0           0.0  ...   \n",
       "3642                        0.0          0.0           0.0  ...   \n",
       "\n",
       "      orgeat or almond syrup  pineapple  \\\n",
       "0                        0.0        0.0   \n",
       "1                        0.0        0.0   \n",
       "2                        0.0        0.0   \n",
       "3                        0.0        0.0   \n",
       "4                        0.0        0.0   \n",
       "...                      ...        ...   \n",
       "3638                     0.0        0.0   \n",
       "3639                     0.0        0.0   \n",
       "3640                     0.0        0.0   \n",
       "3641                     0.0        0.0   \n",
       "3642                     0.0        0.0   \n",
       "\n",
       "      pomegranate molasses (available at Middle Eastern grocers)  port  \\\n",
       "0                                                   0.0            0.0   \n",
       "1                                                   0.0            0.0   \n",
       "2                                                   0.0            0.0   \n",
       "3                                                   0.0            0.0   \n",
       "4                                                   0.0            0.0   \n",
       "...                                                 ...            ...   \n",
       "3638                                                0.0            0.0   \n",
       "3639                                                0.0            0.0   \n",
       "3640                                                0.0            0.0   \n",
       "3641                                                0.0            0.0   \n",
       "3642                                                0.0            0.0   \n",
       "\n",
       "      powdered sugar  red wine  springs mint  sweet vermouth  \\\n",
       "0                0.0       0.0           0.0             0.0   \n",
       "1                0.0       0.0           0.0             0.0   \n",
       "2                0.0       0.0           0.0             0.0   \n",
       "3                0.0       0.0           0.0             0.0   \n",
       "4                0.0       0.0           0.0             0.0   \n",
       "...              ...       ...           ...             ...   \n",
       "3638             0.0       0.0           0.0             0.0   \n",
       "3639             0.0       0.0           0.0             0.0   \n",
       "3640             0.0       0.0           0.0             0.0   \n",
       "3641             0.0       0.0           0.0             0.0   \n",
       "3642             0.0       0.0           0.0             0.0   \n",
       "\n",
       "      thin Peeled fresh ginger  tiki bitters, such as Bittermen's Elemakule  \n",
       "0                          0.0                                          0.0  \n",
       "1                          0.0                                          0.0  \n",
       "2                          0.0                                          0.0  \n",
       "3                          0.0                                          0.0  \n",
       "4                          0.0                                          0.0  \n",
       "...                        ...                                          ...  \n",
       "3638                       0.0                                          0.0  \n",
       "3639                       0.0                                          0.0  \n",
       "3640                       0.0                                          0.0  \n",
       "3641                       0.0                                          0.0  \n",
       "3642                       0.0                                          0.0  \n",
       "\n",
       "[3643 rows x 569 columns]"
      ]
     },
     "execution_count": 248,
     "metadata": {},
     "output_type": "execute_result"
    }
   ],
   "source": [
    "ingredient_dummies = pd.get_dummies(df['ingredient'])\n",
    "\n",
    "numerical_measures_series = pd.Series(numerical_measures, index=df.index)\n",
    "ingredient_dummies = ingredient_dummies.mul(numerical_measures_series, axis=0)\n",
    "ingredient_dummies"
   ]
  },
  {
   "cell_type": "code",
   "execution_count": 269,
   "id": "133817a8",
   "metadata": {},
   "outputs": [
    {
     "data": {
      "text/html": [
       "<div>\n",
       "<style scoped>\n",
       "    .dataframe tbody tr th:only-of-type {\n",
       "        vertical-align: middle;\n",
       "    }\n",
       "\n",
       "    .dataframe tbody tr th {\n",
       "        vertical-align: top;\n",
       "    }\n",
       "\n",
       "    .dataframe thead th {\n",
       "        text-align: right;\n",
       "    }\n",
       "</style>\n",
       "<table border=\"1\" class=\"dataframe\">\n",
       "  <thead>\n",
       "    <tr style=\"text-align: right;\">\n",
       "      <th></th>\n",
       "      <th>100-proof Vodka</th>\n",
       "      <th>151-Proof Rum</th>\n",
       "      <th>17-year-old J. Wray and Nephew Ltd. Rum</th>\n",
       "      <th>7-Up</th>\n",
       "      <th>Absinthe</th>\n",
       "      <th>Absinthe Substitute</th>\n",
       "      <th>Absinthe or pastis</th>\n",
       "      <th>Acai berry flavored vodka</th>\n",
       "      <th>African rum</th>\n",
       "      <th>Agave nectar</th>\n",
       "      <th>...</th>\n",
       "      <th>orgeat or almond syrup</th>\n",
       "      <th>pineapple</th>\n",
       "      <th>pomegranate molasses (available at Middle Eastern grocers)</th>\n",
       "      <th>port</th>\n",
       "      <th>powdered sugar</th>\n",
       "      <th>red wine</th>\n",
       "      <th>springs mint</th>\n",
       "      <th>sweet vermouth</th>\n",
       "      <th>thin Peeled fresh ginger</th>\n",
       "      <th>tiki bitters, such as Bittermen's Elemakule</th>\n",
       "    </tr>\n",
       "    <tr>\n",
       "      <th>name</th>\n",
       "      <th></th>\n",
       "      <th></th>\n",
       "      <th></th>\n",
       "      <th></th>\n",
       "      <th></th>\n",
       "      <th></th>\n",
       "      <th></th>\n",
       "      <th></th>\n",
       "      <th></th>\n",
       "      <th></th>\n",
       "      <th></th>\n",
       "      <th></th>\n",
       "      <th></th>\n",
       "      <th></th>\n",
       "      <th></th>\n",
       "      <th></th>\n",
       "      <th></th>\n",
       "      <th></th>\n",
       "      <th></th>\n",
       "      <th></th>\n",
       "      <th></th>\n",
       "    </tr>\n",
       "  </thead>\n",
       "  <tbody>\n",
       "    <tr>\n",
       "      <th>1626</th>\n",
       "      <td>0.0</td>\n",
       "      <td>0.0</td>\n",
       "      <td>0.0</td>\n",
       "      <td>0.0</td>\n",
       "      <td>0.0</td>\n",
       "      <td>0.0</td>\n",
       "      <td>0.0</td>\n",
       "      <td>0.0</td>\n",
       "      <td>0.0</td>\n",
       "      <td>0.0</td>\n",
       "      <td>...</td>\n",
       "      <td>0.0</td>\n",
       "      <td>0.0</td>\n",
       "      <td>0.0</td>\n",
       "      <td>0.0</td>\n",
       "      <td>0.0</td>\n",
       "      <td>0.0</td>\n",
       "      <td>0.0</td>\n",
       "      <td>0.0</td>\n",
       "      <td>0.0</td>\n",
       "      <td>0.0</td>\n",
       "    </tr>\n",
       "    <tr>\n",
       "      <th>19th Century</th>\n",
       "      <td>0.0</td>\n",
       "      <td>0.0</td>\n",
       "      <td>0.0</td>\n",
       "      <td>0.0</td>\n",
       "      <td>0.0</td>\n",
       "      <td>0.0</td>\n",
       "      <td>0.0</td>\n",
       "      <td>0.0</td>\n",
       "      <td>0.0</td>\n",
       "      <td>0.0</td>\n",
       "      <td>...</td>\n",
       "      <td>0.0</td>\n",
       "      <td>0.0</td>\n",
       "      <td>0.0</td>\n",
       "      <td>0.0</td>\n",
       "      <td>0.0</td>\n",
       "      <td>0.0</td>\n",
       "      <td>0.0</td>\n",
       "      <td>0.0</td>\n",
       "      <td>0.0</td>\n",
       "      <td>0.0</td>\n",
       "    </tr>\n",
       "    <tr>\n",
       "      <th>A. J.</th>\n",
       "      <td>0.0</td>\n",
       "      <td>0.0</td>\n",
       "      <td>0.0</td>\n",
       "      <td>0.0</td>\n",
       "      <td>0.0</td>\n",
       "      <td>0.0</td>\n",
       "      <td>0.0</td>\n",
       "      <td>0.0</td>\n",
       "      <td>0.0</td>\n",
       "      <td>0.0</td>\n",
       "      <td>...</td>\n",
       "      <td>0.0</td>\n",
       "      <td>0.0</td>\n",
       "      <td>0.0</td>\n",
       "      <td>0.0</td>\n",
       "      <td>0.0</td>\n",
       "      <td>0.0</td>\n",
       "      <td>0.0</td>\n",
       "      <td>0.0</td>\n",
       "      <td>0.0</td>\n",
       "      <td>0.0</td>\n",
       "    </tr>\n",
       "    <tr>\n",
       "      <th>Absinthe Cocktail</th>\n",
       "      <td>0.0</td>\n",
       "      <td>0.0</td>\n",
       "      <td>0.0</td>\n",
       "      <td>0.0</td>\n",
       "      <td>0.0</td>\n",
       "      <td>1.5</td>\n",
       "      <td>0.0</td>\n",
       "      <td>0.0</td>\n",
       "      <td>0.0</td>\n",
       "      <td>0.0</td>\n",
       "      <td>...</td>\n",
       "      <td>0.0</td>\n",
       "      <td>0.0</td>\n",
       "      <td>0.0</td>\n",
       "      <td>0.0</td>\n",
       "      <td>0.0</td>\n",
       "      <td>0.0</td>\n",
       "      <td>0.0</td>\n",
       "      <td>0.0</td>\n",
       "      <td>0.0</td>\n",
       "      <td>0.0</td>\n",
       "    </tr>\n",
       "    <tr>\n",
       "      <th>Absinthe Drip Cocktail</th>\n",
       "      <td>0.0</td>\n",
       "      <td>0.0</td>\n",
       "      <td>0.0</td>\n",
       "      <td>0.0</td>\n",
       "      <td>0.0</td>\n",
       "      <td>0.0</td>\n",
       "      <td>0.0</td>\n",
       "      <td>0.0</td>\n",
       "      <td>0.0</td>\n",
       "      <td>0.0</td>\n",
       "      <td>...</td>\n",
       "      <td>0.0</td>\n",
       "      <td>0.0</td>\n",
       "      <td>0.0</td>\n",
       "      <td>0.0</td>\n",
       "      <td>0.0</td>\n",
       "      <td>0.0</td>\n",
       "      <td>0.0</td>\n",
       "      <td>0.0</td>\n",
       "      <td>0.0</td>\n",
       "      <td>0.0</td>\n",
       "    </tr>\n",
       "    <tr>\n",
       "      <th>...</th>\n",
       "      <td>...</td>\n",
       "      <td>...</td>\n",
       "      <td>...</td>\n",
       "      <td>...</td>\n",
       "      <td>...</td>\n",
       "      <td>...</td>\n",
       "      <td>...</td>\n",
       "      <td>...</td>\n",
       "      <td>...</td>\n",
       "      <td>...</td>\n",
       "      <td>...</td>\n",
       "      <td>...</td>\n",
       "      <td>...</td>\n",
       "      <td>...</td>\n",
       "      <td>...</td>\n",
       "      <td>...</td>\n",
       "      <td>...</td>\n",
       "      <td>...</td>\n",
       "      <td>...</td>\n",
       "      <td>...</td>\n",
       "      <td>...</td>\n",
       "    </tr>\n",
       "    <tr>\n",
       "      <th>Yokahama Romance</th>\n",
       "      <td>0.0</td>\n",
       "      <td>0.0</td>\n",
       "      <td>0.0</td>\n",
       "      <td>0.0</td>\n",
       "      <td>0.0</td>\n",
       "      <td>0.0</td>\n",
       "      <td>0.0</td>\n",
       "      <td>0.0</td>\n",
       "      <td>0.0</td>\n",
       "      <td>0.0</td>\n",
       "      <td>...</td>\n",
       "      <td>0.0</td>\n",
       "      <td>0.0</td>\n",
       "      <td>0.0</td>\n",
       "      <td>0.0</td>\n",
       "      <td>0.0</td>\n",
       "      <td>0.0</td>\n",
       "      <td>0.0</td>\n",
       "      <td>0.0</td>\n",
       "      <td>0.0</td>\n",
       "      <td>0.0</td>\n",
       "    </tr>\n",
       "    <tr>\n",
       "      <th>Yolanda</th>\n",
       "      <td>0.0</td>\n",
       "      <td>0.0</td>\n",
       "      <td>0.0</td>\n",
       "      <td>0.0</td>\n",
       "      <td>0.0</td>\n",
       "      <td>0.0</td>\n",
       "      <td>0.0</td>\n",
       "      <td>0.0</td>\n",
       "      <td>0.0</td>\n",
       "      <td>0.0</td>\n",
       "      <td>...</td>\n",
       "      <td>0.0</td>\n",
       "      <td>0.0</td>\n",
       "      <td>0.0</td>\n",
       "      <td>0.0</td>\n",
       "      <td>0.0</td>\n",
       "      <td>0.0</td>\n",
       "      <td>0.0</td>\n",
       "      <td>0.0</td>\n",
       "      <td>0.0</td>\n",
       "      <td>0.0</td>\n",
       "    </tr>\n",
       "    <tr>\n",
       "      <th>Zaza Cocktail</th>\n",
       "      <td>0.0</td>\n",
       "      <td>0.0</td>\n",
       "      <td>0.0</td>\n",
       "      <td>0.0</td>\n",
       "      <td>0.0</td>\n",
       "      <td>0.0</td>\n",
       "      <td>0.0</td>\n",
       "      <td>0.0</td>\n",
       "      <td>0.0</td>\n",
       "      <td>0.0</td>\n",
       "      <td>...</td>\n",
       "      <td>0.0</td>\n",
       "      <td>0.0</td>\n",
       "      <td>0.0</td>\n",
       "      <td>0.0</td>\n",
       "      <td>0.0</td>\n",
       "      <td>0.0</td>\n",
       "      <td>0.0</td>\n",
       "      <td>0.0</td>\n",
       "      <td>0.0</td>\n",
       "      <td>0.0</td>\n",
       "    </tr>\n",
       "    <tr>\n",
       "      <th>Zero Mint</th>\n",
       "      <td>0.0</td>\n",
       "      <td>0.0</td>\n",
       "      <td>0.0</td>\n",
       "      <td>0.0</td>\n",
       "      <td>0.0</td>\n",
       "      <td>0.0</td>\n",
       "      <td>0.0</td>\n",
       "      <td>0.0</td>\n",
       "      <td>0.0</td>\n",
       "      <td>0.0</td>\n",
       "      <td>...</td>\n",
       "      <td>0.0</td>\n",
       "      <td>0.0</td>\n",
       "      <td>0.0</td>\n",
       "      <td>0.0</td>\n",
       "      <td>0.0</td>\n",
       "      <td>0.0</td>\n",
       "      <td>0.0</td>\n",
       "      <td>0.0</td>\n",
       "      <td>0.0</td>\n",
       "      <td>0.0</td>\n",
       "    </tr>\n",
       "    <tr>\n",
       "      <th>Zombie</th>\n",
       "      <td>0.0</td>\n",
       "      <td>1.0</td>\n",
       "      <td>0.0</td>\n",
       "      <td>0.0</td>\n",
       "      <td>0.0</td>\n",
       "      <td>0.0</td>\n",
       "      <td>0.0</td>\n",
       "      <td>0.0</td>\n",
       "      <td>0.0</td>\n",
       "      <td>0.0</td>\n",
       "      <td>...</td>\n",
       "      <td>0.0</td>\n",
       "      <td>0.0</td>\n",
       "      <td>0.0</td>\n",
       "      <td>0.0</td>\n",
       "      <td>0.0</td>\n",
       "      <td>0.0</td>\n",
       "      <td>0.0</td>\n",
       "      <td>0.0</td>\n",
       "      <td>0.0</td>\n",
       "      <td>0.0</td>\n",
       "    </tr>\n",
       "  </tbody>\n",
       "</table>\n",
       "<p>989 rows × 569 columns</p>\n",
       "</div>"
      ],
      "text/plain": [
       "                        100-proof Vodka  151-Proof Rum  \\\n",
       "name                                                     \n",
       "1626                                0.0            0.0   \n",
       "19th Century                        0.0            0.0   \n",
       "A. J.                               0.0            0.0   \n",
       "Absinthe Cocktail                   0.0            0.0   \n",
       "Absinthe Drip Cocktail              0.0            0.0   \n",
       "...                                 ...            ...   \n",
       "Yokahama Romance                    0.0            0.0   \n",
       "Yolanda                             0.0            0.0   \n",
       "Zaza Cocktail                       0.0            0.0   \n",
       "Zero Mint                           0.0            0.0   \n",
       "Zombie                              0.0            1.0   \n",
       "\n",
       "                        17-year-old J. Wray and Nephew Ltd. Rum  7-Up  \\\n",
       "name                                                                    \n",
       "1626                                                        0.0   0.0   \n",
       "19th Century                                                0.0   0.0   \n",
       "A. J.                                                       0.0   0.0   \n",
       "Absinthe Cocktail                                           0.0   0.0   \n",
       "Absinthe Drip Cocktail                                      0.0   0.0   \n",
       "...                                                         ...   ...   \n",
       "Yokahama Romance                                            0.0   0.0   \n",
       "Yolanda                                                     0.0   0.0   \n",
       "Zaza Cocktail                                               0.0   0.0   \n",
       "Zero Mint                                                   0.0   0.0   \n",
       "Zombie                                                      0.0   0.0   \n",
       "\n",
       "                        Absinthe  Absinthe Substitute  Absinthe or pastis  \\\n",
       "name                                                                        \n",
       "1626                         0.0                  0.0                 0.0   \n",
       "19th Century                 0.0                  0.0                 0.0   \n",
       "A. J.                        0.0                  0.0                 0.0   \n",
       "Absinthe Cocktail            0.0                  1.5                 0.0   \n",
       "Absinthe Drip Cocktail       0.0                  0.0                 0.0   \n",
       "...                          ...                  ...                 ...   \n",
       "Yokahama Romance             0.0                  0.0                 0.0   \n",
       "Yolanda                      0.0                  0.0                 0.0   \n",
       "Zaza Cocktail                0.0                  0.0                 0.0   \n",
       "Zero Mint                    0.0                  0.0                 0.0   \n",
       "Zombie                       0.0                  0.0                 0.0   \n",
       "\n",
       "                        Acai berry flavored vodka  African rum  Agave nectar  \\\n",
       "name                                                                           \n",
       "1626                                          0.0          0.0           0.0   \n",
       "19th Century                                  0.0          0.0           0.0   \n",
       "A. J.                                         0.0          0.0           0.0   \n",
       "Absinthe Cocktail                             0.0          0.0           0.0   \n",
       "Absinthe Drip Cocktail                        0.0          0.0           0.0   \n",
       "...                                           ...          ...           ...   \n",
       "Yokahama Romance                              0.0          0.0           0.0   \n",
       "Yolanda                                       0.0          0.0           0.0   \n",
       "Zaza Cocktail                                 0.0          0.0           0.0   \n",
       "Zero Mint                                     0.0          0.0           0.0   \n",
       "Zombie                                        0.0          0.0           0.0   \n",
       "\n",
       "                        ...  orgeat or almond syrup  pineapple  \\\n",
       "name                    ...                                      \n",
       "1626                    ...                     0.0        0.0   \n",
       "19th Century            ...                     0.0        0.0   \n",
       "A. J.                   ...                     0.0        0.0   \n",
       "Absinthe Cocktail       ...                     0.0        0.0   \n",
       "Absinthe Drip Cocktail  ...                     0.0        0.0   \n",
       "...                     ...                     ...        ...   \n",
       "Yokahama Romance        ...                     0.0        0.0   \n",
       "Yolanda                 ...                     0.0        0.0   \n",
       "Zaza Cocktail           ...                     0.0        0.0   \n",
       "Zero Mint               ...                     0.0        0.0   \n",
       "Zombie                  ...                     0.0        0.0   \n",
       "\n",
       "                        pomegranate molasses (available at Middle Eastern grocers)  \\\n",
       "name                                                                                 \n",
       "1626                                                                  0.0            \n",
       "19th Century                                                          0.0            \n",
       "A. J.                                                                 0.0            \n",
       "Absinthe Cocktail                                                     0.0            \n",
       "Absinthe Drip Cocktail                                                0.0            \n",
       "...                                                                   ...            \n",
       "Yokahama Romance                                                      0.0            \n",
       "Yolanda                                                               0.0            \n",
       "Zaza Cocktail                                                         0.0            \n",
       "Zero Mint                                                             0.0            \n",
       "Zombie                                                                0.0            \n",
       "\n",
       "                        port  powdered sugar  red wine  springs mint  \\\n",
       "name                                                                   \n",
       "1626                     0.0             0.0       0.0           0.0   \n",
       "19th Century             0.0             0.0       0.0           0.0   \n",
       "A. J.                    0.0             0.0       0.0           0.0   \n",
       "Absinthe Cocktail        0.0             0.0       0.0           0.0   \n",
       "Absinthe Drip Cocktail   0.0             0.0       0.0           0.0   \n",
       "...                      ...             ...       ...           ...   \n",
       "Yokahama Romance         0.0             0.0       0.0           0.0   \n",
       "Yolanda                  0.0             0.0       0.0           0.0   \n",
       "Zaza Cocktail            0.0             0.0       0.0           0.0   \n",
       "Zero Mint                0.0             0.0       0.0           0.0   \n",
       "Zombie                   0.0             0.0       0.0           0.0   \n",
       "\n",
       "                        sweet vermouth  thin Peeled fresh ginger  \\\n",
       "name                                                               \n",
       "1626                               0.0                       0.0   \n",
       "19th Century                       0.0                       0.0   \n",
       "A. J.                              0.0                       0.0   \n",
       "Absinthe Cocktail                  0.0                       0.0   \n",
       "Absinthe Drip Cocktail             0.0                       0.0   \n",
       "...                                ...                       ...   \n",
       "Yokahama Romance                   0.0                       0.0   \n",
       "Yolanda                            0.0                       0.0   \n",
       "Zaza Cocktail                      0.0                       0.0   \n",
       "Zero Mint                          0.0                       0.0   \n",
       "Zombie                             0.0                       0.0   \n",
       "\n",
       "                        tiki bitters, such as Bittermen's Elemakule  \n",
       "name                                                                 \n",
       "1626                                                            0.0  \n",
       "19th Century                                                    0.0  \n",
       "A. J.                                                           0.0  \n",
       "Absinthe Cocktail                                               0.0  \n",
       "Absinthe Drip Cocktail                                          0.0  \n",
       "...                                                             ...  \n",
       "Yokahama Romance                                                0.0  \n",
       "Yolanda                                                         0.0  \n",
       "Zaza Cocktail                                                   0.0  \n",
       "Zero Mint                                                       0.0  \n",
       "Zombie                                                          0.0  \n",
       "\n",
       "[989 rows x 569 columns]"
      ]
     },
     "execution_count": 269,
     "metadata": {},
     "output_type": "execute_result"
    }
   ],
   "source": [
    "dummies = pd.concat([df['name'], ingredient_dummies], axis=1)\n",
    "dummies = dummies.groupby('name').sum()\n",
    "dummies"
   ]
  },
  {
   "cell_type": "code",
   "execution_count": 273,
   "id": "910a1a10",
   "metadata": {},
   "outputs": [],
   "source": [
    "dummies.to_csv('dummies.csv')"
   ]
  },
  {
   "cell_type": "code",
   "execution_count": 277,
   "id": "69681e11",
   "metadata": {},
   "outputs": [],
   "source": [
    "rows_to_drop = ['Chi-Town Flip', 'Frankenjack Cocktail', 'Tailspin Cocktail']\n",
    "dummies = dummies.drop(rows_to_drop, errors='ignore')"
   ]
  },
  {
   "cell_type": "code",
   "execution_count": 278,
   "id": "6a3e8c5c",
   "metadata": {},
   "outputs": [
    {
     "data": {
      "text/plain": [
       "Angostura Bitters           2.00\n",
       "Bourbon whiskey             2.50\n",
       "Gingerbread liqueur         0.75\n",
       "Italian preserved cherry    1.00\n",
       "cherry-flavored brandy      0.50\n",
       "Name: 1626, dtype: float64"
      ]
     },
     "execution_count": 278,
     "metadata": {},
     "output_type": "execute_result"
    }
   ],
   "source": [
    "rowToCheck = dummies.loc['1626']\n",
    "rowToCheck[rowToCheck > 0]"
   ]
  },
  {
   "cell_type": "code",
   "execution_count": 252,
   "id": "cb7e3c3f",
   "metadata": {},
   "outputs": [
    {
     "data": {
      "text/html": [
       "<div>\n",
       "<style scoped>\n",
       "    .dataframe tbody tr th:only-of-type {\n",
       "        vertical-align: middle;\n",
       "    }\n",
       "\n",
       "    .dataframe tbody tr th {\n",
       "        vertical-align: top;\n",
       "    }\n",
       "\n",
       "    .dataframe thead th {\n",
       "        text-align: right;\n",
       "    }\n",
       "</style>\n",
       "<table border=\"1\" class=\"dataframe\">\n",
       "  <thead>\n",
       "    <tr style=\"text-align: right;\">\n",
       "      <th></th>\n",
       "      <th>name</th>\n",
       "      <th>category</th>\n",
       "      <th>row_id</th>\n",
       "      <th>ingredient_number</th>\n",
       "      <th>ingredient</th>\n",
       "      <th>measure</th>\n",
       "    </tr>\n",
       "  </thead>\n",
       "  <tbody>\n",
       "    <tr>\n",
       "      <th>1549</th>\n",
       "      <td>1626</td>\n",
       "      <td>Whiskies</td>\n",
       "      <td>433</td>\n",
       "      <td>1</td>\n",
       "      <td>Bourbon whiskey</td>\n",
       "      <td>2 1/2 oz</td>\n",
       "    </tr>\n",
       "    <tr>\n",
       "      <th>1550</th>\n",
       "      <td>1626</td>\n",
       "      <td>Whiskies</td>\n",
       "      <td>433</td>\n",
       "      <td>2</td>\n",
       "      <td>Gingerbread liqueur</td>\n",
       "      <td>3/4 oz</td>\n",
       "    </tr>\n",
       "    <tr>\n",
       "      <th>1551</th>\n",
       "      <td>1626</td>\n",
       "      <td>Whiskies</td>\n",
       "      <td>433</td>\n",
       "      <td>3</td>\n",
       "      <td>cherry-flavored brandy</td>\n",
       "      <td>1/2 oz</td>\n",
       "    </tr>\n",
       "    <tr>\n",
       "      <th>1552</th>\n",
       "      <td>1626</td>\n",
       "      <td>Whiskies</td>\n",
       "      <td>433</td>\n",
       "      <td>4</td>\n",
       "      <td>Angostura Bitters</td>\n",
       "      <td>2 oz</td>\n",
       "    </tr>\n",
       "    <tr>\n",
       "      <th>1553</th>\n",
       "      <td>1626</td>\n",
       "      <td>Whiskies</td>\n",
       "      <td>433</td>\n",
       "      <td>5</td>\n",
       "      <td>Italian preserved cherry</td>\n",
       "      <td>1 oz</td>\n",
       "    </tr>\n",
       "  </tbody>\n",
       "</table>\n",
       "</div>"
      ],
      "text/plain": [
       "      name  category  row_id  ingredient_number                ingredient  \\\n",
       "1549  1626  Whiskies     433                  1           Bourbon whiskey   \n",
       "1550  1626  Whiskies     433                  2       Gingerbread liqueur   \n",
       "1551  1626  Whiskies     433                  3    cherry-flavored brandy   \n",
       "1552  1626  Whiskies     433                  4         Angostura Bitters   \n",
       "1553  1626  Whiskies     433                  5  Italian preserved cherry   \n",
       "\n",
       "       measure  \n",
       "1549  2 1/2 oz  \n",
       "1550    3/4 oz  \n",
       "1551    1/2 oz  \n",
       "1552      2 oz  \n",
       "1553      1 oz  "
      ]
     },
     "execution_count": 252,
     "metadata": {},
     "output_type": "execute_result"
    }
   ],
   "source": [
    "df[df['name'] == '1626']"
   ]
  },
  {
   "cell_type": "code",
   "execution_count": 279,
   "id": "9a2274d3",
   "metadata": {},
   "outputs": [
    {
     "name": "stdout",
     "output_type": "stream",
     "text": [
      "Explained Variance: [0.00906297 0.00739554 0.00736682 0.0073429  0.00728744 0.00723625\n",
      " 0.00708621 0.00707591 0.00706034 0.00661939 0.00651765 0.00623122\n",
      " 0.00610025 0.00599082 0.00595733 0.00580143 0.00570027 0.00565375\n",
      " 0.00559453 0.00550992 0.00546808 0.00542911 0.00532328 0.00523351\n",
      " 0.00515234 0.00511732 0.00504064 0.004971   0.00493574 0.00491545\n",
      " 0.00482155 0.00474165 0.00472343 0.00467526 0.00465642 0.00463563\n",
      " 0.0045985  0.0045528  0.0045165  0.00447406 0.00437949 0.00432304\n",
      " 0.00431215 0.00423757 0.00419821 0.00415376 0.0041186  0.00408816\n",
      " 0.00402723 0.00400544 0.00397103 0.00395789 0.00393794 0.0039062\n",
      " 0.00389552 0.00387686 0.00384761 0.00384017 0.00381794 0.00381217\n",
      " 0.00376152 0.00375153 0.00373014 0.00372293 0.00370417 0.00369182\n",
      " 0.00367362 0.00367096 0.00365139 0.00363437 0.00363157 0.00362283\n",
      " 0.00361617 0.00361072 0.0036003  0.00359614 0.0035839  0.00357877\n",
      " 0.00356916 0.0035617  0.00355577 0.00354576 0.00354359 0.00353752\n",
      " 0.00353476 0.00353294 0.00353192 0.00353092 0.00353092 0.00353092\n",
      " 0.00352951 0.00349949 0.00349393 0.00348621 0.00340144 0.00338673\n",
      " 0.0033714  0.00335135 0.00333666 0.00331218 0.00329654 0.00328516\n",
      " 0.00327153 0.00325492 0.00322799 0.00320206 0.00318355 0.00316159\n",
      " 0.00314358 0.00313587 0.00312464 0.00309922 0.00308327 0.0030704\n",
      " 0.003057  ]\n",
      "Total Variance Explained: 0.5013850515221826\n"
     ]
    }
   ],
   "source": [
    "scaler = StandardScaler()\n",
    "scaled_data = scaler.fit_transform(dummies)\n",
    "\n",
    "# Step 3: Apply PCA\n",
    "# Let's say you want to keep components that explain 95% of the variance\n",
    "pca = PCA(n_components=0.50)\n",
    "principal_components = pca.fit_transform(scaled_data)\n",
    "\n",
    "# Creating a new DataFrame with the principal components\n",
    "df_pca = pd.DataFrame(data=principal_components)\n",
    "\n",
    "# Step 4: Analyze the Results\n",
    "print(\"Explained Variance:\", pca.explained_variance_ratio_)\n",
    "print(\"Total Variance Explained:\", sum(pca.explained_variance_ratio_))"
   ]
  },
  {
   "cell_type": "code",
   "execution_count": 280,
   "id": "f14e25ff",
   "metadata": {},
   "outputs": [
    {
     "data": {
      "image/png": "[encoded data removed]",
      "text/plain": [
       "<Figure size 720x576 with 1 Axes>"
      ]
     },
     "metadata": {
      "needs_background": "light"
     },
     "output_type": "display_data"
    }
   ],
   "source": [
    "plt.figure(figsize=(10, 8))\n",
    "plt.scatter(df_pca[0], df_pca[1])\n",
    "plt.xlabel('First Principal Component')\n",
    "plt.ylabel('Second Principal Component')\n",
    "plt.title('PCA Scatter Plot')\n",
    "\n",
    "plt.savefig('scatter_plot.png', dpi=300)  # Saves as PNG file with high dpi\n",
    "plt.show()\n",
    "plt.close()  # Close the plot\n"
   ]
  },
  {
   "cell_type": "code",
   "execution_count": 281,
   "id": "c7c6b64e",
   "metadata": {},
   "outputs": [
    {
     "data": {
      "text/plain": [
       "name\n",
       "After Dinner Cocktail                                          Juice of a Lime\n",
       "Amaretto Sour                   Fresh lemon juiceSimple SyrupOrange half-wheel\n",
       "Apricot Cocktail                                                           Gin\n",
       "Bijou Cocktail                                                  Sweet Vermouth\n",
       "Blue Bird                                                                  Gin\n",
       "Brandy Alexander                                                   Heavy cream\n",
       "Bulldog Highball                                               Juice of Orange\n",
       "Canadian Cherry                                                Canadian whisky\n",
       "Chas                                                           Bourbon whiskey\n",
       "Cherry Fizz                                             cherry-flavored brandy\n",
       "Cherry Rum                                                         Light cream\n",
       "Chi-Town Flip                                                       Tawny port\n",
       "Classic Cocktail                                                       Curacao\n",
       "Coffee Old-Fashioned                                        Cold brewed coffee\n",
       "Dillatini Cocktail                                                Dry Vermouth\n",
       "Dr. Cook                                                             Egg White\n",
       "Dry Martini                                                     Mr. Boston Gin\n",
       "Dufftown Flip                                                        Whole Egg\n",
       "Eastern Sour                                                   Bourbon whiskey\n",
       "Emerald Isle Cocktail                                    Green creme de menthe\n",
       "Everybody's Irish Cocktail                                       Irish Whiskey\n",
       "Fancy-Free Cocktail                                             Orange Bitters\n",
       "Fort Lauderdale                                       Light RumJuice of a Lime\n",
       "Frankenjack Cocktail                                                Triple Sec\n",
       "Gin Milk Punch                                                  Powdered Sugar\n",
       "Goldrush                                                     Fresh lemon juice\n",
       "Gotham                                                                  Brandy\n",
       "Green Devil                                                                Gin\n",
       "Harvard Cooler                                                    Simple Syrup\n",
       "Hebrides                                                            Triple Sec\n",
       "Hoffman House Cocktail                                            Dry Vermouth\n",
       "Irish Shillelagh                                        Irish WhiskeyLight Rum\n",
       "Kup's Indispensable Cocktail                                   Dry VermouthGin\n",
       "Martini (Dry) (5-to-1)                                                     Gin\n",
       "Plaza Cocktail                                                    Dry Vermouth\n",
       "Rosemary Clementine Sparkle                                  Fresh lemon juice\n",
       "Shalom                                                    White creme de cacao\n",
       "Siberian Sleighride                                       White creme de cacao\n",
       "Stockholm 75                                                      Simple Syrup\n",
       "Sunshine Cocktail                                                      Bitters\n",
       "Tailspin Cocktail                                                          Gin\n",
       "The Delmarva Cocktail                                        Fresh lemon juice\n",
       "The Duboudreau Cocktail                                   Straight rye whiskey\n",
       "Union Jack Cocktail                                                        Gin\n",
       "White Russian                                                            Vodka\n",
       "Name: ingredient, dtype: object"
      ]
     },
     "execution_count": 281,
     "metadata": {},
     "output_type": "execute_result"
    }
   ],
   "source": [
    "distances = np.sqrt((df_pca[0] ** 2) + (df_pca[1] ** 2))\n",
    "\n",
    "# Define a threshold for what you consider an outlier. This could be a percentile-based threshold.\n",
    "# For example, points farther than the 95th percentile of distances could be considered outliers.\n",
    "threshold = np.percentile(distances, 95)\n",
    "\n",
    "# Find the indices of the points that are considered outliers\n",
    "outlier_indices = np.where(distances > threshold)[0]\n",
    "\n",
    "# Now match these indices to your original dataframe to get the outliers\n",
    "original_data_outliers = df.loc[outlier_indices]\n",
    "\n",
    "grouped = original_data_outliers.groupby('name')['ingredient'].sum()\n",
    "grouped"
   ]
  },
  {
   "cell_type": "code",
   "execution_count": 282,
   "id": "6be454bd",
   "metadata": {},
   "outputs": [
    {
     "data": {
      "application/vnd.plotly.v1+json": {
       "config": {
        "plotlyServerURL": "https://plot.ly"
       },
       "data": [
        {
         "customdata": [
          [
           0,
           "Gauguin"
          ],
          [
           1,
           "Gauguin"
          ],
          [
           2,
           "Gauguin"
          ],
          [
           3,
           "Gauguin"
          ],
          [
           4,
           "Fort Lauderdale"
          ],
          [
           5,
           "Fort Lauderdale"
          ],
          [
           6,
           "Fort Lauderdale"
          ],
          [
           7,
           "Fort Lauderdale"
          ],
          [
           8,
           "Apple Pie"
          ],
          [
           9,
           "Apple Pie"
          ],
          [
           10,
           "Cuban Cocktail No. 1"
          ],
          [
           11,
           "Cuban Cocktail No. 1"
          ],
          [
           12,
           "Cuban Cocktail No. 1"
          ],
          [
           13,
           "Cool Carlos"
          ],
          [
           14,
           "Cool Carlos"
          ],
          [
           15,
           "Cool Carlos"
          ],
          [
           16,
           "Cool Carlos"
          ],
          [
           17,
           "Cool Carlos"
          ],
          [
           18,
           "John Collins"
          ],
          [
           19,
           "John Collins"
          ],
          [
           20,
           "John Collins"
          ],
          [
           21,
           "John Collins"
          ],
          [
           22,
           "John Collins"
          ],
          [
           23,
           "Cherry Rum"
          ],
          [
           24,
           "Cherry Rum"
          ],
          [
           25,
           "Cherry Rum"
          ],
          [
           26,
           "Casa Blanca"
          ],
          [
           27,
           "Casa Blanca"
          ],
          [
           28,
           "Casa Blanca"
          ],
          [
           29,
           "Casa Blanca"
          ],
          [
           30,
           "Caribbean Champagne"
          ],
          [
           31,
           "Caribbean Champagne"
          ],
          [
           32,
           "Amber Amour"
          ],
          [
           33,
           "Amber Amour"
          ],
          [
           34,
           "Amber Amour"
          ],
          [
           35,
           "The Joe Lewis"
          ],
          [
           36,
           "The Joe Lewis"
          ],
          [
           37,
           "The Joe Lewis"
          ],
          [
           38,
           "The Joe Lewis"
          ],
          [
           39,
           "The Joe Lewis"
          ],
          [
           40,
           "Bacardi Cocktail"
          ],
          [
           41,
           "Bacardi Cocktail"
          ],
          [
           42,
           "Bacardi Cocktail"
          ],
          [
           43,
           "Apple Pie No. 1"
          ],
          [
           44,
           "Apple Pie No. 1"
          ],
          [
           45,
           "Apple Pie No. 1"
          ],
          [
           46,
           "Apple Pie No. 1"
          ],
          [
           47,
           "Apple Pie No. 1"
          ],
          [
           48,
           "Yolanda"
          ],
          [
           49,
           "Yolanda"
          ],
          [
           50,
           "Yolanda"
          ],
          [
           51,
           "Yolanda"
          ],
          [
           52,
           "Yolanda"
          ],
          [
           53,
           "Yellow Rattler"
          ],
          [
           54,
           "Yellow Rattler"
          ],
          [
           55,
           "Yellow Rattler"
          ],
          [
           56,
           "Yellow Rattler"
          ],
          [
           57,
           "Why Not?"
          ],
          [
           58,
           "Why Not?"
          ],
          [
           59,
           "Why Not?"
          ],
          [
           60,
           "Why Not?"
          ],
          [
           61,
           "Amaretto Stinger"
          ],
          [
           62,
           "Amaretto Stinger"
          ],
          [
           63,
           "What The Hell"
          ],
          [
           64,
           "What The Hell"
          ],
          [
           65,
           "What The Hell"
          ],
          [
           66,
           "What The Hell"
          ],
          [
           67,
           "Webster Cocktail"
          ],
          [
           68,
           "Webster Cocktail"
          ],
          [
           69,
           "Webster Cocktail"
          ],
          [
           70,
           "Webster Cocktail"
          ],
          [
           71,
           "Union Jack Cocktail"
          ],
          [
           72,
           "Union Jack Cocktail"
          ],
          [
           73,
           "Union Jack Cocktail"
          ],
          [
           74,
           "Jocose Julep"
          ],
          [
           75,
           "Jocose Julep"
          ],
          [
           76,
           "Jocose Julep"
          ],
          [
           77,
           "Jocose Julep"
          ],
          [
           78,
           "Jocose Julep"
          ],
          [
           79,
           "Trinity Cocktail"
          ],
          [
           80,
           "Trinity Cocktail"
          ],
          [
           81,
           "Trinity Cocktail"
          ],
          [
           82,
           "Three Stripes Cocktail"
          ],
          [
           83,
           "Three Stripes Cocktail"
          ],
          [
           84,
           "Three Stripes Cocktail"
          ],
          [
           85,
           "Tanq-A-Rita"
          ],
          [
           86,
           "Tanq-A-Rita"
          ],
          [
           87,
           "Tanq-A-Rita"
          ],
          [
           88,
           "Amaretto Sour"
          ],
          [
           89,
           "Amaretto Sour"
          ],
          [
           90,
           "Amaretto Sour"
          ],
          [
           91,
           "Amaretto Sour"
          ],
          [
           92,
           "Tailspin Cocktail"
          ],
          [
           93,
           "Tailspin Cocktail"
          ],
          [
           94,
           "Tailspin Cocktail"
          ],
          [
           95,
           "Tailspin Cocktail"
          ],
          [
           96,
           "Sweet Patootie Cocktail"
          ],
          [
           97,
           "Sweet Patootie Cocktail"
          ],
          [
           98,
           "Sweet Patootie Cocktail"
          ],
          [
           99,
           "Sunshine Cocktail"
          ],
          [
           100,
           "Sunshine Cocktail"
          ],
          [
           101,
           "Sunshine Cocktail"
          ],
          [
           102,
           "Spring Feeling Cocktail"
          ],
          [
           103,
           "Spring Feeling Cocktail"
          ],
          [
           104,
           "Spring Feeling Cocktail"
          ],
          [
           105,
           "Sphinx Cocktail"
          ],
          [
           106,
           "Sphinx Cocktail"
          ],
          [
           107,
           "Sphinx Cocktail"
          ],
          [
           108,
           "Jitterbug Sour"
          ],
          [
           109,
           "Jitterbug Sour"
          ],
          [
           110,
           "Jitterbug Sour"
          ],
          [
           111,
           "Jitterbug Sour"
          ],
          [
           112,
           "Jitterbug Sour"
          ],
          [
           113,
           "Jitterbug Sour"
          ],
          [
           114,
           "Southern Gin Cocktail"
          ],
          [
           115,
           "Southern Gin Cocktail"
          ],
          [
           116,
           "Southern Gin Cocktail"
          ],
          [
           117,
           "Society Cocktail"
          ],
          [
           118,
           "Society Cocktail"
          ],
          [
           119,
           "Society Cocktail"
          ],
          [
           120,
           "Snyder"
          ],
          [
           121,
           "Snyder"
          ],
          [
           122,
           "Snyder"
          ],
          [
           123,
           "Smiler Cocktail"
          ],
          [
           124,
           "Smiler Cocktail"
          ],
          [
           125,
           "Smiler Cocktail"
          ],
          [
           126,
           "Smiler Cocktail"
          ],
          [
           127,
           "Smiler Cocktail"
          ],
          [
           128,
           "Smile Cocktail"
          ],
          [
           129,
           "Smile Cocktail"
          ],
          [
           130,
           "Smile Cocktail"
          ],
          [
           131,
           "Amaretto Rose"
          ],
          [
           132,
           "Amaretto Rose"
          ],
          [
           133,
           "Amaretto Rose"
          ],
          [
           134,
           "Sand-Martin Cocktail"
          ],
          [
           135,
           "Sand-Martin Cocktail"
          ],
          [
           136,
           "Sand-Martin Cocktail"
          ],
          [
           137,
           "Irish Whiskey Highball"
          ],
          [
           138,
           "Irish Whiskey Highball"
          ],
          [
           139,
           "Irish Whiskey Highball"
          ],
          [
           140,
           "Japanese"
          ],
          [
           141,
           "Japanese"
          ],
          [
           142,
           "Japanese"
          ],
          [
           143,
           "Roselyn Cocktail"
          ],
          [
           144,
           "Roselyn Cocktail"
          ],
          [
           145,
           "Roselyn Cocktail"
          ],
          [
           146,
           "Resolute Cocktail"
          ],
          [
           147,
           "Resolute Cocktail"
          ],
          [
           148,
           "Resolute Cocktail"
          ],
          [
           149,
           "Racquet Club Cocktail"
          ],
          [
           150,
           "Racquet Club Cocktail"
          ],
          [
           151,
           "Racquet Club Cocktail"
          ],
          [
           152,
           "Amaretto And Cream"
          ],
          [
           153,
           "Amaretto And Cream"
          ],
          [
           154,
           "Pollyanna Cocktai"
          ],
          [
           155,
           "Pollyanna Cocktai"
          ],
          [
           156,
           "Pollyanna Cocktai"
          ],
          [
           157,
           "Pollyanna Cocktai"
          ],
          [
           158,
           "Pollyanna Cocktai"
          ],
          [
           159,
           "Plaza Cocktail"
          ],
          [
           160,
           "Plaza Cocktail"
          ],
          [
           161,
           "Plaza Cocktail"
          ],
          [
           162,
           "Irish Whiskey Cocktail"
          ],
          [
           163,
           "Irish Whiskey Cocktail"
          ],
          [
           164,
           "Irish Whiskey Cocktail"
          ],
          [
           165,
           "Irish Whiskey Cocktail"
          ],
          [
           166,
           "Irish Whiskey Cocktail"
          ],
          [
           167,
           "Irish Whiskey Cocktail"
          ],
          [
           168,
           "Absinthe Special Cocktail"
          ],
          [
           169,
           "Absinthe Special Cocktail"
          ],
          [
           170,
           "Absinthe Special Cocktail"
          ],
          [
           171,
           "Nineteenth Hole"
          ],
          [
           172,
           "Nineteenth Hole"
          ],
          [
           173,
           "Nineteenth Hole"
          ],
          [
           174,
           "Nineteenth Hole"
          ],
          [
           175,
           "Montreal Club Bouncer"
          ],
          [
           176,
           "Montreal Club Bouncer"
          ],
          [
           177,
           "Monte Carlo Imperial Highball"
          ],
          [
           178,
           "Monte Carlo Imperial Highball"
          ],
          [
           179,
           "Monte Carlo Imperial Highball"
          ],
          [
           180,
           "Irish Shillelagh"
          ],
          [
           181,
           "Irish Shillelagh"
          ],
          [
           182,
           "Irish Shillelagh"
          ],
          [
           183,
           "Irish Shillelagh"
          ],
          [
           184,
           "Irish Shillelagh"
          ],
          [
           185,
           "Irish Shillelagh"
          ],
          [
           186,
           "Melon Cocktail"
          ],
          [
           187,
           "Melon Cocktail"
          ],
          [
           188,
           "Melon Cocktail"
          ],
          [
           189,
           "Martini (Medium)"
          ],
          [
           190,
           "Martini (Medium)"
          ],
          [
           191,
           "Martini (Medium)"
          ],
          [
           192,
           "Martini (Dry) (5-to-1)"
          ],
          [
           193,
           "Martini (Dry) (5-to-1)"
          ],
          [
           194,
           "Mamie's Sister"
          ],
          [
           195,
           "Mamie's Sister"
          ],
          [
           196,
           "Irish Rickey"
          ],
          [
           197,
           "Irish Rickey"
          ],
          [
           198,
           "Irish Rickey"
          ],
          [
           199,
           "Irish Rickey"
          ],
          [
           200,
           "Maiden's Prayer"
          ],
          [
           201,
           "Maiden's Prayer"
          ],
          [
           202,
           "Maiden's Prayer"
          ],
          [
           203,
           "Lone Tree Cocktail"
          ],
          [
           204,
           "Lone Tree Cocktail"
          ],
          [
           205,
           "London Buck"
          ],
          [
           206,
           "London Buck"
          ],
          [
           207,
           "Leap Frog Highball"
          ],
          [
           208,
           "Leap Frog Highball"
          ],
          [
           209,
           "Incider Cocktail"
          ],
          [
           210,
           "Incider Cocktail"
          ],
          [
           211,
           "Incider Cocktail"
          ],
          [
           212,
           "Kup's Indispensable Cocktail"
          ],
          [
           213,
           "Kup's Indispensable Cocktail"
          ],
          [
           214,
           "Kup's Indispensable Cocktail"
          ],
          [
           215,
           "Kup's Indispensable Cocktail"
          ],
          [
           216,
           "Knock-Out Cocktail"
          ],
          [
           217,
           "Knock-Out Cocktail"
          ],
          [
           218,
           "Knock-Out Cocktail"
          ],
          [
           219,
           "Knock-Out Cocktail"
          ],
          [
           220,
           "K. G. B. Cocktail"
          ],
          [
           221,
           "K. G. B. Cocktail"
          ],
          [
           222,
           "K. G. B. Cocktail"
          ],
          [
           223,
           "K. G. B. Cocktail"
          ],
          [
           224,
           "Imperial Fizz"
          ],
          [
           225,
           "Imperial Fizz"
          ],
          [
           226,
           "Imperial Fizz"
          ],
          [
           227,
           "Imperial Fizz"
          ],
          [
           228,
           "Imperial Fizz"
          ],
          [
           229,
           "Jeyplak Cocktail"
          ],
          [
           230,
           "Jeyplak Cocktail"
          ],
          [
           231,
           "Jeyplak Cocktail"
          ],
          [
           232,
           "H. P. W. Cocktail"
          ],
          [
           233,
           "H. P. W. Cocktail"
          ],
          [
           234,
           "H. P. W. Cocktail"
          ],
          [
           235,
           "I.A.P."
          ],
          [
           236,
           "I.A.P."
          ],
          [
           237,
           "I.A.P."
          ],
          [
           238,
           "Hotel Plaza Cocktail"
          ],
          [
           239,
           "Hotel Plaza Cocktail"
          ],
          [
           240,
           "Hotel Plaza Cocktail"
          ],
          [
           241,
           "Hoffman House Cocktail"
          ],
          [
           242,
           "Hoffman House Cocktail"
          ],
          [
           243,
           "Hawaiin Cocktail"
          ],
          [
           244,
           "Hawaiin Cocktail"
          ],
          [
           245,
           "Hawaiin Cocktail"
          ],
          [
           246,
           "White Russian"
          ],
          [
           247,
           "White Russian"
          ],
          [
           248,
           "Greyhound"
          ],
          [
           249,
           "Greyhound"
          ],
          [
           250,
           "Green Devil"
          ],
          [
           251,
           "Green Devil"
          ],
          [
           252,
           "Green Devil"
          ],
          [
           253,
           "Greenback"
          ],
          [
           254,
           "Greenback"
          ],
          [
           255,
           "Greenback"
          ],
          [
           256,
           "Grapefruit Cocktail"
          ],
          [
           257,
           "Grapefruit Cocktail"
          ],
          [
           258,
           "Grapefruit Cocktail"
          ],
          [
           259,
           "Hotel D'alsace"
          ],
          [
           260,
           "Hotel D'alsace"
          ],
          [
           261,
           "Hotel D'alsace"
          ],
          [
           262,
           "Hotel D'alsace"
          ],
          [
           263,
           "Jamaica Granito"
          ],
          [
           264,
           "Jamaica Granito"
          ],
          [
           265,
           "Jamaica Granito"
          ],
          [
           266,
           "Gin Sling"
          ],
          [
           267,
           "Gin Sling"
          ],
          [
           268,
           "Gin Sling"
          ],
          [
           269,
           "Gin Sling"
          ],
          [
           270,
           "Gin Milk Punch"
          ],
          [
           271,
           "Gin Milk Punch"
          ],
          [
           272,
           "Gin Milk Punch"
          ],
          [
           273,
           "Horse's Neck (With A Kick)"
          ],
          [
           274,
           "Horse's Neck (With A Kick)"
          ],
          [
           275,
           "Horse's Neck (With A Kick)"
          ],
          [
           276,
           "Gin and It"
          ],
          [
           277,
           "Gin and It"
          ],
          [
           278,
           "Gin Cocktail"
          ],
          [
           279,
           "Gin Cocktail"
          ],
          [
           280,
           "West Side"
          ],
          [
           281,
           "West Side"
          ],
          [
           282,
           "West Side"
          ],
          [
           283,
           "West Side"
          ],
          [
           284,
           "Gimlet"
          ],
          [
           285,
           "Gimlet"
          ],
          [
           286,
           "Gimlet"
          ],
          [
           287,
           "Free Silver"
          ],
          [
           288,
           "Free Silver"
          ],
          [
           289,
           "Free Silver"
          ],
          [
           290,
           "Free Silver"
          ],
          [
           291,
           "Free Silver"
          ],
          [
           292,
           "Frankenjack Cocktail"
          ],
          [
           293,
           "Frankenjack Cocktail"
          ],
          [
           294,
           "Frankenjack Cocktail"
          ],
          [
           295,
           "Frankenjack Cocktail"
          ],
          [
           296,
           "Frankenjack Cocktail"
          ],
          [
           297,
           "Frankenjack Cocktail"
          ],
          [
           298,
           "Fog Horn"
          ],
          [
           299,
           "Fog Horn"
          ],
          [
           300,
           "Fog Horn"
          ],
          [
           301,
           "Fog Horn"
          ],
          [
           302,
           "Flying Dutchman"
          ],
          [
           303,
           "Flying Dutchman"
          ],
          [
           304,
           "Hoot Mon Cocktail"
          ],
          [
           305,
           "Hoot Mon Cocktail"
          ],
          [
           306,
           "Hoot Mon Cocktail"
          ],
          [
           307,
           "Fifty-Fifty Cocktail"
          ],
          [
           308,
           "Fifty-Fifty Cocktail"
          ],
          [
           309,
           "Favorite Cocktail"
          ],
          [
           310,
           "Favorite Cocktail"
          ],
          [
           311,
           "Favorite Cocktail"
          ],
          [
           312,
           "Favorite Cocktail"
          ],
          [
           313,
           "Farmer's Cocktail"
          ],
          [
           314,
           "Farmer's Cocktail"
          ],
          [
           315,
           "Farmer's Cocktail"
          ],
          [
           316,
           "Farmer's Cocktail"
          ],
          [
           317,
           "Warsaw Cocktail"
          ],
          [
           318,
           "Warsaw Cocktail"
          ],
          [
           319,
           "Warsaw Cocktail"
          ],
          [
           320,
           "Warsaw Cocktail"
          ],
          [
           321,
           "Emerald Isle Cocktail"
          ],
          [
           322,
           "Emerald Isle Cocktail"
          ],
          [
           323,
           "Emerald Isle Cocktail"
          ],
          [
           324,
           "Du Barry Cocktail"
          ],
          [
           325,
           "Du Barry Cocktail"
          ],
          [
           326,
           "Du Barry Cocktail"
          ],
          [
           327,
           "Du Barry Cocktail"
          ],
          [
           328,
           "Dry Martini (5-to-1)"
          ],
          [
           329,
           "Dry Martini (5-to-1)"
          ],
          [
           330,
           "Dixie Cocktail"
          ],
          [
           331,
           "Dixie Cocktail"
          ],
          [
           332,
           "Dixie Cocktail"
          ],
          [
           333,
           "Dixie Cocktail"
          ],
          [
           334,
           "Delmonico No. 2"
          ],
          [
           335,
           "Delmonico No. 2"
          ],
          [
           336,
           "Delmonico No. 2"
          ],
          [
           337,
           "Hole-In-One"
          ],
          [
           338,
           "Hole-In-One"
          ],
          [
           339,
           "Hole-In-One"
          ],
          [
           340,
           "Hole-In-One"
          ],
          [
           341,
           "Vodka Stinger"
          ],
          [
           342,
           "Vodka Stinger"
          ],
          [
           343,
           "Caruso"
          ],
          [
           344,
           "Caruso"
          ],
          [
           345,
           "Caruso"
          ],
          [
           346,
           "Bulldog Highball"
          ],
          [
           347,
           "Bulldog Highball"
          ],
          [
           348,
           "Brown Cocktail"
          ],
          [
           349,
           "Brown Cocktail"
          ],
          [
           350,
           "Brown Cocktail"
          ],
          [
           351,
           "Bronx Terrace Cocktail"
          ],
          [
           352,
           "Bronx Terrace Cocktail"
          ],
          [
           353,
           "Bronx Terrace Cocktail"
          ],
          [
           354,
           "Bronx Cocktail (Dry)"
          ],
          [
           355,
           "Bronx Cocktail (Dry)"
          ],
          [
           356,
           "Bronx Cocktail (Dry)"
          ],
          [
           357,
           "Hill Dog"
          ],
          [
           358,
           "Hill Dog"
          ],
          [
           359,
           "Hill Dog"
          ],
          [
           360,
           "Hill Dog"
          ],
          [
           361,
           "Blue Devil Cocktail"
          ],
          [
           362,
           "Blue Devil Cocktail"
          ],
          [
           363,
           "Blue Devil Cocktail"
          ],
          [
           364,
           "Blue Devil Cocktail"
          ],
          [
           365,
           "Blue Canary"
          ],
          [
           366,
           "Blue Canary"
          ],
          [
           367,
           "Blue Canary"
          ],
          [
           368,
           "Blue Bird"
          ],
          [
           369,
           "Blue Bird"
          ],
          [
           370,
           "Blue Bird"
          ],
          [
           371,
           "Bloodhound Cocktail"
          ],
          [
           372,
           "Bloodhound Cocktail"
          ],
          [
           373,
           "Bloodhound Cocktail"
          ],
          [
           374,
           "Billy Taylor"
          ],
          [
           375,
           "Billy Taylor"
          ],
          [
           376,
           "Bijou Cocktail"
          ],
          [
           377,
           "Bijou Cocktail"
          ],
          [
           378,
           "Bijou Cocktail"
          ],
          [
           379,
           "Bijou Cocktail"
          ],
          [
           380,
           "Bermuda Rose"
          ],
          [
           381,
           "Bermuda Rose"
          ],
          [
           382,
           "Bermuda Rose"
          ],
          [
           383,
           "Vodka Sour"
          ],
          [
           384,
           "Vodka Sour"
          ],
          [
           385,
           "Vodka Sour"
          ],
          [
           386,
           "Vodka Sour"
          ],
          [
           387,
           "Apricot Anisette Collins"
          ],
          [
           388,
           "Apricot Anisette Collins"
          ],
          [
           389,
           "Apricot Anisette Collins"
          ],
          [
           390,
           "Apricot Anisette Collins"
          ],
          [
           391,
           "Alexander's Sister Cocktail"
          ],
          [
           392,
           "Alexander's Sister Cocktail"
          ],
          [
           393,
           "Alexander's Sister Cocktail"
          ],
          [
           394,
           "Highland Cooler"
          ],
          [
           395,
           "Highland Cooler"
          ],
          [
           396,
           "Alexander Cocktail No. 1"
          ],
          [
           397,
           "Alexander Cocktail No. 1"
          ],
          [
           398,
           "Alexander Cocktail No. 1"
          ],
          [
           399,
           "Adam and Eve"
          ],
          [
           400,
           "Adam and Eve"
          ],
          [
           401,
           "Adam and Eve"
          ],
          [
           402,
           "Adam and Eve"
          ],
          [
           403,
           "Vodka Sling"
          ],
          [
           404,
           "Vodka Sling"
          ],
          [
           405,
           "Vodka Sling"
          ],
          [
           406,
           "Jack Rose Cocktail"
          ],
          [
           407,
           "Jack Rose Cocktail"
          ],
          [
           408,
           "Jack Rose Cocktail"
          ],
          [
           409,
           "Tempter Cocktail"
          ],
          [
           410,
           "Tempter Cocktail"
          ],
          [
           411,
           "Special Rough Cocktail"
          ],
          [
           412,
           "Special Rough Cocktail"
          ],
          [
           413,
           "Special Rough Cocktail"
          ],
          [
           414,
           "Vodka Grasshopper"
          ],
          [
           415,
           "Vodka Grasshopper"
          ],
          [
           416,
           "Vodka Grasshopper"
          ],
          [
           417,
           "Vodka Grasshopper"
          ],
          [
           418,
           "Singapore Sling"
          ],
          [
           419,
           "Singapore Sling"
          ],
          [
           420,
           "Singapore Sling"
          ],
          [
           421,
           "Singapore Sling"
          ],
          [
           422,
           "Saratoga Cocktail"
          ],
          [
           423,
           "Saratoga Cocktail"
          ],
          [
           424,
           "Saratoga Cocktail"
          ],
          [
           425,
           "Saratoga Cocktail"
          ],
          [
           426,
           "Saratoga Cocktail"
          ],
          [
           427,
           "High Cotton"
          ],
          [
           428,
           "High Cotton"
          ],
          [
           429,
           "High Cotton"
          ],
          [
           430,
           "High Cotton"
          ],
          [
           431,
           "Polonaise"
          ],
          [
           432,
           "Polonaise"
          ],
          [
           433,
           "Polonaise"
          ],
          [
           434,
           "Polonaise"
          ],
          [
           435,
           "Vodka Gimlet"
          ],
          [
           436,
           "Vodka Gimlet"
          ],
          [
           437,
           "Vodka Gimlet"
          ],
          [
           438,
           "Merry Widow Cocktail No. 2"
          ],
          [
           439,
           "Merry Widow Cocktail No. 2"
          ],
          [
           440,
           "Lugger"
          ],
          [
           441,
           "Lugger"
          ],
          [
           442,
           "Lugger"
          ],
          [
           443,
           "Jamaica Hop"
          ],
          [
           444,
           "Jamaica Hop"
          ],
          [
           445,
           "Jamaica Hop"
          ],
          [
           446,
           "Hebrides"
          ],
          [
           447,
           "Hebrides"
          ],
          [
           448,
           "Hebrides"
          ],
          [
           449,
           "Hebrides"
          ],
          [
           450,
           "Hebrides"
          ],
          [
           451,
           "Hebrides"
          ],
          [
           452,
           "Hennessy Martini"
          ],
          [
           453,
           "Hennessy Martini"
          ],
          [
           454,
           "Vodka Daisy"
          ],
          [
           455,
           "Vodka Daisy"
          ],
          [
           456,
           "Vodka Daisy"
          ],
          [
           457,
           "Vodka Daisy"
          ],
          [
           458,
           "Heavenly Dram"
          ],
          [
           459,
           "Heavenly Dram"
          ],
          [
           460,
           "Heavenly Dram"
          ],
          [
           461,
           "Heavenly Dram"
          ],
          [
           462,
           "Classic Cocktail"
          ],
          [
           463,
           "Classic Cocktail"
          ],
          [
           464,
           "Classic Cocktail"
          ],
          [
           465,
           "Classic Cocktail"
          ],
          [
           466,
           "Cherry Sling"
          ],
          [
           467,
           "Cherry Sling"
          ],
          [
           468,
           "Cherry Fizz"
          ],
          [
           469,
           "Cherry Fizz"
          ],
          [
           470,
           "Vodka Cooler"
          ],
          [
           471,
           "Vodka Cooler"
          ],
          [
           472,
           "Carrol Cocktail"
          ],
          [
           473,
           "Carrol Cocktail"
          ],
          [
           474,
           "Button Hook Cocktail"
          ],
          [
           475,
           "Button Hook Cocktail"
          ],
          [
           476,
           "Button Hook Cocktail"
          ],
          [
           477,
           "Button Hook Cocktail"
          ],
          [
           478,
           "Bull's Eye"
          ],
          [
           479,
           "Bull's Eye"
          ],
          [
           480,
           "Brantini"
          ],
          [
           481,
           "Brantini"
          ],
          [
           482,
           "Brantini"
          ],
          [
           483,
           "Heather's Kiss"
          ],
          [
           484,
           "Heather's Kiss"
          ],
          [
           485,
           "Heather's Kiss"
          ],
          [
           486,
           "Heather's Kiss"
          ],
          [
           487,
           "Brandy Squirt"
          ],
          [
           488,
           "Brandy Squirt"
          ],
          [
           489,
           "Brandy Squirt"
          ],
          [
           490,
           "Brandy and Soda"
          ],
          [
           491,
           "Brandy Milk Punch"
          ],
          [
           492,
           "Brandy Milk Punch"
          ],
          [
           493,
           "Brandy Milk Punch"
          ],
          [
           494,
           "Vodka Collins"
          ],
          [
           495,
           "Vodka Collins"
          ],
          [
           496,
           "Vodka Collins"
          ],
          [
           497,
           "Brandy Crusta Cocktail"
          ],
          [
           498,
           "Brandy Crusta Cocktail"
          ],
          [
           499,
           "Brandy Crusta Cocktail"
          ],
          [
           500,
           "Brandy Crusta Cocktail"
          ],
          [
           501,
           "Brandy Crusta Cocktail"
          ],
          [
           502,
           "Heather Blush"
          ],
          [
           503,
           "Heather Blush"
          ],
          [
           504,
           "Heather Blush"
          ],
          [
           505,
           "Jack Maples"
          ],
          [
           506,
           "Jack Maples"
          ],
          [
           507,
           "Jack Maples"
          ],
          [
           508,
           "Brandy Alexander"
          ],
          [
           509,
           "Brandy Alexander"
          ],
          [
           510,
           "Brandy Alexander"
          ],
          [
           511,
           "Vodka and Tonic"
          ],
          [
           512,
           "Apricot Cocktail"
          ],
          [
           513,
           "Apricot Cocktail"
          ],
          [
           514,
           "Apricot Cocktail"
          ],
          [
           515,
           "Apricot Cocktail"
          ],
          [
           516,
           "Alexander Cocktail No. 2"
          ],
          [
           517,
           "Alexander Cocktail No. 2"
          ],
          [
           518,
           "Alexander Cocktail No. 2"
          ],
          [
           519,
           "After Dinner Cocktail"
          ],
          [
           520,
           "After Dinner Cocktail"
          ],
          [
           521,
           "After Dinner Cocktail"
          ],
          [
           522,
           "Harvest Moon"
          ],
          [
           523,
           "Harvest Moon"
          ],
          [
           524,
           "Harvest Moon"
          ],
          [
           525,
           "Harvest Moon"
          ],
          [
           526,
           "Harvest Moon"
          ],
          [
           527,
           "Red Raider"
          ],
          [
           528,
           "Red Raider"
          ],
          [
           529,
           "Red Raider"
          ],
          [
           530,
           "Red Raider"
          ],
          [
           531,
           "Vodka and Apple Juice"
          ],
          [
           532,
           "Mint Julep (Southern Style)"
          ],
          [
           533,
           "Mint Julep (Southern Style)"
          ],
          [
           534,
           "Mint Julep (Southern Style)"
          ],
          [
           535,
           "Mint Julep (Southern Style)"
          ],
          [
           536,
           "Limestone"
          ],
          [
           537,
           "Grounds For Divorce"
          ],
          [
           538,
           "Grounds For Divorce"
          ],
          [
           539,
           "Grounds For Divorce"
          ],
          [
           540,
           "Grounds For Divorce"
          ],
          [
           541,
           "Gentleman's Cocktail"
          ],
          [
           542,
           "Gentleman's Cocktail"
          ],
          [
           543,
           "Gentleman's Cocktail"
          ],
          [
           544,
           "Dixie Julep"
          ],
          [
           545,
           "Dixie Julep"
          ],
          [
           546,
           "Victory Collins"
          ],
          [
           547,
           "Victory Collins"
          ],
          [
           548,
           "Victory Collins"
          ],
          [
           549,
           "Victory Collins"
          ],
          [
           550,
           "Buddy's Favorite"
          ],
          [
           551,
           "Buddy's Favorite"
          ],
          [
           552,
           "Bourbon On The Rocks"
          ],
          [
           553,
           "Bourbon Cobbler"
          ],
          [
           554,
           "Bourbon Cobbler"
          ],
          [
           555,
           "Bourbon Cobbler"
          ],
          [
           556,
           "Bourbon Cobbler"
          ],
          [
           557,
           "Bourbon and Water"
          ],
          [
           558,
           "Bourbon and Water"
          ],
          [
           559,
           "Greenpoint"
          ],
          [
           560,
           "Greenpoint"
          ],
          [
           561,
           "Greenpoint"
          ],
          [
           562,
           "Greenpoint"
          ],
          [
           563,
           "Greenpoint"
          ],
          [
           564,
           "Yellowjacket"
          ],
          [
           565,
           "Yellowjacket"
          ],
          [
           566,
           "Yellowjacket"
          ],
          [
           567,
           "Velvet Peach Hammer"
          ],
          [
           568,
           "Velvet Peach Hammer"
          ],
          [
           569,
           "Velvet Peach Hammer"
          ],
          [
           570,
           "Velvet Peach Hammer"
          ],
          [
           571,
           "Grandfather"
          ],
          [
           572,
           "Grandfather"
          ],
          [
           573,
           "Grandfather"
          ],
          [
           574,
           "Grandfather"
          ],
          [
           575,
           "Grandfather"
          ],
          [
           576,
           "Goldrush"
          ],
          [
           577,
           "Goldrush"
          ],
          [
           578,
           "Goldrush"
          ],
          [
           579,
           "Sake Martini"
          ],
          [
           580,
           "Sake Martini"
          ],
          [
           581,
           "Godfather"
          ],
          [
           582,
           "Godfather"
          ],
          [
           583,
           "Jack-In-The-Box"
          ],
          [
           584,
           "Jack-In-The-Box"
          ],
          [
           585,
           "Jack-In-The-Box"
          ],
          [
           586,
           "Saronno"
          ],
          [
           587,
           "Saronno"
          ],
          [
           588,
           "Saronno"
          ],
          [
           589,
           "Saronno Colada (Nutty Colada)"
          ],
          [
           590,
           "Saronno Colada (Nutty Colada)"
          ],
          [
           591,
           "Saronno Colada (Nutty Colada)"
          ],
          [
           592,
           "Saronno Mist"
          ],
          [
           593,
           "Saronno Rose"
          ],
          [
           594,
           "Saronno Rose"
          ],
          [
           595,
           "Saronno Rose"
          ],
          [
           596,
           "Gilchrist"
          ],
          [
           597,
           "Gilchrist"
          ],
          [
           598,
           "Gilchrist"
          ],
          [
           599,
           "Gilchrist"
          ],
          [
           600,
           "Gilchrist"
          ],
          [
           601,
           "Frisco Sour"
          ],
          [
           602,
           "Frisco Sour"
          ],
          [
           603,
           "Frisco Sour"
          ],
          [
           604,
           "Frisco Sour"
          ],
          [
           605,
           "Frisco Sour"
          ],
          [
           606,
           "Fratelli Cocktail"
          ],
          [
           607,
           "Fratelli Cocktail"
          ],
          [
           608,
           "Fratelli Cocktail"
          ],
          [
           609,
           "Fratelli Cocktail"
          ],
          [
           610,
           "Francis The Mule"
          ],
          [
           611,
           "Francis The Mule"
          ],
          [
           612,
           "Francis The Mule"
          ],
          [
           613,
           "Francis The Mule"
          ],
          [
           614,
           "Francis The Mule"
          ],
          [
           615,
           "Fox River Cocktail"
          ],
          [
           616,
           "Fox River Cocktail"
          ],
          [
           617,
           "Fox River Cocktail"
          ],
          [
           618,
           "Flying Scotchman"
          ],
          [
           619,
           "Flying Scotchman"
          ],
          [
           620,
           "Flying Scotchman"
          ],
          [
           621,
           "Flying Scotchman"
          ],
          [
           622,
           "The Final Ward"
          ],
          [
           623,
           "The Final Ward"
          ],
          [
           624,
           "The Final Ward"
          ],
          [
           625,
           "The Final Ward"
          ],
          [
           626,
           "Martini"
          ],
          [
           627,
           "Martini"
          ],
          [
           628,
           "Fancy Whiskey"
          ],
          [
           629,
           "Fancy Whiskey"
          ],
          [
           630,
           "Fancy Whiskey"
          ],
          [
           631,
           "Fancy Whiskey"
          ],
          [
           632,
           "Fancy Whiskey"
          ],
          [
           633,
           "Mandarine Sour"
          ],
          [
           634,
           "Mandarine Sour"
          ],
          [
           635,
           "Mandarine Mist"
          ],
          [
           636,
           "Underneath The Mango Tree"
          ],
          [
           637,
           "Underneath The Mango Tree"
          ],
          [
           638,
           "Underneath The Mango Tree"
          ],
          [
           639,
           "Underneath The Mango Tree"
          ],
          [
           640,
           "Underneath The Mango Tree"
          ],
          [
           641,
           "Underneath The Mango Tree"
          ],
          [
           642,
           "Fancy-Free Cocktail"
          ],
          [
           643,
           "Fancy-Free Cocktail"
          ],
          [
           644,
           "Fancy-Free Cocktail"
          ],
          [
           645,
           "Fancy-Free Cocktail"
          ],
          [
           646,
           "Honeymoon Cocktail"
          ],
          [
           647,
           "Honeymoon Cocktail"
          ],
          [
           648,
           "Honeymoon Cocktail"
          ],
          [
           649,
           "Honeymoon Cocktail"
          ],
          [
           650,
           "Twister"
          ],
          [
           651,
           "Twister"
          ],
          [
           652,
           "Everybody's Irish Cocktail"
          ],
          [
           653,
           "Everybody's Irish Cocktail"
          ],
          [
           654,
           "Everybody's Irish Cocktail"
          ],
          [
           655,
           "Everybody's Irish Cocktail"
          ],
          [
           656,
           "Trident"
          ],
          [
           657,
           "Trident"
          ],
          [
           658,
           "Trident"
          ],
          [
           659,
           "Trident"
          ],
          [
           660,
           "Top Banana"
          ],
          [
           661,
           "Top Banana"
          ],
          [
           662,
           "Top Banana"
          ],
          [
           663,
           "Emperor Norton's Mistress"
          ],
          [
           664,
           "Emperor Norton's Mistress"
          ],
          [
           665,
           "Emperor Norton's Mistress"
          ],
          [
           666,
           "Emperor Norton's Mistress"
          ],
          [
           667,
           "Easterner"
          ],
          [
           668,
           "Easterner"
          ],
          [
           669,
           "Easterner"
          ],
          [
           670,
           "Toasted Drop"
          ],
          [
           671,
           "Toasted Drop"
          ],
          [
           672,
           "Toasted Drop"
          ],
          [
           673,
           "Toasted Drop"
          ],
          [
           674,
           "Toasted Drop"
          ],
          [
           675,
           "Toasted Drop"
          ],
          [
           676,
           "Eastern Sour"
          ],
          [
           677,
           "Eastern Sour"
          ],
          [
           678,
           "Eastern Sour"
          ],
          [
           679,
           "Eastern Sour"
          ],
          [
           680,
           "Eastern Sour"
          ],
          [
           681,
           "K. C. B. Cocktail"
          ],
          [
           682,
           "K. C. B. Cocktail"
          ],
          [
           683,
           "K. C. B. Cocktail"
          ],
          [
           684,
           "K. C. B. Cocktail"
          ],
          [
           685,
           "Easter Elchies"
          ],
          [
           686,
           "Easter Elchies"
          ],
          [
           687,
           "Easter Elchies"
          ],
          [
           688,
           "Easter Elchies"
          ],
          [
           689,
           "Dufftown Flip"
          ],
          [
           690,
           "Dufftown Flip"
          ],
          [
           691,
           "Dufftown Flip"
          ],
          [
           692,
           "Dufftown Flip"
          ],
          [
           693,
           "Dufftown Flip"
          ],
          [
           694,
           "Harvard Cooler"
          ],
          [
           695,
           "Harvard Cooler"
          ],
          [
           696,
           "The Duboudreau Cocktail"
          ],
          [
           697,
           "The Duboudreau Cocktail"
          ],
          [
           698,
           "The Duboudreau Cocktail"
          ],
          [
           699,
           "The Duboudreau Cocktail"
          ],
          [
           700,
           "Irish Whisky"
          ],
          [
           701,
           "Irish Whisky"
          ],
          [
           702,
           "Irish Whisky"
          ],
          [
           703,
           "Irish Whisky"
          ],
          [
           704,
           "Irish Whisky"
          ],
          [
           705,
           "Dubliner"
          ],
          [
           706,
           "Dubliner"
          ],
          [
           707,
           "Dubliner"
          ],
          [
           708,
           "Dubliner"
          ],
          [
           709,
           "Double Standard Sour"
          ],
          [
           710,
           "Double Standard Sour"
          ],
          [
           711,
           "Double Standard Sour"
          ],
          [
           712,
           "Double Standard Sour"
          ],
          [
           713,
           "Double Standard Sour"
          ],
          [
           714,
           "Double Standard Sour"
          ],
          [
           715,
           "Dixie Whiskey Cocktail"
          ],
          [
           716,
           "Dixie Whiskey Cocktail"
          ],
          [
           717,
           "Dixie Whiskey Cocktail"
          ],
          [
           718,
           "Dixie Whiskey Cocktail"
          ],
          [
           719,
           "Dixie Whiskey Cocktail"
          ],
          [
           720,
           "Hill Billy Highball"
          ],
          [
           721,
           "The Titian"
          ],
          [
           722,
           "The Titian"
          ],
          [
           723,
           "The Titian"
          ],
          [
           724,
           "The Titian"
          ],
          [
           725,
           "The Titian"
          ],
          [
           726,
           "Tiger Tanaka"
          ],
          [
           727,
           "Tiger Tanaka"
          ],
          [
           728,
           "Tiger Tanaka"
          ],
          [
           729,
           "Tiger Tanaka"
          ],
          [
           730,
           "Tiger Tanaka"
          ],
          [
           731,
           "Grenadine Rickey"
          ],
          [
           732,
           "Grenadine Rickey"
          ],
          [
           733,
           "Thyme Collins"
          ],
          [
           734,
           "Thyme Collins"
          ],
          [
           735,
           "Thyme Collins"
          ],
          [
           736,
           "Thyme Collins"
          ],
          [
           737,
           "Thyme Collins"
          ],
          [
           738,
           "Thyme Collins"
          ],
          [
           739,
           "Tabby Cat"
          ],
          [
           740,
           "Tabby Cat"
          ],
          [
           741,
           "Tabby Cat"
          ],
          [
           742,
           "God Child"
          ],
          [
           743,
           "God Child"
          ],
          [
           744,
           "God Child"
          ],
          [
           745,
           "Sweet Maria"
          ],
          [
           746,
           "Sweet Maria"
          ],
          [
           747,
           "Sweet Maria"
          ],
          [
           748,
           "Dirty Harry"
          ],
          [
           749,
           "Dirty Harry"
          ],
          [
           750,
           "Dirty Harry"
          ],
          [
           751,
           "Dirty Harry"
          ],
          [
           752,
           "Harvard Cocktail"
          ],
          [
           753,
           "Harvard Cocktail"
          ],
          [
           754,
           "Harvard Cocktail"
          ],
          [
           755,
           "Harvard Cocktail"
          ],
          [
           756,
           "Harvard Cocktail"
          ],
          [
           757,
           "Gin and Milk Punch"
          ],
          [
           758,
           "Gin and Milk Punch"
          ],
          [
           759,
           "Gin and Milk Punch"
          ],
          [
           760,
           "Surf Rider"
          ],
          [
           761,
           "Surf Rider"
          ],
          [
           762,
           "Surf Rider"
          ],
          [
           763,
           "Surf Rider"
          ],
          [
           764,
           "Surf Rider"
          ],
          [
           765,
           "Dinah Cocktail"
          ],
          [
           766,
           "Dinah Cocktail"
          ],
          [
           767,
           "Dinah Cocktail"
          ],
          [
           768,
           "Tea Saronno"
          ],
          [
           769,
           "Tea Saronno"
          ],
          [
           770,
           "Tea Saronno"
          ],
          [
           771,
           "The Summer Of Love"
          ],
          [
           772,
           "The Summer Of Love"
          ],
          [
           773,
           "The Summer Of Love"
          ],
          [
           774,
           "The Summer Of Love"
          ],
          [
           775,
           "Devil's Soul"
          ],
          [
           776,
           "Devil's Soul"
          ],
          [
           777,
           "Devil's Soul"
          ],
          [
           778,
           "Devil's Soul"
          ],
          [
           779,
           "Devil's Soul"
          ],
          [
           780,
           "Deshler"
          ],
          [
           781,
           "Deshler"
          ],
          [
           782,
           "Deshler"
          ],
          [
           783,
           "Deshler"
          ],
          [
           784,
           "T.N.T. No. 1"
          ],
          [
           785,
           "T.N.T. No. 1"
          ],
          [
           786,
           "Stupid Cupid"
          ],
          [
           787,
           "Stupid Cupid"
          ],
          [
           788,
           "Stupid Cupid"
          ],
          [
           789,
           "Stupid Cupid"
          ],
          [
           790,
           "Derby"
          ],
          [
           791,
           "Derby"
          ],
          [
           792,
           "Derby"
          ],
          [
           793,
           "Stockholm 75"
          ],
          [
           794,
           "Stockholm 75"
          ],
          [
           795,
           "Stockholm 75"
          ],
          [
           796,
           "Stockholm 75"
          ],
          [
           797,
           "Stockholm 75"
          ],
          [
           798,
           "The Delmarva Cocktail"
          ],
          [
           799,
           "The Delmarva Cocktail"
          ],
          [
           800,
           "The Delmarva Cocktail"
          ],
          [
           801,
           "The Delmarva Cocktail"
          ],
          [
           802,
           "Sputnik"
          ],
          [
           803,
           "Sputnik"
          ],
          [
           804,
           "Sputnik"
          ],
          [
           805,
           "Sputnik"
          ],
          [
           806,
           "Gotham"
          ],
          [
           807,
           "Gotham"
          ],
          [
           808,
           "Gotham"
          ],
          [
           809,
           "De La Louisiane"
          ],
          [
           810,
           "De La Louisiane"
          ],
          [
           811,
           "De La Louisiane"
          ],
          [
           812,
           "De La Louisiane"
          ],
          [
           813,
           "De La Louisiane"
          ],
          [
           814,
           "The Debonair"
          ],
          [
           815,
           "The Debonair"
          ],
          [
           816,
           "Soviet"
          ],
          [
           817,
           "Soviet"
          ],
          [
           818,
           "Soviet"
          ],
          [
           819,
           "Daisy Dueller"
          ],
          [
           820,
           "Daisy Dueller"
          ],
          [
           821,
           "Daisy Dueller"
          ],
          [
           822,
           "Daisy Dueller"
          ],
          [
           823,
           "Sonic Blaster"
          ],
          [
           824,
           "Sonic Blaster"
          ],
          [
           825,
           "Sonic Blaster"
          ],
          [
           826,
           "Sonic Blaster"
          ],
          [
           827,
           "Sonic Blaster"
          ],
          [
           828,
           "Sonic Blaster"
          ],
          [
           829,
           "Creole Lady"
          ],
          [
           830,
           "Creole Lady"
          ],
          [
           831,
           "Creole Lady"
          ],
          [
           832,
           "Rum Coooler"
          ],
          [
           833,
           "Rum Coooler"
          ],
          [
           834,
           "Rum Coooler"
          ],
          [
           835,
           "Siberian Sleighride"
          ],
          [
           836,
           "Siberian Sleighride"
          ],
          [
           837,
           "Siberian Sleighride"
          ],
          [
           838,
           "Siberian Sleighride"
          ],
          [
           839,
           "Cotton Club Flip"
          ],
          [
           840,
           "Cotton Club Flip"
          ],
          [
           841,
           "Cotton Club Flip"
          ],
          [
           842,
           "Cotton Club Flip"
          ],
          [
           843,
           "Cotton Club Flip"
          ],
          [
           844,
           "Golden Dawn"
          ],
          [
           845,
           "Golden Dawn"
          ],
          [
           846,
           "Golden Dawn"
          ],
          [
           847,
           "Golden Dawn"
          ],
          [
           848,
           "Golden Dawn"
          ],
          [
           849,
           "Sidecar"
          ],
          [
           850,
           "Sidecar"
          ],
          [
           851,
           "Sidecar"
          ],
          [
           852,
           "Sidecar"
          ],
          [
           853,
           "Sidecar"
          ],
          [
           854,
           "Sidecar"
          ],
          [
           855,
           "Shalom"
          ],
          [
           856,
           "Shalom"
          ],
          [
           857,
           "Shalom"
          ],
          [
           858,
           "Shalom"
          ],
          [
           859,
           "Shalom"
          ],
          [
           860,
           "Shalom"
          ],
          [
           861,
           "Commodore Cocktail"
          ],
          [
           862,
           "Commodore Cocktail"
          ],
          [
           863,
           "Commodore Cocktail"
          ],
          [
           864,
           "Commodore Cocktail"
          ],
          [
           865,
           "Sea Breeze"
          ],
          [
           866,
           "Sea Breeze"
          ],
          [
           867,
           "Sea Breeze"
          ],
          [
           868,
           "Screwdriver"
          ],
          [
           869,
           "Screwdriver"
          ],
          [
           870,
           "Coffee Old-Fashioned"
          ],
          [
           871,
           "Coffee Old-Fashioned"
          ],
          [
           872,
           "Coffee Old-Fashioned"
          ],
          [
           873,
           "Coffee Old-Fashioned"
          ],
          [
           874,
           "Coffee Old-Fashioned"
          ],
          [
           875,
           "Dry Martini"
          ],
          [
           876,
           "Dry Martini"
          ],
          [
           877,
           "Salty Dog"
          ],
          [
           878,
           "Salty Dog"
          ],
          [
           879,
           "Salty Dog"
          ],
          [
           880,
           "Dr. Cook"
          ],
          [
           881,
           "Dr. Cook"
          ],
          [
           882,
           "Dr. Cook"
          ],
          [
           883,
           "Dr. Cook"
          ],
          [
           884,
           "Dillatini Cocktail"
          ],
          [
           885,
           "Dillatini Cocktail"
          ],
          [
           886,
           "Chi-Town Flip"
          ],
          [
           887,
           "Chi-Town Flip"
          ],
          [
           888,
           "Chi-Town Flip"
          ],
          [
           889,
           "Chi-Town Flip"
          ],
          [
           890,
           "Chi-Town Flip"
          ],
          [
           891,
           "Chi-Town Flip"
          ],
          [
           892,
           "Chef's Pain"
          ],
          [
           893,
           "Chef's Pain"
          ],
          [
           894,
           "Chef's Pain"
          ],
          [
           895,
           "Chef's Pain"
          ],
          [
           896,
           "Sampan Shipwreck A"
          ],
          [
           897,
           "Sampan Shipwreck A"
          ],
          [
           898,
           "Sampan Shipwreck A"
          ],
          [
           899,
           "Sampan Shipwreck A"
          ],
          [
           900,
           "Sampan Shipwreck A"
          ],
          [
           901,
           "Chas"
          ],
          [
           902,
           "Chas"
          ],
          [
           903,
           "Chas"
          ],
          [
           904,
           "Chas"
          ],
          [
           905,
           "Chas"
          ],
          [
           906,
           "Goat's Delight"
          ],
          [
           907,
           "Goat's Delight"
          ],
          [
           908,
           "Goat's Delight"
          ],
          [
           909,
           "Goat's Delight"
          ],
          [
           910,
           "Goat's Delight"
          ],
          [
           911,
           "Russian Bear Cocktail"
          ],
          [
           912,
           "Russian Bear Cocktail"
          ],
          [
           913,
           "Russian Bear Cocktail"
          ],
          [
           914,
           "Character Development"
          ],
          [
           915,
           "Character Development"
          ],
          [
           916,
           "Character Development"
          ],
          [
           917,
           "Character Development"
          ],
          [
           918,
           "Ruby Red"
          ],
          [
           919,
           "Ruby Red"
          ],
          [
           920,
           "Ruby Red"
          ],
          [
           921,
           "Ruby Red"
          ],
          [
           922,
           "Chaplin"
          ],
          [
           923,
           "Chaplin"
          ],
          [
           924,
           "Chaplin"
          ],
          [
           925,
           "Chaplin"
          ],
          [
           926,
           "Chaplin"
          ],
          [
           927,
           "Rouxby Red"
          ],
          [
           928,
           "Rouxby Red"
          ],
          [
           929,
           "Rouxby Red"
          ],
          [
           930,
           "Rouxby Red"
          ],
          [
           931,
           "Rouxby Red"
          ],
          [
           932,
           "Rouxby Red"
          ],
          [
           933,
           "Rosemary Clementine Sparkle"
          ],
          [
           934,
           "Rosemary Clementine Sparkle"
          ],
          [
           935,
           "Rosemary Clementine Sparkle"
          ],
          [
           936,
           "Rosemary Clementine Sparkle"
          ],
          [
           937,
           "Rosemary Clementine Sparkle"
          ],
          [
           938,
           "Rosemary Clementine Sparkle"
          ],
          [
           939,
           "Chapel Hill"
          ],
          [
           940,
           "Chapel Hill"
          ],
          [
           941,
           "Chapel Hill"
          ],
          [
           942,
           "Robin's Nest"
          ],
          [
           943,
           "Robin's Nest"
          ],
          [
           944,
           "Robin's Nest"
          ],
          [
           945,
           "Chancellor Cocktail"
          ],
          [
           946,
           "Chancellor Cocktail"
          ],
          [
           947,
           "Chancellor Cocktail"
          ],
          [
           948,
           "Chancellor Cocktail"
          ],
          [
           949,
           "Cafe di Saronno"
          ],
          [
           950,
           "Carre Reprise"
          ],
          [
           951,
           "Carre Reprise"
          ],
          [
           952,
           "Carre Reprise"
          ],
          [
           953,
           "Carre Reprise"
          ],
          [
           954,
           "Carre Reprise"
          ],
          [
           955,
           "Carre Reprise"
          ],
          [
           956,
           "Gilroy Cocktail"
          ],
          [
           957,
           "Gilroy Cocktail"
          ],
          [
           958,
           "Gilroy Cocktail"
          ],
          [
           959,
           "Gilroy Cocktail"
          ],
          [
           960,
           "Gilroy Cocktail"
          ],
          [
           961,
           "Redhead Martini"
          ],
          [
           962,
           "Redhead Martini"
          ],
          [
           963,
           "Redhead Martini"
          ],
          [
           964,
           "Redhead Martini"
          ],
          [
           965,
           "Redhead Martini"
          ],
          [
           966,
           "Red Apple"
          ],
          [
           967,
           "Red Apple"
          ],
          [
           968,
           "Red Apple"
          ],
          [
           969,
           "Red Apple"
          ],
          [
           970,
           "Canal Street Daisy"
          ],
          [
           971,
           "Canal Street Daisy"
          ],
          [
           972,
           "Canal Street Daisy"
          ],
          [
           973,
           "Canal Street Daisy"
          ],
          [
           974,
           "Canal Street Daisy"
          ],
          [
           975,
           "Canadian Cocktail"
          ],
          [
           976,
           "Canadian Cocktail"
          ],
          [
           977,
           "Canadian Cocktail"
          ],
          [
           978,
           "Canadian Cocktail"
          ],
          [
           979,
           "Purple Ruby"
          ],
          [
           980,
           "Purple Ruby"
          ],
          [
           981,
           "Purple Ruby"
          ],
          [
           982,
           "Purple Ruby"
          ],
          [
           983,
           "Purple Ruby"
          ],
          [
           984,
           "Canadian Cherry"
          ],
          [
           985,
           "Canadian Cherry"
          ],
          [
           986,
           "Canadian Cherry"
          ],
          [
           987,
           "Canadian Cherry"
          ],
          [
           988,
           "Canadian Cherry"
          ],
          [
           989,
           "Orange Smile"
          ],
          [
           990,
           "Orange Smile"
          ],
          [
           991,
           "Orange Smile"
          ],
          [
           992,
           "Purple Passion Iced Tea"
          ],
          [
           993,
           "Purple Passion Iced Tea"
          ],
          [
           994,
           "Purple Passion Iced Tea"
          ],
          [
           995,
           "Purple Passion Iced Tea"
          ],
          [
           996,
           "Purple Passion Iced Tea"
          ],
          [
           997,
           "Purple Passion Iced Tea"
          ],
          [
           998,
           "Canadian Breeze"
          ],
          [
           999,
           "Canadian Breeze"
          ],
          [
           1000,
           "Canadian Breeze"
          ],
          [
           1001,
           "Canadian Breeze"
          ],
          [
           1002,
           "Canadian Breeze"
          ],
          [
           1003,
           "Purple Passion"
          ],
          [
           1004,
           "Purple Passion"
          ],
          [
           1005,
           "Purple Passion"
          ],
          [
           1006,
           "Purple Passion"
          ],
          [
           1007,
           "Cameron's Kick Cocktail"
          ],
          [
           1008,
           "Cameron's Kick Cocktail"
          ],
          [
           1009,
           "Cameron's Kick Cocktail"
          ],
          [
           1010,
           "Cameron's Kick Cocktail"
          ],
          [
           1011,
           "Georgia Mint Julep"
          ],
          [
           1012,
           "Georgia Mint Julep"
          ],
          [
           1013,
           "Georgia Mint Julep"
          ],
          [
           1014,
           "Georgia Mint Julep"
          ],
          [
           1015,
           "California Lemonade"
          ],
          [
           1016,
           "California Lemonade"
          ],
          [
           1017,
           "California Lemonade"
          ],
          [
           1018,
           "California Lemonade"
          ],
          [
           1019,
           "California Lemonade"
          ],
          [
           1020,
           "California Lemonade"
          ],
          [
           1021,
           "Boston Side Car"
          ],
          [
           1022,
           "Boston Side Car"
          ],
          [
           1023,
           "Boston Side Car"
          ],
          [
           1024,
           "Boston Side Car"
          ],
          [
           1025,
           "Cablegram"
          ],
          [
           1026,
           "Cablegram"
          ],
          [
           1027,
           "Cablegram"
          ],
          [
           1028,
           "Cablegram"
          ],
          [
           1029,
           "Bull And Bear"
          ],
          [
           1030,
           "Bull And Bear"
          ],
          [
           1031,
           "Bull And Bear"
          ],
          [
           1032,
           "Bull And Bear"
          ],
          [
           1033,
           "Brooklyn"
          ],
          [
           1034,
           "Brooklyn"
          ],
          [
           1035,
           "Brooklyn"
          ],
          [
           1036,
           "Brooklyn"
          ],
          [
           1037,
           "Brighton Punch"
          ],
          [
           1038,
           "Brighton Punch"
          ],
          [
           1039,
           "Brighton Punch"
          ],
          [
           1040,
           "Brighton Punch"
          ],
          [
           1041,
           "Brighton Punch"
          ],
          [
           1042,
           "Bourbon Renewal"
          ],
          [
           1043,
           "Bourbon Renewal"
          ],
          [
           1044,
           "Bourbon Renewal"
          ],
          [
           1045,
           "Bourbon Renewal"
          ],
          [
           1046,
           "Bourbon Renewal"
          ],
          [
           1047,
           "Bourbon Highball"
          ],
          [
           1048,
           "Bourbon And Elder"
          ],
          [
           1049,
           "Bourbon And Elder"
          ],
          [
           1050,
           "Bourbon And Elder"
          ],
          [
           1051,
           "Bourbon Crusta"
          ],
          [
           1052,
           "Bourbon Crusta"
          ],
          [
           1053,
           "Bourbon Crusta"
          ],
          [
           1054,
           "Bourbon Crusta"
          ],
          [
           1055,
           "Bourbon Crusta"
          ],
          [
           1056,
           "Bourbon Crusta"
          ],
          [
           1057,
           "Bourbon Cooler"
          ],
          [
           1058,
           "Bourbon Cooler"
          ],
          [
           1059,
           "Bourbon Cooler"
          ],
          [
           1060,
           "Bourbon Cooler"
          ],
          [
           1061,
           "Froupe Cocktail"
          ],
          [
           1062,
           "Froupe Cocktail"
          ],
          [
           1063,
           "Froupe Cocktail"
          ],
          [
           1064,
           "Bourbon A La Creme"
          ],
          [
           1065,
           "Bourbon A La Creme"
          ],
          [
           1066,
           "Bourbon A La Creme"
          ],
          [
           1067,
           "The Bone"
          ],
          [
           1068,
           "The Bone"
          ],
          [
           1069,
           "The Bone"
          ],
          [
           1070,
           "The Bone"
          ],
          [
           1071,
           "Bobby Burns Cocktail"
          ],
          [
           1072,
           "Bobby Burns Cocktail"
          ],
          [
           1073,
           "Bobby Burns Cocktail"
          ],
          [
           1074,
           "Bloody Scotsman"
          ],
          [
           1075,
           "Bloody Scotsman"
          ],
          [
           1076,
           "Bloody Scotsman"
          ],
          [
           1077,
           "Bloody Scotsman"
          ],
          [
           1078,
           "Bloody Scotsman"
          ],
          [
           1079,
           "Bloody Scotsman"
          ],
          [
           1080,
           "White Cargo Cocktail"
          ],
          [
           1081,
           "White Cargo Cocktail"
          ],
          [
           1082,
           "Blood and Sand"
          ],
          [
           1083,
           "Blood and Sand"
          ],
          [
           1084,
           "Blood and Sand"
          ],
          [
           1085,
           "Blood and Sand"
          ],
          [
           1086,
           "The Blinker"
          ],
          [
           1087,
           "The Blinker"
          ],
          [
           1088,
           "The Blinker"
          ],
          [
           1089,
           "Pike's Peak Cooler"
          ],
          [
           1090,
           "Pike's Peak Cooler"
          ],
          [
           1091,
           "Pike's Peak Cooler"
          ],
          [
           1092,
           "Blarney Stone Cocktail"
          ],
          [
           1093,
           "Blarney Stone Cocktail"
          ],
          [
           1094,
           "Blarney Stone Cocktail"
          ],
          [
           1095,
           "Blarney Stone Cocktail"
          ],
          [
           1096,
           "Blarney Stone Cocktail"
          ],
          [
           1097,
           "Blarney Stone Cocktail"
          ],
          [
           1098,
           "Pacman"
          ],
          [
           1099,
           "Pacman"
          ],
          [
           1100,
           "Pacman"
          ],
          [
           1101,
           "Lemonade (Golden)"
          ],
          [
           1102,
           "Lemonade (Golden)"
          ],
          [
           1103,
           "Lemonade (Golden)"
          ],
          [
           1104,
           "Lemonade (Golden)"
          ],
          [
           1105,
           "Black Hawk"
          ],
          [
           1106,
           "Black Hawk"
          ],
          [
           1107,
           "Black Hawk"
          ],
          [
           1108,
           "Lemonade (Egg)"
          ],
          [
           1109,
           "Lemonade (Egg)"
          ],
          [
           1110,
           "Lemonade (Egg)"
          ],
          [
           1111,
           "Bensonhurst"
          ],
          [
           1112,
           "Bensonhurst"
          ],
          [
           1113,
           "Bensonhurst"
          ],
          [
           1114,
           "Bensonhurst"
          ],
          [
           1115,
           "Chocolate Daisy"
          ],
          [
           1116,
           "Chocolate Daisy"
          ],
          [
           1117,
           "Chocolate Daisy"
          ],
          [
           1118,
           "Chocolate Daisy"
          ],
          [
           1119,
           "Chocolate Daisy"
          ],
          [
           1120,
           "The Beautiful Day"
          ],
          [
           1121,
           "The Beautiful Day"
          ],
          [
           1122,
           "The Beautiful Day"
          ],
          [
           1123,
           "French Quarter"
          ],
          [
           1124,
           "French Quarter"
          ],
          [
           1125,
           "Creme de Gin Cocktail"
          ],
          [
           1126,
           "Creme de Gin Cocktail"
          ],
          [
           1127,
           "Creme de Gin Cocktail"
          ],
          [
           1128,
           "Creme de Gin Cocktail"
          ],
          [
           1129,
           "Creme de Gin Cocktail"
          ],
          [
           1130,
           "Creamy Screwdriver"
          ],
          [
           1131,
           "Creamy Screwdriver"
          ],
          [
           1132,
           "Creamy Screwdriver"
          ],
          [
           1133,
           "Creamy Screwdriver"
          ],
          [
           1134,
           "Creamy Orange"
          ],
          [
           1135,
           "Creamy Orange"
          ],
          [
           1136,
           "Creamy Orange"
          ],
          [
           1137,
           "Creamy Orange"
          ],
          [
           1138,
           "Creamsicle"
          ],
          [
           1139,
           "Creamsicle"
          ],
          [
           1140,
           "Creamsicle"
          ],
          [
           1141,
           "Cowboy Cocktail"
          ],
          [
           1142,
           "Cowboy Cocktail"
          ],
          [
           1143,
           "Beals Cocktail"
          ],
          [
           1144,
           "Beals Cocktail"
          ],
          [
           1145,
           "Beals Cocktail"
          ],
          [
           1146,
           "Coronation Cocktail"
          ],
          [
           1147,
           "Coronation Cocktail"
          ],
          [
           1148,
           "Coronation Cocktail"
          ],
          [
           1149,
           "Cornell Cocktail"
          ],
          [
           1150,
           "Cornell Cocktail"
          ],
          [
           1151,
           "Cornell Cocktail"
          ],
          [
           1152,
           "Cornell Cocktail"
          ],
          [
           1153,
           "Combo"
          ],
          [
           1154,
           "Combo"
          ],
          [
           1155,
           "Combo"
          ],
          [
           1156,
           "Combo"
          ],
          [
           1157,
           "Combo"
          ],
          [
           1158,
           "Basin Street"
          ],
          [
           1159,
           "Basin Street"
          ],
          [
           1160,
           "Basin Street"
          ],
          [
           1161,
           "Cole's Raspberry Cream"
          ],
          [
           1162,
           "Cole's Raspberry Cream"
          ],
          [
           1163,
           "Cole's Raspberry Cream"
          ],
          [
           1164,
           "Cole's Raspberry Cream"
          ],
          [
           1165,
           "Cole's Raspberry Cream"
          ],
          [
           1166,
           "Cognac Coupling"
          ],
          [
           1167,
           "Cognac Coupling"
          ],
          [
           1168,
           "Cognac Coupling"
          ],
          [
           1169,
           "Cognac Coupling"
          ],
          [
           1170,
           "Coffee Sour"
          ],
          [
           1171,
           "Coffee Sour"
          ],
          [
           1172,
           "Coffee Sour"
          ],
          [
           1173,
           "Coffee Sour"
          ],
          [
           1174,
           "Coffee Flip"
          ],
          [
           1175,
           "Coffee Flip"
          ],
          [
           1176,
           "Coffee Flip"
          ],
          [
           1177,
           "Coffee Flip"
          ],
          [
           1178,
           "Coffee Flip"
          ],
          [
           1179,
           "Coffee Cocktail"
          ],
          [
           1180,
           "Coffee Cocktail"
          ],
          [
           1181,
           "Coffee Cocktail"
          ],
          [
           1182,
           "Coffee Cocktail"
          ],
          [
           1183,
           "Purple Mask"
          ],
          [
           1184,
           "Purple Mask"
          ],
          [
           1185,
           "Purple Mask"
          ],
          [
           1186,
           "Clove Cocktail"
          ],
          [
           1187,
           "Clove Cocktail"
          ],
          [
           1188,
           "Clove Cocktail"
          ],
          [
           1189,
           "Clover Leaf Cocktail"
          ],
          [
           1190,
           "Clover Leaf Cocktail"
          ],
          [
           1191,
           "Clover Leaf Cocktail"
          ],
          [
           1192,
           "Clover Leaf Cocktail"
          ],
          [
           1193,
           "Clover Club Cocktail"
          ],
          [
           1194,
           "Clover Club Cocktail"
          ],
          [
           1195,
           "Clover Club Cocktail"
          ],
          [
           1196,
           "Clover Club Cocktail"
          ],
          [
           1197,
           "Priority Cocktail"
          ],
          [
           1198,
           "Priority Cocktail"
          ],
          [
           1199,
           "Priority Cocktail"
          ],
          [
           1200,
           "Clamato Cocktail"
          ],
          [
           1201,
           "Clamato Cocktail"
          ],
          [
           1202,
           "Clamato Cocktail"
          ],
          [
           1203,
           "Cider Eggnog"
          ],
          [
           1204,
           "Cider Eggnog"
          ],
          [
           1205,
           "Cider Eggnog"
          ],
          [
           1206,
           "Chocolate Soldier"
          ],
          [
           1207,
           "Chocolate Soldier"
          ],
          [
           1208,
           "Chocolate Soldier"
          ],
          [
           1209,
           "Chocolate Flip"
          ],
          [
           1210,
           "Chocolate Flip"
          ],
          [
           1211,
           "Chocolate Flip"
          ],
          [
           1212,
           "Chocolate Flip"
          ],
          [
           1213,
           "Chocolate Flip"
          ],
          [
           1214,
           "Chocolate Cocktail"
          ],
          [
           1215,
           "Chocolate Cocktail"
          ],
          [
           1216,
           "Chocolate Cocktail"
          ],
          [
           1217,
           "Chocolate Cocktail"
          ],
          [
           1218,
           "Chicago Fizz"
          ],
          [
           1219,
           "Chicago Fizz"
          ],
          [
           1220,
           "Chicago Fizz"
          ],
          [
           1221,
           "Chicago Fizz"
          ],
          [
           1222,
           "Chicago Fizz"
          ],
          [
           1223,
           "Pretty In Pink"
          ],
          [
           1224,
           "Pretty In Pink"
          ],
          [
           1225,
           "Pretty In Pink"
          ],
          [
           1226,
           "Pretty In Pink"
          ],
          [
           1227,
           "Cherry Wine Cocktail"
          ],
          [
           1228,
           "Cherry Wine Cocktail"
          ],
          [
           1229,
           "Cherry Wine Cocktail"
          ],
          [
           1230,
           "Cherry Flip"
          ],
          [
           1231,
           "Cherry Flip"
          ],
          [
           1232,
           "Cherry Flip"
          ],
          [
           1233,
           "Cherry Flip"
          ],
          [
           1234,
           "Cherry Cooler"
          ],
          [
           1235,
           "Polynesian Cocktail"
          ],
          [
           1236,
           "Polynesian Cocktail"
          ],
          [
           1237,
           "Polynesian Cocktail"
          ],
          [
           1238,
           "Chateau Briand's Rum Cow"
          ],
          [
           1239,
           "Chateau Briand's Rum Cow"
          ],
          [
           1240,
           "Chateau Briand's Rum Cow"
          ],
          [
           1241,
           "Chateau Briand's Rum Cow"
          ],
          [
           1242,
           "Champagne Velvet"
          ],
          [
           1243,
           "Champagne Velvet"
          ],
          [
           1244,
           "Pink Pussycat"
          ],
          [
           1245,
           "Pink Pussycat"
          ],
          [
           1246,
           "Pink Pussycat"
          ],
          [
           1247,
           "Back Porch Swizzle"
          ],
          [
           1248,
           "Back Porch Swizzle"
          ],
          [
           1249,
           "Back Porch Swizzle"
          ],
          [
           1250,
           "Back Porch Swizzle"
          ],
          [
           1251,
           "Canadian Pineapple"
          ],
          [
           1252,
           "Canadian Pineapple"
          ],
          [
           1253,
           "Canadian Pineapple"
          ],
          [
           1254,
           "Canadian Pineapple"
          ],
          [
           1255,
           "Calm Voyage"
          ],
          [
           1256,
           "Calm Voyage"
          ],
          [
           1257,
           "Calm Voyage"
          ],
          [
           1258,
           "Calm Voyage"
          ],
          [
           1259,
           "Calm Voyage"
          ],
          [
           1260,
           "Pink Lemonade"
          ],
          [
           1261,
           "Pink Lemonade"
          ],
          [
           1262,
           "Pink Lemonade"
          ],
          [
           1263,
           "Pink Lemonade"
          ],
          [
           1264,
           "Pink Lemonade"
          ],
          [
           1265,
           "Pink Lemonade"
          ],
          [
           1266,
           "Caledonia"
          ],
          [
           1267,
           "Caledonia"
          ],
          [
           1268,
           "Caledonia"
          ],
          [
           1269,
           "Caledonia"
          ],
          [
           1270,
           "Caf_ di Amaretto"
          ],
          [
           1271,
           "Caf_ di Amaretto"
          ],
          [
           1272,
           "Cafe De Paris Cocktail"
          ],
          [
           1273,
           "Cafe De Paris Cocktail"
          ],
          [
           1274,
           "Cafe De Paris Cocktail"
          ],
          [
           1275,
           "Cafe De Paris Cocktail"
          ],
          [
           1276,
           "Aztec's Mark"
          ],
          [
           1277,
           "Aztec's Mark"
          ],
          [
           1278,
           "Aztec's Mark"
          ],
          [
           1279,
           "Aztec's Mark"
          ],
          [
           1280,
           "Fontainebleau Special"
          ],
          [
           1281,
           "Fontainebleau Special"
          ],
          [
           1282,
           "Fontainebleau Special"
          ],
          [
           1283,
           "Suntan"
          ],
          [
           1284,
           "Suntan"
          ],
          [
           1285,
           "Sunburn"
          ],
          [
           1286,
           "Sunburn"
          ],
          [
           1287,
           "Suissesse Cocktail"
          ],
          [
           1288,
           "Suissesse Cocktail"
          ],
          [
           1289,
           "Strawberry Sunries"
          ],
          [
           1290,
           "Strawberry Sunries"
          ],
          [
           1291,
           "Autumn Leaves"
          ],
          [
           1292,
           "Autumn Leaves"
          ],
          [
           1293,
           "Autumn Leaves"
          ],
          [
           1294,
           "Autumn Leaves"
          ],
          [
           1295,
           "Autumn Leaves"
          ],
          [
           1296,
           "Pickled Pink"
          ],
          [
           1297,
           "Pickled Pink"
          ],
          [
           1298,
           "Pickled Pink"
          ],
          [
           1299,
           "Pickled Pink"
          ],
          [
           1300,
           "Aquarius"
          ],
          [
           1301,
           "Aquarius"
          ],
          [
           1302,
           "Aquarius"
          ],
          [
           1303,
           "Soul Kiss Cocktail"
          ],
          [
           1304,
           "Soul Kiss Cocktail"
          ],
          [
           1305,
           "Soul Kiss Cocktail"
          ],
          [
           1306,
           "Soul Kiss Cocktail"
          ],
          [
           1307,
           "Pickled Martini"
          ],
          [
           1308,
           "Pickled Martini"
          ],
          [
           1309,
           "Pickled Martini"
          ],
          [
           1310,
           "Pickled Martini"
          ],
          [
           1311,
           "Sloe Gin Flip"
          ],
          [
           1312,
           "Sloe Gin Flip"
          ],
          [
           1313,
           "Sloe Gin Flip"
          ],
          [
           1314,
           "Sloe Gin Flip"
          ],
          [
           1315,
           "Angel's Share"
          ],
          [
           1316,
           "Angel's Share"
          ],
          [
           1317,
           "Angel's Share"
          ],
          [
           1318,
           "Angel's Share"
          ],
          [
           1319,
           "Silver Stallion Fizz"
          ],
          [
           1320,
           "Silver Stallion Fizz"
          ],
          [
           1321,
           "Silver King Cocktail"
          ],
          [
           1322,
           "Silver King Cocktail"
          ],
          [
           1323,
           "Silver King Cocktail"
          ],
          [
           1324,
           "Silver King Cocktail"
          ],
          [
           1325,
           "Silver King Cocktail"
          ],
          [
           1326,
           "American Trilogy"
          ],
          [
           1327,
           "American Trilogy"
          ],
          [
           1328,
           "American Trilogy"
          ],
          [
           1329,
           "Silver Fizz"
          ],
          [
           1330,
           "Silver Fizz"
          ],
          [
           1331,
           "Silver Fizz"
          ],
          [
           1332,
           "Silver Fizz"
          ],
          [
           1333,
           "Sherry Twist Cocktail"
          ],
          [
           1334,
           "Sherry Twist Cocktail"
          ],
          [
           1335,
           "Sherry Twist Cocktail"
          ],
          [
           1336,
           "Sherry Twist Cocktail"
          ],
          [
           1337,
           "Sherry Twist Cocktail"
          ],
          [
           1338,
           "Sherry Sangaree"
          ],
          [
           1339,
           "Sherry Sangaree"
          ],
          [
           1340,
           "Sherry Sangaree"
          ],
          [
           1341,
           "Sherry Sangaree"
          ],
          [
           1342,
           "Sherry Milk Punch"
          ],
          [
           1343,
           "Sherry Milk Punch"
          ],
          [
           1344,
           "Petit Zinc"
          ],
          [
           1345,
           "Petit Zinc"
          ],
          [
           1346,
           "Petit Zinc"
          ],
          [
           1347,
           "Petit Zinc"
          ],
          [
           1348,
           "Sherry Flip"
          ],
          [
           1349,
           "Sherry Flip"
          ],
          [
           1350,
           "Sherry Flip"
          ],
          [
           1351,
           "Sherry Flip"
          ],
          [
           1352,
           "Sherry-and-Egg Cocktail"
          ],
          [
           1353,
           "Americana"
          ],
          [
           1354,
           "Americana"
          ],
          [
           1355,
           "Americana"
          ],
          [
           1356,
           "Allegheny"
          ],
          [
           1357,
           "Allegheny"
          ],
          [
           1358,
           "Allegheny"
          ],
          [
           1359,
           "Allegheny"
          ],
          [
           1360,
           "Sevilla Cocktail"
          ],
          [
           1361,
           "Sevilla Cocktail"
          ],
          [
           1362,
           "Sevilla Cocktail"
          ],
          [
           1363,
           "Sevilla Cocktail"
          ],
          [
           1364,
           "September Morn Cocktail"
          ],
          [
           1365,
           "September Morn Cocktail"
          ],
          [
           1366,
           "September Morn Cocktail"
          ],
          [
           1367,
           "September Morn Cocktail"
          ],
          [
           1368,
           "Peach Iced Tea"
          ],
          [
           1369,
           "Peach Iced Tea"
          ],
          [
           1370,
           "Peach Iced Tea"
          ],
          [
           1371,
           "Peach Iced Tea"
          ],
          [
           1372,
           "Peach Iced Tea"
          ],
          [
           1373,
           "Fantasio Cocktail"
          ],
          [
           1374,
           "Fantasio Cocktail"
          ],
          [
           1375,
           "Fantasio Cocktail"
          ],
          [
           1376,
           "Fantasio Cocktail"
          ],
          [
           1377,
           "Scotch Bird Flyer"
          ],
          [
           1378,
           "Scotch Bird Flyer"
          ],
          [
           1379,
           "Scotch Bird Flyer"
          ],
          [
           1380,
           "Scotch Bird Flyer"
          ],
          [
           1381,
           "Scotch Bird Flyer"
          ],
          [
           1382,
           "Algonquin"
          ],
          [
           1383,
           "Algonquin"
          ],
          [
           1384,
           "Algonquin"
          ],
          [
           1385,
           "Savannah"
          ],
          [
           1386,
           "Savannah"
          ],
          [
           1387,
           "Savannah"
          ],
          [
           1388,
           "Savannah"
          ],
          [
           1389,
           "Pink Rose Fizz"
          ],
          [
           1390,
           "Pink Rose Fizz"
          ],
          [
           1391,
           "Pink Rose Fizz"
          ],
          [
           1392,
           "Pink Rose Fizz"
          ],
          [
           1393,
           "Pink Rose Fizz"
          ],
          [
           1394,
           "Ninotchka Cocktail"
          ],
          [
           1395,
           "Ninotchka Cocktail"
          ],
          [
           1396,
           "Ninotchka Cocktail"
          ],
          [
           1397,
           "Prairie Oyster"
          ],
          [
           1398,
           "Prairie Oyster"
          ],
          [
           1399,
           "Prairie Oyster"
          ],
          [
           1400,
           "Prairie Oyster"
          ],
          [
           1401,
           "Prairie Oyster"
          ],
          [
           1402,
           "Prairie Chicken"
          ],
          [
           1403,
           "Prairie Chicken"
          ],
          [
           1404,
           "Pousse L'Amour"
          ],
          [
           1405,
           "Pousse L'Amour"
          ],
          [
           1406,
           "Pousse L'Amour"
          ],
          [
           1407,
           "Pousse L'Amour"
          ],
          [
           1408,
           "Puerto Apple"
          ],
          [
           1409,
           "Puerto Apple"
          ],
          [
           1410,
           "Puerto Apple"
          ],
          [
           1411,
           "Puerto Apple"
          ],
          [
           1412,
           "Akogare"
          ],
          [
           1413,
           "Akogare"
          ],
          [
           1414,
           "Akogare"
          ],
          [
           1415,
           "Akogare"
          ],
          [
           1416,
           "Prado"
          ],
          [
           1417,
           "Prado"
          ],
          [
           1418,
           "Prado"
          ],
          [
           1419,
           "Prado"
          ],
          [
           1420,
           "Prado"
          ],
          [
           1421,
           "Port Wine Flip"
          ],
          [
           1422,
           "Port Wine Flip"
          ],
          [
           1423,
           "Port Wine Flip"
          ],
          [
           1424,
           "Port Wine Flip"
          ],
          [
           1425,
           "Port Wine Cobbler"
          ],
          [
           1426,
           "Port Wine Cobbler"
          ],
          [
           1427,
           "Port Wine Cobbler"
          ],
          [
           1428,
           "Nijinksy Blini"
          ],
          [
           1429,
           "Nijinksy Blini"
          ],
          [
           1430,
           "Nijinksy Blini"
          ],
          [
           1431,
           "Nijinksy Blini"
          ],
          [
           1432,
           "Affinity Cocktail (whisky)"
          ],
          [
           1433,
           "Affinity Cocktail (whisky)"
          ],
          [
           1434,
           "Affinity Cocktail (whisky)"
          ],
          [
           1435,
           "Affinity Cocktail (whisky)"
          ],
          [
           1436,
           "Plain Vermouth Cocktail"
          ],
          [
           1437,
           "Plain Vermouth Cocktail"
          ],
          [
           1438,
           "Plain Vermouth Cocktail"
          ],
          [
           1439,
           "Ping-Pong Cocktail"
          ],
          [
           1440,
           "Ping-Pong Cocktail"
          ],
          [
           1441,
           "Ping-Pong Cocktail"
          ],
          [
           1442,
           "Moscow Mule"
          ],
          [
           1443,
           "Moscow Mule"
          ],
          [
           1444,
           "Phoebe Snow"
          ],
          [
           1445,
           "Phoebe Snow"
          ],
          [
           1446,
           "Phoebe Snow"
          ],
          [
           1447,
           "Affinity Cocktail"
          ],
          [
           1448,
           "Affinity Cocktail"
          ],
          [
           1449,
           "Affinity Cocktail"
          ],
          [
           1450,
           "Affinity Cocktail"
          ],
          [
           1451,
           "Peggy Cocktail"
          ],
          [
           1452,
           "Peggy Cocktail"
          ],
          [
           1453,
           "Peggy Cocktail"
          ],
          [
           1454,
           "Peggy Cocktail"
          ],
          [
           1455,
           "Peach Blow Fizz"
          ],
          [
           1456,
           "Peach Blow Fizz"
          ],
          [
           1457,
           "Peach Blow Fizz"
          ],
          [
           1458,
           "Peach Blow Fizz"
          ],
          [
           1459,
           "Peach Blow Fizz"
          ],
          [
           1460,
           "Peach Blossom"
          ],
          [
           1461,
           "Peach Blossom"
          ],
          [
           1462,
           "Peach Blossom"
          ],
          [
           1463,
           "Peach Blossom"
          ],
          [
           1464,
           "Passion Mimosa"
          ],
          [
           1465,
           "Mocha Express"
          ],
          [
           1466,
           "Mocha Express"
          ],
          [
           1467,
           "Mocha Express"
          ],
          [
           1468,
           "Mocha Express"
          ],
          [
           1469,
           "Palmer Cocktail"
          ],
          [
           1470,
           "Palmer Cocktail"
          ],
          [
           1471,
           "Palmer Cocktail"
          ],
          [
           1472,
           "Mr. 404"
          ],
          [
           1473,
           "Mr. 404"
          ],
          [
           1474,
           "Mr. 404"
          ],
          [
           1475,
           "Mr. 404"
          ],
          [
           1476,
           "Mr. 404"
          ],
          [
           1477,
           "Mountain Cocktail"
          ],
          [
           1478,
           "Mountain Cocktail"
          ],
          [
           1479,
           "Mountain Cocktail"
          ],
          [
           1480,
           "Mountain Cocktail"
          ],
          [
           1481,
           "Mountain Cocktail"
          ],
          [
           1482,
           "Morning Glory Fizz"
          ],
          [
           1483,
           "Morning Glory Fizz"
          ],
          [
           1484,
           "Morning Glory Fizz"
          ],
          [
           1485,
           "Morning Glory Fizz"
          ],
          [
           1486,
           "Morning Glory Fizz"
          ],
          [
           1487,
           "Adderly Cocktail"
          ],
          [
           1488,
           "Adderly Cocktail"
          ],
          [
           1489,
           "Adderly Cocktail"
          ],
          [
           1490,
           "Adderly Cocktail"
          ],
          [
           1491,
           "Fancy Brandy"
          ],
          [
           1492,
           "Fancy Brandy"
          ],
          [
           1493,
           "Fancy Brandy"
          ],
          [
           1494,
           "Fancy Brandy"
          ],
          [
           1495,
           "Montreal Gin Sour"
          ],
          [
           1496,
           "Montreal Gin Sour"
          ],
          [
           1497,
           "Montreal Gin Sour"
          ],
          [
           1498,
           "Montreal Gin Sour"
          ],
          [
           1499,
           "Montezuma"
          ],
          [
           1500,
           "Montezuma"
          ],
          [
           1501,
           "Montezuma"
          ],
          [
           1502,
           "Montezuma"
          ],
          [
           1503,
           "Miss Jones"
          ],
          [
           1504,
           "Miss Jones"
          ],
          [
           1505,
           "Miss Jones"
          ],
          [
           1506,
           "Miss Jones"
          ],
          [
           1507,
           "Mint Gin Cocktail"
          ],
          [
           1508,
           "Mint Gin Cocktail"
          ],
          [
           1509,
           "Mint Gin Cocktail"
          ],
          [
           1510,
           "Mint Collins"
          ],
          [
           1511,
           "Mint Collins"
          ],
          [
           1512,
           "Million-Dollar Cocktail"
          ],
          [
           1513,
           "Million-Dollar Cocktail"
          ],
          [
           1514,
           "Million-Dollar Cocktail"
          ],
          [
           1515,
           "Million-Dollar Cocktail"
          ],
          [
           1516,
           "Million-Dollar Cocktail"
          ],
          [
           1517,
           "Millionaire Cocktail"
          ],
          [
           1518,
           "Millionaire Cocktail"
          ],
          [
           1519,
           "Millionaire Cocktail"
          ],
          [
           1520,
           "Millionaire Cocktail"
          ],
          [
           1521,
           "Academic Review"
          ],
          [
           1522,
           "Academic Review"
          ],
          [
           1523,
           "Academic Review"
          ],
          [
           1524,
           "Academic Review"
          ],
          [
           1525,
           "Academic Review"
          ],
          [
           1526,
           "Academic Review"
          ],
          [
           1527,
           "Milk Punch"
          ],
          [
           1528,
           "Milk Punch"
          ],
          [
           1529,
           "Milk Punch"
          ],
          [
           1530,
           "Merry Widow Fizz"
          ],
          [
           1531,
           "Merry Widow Fizz"
          ],
          [
           1532,
           "Merry Widow Fizz"
          ],
          [
           1533,
           "Merry Widow Fizz"
          ],
          [
           1534,
           "Merry Widow Fizz"
          ],
          [
           1535,
           "May Blossom Fizz"
          ],
          [
           1536,
           "May Blossom Fizz"
          ],
          [
           1537,
           "May Blossom Fizz"
          ],
          [
           1538,
           "Mary Garden Cocktail"
          ],
          [
           1539,
           "Mary Garden Cocktail"
          ],
          [
           1540,
           "19th Century"
          ],
          [
           1541,
           "19th Century"
          ],
          [
           1542,
           "19th Century"
          ],
          [
           1543,
           "19th Century"
          ],
          [
           1544,
           "Manila Fizz"
          ],
          [
           1545,
           "Manila Fizz"
          ],
          [
           1546,
           "Manila Fizz"
          ],
          [
           1547,
           "Manila Fizz"
          ],
          [
           1548,
           "Manila Fizz"
          ],
          [
           1549,
           "1626"
          ],
          [
           1550,
           "1626"
          ],
          [
           1551,
           "1626"
          ],
          [
           1552,
           "1626"
          ],
          [
           1553,
           "1626"
          ],
          [
           1554,
           "Maracuya Mosquito"
          ],
          [
           1555,
           "Maracuya Mosquito"
          ],
          [
           1556,
           "Maracuya Mosquito"
          ],
          [
           1557,
           "Maracuya Mosquito"
          ],
          [
           1558,
           "Maracuya Mosquito"
          ],
          [
           1559,
           "Maracuya Mosquito"
          ],
          [
           1560,
           "Madras"
          ],
          [
           1561,
           "Madras"
          ],
          [
           1562,
           "Madras"
          ],
          [
           1563,
           "Absinthe Cocktail"
          ],
          [
           1564,
           "Absinthe Cocktail"
          ],
          [
           1565,
           "Absinthe Cocktail"
          ],
          [
           1566,
           "Absinthe Cocktail"
          ],
          [
           1567,
           "Lychee Lucy"
          ],
          [
           1568,
           "Lychee Lucy"
          ],
          [
           1569,
           "Lychee Lucy"
          ],
          [
           1570,
           "Lychee Lucy"
          ],
          [
           1571,
           "Lychee Lucy"
          ],
          [
           1572,
           "Vodka Martini"
          ],
          [
           1573,
           "Vodka Martini"
          ],
          [
           1574,
           "The Loop"
          ],
          [
           1575,
           "The Loop"
          ],
          [
           1576,
           "The Loop"
          ],
          [
           1577,
           "Long Island Iced Tea"
          ],
          [
           1578,
           "Long Island Iced Tea"
          ],
          [
           1579,
           "Long Island Iced Tea"
          ],
          [
           1580,
           "Long Island Iced Tea"
          ],
          [
           1581,
           "Long Island Iced Tea"
          ],
          [
           1582,
           "Long Island Iced Tea"
          ],
          [
           1583,
           "Fallen Leaves"
          ],
          [
           1584,
           "Fallen Leaves"
          ],
          [
           1585,
           "Fallen Leaves"
          ],
          [
           1586,
           "Fallen Leaves"
          ],
          [
           1587,
           "L'italienne"
          ],
          [
           1588,
           "L'italienne"
          ],
          [
           1589,
           "L'italienne"
          ],
          [
           1590,
           "L'italienne"
          ],
          [
           1591,
           "Rum Dubonnet"
          ],
          [
           1592,
           "Rum Dubonnet"
          ],
          [
           1593,
           "Rum Dubonnet"
          ],
          [
           1594,
           "Ruby Fizz"
          ],
          [
           1595,
           "Ruby Fizz"
          ],
          [
           1596,
           "Ruby Fizz"
          ],
          [
           1597,
           "Ruby Fizz"
          ],
          [
           1598,
           "Ruby Fizz"
          ],
          [
           1599,
           "Limoncello Manzanilla Marmalade Sour"
          ],
          [
           1600,
           "Limoncello Manzanilla Marmalade Sour"
          ],
          [
           1601,
           "Limoncello Manzanilla Marmalade Sour"
          ],
          [
           1602,
           "Limoncello Manzanilla Marmalade Sour"
          ],
          [
           1603,
           "Limoncello Manzanilla Marmalade Sour"
          ],
          [
           1604,
           "Royal Purple Punch"
          ],
          [
           1605,
           "Royal Gin Fizz"
          ],
          [
           1606,
           "Royal Gin Fizz"
          ],
          [
           1607,
           "Royal Gin Fizz"
          ],
          [
           1608,
           "Royal Gin Fizz"
          ],
          [
           1609,
           "Royal Cocktail"
          ],
          [
           1610,
           "Royal Cocktail"
          ],
          [
           1611,
           "Royal Cocktail"
          ],
          [
           1612,
           "Royal Cocktail"
          ],
          [
           1613,
           "Royal Clover Club Cocktail"
          ],
          [
           1614,
           "Royal Clover Club Cocktail"
          ],
          [
           1615,
           "Royal Clover Club Cocktail"
          ],
          [
           1616,
           "Royal Clover Club Cocktail"
          ],
          [
           1617,
           "Lights On The Plaza"
          ],
          [
           1618,
           "Lights On The Plaza"
          ],
          [
           1619,
           "Lights On The Plaza"
          ],
          [
           1620,
           "Lights On The Plaza"
          ],
          [
           1621,
           "Lights On The Plaza"
          ],
          [
           1622,
           "Lights On The Plaza"
          ],
          [
           1623,
           "Rococo"
          ],
          [
           1624,
           "Rococo"
          ],
          [
           1625,
           "Rococo"
          ],
          [
           1626,
           "Rock & Rye Cooler"
          ],
          [
           1627,
           "Rock & Rye Cooler"
          ],
          [
           1628,
           "Rock & Rye Cooler"
          ],
          [
           1629,
           "Rock & Rye Cocktail"
          ],
          [
           1630,
           "Rock & Rye Cocktail"
          ],
          [
           1631,
           "Rock & Rye Cocktail"
          ],
          [
           1632,
           "Le Paradini"
          ],
          [
           1633,
           "Le Paradini"
          ],
          [
           1634,
           "Le Paradini"
          ],
          [
           1635,
           "Le Paradini"
          ],
          [
           1636,
           "Red Swizzle"
          ],
          [
           1637,
           "Red Swizzle"
          ],
          [
           1638,
           "Red Swizzle"
          ],
          [
           1639,
           "Red Swizzle"
          ],
          [
           1640,
           "Red Swizzle"
          ],
          [
           1641,
           "Red Swizzle"
          ],
          [
           1642,
           "Lemon Drop"
          ],
          [
           1643,
           "Lemon Drop"
          ],
          [
           1644,
           "Lemon Drop"
          ],
          [
           1645,
           "Lemon Drop"
          ],
          [
           1646,
           "Rebel Charge"
          ],
          [
           1647,
           "Rebel Charge"
          ],
          [
           1648,
           "Rebel Charge"
          ],
          [
           1649,
           "Rebel Charge"
          ],
          [
           1650,
           "Rebel Charge"
          ],
          [
           1651,
           "Rattlesnake Cocktail"
          ],
          [
           1652,
           "Rattlesnake Cocktail"
          ],
          [
           1653,
           "Rattlesnake Cocktail"
          ],
          [
           1654,
           "Rattlesnake Cocktail"
          ],
          [
           1655,
           "Rattlesnake Cocktail"
          ],
          [
           1656,
           "Ramos Fizz"
          ],
          [
           1657,
           "Ramos Fizz"
          ],
          [
           1658,
           "Ramos Fizz"
          ],
          [
           1659,
           "Ramos Fizz"
          ],
          [
           1660,
           "Ramos Fizz"
          ],
          [
           1661,
           "Ramos Fizz"
          ],
          [
           1662,
           "San Francisco"
          ],
          [
           1663,
           "San Francisco"
          ],
          [
           1664,
           "San Francisco"
          ],
          [
           1665,
           "San Francisco"
          ],
          [
           1666,
           "San Francisco"
          ],
          [
           1667,
           "Sand-Martini Cocktail"
          ],
          [
           1668,
           "Sand-Martini Cocktail"
          ],
          [
           1669,
           "Sand-Martini Cocktail"
          ],
          [
           1670,
           "Sand-Martini Cocktail"
          ],
          [
           1671,
           "Sake Martini (Sakini)"
          ],
          [
           1672,
           "Sake Martini (Sakini)"
          ],
          [
           1673,
           "Lemon Crush"
          ],
          [
           1674,
           "Lemon Crush"
          ],
          [
           1675,
           "Lemon Crush"
          ],
          [
           1676,
           "Lemon Crush"
          ],
          [
           1677,
           "Lemon Crush"
          ],
          [
           1678,
           "Rye Whiskey Cocktail"
          ],
          [
           1679,
           "Rye Whiskey Cocktail"
          ],
          [
           1680,
           "Rye Whiskey Cocktail"
          ],
          [
           1681,
           "Leaves Of Grass"
          ],
          [
           1682,
           "Leaves Of Grass"
          ],
          [
           1683,
           "Leaves Of Grass"
          ],
          [
           1684,
           "Leaves Of Grass"
          ],
          [
           1685,
           "Leaves Of Grass"
          ],
          [
           1686,
           "Widow's Dream"
          ],
          [
           1687,
           "Widow's Dream"
          ],
          [
           1688,
           "Whiskey Flip"
          ],
          [
           1689,
           "Whiskey Flip"
          ],
          [
           1690,
           "Whiskey Flip"
          ],
          [
           1691,
           "Whiskey Flip"
          ],
          [
           1692,
           "L.A. Sunrise"
          ],
          [
           1693,
           "L.A. Sunrise"
          ],
          [
           1694,
           "L.A. Sunrise"
          ],
          [
           1695,
           "L.A. Sunrise"
          ],
          [
           1696,
           "L.A. Sunrise"
          ],
          [
           1697,
           "White Rose Cocktail"
          ],
          [
           1698,
           "White Rose Cocktail"
          ],
          [
           1699,
           "White Rose Cocktail"
          ],
          [
           1700,
           "White Rose Cocktail"
          ],
          [
           1701,
           "White Rose Cocktail"
          ],
          [
           1702,
           "White Plush"
          ],
          [
           1703,
           "White Plush"
          ],
          [
           1704,
           "White Plush"
          ],
          [
           1705,
           "White Elephant"
          ],
          [
           1706,
           "White Elephant"
          ],
          [
           1707,
           "White Elephant"
          ],
          [
           1708,
           "Whiskey Toddy (cold)"
          ],
          [
           1709,
           "Whiskey Toddy (cold)"
          ],
          [
           1710,
           "Whiskey Toddy (cold)"
          ],
          [
           1711,
           "Kretchma Cocktail"
          ],
          [
           1712,
           "Kretchma Cocktail"
          ],
          [
           1713,
           "Kretchma Cocktail"
          ],
          [
           1714,
           "Kretchma Cocktail"
          ],
          [
           1715,
           "Whiskey Skin"
          ],
          [
           1716,
           "Whiskey Skin"
          ],
          [
           1717,
           "Whiskey Milk Punch"
          ],
          [
           1718,
           "Whiskey Milk Punch"
          ],
          [
           1719,
           "Katana"
          ],
          [
           1720,
           "Katana"
          ],
          [
           1721,
           "Katana"
          ],
          [
           1722,
           "Katana"
          ],
          [
           1723,
           "Katana"
          ],
          [
           1724,
           "Katana"
          ],
          [
           1725,
           "Ethel Duffy Cocktail"
          ],
          [
           1726,
           "Ethel Duffy Cocktail"
          ],
          [
           1727,
           "Ethel Duffy Cocktail"
          ],
          [
           1728,
           "Daiquiri"
          ],
          [
           1729,
           "Daiquiri"
          ],
          [
           1730,
           "Daiquiri"
          ],
          [
           1731,
           "Wembley Cocktail"
          ],
          [
           1732,
           "Wembley Cocktail"
          ],
          [
           1733,
           "Wembley Cocktail"
          ],
          [
           1734,
           "Wembley Cocktail"
          ],
          [
           1735,
           "Weep-No-More Cocktail"
          ],
          [
           1736,
           "Weep-No-More Cocktail"
          ],
          [
           1737,
           "Weep-No-More Cocktail"
          ],
          [
           1738,
           "Weep-No-More Cocktail"
          ],
          [
           1739,
           "Jungle Juice"
          ],
          [
           1740,
           "Jungle Juice"
          ],
          [
           1741,
           "Jungle Juice"
          ],
          [
           1742,
           "Jungle Juice"
          ],
          [
           1743,
           "Jungle Juice"
          ],
          [
           1744,
           "Wedding Belle Cocktail"
          ],
          [
           1745,
           "Wedding Belle Cocktail"
          ],
          [
           1746,
           "Wedding Belle Cocktail"
          ],
          [
           1747,
           "Wedding Belle Cocktail"
          ],
          [
           1748,
           "Waterloo"
          ],
          [
           1749,
           "Waterloo"
          ],
          [
           1750,
           "Waterloo"
          ],
          [
           1751,
           "Waterbury Cocktail"
          ],
          [
           1752,
           "Waterbury Cocktail"
          ],
          [
           1753,
           "Waterbury Cocktail"
          ],
          [
           1754,
           "Waterbury Cocktail"
          ],
          [
           1755,
           "Waterbury Cocktail"
          ],
          [
           1756,
           "Washington Cocktail"
          ],
          [
           1757,
           "Washington Cocktail"
          ],
          [
           1758,
           "Washington Cocktail"
          ],
          [
           1759,
           "Washington Cocktail"
          ],
          [
           1760,
           "The Jamaican Ten Speed"
          ],
          [
           1761,
           "The Jamaican Ten Speed"
          ],
          [
           1762,
           "The Jamaican Ten Speed"
          ],
          [
           1763,
           "The Jamaican Ten Speed"
          ],
          [
           1764,
           "The Jamaican Ten Speed"
          ],
          [
           1765,
           "Twin Six Cocktail"
          ],
          [
           1766,
           "Twin Six Cocktail"
          ],
          [
           1767,
           "Twin Six Cocktail"
          ],
          [
           1768,
           "Twin Six Cocktail"
          ],
          [
           1769,
           "Twin Six Cocktail"
          ],
          [
           1770,
           "Jackie-O"
          ],
          [
           1771,
           "Jackie-O"
          ],
          [
           1772,
           "Jackie-O"
          ],
          [
           1773,
           "Jackie-O"
          ],
          [
           1774,
           "Jackie-O"
          ],
          [
           1775,
           "Tropical Heart"
          ],
          [
           1776,
           "Trois Rivieres"
          ],
          [
           1777,
           "Trois Rivieres"
          ],
          [
           1778,
           "Trois Rivieres"
          ],
          [
           1779,
           "Tovarich Cocktail"
          ],
          [
           1780,
           "Tovarich Cocktail"
          ],
          [
           1781,
           "Tovarich Cocktail"
          ],
          [
           1782,
           "Italian Screwdriver"
          ],
          [
           1783,
           "Italian Screwdriver"
          ],
          [
           1784,
           "Italian Screwdriver"
          ],
          [
           1785,
           "Italian Screwdriver"
          ],
          [
           1786,
           "Italian Screwdriver"
          ],
          [
           1787,
           "T.N.T. Cocktail No. 2"
          ],
          [
           1788,
           "T.N.T. Cocktail No. 1"
          ],
          [
           1789,
           "T.N.T. Cocktail No. 1"
          ],
          [
           1790,
           "Ibiza"
          ],
          [
           1791,
           "Ibiza"
          ],
          [
           1792,
           "Ibiza"
          ],
          [
           1793,
           "Ibiza"
          ],
          [
           1794,
           "Ibiza"
          ],
          [
           1795,
           "Ibiza"
          ],
          [
           1796,
           "Thunder"
          ],
          [
           1797,
           "Thunder"
          ],
          [
           1798,
           "Thunder"
          ],
          [
           1799,
           "Thunder"
          ],
          [
           1800,
           "Huntsman Cocktail"
          ],
          [
           1801,
           "Huntsman Cocktail"
          ],
          [
           1802,
           "Huntsman Cocktail"
          ],
          [
           1803,
           "Huntsman Cocktail"
          ],
          [
           1804,
           "Tequila Fizz"
          ],
          [
           1805,
           "Tequila Fizz"
          ],
          [
           1806,
           "Tequila Fizz"
          ],
          [
           1807,
           "Tequila Fizz"
          ],
          [
           1808,
           "Humpty Dumpty"
          ],
          [
           1809,
           "Humpty Dumpty"
          ],
          [
           1810,
           "Humpty Dumpty"
          ],
          [
           1811,
           "Humpty Dumpty"
          ],
          [
           1812,
           "Humpty Dumpty"
          ],
          [
           1813,
           "Tequila Cocktail"
          ],
          [
           1814,
           "Tequila Cocktail"
          ],
          [
           1815,
           "Tequila Cocktail"
          ],
          [
           1816,
           "Tequila Cocktail"
          ],
          [
           1817,
           "Temptation Cocktail"
          ],
          [
           1818,
           "Temptation Cocktail"
          ],
          [
           1819,
           "Temptation Cocktail"
          ],
          [
           1820,
           "Temptation Cocktail"
          ],
          [
           1821,
           "Tchoupitolas Street Guzzle"
          ],
          [
           1822,
           "Tahitian Tea"
          ],
          [
           1823,
           "Tahitian Tea"
          ],
          [
           1824,
           "Tahitian Tea"
          ],
          [
           1825,
           "Tahitian Tea"
          ],
          [
           1826,
           "Tahitian Tea"
          ],
          [
           1827,
           "Tahitian Tea"
          ],
          [
           1828,
           "Limey"
          ],
          [
           1829,
           "Limey"
          ],
          [
           1830,
           "Limey"
          ],
          [
           1831,
           "Limey"
          ],
          [
           1832,
           "Headless Horseman"
          ],
          [
           1833,
           "Headless Horseman"
          ],
          [
           1834,
           "Love Cocktail"
          ],
          [
           1835,
           "Love Cocktail"
          ],
          [
           1836,
           "Love Cocktail"
          ],
          [
           1837,
           "Love Cocktail"
          ],
          [
           1838,
           "Los Angeles Cocktail"
          ],
          [
           1839,
           "Los Angeles Cocktail"
          ],
          [
           1840,
           "Los Angeles Cocktail"
          ],
          [
           1841,
           "Los Angeles Cocktail"
          ],
          [
           1842,
           "Los Angeles Cocktail"
          ],
          [
           1843,
           "Long Island Tea"
          ],
          [
           1844,
           "Long Island Tea"
          ],
          [
           1845,
           "Long Island Tea"
          ],
          [
           1846,
           "Long Island Tea"
          ],
          [
           1847,
           "Long Island Tea"
          ],
          [
           1848,
           "Harvey Wallbanger"
          ],
          [
           1849,
           "Harvey Wallbanger"
          ],
          [
           1850,
           "Harvey Wallbanger"
          ],
          [
           1851,
           "Lime Giant"
          ],
          [
           1852,
           "Lil Naue"
          ],
          [
           1853,
           "Lil Naue"
          ],
          [
           1854,
           "Lil Naue"
          ],
          [
           1855,
           "Lil Naue"
          ],
          [
           1856,
           "Lil Naue"
          ],
          [
           1857,
           "Harrington"
          ],
          [
           1858,
           "Harrington"
          ],
          [
           1859,
           "Harrington"
          ],
          [
           1860,
           "El Profesor"
          ],
          [
           1861,
           "El Profesor"
          ],
          [
           1862,
           "El Profesor"
          ],
          [
           1863,
           "El Profesor"
          ],
          [
           1864,
           "Leap Year Cocktail"
          ],
          [
           1865,
           "Leap Year Cocktail"
          ],
          [
           1866,
           "Leap Year Cocktail"
          ],
          [
           1867,
           "Leap Year Cocktail"
          ],
          [
           1868,
           "Lasky Cocktail"
          ],
          [
           1869,
           "Lasky Cocktail"
          ],
          [
           1870,
           "Lasky Cocktail"
          ],
          [
           1871,
           "Lady Love Fizz"
          ],
          [
           1872,
           "Lady Love Fizz"
          ],
          [
           1873,
           "Lady Love Fizz"
          ],
          [
           1874,
           "Lady Love Fizz"
          ],
          [
           1875,
           "Lady Love Fizz"
          ],
          [
           1876,
           "Handball Cooler"
          ],
          [
           1877,
           "Handball Cooler"
          ],
          [
           1878,
           "Hyatt's Jamaican Banana"
          ],
          [
           1879,
           "Hyatt's Jamaican Banana"
          ],
          [
           1880,
           "Hyatt's Jamaican Banana"
          ],
          [
           1881,
           "Hyatt's Jamaican Banana"
          ],
          [
           1882,
           "Hyatt's Jamaican Banana"
          ],
          [
           1883,
           "Hyatt's Jamaican Banana"
          ],
          [
           1884,
           "H.P.W. Cocktail"
          ],
          [
           1885,
           "H.P.W. Cocktail"
          ],
          [
           1886,
           "H.P.W. Cocktail"
          ],
          [
           1887,
           "Hot Shot Margarita"
          ],
          [
           1888,
           "Hot Shot Margarita"
          ],
          [
           1889,
           "Hot Shot Margarita"
          ],
          [
           1890,
           "The Groupie"
          ],
          [
           1891,
           "The Groupie"
          ],
          [
           1892,
           "The Groupie"
          ],
          [
           1893,
           "Hot Brandy Flip"
          ],
          [
           1894,
           "Hot Brandy Flip"
          ],
          [
           1895,
           "Hot Brandy Flip"
          ],
          [
           1896,
           "Grape Nehi"
          ],
          [
           1897,
           "Grape Nehi"
          ],
          [
           1898,
           "Grape Nehi"
          ],
          [
           1899,
           "Hole-in-One Cocktai"
          ],
          [
           1900,
           "Hole-in-One Cocktai"
          ],
          [
           1901,
           "Hole-in-One Cocktai"
          ],
          [
           1902,
           "Hole-in-One Cocktai"
          ],
          [
           1903,
           "Grapefruit Gimlet Royale"
          ],
          [
           1904,
           "Grapefruit Gimlet Royale"
          ],
          [
           1905,
           "Grapefruit Gimlet Royale"
          ],
          [
           1906,
           "Grapefruit Gimlet Royale"
          ],
          [
           1907,
           "Grapefruit Gimlet Royale"
          ],
          [
           1908,
           "Hair Raiser"
          ],
          [
           1909,
           "Hair Raiser"
          ],
          [
           1910,
           "Hair Raiser"
          ],
          [
           1911,
           "Godmother"
          ],
          [
           1912,
           "Godmother"
          ],
          [
           1913,
           "Green Opal"
          ],
          [
           1914,
           "Green Opal"
          ],
          [
           1915,
           "Green Opal"
          ],
          [
           1916,
           "Green Hornet (Dry)"
          ],
          [
           1917,
           "Green Hornet (Dry)"
          ],
          [
           1918,
           "Green Fizz"
          ],
          [
           1919,
           "Green Fizz"
          ],
          [
           1920,
           "Green Fizz"
          ],
          [
           1921,
           "Green Fizz"
          ],
          [
           1922,
           "Green Fizz"
          ],
          [
           1923,
           "Godchild"
          ],
          [
           1924,
           "Godchild"
          ],
          [
           1925,
           "Godchild"
          ],
          [
           1926,
           "Grape Vodka Froth"
          ],
          [
           1927,
           "Grape Vodka Froth"
          ],
          [
           1928,
           "Grape Vodka Froth"
          ],
          [
           1929,
           "Grape Vodka Froth"
          ],
          [
           1930,
           "Grapefruit Nog"
          ],
          [
           1931,
           "Grapefruit Nog"
          ],
          [
           1932,
           "Grapefruit Nog"
          ],
          [
           1933,
           "Grapefruit Nog"
          ],
          [
           1934,
           "Grapefruit Nog"
          ],
          [
           1935,
           "Golden Slipper"
          ],
          [
           1936,
           "Golden Slipper"
          ],
          [
           1937,
           "Golden Frappe"
          ],
          [
           1938,
           "Golden Frappe"
          ],
          [
           1939,
           "Golden Frappe"
          ],
          [
           1940,
           "Golden Frappe"
          ],
          [
           1941,
           "Glass Tower"
          ],
          [
           1942,
           "Glass Tower"
          ],
          [
           1943,
           "Glass Tower"
          ],
          [
           1944,
           "Glass Tower"
          ],
          [
           1945,
           "Glass Tower"
          ],
          [
           1946,
           "Golden Fizz"
          ],
          [
           1947,
           "Golden Fizz"
          ],
          [
           1948,
           "Golden Fizz"
          ],
          [
           1949,
           "Golden Fizz"
          ],
          [
           1950,
           "Gloom Lifter"
          ],
          [
           1951,
           "Gloom Lifter"
          ],
          [
           1952,
           "Gloom Lifter"
          ],
          [
           1953,
           "Gloom Lifter"
          ],
          [
           1954,
           "Gloom Lifter"
          ],
          [
           1955,
           "Gloom Lifter"
          ],
          [
           1956,
           "Glogg"
          ],
          [
           1957,
           "Glogg"
          ],
          [
           1958,
           "Glogg"
          ],
          [
           1959,
           "Glogg"
          ],
          [
           1960,
           "Georgia Peach"
          ],
          [
           1961,
           "Georgia Peach"
          ],
          [
           1962,
           "Georgia Peach"
          ],
          [
           1963,
           "Georgia Mule"
          ],
          [
           1964,
           "Georgia Mule"
          ],
          [
           1965,
           "Georgia Mule"
          ],
          [
           1966,
           "Georgia Mule"
          ],
          [
           1967,
           "Gentle Ben"
          ],
          [
           1968,
           "Gentle Ben"
          ],
          [
           1969,
           "Gentle Ben"
          ],
          [
           1970,
           "East India Cocktail No. 1"
          ],
          [
           1971,
           "East India Cocktail No. 1"
          ],
          [
           1972,
           "East India Cocktail No. 1"
          ],
          [
           1973,
           "East India Cocktail No. 1"
          ],
          [
           1974,
           "East India Cocktail No. 1"
          ],
          [
           1975,
           "General Harrison's Eggnog"
          ],
          [
           1976,
           "General Harrison's Eggnog"
          ],
          [
           1977,
           "Gables Collins"
          ],
          [
           1978,
           "Gables Collins"
          ],
          [
           1979,
           "Gables Collins"
          ],
          [
           1980,
           "Gables Collins"
          ],
          [
           1981,
           "Frozen Brandy and Rum"
          ],
          [
           1982,
           "Frozen Brandy and Rum"
          ],
          [
           1983,
           "Frozen Brandy and Rum"
          ],
          [
           1984,
           "Frozen Brandy and Rum"
          ],
          [
           1985,
           "Frozen Brandy and Rum"
          ],
          [
           1986,
           "Frozen Apple"
          ],
          [
           1987,
           "Frozen Apple"
          ],
          [
           1988,
           "Frozen Apple"
          ],
          [
           1989,
           "Frozen Apple"
          ],
          [
           1990,
           "Frisky Witch"
          ],
          [
           1991,
           "Frisky Witch"
          ],
          [
           1992,
           "Froth Blower Cocktail"
          ],
          [
           1993,
           "Froth Blower Cocktail"
          ],
          [
           1994,
           "Froth Blower Cocktail"
          ],
          [
           1995,
           "French Martini"
          ],
          [
           1996,
           "French Martini"
          ],
          [
           1997,
           "French Martini"
          ],
          [
           1998,
           "Flatiron Martini"
          ],
          [
           1999,
           "Flatiron Martini"
          ],
          [
           2000,
           "Flatiron Martini"
          ],
          [
           2001,
           "Favourite Cocktail"
          ],
          [
           2002,
           "Favourite Cocktail"
          ],
          [
           2003,
           "Favourite Cocktail"
          ],
          [
           2004,
           "Favourite Cocktail"
          ],
          [
           2005,
           "Electric Jam"
          ],
          [
           2006,
           "Electric Jam"
          ],
          [
           2007,
           "Electric Jam"
          ],
          [
           2008,
           "Electric Jam"
          ],
          [
           2009,
           "Fairy Belle Cocktail"
          ],
          [
           2010,
           "Fairy Belle Cocktail"
          ],
          [
           2011,
           "Fairy Belle Cocktail"
          ],
          [
           2012,
           "Fairy Belle Cocktail"
          ],
          [
           2013,
           "Duke Cocktail"
          ],
          [
           2014,
           "Duke Cocktail"
          ],
          [
           2015,
           "Duke Cocktail"
          ],
          [
           2016,
           "Duke Cocktail"
          ],
          [
           2017,
           "Duke Cocktail"
          ],
          [
           2018,
           "Dreamy Dorini Smoking Martini"
          ],
          [
           2019,
           "Dreamy Dorini Smoking Martini"
          ],
          [
           2020,
           "Dreamy Dorini Smoking Martini"
          ],
          [
           2021,
           "Dubonnet Highball"
          ],
          [
           2022,
           "Dubonnet Fizz"
          ],
          [
           2023,
           "Dubonnet Fizz"
          ],
          [
           2024,
           "Dubonnet Fizz"
          ],
          [
           2025,
           "Dubonnet Fizz"
          ],
          [
           2026,
           "Dubonnet Cocktail"
          ],
          [
           2027,
           "Dubonnet Cocktail"
          ],
          [
           2028,
           "Dubonnet Cocktail"
          ],
          [
           2029,
           "Doctor Cook"
          ],
          [
           2030,
           "Doctor Cook"
          ],
          [
           2031,
           "Doctor Cook"
          ],
          [
           2032,
           "Doctor Cook"
          ],
          [
           2033,
           "Desert Sunrise"
          ],
          [
           2034,
           "Desert Sunrise"
          ],
          [
           2035,
           "Desert Sunrise"
          ],
          [
           2036,
           "Desert Sunrise"
          ],
          [
           2037,
           "Dillatini"
          ],
          [
           2038,
           "Dillatini"
          ],
          [
           2039,
           "Devil's Cocktail"
          ],
          [
           2040,
           "Devil's Cocktail"
          ],
          [
           2041,
           "Devil's Cocktail"
          ],
          [
           2042,
           "Derby Fizz"
          ],
          [
           2043,
           "Derby Fizz"
          ],
          [
           2044,
           "Derby Fizz"
          ],
          [
           2045,
           "Derby Fizz"
          ],
          [
           2046,
           "Derby Fizz"
          ],
          [
           2047,
           "Cubeltini"
          ],
          [
           2048,
           "Cubeltini"
          ],
          [
           2049,
           "Cubeltini"
          ],
          [
           2050,
           "Cubeltini"
          ],
          [
           2051,
           "Cubeltini"
          ],
          [
           2052,
           "Crocodile Cooler"
          ],
          [
           2053,
           "Crocodile Cooler"
          ],
          [
           2054,
           "Crocodile Cooler"
          ],
          [
           2055,
           "Crocodile Cooler"
          ],
          [
           2056,
           "Crocodile Cooler"
          ],
          [
           2057,
           "Cosmopolitan"
          ],
          [
           2058,
           "Cosmopolitan"
          ],
          [
           2059,
           "Cosmopolitan"
          ],
          [
           2060,
           "Cosmopolitan"
          ],
          [
           2061,
           "Dream Cocktail"
          ],
          [
           2062,
           "Dream Cocktail"
          ],
          [
           2063,
           "Dream Cocktail"
          ],
          [
           2064,
           "Jean Lafitte Cocktail"
          ],
          [
           2065,
           "Jean Lafitte Cocktail"
          ],
          [
           2066,
           "Jean Lafitte Cocktail"
          ],
          [
           2067,
           "Jean Lafitte Cocktail"
          ],
          [
           2068,
           "Jean Lafitte Cocktail"
          ],
          [
           2069,
           "Japanese Fizz"
          ],
          [
           2070,
           "Japanese Fizz"
          ],
          [
           2071,
           "Japanese Fizz"
          ],
          [
           2072,
           "Japanese Fizz"
          ],
          [
           2073,
           "Japanese Fizz"
          ],
          [
           2074,
           "Citronella Cooler"
          ],
          [
           2075,
           "Citronella Cooler"
          ],
          [
           2076,
           "Citronella Cooler"
          ],
          [
           2077,
           "Citronella Cooler"
          ],
          [
           2078,
           "North Pole Cocktail"
          ],
          [
           2079,
           "North Pole Cocktail"
          ],
          [
           2080,
           "North Pole Cocktail"
          ],
          [
           2081,
           "North Pole Cocktail"
          ],
          [
           2082,
           "The Cinquecento"
          ],
          [
           2083,
           "The Cinquecento"
          ],
          [
           2084,
           "The Cinquecento"
          ],
          [
           2085,
           "The Cinquecento"
          ],
          [
           2086,
           "The Cinquecento"
          ],
          [
           2087,
           "New Orleans Gin Fizz"
          ],
          [
           2088,
           "New Orleans Gin Fizz"
          ],
          [
           2089,
           "New Orleans Gin Fizz"
          ],
          [
           2090,
           "New Orleans Gin Fizz"
          ],
          [
           2091,
           "New Orleans Gin Fizz"
          ],
          [
           2092,
           "New Orleans Gin Fizz"
          ],
          [
           2093,
           "Napoleon"
          ],
          [
           2094,
           "Napoleon"
          ],
          [
           2095,
           "Napoleon"
          ],
          [
           2096,
           "Zombie"
          ],
          [
           2097,
           "Zombie"
          ],
          [
           2098,
           "Zombie"
          ],
          [
           2099,
           "Zombie"
          ],
          [
           2100,
           "Zombie"
          ],
          [
           2101,
           "Zombie"
          ],
          [
           2102,
           "Kiss the Boys Goodbye"
          ],
          [
           2103,
           "Kiss the Boys Goodbye"
          ],
          [
           2104,
           "Kiss the Boys Goodbye"
          ],
          [
           2105,
           "Kiss the Boys Goodbye"
          ],
          [
           2106,
           "X.Y.Z. Cocktail"
          ],
          [
           2107,
           "X.Y.Z. Cocktail"
          ],
          [
           2108,
           "X.Y.Z. Cocktail"
          ],
          [
           2109,
           "K.G.B. Cocktail"
          ],
          [
           2110,
           "K.G.B. Cocktail"
          ],
          [
           2111,
           "K.G.B. Cocktail"
          ],
          [
           2112,
           "K.G.B. Cocktail"
          ],
          [
           2113,
           "Eye-Opener"
          ],
          [
           2114,
           "Eye-Opener"
          ],
          [
           2115,
           "Eye-Opener"
          ],
          [
           2116,
           "Eye-Opener"
          ],
          [
           2117,
           "Eye-Opener"
          ],
          [
           2118,
           "Eye-Opener"
          ],
          [
           2119,
           "Wiki Waki Woo"
          ],
          [
           2120,
           "Wiki Waki Woo"
          ],
          [
           2121,
           "Wiki Waki Woo"
          ],
          [
           2122,
           "Wiki Waki Woo"
          ],
          [
           2123,
           "Wiki Waki Woo"
          ],
          [
           2124,
           "Elk's Own Cocktail"
          ],
          [
           2125,
           "Elk's Own Cocktail"
          ],
          [
           2126,
           "Elk's Own Cocktail"
          ],
          [
           2127,
           "Elk's Own Cocktail"
          ],
          [
           2128,
           "Elk's Own Cocktail"
          ],
          [
           2129,
           "Eggnog Supreme"
          ],
          [
           2130,
           "Eggnog Supreme"
          ],
          [
           2131,
           "Eggnog Supreme"
          ],
          [
           2132,
           "Eggnog Supreme"
          ],
          [
           2133,
           "Eggnog Supreme"
          ],
          [
           2134,
           "Egg Sour"
          ],
          [
           2135,
           "Egg Sour"
          ],
          [
           2136,
           "Egg Sour"
          ],
          [
           2137,
           "Egg Sour"
          ],
          [
           2138,
           "Egg Sour"
          ],
          [
           2139,
           "White Lion Cocktail"
          ],
          [
           2140,
           "White Lion Cocktail"
          ],
          [
           2141,
           "White Lion Cocktail"
          ],
          [
           2142,
           "White Lion Cocktail"
          ],
          [
           2143,
           "White Lion Cocktail"
          ],
          [
           2144,
           "White Lily Cocktail"
          ],
          [
           2145,
           "White Lily Cocktail"
          ],
          [
           2146,
           "White Lily Cocktail"
          ],
          [
           2147,
           "White Lily Cocktail"
          ],
          [
           2148,
           "Ice Cream Flip"
          ],
          [
           2149,
           "Ice Cream Flip"
          ],
          [
           2150,
           "Ice Cream Flip"
          ],
          [
           2151,
           "Outrigger"
          ],
          [
           2152,
           "Outrigger"
          ],
          [
           2153,
           "Outrigger"
          ],
          [
           2154,
           "Opera Cocktail"
          ],
          [
           2155,
           "Opera Cocktail"
          ],
          [
           2156,
           "Opera Cocktail"
          ],
          [
           2157,
           "Virginia Dare"
          ],
          [
           2158,
           "Virginia Dare"
          ],
          [
           2159,
           "Virginia Dare"
          ],
          [
           2160,
           "Virginia Dare"
          ],
          [
           2161,
           "Opening Cocktail"
          ],
          [
           2162,
           "Opening Cocktail"
          ],
          [
           2163,
           "Opening Cocktail"
          ],
          [
           2164,
           "Queen Bee"
          ],
          [
           2165,
           "Queen Bee"
          ],
          [
           2166,
           "Queen Bee"
          ],
          [
           2167,
           "Van Vleet"
          ],
          [
           2168,
           "Van Vleet"
          ],
          [
           2169,
           "Van Vleet"
          ],
          [
           2170,
           "Zaza Cocktail"
          ],
          [
           2171,
           "Zaza Cocktail"
          ],
          [
           2172,
           "The Vacation Cocktail"
          ],
          [
           2173,
           "The Vacation Cocktail"
          ],
          [
           2174,
           "The Vacation Cocktail"
          ],
          [
           2175,
           "The Vacation Cocktail"
          ],
          [
           2176,
           "The Vacation Cocktail"
          ],
          [
           2177,
           "Dolores"
          ],
          [
           2178,
           "Dolores"
          ],
          [
           2179,
           "Dolores"
          ],
          [
           2180,
           "Dolores"
          ],
          [
           2181,
           "Vesuvio"
          ],
          [
           2182,
           "Vesuvio"
          ],
          [
           2183,
           "Vesuvio"
          ],
          [
           2184,
           "Vesuvio"
          ],
          [
           2185,
           "Vesuvio"
          ],
          [
           2186,
           "Urban Anxiety"
          ],
          [
           2187,
           "Urban Anxiety"
          ],
          [
           2188,
           "Urban Anxiety"
          ],
          [
           2189,
           "Urban Anxiety"
          ],
          [
           2190,
           "Virgin"
          ],
          [
           2191,
           "Virgin"
          ],
          [
           2192,
           "Virgin"
          ],
          [
           2193,
           "Tropica Cocktail"
          ],
          [
           2194,
           "Tropica Cocktail"
          ],
          [
           2195,
           "Tropica Cocktail"
          ],
          [
           2196,
           "Tropica Cocktail"
          ],
          [
           2197,
           "Vermouth Cassis"
          ],
          [
           2198,
           "Vermouth Cassis"
          ],
          [
           2199,
           "Verboten"
          ],
          [
           2200,
           "Verboten"
          ],
          [
           2201,
           "Verboten"
          ],
          [
           2202,
           "Verboten"
          ],
          [
           2203,
           "Velvet Hammer No. 2"
          ],
          [
           2204,
           "Velvet Hammer No. 2"
          ],
          [
           2205,
           "Velvet Hammer No. 2"
          ],
          [
           2206,
           "Velvet Hammer No. 1"
          ],
          [
           2207,
           "Velvet Hammer No. 1"
          ],
          [
           2208,
           "Velvet Hammer No. 1"
          ],
          [
           2209,
           "Ulanda Cocktail"
          ],
          [
           2210,
           "Ulanda Cocktail"
          ],
          [
           2211,
           "Ulanda Cocktail"
          ],
          [
           2212,
           "Torridora Cocktail"
          ],
          [
           2213,
           "Torridora Cocktail"
          ],
          [
           2214,
           "Torridora Cocktail"
          ],
          [
           2215,
           "Torridora Cocktail"
          ],
          [
           2216,
           "Boston Sour"
          ],
          [
           2217,
           "Boston Sour"
          ],
          [
           2218,
           "Boston Sour"
          ],
          [
           2219,
           "Boston Sour"
          ],
          [
           2220,
           "Three Miller Cocktail"
          ],
          [
           2221,
           "Three Miller Cocktail"
          ],
          [
           2222,
           "Three Miller Cocktail"
          ],
          [
           2223,
           "Three Miller Cocktail"
          ],
          [
           2224,
           "Three Miller Cocktail"
          ],
          [
           2225,
           "Bird-of-Paradise Fizz"
          ],
          [
           2226,
           "Bird-of-Paradise Fizz"
          ],
          [
           2227,
           "Bird-of-Paradise Fizz"
          ],
          [
           2228,
           "Bird-of-Paradise Fizz"
          ],
          [
           2229,
           "Bird-of-Paradise Fizz"
          ],
          [
           2230,
           "Biffy Cocktail"
          ],
          [
           2231,
           "Biffy Cocktail"
          ],
          [
           2232,
           "Biffy Cocktail"
          ],
          [
           2233,
           "Between-The-Sheets Cocktail"
          ],
          [
           2234,
           "Between-The-Sheets Cocktail"
          ],
          [
           2235,
           "Between-The-Sheets Cocktail"
          ],
          [
           2236,
           "Between-The-Sheets Cocktail"
          ],
          [
           2237,
           "Third-Rail Cocktail"
          ],
          [
           2238,
           "Third-Rail Cocktail"
          ],
          [
           2239,
           "Third-Rail Cocktail"
          ],
          [
           2240,
           "Third-Rail Cocktail"
          ],
          [
           2241,
           "Bentley"
          ],
          [
           2242,
           "Bentley"
          ],
          [
           2243,
           "Tahiti Club"
          ],
          [
           2244,
           "Tahiti Club"
          ],
          [
           2245,
           "Tahiti Club"
          ],
          [
           2246,
           "Tahiti Club"
          ],
          [
           2247,
           "Tahiti Club"
          ],
          [
           2248,
           "Barton Special"
          ],
          [
           2249,
           "Barton Special"
          ],
          [
           2250,
           "Barton Special"
          ],
          [
           2251,
           "Barnaby's Buffalo Blizzard"
          ],
          [
           2252,
           "Barnaby's Buffalo Blizzard"
          ],
          [
           2253,
           "Barnaby's Buffalo Blizzard"
          ],
          [
           2254,
           "Barnaby's Buffalo Blizzard"
          ],
          [
           2255,
           "Susie Taylor"
          ],
          [
           2256,
           "Susie Taylor"
          ],
          [
           2257,
           "Baltimore Bracer"
          ],
          [
           2258,
           "Baltimore Bracer"
          ],
          [
           2259,
           "Baltimore Bracer"
          ],
          [
           2260,
           "Bachelor's Bait Cocktail"
          ],
          [
           2261,
           "Bachelor's Bait Cocktail"
          ],
          [
           2262,
           "Bachelor's Bait Cocktail"
          ],
          [
           2263,
           "Bachelor's Bait Cocktail"
          ],
          [
           2264,
           "Bushranger"
          ],
          [
           2265,
           "Bushranger"
          ],
          [
           2266,
           "Bushranger"
          ],
          [
           2267,
           "Sunset at Gowanus"
          ],
          [
           2268,
           "Sunset at Gowanus"
          ],
          [
           2269,
           "Sunset at Gowanus"
          ],
          [
           2270,
           "Sunset at Gowanus"
          ],
          [
           2271,
           "Sunset at Gowanus"
          ],
          [
           2272,
           "Bulldog Highballl"
          ],
          [
           2273,
           "Bulldog Highballl"
          ],
          [
           2274,
           "Bucks Fizz (Mimosa)"
          ],
          [
           2275,
           "Buckjones"
          ],
          [
           2276,
           "Buckjones"
          ],
          [
           2277,
           "Buckjones"
          ],
          [
           2278,
           "Stormy Colada"
          ],
          [
           2279,
           "Stormy Colada"
          ],
          [
           2280,
           "Bronx SIlver Cocktail"
          ],
          [
           2281,
           "Bronx SIlver Cocktail"
          ],
          [
           2282,
           "Bronx SIlver Cocktail"
          ],
          [
           2283,
           "Bronx SIlver Cocktail"
          ],
          [
           2284,
           "Bronx Golden Cocktail"
          ],
          [
           2285,
           "Bronx Golden Cocktail"
          ],
          [
           2286,
           "Bronx Golden Cocktail"
          ],
          [
           2287,
           "Bronx Golden Cocktail"
          ],
          [
           2288,
           "Stone Wall"
          ],
          [
           2289,
           "Stone Wall"
          ],
          [
           2290,
           "Stone Wall"
          ],
          [
           2291,
           "Stone Wall"
          ],
          [
           2292,
           "Depth Bomb"
          ],
          [
           2293,
           "Depth Bomb"
          ],
          [
           2294,
           "Depth Bomb"
          ],
          [
           2295,
           "Depth Bomb"
          ],
          [
           2296,
           "Stone Cocktail"
          ],
          [
           2297,
           "Stone Cocktail"
          ],
          [
           2298,
           "Stone Cocktail"
          ],
          [
           2299,
           "Almeria"
          ],
          [
           2300,
           "Almeria"
          ],
          [
           2301,
           "Almeria"
          ],
          [
           2302,
           "Aunt Jemima"
          ],
          [
           2303,
           "Aunt Jemima"
          ],
          [
           2304,
           "Aunt Jemima"
          ],
          [
           2305,
           "Spanish Town Cocktail"
          ],
          [
           2306,
           "Spanish Town Cocktail"
          ],
          [
           2307,
           "Apricot Lady"
          ],
          [
           2308,
           "Apricot Lady"
          ],
          [
           2309,
           "Apricot Lady"
          ],
          [
           2310,
           "Apricot Lady"
          ],
          [
           2311,
           "Apricot Lady"
          ],
          [
           2312,
           "Apricot Anise Collins"
          ],
          [
           2313,
           "Apricot Anise Collins"
          ],
          [
           2314,
           "Apricot Anise Collins"
          ],
          [
           2315,
           "Apricot Anise Collins"
          ],
          [
           2316,
           "Apple Rum Rickey"
          ],
          [
           2317,
           "Apple Rum Rickey"
          ],
          [
           2318,
           "Apple Rum Rickey"
          ],
          [
           2319,
           "Sloppy Joe's Cocktail No. 1"
          ],
          [
           2320,
           "Sloppy Joe's Cocktail No. 1"
          ],
          [
           2321,
           "Sloppy Joe's Cocktail No. 1"
          ],
          [
           2322,
           "Sloppy Joe's Cocktail No. 1"
          ],
          [
           2323,
           "Sloppy Joe's Cocktail No. 1"
          ],
          [
           2324,
           "Applejack Punch"
          ],
          [
           2325,
           "Applejack Punch"
          ],
          [
           2326,
           "Applejack Punch"
          ],
          [
           2327,
           "Applejack Punch"
          ],
          [
           2328,
           "Brandy Flip"
          ],
          [
           2329,
           "Brandy Flip"
          ],
          [
           2330,
           "Brandy Flip"
          ],
          [
           2331,
           "Brandy Flip"
          ],
          [
           2332,
           "Sir Walter Cocktail"
          ],
          [
           2333,
           "Sir Walter Cocktail"
          ],
          [
           2334,
           "Sir Walter Cocktail"
          ],
          [
           2335,
           "Sir Walter Cocktail"
          ],
          [
           2336,
           "Sir Walter Cocktail"
          ],
          [
           2337,
           "Saxon Cocktail"
          ],
          [
           2338,
           "Saxon Cocktail"
          ],
          [
           2339,
           "Saxon Cocktail"
          ],
          [
           2340,
           "Boston Bullet"
          ],
          [
           2341,
           "Boston Bullet"
          ],
          [
           2342,
           "Sargasso"
          ],
          [
           2343,
           "Sargasso"
          ],
          [
           2344,
           "Sargasso"
          ],
          [
           2345,
           "Sargasso"
          ],
          [
           2346,
           "Santiago Cocktail"
          ],
          [
           2347,
           "Santiago Cocktail"
          ],
          [
           2348,
           "Santiago Cocktail"
          ],
          [
           2349,
           "Santiago Cocktail"
          ],
          [
           2350,
           "Black Velvet"
          ],
          [
           2351,
           "Black Velvet"
          ],
          [
           2352,
           "Saint Lucy Bracer"
          ],
          [
           2353,
           "Saint Lucy Bracer"
          ],
          [
           2354,
           "Saint Lucy Bracer"
          ],
          [
           2355,
           "Saint Lucy Bracer"
          ],
          [
           2356,
           "Applecar"
          ],
          [
           2357,
           "Applecar"
          ],
          [
           2358,
           "Applecar"
          ],
          [
           2359,
           "Apple Blow Fizz"
          ],
          [
           2360,
           "Apple Blow Fizz"
          ],
          [
           2361,
           "Apple Blow Fizz"
          ],
          [
           2362,
           "Apple Blow Fizz"
          ],
          [
           2363,
           "Antoine Special"
          ],
          [
           2364,
           "Antoine Special"
          ],
          [
           2365,
           "Ante"
          ],
          [
           2366,
           "Ante"
          ],
          [
           2367,
           "Ante"
          ],
          [
           2368,
           "S & V"
          ],
          [
           2369,
           "S & V"
          ],
          [
           2370,
           "S & V"
          ],
          [
           2371,
           "S & V"
          ],
          [
           2372,
           "Rum Toddy (Cold)"
          ],
          [
           2373,
           "Rum Toddy (Cold)"
          ],
          [
           2374,
           "Rum Toddy (Cold)"
          ],
          [
           2375,
           "Rum Toddy (Cold)"
          ],
          [
           2376,
           "Deauville Cocktail"
          ],
          [
           2377,
           "Deauville Cocktail"
          ],
          [
           2378,
           "Deauville Cocktail"
          ],
          [
           2379,
           "Deauville Cocktail"
          ],
          [
           2380,
           "Deauville Cocktail"
          ],
          [
           2381,
           "Allies Cocktail"
          ],
          [
           2382,
           "Allies Cocktail"
          ],
          [
           2383,
           "Allies Cocktail"
          ],
          [
           2384,
           "Rum Swizzle"
          ],
          [
           2385,
           "Rum Swizzle"
          ],
          [
           2386,
           "Rum Swizzle"
          ],
          [
           2387,
           "Rum Swizzle"
          ],
          [
           2388,
           "A. J."
          ],
          [
           2389,
           "A. J."
          ],
          [
           2390,
           "After Supper Cocktail"
          ],
          [
           2391,
           "After Supper Cocktail"
          ],
          [
           2392,
           "After Supper Cocktail"
          ],
          [
           2393,
           "Rum Sour"
          ],
          [
           2394,
           "Rum Sour"
          ],
          [
           2395,
           "Rum Sour"
          ],
          [
           2396,
           "Acapulco"
          ],
          [
           2397,
           "Acapulco"
          ],
          [
           2398,
           "Acapulco"
          ],
          [
           2399,
           "Acapulco"
          ],
          [
           2400,
           "Acapulco"
          ],
          [
           2401,
           "Absinthe Drip Cocktail"
          ],
          [
           2402,
           "Absinthe Drip Cocktail"
          ],
          [
           2403,
           "Ambrosia"
          ],
          [
           2404,
           "Ambrosia"
          ],
          [
           2405,
           "Ambrosia"
          ],
          [
           2406,
           "Rum Screwdriver"
          ],
          [
           2407,
           "Rum Screwdriver"
          ],
          [
           2408,
           "Rum Rickey"
          ],
          [
           2409,
           "Rum Rickey"
          ],
          [
           2410,
           "Scotch Cocktail"
          ],
          [
           2411,
           "Scotch Cocktail"
          ],
          [
           2412,
           "Rum Relaxer"
          ],
          [
           2413,
           "Rum Relaxer"
          ],
          [
           2414,
           "Rum Relaxer"
          ],
          [
           2415,
           "Rum Old-Fashioned"
          ],
          [
           2416,
           "Rum Old-Fashioned"
          ],
          [
           2417,
           "Rum Old-Fashioned"
          ],
          [
           2418,
           "Rum Old-Fashioned"
          ],
          [
           2419,
           "Rum Martini"
          ],
          [
           2420,
           "Rum Martini"
          ],
          [
           2421,
           "Rum Highball"
          ],
          [
           2422,
           "Rum Fix"
          ],
          [
           2423,
           "Rum Fix"
          ],
          [
           2424,
           "Rum Fix"
          ],
          [
           2425,
           "Rum Daisy"
          ],
          [
           2426,
           "Rum Daisy"
          ],
          [
           2427,
           "Rum Daisy"
          ],
          [
           2428,
           "Rum Daisy"
          ],
          [
           2429,
           "D'artagnan"
          ],
          [
           2430,
           "D'artagnan"
          ],
          [
           2431,
           "D'artagnan"
          ],
          [
           2432,
           "D'artagnan"
          ],
          [
           2433,
           "D'artagnan"
          ],
          [
           2434,
           "Rum Cooler"
          ],
          [
           2435,
           "Rum Cooler"
          ],
          [
           2436,
           "Rum Cooler"
          ],
          [
           2437,
           "Rum Collins"
          ],
          [
           2438,
           "Rum Collins"
          ],
          [
           2439,
           "Rum Collins"
          ],
          [
           2440,
           "Seaboabd"
          ],
          [
           2441,
           "Seaboabd"
          ],
          [
           2442,
           "Seaboabd"
          ],
          [
           2443,
           "Seaboabd"
          ],
          [
           2444,
           "Rum Cobbler"
          ],
          [
           2445,
           "Rum Cobbler"
          ],
          [
           2446,
           "Robson Cocktail"
          ],
          [
           2447,
           "Robson Cocktail"
          ],
          [
           2448,
           "Robson Cocktail"
          ],
          [
           2449,
           "Robson Cocktail"
          ],
          [
           2450,
           "Rio Fix"
          ],
          [
           2451,
           "Rio Fix"
          ],
          [
           2452,
           "Rio Fix"
          ],
          [
           2453,
           "Rio Fix"
          ],
          [
           2454,
           "Rio Fix"
          ],
          [
           2455,
           "Ringo Starr"
          ],
          [
           2456,
           "Ringo Starr"
          ],
          [
           2457,
           "Ringo Starr"
          ],
          [
           2458,
           "Ringo Starr"
          ],
          [
           2459,
           "Ringo Starr"
          ],
          [
           2460,
           "Restless Native"
          ],
          [
           2461,
           "Restless Native"
          ],
          [
           2462,
           "Restless Native"
          ],
          [
           2463,
           "Restless Native"
          ],
          [
           2464,
           "Quarter Deck Cocktail"
          ],
          [
           2465,
           "Quarter Deck Cocktail"
          ],
          [
           2466,
           "Quarter Deck Cocktail"
          ],
          [
           2467,
           "Quaker's Cocktail"
          ],
          [
           2468,
           "Quaker's Cocktail"
          ],
          [
           2469,
           "Quaker's Cocktail"
          ],
          [
           2470,
           "Quaker's Cocktail"
          ],
          [
           2471,
           "Puerto Rican Rum Daisy"
          ],
          [
           2472,
           "Puerto Rican Rum Daisy"
          ],
          [
           2473,
           "Puerto Rican Rum Daisy"
          ],
          [
           2474,
           "Puerto Rican Rum Daisy"
          ],
          [
           2475,
           "Puerto Rican Rum Daisy"
          ],
          [
           2476,
           "Cuban Cocktail No. 2"
          ],
          [
           2477,
           "Cuban Cocktail No. 2"
          ],
          [
           2478,
           "Cuban Cocktail No. 2"
          ],
          [
           2479,
           "Cuban Cocktail No. 2"
          ],
          [
           2480,
           "Prohibition Punch"
          ],
          [
           2481,
           "Prohibition Punch"
          ],
          [
           2482,
           "Prohibition Punch"
          ],
          [
           2483,
           "Prohibition Punch"
          ],
          [
           2484,
           "Prohibition Punch"
          ],
          [
           2485,
           "Prohibition Punch"
          ],
          [
           2486,
           "Prairie Oyster Cocktail"
          ],
          [
           2487,
           "Prairie Oyster Cocktail"
          ],
          [
           2488,
           "Prairie Oyster Cocktail"
          ],
          [
           2489,
           "Prairie Oyster Cocktail"
          ],
          [
           2490,
           "Prairie Oyster Cocktail"
          ],
          [
           2491,
           "Prairie Oyster Cocktail"
          ],
          [
           2492,
           "Poker Cocktail"
          ],
          [
           2493,
           "Poker Cocktail"
          ],
          [
           2494,
           "Planter's Punch No. 2"
          ],
          [
           2495,
           "Planter's Punch No. 2"
          ],
          [
           2496,
           "Planter's Punch No. 2"
          ],
          [
           2497,
           "Planter's Punch No. 2"
          ],
          [
           2498,
           "Planter's Punch No. 2"
          ],
          [
           2499,
           "Planter's Punch No. 1"
          ],
          [
           2500,
           "Planter's Punch No. 1"
          ],
          [
           2501,
           "Planter's Punch No. 1"
          ],
          [
           2502,
           "Planter's Punch No. 1"
          ],
          [
           2503,
           "Planter's Punch No. 1"
          ],
          [
           2504,
           "Planter's Cocktail"
          ],
          [
           2505,
           "Planter's Cocktail"
          ],
          [
           2506,
           "Planter's Cocktail"
          ],
          [
           2507,
           "Pink Paradise"
          ],
          [
           2508,
           "Pink Paradise"
          ],
          [
           2509,
           "Pink Paradise"
          ],
          [
           2510,
           "Pink Paradise"
          ],
          [
           2511,
           "Pink Creole"
          ],
          [
           2512,
           "Pink Creole"
          ],
          [
           2513,
           "Pink Creole"
          ],
          [
           2514,
           "Pink Creole"
          ],
          [
           2515,
           "Pineapple Fizz"
          ],
          [
           2516,
           "Pineapple Fizz"
          ],
          [
           2517,
           "Pineapple Fizz"
          ],
          [
           2518,
           "Pineapple Cocktail"
          ],
          [
           2519,
           "Pineapple Cocktail"
          ],
          [
           2520,
           "Pineapple Cocktail"
          ],
          [
           2521,
           "Pearl Button"
          ],
          [
           2522,
           "Pearl Button"
          ],
          [
           2523,
           "Pearl Button"
          ],
          [
           2524,
           "The Crux"
          ],
          [
           2525,
           "The Crux"
          ],
          [
           2526,
           "The Crux"
          ],
          [
           2527,
           "The Crux"
          ],
          [
           2528,
           "Paris When It Sizzles"
          ],
          [
           2529,
           "Paris When It Sizzles"
          ],
          [
           2530,
           "Paris When It Sizzles"
          ],
          [
           2531,
           "Paris When It Sizzles"
          ],
          [
           2532,
           "Palmetto Cocktail"
          ],
          [
           2533,
           "Palmetto Cocktail"
          ],
          [
           2534,
           "Palmetto Cocktail"
          ],
          [
           2535,
           "Paddington"
          ],
          [
           2536,
           "Paddington"
          ],
          [
           2537,
           "Paddington"
          ],
          [
           2538,
           "Paddington"
          ],
          [
           2539,
           "Paddington"
          ],
          [
           2540,
           "Paddington"
          ],
          [
           2541,
           "The Old Cuban"
          ],
          [
           2542,
           "The Old Cuban"
          ],
          [
           2543,
           "The Old Cuban"
          ],
          [
           2544,
           "The Old Cuban"
          ],
          [
           2545,
           "The Old Cuban"
          ],
          [
           2546,
           "The Old Cuban"
          ],
          [
           2547,
           "Oh, Gosh!"
          ],
          [
           2548,
           "Oh, Gosh!"
          ],
          [
           2549,
           "Oh, Gosh!"
          ],
          [
           2550,
           "Night Cap"
          ],
          [
           2551,
           "Night Cap"
          ],
          [
           2552,
           "New Orleans Buck"
          ],
          [
           2553,
           "New Orleans Buck"
          ],
          [
           2554,
           "New Orleans Buck"
          ],
          [
           2555,
           "Nevada Cocktail"
          ],
          [
           2556,
           "Nevada Cocktail"
          ],
          [
           2557,
           "Nevada Cocktail"
          ],
          [
           2558,
           "Nevada Cocktail"
          ],
          [
           2559,
           "Nevada Cocktail"
          ],
          [
           2560,
           "Moonquake Shake"
          ],
          [
           2561,
           "Moonquake Shake"
          ],
          [
           2562,
           "Moonquake Shake"
          ],
          [
           2563,
           "Monkey Wrench"
          ],
          [
           2564,
           "Creme De Cafe"
          ],
          [
           2565,
           "Creme De Cafe"
          ],
          [
           2566,
           "Creme De Cafe"
          ],
          [
           2567,
           "Creme De Cafe"
          ],
          [
           2568,
           "Margarita"
          ],
          [
           2569,
           "Margarita"
          ],
          [
           2570,
           "Margarita"
          ],
          [
           2571,
           "Mojito"
          ],
          [
           2572,
           "Mojito"
          ],
          [
           2573,
           "Mojito"
          ],
          [
           2574,
           "Mojito"
          ],
          [
           2575,
           "Champagne Flamingo"
          ],
          [
           2576,
           "Champagne Flamingo"
          ],
          [
           2577,
           "Champagne Flamingo"
          ],
          [
           2578,
           "Thunder and Lightning Cocktail"
          ],
          [
           2579,
           "Thunder and Lightning Cocktail"
          ],
          [
           2580,
           "Thunder and Lightning Cocktail"
          ],
          [
           2581,
           "Casco Bay Lemonade"
          ],
          [
           2582,
           "Casco Bay Lemonade"
          ],
          [
           2583,
           "Casco Bay Lemonade"
          ],
          [
           2584,
           "Casco Bay Lemonade"
          ],
          [
           2585,
           "Caribbean Cruise"
          ],
          [
           2586,
           "Caribbean Cruise"
          ],
          [
           2587,
           "Caribbean Cruise"
          ],
          [
           2588,
           "Caribbean Cruise"
          ],
          [
           2589,
           "Caribbean Cruise"
          ],
          [
           2590,
           "Cappuccino Cocktail"
          ],
          [
           2591,
           "Cappuccino Cocktail"
          ],
          [
           2592,
           "Cappuccino Cocktail"
          ],
          [
           2593,
           "Cappuccino Cocktail"
          ],
          [
           2594,
           "Cappuccino Cocktail"
          ],
          [
           2595,
           "Cape Codder"
          ],
          [
           2596,
           "Cape Codder"
          ],
          [
           2597,
           "Cape Codder"
          ],
          [
           2598,
           "Cape Codder"
          ],
          [
           2599,
           "Cape Codder"
          ],
          [
           2600,
           "Baltimore Bracer Cocktail"
          ],
          [
           2601,
           "Baltimore Bracer Cocktail"
          ],
          [
           2602,
           "Baltimore Bracer Cocktail"
          ],
          [
           2603,
           "Caesar"
          ],
          [
           2604,
           "Caesar"
          ],
          [
           2605,
           "Caesar"
          ],
          [
           2606,
           "Caesar"
          ],
          [
           2607,
           "Caesar"
          ],
          [
           2608,
           "Bull Shot"
          ],
          [
           2609,
           "Bull Shot"
          ],
          [
           2610,
           "Bull Shot"
          ],
          [
           2611,
           "Bull Shot"
          ],
          [
           2612,
           "Bull Shot"
          ],
          [
           2613,
           "Bullfrog"
          ],
          [
           2614,
           "Bullfrog"
          ],
          [
           2615,
           "Boston Gold"
          ],
          [
           2616,
           "Boston Gold"
          ],
          [
           2617,
           "Boston Gold"
          ],
          [
           2618,
           "Corpse Reviver No. 1"
          ],
          [
           2619,
           "Corpse Reviver No. 1"
          ],
          [
           2620,
           "Corpse Reviver No. 1"
          ],
          [
           2621,
           "Thanksgiving Special Cocktail"
          ],
          [
           2622,
           "Thanksgiving Special Cocktail"
          ],
          [
           2623,
           "Thanksgiving Special Cocktail"
          ],
          [
           2624,
           "Thanksgiving Special Cocktail"
          ],
          [
           2625,
           "Tequini Cocktail"
          ],
          [
           2626,
           "Tequini Cocktail"
          ],
          [
           2627,
           "Tequini Cocktail"
          ],
          [
           2628,
           "Bordeaux Cocktail"
          ],
          [
           2629,
           "Bordeaux Cocktail"
          ],
          [
           2630,
           "Bolshoi Punch"
          ],
          [
           2631,
           "Bolshoi Punch"
          ],
          [
           2632,
           "Bolshoi Punch"
          ],
          [
           2633,
           "Bolshoi Punch"
          ],
          [
           2634,
           "Bolshoi Punch"
          ],
          [
           2635,
           "Blue Lagoon"
          ],
          [
           2636,
           "Blue Lagoon"
          ],
          [
           2637,
           "Blue Lagoon"
          ],
          [
           2638,
           "Blue Lagoon"
          ],
          [
           2639,
           "Stinger Cocktail"
          ],
          [
           2640,
           "Stinger Cocktail"
          ],
          [
           2641,
           "Bloody Mary"
          ],
          [
           2642,
           "Bloody Mary"
          ],
          [
           2643,
           "Bloody Mary"
          ],
          [
           2644,
           "Bloody Mary"
          ],
          [
           2645,
           "Bloody Mary"
          ],
          [
           2646,
           "Spritzer Highball"
          ],
          [
           2647,
           "Bloody Bull"
          ],
          [
           2648,
           "Bloody Bull"
          ],
          [
           2649,
           "Bloody Bull"
          ],
          [
           2650,
           "The Blood Orange"
          ],
          [
           2651,
           "The Blood Orange"
          ],
          [
           2652,
           "Black Russian"
          ],
          [
           2653,
           "Black Russian"
          ],
          [
           2654,
           "Black Magic"
          ],
          [
           2655,
           "Black Magic"
          ],
          [
           2656,
           "Black Magic"
          ],
          [
           2657,
           "Black Cherry Chocolate"
          ],
          [
           2658,
           "Black Cherry Chocolate"
          ],
          [
           2659,
           "Black Cherry Chocolate"
          ],
          [
           2660,
           "Victor Collins"
          ],
          [
           2661,
           "Victor Collins"
          ],
          [
           2662,
           "Victor Collins"
          ],
          [
           2663,
           "Victor Collins"
          ],
          [
           2664,
           "Snowball Cocktail"
          ],
          [
           2665,
           "Snowball Cocktail"
          ],
          [
           2666,
           "Snowball Cocktail"
          ],
          [
           2667,
           "Violet Fizz"
          ],
          [
           2668,
           "Violet Fizz"
          ],
          [
           2669,
           "Violet Fizz"
          ],
          [
           2670,
           "Violet Fizz"
          ],
          [
           2671,
           "Bikini"
          ],
          [
           2672,
           "Bikini"
          ],
          [
           2673,
           "Bikini"
          ],
          [
           2674,
           "Bikini"
          ],
          [
           2675,
           "Bikini"
          ],
          [
           2676,
           "Cold Deck Cocktail"
          ],
          [
           2677,
           "Cold Deck Cocktail"
          ],
          [
           2678,
           "Cold Deck Cocktail"
          ],
          [
           2679,
           "The Big Crush"
          ],
          [
           2680,
           "The Big Crush"
          ],
          [
           2681,
           "The Big Crush"
          ],
          [
           2682,
           "The Big Crush"
          ],
          [
           2683,
           "Bianca"
          ],
          [
           2684,
           "Bianca"
          ],
          [
           2685,
           "Bianca"
          ],
          [
           2686,
           "Bianca"
          ],
          [
           2687,
           "Bianca"
          ],
          [
           2688,
           "Bianca"
          ],
          [
           2689,
           "Bella Fragolia"
          ],
          [
           2690,
           "Bella Fragolia"
          ],
          [
           2691,
           "Bella Fragolia"
          ],
          [
           2692,
           "Bella Fragolia"
          ],
          [
           2693,
           "Bella Fragolia"
          ],
          [
           2694,
           "Beer Buster"
          ],
          [
           2695,
           "Beer Buster"
          ],
          [
           2696,
           "Basil 8"
          ],
          [
           2697,
           "Basil 8"
          ],
          [
           2698,
           "Basil 8"
          ],
          [
           2699,
           "Basil 8"
          ],
          [
           2700,
           "Basil 8"
          ],
          [
           2701,
           "Shamrock Cocktail"
          ],
          [
           2702,
           "Shamrock Cocktail"
          ],
          [
           2703,
           "Shamrock Cocktail"
          ],
          [
           2704,
           "Aqueduct"
          ],
          [
           2705,
           "Aqueduct"
          ],
          [
           2706,
           "Aqueduct"
          ],
          [
           2707,
           "Aqueduct"
          ],
          [
           2708,
           "Scotch Whisky Highball"
          ],
          [
           2709,
           "Alfie Cocktail"
          ],
          [
           2710,
           "Alfie Cocktail"
          ],
          [
           2711,
           "Alfie Cocktail"
          ],
          [
           2712,
           "Admiral Perry"
          ],
          [
           2713,
           "Admiral Perry"
          ],
          [
           2714,
           "Admiral Perry"
          ],
          [
           2715,
           "Admiral Perry"
          ],
          [
           2716,
           "Yellow Rose Of Texas"
          ],
          [
           2717,
           "Yellow Rose Of Texas"
          ],
          [
           2718,
           "Yellow Rose Of Texas"
          ],
          [
           2719,
           "Yellow Rose Of Texas"
          ],
          [
           2720,
           "Yellow Rose Of Texas"
          ],
          [
           2721,
           "St. Patrick's Day Cocktail"
          ],
          [
           2722,
           "St. Patrick's Day Cocktail"
          ],
          [
           2723,
           "St. Patrick's Day Cocktail"
          ],
          [
           2724,
           "St. Patrick's Day Cocktail"
          ],
          [
           2725,
           "Purple Twister"
          ],
          [
           2726,
           "Waiting On Summer"
          ],
          [
           2727,
           "Waiting On Summer"
          ],
          [
           2728,
           "Waiting On Summer"
          ],
          [
           2729,
           "Waiting On Summer"
          ],
          [
           2730,
           "Waiting On Summer"
          ],
          [
           2731,
           "Waiting On Summer"
          ],
          [
           2732,
           "Cognac Highball"
          ],
          [
           2733,
           "Prince's Smile Cocktail"
          ],
          [
           2734,
           "Prince's Smile Cocktail"
          ],
          [
           2735,
           "Prince's Smile Cocktail"
          ],
          [
           2736,
           "Prince's Smile Cocktail"
          ],
          [
           2737,
           "Viva Villa"
          ],
          [
           2738,
           "Viva Villa"
          ],
          [
           2739,
           "Viva Villa"
          ],
          [
           2740,
           "Viva Villa"
          ],
          [
           2741,
           "Praire Oyster Cocktail"
          ],
          [
           2742,
           "Praire Oyster Cocktail"
          ],
          [
           2743,
           "Praire Oyster Cocktail"
          ],
          [
           2744,
           "Praire Oyster Cocktail"
          ],
          [
           2745,
           "Praire Oyster Cocktail"
          ],
          [
           2746,
           "Praire Chicken"
          ],
          [
           2747,
           "Praire Chicken"
          ],
          [
           2748,
           "Venial Sin"
          ],
          [
           2749,
           "Venial Sin"
          ],
          [
           2750,
           "Venial Sin"
          ],
          [
           2751,
           "Venial Sin"
          ],
          [
           2752,
           "Venial Sin"
          ],
          [
           2753,
           "Vagabundo"
          ],
          [
           2754,
           "Vagabundo"
          ],
          [
           2755,
           "Vagabundo"
          ],
          [
           2756,
           "Vagabundo"
          ],
          [
           2757,
           "The 21st Century"
          ],
          [
           2758,
           "The 21st Century"
          ],
          [
           2759,
           "The 21st Century"
          ],
          [
           2760,
           "The 21st Century"
          ],
          [
           2761,
           "The 21st Century"
          ],
          [
           2762,
           "Pollyanna Cocktail"
          ],
          [
           2763,
           "Pollyanna Cocktail"
          ],
          [
           2764,
           "Pollyanna Cocktail"
          ],
          [
           2765,
           "Pollyanna Cocktail"
          ],
          [
           2766,
           "Toreador"
          ],
          [
           2767,
           "Toreador"
          ],
          [
           2768,
           "Toreador"
          ],
          [
           2769,
           "Pink Squirrel Cocktail"
          ],
          [
           2770,
           "Pink Squirrel Cocktail"
          ],
          [
           2771,
           "Pink Squirrel Cocktail"
          ],
          [
           2772,
           "Pink Lady Cocktail"
          ],
          [
           2773,
           "Pink Lady Cocktail"
          ],
          [
           2774,
           "Pink Lady Cocktail"
          ],
          [
           2775,
           "Pink Lady Cocktail"
          ],
          [
           2776,
           "Tijuana Taxi"
          ],
          [
           2777,
           "Tijuana Taxi"
          ],
          [
           2778,
           "Tijuana Taxi"
          ],
          [
           2779,
           "Tia Juanathan"
          ],
          [
           2780,
           "Tia Juanathan"
          ],
          [
           2781,
           "Tia Juanathan"
          ],
          [
           2782,
           "Tia Juanathan"
          ],
          [
           2783,
           "Phoebe Snow Cocktail"
          ],
          [
           2784,
           "Phoebe Snow Cocktail"
          ],
          [
           2785,
           "Phoebe Snow Cocktail"
          ],
          [
           2786,
           "Tequonic"
          ],
          [
           2787,
           "Tequonic"
          ],
          [
           2788,
           "Tequini"
          ],
          [
           2789,
           "Tequini"
          ],
          [
           2790,
           "Tequini"
          ],
          [
           2791,
           "Passion Daiquiri Cocktail"
          ],
          [
           2792,
           "Passion Daiquiri Cocktail"
          ],
          [
           2793,
           "Passion Daiquiri Cocktail"
          ],
          [
           2794,
           "Passion Daiquiri Cocktail"
          ],
          [
           2795,
           "Parisian Blonde Cocktail"
          ],
          [
           2796,
           "Parisian Blonde Cocktail"
          ],
          [
           2797,
           "Parisian Blonde Cocktail"
          ],
          [
           2798,
           "Tequila Sunrise"
          ],
          [
           2799,
           "Tequila Sunrise"
          ],
          [
           2800,
           "Tequila Sunrise"
          ],
          [
           2801,
           "Coffee Grasshopper"
          ],
          [
           2802,
           "Coffee Grasshopper"
          ],
          [
           2803,
           "Coffee Grasshopper"
          ],
          [
           2804,
           "Tequila Straight"
          ],
          [
           2805,
           "Tequila Straight"
          ],
          [
           2806,
           "Tequila Straight"
          ],
          [
           2807,
           "Tequila Sour"
          ],
          [
           2808,
           "Tequila Sour"
          ],
          [
           2809,
           "Tequila Sour"
          ],
          [
           2810,
           "Tequila Smash"
          ],
          [
           2811,
           "Tequila Smash"
          ],
          [
           2812,
           "Tequila Smash"
          ],
          [
           2813,
           "Tequila Smash"
          ],
          [
           2814,
           "Tequila Smash"
          ],
          [
           2815,
           "Tequila Pink"
          ],
          [
           2816,
           "Tequila Pink"
          ],
          [
           2817,
           "Tequila Pink"
          ],
          [
           2818,
           "Tequila Old-Fashioned"
          ],
          [
           2819,
           "Tequila Old-Fashioned"
          ],
          [
           2820,
           "Tequila Old-Fashioned"
          ],
          [
           2821,
           "Tequila Old-Fashioned"
          ],
          [
           2822,
           "Rob Roy Cocktail"
          ],
          [
           2823,
           "Rob Roy Cocktail"
          ],
          [
           2824,
           "Tequila Mockingbird"
          ],
          [
           2825,
           "Tequila Mockingbird"
          ],
          [
           2826,
           "Tequila Mockingbird"
          ],
          [
           2827,
           "Tequila Mockingbird"
          ],
          [
           2828,
           "Tequila Mockingbird"
          ],
          [
           2829,
           "Tequila Matador"
          ],
          [
           2830,
           "Tequila Matador"
          ],
          [
           2831,
           "Tequila Matador"
          ],
          [
           2832,
           "Tequila Manhattan"
          ],
          [
           2833,
           "Tequila Manhattan"
          ],
          [
           2834,
           "Tequila Manhattan"
          ],
          [
           2835,
           "T.N.T. Cocktail"
          ],
          [
           2836,
           "T.N.T. Cocktail"
          ],
          [
           2837,
           "Thunderclap Cocktail"
          ],
          [
           2838,
           "Thunderclap Cocktail"
          ],
          [
           2839,
           "Thunderclap Cocktail"
          ],
          [
           2840,
           "Thunder Cocktail"
          ],
          [
           2841,
           "Thunder Cocktail"
          ],
          [
           2842,
           "Thunder Cocktail"
          ],
          [
           2843,
           "Thunder Cocktail"
          ],
          [
           2844,
           "Tequila Collins"
          ],
          [
           2845,
           "Tequila Collins"
          ],
          [
           2846,
           "Tequila Collins"
          ],
          [
           2847,
           "White Lady Cocktail"
          ],
          [
           2848,
           "White Lady Cocktail"
          ],
          [
           2849,
           "White Lady Cocktail"
          ],
          [
           2850,
           "White Lady Cocktail"
          ],
          [
           2851,
           "Tequila Canyon"
          ],
          [
           2852,
           "Tequila Canyon"
          ],
          [
           2853,
           "Tequila Canyon"
          ],
          [
           2854,
           "Tequila Canyon"
          ],
          [
           2855,
           "Tequila Canyon"
          ],
          [
           2856,
           "Chicago Cocktail"
          ],
          [
           2857,
           "Chicago Cocktail"
          ],
          [
           2858,
           "Chicago Cocktail"
          ],
          [
           2859,
           "Chicago Cocktail"
          ],
          [
           2860,
           "Chicago Cocktail"
          ],
          [
           2861,
           "Sunday Confession"
          ],
          [
           2862,
           "Sunday Confession"
          ],
          [
           2863,
           "Sunday Confession"
          ],
          [
           2864,
           "Strawberry Margarita"
          ],
          [
           2865,
           "Strawberry Margarita"
          ],
          [
           2866,
           "Strawberry Margarita"
          ],
          [
           2867,
           "Strawberry Margarita"
          ],
          [
           2868,
           "Strawberry Margarita"
          ],
          [
           2869,
           "Strawberry Margarita"
          ],
          [
           2870,
           "Western Rose Cocktail"
          ],
          [
           2871,
           "Western Rose Cocktail"
          ],
          [
           2872,
           "Western Rose Cocktail"
          ],
          [
           2873,
           "Western Rose Cocktail"
          ],
          [
           2874,
           "Widow's Kiss Cocktail"
          ],
          [
           2875,
           "Widow's Kiss Cocktail"
          ],
          [
           2876,
           "Widow's Kiss Cocktail"
          ],
          [
           2877,
           "Widow's Kiss Cocktail"
          ],
          [
           2878,
           "Spice Of Life"
          ],
          [
           2879,
           "Spice Of Life"
          ],
          [
           2880,
           "Spice Of Life"
          ],
          [
           2881,
           "Spice Of Life"
          ],
          [
           2882,
           "Spice Of Life"
          ],
          [
           2883,
           "Widow's Dream Cocktail"
          ],
          [
           2884,
           "Widow's Dream Cocktail"
          ],
          [
           2885,
           "Vodka Gypsy Cocktail"
          ],
          [
           2886,
           "Vodka Gypsy Cocktail"
          ],
          [
           2887,
           "Vodka Gypsy Cocktail"
          ],
          [
           2888,
           "South Of The Border"
          ],
          [
           2889,
           "South Of The Border"
          ],
          [
           2890,
           "South Of The Border"
          ],
          [
           2891,
           "Vodka Grasshopper Cocktail"
          ],
          [
           2892,
           "Vodka Grasshopper Cocktail"
          ],
          [
           2893,
           "Vodka Grasshopper Cocktail"
          ],
          [
           2894,
           "Violet Fizz Juice"
          ],
          [
           2895,
           "Violet Fizz Juice"
          ],
          [
           2896,
           "Violet Fizz Juice"
          ],
          [
           2897,
           "Violet Fizz Juice"
          ],
          [
           2898,
           "Smoked Margarita"
          ],
          [
           2899,
           "Smoked Margarita"
          ],
          [
           2900,
           "Smoked Margarita"
          ],
          [
           2901,
           "Smoked Margarita"
          ],
          [
           2902,
           "Smoked Margarita"
          ],
          [
           2903,
           "Sloe Tequila"
          ],
          [
           2904,
           "Sloe Tequila"
          ],
          [
           2905,
           "Sloe Tequila"
          ],
          [
           2906,
           "Queen Elizabeth Cocktail"
          ],
          [
           2907,
           "Queen Elizabeth Cocktail"
          ],
          [
           2908,
           "Queen Elizabeth Cocktail"
          ],
          [
           2909,
           "Silk Stockings"
          ],
          [
           2910,
           "Silk Stockings"
          ],
          [
           2911,
           "Silk Stockings"
          ],
          [
           2912,
           "Silk Stockings"
          ],
          [
           2913,
           "Orchid Cocktail"
          ],
          [
           2914,
           "Orchid Cocktail"
          ],
          [
           2915,
           "Orchid Cocktail"
          ],
          [
           2916,
           "Orange Milk Fizz"
          ],
          [
           2917,
           "Orange Milk Fizz"
          ],
          [
           2918,
           "Orange Milk Fizz"
          ],
          [
           2919,
           "Orange Milk Fizz"
          ],
          [
           2920,
           "Orange Gin Rickey"
          ],
          [
           2921,
           "Orange Gin Rickey"
          ],
          [
           2922,
           "Orange Gin Highball"
          ],
          [
           2923,
           "Orange Gin Fizz"
          ],
          [
           2924,
           "Orange Gin Fizz"
          ],
          [
           2925,
           "Orange Gin Fizz"
          ],
          [
           2926,
           "Orange Gin Collins"
          ],
          [
           2927,
           "Orange Gin Collins"
          ],
          [
           2928,
           "Sidewinder"
          ],
          [
           2929,
           "Sidewinder"
          ],
          [
           2930,
           "Sidewinder"
          ],
          [
           2931,
           "Sidewinder"
          ],
          [
           2932,
           "Sidewinder"
          ],
          [
           2933,
           "Sidewinder"
          ],
          [
           2934,
           "Orange Blossom Cocktail"
          ],
          [
           2935,
           "Orange Blossom Cocktail"
          ],
          [
           2936,
           "Orange Blossom Cocktail"
          ],
          [
           2937,
           "Shady Lady"
          ],
          [
           2938,
           "Shady Lady"
          ],
          [
           2939,
           "Shady Lady"
          ],
          [
           2940,
           "Shady Lady"
          ],
          [
           2941,
           "Cherry Blossom"
          ],
          [
           2942,
           "Cherry Blossom"
          ],
          [
           2943,
           "Cherry Blossom"
          ],
          [
           2944,
           "Cherry Blossom"
          ],
          [
           2945,
           "Cherry Blossom"
          ],
          [
           2946,
           "The Sfozando"
          ],
          [
           2947,
           "The Sfozando"
          ],
          [
           2948,
           "The Sfozando"
          ],
          [
           2949,
           "The Sfozando"
          ],
          [
           2950,
           "The Sfozando"
          ],
          [
           2951,
           "Napoleon Cocktail"
          ],
          [
           2952,
           "Napoleon Cocktail"
          ],
          [
           2953,
           "Napoleon Cocktail"
          ],
          [
           2954,
           "Moulin Rouge Cocktail"
          ],
          [
           2955,
           "Moulin Rouge Cocktail"
          ],
          [
           2956,
           "Moulin Rouge Cocktail"
          ],
          [
           2957,
           "Sea Of Cortez"
          ],
          [
           2958,
           "Sea Of Cortez"
          ],
          [
           2959,
           "Sea Of Cortez"
          ],
          [
           2960,
           "Sea Of Cortez"
          ],
          [
           2961,
           "Satin Sheets"
          ],
          [
           2962,
           "Satin Sheets"
          ],
          [
           2963,
           "Satin Sheets"
          ],
          [
           2964,
           "Satin Sheets"
          ],
          [
           2965,
           "Santana Sling"
          ],
          [
           2966,
           "Santana Sling"
          ],
          [
           2967,
           "Santana Sling"
          ],
          [
           2968,
           "Santana Sling"
          ],
          [
           2969,
           "Santana Sling"
          ],
          [
           2970,
           "Rosita"
          ],
          [
           2971,
           "Rosita"
          ],
          [
           2972,
           "Rosita"
          ],
          [
           2973,
           "Rosita"
          ],
          [
           2974,
           "Rosita"
          ],
          [
           2975,
           "Mariposa Cocktail"
          ],
          [
           2976,
           "Mariposa Cocktail"
          ],
          [
           2977,
           "Mariposa Cocktail"
          ],
          [
           2978,
           "Mariposa Cocktail"
          ],
          [
           2979,
           "Mariposa Cocktail"
          ],
          [
           2980,
           "Margarita Cocktail"
          ],
          [
           2981,
           "Margarita Cocktail"
          ],
          [
           2982,
           "Margarita Cocktail"
          ],
          [
           2983,
           "The Refuge"
          ],
          [
           2984,
           "The Refuge"
          ],
          [
           2985,
           "The Refuge"
          ],
          [
           2986,
           "The Refuge"
          ],
          [
           2987,
           "The Refuge"
          ],
          [
           2988,
           "Manhattan Cocktail (dry)"
          ],
          [
           2989,
           "Manhattan Cocktail (dry)"
          ],
          [
           2990,
           "Mamie Taylor"
          ],
          [
           2991,
           "Mamie Taylor"
          ],
          [
           2992,
           "Quetzalcoatl"
          ],
          [
           2993,
           "Quetzalcoatl"
          ],
          [
           2994,
           "Quetzalcoatl"
          ],
          [
           2995,
           "Quetzalcoatl"
          ],
          [
           2996,
           "Quetzalcoatl"
          ],
          [
           2997,
           "Zero Mint"
          ],
          [
           2998,
           "Purple Pancho"
          ],
          [
           2999,
           "Purple Pancho"
          ],
          [
           3000,
           "Purple Pancho"
          ],
          [
           3001,
           "Purple Pancho"
          ],
          [
           3002,
           "Purple Pancho"
          ],
          [
           3003,
           "Purple Pancho"
          ],
          [
           3004,
           "Midnight Express"
          ],
          [
           3005,
           "Midnight Express"
          ],
          [
           3006,
           "Midnight Express"
          ],
          [
           3007,
           "Midnight Express"
          ],
          [
           3008,
           "Midnight Express"
          ],
          [
           3009,
           "London Special Cocktail"
          ],
          [
           3010,
           "Mary Pickford Cocktail"
          ],
          [
           3011,
           "Mary Pickford Cocktail"
          ],
          [
           3012,
           "Mary Pickford Cocktail"
          ],
          [
           3013,
           "Mary Pickford Cocktail"
          ],
          [
           3014,
           "Charles Cocktail"
          ],
          [
           3015,
           "Charles Cocktail"
          ],
          [
           3016,
           "Charles Cocktail"
          ],
          [
           3017,
           "Martinique Rose"
          ],
          [
           3018,
           "Martinique Rose"
          ],
          [
           3019,
           "Martinique Rose"
          ],
          [
           3020,
           "Martinique Rose"
          ],
          [
           3021,
           "Martinique Rose"
          ],
          [
           3022,
           "Mariposa"
          ],
          [
           3023,
           "Mariposa"
          ],
          [
           3024,
           "Mariposa"
          ],
          [
           3025,
           "Mariposa"
          ],
          [
           3026,
           "Mariposa"
          ],
          [
           3027,
           "Mandeville"
          ],
          [
           3028,
           "Mandeville"
          ],
          [
           3029,
           "Mandeville"
          ],
          [
           3030,
           "Mandeville"
          ],
          [
           3031,
           "Mandeville"
          ],
          [
           3032,
           "K.C.B. Cocktail"
          ],
          [
           3033,
           "K.C.B. Cocktail"
          ],
          [
           3034,
           "K.C.B. Cocktail"
          ],
          [
           3035,
           "K.C.B. Cocktail"
          ],
          [
           3036,
           "Malmaison"
          ],
          [
           3037,
           "Malmaison"
          ],
          [
           3038,
           "Malmaison"
          ],
          [
           3039,
           "Mai-Tai (Trader Vic Version)"
          ],
          [
           3040,
           "Mai-Tai (Trader Vic Version)"
          ],
          [
           3041,
           "Mai-Tai (Trader Vic Version)"
          ],
          [
           3042,
           "Mai-Tai (Trader Vic Version)"
          ],
          [
           3043,
           "Mai-Tai (Trader Vic Version)"
          ],
          [
           3044,
           "Jersey Lightning Cocktail"
          ],
          [
           3045,
           "Jersey Lightning Cocktail"
          ],
          [
           3046,
           "Jersey Lightning Cocktail"
          ],
          [
           3047,
           "Lumination"
          ],
          [
           3048,
           "Lumination"
          ],
          [
           3049,
           "Lumination"
          ],
          [
           3050,
           "Lumination"
          ],
          [
           3051,
           "Lumination"
          ],
          [
           3052,
           "Jamaica Glow Cocktail"
          ],
          [
           3053,
           "Jamaica Glow Cocktail"
          ],
          [
           3054,
           "Jamaica Glow Cocktail"
          ],
          [
           3055,
           "Jamaica Glow Cocktail"
          ],
          [
           3056,
           "Lounge Lizard"
          ],
          [
           3057,
           "Lounge Lizard"
          ],
          [
           3058,
           "Jack-in-the-Box Cocktail"
          ],
          [
           3059,
           "Jack-in-the-Box Cocktail"
          ],
          [
           3060,
           "Jack-in-the-Box Cocktail"
          ],
          [
           3061,
           "Irish Whisky Cocktail"
          ],
          [
           3062,
           "Irish Whisky Cocktail"
          ],
          [
           3063,
           "Irish Whisky Cocktail"
          ],
          [
           3064,
           "Irish Whisky Cocktail"
          ],
          [
           3065,
           "Irish Whisky Cocktail"
          ],
          [
           3066,
           "Look Out Below"
          ],
          [
           3067,
           "Look Out Below"
          ],
          [
           3068,
           "Look Out Below"
          ],
          [
           3069,
           "Little Princess Cocktail"
          ],
          [
           3070,
           "Little Princess Cocktail"
          ],
          [
           3071,
           "Little Devil Cocktail"
          ],
          [
           3072,
           "Little Devil Cocktail"
          ],
          [
           3073,
           "Little Devil Cocktail"
          ],
          [
           3074,
           "Little Devil Cocktail"
          ],
          [
           3075,
           "Champs Elysees Cocktail"
          ],
          [
           3076,
           "Champs Elysees Cocktail"
          ],
          [
           3077,
           "Champs Elysees Cocktail"
          ],
          [
           3078,
           "Champs Elysees Cocktail"
          ],
          [
           3079,
           "Champs Elysees Cocktail"
          ],
          [
           3080,
           "Hop Toad Cocktail"
          ],
          [
           3081,
           "Hop Toad Cocktail"
          ],
          [
           3082,
           "Hop Toad Cocktail"
          ],
          [
           3083,
           "Level headed Cocktail"
          ],
          [
           3084,
           "Level headed Cocktail"
          ],
          [
           3085,
           "Level headed Cocktail"
          ],
          [
           3086,
           "Level headed Cocktail"
          ],
          [
           3087,
           "Level headed Cocktail"
          ],
          [
           3088,
           "La Vita Dulce"
          ],
          [
           3089,
           "La Vita Dulce"
          ],
          [
           3090,
           "La Vita Dulce"
          ],
          [
           3091,
           "La Vita Dulce"
          ],
          [
           3092,
           "Hole-in-One Cocktail"
          ],
          [
           3093,
           "Hole-in-One Cocktail"
          ],
          [
           3094,
           "Hole-in-One Cocktail"
          ],
          [
           3095,
           "Hole-in-One Cocktail"
          ],
          [
           3096,
           "Ko Adang"
          ],
          [
           3097,
           "Ko Adang"
          ],
          [
           3098,
           "Ko Adang"
          ],
          [
           3099,
           "Ko Adang"
          ],
          [
           3100,
           "Ko Adang"
          ],
          [
           3101,
           "Ko Adang"
          ],
          [
           3102,
           "Knickerbocker Special Cocktail"
          ],
          [
           3103,
           "Knickerbocker Special Cocktail"
          ],
          [
           3104,
           "Knickerbocker Special Cocktail"
          ],
          [
           3105,
           "Knickerbocker Special Cocktail"
          ],
          [
           3106,
           "Knickerbocker Special Cocktail"
          ],
          [
           3107,
           "Hair Raiser Cocktail"
          ],
          [
           3108,
           "Hair Raiser Cocktail"
          ],
          [
           3109,
           "Hair Raiser Cocktail"
          ],
          [
           3110,
           "Green Opal Cocktail"
          ],
          [
           3111,
           "Green Opal Cocktail"
          ],
          [
           3112,
           "Green Opal Cocktail"
          ],
          [
           3113,
           "Jamaican Ginger"
          ],
          [
           3114,
           "Jamaican Ginger"
          ],
          [
           3115,
           "Jamaican Ginger"
          ],
          [
           3116,
           "Jamaican Ginger"
          ],
          [
           3117,
           "Jamaican Ginger"
          ],
          [
           3118,
           "Green Dragon Cocktail"
          ],
          [
           3119,
           "Green Dragon Cocktail"
          ],
          [
           3120,
           "Green Dragon Cocktail"
          ],
          [
           3121,
           "Green Dragon Cocktail"
          ],
          [
           3122,
           "Green Dragon Cocktail"
          ],
          [
           3123,
           "Grasshopper Cocktail"
          ],
          [
           3124,
           "Grasshopper Cocktail"
          ],
          [
           3125,
           "Grasshopper Cocktail"
          ],
          [
           3126,
           "Jamaican Crawler"
          ],
          [
           3127,
           "Jamaican Crawler"
          ],
          [
           3128,
           "Jamaican Crawler"
          ],
          [
           3129,
           "Jamaican Crawler"
          ],
          [
           3130,
           "Golden Slipper Cocktail"
          ],
          [
           3131,
           "Golden Slipper Cocktail"
          ],
          [
           3132,
           "Jade"
          ],
          [
           3133,
           "Jade"
          ],
          [
           3134,
           "Jade"
          ],
          [
           3135,
           "Jade"
          ],
          [
           3136,
           "Jade"
          ],
          [
           3137,
           "Jacqueline"
          ],
          [
           3138,
           "Jacqueline"
          ],
          [
           3139,
           "Jacqueline"
          ],
          [
           3140,
           "Jacqueline"
          ],
          [
           3141,
           "Jack Sparrow Flip"
          ],
          [
           3142,
           "Jack Sparrow Flip"
          ],
          [
           3143,
           "Jack Sparrow Flip"
          ],
          [
           3144,
           "Jack Sparrow Flip"
          ],
          [
           3145,
           "Jack Sparrow Flip"
          ],
          [
           3146,
           "Irresistible"
          ],
          [
           3147,
           "Irresistible"
          ],
          [
           3148,
           "Irresistible"
          ],
          [
           3149,
           "Irresistible"
          ],
          [
           3150,
           "Carroll Cocktail"
          ],
          [
           3151,
           "Carroll Cocktail"
          ],
          [
           3152,
           "Hush and Wonder"
          ],
          [
           3153,
           "Hush and Wonder"
          ],
          [
           3154,
           "Hush and Wonder"
          ],
          [
           3155,
           "Hush and Wonder"
          ],
          [
           3156,
           "Hush and Wonder"
          ],
          [
           3157,
           "Hurricane Leah"
          ],
          [
           3158,
           "Hurricane Leah"
          ],
          [
           3159,
           "Hurricane Leah"
          ],
          [
           3160,
           "Hurricane Leah"
          ],
          [
           3161,
           "Hurricane Leah"
          ],
          [
           3162,
           "Gimlet Cocktail"
          ],
          [
           3163,
           "Gimlet Cocktail"
          ],
          [
           3164,
           "Gimlet Cocktail"
          ],
          [
           3165,
           "Hurricane"
          ],
          [
           3166,
           "Hurricane"
          ],
          [
           3167,
           "Hurricane"
          ],
          [
           3168,
           "Hurricane"
          ],
          [
           3169,
           "Hurricane"
          ],
          [
           3170,
           "Hop Toad"
          ],
          [
           3171,
           "Hop Toad"
          ],
          [
           3172,
           "Hop Toad"
          ],
          [
           3173,
           "The Holy Roller"
          ],
          [
           3174,
           "The Holy Roller"
          ],
          [
           3175,
           "The Holy Roller"
          ],
          [
           3176,
           "The Holy Roller"
          ],
          [
           3177,
           "The Holy Roller"
          ],
          [
           3178,
           "Hemingway's Nog"
          ],
          [
           3179,
           "Hemingway's Nog"
          ],
          [
           3180,
           "Hemingway's Nog"
          ],
          [
           3181,
           "Hemingway's Nog"
          ],
          [
           3182,
           "Hemingway's Nog"
          ],
          [
           3183,
           "Flying Scotchman Cocktail"
          ],
          [
           3184,
           "Flying Scotchman Cocktail"
          ],
          [
           3185,
           "Flying Scotchman Cocktail"
          ],
          [
           3186,
           "Flying Scotchman Cocktail"
          ],
          [
           3187,
           "Flying Grasshopper Cocktail"
          ],
          [
           3188,
           "Flying Grasshopper Cocktail"
          ],
          [
           3189,
           "Flying Grasshopper Cocktail"
          ],
          [
           3190,
           "Havana Cocktail"
          ],
          [
           3191,
           "Havana Cocktail"
          ],
          [
           3192,
           "Havana Cocktail"
          ],
          [
           3193,
           "Harvest Nectar"
          ],
          [
           3194,
           "Harvest Nectar"
          ],
          [
           3195,
           "Harvest Nectar"
          ],
          [
           3196,
           "Harvest Nectar"
          ],
          [
           3197,
           "Harvest Nectar"
          ],
          [
           3198,
           "Fancy Brandy Cocktail"
          ],
          [
           3199,
           "Fancy Brandy Cocktail"
          ],
          [
           3200,
           "Fancy Brandy Cocktail"
          ],
          [
           3201,
           "Fancy Brandy Cocktail"
          ],
          [
           3202,
           "Fallen Angel Cocktail"
          ],
          [
           3203,
           "Fallen Angel Cocktail"
          ],
          [
           3204,
           "Fallen Angel Cocktail"
          ],
          [
           3205,
           "Fallen Angel Cocktail"
          ],
          [
           3206,
           "The Poncho"
          ],
          [
           3207,
           "The Poncho"
          ],
          [
           3208,
           "The Poncho"
          ],
          [
           3209,
           "The Poncho"
          ],
          [
           3210,
           "Hai Karate"
          ],
          [
           3211,
           "Hai Karate"
          ],
          [
           3212,
           "Hai Karate"
          ],
          [
           3213,
           "Hai Karate"
          ],
          [
           3214,
           "Hai Karate"
          ],
          [
           3215,
           "Hai Karate"
          ],
          [
           3216,
           "Cara Sposa"
          ],
          [
           3217,
           "Cara Sposa"
          ],
          [
           3218,
           "Cara Sposa"
          ],
          [
           3219,
           "Traditional Martini (Dry)"
          ],
          [
           3220,
           "Traditional Martini (Dry)"
          ],
          [
           3221,
           "Traditional Martini (Dry)"
          ],
          [
           3222,
           "Pina Agave"
          ],
          [
           3223,
           "Pina Agave"
          ],
          [
           3224,
           "Pina Agave"
          ],
          [
           3225,
           "Pina Agave"
          ],
          [
           3226,
           "Pina Agave"
          ],
          [
           3227,
           "Grande Guignol"
          ],
          [
           3228,
           "Grande Guignol"
          ],
          [
           3229,
           "Grande Guignol"
          ],
          [
           3230,
           "Grande Guignol"
          ],
          [
           3231,
           "Pancho Villa"
          ],
          [
           3232,
           "Pancho Villa"
          ],
          [
           3233,
           "Pancho Villa"
          ],
          [
           3234,
           "Pancho Villa"
          ],
          [
           3235,
           "Paloma (Natural)"
          ],
          [
           3236,
           "Paloma (Natural)"
          ],
          [
           3237,
           "Golden Friendship"
          ],
          [
           3238,
           "Golden Friendship"
          ],
          [
           3239,
           "Golden Friendship"
          ],
          [
           3240,
           "Paloma"
          ],
          [
           3241,
           "Pacific Sunshine"
          ],
          [
           3242,
           "Pacific Sunshine"
          ],
          [
           3243,
           "Pacific Sunshine"
          ],
          [
           3244,
           "Pacific Sunshine"
          ],
          [
           3245,
           "Pacific Sunshine"
          ],
          [
           3246,
           "Pacific Sunshine"
          ],
          [
           3247,
           "Golden Eclipse"
          ],
          [
           3248,
           "Golden Eclipse"
          ],
          [
           3249,
           "Golden Eclipse"
          ],
          [
           3250,
           "Golden Eclipse"
          ],
          [
           3251,
           "Golden Eclipse"
          ],
          [
           3252,
           "Diplomat Cocktail"
          ],
          [
           3253,
           "Diplomat Cocktail"
          ],
          [
           3254,
           "Diplomat Cocktail"
          ],
          [
           3255,
           "Diplomat Cocktail"
          ],
          [
           3256,
           "Oldest Temptation"
          ],
          [
           3257,
           "Oldest Temptation"
          ],
          [
           3258,
           "Oldest Temptation"
          ],
          [
           3259,
           "Oldest Temptation"
          ],
          [
           3260,
           "Oldest Temptation"
          ],
          [
           3261,
           "Oldest Temptation"
          ],
          [
           3262,
           "Ginger Grapefruit Rickey"
          ],
          [
           3263,
           "Ginger Grapefruit Rickey"
          ],
          [
           3264,
           "Ginger Grapefruit Rickey"
          ],
          [
           3265,
           "Ginger Grapefruit Rickey"
          ],
          [
           3266,
           "Calvados Cocktail"
          ],
          [
           3267,
           "Calvados Cocktail"
          ],
          [
           3268,
           "Calvados Cocktail"
          ],
          [
           3269,
           "Calvados Cocktail"
          ],
          [
           3270,
           "Daiquiri Cocktail"
          ],
          [
           3271,
           "Daiquiri Cocktail"
          ],
          [
           3272,
           "Daiquiri Cocktail"
          ],
          [
           3273,
           "The Oaxaca Old-Fashioned"
          ],
          [
           3274,
           "The Oaxaca Old-Fashioned"
          ],
          [
           3275,
           "The Oaxaca Old-Fashioned"
          ],
          [
           3276,
           "The Oaxaca Old-Fashioned"
          ],
          [
           3277,
           "Cuban Special Cocktail"
          ],
          [
           3278,
           "Cuban Special Cocktail"
          ],
          [
           3279,
           "Cuban Special Cocktail"
          ],
          [
           3280,
           "Cuban Special Cocktail"
          ],
          [
           3281,
           "Gaugin"
          ],
          [
           3282,
           "Gaugin"
          ],
          [
           3283,
           "Gaugin"
          ],
          [
           3284,
           "Gaugin"
          ],
          [
           3285,
           "The Nomad South"
          ],
          [
           3286,
           "The Nomad South"
          ],
          [
           3287,
           "The Nomad South"
          ],
          [
           3288,
           "The Nomad South"
          ],
          [
           3289,
           "The Nomad South"
          ],
          [
           3290,
           "The Nomad South"
          ],
          [
           3291,
           "Creole Lady Cocktail"
          ],
          [
           3292,
           "Creole Lady Cocktail"
          ],
          [
           3293,
           "Creole Lady Cocktail"
          ],
          [
           3294,
           "No. 8"
          ],
          [
           3295,
           "No. 8"
          ],
          [
           3296,
           "No. 8"
          ],
          [
           3297,
           "No. 8"
          ],
          [
           3298,
           "Fog Cutter"
          ],
          [
           3299,
           "Fog Cutter"
          ],
          [
           3300,
           "Fog Cutter"
          ],
          [
           3301,
           "Fog Cutter"
          ],
          [
           3302,
           "Fog Cutter"
          ],
          [
           3303,
           "Fog Cutter"
          ],
          [
           3304,
           "Mexicola"
          ],
          [
           3305,
           "Mexicola"
          ],
          [
           3306,
           "Floridita No. 3"
          ],
          [
           3307,
           "Floridita No. 3"
          ],
          [
           3308,
           "Floridita No. 3"
          ],
          [
           3309,
           "Floridita No. 3"
          ],
          [
           3310,
           "Floridita No. 3"
          ],
          [
           3311,
           "Mexican Monk"
          ],
          [
           3312,
           "Mexican Monk"
          ],
          [
           3313,
           "Mexican Monk"
          ],
          [
           3314,
           "Mexican Monk"
          ],
          [
           3315,
           "Floridita No. 1"
          ],
          [
           3316,
           "Floridita No. 1"
          ],
          [
           3317,
           "Floridita No. 1"
          ],
          [
           3318,
           "Floridita No. 1"
          ],
          [
           3319,
           "Floridita No. 1"
          ],
          [
           3320,
           "Mexican Madras"
          ],
          [
           3321,
           "Mexican Madras"
          ],
          [
           3322,
           "Mexican Madras"
          ],
          [
           3323,
           "Mexican Madras"
          ],
          [
           3324,
           "Cadiz"
          ],
          [
           3325,
           "Cadiz"
          ],
          [
           3326,
           "Cadiz"
          ],
          [
           3327,
           "Cadiz"
          ],
          [
           3328,
           "Chocolate Soldier Cocktail"
          ],
          [
           3329,
           "Chocolate Soldier Cocktail"
          ],
          [
           3330,
           "Chocolate Soldier Cocktail"
          ],
          [
           3331,
           "Fireman's Sour"
          ],
          [
           3332,
           "Fireman's Sour"
          ],
          [
           3333,
           "Fireman's Sour"
          ],
          [
           3334,
           "Fireman's Sour"
          ],
          [
           3335,
           "Fat Like Buddha"
          ],
          [
           3336,
           "Fat Like Buddha"
          ],
          [
           3337,
           "Fat Like Buddha"
          ],
          [
           3338,
           "Fat Like Buddha"
          ],
          [
           3339,
           "Cherry Blossom Cocktail"
          ],
          [
           3340,
           "Cherry Blossom Cocktail"
          ],
          [
           3341,
           "Cherry Blossom Cocktail"
          ],
          [
           3342,
           "Cherry Blossom Cocktail"
          ],
          [
           3343,
           "Cherry Blossom Cocktail"
          ],
          [
           3344,
           "Fair-and-Warmer Cocktail"
          ],
          [
           3345,
           "Fair-and-Warmer Cocktail"
          ],
          [
           3346,
           "Fair-and-Warmer Cocktail"
          ],
          [
           3347,
           "Chelsea Sidecar Cocktail"
          ],
          [
           3348,
           "Chelsea Sidecar Cocktail"
          ],
          [
           3349,
           "Chelsea Sidecar Cocktail"
          ],
          [
           3350,
           "Mexican Firing Squad"
          ],
          [
           3351,
           "Mexican Firing Squad"
          ],
          [
           3352,
           "Mexican Firing Squad"
          ],
          [
           3353,
           "Mexican Firing Squad"
          ],
          [
           3354,
           "Mexican Firing Squad"
          ],
          [
           3355,
           "Mexicana"
          ],
          [
           3356,
           "Mexicana"
          ],
          [
           3357,
           "Mexicana"
          ],
          [
           3358,
           "Mexicana"
          ],
          [
           3359,
           "El Presidente Cocktail No. 2"
          ],
          [
           3360,
           "El Presidente Cocktail No. 2"
          ],
          [
           3361,
           "El Presidente Cocktail No. 2"
          ],
          [
           3362,
           "Margarita Tequila"
          ],
          [
           3363,
           "Margarita Tequila"
          ],
          [
           3364,
           "Margarita Tequila"
          ],
          [
           3365,
           "Lillypad"
          ],
          [
           3366,
           "Lillypad"
          ],
          [
           3367,
           "Lillypad"
          ],
          [
           3368,
           "Lillypad"
          ],
          [
           3369,
           "Lillypad"
          ],
          [
           3370,
           "X. Y. Z. Cocktail"
          ],
          [
           3371,
           "X. Y. Z. Cocktail"
          ],
          [
           3372,
           "X. Y. Z. Cocktail"
          ],
          [
           3373,
           "La Ultima Palabra"
          ],
          [
           3374,
           "La Ultima Palabra"
          ],
          [
           3375,
           "La Ultima Palabra"
          ],
          [
           3376,
           "La Ultima Palabra"
          ],
          [
           3377,
           "La Ultima Palabra"
          ],
          [
           3378,
           "La Perla"
          ],
          [
           3379,
           "La Perla"
          ],
          [
           3380,
           "La Perla"
          ],
          [
           3381,
           "Bull's Milk"
          ],
          [
           3382,
           "Bull's Milk"
          ],
          [
           3383,
           "Bull's Milk"
          ],
          [
           3384,
           "Bull's Milk"
          ],
          [
           3385,
           "La Bomba"
          ],
          [
           3386,
           "La Bomba"
          ],
          [
           3387,
           "La Bomba"
          ],
          [
           3388,
           "La Bomba"
          ],
          [
           3389,
           "La Bomba"
          ],
          [
           3390,
           "Jinx Cocktail"
          ],
          [
           3391,
           "Jinx Cocktail"
          ],
          [
           3392,
           "Jinx Cocktail"
          ],
          [
           3393,
           "Jinx Cocktail"
          ],
          [
           3394,
           "The Interesting Cocktail"
          ],
          [
           3395,
           "The Interesting Cocktail"
          ],
          [
           3396,
           "The Interesting Cocktail"
          ],
          [
           3397,
           "The Interesting Cocktail"
          ],
          [
           3398,
           "The Interesting Cocktail"
          ],
          [
           3399,
           "Hot Pants"
          ],
          [
           3400,
           "Hot Pants"
          ],
          [
           3401,
           "Hot Pants"
          ],
          [
           3402,
           "Hot Pants"
          ],
          [
           3403,
           "High Plains Drifter No. 1"
          ],
          [
           3404,
           "High Plains Drifter No. 1"
          ],
          [
           3405,
           "High Plains Drifter No. 1"
          ],
          [
           3406,
           "High Plains Drifter No. 1"
          ],
          [
           3407,
           "High Plains Drifter No. 1"
          ],
          [
           3408,
           "Hairy Sunrise"
          ],
          [
           3409,
           "Hairy Sunrise"
          ],
          [
           3410,
           "Hairy Sunrise"
          ],
          [
           3411,
           "Hairy Sunrise"
          ],
          [
           3412,
           "Hairy Sunrise"
          ],
          [
           3413,
           "Guadalajara"
          ],
          [
           3414,
           "Guadalajara"
          ],
          [
           3415,
           "Guadalajara"
          ],
          [
           3416,
           "Frostbite"
          ],
          [
           3417,
           "Frostbite"
          ],
          [
           3418,
           "Frostbite"
          ],
          [
           3419,
           "Flower Power"
          ],
          [
           3420,
           "Flower Power"
          ],
          [
           3421,
           "Flower Power"
          ],
          [
           3422,
           "Flower Power"
          ],
          [
           3423,
           "Flower Power"
          ],
          [
           3424,
           "Flower Power"
          ],
          [
           3425,
           "Cablegram Highball"
          ],
          [
           3426,
           "Cablegram Highball"
          ],
          [
           3427,
           "Cablegram Highball"
          ],
          [
           3428,
           "Cabaret Cocktail"
          ],
          [
           3429,
           "Cabaret Cocktail"
          ],
          [
           3430,
           "Cabaret Cocktail"
          ],
          [
           3431,
           "Cabaret Cocktail"
          ],
          [
           3432,
           "Bulla's Eye"
          ],
          [
           3433,
           "Bulla's Eye"
          ],
          [
           3434,
           "El Oso (The Bear)"
          ],
          [
           3435,
           "El Oso (The Bear)"
          ],
          [
           3436,
           "El Oso (The Bear)"
          ],
          [
           3437,
           "El Oso (The Bear)"
          ],
          [
           3438,
           "El Ni_o"
          ],
          [
           3439,
           "El Ni_o"
          ],
          [
           3440,
           "El Ni_o"
          ],
          [
           3441,
           "El Ni_o"
          ],
          [
           3442,
           "El Ni_o"
          ],
          [
           3443,
           "El Molino"
          ],
          [
           3444,
           "El Molino"
          ],
          [
           3445,
           "El Molino"
          ],
          [
           3446,
           "El Molino"
          ],
          [
           3447,
           "Bucks Fizz"
          ],
          [
           3448,
           "Dirty Daisy"
          ],
          [
           3449,
           "Dirty Daisy"
          ],
          [
           3450,
           "Dirty Daisy"
          ],
          [
           3451,
           "Dirty Daisy"
          ],
          [
           3452,
           "Dirty Daisy"
          ],
          [
           3453,
           "Diablo"
          ],
          [
           3454,
           "Diablo"
          ],
          [
           3455,
           "Diablo"
          ],
          [
           3456,
           "Count Camillo's Paloma"
          ],
          [
           3457,
           "Count Camillo's Paloma"
          ],
          [
           3458,
           "Count Camillo's Paloma"
          ],
          [
           3459,
           "Count Camillo's Paloma"
          ],
          [
           3460,
           "Company B"
          ],
          [
           3461,
           "Company B"
          ],
          [
           3462,
           "Company B"
          ],
          [
           3463,
           "Company B"
          ],
          [
           3464,
           "Company B"
          ],
          [
           3465,
           "Company B"
          ],
          [
           3466,
           "Chupa Cabra"
          ],
          [
           3467,
           "Chupa Cabra"
          ],
          [
           3468,
           "Chupa Cabra"
          ],
          [
           3469,
           "Chupa Cabra"
          ],
          [
           3470,
           "Chupa Cabra"
          ],
          [
           3471,
           "Chupa Cabra"
          ],
          [
           3472,
           "Chinchona"
          ],
          [
           3473,
           "Chinchona"
          ],
          [
           3474,
           "Chinchona"
          ],
          [
           3475,
           "Chinchona"
          ],
          [
           3476,
           "Chapala"
          ],
          [
           3477,
           "Chapala"
          ],
          [
           3478,
           "Chapala"
          ],
          [
           3479,
           "Chapala"
          ],
          [
           3480,
           "Bulldog Cocktail"
          ],
          [
           3481,
           "Bulldog Cocktail"
          ],
          [
           3482,
           "Bulldog Cocktail"
          ],
          [
           3483,
           "Boston Sidecar Cocktail"
          ],
          [
           3484,
           "Boston Sidecar Cocktail"
          ],
          [
           3485,
           "Boston Sidecar Cocktail"
          ],
          [
           3486,
           "Boston Sidecar Cocktail"
          ],
          [
           3487,
           "Catalina Margarita"
          ],
          [
           3488,
           "Catalina Margarita"
          ],
          [
           3489,
           "Catalina Margarita"
          ],
          [
           3490,
           "Catalina Margarita"
          ],
          [
           3491,
           "Catalina Margarita"
          ],
          [
           3492,
           "Camino Del Ray"
          ],
          [
           3493,
           "Camino Del Ray"
          ],
          [
           3494,
           "Camino Del Ray"
          ],
          [
           3495,
           "Camino Del Ray"
          ],
          [
           3496,
           "Cactus Berry"
          ],
          [
           3497,
           "Cactus Berry"
          ],
          [
           3498,
           "Cactus Berry"
          ],
          [
           3499,
           "Cactus Berry"
          ],
          [
           3500,
           "Cactus Berry"
          ],
          [
           3501,
           "Bolero Cocktail"
          ],
          [
           3502,
           "Bolero Cocktail"
          ],
          [
           3503,
           "Bolero Cocktail"
          ],
          [
           3504,
           "Bum's Rush"
          ],
          [
           3505,
           "Bum's Rush"
          ],
          [
           3506,
           "Bum's Rush"
          ],
          [
           3507,
           "Bum's Rush"
          ],
          [
           3508,
           "Bum's Rush"
          ],
          [
           3509,
           "Brave Bull"
          ],
          [
           3510,
           "Brave Bull"
          ],
          [
           3511,
           "Blue Margarita"
          ],
          [
           3512,
           "Blue Margarita"
          ],
          [
           3513,
           "Blue Margarita"
          ],
          [
           3514,
           "Blue Margarita"
          ],
          [
           3515,
           "Bloody Maria"
          ],
          [
           3516,
           "Bloody Maria"
          ],
          [
           3517,
           "Bloody Maria"
          ],
          [
           3518,
           "Bloody Maria"
          ],
          [
           3519,
           "Bloody Maria"
          ],
          [
           3520,
           "Pineapple Dream Cocktail"
          ],
          [
           3521,
           "Pineapple Dream Cocktail"
          ],
          [
           3522,
           "Pineapple Dream Cocktail"
          ],
          [
           3523,
           "Big Red Hooter"
          ],
          [
           3524,
           "Big Red Hooter"
          ],
          [
           3525,
           "Big Red Hooter"
          ],
          [
           3526,
           "Big Red Hooter"
          ],
          [
           3527,
           "Blood Bronx Cocktail"
          ],
          [
           3528,
           "Blood Bronx Cocktail"
          ],
          [
           3529,
           "Blood Bronx Cocktail"
          ],
          [
           3530,
           "Bravo"
          ],
          [
           3531,
           "Bravo"
          ],
          [
           3532,
           "Bravo"
          ],
          [
           3533,
           "Bravo"
          ],
          [
           3534,
           "Amante Picante"
          ],
          [
           3535,
           "Amante Picante"
          ],
          [
           3536,
           "Amante Picante"
          ],
          [
           3537,
           "Amante Picante"
          ],
          [
           3538,
           "Amante Picante"
          ],
          [
           3539,
           "Amante Picante"
          ],
          [
           3540,
           "Brunswick Street Cocktail"
          ],
          [
           3541,
           "Brunswick Street Cocktail"
          ],
          [
           3542,
           "Brunswick Street Cocktail"
          ],
          [
           3543,
           "Black Hawk Cocktail"
          ],
          [
           3544,
           "Black Hawk Cocktail"
          ],
          [
           3545,
           "Alamo Splash"
          ],
          [
           3546,
           "Alamo Splash"
          ],
          [
           3547,
           "Alamo Splash"
          ],
          [
           3548,
           "Alamo Splash"
          ],
          [
           3549,
           "Betsy Ross Cocktail"
          ],
          [
           3550,
           "Betsy Ross Cocktail"
          ],
          [
           3551,
           "Betsy Ross Cocktail"
          ],
          [
           3552,
           "Betsy Ross Cocktail"
          ],
          [
           3553,
           "Bermuda Rose Cocktail"
          ],
          [
           3554,
           "Bermuda Rose Cocktail"
          ],
          [
           3555,
           "Bermuda Rose Cocktail"
          ],
          [
           3556,
           "Yokahama Romance"
          ],
          [
           3557,
           "Yokahama Romance"
          ],
          [
           3558,
           "Yokahama Romance"
          ],
          [
           3559,
           "Yokahama Romance"
          ],
          [
           3560,
           "Yale Cocktail"
          ],
          [
           3561,
           "Yale Cocktail"
          ],
          [
           3562,
           "Yale Cocktail"
          ],
          [
           3563,
           "Yale Cocktail"
          ],
          [
           3564,
           "Xanthia Cocktail"
          ],
          [
           3565,
           "Xanthia Cocktail"
          ],
          [
           3566,
           "Xanthia Cocktail"
          ],
          [
           3567,
           "Woodstock"
          ],
          [
           3568,
           "Woodstock"
          ],
          [
           3569,
           "Woodstock"
          ],
          [
           3570,
           "Woodstock"
          ],
          [
           3571,
           "Wolf's Bite"
          ],
          [
           3572,
           "Wolf's Bite"
          ],
          [
           3573,
           "Wolf's Bite"
          ],
          [
           3574,
           "Barbary Coast Cocktail"
          ],
          [
           3575,
           "Barbary Coast Cocktail"
          ],
          [
           3576,
           "Barbary Coast Cocktail"
          ],
          [
           3577,
           "Barbary Coast Cocktail"
          ],
          [
           3578,
           "Barbary Coast Cocktail"
          ],
          [
           3579,
           "The Winkle"
          ],
          [
           3580,
           "The Winkle"
          ],
          [
           3581,
           "The Winkle"
          ],
          [
           3582,
           "The Winkle"
          ],
          [
           3583,
           "The Winkle"
          ],
          [
           3584,
           "The Winkle"
          ],
          [
           3585,
           "The Wink"
          ],
          [
           3586,
           "The Wink"
          ],
          [
           3587,
           "The Wink"
          ],
          [
           3588,
           "The Wink"
          ],
          [
           3589,
           "The Wink"
          ],
          [
           3590,
           "Will Rogers"
          ],
          [
           3591,
           "Will Rogers"
          ],
          [
           3592,
           "Will Rogers"
          ],
          [
           3593,
           "Will Rogers"
          ],
          [
           3594,
           "Brandy Vermouth Cocktail"
          ],
          [
           3595,
           "Brandy Vermouth Cocktail"
          ],
          [
           3596,
           "Brandy Vermouth Cocktail"
          ],
          [
           3597,
           "White Spider"
          ],
          [
           3598,
           "White Spider"
          ],
          [
           3599,
           "White Spider"
          ],
          [
           3600,
           "White Spider"
          ],
          [
           3601,
           "White Lady"
          ],
          [
           3602,
           "White Lady"
          ],
          [
           3603,
           "Western Rose"
          ],
          [
           3604,
           "Western Rose"
          ],
          [
           3605,
           "Western Rose"
          ],
          [
           3606,
           "Western Rose"
          ],
          [
           3607,
           "May Blosson Fizz"
          ],
          [
           3608,
           "May Blosson Fizz"
          ],
          [
           3609,
           "May Blosson Fizz"
          ],
          [
           3610,
           "Wembly Cocktail"
          ],
          [
           3611,
           "Wembly Cocktail"
          ],
          [
           3612,
           "Wembly Cocktail"
          ],
          [
           3613,
           "Wembly Cocktail"
          ],
          [
           3614,
           "Apple Pie Cocktail"
          ],
          [
           3615,
           "Apple Pie Cocktail"
          ],
          [
           3616,
           "Apple Pie Cocktail"
          ],
          [
           3617,
           "Apple Pie Cocktail"
          ],
          [
           3618,
           "Apple Pie Cocktail"
          ],
          [
           3619,
           "Water Lily"
          ],
          [
           3620,
           "Water Lily"
          ],
          [
           3621,
           "Water Lily"
          ],
          [
           3622,
           "Water Lily"
          ],
          [
           3623,
           "Wallis Blue Cocktail"
          ],
          [
           3624,
           "Wallis Blue Cocktail"
          ],
          [
           3625,
           "Wallis Blue Cocktail"
          ],
          [
           3626,
           "Wallis Blue Cocktail"
          ],
          [
           3627,
           "Minnehaha Cocktail"
          ],
          [
           3628,
           "Minnehaha Cocktail"
          ],
          [
           3629,
           "Minnehaha Cocktail"
          ],
          [
           3630,
           "Minnehaha Cocktail"
          ],
          [
           3631,
           "Wallick Cocktail"
          ],
          [
           3632,
           "Wallick Cocktail"
          ],
          [
           3633,
           "Wallick Cocktail"
          ],
          [
           3634,
           "Waikiki Beachcomber"
          ],
          [
           3635,
           "Waikiki Beachcomber"
          ],
          [
           3636,
           "Waikiki Beachcomber"
          ],
          [
           3637,
           "Vow Of Silence"
          ],
          [
           3638,
           "Vow Of Silence"
          ],
          [
           3639,
           "Vow Of Silence"
          ],
          [
           3640,
           "Vow Of Silence"
          ],
          [
           3641,
           "Vow Of Silence"
          ],
          [
           3642,
           "Vow Of Silence"
          ]
         ],
         "hovertemplate": "0=%{x}<br>1=%{y}<br>index_col=%{customdata[0]}<br>name=%{customdata[1]}<extra></extra>",
         "legendgroup": "",
         "marker": {
          "color": "#636efa",
          "symbol": "circle"
         },
         "mode": "markers",
         "name": "",
         "showlegend": false,
         "type": "scattergl",
         "x": [
          -0.12486116399246747,
          -0.1422165511412363,
          -0.128188392910427,
          -0.25449065768748413,
          -0.21666663144043455,
          -0.09901450888018629,
          -0.2527334476156806,
          -0.2555653565248411,
          -0.2309083029205249,
          -0.19471812976601505,
          -0.2198287382255859,
          -0.19471812976601519,
          -0.25515103632436326,
          -0.2134017746043176,
          -0.14985543006352758,
          -0.22002379643614206,
          -0.05797571956960319,
          -0.19929472053149455,
          -0.19897546297210533,
          -0.19523195732176413,
          -0.12289388754096485,
          -0.1652465980444002,
          -0.16128071909071126,
          -0.18785531007388795,
          -0.23278776407921023,
          1.631735734239498,
          -0.14349673832053858,
          -0.09742150272830599,
          -0.12793352164397953,
          -0.15188267874105546,
          -0.10721835457081122,
          -0.16435434471021285,
          -0.16295965937002996,
          -0.05803502335636878,
          -0.1126470587507226,
          -0.15788416027641763,
          -0.18832802415315686,
          -0.3229542556156399,
          -0.15448295588881714,
          -0.25048327925080727,
          -0.19493738148703252,
          -0.12077142174437182,
          -0.1760121730316984,
          -0.41364630681998593,
          -0.2389630452159946,
          -0.24858539791581022,
          -0.22242575837947542,
          -0.18612533072893564,
          -0.13729551859206518,
          0.6139544554085309,
          -0.12831776440689927,
          -0.15210508530041003,
          -0.04423815087172431,
          -0.16545624839716302,
          -0.22225275663865246,
          -0.07202968435172809,
          -0.20876280630416819,
          -0.2183177961030613,
          -0.19923066991363825,
          -0.17142727287837572,
          -0.11539323785234315,
          0.9463104989396348,
          -0.11329673121139754,
          -0.15953937815673316,
          -0.031047551449248416,
          0.0681530384037535,
          -0.21354164880510235,
          -0.16154671141410604,
          -0.2201203681074545,
          -0.20807934449182852,
          -0.3145856703046115,
          -0.13703360301683723,
          0.4303314579224328,
          -0.21440717813980412,
          -0.0951153286338141,
          -0.1900156480798728,
          -0.07483005615418734,
          -0.18075796879407788,
          -0.348150284020559,
          -0.18449973351879248,
          -0.14190753801672085,
          -0.1468503667046173,
          -0.11095053282127444,
          -0.10535984524424348,
          -0.13622474767568118,
          -0.18987176324744826,
          -0.24577923486853656,
          -0.13178412968512318,
          -0.15794893001688237,
          1.111550052343256,
          1.338764684262791,
          2.739514748424656,
          70.40949908689416,
          -0.17570415811472168,
          -0.09803995361736234,
          -0.18751567615060408,
          -0.03864374018201876,
          0.951716573698037,
          -0.21826074657729852,
          -0.17850779468614347,
          -0.04346945239341088,
          -0.11036098557990527,
          -0.16229390896352539,
          -0.12859536247666042,
          -0.24527601814403996,
          -0.22037656233560798,
          -0.31922731915868663,
          -0.11449179966971226,
          -0.07269233376553652,
          -0.23433366631604557,
          -0.11840808453439222,
          -0.20587613019879059,
          -0.07923881578148248,
          -0.127404268114478,
          -0.041943841532510365,
          -0.19493400250521561,
          -0.1392882740004866,
          -0.2782446592233861,
          -0.3148947638434017,
          -0.24004317818499152,
          -0.22191150818486277,
          -0.1617085185336384,
          -0.14759204439958173,
          -0.20169855850769228,
          -0.05906903591810541,
          -0.08982975357044232,
          -0.1614559816871368,
          -0.1769440482074188,
          -0.1630210760399249,
          -0.23172993769004738,
          -0.22396856171363502,
          -0.19913087373107238,
          -0.131346074932029,
          -0.17724713877779702,
          -0.12888510573958756,
          -0.1091590687282416,
          -0.10355137026636513,
          -0.14595977587748724,
          -0.13887778727236447,
          0.26105212931619287,
          -0.14626469663867095,
          -0.19262525543895423,
          -0.14626469663867095,
          -0.1571534690780184,
          -0.18826713041500567,
          -0.18826713041500567,
          -0.04517502271986832,
          0.8413989906125189,
          -0.1303769574544612,
          -0.16202161236236448,
          -0.23041674283079963,
          0.03312114280407968,
          -0.25517796914166757,
          -0.146651603425204,
          -0.13330890886360314,
          -0.3822394525248013,
          -0.13326917757343912,
          -0.2748971818321787,
          -0.10829825273965243,
          -0.2511499113832501,
          0.915707816534137,
          -0.2407002115028052,
          -0.17344558325135181,
          -0.1731037811744985,
          -0.059598962689959664,
          -0.17186889647724912,
          -0.14332883804502114,
          -0.09286908591136828,
          -0.1921119281552179,
          -0.10571981772733596,
          -0.24394874798810745,
          -0.14309379725369736,
          -0.1381075373843912,
          -0.10160005722158448,
          -0.15077801887959152,
          -0.15547208632177603,
          -0.16334977351112082,
          -0.16334977351112082,
          -0.18528957180435582,
          -0.22112758467022084,
          -0.029260788468216236,
          0.04772500072377573,
          -0.08529811517842006,
          -0.13622474767568118,
          -0.05550901945022565,
          -0.16653521386530287,
          -0.06487929324838031,
          -0.10194409273475935,
          -0.23398985114265375,
          -0.107083030250684,
          -0.18769357909886797,
          -0.11089926807486178,
          -0.20153118046119273,
          0.8332174912550041,
          -0.18775374869347997,
          -0.18194704545097737,
          -0.43668558233430294,
          -0.115312251104604,
          -0.1916402384898215,
          -0.3055732375734683,
          -0.1522224042763572,
          -0.19164023848982079,
          -0.14738538124980458,
          -0.17102874703206916,
          -0.2989818726323377,
          -0.2037016327855936,
          -0.2613137944357812,
          -0.31837380059052206,
          -0.30893897775170165,
          -0.18674335166631068,
          -0.19320386714178514,
          0.5299734265758659,
          -0.22277915753078853,
          0.6964745714503277,
          1.9572799815512592,
          -0.2806796790805242,
          -0.17356916218713567,
          -0.35151208481124385,
          -0.3036131117957088,
          -0.28609027305125917,
          -0.3478399180083842,
          -0.15407786466908532,
          0.06671986442812156,
          -0.25628764303571183,
          -0.18063594719453716,
          -0.08824803779321688,
          -0.18468813991155036,
          -0.24711646070488646,
          -0.2892772172736755,
          -0.1724132854388717,
          -0.06348374612685705,
          -0.1460576170166601,
          -0.2546877079609749,
          -0.160737344821145,
          -0.1604038932056832,
          0.2930544830369449,
          0.9706418606496269,
          -0.08392319821894562,
          -0.17340527957844631,
          -0.19751051120563853,
          -0.1861584598022643,
          -0.24632753772148264,
          -0.14251096302274807,
          -0.309259851230874,
          -0.1508212685864948,
          -0.1953716009251063,
          -0.11880228106457548,
          -0.13004914387635025,
          0.25569136322363517,
          -0.19818847462802255,
          1.0499034467004194,
          -0.06959323101935151,
          0.5682959344704731,
          -0.27419306737772686,
          -0.09721132235442641,
          -0.1905682920653266,
          -0.17957396984035306,
          -0.19411351623613035,
          -0.19608543411806678,
          -0.08221151157200782,
          -0.3532953731647388,
          -0.14257457593769385,
          -0.1236801581436592,
          -0.2387467788822839,
          -0.13271012143011826,
          0.39458513609178214,
          -0.16229390896352527,
          -0.14312510524266417,
          -0.06739984157849611,
          -0.25200569659919925,
          1.7929861595287526,
          -0.15290924923062585,
          -0.1943327452775738,
          -0.20091905429192777,
          -0.09228197093966203,
          -0.25281504632740986,
          -0.3418987767025233,
          -0.17532027575879616,
          -0.2432306444669794,
          -0.18677382456862004,
          -0.13636075548930082,
          -0.12975870844524479,
          -0.15109997658780333,
          -0.21173759614977397,
          -0.1975325544632162,
          -0.18959165719498686,
          -0.23598892024617524,
          -0.1440797218053458,
          -0.29101830284927427,
          -0.270394052700091,
          -0.1500881545082363,
          -0.08878890062773721,
          0.7194797693892555,
          -0.11026291093649976,
          -0.3303082308189009,
          -0.6786062357901462,
          -0.1011870933161866,
          0.0668164859197482,
          -0.0674690286843584,
          -0.09406005212720758,
          -0.23706466004902094,
          -0.03213125929152548,
          -0.3126362170051663,
          -0.267891162029549,
          -0.12601611168611734,
          -0.1536679061680419,
          -0.22818083974593148,
          -0.23368809477764865,
          -0.11345689358642622,
          -0.2265716269486828,
          -0.28103704043175176,
          -0.17967472771207058,
          -0.13162826710632808,
          -0.21779148222227915,
          -0.11784237790809504,
          -0.0992237185723351,
          -0.20181918471129948,
          -0.22001611166963073,
          -0.07199543974072499,
          -0.17809778441457458,
          -0.16933354074590018,
          -0.1914411524379175,
          1.510846486810662,
          -0.16036092783531958,
          0.2608254612496944,
          0.5462147285885287,
          -0.04077348035823628,
          -0.17127836311678865,
          -0.19488507529017432,
          -0.12825073848889035,
          -0.20990731086057043,
          -0.22084350005879588,
          -0.25311169596783095,
          -0.17399520226986206,
          -0.12798765041970261,
          -0.05004179280776001,
          -0.14595798123737846,
          -0.17797450172884746,
          -0.20937552714810284,
          -0.13052986748573994,
          -0.16041793170618326,
          0.3621173800545065,
          -0.1188288800518015,
          -0.077540564490706,
          -0.22803592323788144,
          -0.2312753061275905,
          -0.24588262807746186,
          -0.28127539869159923,
          -0.12747680815599682,
          0.29949288561640897,
          -0.17221641433246596,
          -0.2083723231376803,
          -0.07788433869570109,
          -0.1644946095283605,
          -0.1858734317842544,
          -0.16467117559484773,
          -0.12343358485163126,
          -0.1319075882618233,
          -0.18096318943608952,
          -0.23076395189168972,
          -0.2524148184439281,
          -0.21029774117110944,
          -0.2406816933037702,
          -0.2852273538987224,
          -0.18913988533312256,
          -0.21512328834262198,
          0.3637543774189312,
          -0.18889641269244326,
          -0.39806841634002377,
          -0.28559733621164024,
          -0.14352275835408465,
          -0.15406530854696915,
          -0.12788351115360447,
          -0.13421333110568903,
          -0.09896000096199556,
          -0.1805089811044705,
          -0.11607107900963247,
          -0.27600208014423017,
          -0.28816904650331954,
          -0.13712180057391551,
          -0.11592262597886963,
          -0.1311789880956594,
          -0.06413336982839704,
          -0.22949461607311536,
          0.6535900376335829,
          -0.1549121064072746,
          -0.10378028904357679,
          -0.22303616708223709,
          -0.16960040352965017,
          0.11981358118166854,
          -0.289975382585499,
          -0.2004683087717975,
          -0.20696623194059569,
          -0.3681912277018578,
          -0.3491038500170055,
          -0.1858419985836975,
          -0.1661942507406973,
          -0.1577631917268082,
          -0.2012128543417503,
          -0.1581023103937326,
          -0.15883178873060022,
          -0.1578910089495224,
          -0.16693468755466007,
          -0.06968300356044799,
          -0.25280514116006075,
          -0.25280514116006075,
          0.7729966686527027,
          -0.18685745298882375,
          -0.2119936908746175,
          -0.09373182138715486,
          -0.08543120427336413,
          -0.12577380012327138,
          -0.19379922392747895,
          -0.11786571630998914,
          -0.14604511923155025,
          -0.10835586592193897,
          -0.15840976810069834,
          -0.09844278187275245,
          -0.16860719723885764,
          -0.06422029182096102,
          -0.17868088034100243,
          -0.11718045693940768,
          -0.1432418336210902,
          -0.08738974193630916,
          -0.0918029706221294,
          -0.13493298266402054,
          -0.22042365647236598,
          0.6360386129388197,
          -0.09946421949345251,
          -0.10915906872824165,
          -0.19356349642660872,
          -0.16229390896352527,
          -0.18178804946537278,
          -0.22056480968930617,
          -0.18288218138035403,
          -0.16690328102866211,
          -0.18757875221622688,
          0.2986982907214411,
          -0.1685660264238183,
          0.030686519879239614,
          -0.25314511888627705,
          0.11115666877194778,
          -0.20933206863260473,
          -0.1922046579460508,
          -0.17035006228075636,
          -0.20473052978065803,
          0.33045777388661957,
          -0.2530284069370761,
          -0.11197411070424461,
          0.7046669387078409,
          -0.2158462654938035,
          -0.18717792406435413,
          -0.18840967083617982,
          -0.2143714251145812,
          -0.013927131575371123,
          -0.21534540888175926,
          0.35385676322775633,
          -0.1331612681693995,
          -0.19171447539021358,
          -0.20489760526310777,
          -0.21866387532809112,
          -0.21398196573932352,
          -0.10660723247440206,
          0.10733165176022817,
          -0.20034736455383326,
          0.26224978864800785,
          -0.02388674700650972,
          -0.11397255776067909,
          -0.15815421602291427,
          -0.2959666134164545,
          0.784957078503143,
          0.36740651243047384,
          -0.18109090407796413,
          -0.19338723714939976,
          -0.19322645645475048,
          -0.15246936682478276,
          0.48739820256796307,
          -0.12962920194779629,
          -0.352842019750538,
          -0.2701865631054001,
          -0.21896382367097436,
          -0.1730337080301429,
          -0.07938964196179345,
          -0.19472548839203252,
          0.8003793642902062,
          -0.034836459273336694,
          -0.030355993644186844,
          -0.19285124179040872,
          -0.18380384477231357,
          -0.21310633341224602,
          -0.1789926684224059,
          0.8050385053757693,
          -0.26676533446726963,
          -0.14156262182597046,
          -0.2022585299295659,
          0.21915477606903663,
          -0.11131066761356027,
          -0.2280322161337398,
          -0.12574769622162485,
          -0.16039794102029886,
          -0.17531186637383933,
          -0.07880902103065858,
          0.5314803204584306,
          0.6855787173412758,
          -0.40803629940294445,
          -0.16130665143697395,
          -0.09447976106993766,
          -0.20470745530184523,
          -0.1942819061864353,
          -0.2530889094359647,
          -0.20631009967980568,
          -0.13653899460869726,
          -0.38496357970384254,
          -0.483978092924929,
          -0.05064363518759431,
          -0.22768911644472933,
          -0.26895520680566914,
          0.7643889990157952,
          -0.122204533584504,
          -0.1175269469362215,
          -0.19409135284181372,
          -0.1609820095073083,
          -0.11914215751130654,
          -0.1326149861482833,
          -0.20470745530184523,
          -0.10915906872824159,
          -0.1638286598502053,
          -0.11096715927043613,
          -0.16739895130788693,
          0.2862526928055568,
          -0.3178407068428467,
          -0.07231774936823507,
          -0.256659201638314,
          -0.18552058882732422,
          0.05828431700818977,
          -0.10231667402480961,
          -0.109763355755012,
          -0.3241385739729549,
          -0.18617692610889777,
          -0.1118131157518967,
          -0.15854754165038507,
          -0.21328537806979497,
          -0.11254914766435402,
          -0.1622735612392053,
          -0.11957485429840047,
          -0.15241869559399757,
          -0.3741119740252343,
          0.5208444432794989,
          0.6913974773188051,
          -0.18292614031349425,
          0.6913974773188053,
          -0.12954221200775948,
          -0.21816436719178178,
          -0.14312510524266417,
          -0.15109997658780333,
          -0.17303282404610926,
          0.5230221726111544,
          -0.15918078067876432,
          -0.08640173143419219,
          -0.21954537695492948,
          -0.21954537695492948,
          -0.1702543400679145,
          -0.17567366218908742,
          -0.3351062383298735,
          0.8070837825539036,
          0.15110996327032564,
          -0.060937741776465014,
          -0.12136618063886563,
          0.3796926357417064,
          0.536140247510497,
          -0.23736499247751694,
          -0.261339495412292,
          -0.20278370736146425,
          -0.18227422578218797,
          -0.19069914997065798,
          -0.21267080954741793,
          -0.29146007341554125,
          -0.16381812971204546,
          -0.17260734765012184,
          0.09606394265075152,
          -0.07125099742614051,
          -0.19971398896192907,
          -0.267798352535572,
          -0.1515567618490083,
          -0.25030614512160065,
          -0.07965923240443545,
          -0.3500094329882487,
          0.3074909894192026,
          -0.1849805598345427,
          -0.21517790853697083,
          -0.06776035798285102,
          -0.18388160152658894,
          -0.19249562216055469,
          0.5641372592266158,
          -0.09490357451788344,
          -0.4409724542875157,
          -0.03492792326196352,
          -0.14656027708817035,
          -0.24395257342945867,
          -0.09686732366131037,
          -0.04043857501081411,
          -0.2163094322429154,
          0.6779590549267508,
          -0.12748701023603365,
          -0.16391693479463504,
          -0.1937816134677723,
          -0.14610734145914397,
          -0.18455695131372704,
          -0.24819441631292005,
          -0.12808005553024224,
          -0.16060746480595964,
          -0.30582175388535304,
          -0.2170670252828232,
          -0.26495569869769203,
          -0.14628771438202495,
          0.056628761704979255,
          -0.22754755590454742,
          -0.11565426337597563,
          -0.19670062892875656,
          -0.11686910682827699,
          -0.012198243133560044,
          -0.015149315797675556,
          -0.14592871118753456,
          0.3611103275641058,
          -0.18520431896246686,
          -0.27503467538560405,
          -0.10915906872824142,
          -0.2946138189693522,
          -0.3476201440754618,
          -0.17671751764769156,
          0.3616116153974055,
          -0.1805183205015471,
          -0.11857480029508878,
          -0.1972089714280406,
          -0.19652946544821978,
          -0.15227772517151827,
          -0.125246294114967,
          -0.2648492189211646,
          0.17107107282067505,
          -0.08907192452116525,
          -0.15505292697823558,
          -0.013005580344173968,
          -0.21414749573069278,
          0.30982472678901735,
          -0.27252277853055995,
          0.12191981276624139,
          -0.17988252509073396,
          -0.12071896359768829,
          -0.40803629940294445,
          -0.22846549357900597,
          -0.18977115996321148,
          -0.06095108399233642,
          1.598129599383753,
          -0.1216487608712228,
          -0.17035006228075636,
          -0.1326149861482833,
          -0.30098587619267475,
          -0.377390591656725,
          -0.25196928373765004,
          0.4857107941175044,
          -0.223953390815447,
          -0.3419260972165769,
          -0.22258956752836515,
          -0.2622879439739701,
          -0.1792096565139235,
          -0.0347291487102472,
          -0.17490264619694104,
          -0.028734474538635306,
          -0.04313103415265532,
          -0.12352140714399322,
          -0.16082664677481248,
          -0.11156380975017684,
          -0.09181182540820385,
          -0.20425235494966215,
          -0.08690141407385674,
          -0.103072302940796,
          2.038630216587803,
          -0.08478381908391991,
          -0.11403082078542807,
          0.1691940258118375,
          -0.10915906872824169,
          -0.12311834793790587,
          0.30798850875659867,
          -0.15037804271297814,
          -0.2149039839972995,
          -0.07633722145213585,
          -0.18439776841133343,
          -0.376814061493156,
          -0.2693846501110269,
          -0.19560762965213652,
          -0.10365145213430078,
          -0.18628615041334928,
          -0.4528016253299409,
          -0.11864288728108112,
          -0.16500330387815054,
          1.3165308119744101,
          0.015931238205695898,
          0.60542767191145,
          -0.1471708394924357,
          -0.0982668765654959,
          -0.13513840864822702,
          -0.23162007868058063,
          -0.16049261538544854,
          -0.12095571248469882,
          -0.17509704098133502,
          -0.18717657605649476,
          -0.0495932892476737,
          -0.09680631455303856,
          -0.2783675344482034,
          -0.27828216850924886,
          -0.325184795038072,
          -0.10915906872824159,
          -0.3316296726572478,
          -0.21163548628635234,
          -0.05031546268150003,
          0.7488538344885695,
          0.05062435259320258,
          -0.20325945845229862,
          -0.040940483612573304,
          -0.15489591004961054,
          -0.03676834733305576,
          -0.039247353916984744,
          -0.1045659934002263,
          -0.010923742080905597,
          -0.09290686536523347,
          0.3206398814491259,
          -0.08156414559914334,
          -0.036312446573520944,
          0.7879858602192699,
          -0.0010626782872136988,
          -0.1012688447018161,
          -0.2427825782085767,
          0.5252930977592427,
          -0.06767561617188005,
          -0.15377085882123462,
          -0.1921084662629576,
          -0.13554906504506312,
          -0.19035826466089548,
          -0.21729228329369674,
          -0.23012261397887673,
          -0.24383273266501948,
          0.6679976703410426,
          0.7305027071456558,
          -0.28331270248299684,
          -0.07526197792720718,
          -0.1988111981466627,
          -0.24427316221457304,
          -0.1184998874087524,
          -0.19413421892417204,
          0.703610559939807,
          -0.2260519352968837,
          0.31061074709386827,
          -0.277592306765141,
          -0.14467053021319476,
          -0.12602013237466794,
          -0.09471303762906656,
          -0.10611369759807716,
          0.7769058105440967,
          -0.28255507139128055,
          -0.18913176574648327,
          -0.21332701940239035,
          -0.060856287362901655,
          -0.21134169996084728,
          -0.18923977349542956,
          -0.30807608617238663,
          -0.20213793917075495,
          -0.2350710596833573,
          -0.17983057089512375,
          -0.10915906872824162,
          -0.17150557042222214,
          -0.18683536790742217,
          0.6067005743991416,
          -0.10483984805433703,
          -0.3225440199849389,
          -0.29161066445998884,
          -0.17206478689381416,
          -0.28016201012725855,
          -0.17297620623026802,
          -0.29202945047160284,
          0.3308905244193612,
          0.6507344900453198,
          -0.1644222149058022,
          -0.19093956920137073,
          0.3758344224726217,
          -0.21390457076862168,
          -0.1641020629379424,
          -0.16869547497243026,
          -0.11717560062842555,
          -0.18573905259483336,
          0.3237696226214775,
          -0.20396218021318993,
          -0.12895090099885947,
          -0.07722690390025062,
          -0.19663723432063068,
          -0.25280514116006075,
          1.2087051944935994,
          -0.17737511016425725,
          -0.10915906872824152,
          -0.20892765314098266,
          -0.20010222207470552,
          -0.1840105351446031,
          -0.10894597580330359,
          -0.1477141303338615,
          -0.04551332225810037,
          -0.05503250516967438,
          -0.14534245807928428,
          -0.1326886465111032,
          -0.07821519807412072,
          -0.21573446852485365,
          -0.13397923956443586,
          -0.05938494605457572,
          0.5613704744433866,
          -0.19486225067657834,
          -0.139737889045193,
          -0.14621486608664286,
          0.3261878767742303,
          -0.10409883907755539,
          -0.13741486669157707,
          -0.17043693188971104,
          -0.19786705529465612,
          -0.11720739286936496,
          -0.17043693188971104,
          -0.19474156472232831,
          0.30847051760134153,
          -0.17252975162271794,
          -0.18175368576680814,
          -0.07679899275124445,
          -0.19413421892417188,
          -0.178631864744702,
          -0.17316857186897028,
          -0.053624953822110605,
          -0.35962085394714244,
          0.007395460551451122,
          -0.26142995886844356,
          -0.04676938017499737,
          0.34306297883216713,
          1.4939972373825845,
          0.07954205617852009,
          -0.07638698550862738,
          0.6151249383737459,
          0.017192312393956334,
          0.004773309049049766,
          -0.03965345969867733,
          -0.06278423448621032,
          -0.1730690764397152,
          -0.014045347982609408,
          -0.1726156488963846,
          0.5419955647195848,
          -0.18205923165210527,
          0.36580395597891446,
          -0.1679439501108577,
          -0.07850877904476332,
          0.4234556489430805,
          -0.10421148404834032,
          -0.1654085736071257,
          -0.07680352523713219,
          -0.18126735232023547,
          -0.18257350184363713,
          -0.15252280784403768,
          -0.17439144938906673,
          0.7895670610722018,
          -0.045972171285142506,
          -0.12861794740196839,
          -0.0007932597956093066,
          -0.16682807905747699,
          0.7250427807374717,
          0.010483161044460593,
          1.002771907352775,
          -0.07225677850032423,
          0.1984827424005683,
          -0.17465192945855929,
          -0.1381581050384501,
          0.3539116472187906,
          2.264189009993378,
          -0.1679625264249434,
          1.0903092969731627,
          -0.1339441158733858,
          1.0113538657375845,
          -0.14532246054195783,
          -0.3123592845098233,
          -0.31836059041503995,
          -0.2568663364264749,
          -0.15682636736901345,
          -0.5833761317348165,
          0.3687241959502316,
          -0.18375909909033888,
          -0.11418185466176743,
          -0.21889274978628462,
          -0.1281963183308668,
          -0.05042435672580637,
          -0.11734338243045225,
          -0.1633216197039697,
          -0.17902962220690374,
          -0.238945765736526,
          -0.17035006228075636,
          -0.18112252632414053,
          -0.1162804453781715,
          -0.10598824279086648,
          -0.20694629349255048,
          0.3086560207343321,
          -0.16163383742549034,
          1.7772057939890464,
          -0.16238040928954267,
          -0.07852847897013915,
          0.47627114673244825,
          -0.04585064074711583,
          -0.1579059645845856,
          -0.1960357881745478,
          -0.09975235657294615,
          -0.023685312684541025,
          -0.22397185988314544,
          -0.11237278493318817,
          -0.24446756628325356,
          -0.40059712381363477,
          -0.11918858383015563,
          -0.2818148281091534,
          -0.2818148281091534,
          -0.18279839515273794,
          -0.05374115133525625,
          1.0294685904701892,
          -0.05384430261341875,
          -0.052459779301861596,
          -0.10042879364560653,
          0.7301569471335423,
          -0.12962319484874246,
          -0.19488507529017432,
          -0.16923351291345293,
          -0.15133514802506656,
          -0.07482252960998584,
          -0.049184177352900024,
          -0.13205488387484554,
          -0.08323485814093409,
          -0.08323485814093409,
          0.26574133939510075,
          -0.13223304510475584,
          1.0704441205887867,
          -0.21448895603634563,
          0.8852312667636804,
          -0.15386358845977505,
          -0.2926567225400335,
          -0.08456148156909718,
          -0.2597271912430996,
          -0.10850162780291386,
          -0.22612792996472172,
          -0.17878366097410045,
          -0.17552525829734467,
          -0.18202022781377003,
          -0.18656009372711346,
          0.0006852422189393089,
          -0.1689367492443121,
          -0.16507168948750528,
          -0.23583629063264866,
          -0.2986314057401322,
          -0.20855132369130083,
          -0.14399527563377018,
          -0.21049745838707273,
          -0.12911779635478593,
          -0.22825509098779617,
          -0.15043251818795486,
          -0.31055397949413277,
          -0.1563048768762081,
          -0.07576855538416342,
          -0.23736499247751694,
          -0.26089731780191777,
          -0.11118146585850713,
          -0.13097119657067802,
          -0.21640479498305432,
          -0.20060016552158394,
          -0.20060016552158394,
          -0.1674596064764161,
          -0.1729041527655682,
          -0.1766572795544565,
          -0.1559015140650112,
          -0.13093459372731106,
          -0.1983146882515726,
          -0.09950426970452148,
          -0.11995517445529814,
          -0.11891249546124022,
          -0.1657771234493387,
          0.00572285942742396,
          -0.14201002151920677,
          -0.19181260096669053,
          -0.202828828890469,
          -0.15421594239059355,
          -0.10915906872824173,
          -0.4273729380704407,
          null,
          null,
          null,
          null,
          null,
          null,
          null,
          null,
          null,
          null,
          null,
          null,
          null,
          null,
          null,
          null,
          null,
          null,
          null,
          null,
          null,
          null,
          null,
          null,
          null,
          null,
          null,
          null,
          null,
          null,
          null,
          null,
          null,
          null,
          null,
          null,
          null,
          null,
          null,
          null,
          null,
          null,
          null,
          null,
          null,
          null,
          null,
          null,
          null,
          null,
          null,
          null,
          null,
          null,
          null,
          null,
          null,
          null,
          null,
          null,
          null,
          null,
          null,
          null,
          null,
          null,
          null,
          null,
          null,
          null,
          null,
          null,
          null,
          null,
          null,
          null,
          null,
          null,
          null,
          null,
          null,
          null,
          null,
          null,
          null,
          null,
          null,
          null,
          null,
          null,
          null,
          null,
          null,
          null,
          null,
          null,
          null,
          null,
          null,
          null,
          null,
          null,
          null,
          null,
          null,
          null,
          null,
          null,
          null,
          null,
          null,
          null,
          null,
          null,
          null,
          null,
          null,
          null,
          null,
          null,
          null,
          null,
          null,
          null,
          null,
          null,
          null,
          null,
          null,
          null,
          null,
          null,
          null,
          null,
          null,
          null,
          null,
          null,
          null,
          null,
          null,
          null,
          null,
          null,
          null,
          null,
          null,
          null,
          null,
          null,
          null,
          null,
          null,
          null,
          null,
          null,
          null,
          null,
          null,
          null,
          null,
          null,
          null,
          null,
          null,
          null,
          null,
          null,
          null,
          null,
          null,
          null,
          null,
          null,
          null,
          null,
          null,
          null,
          null,
          null,
          null,
          null,
          null,
          null,
          null,
          null,
          null,
          null,
          null,
          null,
          null,
          null,
          null,
          null,
          null,
          null,
          null,
          null,
          null,
          null,
          null,
          null,
          null,
          null,
          null,
          null,
          null,
          null,
          null,
          null,
          null,
          null,
          null,
          null,
          null,
          null,
          null,
          null,
          null,
          null,
          null,
          null,
          null,
          null,
          null,
          null,
          null,
          null,
          null,
          null,
          null,
          null,
          null,
          null,
          null,
          null,
          null,
          null,
          null,
          null,
          null,
          null,
          null,
          null,
          null,
          null,
          null,
          null,
          null,
          null,
          null,
          null,
          null,
          null,
          null,
          null,
          null,
          null,
          null,
          null,
          null,
          null,
          null,
          null,
          null,
          null,
          null,
          null,
          null,
          null,
          null,
          null,
          null,
          null,
          null,
          null,
          null,
          null,
          null,
          null,
          null,
          null,
          null,
          null,
          null,
          null,
          null,
          null,
          null,
          null,
          null,
          null,
          null,
          null,
          null,
          null,
          null,
          null,
          null,
          null,
          null,
          null,
          null,
          null,
          null,
          null,
          null,
          null,
          null,
          null,
          null,
          null,
          null,
          null,
          null,
          null,
          null,
          null,
          null,
          null,
          null,
          null,
          null,
          null,
          null,
          null,
          null,
          null,
          null,
          null,
          null,
          null,
          null,
          null,
          null,
          null,
          null,
          null,
          null,
          null,
          null,
          null,
          null,
          null,
          null,
          null,
          null,
          null,
          null,
          null,
          null,
          null,
          null,
          null,
          null,
          null,
          null,
          null,
          null,
          null,
          null,
          null,
          null,
          null,
          null,
          null,
          null,
          null,
          null,
          null,
          null,
          null,
          null,
          null,
          null,
          null,
          null,
          null,
          null,
          null,
          null,
          null,
          null,
          null,
          null,
          null,
          null,
          null,
          null,
          null,
          null,
          null,
          null,
          null,
          null,
          null,
          null,
          null,
          null,
          null,
          null,
          null,
          null,
          null,
          null,
          null,
          null,
          null,
          null,
          null,
          null,
          null,
          null,
          null,
          null,
          null,
          null,
          null,
          null,
          null,
          null,
          null,
          null,
          null,
          null,
          null,
          null,
          null,
          null,
          null,
          null,
          null,
          null,
          null,
          null,
          null,
          null,
          null,
          null,
          null,
          null,
          null,
          null,
          null,
          null,
          null,
          null,
          null,
          null,
          null,
          null,
          null,
          null,
          null,
          null,
          null,
          null,
          null,
          null,
          null,
          null,
          null,
          null,
          null,
          null,
          null,
          null,
          null,
          null,
          null,
          null,
          null,
          null,
          null,
          null,
          null,
          null,
          null,
          null,
          null,
          null,
          null,
          null,
          null,
          null,
          null,
          null,
          null,
          null,
          null,
          null,
          null,
          null,
          null,
          null,
          null,
          null,
          null,
          null,
          null,
          null,
          null,
          null,
          null,
          null,
          null,
          null,
          null,
          null,
          null,
          null,
          null,
          null,
          null,
          null,
          null,
          null,
          null,
          null,
          null,
          null,
          null,
          null,
          null,
          null,
          null,
          null,
          null,
          null,
          null,
          null,
          null,
          null,
          null,
          null,
          null,
          null,
          null,
          null,
          null,
          null,
          null,
          null,
          null,
          null,
          null,
          null,
          null,
          null,
          null,
          null,
          null,
          null,
          null,
          null,
          null,
          null,
          null,
          null,
          null,
          null,
          null,
          null,
          null,
          null,
          null,
          null,
          null,
          null,
          null,
          null,
          null,
          null,
          null,
          null,
          null,
          null,
          null,
          null,
          null,
          null,
          null,
          null,
          null,
          null,
          null,
          null,
          null,
          null,
          null,
          null,
          null,
          null,
          null,
          null,
          null,
          null,
          null,
          null,
          null,
          null,
          null,
          null,
          null,
          null,
          null,
          null,
          null,
          null,
          null,
          null,
          null,
          null,
          null,
          null,
          null,
          null,
          null,
          null,
          null,
          null,
          null,
          null,
          null,
          null,
          null,
          null,
          null,
          null,
          null,
          null,
          null,
          null,
          null,
          null,
          null,
          null,
          null,
          null,
          null,
          null,
          null,
          null,
          null,
          null,
          null,
          null,
          null,
          null,
          null,
          null,
          null,
          null,
          null,
          null,
          null,
          null,
          null,
          null,
          null,
          null,
          null,
          null,
          null,
          null,
          null,
          null,
          null,
          null,
          null,
          null,
          null,
          null,
          null,
          null,
          null,
          null,
          null,
          null,
          null,
          null,
          null,
          null,
          null,
          null,
          null,
          null,
          null,
          null,
          null,
          null,
          null,
          null,
          null,
          null,
          null,
          null,
          null,
          null,
          null,
          null,
          null,
          null,
          null,
          null,
          null,
          null,
          null,
          null,
          null,
          null,
          null,
          null,
          null,
          null,
          null,
          null,
          null,
          null,
          null,
          null,
          null,
          null,
          null,
          null,
          null,
          null,
          null,
          null,
          null,
          null,
          null,
          null,
          null,
          null,
          null,
          null,
          null,
          null,
          null,
          null,
          null,
          null,
          null,
          null,
          null,
          null,
          null,
          null,
          null,
          null,
          null,
          null,
          null,
          null,
          null,
          null,
          null,
          null,
          null,
          null,
          null,
          null,
          null,
          null,
          null,
          null,
          null,
          null,
          null,
          null,
          null,
          null,
          null,
          null,
          null,
          null,
          null,
          null,
          null,
          null,
          null,
          null,
          null,
          null,
          null,
          null,
          null,
          null,
          null,
          null,
          null,
          null,
          null,
          null,
          null,
          null,
          null,
          null,
          null,
          null,
          null,
          null,
          null,
          null,
          null,
          null,
          null,
          null,
          null,
          null,
          null,
          null,
          null,
          null,
          null,
          null,
          null,
          null,
          null,
          null,
          null,
          null,
          null,
          null,
          null,
          null,
          null,
          null,
          null,
          null,
          null,
          null,
          null,
          null,
          null,
          null,
          null,
          null,
          null,
          null,
          null,
          null,
          null,
          null,
          null,
          null,
          null,
          null,
          null,
          null,
          null,
          null,
          null,
          null,
          null,
          null,
          null,
          null,
          null,
          null,
          null,
          null,
          null,
          null,
          null,
          null,
          null,
          null,
          null,
          null,
          null,
          null,
          null,
          null,
          null,
          null,
          null,
          null,
          null,
          null,
          null,
          null,
          null,
          null,
          null,
          null,
          null,
          null,
          null,
          null,
          null,
          null,
          null,
          null,
          null,
          null,
          null,
          null,
          null,
          null,
          null,
          null,
          null,
          null,
          null,
          null,
          null,
          null,
          null,
          null,
          null,
          null,
          null,
          null,
          null,
          null,
          null,
          null,
          null,
          null,
          null,
          null,
          null,
          null,
          null,
          null,
          null,
          null,
          null,
          null,
          null,
          null,
          null,
          null,
          null,
          null,
          null,
          null,
          null,
          null,
          null,
          null,
          null,
          null,
          null,
          null,
          null,
          null,
          null,
          null,
          null,
          null,
          null,
          null,
          null,
          null,
          null,
          null,
          null,
          null,
          null,
          null,
          null,
          null,
          null,
          null,
          null,
          null,
          null,
          null,
          null,
          null,
          null,
          null,
          null,
          null,
          null,
          null,
          null,
          null,
          null,
          null,
          null,
          null,
          null,
          null,
          null,
          null,
          null,
          null,
          null,
          null,
          null,
          null,
          null,
          null,
          null,
          null,
          null,
          null,
          null,
          null,
          null,
          null,
          null,
          null,
          null,
          null,
          null,
          null,
          null,
          null,
          null,
          null,
          null,
          null,
          null,
          null,
          null,
          null,
          null,
          null,
          null,
          null,
          null,
          null,
          null,
          null,
          null,
          null,
          null,
          null,
          null,
          null,
          null,
          null,
          null,
          null,
          null,
          null,
          null,
          null,
          null,
          null,
          null,
          null,
          null,
          null,
          null,
          null,
          null,
          null,
          null,
          null,
          null,
          null,
          null,
          null,
          null,
          null,
          null,
          null,
          null,
          null,
          null,
          null,
          null,
          null,
          null,
          null,
          null,
          null,
          null,
          null,
          null,
          null,
          null,
          null,
          null,
          null,
          null,
          null,
          null,
          null,
          null,
          null,
          null,
          null,
          null,
          null,
          null,
          null,
          null,
          null,
          null,
          null,
          null,
          null,
          null,
          null,
          null,
          null,
          null,
          null,
          null,
          null,
          null,
          null,
          null,
          null,
          null,
          null,
          null,
          null,
          null,
          null,
          null,
          null,
          null,
          null,
          null,
          null,
          null,
          null,
          null,
          null,
          null,
          null,
          null,
          null,
          null,
          null,
          null,
          null,
          null,
          null,
          null,
          null,
          null,
          null,
          null,
          null,
          null,
          null,
          null,
          null,
          null,
          null,
          null,
          null,
          null,
          null,
          null,
          null,
          null,
          null,
          null,
          null,
          null,
          null,
          null,
          null,
          null,
          null,
          null,
          null,
          null,
          null,
          null,
          null,
          null,
          null,
          null,
          null,
          null,
          null,
          null,
          null,
          null,
          null,
          null,
          null,
          null,
          null,
          null,
          null,
          null,
          null,
          null,
          null,
          null,
          null,
          null,
          null,
          null,
          null,
          null,
          null,
          null,
          null,
          null,
          null,
          null,
          null,
          null,
          null,
          null,
          null,
          null,
          null,
          null,
          null,
          null,
          null,
          null,
          null,
          null,
          null,
          null,
          null,
          null,
          null,
          null,
          null,
          null,
          null,
          null,
          null,
          null,
          null,
          null,
          null,
          null,
          null,
          null,
          null,
          null,
          null,
          null,
          null,
          null,
          null,
          null,
          null,
          null,
          null,
          null,
          null,
          null,
          null,
          null,
          null,
          null,
          null,
          null,
          null,
          null,
          null,
          null,
          null,
          null,
          null,
          null,
          null,
          null,
          null,
          null,
          null,
          null,
          null,
          null,
          null,
          null,
          null,
          null,
          null,
          null,
          null,
          null,
          null,
          null,
          null,
          null,
          null,
          null,
          null,
          null,
          null,
          null,
          null,
          null,
          null,
          null,
          null,
          null,
          null,
          null,
          null,
          null,
          null,
          null,
          null,
          null,
          null,
          null,
          null,
          null,
          null,
          null,
          null,
          null,
          null,
          null,
          null,
          null,
          null,
          null,
          null,
          null,
          null,
          null,
          null,
          null,
          null,
          null,
          null,
          null,
          null,
          null,
          null,
          null,
          null,
          null,
          null,
          null,
          null,
          null,
          null,
          null,
          null,
          null,
          null,
          null,
          null,
          null,
          null,
          null,
          null,
          null,
          null,
          null,
          null,
          null,
          null,
          null,
          null,
          null,
          null,
          null,
          null,
          null,
          null,
          null,
          null,
          null,
          null,
          null,
          null,
          null,
          null,
          null,
          null,
          null,
          null,
          null,
          null,
          null,
          null,
          null,
          null,
          null,
          null,
          null,
          null,
          null,
          null,
          null,
          null,
          null,
          null,
          null,
          null,
          null,
          null,
          null,
          null,
          null,
          null,
          null,
          null,
          null,
          null,
          null,
          null,
          null,
          null,
          null,
          null,
          null,
          null,
          null,
          null,
          null,
          null,
          null,
          null,
          null,
          null,
          null,
          null,
          null,
          null,
          null,
          null,
          null,
          null,
          null,
          null,
          null,
          null,
          null,
          null,
          null,
          null,
          null,
          null,
          null,
          null,
          null,
          null,
          null,
          null,
          null,
          null,
          null,
          null,
          null,
          null,
          null,
          null,
          null,
          null,
          null,
          null,
          null,
          null,
          null,
          null,
          null,
          null,
          null,
          null,
          null,
          null,
          null,
          null,
          null,
          null,
          null,
          null,
          null,
          null,
          null,
          null,
          null,
          null,
          null,
          null,
          null,
          null,
          null,
          null,
          null,
          null,
          null,
          null,
          null,
          null,
          null,
          null,
          null,
          null,
          null,
          null,
          null,
          null,
          null,
          null,
          null,
          null,
          null,
          null,
          null,
          null,
          null,
          null,
          null,
          null,
          null,
          null,
          null,
          null,
          null,
          null,
          null,
          null,
          null,
          null,
          null,
          null,
          null,
          null,
          null,
          null,
          null,
          null,
          null,
          null,
          null,
          null,
          null,
          null,
          null,
          null,
          null,
          null,
          null,
          null,
          null,
          null,
          null,
          null,
          null,
          null,
          null,
          null,
          null,
          null,
          null,
          null,
          null,
          null,
          null,
          null,
          null,
          null,
          null,
          null,
          null,
          null,
          null,
          null,
          null,
          null,
          null,
          null,
          null,
          null,
          null,
          null,
          null,
          null,
          null,
          null,
          null,
          null,
          null,
          null,
          null,
          null,
          null,
          null,
          null,
          null,
          null,
          null,
          null,
          null,
          null,
          null,
          null,
          null,
          null,
          null,
          null,
          null,
          null,
          null,
          null,
          null,
          null,
          null,
          null,
          null,
          null,
          null,
          null,
          null,
          null,
          null,
          null,
          null,
          null,
          null,
          null,
          null,
          null,
          null,
          null,
          null,
          null,
          null,
          null,
          null,
          null,
          null,
          null,
          null,
          null,
          null,
          null,
          null,
          null,
          null,
          null,
          null,
          null,
          null,
          null,
          null,
          null,
          null,
          null,
          null,
          null,
          null,
          null,
          null,
          null,
          null,
          null,
          null,
          null,
          null,
          null,
          null,
          null,
          null,
          null,
          null,
          null,
          null,
          null,
          null,
          null,
          null,
          null,
          null,
          null,
          null,
          null,
          null,
          null,
          null,
          null,
          null,
          null,
          null,
          null,
          null,
          null,
          null,
          null,
          null,
          null,
          null,
          null,
          null,
          null,
          null,
          null,
          null,
          null,
          null,
          null,
          null,
          null,
          null,
          null,
          null,
          null,
          null,
          null,
          null,
          null,
          null,
          null,
          null,
          null,
          null,
          null,
          null,
          null,
          null,
          null,
          null,
          null,
          null,
          null,
          null,
          null,
          null,
          null,
          null,
          null,
          null,
          null,
          null,
          null,
          null,
          null,
          null,
          null,
          null,
          null,
          null,
          null,
          null,
          null,
          null,
          null,
          null,
          null,
          null,
          null,
          null,
          null,
          null,
          null,
          null,
          null,
          null,
          null,
          null,
          null,
          null,
          null,
          null,
          null,
          null,
          null,
          null,
          null,
          null,
          null,
          null,
          null,
          null,
          null,
          null,
          null,
          null,
          null,
          null,
          null,
          null,
          null,
          null,
          null,
          null,
          null,
          null,
          null,
          null,
          null,
          null,
          null,
          null,
          null,
          null,
          null,
          null,
          null,
          null,
          null,
          null,
          null,
          null,
          null,
          null,
          null,
          null,
          null,
          null,
          null,
          null,
          null,
          null,
          null,
          null,
          null,
          null,
          null,
          null,
          null,
          null,
          null,
          null,
          null,
          null,
          null,
          null,
          null,
          null,
          null,
          null,
          null,
          null,
          null,
          null,
          null,
          null,
          null,
          null,
          null,
          null,
          null,
          null,
          null,
          null,
          null,
          null,
          null,
          null,
          null,
          null,
          null,
          null,
          null,
          null,
          null,
          null,
          null,
          null,
          null,
          null,
          null,
          null,
          null,
          null,
          null,
          null,
          null,
          null,
          null,
          null,
          null,
          null,
          null,
          null,
          null,
          null,
          null,
          null,
          null,
          null,
          null,
          null,
          null,
          null,
          null,
          null,
          null,
          null,
          null,
          null,
          null,
          null,
          null,
          null,
          null,
          null,
          null,
          null,
          null,
          null,
          null,
          null,
          null,
          null,
          null,
          null,
          null,
          null,
          null,
          null,
          null,
          null,
          null,
          null,
          null,
          null,
          null,
          null,
          null,
          null,
          null,
          null,
          null,
          null,
          null,
          null,
          null,
          null,
          null,
          null,
          null,
          null,
          null,
          null,
          null,
          null,
          null,
          null,
          null,
          null,
          null,
          null,
          null,
          null,
          null,
          null,
          null,
          null,
          null,
          null,
          null,
          null,
          null,
          null,
          null,
          null,
          null,
          null,
          null,
          null,
          null,
          null,
          null,
          null,
          null,
          null,
          null,
          null,
          null,
          null,
          null,
          null,
          null,
          null,
          null,
          null,
          null,
          null,
          null,
          null,
          null,
          null,
          null,
          null,
          null,
          null,
          null,
          null,
          null,
          null,
          null,
          null,
          null,
          null,
          null,
          null,
          null,
          null,
          null,
          null,
          null,
          null,
          null,
          null,
          null,
          null,
          null,
          null,
          null,
          null,
          null,
          null,
          null,
          null,
          null,
          null,
          null,
          null,
          null,
          null,
          null,
          null,
          null,
          null,
          null,
          null,
          null,
          null,
          null,
          null,
          null,
          null,
          null,
          null,
          null,
          null,
          null,
          null,
          null,
          null,
          null,
          null,
          null,
          null,
          null,
          null,
          null,
          null,
          null,
          null,
          null,
          null,
          null,
          null,
          null,
          null,
          null,
          null,
          null,
          null,
          null,
          null,
          null,
          null,
          null,
          null,
          null,
          null,
          null,
          null,
          null,
          null,
          null,
          null,
          null,
          null,
          null,
          null,
          null,
          null,
          null,
          null,
          null,
          null,
          null,
          null,
          null,
          null,
          null,
          null,
          null,
          null,
          null,
          null,
          null,
          null,
          null,
          null,
          null,
          null,
          null,
          null,
          null,
          null,
          null,
          null,
          null,
          null,
          null,
          null,
          null,
          null,
          null,
          null,
          null,
          null,
          null,
          null,
          null,
          null,
          null,
          null,
          null,
          null,
          null,
          null,
          null,
          null,
          null,
          null,
          null,
          null,
          null,
          null,
          null,
          null,
          null,
          null,
          null,
          null,
          null,
          null,
          null,
          null,
          null,
          null,
          null,
          null,
          null,
          null,
          null,
          null,
          null,
          null,
          null,
          null,
          null,
          null,
          null,
          null,
          null,
          null,
          null,
          null,
          null,
          null,
          null,
          null,
          null,
          null,
          null,
          null,
          null,
          null,
          null,
          null,
          null,
          null,
          null,
          null,
          null,
          null,
          null,
          null,
          null,
          null,
          null,
          null,
          null,
          null,
          null,
          null,
          null,
          null,
          null,
          null,
          null,
          null,
          null,
          null,
          null,
          null,
          null,
          null,
          null,
          null,
          null,
          null,
          null,
          null,
          null,
          null,
          null,
          null,
          null,
          null,
          null,
          null,
          null,
          null,
          null,
          null,
          null,
          null,
          null,
          null,
          null,
          null,
          null,
          null,
          null,
          null,
          null,
          null,
          null,
          null,
          null,
          null,
          null,
          null,
          null,
          null,
          null,
          null,
          null,
          null,
          null,
          null,
          null,
          null,
          null,
          null,
          null,
          null,
          null,
          null,
          null,
          null,
          null,
          null,
          null,
          null,
          null,
          null,
          null,
          null,
          null,
          null,
          null,
          null,
          null,
          null,
          null,
          null,
          null,
          null,
          null,
          null,
          null,
          null,
          null,
          null,
          null,
          null,
          null,
          null,
          null,
          null,
          null,
          null,
          null,
          null,
          null,
          null,
          null,
          null,
          null,
          null,
          null,
          null,
          null,
          null,
          null,
          null,
          null,
          null,
          null,
          null,
          null,
          null,
          null,
          null,
          null,
          null,
          null,
          null,
          null,
          null,
          null,
          null,
          null,
          null,
          null,
          null,
          null,
          null,
          null,
          null,
          null,
          null,
          null,
          null,
          null,
          null,
          null,
          null,
          null,
          null,
          null,
          null,
          null,
          null,
          null,
          null,
          null,
          null,
          null,
          null,
          null,
          null,
          null,
          null,
          null,
          null,
          null,
          null,
          null,
          null,
          null,
          null,
          null,
          null,
          null,
          null,
          null,
          null,
          null,
          null,
          null,
          null,
          null,
          null,
          null,
          null,
          null,
          null,
          null,
          null,
          null,
          null,
          null,
          null,
          null,
          null,
          null,
          null,
          null,
          null,
          null,
          null,
          null,
          null,
          null,
          null,
          null,
          null,
          null,
          null,
          null,
          null,
          null,
          null,
          null,
          null,
          null,
          null,
          null,
          null,
          null,
          null,
          null,
          null,
          null,
          null,
          null,
          null,
          null,
          null,
          null,
          null,
          null,
          null,
          null,
          null,
          null,
          null,
          null,
          null,
          null,
          null,
          null,
          null,
          null,
          null,
          null,
          null,
          null,
          null,
          null,
          null,
          null,
          null,
          null,
          null,
          null,
          null,
          null,
          null,
          null,
          null,
          null,
          null,
          null,
          null,
          null,
          null,
          null,
          null,
          null,
          null,
          null,
          null,
          null,
          null,
          null,
          null,
          null,
          null,
          null,
          null,
          null,
          null,
          null,
          null,
          null,
          null,
          null,
          null,
          null,
          null,
          null,
          null,
          null,
          null,
          null,
          null,
          null,
          null,
          null,
          null,
          null,
          null,
          null,
          null,
          null,
          null,
          null,
          null,
          null,
          null,
          null,
          null,
          null,
          null,
          null,
          null,
          null,
          null,
          null,
          null,
          null,
          null,
          null,
          null,
          null,
          null,
          null,
          null,
          null,
          null,
          null,
          null,
          null,
          null,
          null,
          null,
          null,
          null,
          null,
          null,
          null,
          null,
          null,
          null,
          null,
          null,
          null,
          null,
          null,
          null,
          null,
          null,
          null,
          null,
          null,
          null,
          null,
          null,
          null,
          null,
          null,
          null,
          null,
          null,
          null,
          null,
          null,
          null,
          null,
          null,
          null,
          null,
          null,
          null,
          null,
          null,
          null,
          null,
          null,
          null,
          null,
          null,
          null,
          null,
          null,
          null,
          null,
          null,
          null,
          null,
          null,
          null,
          null,
          null,
          null,
          null,
          null,
          null,
          null,
          null,
          null,
          null,
          null,
          null,
          null,
          null,
          null,
          null,
          null,
          null,
          null,
          null,
          null,
          null,
          null,
          null,
          null,
          null,
          null,
          null,
          null,
          null,
          null,
          null,
          null,
          null,
          null,
          null,
          null,
          null,
          null,
          null,
          null,
          null,
          null,
          null,
          null,
          null,
          null,
          null,
          null,
          null,
          null,
          null,
          null,
          null,
          null,
          null,
          null,
          null,
          null,
          null,
          null,
          null,
          null,
          null,
          null,
          null,
          null,
          null,
          null,
          null,
          null,
          null,
          null,
          null,
          null,
          null,
          null,
          null
         ],
         "xaxis": "x",
         "y": [
          0.0773484968292416,
          0.3064826884624473,
          -0.13515748038314337,
          -0.2036845372535397,
          -1.7124864516316736,
          -0.013983768390073507,
          -0.38893140289770367,
          -1.7091205370100964,
          -0.2035642722072748,
          0.269900222161346,
          -0.1718127926184629,
          0.2699002221613531,
          -0.13349698013851968,
          -0.1624611462378076,
          -0.11473652002277952,
          0.46964053351506474,
          0.005452142793026296,
          -0.16619459963095107,
          -0.16165262246309264,
          -0.18925488671808807,
          0.0689227658725485,
          -0.061478565276868666,
          0.1442842990984415,
          -0.13690095976302777,
          -0.21493490832240178,
          0.663134403082005,
          -0.02788917085708222,
          0.26290042467089947,
          0.4693180941046598,
          -0.029479845887469474,
          0.12324374476188102,
          -0.14512518991596265,
          -0.14165558054475083,
          0.08695845682998134,
          -0.024597276725122668,
          -0.09030826368647837,
          -0.1319342949087107,
          -0.30183513240757,
          -0.1033124834920398,
          -0.2308924996756239,
          -0.16333105789621347,
          -0.13115866877310667,
          -0.17896166459470472,
          -0.6419306692134202,
          -0.21470343036169107,
          -0.2171210598559068,
          -0.1884498244728905,
          -0.2558639355985374,
          -0.05233388546840336,
          -0.022068613610701008,
          -0.07529569064711646,
          -0.07122014050226326,
          -0.004609483137925092,
          -0.12454245293946747,
          -0.17428547805333283,
          -0.014006729876533073,
          -0.16999323285550766,
          -0.21741899784642615,
          -0.1635224614306475,
          -0.10815461778243242,
          -0.0975617143570861,
          0.16090961823977112,
          0.2883997365097574,
          -0.09123384820457163,
          -0.018875457328693307,
          0.8470194348379056,
          -0.08679518097652603,
          -0.09543773471189564,
          -0.17798018081333988,
          -0.17197980920992206,
          -0.4004886132979419,
          -0.10049389076360414,
          3.208454088983104,
          -0.1903444540119108,
          -0.0008462182921408242,
          -0.11349285161398466,
          0.21793135627968505,
          -0.14182860343608403,
          -0.3535846491472093,
          -0.1281566505227622,
          -0.03270348156070514,
          -0.10337491373217955,
          0.06357632589014447,
          -0.03080602608582035,
          0.04102361673534407,
          -0.07462728421922092,
          -0.2018255861386126,
          -0.05965456835313841,
          -0.10901426359600887,
          -0.07481461619140405,
          0.09384198249054827,
          -0.26598842207168105,
          -0.3755009284188165,
          -0.14114059079447183,
          0.06626617584349698,
          -0.10229290734103177,
          0.342389648898828,
          0.10742731428926529,
          -0.12292437445036758,
          -0.13233249613285367,
          0.3124094741668952,
          1.5085886037720084,
          -0.11538700684293483,
          0.005844200935840682,
          -0.20953218684955088,
          -0.22286379691270555,
          -0.35042604972458197,
          0.042330486257888,
          0.043684693985419604,
          -0.17336798305671638,
          0.2018543843389706,
          0.5469388285803822,
          0.010172511792739519,
          -0.08619798309173857,
          0.4645512619705427,
          -0.1750918767318684,
          -0.09951655548380893,
          -0.2579950594575769,
          -0.32050000542323637,
          -0.2254020701394113,
          -0.19243769452564263,
          -0.10419411104091808,
          -0.09650048101271527,
          -0.14672891204028554,
          -0.008354787971359034,
          -0.01141782957719177,
          0.3588472282973895,
          -0.12858074359552793,
          -0.11438459275627448,
          -0.19851101289267853,
          -0.1763854666183518,
          -0.017828526741907262,
          -0.0964606287324493,
          -0.21214870774665034,
          -0.1169399600376328,
          -0.06013229875702112,
          -0.08360397205068248,
          -0.09995377850812213,
          0.43927967320271355,
          -0.2294673769395005,
          -0.09347629766715676,
          -0.18080483294778035,
          -0.09347629766715676,
          0.11451680520544777,
          -0.14537248811499676,
          -0.14537248811499676,
          0.0713838216179498,
          -0.04836548312928899,
          -0.12444005173813807,
          -0.11300075231100022,
          -0.21872930752198952,
          0.7158433516521302,
          -0.2490712297096665,
          -0.08217580135275147,
          -0.05626898457211391,
          -0.6933395296563403,
          -0.03441719179797233,
          -0.3351960001345651,
          -0.06425289678317386,
          -0.27958649773105554,
          0.7928536602900877,
          -0.2853402049173579,
          -0.04854503962110846,
          0.12039076537533684,
          -0.1395797554690618,
          0.2332721324166755,
          0.23039946198690947,
          0.06813291591634314,
          -0.10410669094349038,
          0.38028502782545015,
          -0.16502193998968448,
          -0.012195214797480088,
          -0.08161980746216176,
          -0.050534150829942066,
          -0.024803788785402545,
          -0.0702535166127497,
          -0.10906536066678113,
          -0.10906536066678113,
          -0.14711522986365114,
          -0.2975445656002703,
          2.614840807089687,
          1.2785493162176509,
          0.061913316366109084,
          0.04102361673534407,
          0.29447491443439794,
          -0.08714970179238281,
          0.27292329900968904,
          0.19565732827075158,
          -0.07852519908752223,
          -0.026380910739911386,
          -0.1251741944494544,
          0.019792774143220927,
          -1.643415831480228,
          0.07856964747581957,
          -0.1723366613754234,
          0.14971021535291987,
          -0.5499968928280273,
          -0.06580830694787945,
          -0.12667773772108823,
          -0.2885005744764345,
          -0.10900059624809359,
          -0.12667773772108765,
          -0.09822339112554133,
          0.4892176690746343,
          -0.3599045627352157,
          0.04091414160423186,
          -0.3991637648761092,
          -0.3543198137125091,
          -0.31201966921245555,
          -0.14520096172172464,
          -0.15870557354431397,
          0.17605168306122335,
          -0.2249725866429952,
          1.067906925334347,
          -0.05664594629491851,
          -0.2545766391100463,
          -0.11357906633318669,
          -0.35401828839685073,
          -0.2808202952972533,
          -0.3144407876299529,
          -0.3948578685663063,
          -0.08490534050011331,
          0.29166639536727346,
          -0.2619284343096455,
          -0.1935847449159273,
          -0.06723260543592341,
          -0.10539197295673976,
          -0.18818053800631057,
          -0.24568013663843957,
          0.150547035094761,
          0.367654802733839,
          0.12260201244702568,
          -0.23855955305105378,
          -0.1112835050319377,
          -0.1325311794749098,
          -0.010184691500969031,
          -0.2859443920690907,
          -0.03833623337882609,
          -0.15879375888690989,
          -0.2046517392700341,
          -0.16463137230865116,
          -1.7162596184754482,
          -0.09901707845209946,
          -0.32210538629131796,
          -0.02434754605670231,
          -0.08710335294691705,
          2.1699954172775238,
          -0.13287719938732112,
          -0.08196403299251073,
          -0.15708568885452756,
          0.5088543867461829,
          0.28183137094969574,
          0.11159383303758195,
          -0.2668294659630679,
          0.4177401988332667,
          -0.14618269780321297,
          0.08561144954363431,
          -0.12796206128270476,
          0.2639916031472908,
          0.015676146185203618,
          -0.36620447802862743,
          -0.015729379906776895,
          -0.026705231131541867,
          -0.2554429990282181,
          -0.02613073990015482,
          -0.022657914979303046,
          -0.11538700684293521,
          -0.0953455878012884,
          0.369880706994724,
          -0.23246690424466032,
          0.036376638818884074,
          -0.04783418253542755,
          -0.14439299349277543,
          -0.17934096537923874,
          0.0525924559057268,
          -0.24573094170985496,
          -0.39570146889039876,
          0.3373154400257845,
          -0.23571023218903142,
          -0.12105469163667626,
          -0.05062462622099455,
          -0.08429540849712981,
          -0.10660818836349681,
          -0.17877255051954014,
          -0.08027612374878682,
          -0.13773277161817227,
          -0.17487990819188012,
          -0.09464176385244556,
          -0.46513727876047156,
          -0.28548620896096594,
          -0.06211585536243091,
          -0.05953685225389692,
          0.11747805117983988,
          -0.0044183396690423635,
          -0.32724676447063,
          -33.747093123629334,
          -0.07790237714301128,
          0.5283601646068622,
          -0.041069439415058306,
          -0.06839747314122478,
          -0.1926394785608288,
          0.5745222439943654,
          -0.3587263256415847,
          -0.29422198476086237,
          -0.021763254731467504,
          -0.0883644626897203,
          -0.1663867764671791,
          -0.3486501431381945,
          -0.08130545767152053,
          -0.20735205532127005,
          -0.280980977975104,
          -0.11491105963376427,
          -0.04372931933588226,
          -0.2597417868038298,
          0.013383324608725324,
          0.035285242496847606,
          -0.07271670293447406,
          -0.2034702399267903,
          -0.0468134164893976,
          -0.1359855214318805,
          -0.1470063259459969,
          -0.1401412985307072,
          0.06612506461200052,
          0.019701879923525727,
          -0.0937427110061871,
          0.09249891718174962,
          -0.06304096626537535,
          -0.11214421029627605,
          -0.14717379393678778,
          -0.03310928084283335,
          -0.17800325960399802,
          0.9298080994742869,
          -0.19491941812592667,
          -0.11995698994163505,
          -0.10762647687023263,
          0.10023604721954008,
          0.1844347616149984,
          -0.07587400877891644,
          -0.21127474030672552,
          0.0873834265547761,
          -0.06862720398731897,
          0.4446772561263271,
          -0.04058598055752683,
          -0.04998816380773064,
          -0.1977036093513678,
          -0.14884354428328836,
          -1.760148513971116,
          -0.33035969223613976,
          0.2339409108719071,
          0.12133874630149177,
          -0.28338745815360117,
          -0.2020407296588458,
          -0.041496909332612894,
          -0.11661088369131678,
          -0.07277686710979026,
          0.19296992130406834,
          -0.021316652108415983,
          -0.056667866968789365,
          0.09671170214370467,
          -0.2769423650441314,
          -0.24586886038734757,
          -0.2000404116792205,
          -0.23448602447513558,
          -0.28368894855431265,
          -0.1392452503663218,
          -0.20776413241960606,
          -0.041059567797548664,
          0.03439801845537907,
          -1.0145163594240283,
          -1.0091750099621426,
          -0.14349203492709217,
          -0.10170084309898919,
          -0.03570823164968298,
          -0.04321826985635185,
          -0.01660293065011312,
          -0.09975222112242012,
          0.19129588185007182,
          -0.3046306775761723,
          -1.7468152707448168,
          -0.0645302262136572,
          -0.13145528908183676,
          -0.11812018734015338,
          0.45923805571194487,
          -0.14964688256765799,
          -0.03845611386129211,
          -0.12059192643664465,
          0.40974435203133747,
          -0.20189143834192097,
          -0.1157100899166614,
          0.06039997506640422,
          -0.2763279960204831,
          -0.14987674551258218,
          -0.26433486726011085,
          -0.27267200697655447,
          -0.3749581640995853,
          -0.1586971913558032,
          -0.20356607039436062,
          -0.11685164104246222,
          -0.19678423796884534,
          -0.060451066504853705,
          -0.12039182760878868,
          -0.0318343653884346,
          -0.06690399964397503,
          -0.037004477358527604,
          -0.19063252105753015,
          -0.19063252105752995,
          0.09509143517872125,
          -0.1694279882457,
          -0.200886476940164,
          0.04023819982826044,
          -0.022276583674291688,
          -0.05388315957869839,
          0.06325605080201271,
          0.011133667293433406,
          0.004057969568864215,
          -0.026123997387195105,
          0.03053733688032742,
          0.058990984268083996,
          -0.09960606345777046,
          0.0009558634817124396,
          -0.10306843302940827,
          0.13129698840154144,
          0.4048339985526841,
          0.25746175461003884,
          -0.014708503494851045,
          -0.09901279511020526,
          -0.06729698439949211,
          0.19899028634990587,
          0.02860706796395368,
          -0.06013229875702086,
          -0.0896830819481292,
          -0.11538700684293521,
          0.005383352674712528,
          -0.18267425209471827,
          -0.11792956756253957,
          0.21057614686481876,
          -0.09767876318695634,
          -0.05328896094534341,
          -0.13438407570004868,
          0.3254585451486215,
          -0.24008292448688287,
          0.4716798269128841,
          -0.17274483265758367,
          0.040451408543580925,
          -0.11820503781643156,
          -0.1266298233965856,
          0.09107125182632048,
          -0.385294524713719,
          1.113205605047433,
          0.18545235563035586,
          -0.1399499057874953,
          -0.011243872099249482,
          0.10728621937865312,
          -0.17735139435640476,
          0.5280384588010545,
          -0.07145814473527443,
          -0.000510716191317015,
          0.5186389878986868,
          -0.09862609302752076,
          -0.12785336719313692,
          -0.17845623243968237,
          -0.18286684782544377,
          0.02113884244455919,
          2.0261483071088455,
          -0.27896367401552435,
          -0.13272220585485903,
          0.11918323806423467,
          -0.0948089149041105,
          -0.10056600037480702,
          -1.520606913926297,
          0.18258874101286454,
          -0.07743094227256284,
          -0.10661184039666148,
          -0.11872037749112643,
          -0.16338816901703554,
          0.12330532167894948,
          0.030011266778029306,
          -0.09057629117305134,
          -0.4169075566484093,
          -0.32497423785583857,
          -0.16032437375756883,
          -0.1239571041741817,
          -0.03050042367004602,
          0.26638873552567643,
          0.26037493168494463,
          0.6836498671610979,
          0.18000345291461436,
          -0.14922883616314572,
          -0.14305531231513405,
          -0.1794953834280107,
          -0.14184649756802636,
          0.28223257795943446,
          -0.2542952944870011,
          0.27200792706825055,
          -0.14825132275511158,
          -0.1884035287971603,
          0.03272908614529943,
          -0.20276827935783426,
          -0.027777582714923463,
          0.018688591150312916,
          -7.850015433110592e-05,
          0.503471557601179,
          0.017858873469660547,
          0.14982791375136653,
          -0.43069446083495566,
          -0.12200843256064474,
          0.030292604444832155,
          -0.17842759998588176,
          -0.15078112036558705,
          -0.4103517097897693,
          2.8921152994571595,
          0.7311357745207272,
          -0.43076493409213024,
          -0.590516334831578,
          0.06822088551853003,
          1.085178457073674,
          -0.3137321613084512,
          0.11063366546967479,
          -0.07565931619740476,
          -0.0760928759626377,
          -0.3418834647218995,
          3.3266129487733087,
          0.11541842317029395,
          -0.10327118146101372,
          -0.17842759998588176,
          -0.06013229875702114,
          -0.11587832641857455,
          -0.06697675166891878,
          -0.1478326670501774,
          -0.30339978691851016,
          -0.3449703615365245,
          -0.029664930669957103,
          -0.22333987797931734,
          -0.12559321533203108,
          0.5213063665934753,
          0.001977483601515658,
          0.017055867932122333,
          -0.05198038854400009,
          -0.15311054052651352,
          0.3122962983780481,
          -0.11433556603200296,
          -0.1780727715237284,
          -0.06986444996917236,
          -0.13709135299788439,
          0.08441398146074619,
          -0.10609132276697468,
          -0.3915662173140831,
          0.2390992543846621,
          0.02875575919440317,
          -0.1521603577738284,
          0.02875575919440313,
          0.10906673492072419,
          -0.2245669618387087,
          -0.0953455878012884,
          -0.10660818836349681,
          -0.12396598378928524,
          -0.006158640875309825,
          -0.10718000322093955,
          -0.04208149335144482,
          -0.1979379376152601,
          -0.1979379376152601,
          -0.13333111104982795,
          -0.11554914727817969,
          -0.3290672735832587,
          0.3067506646267582,
          0.03448045148183832,
          -0.04245393282695876,
          0.3230621844578755,
          0.023857493040981392,
          0.13097080696263078,
          -0.2569074950163836,
          -0.18948098169232785,
          -0.18366282706503936,
          -0.13791136452768016,
          -0.1655401121998839,
          -0.15988629024515225,
          -0.2939624390034516,
          1.1119608598990727,
          -0.058951988727394634,
          0.32592369095850054,
          -0.05277995893419112,
          -0.15071729149404825,
          -0.25262561480194057,
          -0.10679027066637757,
          -0.25118636003724415,
          0.030994413771960872,
          -0.41629812725199966,
          -0.010695278391612788,
          -0.15180850848848187,
          -0.20545404089157188,
          0.39297658017654774,
          -0.14091145154609042,
          -0.15891760064287647,
          0.1348244152579519,
          0.1557606964019262,
          -0.4784684261961746,
          0.03543456214563102,
          0.1699289995279215,
          -0.20452724058879854,
          0.053525993325864954,
          -0.05934010658661613,
          -0.1977134504037171,
          -0.021439697410749352,
          0.29679958873199225,
          -0.13706926055197696,
          -0.1546375323825616,
          -0.1243567470375534,
          -0.1653712083357848,
          -0.2484090834941833,
          -0.09252804369834276,
          -0.12877221178598677,
          -0.3401365114307789,
          -0.1552420754052383,
          -0.25585581885159625,
          -0.06831837415034406,
          0.7459818391649694,
          -0.2369814884994628,
          0.1985084693826492,
          -0.20483286300379466,
          -0.08401498734825912,
          0.0032675310683833872,
          0.004292150514037151,
          -0.03311930673631878,
          0.020973424448566477,
          -0.13391134685896675,
          -0.2858768652589817,
          -0.06013229875702105,
          -0.2973873456452248,
          -0.3583534333801685,
          0.7048020810232477,
          0.003527850702569571,
          -0.1531648430312081,
          -0.04721765006085802,
          -0.18380752641847262,
          -0.19191090842425582,
          -0.06641498620301843,
          -0.07769447530303397,
          -0.27488389429628884,
          0.4295931407804691,
          0.14292843954117945,
          -0.10166105563888446,
          0.13524147737632614,
          -0.17684693747507377,
          -0.040497720404219,
          -0.2549271216889637,
          2.152055445987526,
          0.016587030898149665,
          -0.05789622555200207,
          -0.4306944608349556,
          -0.17842729540931324,
          -0.11676771572075681,
          0.3577380841642885,
          0.1742778639945638,
          -0.027652905245754325,
          -0.11820503781643156,
          -0.10327118146101372,
          -0.26225391611401283,
          -0.4354205013692973,
          -0.14346210975172552,
          -0.00342167934593093,
          -0.17734825197017767,
          -0.4130157027238235,
          -0.21714919747371503,
          -0.2510849876745695,
          -0.1579093694353937,
          -0.7050990804346716,
          -0.14890629488700105,
          -0.6209568099551916,
          -0.9262012562996244,
          0.3143572995333747,
          -0.12095924782400445,
          -0.032984992784068384,
          0.08491493694572079,
          -0.2875904931952685,
          0.3677745822947968,
          -0.038160903064410806,
          0.42645462058302575,
          0.0978352093873827,
          0.14028904421070237,
          0.4314872642428631,
          -0.06013229875702115,
          0.10417864652788644,
          -0.046977282339500125,
          -0.11007317094243033,
          -0.1424390466325776,
          -0.04256813686796009,
          -0.1197106307201141,
          -0.3826294074830635,
          -0.3063746076054181,
          -0.18064835496208756,
          0.16505477765157484,
          -0.15404566416876075,
          -0.5006651627625479,
          3.6531150875297604,
          -0.1309203175502756,
          -0.028894164623706843,
          2.3885664588321798,
          -0.007860075839302772,
          -0.09525854836551341,
          -0.03810618132468391,
          0.18013373063319763,
          -0.1844401017268,
          -0.18257052306998303,
          -0.07798602697319902,
          -0.12817704182487213,
          0.9455532015606211,
          -0.017559147071727538,
          0.2399616253938564,
          -0.2883369814986939,
          -0.27822011729691914,
          -0.3346907750693954,
          -0.060132298757021,
          -0.32188646491606776,
          -0.013673627442931264,
          -0.009839765787422867,
          0.076614486090827,
          0.11983222085433187,
          -0.15879270903590487,
          0.2891678519997948,
          -0.14862605378945773,
          0.04311674218086681,
          -0.027963417414296882,
          -0.08811981597084019,
          -0.043757320937774236,
          -0.05631173455154065,
          -0.03218999696159323,
          0.037306607964998094,
          0.3638559460065798,
          0.12203871735848378,
          0.12934142600355722,
          -0.04951254195712208,
          -0.2571137309194342,
          -0.061600426251929075,
          0.11490110086722112,
          -0.11180853992063676,
          -0.15189137800393104,
          0.03614056123518186,
          -0.15372855370061816,
          -0.1578698307723237,
          -0.16208191315951442,
          -0.17848541542845234,
          -0.03645787662481529,
          0.06615858589517573,
          -0.26679051833040257,
          -0.01848806869808125,
          -0.16483935900049837,
          -0.1936683544117648,
          -0.07349056788709467,
          -0.14063531328514053,
          0.13176959486981593,
          -0.20115038833927584,
          -0.04614709933667328,
          -0.30512778724700645,
          -0.0919673165099267,
          -0.07809139794435845,
          0.05880132653497855,
          0.004355226183715642,
          0.021918809522995644,
          -0.29807652022823283,
          -0.17880916623847765,
          -0.2522286564046347,
          0.19283479899494138,
          0.24697759100796057,
          -0.12679889429272276,
          -0.32681966672892065,
          -0.18796457124535912,
          -0.25570770182860814,
          -0.1374145744883083,
          -0.060132298757021044,
          -0.0797210487416734,
          0.19655033494779148,
          0.005887493234892437,
          -0.08246899612904103,
          -0.3280045791833345,
          -0.24375958684649515,
          -0.1249769654527843,
          -0.26347972977135825,
          0.2770897088233689,
          -0.29651215886618276,
          -0.0076922239163685355,
          -0.04892304695319369,
          -0.1308600338744768,
          -0.16097055394581805,
          0.21932240508172016,
          -0.18394472667369183,
          -0.11041546375426262,
          -0.12178202433390366,
          -0.010846857952685682,
          -0.15070747702110446,
          -0.020987807110354847,
          -0.11751157057671556,
          -0.06277330500610359,
          -0.058393981194394935,
          -0.1252053804125903,
          -0.19063252105753,
          0.8006472330571464,
          -0.1453579205980828,
          -0.060132298757021134,
          0.09154640221578146,
          -0.1531690714183543,
          -0.19714805311709394,
          1.5247387561400954,
          -0.09114229692509469,
          -0.5391121888271375,
          -0.014612200987537098,
          -0.08001838252515277,
          -0.0820315856956677,
          2.5535339558102423,
          -0.17694688065924483,
          -0.051425219926032086,
          0.9038611780793363,
          0.010037367331818047,
          -0.16310631458396488,
          -0.11277097730807255,
          0.1786367127598918,
          -0.034524131747878994,
          -0.030153217195167493,
          -0.09787409117347913,
          -0.12706310609719948,
          -0.2974676782329032,
          -0.07929128309842676,
          -0.12706310609719948,
          -0.07350265540202378,
          0.1690194904366188,
          -0.12539082640454566,
          -0.10015539334662163,
          -0.050445824147904966,
          -0.1406353132851421,
          -0.18628437791156285,
          -0.17045162986708562,
          0.024222837394043954,
          -0.3545075601535128,
          0.2825808908864214,
          -0.25772710603091137,
          -0.02125650646876029,
          0.03011274035922673,
          0.20870821405286288,
          0.22343917822475864,
          -0.048394480083877686,
          0.0845012301802968,
          0.42223757079544083,
          -0.014108392220294731,
          0.05615173211482915,
          -0.03349172473210828,
          -0.14501523593938198,
          0.005771609773763847,
          -0.1341107199487205,
          -0.0016223926831080095,
          -0.11275920655515623,
          0.007484753466563971,
          -0.12253413313140864,
          -0.007809172151845728,
          0.1399258041847211,
          -0.03190475891557932,
          0.1951044942487489,
          -0.02626738377017426,
          0.1285016173368509,
          -0.045945215376985774,
          0.2561236114873592,
          3.831004182778218,
          0.1212276926947472,
          0.439050674436362,
          0.08854099674851452,
          0.27766631772609507,
          -0.11724468572513963,
          0.12835391208952587,
          -0.004561688022388981,
          0.3711811273355576,
          -0.04376165249704869,
          0.0430308505982727,
          -0.14332048931136282,
          0.08773747366758324,
          -0.03792180487255709,
          -0.33004817010772486,
          -0.08973260373429683,
          0.7352820848692211,
          -0.08899266967339062,
          0.2604628101032081,
          -0.11109706482474256,
          -0.3589944530740469,
          -0.41519543013109955,
          -0.3226944618231885,
          -0.13985876497102237,
          52.73337539818208,
          0.024402064728403502,
          4.548851943706242,
          0.09060203129774994,
          2.973636770549805,
          -0.00492630794488737,
          0.00881633290825224,
          -0.2590161507469906,
          -0.10985077227802374,
          -0.11301034108942828,
          -0.12741438225635754,
          -0.11820503781643156,
          -0.06254439701689538,
          -0.047602713959158056,
          -0.06036105720402854,
          -0.1843587327385244,
          -0.005864506987905145,
          -0.1272223563946741,
          1.9406634022212574,
          -0.11396351134033736,
          -0.07886713132807502,
          -0.021624648073271843,
          0.3683749253358847,
          -0.10854102600627981,
          -0.17554303978160316,
          0.25849216455213014,
          -0.008683199742993605,
          -0.21206773791952743,
          -0.12954027456023307,
          -0.2564268234722136,
          -0.38435230059320297,
          0.4257040617782562,
          -0.2842255595617114,
          -0.2842255595617114,
          -0.12771614491803043,
          -0.029058207864284317,
          0.1677096112740211,
          0.3925155707665539,
          0.06409418690560484,
          0.41604352484559054,
          0.10044333944709345,
          -0.09384138144076583,
          -0.14717379393678778,
          -0.10885012108533786,
          -0.09795081648598626,
          0.44162359480946495,
          0.4118386563813841,
          -0.05353855942169266,
          -0.02645446896050319,
          -0.02645446896050319,
          -0.03185383497707003,
          -0.06849583639383135,
          0.6493409804674584,
          -0.14670107347854308,
          0.40089481780508984,
          0.3360691452026402,
          -0.27912317201743575,
          0.2530620419385425,
          -0.24108940832228132,
          -0.11521441549220866,
          -0.18488124498371675,
          -0.12094179033191148,
          -0.13231408978294304,
          -0.13199642072999673,
          -0.14019647611772318,
          0.5925104097534375,
          0.26894544104133944,
          -0.12905275044985048,
          -0.20552013564901767,
          -0.32357198625237665,
          -0.21104378104808605,
          -0.08760227215852366,
          -0.21397179028895097,
          -0.08171257903846642,
          -0.19083263421209865,
          -0.09555254636604019,
          -0.3123849268834877,
          -0.10894127927798314,
          0.4079915898333796,
          -0.2569074950163836,
          -0.2520401662713262,
          -0.02581551658931591,
          0.24946050142514464,
          -0.18901727452383615,
          -0.1408017130300913,
          -0.1408017130300913,
          -0.1697895322967195,
          -0.22799432125243507,
          -0.10468669453826163,
          -0.08935203294058162,
          0.358514889959128,
          -0.1892977180289026,
          0.1350389923301067,
          -0.09130380821055822,
          0.0011935020491019015,
          -0.12792747233368362,
          0.4488749941473406,
          -0.09468642227022385,
          -0.13994834125644542,
          -0.14880844687092576,
          -0.1089567936340802,
          -0.06013229875702091,
          -3.288142204207679,
          null,
          null,
          null,
          null,
          null,
          null,
          null,
          null,
          null,
          null,
          null,
          null,
          null,
          null,
          null,
          null,
          null,
          null,
          null,
          null,
          null,
          null,
          null,
          null,
          null,
          null,
          null,
          null,
          null,
          null,
          null,
          null,
          null,
          null,
          null,
          null,
          null,
          null,
          null,
          null,
          null,
          null,
          null,
          null,
          null,
          null,
          null,
          null,
          null,
          null,
          null,
          null,
          null,
          null,
          null,
          null,
          null,
          null,
          null,
          null,
          null,
          null,
          null,
          null,
          null,
          null,
          null,
          null,
          null,
          null,
          null,
          null,
          null,
          null,
          null,
          null,
          null,
          null,
          null,
          null,
          null,
          null,
          null,
          null,
          null,
          null,
          null,
          null,
          null,
          null,
          null,
          null,
          null,
          null,
          null,
          null,
          null,
          null,
          null,
          null,
          null,
          null,
          null,
          null,
          null,
          null,
          null,
          null,
          null,
          null,
          null,
          null,
          null,
          null,
          null,
          null,
          null,
          null,
          null,
          null,
          null,
          null,
          null,
          null,
          null,
          null,
          null,
          null,
          null,
          null,
          null,
          null,
          null,
          null,
          null,
          null,
          null,
          null,
          null,
          null,
          null,
          null,
          null,
          null,
          null,
          null,
          null,
          null,
          null,
          null,
          null,
          null,
          null,
          null,
          null,
          null,
          null,
          null,
          null,
          null,
          null,
          null,
          null,
          null,
          null,
          null,
          null,
          null,
          null,
          null,
          null,
          null,
          null,
          null,
          null,
          null,
          null,
          null,
          null,
          null,
          null,
          null,
          null,
          null,
          null,
          null,
          null,
          null,
          null,
          null,
          null,
          null,
          null,
          null,
          null,
          null,
          null,
          null,
          null,
          null,
          null,
          null,
          null,
          null,
          null,
          null,
          null,
          null,
          null,
          null,
          null,
          null,
          null,
          null,
          null,
          null,
          null,
          null,
          null,
          null,
          null,
          null,
          null,
          null,
          null,
          null,
          null,
          null,
          null,
          null,
          null,
          null,
          null,
          null,
          null,
          null,
          null,
          null,
          null,
          null,
          null,
          null,
          null,
          null,
          null,
          null,
          null,
          null,
          null,
          null,
          null,
          null,
          null,
          null,
          null,
          null,
          null,
          null,
          null,
          null,
          null,
          null,
          null,
          null,
          null,
          null,
          null,
          null,
          null,
          null,
          null,
          null,
          null,
          null,
          null,
          null,
          null,
          null,
          null,
          null,
          null,
          null,
          null,
          null,
          null,
          null,
          null,
          null,
          null,
          null,
          null,
          null,
          null,
          null,
          null,
          null,
          null,
          null,
          null,
          null,
          null,
          null,
          null,
          null,
          null,
          null,
          null,
          null,
          null,
          null,
          null,
          null,
          null,
          null,
          null,
          null,
          null,
          null,
          null,
          null,
          null,
          null,
          null,
          null,
          null,
          null,
          null,
          null,
          null,
          null,
          null,
          null,
          null,
          null,
          null,
          null,
          null,
          null,
          null,
          null,
          null,
          null,
          null,
          null,
          null,
          null,
          null,
          null,
          null,
          null,
          null,
          null,
          null,
          null,
          null,
          null,
          null,
          null,
          null,
          null,
          null,
          null,
          null,
          null,
          null,
          null,
          null,
          null,
          null,
          null,
          null,
          null,
          null,
          null,
          null,
          null,
          null,
          null,
          null,
          null,
          null,
          null,
          null,
          null,
          null,
          null,
          null,
          null,
          null,
          null,
          null,
          null,
          null,
          null,
          null,
          null,
          null,
          null,
          null,
          null,
          null,
          null,
          null,
          null,
          null,
          null,
          null,
          null,
          null,
          null,
          null,
          null,
          null,
          null,
          null,
          null,
          null,
          null,
          null,
          null,
          null,
          null,
          null,
          null,
          null,
          null,
          null,
          null,
          null,
          null,
          null,
          null,
          null,
          null,
          null,
          null,
          null,
          null,
          null,
          null,
          null,
          null,
          null,
          null,
          null,
          null,
          null,
          null,
          null,
          null,
          null,
          null,
          null,
          null,
          null,
          null,
          null,
          null,
          null,
          null,
          null,
          null,
          null,
          null,
          null,
          null,
          null,
          null,
          null,
          null,
          null,
          null,
          null,
          null,
          null,
          null,
          null,
          null,
          null,
          null,
          null,
          null,
          null,
          null,
          null,
          null,
          null,
          null,
          null,
          null,
          null,
          null,
          null,
          null,
          null,
          null,
          null,
          null,
          null,
          null,
          null,
          null,
          null,
          null,
          null,
          null,
          null,
          null,
          null,
          null,
          null,
          null,
          null,
          null,
          null,
          null,
          null,
          null,
          null,
          null,
          null,
          null,
          null,
          null,
          null,
          null,
          null,
          null,
          null,
          null,
          null,
          null,
          null,
          null,
          null,
          null,
          null,
          null,
          null,
          null,
          null,
          null,
          null,
          null,
          null,
          null,
          null,
          null,
          null,
          null,
          null,
          null,
          null,
          null,
          null,
          null,
          null,
          null,
          null,
          null,
          null,
          null,
          null,
          null,
          null,
          null,
          null,
          null,
          null,
          null,
          null,
          null,
          null,
          null,
          null,
          null,
          null,
          null,
          null,
          null,
          null,
          null,
          null,
          null,
          null,
          null,
          null,
          null,
          null,
          null,
          null,
          null,
          null,
          null,
          null,
          null,
          null,
          null,
          null,
          null,
          null,
          null,
          null,
          null,
          null,
          null,
          null,
          null,
          null,
          null,
          null,
          null,
          null,
          null,
          null,
          null,
          null,
          null,
          null,
          null,
          null,
          null,
          null,
          null,
          null,
          null,
          null,
          null,
          null,
          null,
          null,
          null,
          null,
          null,
          null,
          null,
          null,
          null,
          null,
          null,
          null,
          null,
          null,
          null,
          null,
          null,
          null,
          null,
          null,
          null,
          null,
          null,
          null,
          null,
          null,
          null,
          null,
          null,
          null,
          null,
          null,
          null,
          null,
          null,
          null,
          null,
          null,
          null,
          null,
          null,
          null,
          null,
          null,
          null,
          null,
          null,
          null,
          null,
          null,
          null,
          null,
          null,
          null,
          null,
          null,
          null,
          null,
          null,
          null,
          null,
          null,
          null,
          null,
          null,
          null,
          null,
          null,
          null,
          null,
          null,
          null,
          null,
          null,
          null,
          null,
          null,
          null,
          null,
          null,
          null,
          null,
          null,
          null,
          null,
          null,
          null,
          null,
          null,
          null,
          null,
          null,
          null,
          null,
          null,
          null,
          null,
          null,
          null,
          null,
          null,
          null,
          null,
          null,
          null,
          null,
          null,
          null,
          null,
          null,
          null,
          null,
          null,
          null,
          null,
          null,
          null,
          null,
          null,
          null,
          null,
          null,
          null,
          null,
          null,
          null,
          null,
          null,
          null,
          null,
          null,
          null,
          null,
          null,
          null,
          null,
          null,
          null,
          null,
          null,
          null,
          null,
          null,
          null,
          null,
          null,
          null,
          null,
          null,
          null,
          null,
          null,
          null,
          null,
          null,
          null,
          null,
          null,
          null,
          null,
          null,
          null,
          null,
          null,
          null,
          null,
          null,
          null,
          null,
          null,
          null,
          null,
          null,
          null,
          null,
          null,
          null,
          null,
          null,
          null,
          null,
          null,
          null,
          null,
          null,
          null,
          null,
          null,
          null,
          null,
          null,
          null,
          null,
          null,
          null,
          null,
          null,
          null,
          null,
          null,
          null,
          null,
          null,
          null,
          null,
          null,
          null,
          null,
          null,
          null,
          null,
          null,
          null,
          null,
          null,
          null,
          null,
          null,
          null,
          null,
          null,
          null,
          null,
          null,
          null,
          null,
          null,
          null,
          null,
          null,
          null,
          null,
          null,
          null,
          null,
          null,
          null,
          null,
          null,
          null,
          null,
          null,
          null,
          null,
          null,
          null,
          null,
          null,
          null,
          null,
          null,
          null,
          null,
          null,
          null,
          null,
          null,
          null,
          null,
          null,
          null,
          null,
          null,
          null,
          null,
          null,
          null,
          null,
          null,
          null,
          null,
          null,
          null,
          null,
          null,
          null,
          null,
          null,
          null,
          null,
          null,
          null,
          null,
          null,
          null,
          null,
          null,
          null,
          null,
          null,
          null,
          null,
          null,
          null,
          null,
          null,
          null,
          null,
          null,
          null,
          null,
          null,
          null,
          null,
          null,
          null,
          null,
          null,
          null,
          null,
          null,
          null,
          null,
          null,
          null,
          null,
          null,
          null,
          null,
          null,
          null,
          null,
          null,
          null,
          null,
          null,
          null,
          null,
          null,
          null,
          null,
          null,
          null,
          null,
          null,
          null,
          null,
          null,
          null,
          null,
          null,
          null,
          null,
          null,
          null,
          null,
          null,
          null,
          null,
          null,
          null,
          null,
          null,
          null,
          null,
          null,
          null,
          null,
          null,
          null,
          null,
          null,
          null,
          null,
          null,
          null,
          null,
          null,
          null,
          null,
          null,
          null,
          null,
          null,
          null,
          null,
          null,
          null,
          null,
          null,
          null,
          null,
          null,
          null,
          null,
          null,
          null,
          null,
          null,
          null,
          null,
          null,
          null,
          null,
          null,
          null,
          null,
          null,
          null,
          null,
          null,
          null,
          null,
          null,
          null,
          null,
          null,
          null,
          null,
          null,
          null,
          null,
          null,
          null,
          null,
          null,
          null,
          null,
          null,
          null,
          null,
          null,
          null,
          null,
          null,
          null,
          null,
          null,
          null,
          null,
          null,
          null,
          null,
          null,
          null,
          null,
          null,
          null,
          null,
          null,
          null,
          null,
          null,
          null,
          null,
          null,
          null,
          null,
          null,
          null,
          null,
          null,
          null,
          null,
          null,
          null,
          null,
          null,
          null,
          null,
          null,
          null,
          null,
          null,
          null,
          null,
          null,
          null,
          null,
          null,
          null,
          null,
          null,
          null,
          null,
          null,
          null,
          null,
          null,
          null,
          null,
          null,
          null,
          null,
          null,
          null,
          null,
          null,
          null,
          null,
          null,
          null,
          null,
          null,
          null,
          null,
          null,
          null,
          null,
          null,
          null,
          null,
          null,
          null,
          null,
          null,
          null,
          null,
          null,
          null,
          null,
          null,
          null,
          null,
          null,
          null,
          null,
          null,
          null,
          null,
          null,
          null,
          null,
          null,
          null,
          null,
          null,
          null,
          null,
          null,
          null,
          null,
          null,
          null,
          null,
          null,
          null,
          null,
          null,
          null,
          null,
          null,
          null,
          null,
          null,
          null,
          null,
          null,
          null,
          null,
          null,
          null,
          null,
          null,
          null,
          null,
          null,
          null,
          null,
          null,
          null,
          null,
          null,
          null,
          null,
          null,
          null,
          null,
          null,
          null,
          null,
          null,
          null,
          null,
          null,
          null,
          null,
          null,
          null,
          null,
          null,
          null,
          null,
          null,
          null,
          null,
          null,
          null,
          null,
          null,
          null,
          null,
          null,
          null,
          null,
          null,
          null,
          null,
          null,
          null,
          null,
          null,
          null,
          null,
          null,
          null,
          null,
          null,
          null,
          null,
          null,
          null,
          null,
          null,
          null,
          null,
          null,
          null,
          null,
          null,
          null,
          null,
          null,
          null,
          null,
          null,
          null,
          null,
          null,
          null,
          null,
          null,
          null,
          null,
          null,
          null,
          null,
          null,
          null,
          null,
          null,
          null,
          null,
          null,
          null,
          null,
          null,
          null,
          null,
          null,
          null,
          null,
          null,
          null,
          null,
          null,
          null,
          null,
          null,
          null,
          null,
          null,
          null,
          null,
          null,
          null,
          null,
          null,
          null,
          null,
          null,
          null,
          null,
          null,
          null,
          null,
          null,
          null,
          null,
          null,
          null,
          null,
          null,
          null,
          null,
          null,
          null,
          null,
          null,
          null,
          null,
          null,
          null,
          null,
          null,
          null,
          null,
          null,
          null,
          null,
          null,
          null,
          null,
          null,
          null,
          null,
          null,
          null,
          null,
          null,
          null,
          null,
          null,
          null,
          null,
          null,
          null,
          null,
          null,
          null,
          null,
          null,
          null,
          null,
          null,
          null,
          null,
          null,
          null,
          null,
          null,
          null,
          null,
          null,
          null,
          null,
          null,
          null,
          null,
          null,
          null,
          null,
          null,
          null,
          null,
          null,
          null,
          null,
          null,
          null,
          null,
          null,
          null,
          null,
          null,
          null,
          null,
          null,
          null,
          null,
          null,
          null,
          null,
          null,
          null,
          null,
          null,
          null,
          null,
          null,
          null,
          null,
          null,
          null,
          null,
          null,
          null,
          null,
          null,
          null,
          null,
          null,
          null,
          null,
          null,
          null,
          null,
          null,
          null,
          null,
          null,
          null,
          null,
          null,
          null,
          null,
          null,
          null,
          null,
          null,
          null,
          null,
          null,
          null,
          null,
          null,
          null,
          null,
          null,
          null,
          null,
          null,
          null,
          null,
          null,
          null,
          null,
          null,
          null,
          null,
          null,
          null,
          null,
          null,
          null,
          null,
          null,
          null,
          null,
          null,
          null,
          null,
          null,
          null,
          null,
          null,
          null,
          null,
          null,
          null,
          null,
          null,
          null,
          null,
          null,
          null,
          null,
          null,
          null,
          null,
          null,
          null,
          null,
          null,
          null,
          null,
          null,
          null,
          null,
          null,
          null,
          null,
          null,
          null,
          null,
          null,
          null,
          null,
          null,
          null,
          null,
          null,
          null,
          null,
          null,
          null,
          null,
          null,
          null,
          null,
          null,
          null,
          null,
          null,
          null,
          null,
          null,
          null,
          null,
          null,
          null,
          null,
          null,
          null,
          null,
          null,
          null,
          null,
          null,
          null,
          null,
          null,
          null,
          null,
          null,
          null,
          null,
          null,
          null,
          null,
          null,
          null,
          null,
          null,
          null,
          null,
          null,
          null,
          null,
          null,
          null,
          null,
          null,
          null,
          null,
          null,
          null,
          null,
          null,
          null,
          null,
          null,
          null,
          null,
          null,
          null,
          null,
          null,
          null,
          null,
          null,
          null,
          null,
          null,
          null,
          null,
          null,
          null,
          null,
          null,
          null,
          null,
          null,
          null,
          null,
          null,
          null,
          null,
          null,
          null,
          null,
          null,
          null,
          null,
          null,
          null,
          null,
          null,
          null,
          null,
          null,
          null,
          null,
          null,
          null,
          null,
          null,
          null,
          null,
          null,
          null,
          null,
          null,
          null,
          null,
          null,
          null,
          null,
          null,
          null,
          null,
          null,
          null,
          null,
          null,
          null,
          null,
          null,
          null,
          null,
          null,
          null,
          null,
          null,
          null,
          null,
          null,
          null,
          null,
          null,
          null,
          null,
          null,
          null,
          null,
          null,
          null,
          null,
          null,
          null,
          null,
          null,
          null,
          null,
          null,
          null,
          null,
          null,
          null,
          null,
          null,
          null,
          null,
          null,
          null,
          null,
          null,
          null,
          null,
          null,
          null,
          null,
          null,
          null,
          null,
          null,
          null,
          null,
          null,
          null,
          null,
          null,
          null,
          null,
          null,
          null,
          null,
          null,
          null,
          null,
          null,
          null,
          null,
          null,
          null,
          null,
          null,
          null,
          null,
          null,
          null,
          null,
          null,
          null,
          null,
          null,
          null,
          null,
          null,
          null,
          null,
          null,
          null,
          null,
          null,
          null,
          null,
          null,
          null,
          null,
          null,
          null,
          null,
          null,
          null,
          null,
          null,
          null,
          null,
          null,
          null,
          null,
          null,
          null,
          null,
          null,
          null,
          null,
          null,
          null,
          null,
          null,
          null,
          null,
          null,
          null,
          null,
          null,
          null,
          null,
          null,
          null,
          null,
          null,
          null,
          null,
          null,
          null,
          null,
          null,
          null,
          null,
          null,
          null,
          null,
          null,
          null,
          null,
          null,
          null,
          null,
          null,
          null,
          null,
          null,
          null,
          null,
          null,
          null,
          null,
          null,
          null,
          null,
          null,
          null,
          null,
          null,
          null,
          null,
          null,
          null,
          null,
          null,
          null,
          null,
          null,
          null,
          null,
          null,
          null,
          null,
          null,
          null,
          null,
          null,
          null,
          null,
          null,
          null,
          null,
          null,
          null,
          null,
          null,
          null,
          null,
          null,
          null,
          null,
          null,
          null,
          null,
          null,
          null,
          null,
          null,
          null,
          null,
          null,
          null,
          null,
          null,
          null,
          null,
          null,
          null,
          null,
          null,
          null,
          null,
          null,
          null,
          null,
          null,
          null,
          null,
          null,
          null,
          null,
          null,
          null,
          null,
          null,
          null,
          null,
          null,
          null,
          null,
          null,
          null,
          null,
          null,
          null,
          null,
          null,
          null,
          null,
          null,
          null,
          null,
          null,
          null,
          null,
          null,
          null,
          null,
          null,
          null,
          null,
          null,
          null,
          null,
          null,
          null,
          null,
          null,
          null,
          null,
          null,
          null,
          null,
          null,
          null,
          null,
          null,
          null,
          null,
          null,
          null,
          null,
          null,
          null,
          null,
          null,
          null,
          null,
          null,
          null,
          null,
          null,
          null,
          null,
          null,
          null,
          null,
          null,
          null,
          null,
          null,
          null,
          null,
          null,
          null,
          null,
          null,
          null,
          null,
          null,
          null,
          null,
          null,
          null,
          null,
          null,
          null,
          null,
          null,
          null,
          null,
          null,
          null,
          null,
          null,
          null,
          null,
          null,
          null,
          null,
          null,
          null,
          null,
          null,
          null,
          null,
          null,
          null,
          null,
          null,
          null,
          null,
          null,
          null,
          null,
          null,
          null,
          null,
          null,
          null,
          null,
          null,
          null,
          null,
          null,
          null,
          null,
          null,
          null,
          null,
          null,
          null,
          null,
          null,
          null,
          null,
          null,
          null,
          null,
          null,
          null,
          null,
          null,
          null,
          null,
          null,
          null,
          null,
          null,
          null,
          null,
          null,
          null,
          null,
          null,
          null,
          null,
          null,
          null,
          null,
          null,
          null,
          null,
          null,
          null,
          null,
          null,
          null,
          null,
          null,
          null,
          null,
          null,
          null,
          null,
          null,
          null,
          null,
          null,
          null,
          null,
          null,
          null,
          null,
          null,
          null,
          null,
          null,
          null,
          null,
          null,
          null,
          null,
          null,
          null,
          null,
          null,
          null,
          null,
          null,
          null,
          null,
          null,
          null,
          null,
          null,
          null,
          null,
          null,
          null,
          null,
          null,
          null,
          null,
          null,
          null,
          null,
          null,
          null,
          null,
          null,
          null,
          null,
          null,
          null,
          null,
          null,
          null,
          null,
          null,
          null,
          null,
          null,
          null,
          null,
          null,
          null,
          null,
          null,
          null,
          null,
          null,
          null,
          null,
          null,
          null,
          null,
          null,
          null,
          null,
          null,
          null,
          null,
          null,
          null,
          null,
          null,
          null,
          null,
          null,
          null,
          null,
          null,
          null,
          null,
          null,
          null,
          null,
          null,
          null,
          null,
          null,
          null,
          null,
          null,
          null,
          null,
          null,
          null,
          null,
          null,
          null,
          null,
          null,
          null,
          null,
          null,
          null,
          null,
          null,
          null,
          null,
          null,
          null,
          null,
          null,
          null,
          null,
          null,
          null,
          null,
          null,
          null,
          null,
          null,
          null,
          null,
          null,
          null,
          null,
          null,
          null,
          null,
          null,
          null,
          null,
          null,
          null,
          null,
          null,
          null,
          null,
          null,
          null,
          null,
          null,
          null,
          null,
          null,
          null,
          null,
          null,
          null,
          null,
          null,
          null,
          null,
          null,
          null,
          null,
          null,
          null,
          null,
          null,
          null,
          null,
          null,
          null,
          null,
          null,
          null,
          null,
          null,
          null,
          null,
          null,
          null,
          null,
          null,
          null,
          null,
          null,
          null,
          null,
          null,
          null,
          null,
          null,
          null,
          null,
          null,
          null,
          null,
          null,
          null,
          null,
          null,
          null,
          null,
          null,
          null,
          null,
          null,
          null,
          null,
          null,
          null,
          null,
          null,
          null,
          null,
          null,
          null,
          null,
          null,
          null,
          null,
          null,
          null,
          null,
          null,
          null,
          null,
          null,
          null,
          null,
          null,
          null,
          null,
          null,
          null,
          null,
          null,
          null,
          null,
          null,
          null,
          null,
          null,
          null,
          null,
          null,
          null,
          null,
          null,
          null,
          null,
          null,
          null,
          null,
          null,
          null,
          null,
          null,
          null,
          null,
          null,
          null,
          null,
          null,
          null,
          null,
          null,
          null,
          null,
          null,
          null,
          null,
          null,
          null,
          null,
          null,
          null,
          null,
          null,
          null,
          null,
          null,
          null,
          null,
          null,
          null,
          null,
          null,
          null,
          null,
          null,
          null,
          null,
          null,
          null,
          null,
          null,
          null,
          null,
          null,
          null,
          null,
          null,
          null,
          null,
          null,
          null,
          null,
          null,
          null,
          null,
          null,
          null,
          null,
          null,
          null,
          null,
          null,
          null,
          null,
          null,
          null,
          null,
          null,
          null,
          null,
          null,
          null,
          null,
          null,
          null,
          null,
          null,
          null,
          null,
          null,
          null,
          null,
          null,
          null,
          null,
          null,
          null,
          null,
          null,
          null,
          null,
          null,
          null,
          null,
          null,
          null,
          null,
          null,
          null,
          null,
          null,
          null,
          null,
          null,
          null,
          null,
          null,
          null,
          null,
          null,
          null,
          null,
          null,
          null,
          null,
          null,
          null,
          null,
          null,
          null,
          null,
          null,
          null,
          null,
          null,
          null,
          null,
          null,
          null,
          null,
          null,
          null,
          null,
          null,
          null,
          null,
          null,
          null,
          null,
          null,
          null,
          null,
          null,
          null,
          null,
          null,
          null,
          null,
          null,
          null,
          null,
          null,
          null,
          null,
          null,
          null,
          null,
          null,
          null,
          null,
          null,
          null,
          null,
          null,
          null,
          null,
          null,
          null,
          null,
          null,
          null,
          null,
          null,
          null,
          null,
          null,
          null,
          null,
          null,
          null,
          null,
          null,
          null,
          null,
          null,
          null,
          null,
          null,
          null,
          null,
          null,
          null,
          null,
          null,
          null,
          null,
          null,
          null,
          null,
          null,
          null,
          null,
          null,
          null,
          null,
          null,
          null,
          null,
          null,
          null,
          null,
          null,
          null,
          null,
          null,
          null,
          null,
          null,
          null,
          null,
          null,
          null,
          null,
          null,
          null,
          null,
          null,
          null,
          null,
          null,
          null,
          null,
          null,
          null,
          null,
          null,
          null,
          null,
          null,
          null,
          null,
          null,
          null,
          null,
          null,
          null,
          null,
          null,
          null,
          null,
          null,
          null,
          null,
          null,
          null,
          null,
          null,
          null,
          null,
          null,
          null,
          null,
          null,
          null,
          null,
          null,
          null,
          null,
          null,
          null,
          null,
          null,
          null,
          null,
          null,
          null,
          null,
          null,
          null,
          null,
          null,
          null,
          null,
          null,
          null,
          null,
          null,
          null,
          null,
          null,
          null,
          null,
          null,
          null,
          null,
          null,
          null,
          null,
          null,
          null,
          null,
          null,
          null,
          null,
          null,
          null,
          null,
          null,
          null,
          null,
          null,
          null,
          null,
          null,
          null,
          null,
          null,
          null,
          null,
          null,
          null,
          null,
          null,
          null,
          null,
          null,
          null,
          null,
          null,
          null,
          null,
          null,
          null,
          null,
          null,
          null,
          null,
          null,
          null,
          null,
          null,
          null,
          null,
          null,
          null,
          null,
          null,
          null,
          null,
          null,
          null,
          null,
          null,
          null,
          null,
          null,
          null,
          null,
          null,
          null,
          null,
          null,
          null,
          null,
          null,
          null,
          null,
          null,
          null,
          null,
          null,
          null,
          null,
          null,
          null,
          null,
          null,
          null
         ],
         "yaxis": "y"
        }
       ],
       "layout": {
        "legend": {
         "tracegroupgap": 0
        },
        "margin": {
         "t": 60
        },
        "template": {
         "data": {
          "bar": [
           {
            "error_x": {
             "color": "#2a3f5f"
            },
            "error_y": {
             "color": "#2a3f5f"
            },
            "marker": {
             "line": {
              "color": "#E5ECF6",
              "width": 0.5
             },
             "pattern": {
              "fillmode": "overlay",
              "size": 10,
              "solidity": 0.2
             }
            },
            "type": "bar"
           }
          ],
          "barpolar": [
           {
            "marker": {
             "line": {
              "color": "#E5ECF6",
              "width": 0.5
             },
             "pattern": {
              "fillmode": "overlay",
              "size": 10,
              "solidity": 0.2
             }
            },
            "type": "barpolar"
           }
          ],
          "carpet": [
           {
            "aaxis": {
             "endlinecolor": "#2a3f5f",
             "gridcolor": "white",
             "linecolor": "white",
             "minorgridcolor": "white",
             "startlinecolor": "#2a3f5f"
            },
            "baxis": {
             "endlinecolor": "#2a3f5f",
             "gridcolor": "white",
             "linecolor": "white",
             "minorgridcolor": "white",
             "startlinecolor": "#2a3f5f"
            },
            "type": "carpet"
           }
          ],
          "choropleth": [
           {
            "colorbar": {
             "outlinewidth": 0,
             "ticks": ""
            },
            "type": "choropleth"
           }
          ],
          "contour": [
           {
            "colorbar": {
             "outlinewidth": 0,
             "ticks": ""
            },
            "colorscale": [
             [
              0,
              "#0d0887"
             ],
             [
              0.1111111111111111,
              "#46039f"
             ],
             [
              0.2222222222222222,
              "#7201a8"
             ],
             [
              0.3333333333333333,
              "#9c179e"
             ],
             [
              0.4444444444444444,
              "#bd3786"
             ],
             [
              0.5555555555555556,
              "#d8576b"
             ],
             [
              0.6666666666666666,
              "#ed7953"
             ],
             [
              0.7777777777777778,
              "#fb9f3a"
             ],
             [
              0.8888888888888888,
              "#fdca26"
             ],
             [
              1,
              "#f0f921"
             ]
            ],
            "type": "contour"
           }
          ],
          "contourcarpet": [
           {
            "colorbar": {
             "outlinewidth": 0,
             "ticks": ""
            },
            "type": "contourcarpet"
           }
          ],
          "heatmap": [
           {
            "colorbar": {
             "outlinewidth": 0,
             "ticks": ""
            },
            "colorscale": [
             [
              0,
              "#0d0887"
             ],
             [
              0.1111111111111111,
              "#46039f"
             ],
             [
              0.2222222222222222,
              "#7201a8"
             ],
             [
              0.3333333333333333,
              "#9c179e"
             ],
             [
              0.4444444444444444,
              "#bd3786"
             ],
             [
              0.5555555555555556,
              "#d8576b"
             ],
             [
              0.6666666666666666,
              "#ed7953"
             ],
             [
              0.7777777777777778,
              "#fb9f3a"
             ],
             [
              0.8888888888888888,
              "#fdca26"
             ],
             [
              1,
              "#f0f921"
             ]
            ],
            "type": "heatmap"
           }
          ],
          "heatmapgl": [
           {
            "colorbar": {
             "outlinewidth": 0,
             "ticks": ""
            },
            "colorscale": [
             [
              0,
              "#0d0887"
             ],
             [
              0.1111111111111111,
              "#46039f"
             ],
             [
              0.2222222222222222,
              "#7201a8"
             ],
             [
              0.3333333333333333,
              "#9c179e"
             ],
             [
              0.4444444444444444,
              "#bd3786"
             ],
             [
              0.5555555555555556,
              "#d8576b"
             ],
             [
              0.6666666666666666,
              "#ed7953"
             ],
             [
              0.7777777777777778,
              "#fb9f3a"
             ],
             [
              0.8888888888888888,
              "#fdca26"
             ],
             [
              1,
              "#f0f921"
             ]
            ],
            "type": "heatmapgl"
           }
          ],
          "histogram": [
           {
            "marker": {
             "pattern": {
              "fillmode": "overlay",
              "size": 10,
              "solidity": 0.2
             }
            },
            "type": "histogram"
           }
          ],
          "histogram2d": [
           {
            "colorbar": {
             "outlinewidth": 0,
             "ticks": ""
            },
            "colorscale": [
             [
              0,
              "#0d0887"
             ],
             [
              0.1111111111111111,
              "#46039f"
             ],
             [
              0.2222222222222222,
              "#7201a8"
             ],
             [
              0.3333333333333333,
              "#9c179e"
             ],
             [
              0.4444444444444444,
              "#bd3786"
             ],
             [
              0.5555555555555556,
              "#d8576b"
             ],
             [
              0.6666666666666666,
              "#ed7953"
             ],
             [
              0.7777777777777778,
              "#fb9f3a"
             ],
             [
              0.8888888888888888,
              "#fdca26"
             ],
             [
              1,
              "#f0f921"
             ]
            ],
            "type": "histogram2d"
           }
          ],
          "histogram2dcontour": [
           {
            "colorbar": {
             "outlinewidth": 0,
             "ticks": ""
            },
            "colorscale": [
             [
              0,
              "#0d0887"
             ],
             [
              0.1111111111111111,
              "#46039f"
             ],
             [
              0.2222222222222222,
              "#7201a8"
             ],
             [
              0.3333333333333333,
              "#9c179e"
             ],
             [
              0.4444444444444444,
              "#bd3786"
             ],
             [
              0.5555555555555556,
              "#d8576b"
             ],
             [
              0.6666666666666666,
              "#ed7953"
             ],
             [
              0.7777777777777778,
              "#fb9f3a"
             ],
             [
              0.8888888888888888,
              "#fdca26"
             ],
             [
              1,
              "#f0f921"
             ]
            ],
            "type": "histogram2dcontour"
           }
          ],
          "mesh3d": [
           {
            "colorbar": {
             "outlinewidth": 0,
             "ticks": ""
            },
            "type": "mesh3d"
           }
          ],
          "parcoords": [
           {
            "line": {
             "colorbar": {
              "outlinewidth": 0,
              "ticks": ""
             }
            },
            "type": "parcoords"
           }
          ],
          "pie": [
           {
            "automargin": true,
            "type": "pie"
           }
          ],
          "scatter": [
           {
            "fillpattern": {
             "fillmode": "overlay",
             "size": 10,
             "solidity": 0.2
            },
            "type": "scatter"
           }
          ],
          "scatter3d": [
           {
            "line": {
             "colorbar": {
              "outlinewidth": 0,
              "ticks": ""
             }
            },
            "marker": {
             "colorbar": {
              "outlinewidth": 0,
              "ticks": ""
             }
            },
            "type": "scatter3d"
           }
          ],
          "scattercarpet": [
           {
            "marker": {
             "colorbar": {
              "outlinewidth": 0,
              "ticks": ""
             }
            },
            "type": "scattercarpet"
           }
          ],
          "scattergeo": [
           {
            "marker": {
             "colorbar": {
              "outlinewidth": 0,
              "ticks": ""
             }
            },
            "type": "scattergeo"
           }
          ],
          "scattergl": [
           {
            "marker": {
             "colorbar": {
              "outlinewidth": 0,
              "ticks": ""
             }
            },
            "type": "scattergl"
           }
          ],
          "scattermapbox": [
           {
            "marker": {
             "colorbar": {
              "outlinewidth": 0,
              "ticks": ""
             }
            },
            "type": "scattermapbox"
           }
          ],
          "scatterpolar": [
           {
            "marker": {
             "colorbar": {
              "outlinewidth": 0,
              "ticks": ""
             }
            },
            "type": "scatterpolar"
           }
          ],
          "scatterpolargl": [
           {
            "marker": {
             "colorbar": {
              "outlinewidth": 0,
              "ticks": ""
             }
            },
            "type": "scatterpolargl"
           }
          ],
          "scatterternary": [
           {
            "marker": {
             "colorbar": {
              "outlinewidth": 0,
              "ticks": ""
             }
            },
            "type": "scatterternary"
           }
          ],
          "surface": [
           {
            "colorbar": {
             "outlinewidth": 0,
             "ticks": ""
            },
            "colorscale": [
             [
              0,
              "#0d0887"
             ],
             [
              0.1111111111111111,
              "#46039f"
             ],
             [
              0.2222222222222222,
              "#7201a8"
             ],
             [
              0.3333333333333333,
              "#9c179e"
             ],
             [
              0.4444444444444444,
              "#bd3786"
             ],
             [
              0.5555555555555556,
              "#d8576b"
             ],
             [
              0.6666666666666666,
              "#ed7953"
             ],
             [
              0.7777777777777778,
              "#fb9f3a"
             ],
             [
              0.8888888888888888,
              "#fdca26"
             ],
             [
              1,
              "#f0f921"
             ]
            ],
            "type": "surface"
           }
          ],
          "table": [
           {
            "cells": {
             "fill": {
              "color": "#EBF0F8"
             },
             "line": {
              "color": "white"
             }
            },
            "header": {
             "fill": {
              "color": "#C8D4E3"
             },
             "line": {
              "color": "white"
             }
            },
            "type": "table"
           }
          ]
         },
         "layout": {
          "annotationdefaults": {
           "arrowcolor": "#2a3f5f",
           "arrowhead": 0,
           "arrowwidth": 1
          },
          "autotypenumbers": "strict",
          "coloraxis": {
           "colorbar": {
            "outlinewidth": 0,
            "ticks": ""
           }
          },
          "colorscale": {
           "diverging": [
            [
             0,
             "#8e0152"
            ],
            [
             0.1,
             "#c51b7d"
            ],
            [
             0.2,
             "#de77ae"
            ],
            [
             0.3,
             "#f1b6da"
            ],
            [
             0.4,
             "#fde0ef"
            ],
            [
             0.5,
             "#f7f7f7"
            ],
            [
             0.6,
             "#e6f5d0"
            ],
            [
             0.7,
             "#b8e186"
            ],
            [
             0.8,
             "#7fbc41"
            ],
            [
             0.9,
             "#4d9221"
            ],
            [
             1,
             "#276419"
            ]
           ],
           "sequential": [
            [
             0,
             "#0d0887"
            ],
            [
             0.1111111111111111,
             "#46039f"
            ],
            [
             0.2222222222222222,
             "#7201a8"
            ],
            [
             0.3333333333333333,
             "#9c179e"
            ],
            [
             0.4444444444444444,
             "#bd3786"
            ],
            [
             0.5555555555555556,
             "#d8576b"
            ],
            [
             0.6666666666666666,
             "#ed7953"
            ],
            [
             0.7777777777777778,
             "#fb9f3a"
            ],
            [
             0.8888888888888888,
             "#fdca26"
            ],
            [
             1,
             "#f0f921"
            ]
           ],
           "sequentialminus": [
            [
             0,
             "#0d0887"
            ],
            [
             0.1111111111111111,
             "#46039f"
            ],
            [
             0.2222222222222222,
             "#7201a8"
            ],
            [
             0.3333333333333333,
             "#9c179e"
            ],
            [
             0.4444444444444444,
             "#bd3786"
            ],
            [
             0.5555555555555556,
             "#d8576b"
            ],
            [
             0.6666666666666666,
             "#ed7953"
            ],
            [
             0.7777777777777778,
             "#fb9f3a"
            ],
            [
             0.8888888888888888,
             "#fdca26"
            ],
            [
             1,
             "#f0f921"
            ]
           ]
          },
          "colorway": [
           "#636efa",
           "#EF553B",
           "#00cc96",
           "#ab63fa",
           "#FFA15A",
           "#19d3f3",
           "#FF6692",
           "#B6E880",
           "#FF97FF",
           "#FECB52"
          ],
          "font": {
           "color": "#2a3f5f"
          },
          "geo": {
           "bgcolor": "white",
           "lakecolor": "white",
           "landcolor": "#E5ECF6",
           "showlakes": true,
           "showland": true,
           "subunitcolor": "white"
          },
          "hoverlabel": {
           "align": "left"
          },
          "hovermode": "closest",
          "mapbox": {
           "style": "light"
          },
          "paper_bgcolor": "white",
          "plot_bgcolor": "#E5ECF6",
          "polar": {
           "angularaxis": {
            "gridcolor": "white",
            "linecolor": "white",
            "ticks": ""
           },
           "bgcolor": "#E5ECF6",
           "radialaxis": {
            "gridcolor": "white",
            "linecolor": "white",
            "ticks": ""
           }
          },
          "scene": {
           "xaxis": {
            "backgroundcolor": "#E5ECF6",
            "gridcolor": "white",
            "gridwidth": 2,
            "linecolor": "white",
            "showbackground": true,
            "ticks": "",
            "zerolinecolor": "white"
           },
           "yaxis": {
            "backgroundcolor": "#E5ECF6",
            "gridcolor": "white",
            "gridwidth": 2,
            "linecolor": "white",
            "showbackground": true,
            "ticks": "",
            "zerolinecolor": "white"
           },
           "zaxis": {
            "backgroundcolor": "#E5ECF6",
            "gridcolor": "white",
            "gridwidth": 2,
            "linecolor": "white",
            "showbackground": true,
            "ticks": "",
            "zerolinecolor": "white"
           }
          },
          "shapedefaults": {
           "line": {
            "color": "#2a3f5f"
           }
          },
          "ternary": {
           "aaxis": {
            "gridcolor": "white",
            "linecolor": "white",
            "ticks": ""
           },
           "baxis": {
            "gridcolor": "white",
            "linecolor": "white",
            "ticks": ""
           },
           "bgcolor": "#E5ECF6",
           "caxis": {
            "gridcolor": "white",
            "linecolor": "white",
            "ticks": ""
           }
          },
          "title": {
           "x": 0.05
          },
          "xaxis": {
           "automargin": true,
           "gridcolor": "white",
           "linecolor": "white",
           "ticks": "",
           "title": {
            "standoff": 15
           },
           "zerolinecolor": "white",
           "zerolinewidth": 2
          },
          "yaxis": {
           "automargin": true,
           "gridcolor": "white",
           "linecolor": "white",
           "ticks": "",
           "title": {
            "standoff": 15
           },
           "zerolinecolor": "white",
           "zerolinewidth": 2
          }
         }
        },
        "title": {
         "text": "PCA Scatter Plot",
         "x": 0.5
        },
        "xaxis": {
         "anchor": "y",
         "domain": [
          0,
          1
         ],
         "title": {
          "text": "First Principal Component"
         }
        },
        "yaxis": {
         "anchor": "x",
         "domain": [
          0,
          1
         ],
         "title": {
          "text": "Second Principal Component"
         }
        }
       }
      },
      "text/html": [
       "<div>                            <div id=\"175d7edb-7313-4b87-a598-70c7b33d29f5\" class=\"plotly-graph-div\" style=\"height:525px; width:100%;\"></div>            <script type=\"text/javascript\">                require([\"plotly\"], function(Plotly) {                    window.PLOTLYENV=window.PLOTLYENV || {};                                    if (document.getElementById(\"175d7edb-7313-4b87-a598-70c7b33d29f5\")) {                    Plotly.newPlot(                        \"175d7edb-7313-4b87-a598-70c7b33d29f5\",                        [{\"customdata\":[[0,\"Gauguin\"],[1,\"Gauguin\"],[2,\"Gauguin\"],[3,\"Gauguin\"],[4,\"Fort Lauderdale\"],[5,\"Fort Lauderdale\"],[6,\"Fort Lauderdale\"],[7,\"Fort Lauderdale\"],[8,\"Apple Pie\"],[9,\"Apple Pie\"],[10,\"Cuban Cocktail No. 1\"],[11,\"Cuban Cocktail No. 1\"],[12,\"Cuban Cocktail No. 1\"],[13,\"Cool Carlos\"],[14,\"Cool Carlos\"],[15,\"Cool Carlos\"],[16,\"Cool Carlos\"],[17,\"Cool Carlos\"],[18,\"John Collins\"],[19,\"John Collins\"],[20,\"John Collins\"],[21,\"John Collins\"],[22,\"John Collins\"],[23,\"Cherry Rum\"],[24,\"Cherry Rum\"],[25,\"Cherry Rum\"],[26,\"Casa Blanca\"],[27,\"Casa Blanca\"],[28,\"Casa Blanca\"],[29,\"Casa Blanca\"],[30,\"Caribbean Champagne\"],[31,\"Caribbean Champagne\"],[32,\"Amber Amour\"],[33,\"Amber Amour\"],[34,\"Amber Amour\"],[35,\"The Joe Lewis\"],[36,\"The Joe Lewis\"],[37,\"The Joe Lewis\"],[38,\"The Joe Lewis\"],[39,\"The Joe Lewis\"],[40,\"Bacardi Cocktail\"],[41,\"Bacardi Cocktail\"],[42,\"Bacardi Cocktail\"],[43,\"Apple Pie No. 1\"],[44,\"Apple Pie No. 1\"],[45,\"Apple Pie No. 1\"],[46,\"Apple Pie No. 1\"],[47,\"Apple Pie No. 1\"],[48,\"Yolanda\"],[49,\"Yolanda\"],[50,\"Yolanda\"],[51,\"Yolanda\"],[52,\"Yolanda\"],[53,\"Yellow Rattler\"],[54,\"Yellow Rattler\"],[55,\"Yellow Rattler\"],[56,\"Yellow Rattler\"],[57,\"Why Not?\"],[58,\"Why Not?\"],[59,\"Why Not?\"],[60,\"Why Not?\"],[61,\"Amaretto Stinger\"],[62,\"Amaretto Stinger\"],[63,\"What The Hell\"],[64,\"What The Hell\"],[65,\"What The Hell\"],[66,\"What The Hell\"],[67,\"Webster Cocktail\"],[68,\"Webster Cocktail\"],[69,\"Webster Cocktail\"],[70,\"Webster Cocktail\"],[71,\"Union Jack Cocktail\"],[72,\"Union Jack Cocktail\"],[73,\"Union Jack Cocktail\"],[74,\"Jocose Julep\"],[75,\"Jocose Julep\"],[76,\"Jocose Julep\"],[77,\"Jocose Julep\"],[78,\"Jocose Julep\"],[79,\"Trinity Cocktail\"],[80,\"Trinity Cocktail\"],[81,\"Trinity Cocktail\"],[82,\"Three Stripes Cocktail\"],[83,\"Three Stripes Cocktail\"],[84,\"Three Stripes Cocktail\"],[85,\"Tanq-A-Rita\"],[86,\"Tanq-A-Rita\"],[87,\"Tanq-A-Rita\"],[88,\"Amaretto Sour\"],[89,\"Amaretto Sour\"],[90,\"Amaretto Sour\"],[91,\"Amaretto Sour\"],[92,\"Tailspin Cocktail\"],[93,\"Tailspin Cocktail\"],[94,\"Tailspin Cocktail\"],[95,\"Tailspin Cocktail\"],[96,\"Sweet Patootie Cocktail\"],[97,\"Sweet Patootie Cocktail\"],[98,\"Sweet Patootie Cocktail\"],[99,\"Sunshine Cocktail\"],[100,\"Sunshine Cocktail\"],[101,\"Sunshine Cocktail\"],[102,\"Spring Feeling Cocktail\"],[103,\"Spring Feeling Cocktail\"],[104,\"Spring Feeling Cocktail\"],[105,\"Sphinx Cocktail\"],[106,\"Sphinx Cocktail\"],[107,\"Sphinx Cocktail\"],[108,\"Jitterbug Sour\"],[109,\"Jitterbug Sour\"],[110,\"Jitterbug Sour\"],[111,\"Jitterbug Sour\"],[112,\"Jitterbug Sour\"],[113,\"Jitterbug Sour\"],[114,\"Southern Gin Cocktail\"],[115,\"Southern Gin Cocktail\"],[116,\"Southern Gin Cocktail\"],[117,\"Society Cocktail\"],[118,\"Society Cocktail\"],[119,\"Society Cocktail\"],[120,\"Snyder\"],[121,\"Snyder\"],[122,\"Snyder\"],[123,\"Smiler Cocktail\"],[124,\"Smiler Cocktail\"],[125,\"Smiler Cocktail\"],[126,\"Smiler Cocktail\"],[127,\"Smiler Cocktail\"],[128,\"Smile Cocktail\"],[129,\"Smile Cocktail\"],[130,\"Smile Cocktail\"],[131,\"Amaretto Rose\"],[132,\"Amaretto Rose\"],[133,\"Amaretto Rose\"],[134,\"Sand-Martin Cocktail\"],[135,\"Sand-Martin Cocktail\"],[136,\"Sand-Martin Cocktail\"],[137,\"Irish Whiskey Highball\"],[138,\"Irish Whiskey Highball\"],[139,\"Irish Whiskey Highball\"],[140,\"Japanese\"],[141,\"Japanese\"],[142,\"Japanese\"],[143,\"Roselyn Cocktail\"],[144,\"Roselyn Cocktail\"],[145,\"Roselyn Cocktail\"],[146,\"Resolute Cocktail\"],[147,\"Resolute Cocktail\"],[148,\"Resolute Cocktail\"],[149,\"Racquet Club Cocktail\"],[150,\"Racquet Club Cocktail\"],[151,\"Racquet Club Cocktail\"],[152,\"Amaretto And Cream\"],[153,\"Amaretto And Cream\"],[154,\"Pollyanna Cocktai\"],[155,\"Pollyanna Cocktai\"],[156,\"Pollyanna Cocktai\"],[157,\"Pollyanna Cocktai\"],[158,\"Pollyanna Cocktai\"],[159,\"Plaza Cocktail\"],[160,\"Plaza Cocktail\"],[161,\"Plaza Cocktail\"],[162,\"Irish Whiskey Cocktail\"],[163,\"Irish Whiskey Cocktail\"],[164,\"Irish Whiskey Cocktail\"],[165,\"Irish Whiskey Cocktail\"],[166,\"Irish Whiskey Cocktail\"],[167,\"Irish Whiskey Cocktail\"],[168,\"Absinthe Special Cocktail\"],[169,\"Absinthe Special Cocktail\"],[170,\"Absinthe Special Cocktail\"],[171,\"Nineteenth Hole\"],[172,\"Nineteenth Hole\"],[173,\"Nineteenth Hole\"],[174,\"Nineteenth Hole\"],[175,\"Montreal Club Bouncer\"],[176,\"Montreal Club Bouncer\"],[177,\"Monte Carlo Imperial Highball\"],[178,\"Monte Carlo Imperial Highball\"],[179,\"Monte Carlo Imperial Highball\"],[180,\"Irish Shillelagh\"],[181,\"Irish Shillelagh\"],[182,\"Irish Shillelagh\"],[183,\"Irish Shillelagh\"],[184,\"Irish Shillelagh\"],[185,\"Irish Shillelagh\"],[186,\"Melon Cocktail\"],[187,\"Melon Cocktail\"],[188,\"Melon Cocktail\"],[189,\"Martini (Medium)\"],[190,\"Martini (Medium)\"],[191,\"Martini (Medium)\"],[192,\"Martini (Dry) (5-to-1)\"],[193,\"Martini (Dry) (5-to-1)\"],[194,\"Mamie's Sister\"],[195,\"Mamie's Sister\"],[196,\"Irish Rickey\"],[197,\"Irish Rickey\"],[198,\"Irish Rickey\"],[199,\"Irish Rickey\"],[200,\"Maiden's Prayer\"],[201,\"Maiden's Prayer\"],[202,\"Maiden's Prayer\"],[203,\"Lone Tree Cocktail\"],[204,\"Lone Tree Cocktail\"],[205,\"London Buck\"],[206,\"London Buck\"],[207,\"Leap Frog Highball\"],[208,\"Leap Frog Highball\"],[209,\"Incider Cocktail\"],[210,\"Incider Cocktail\"],[211,\"Incider Cocktail\"],[212,\"Kup's Indispensable Cocktail\"],[213,\"Kup's Indispensable Cocktail\"],[214,\"Kup's Indispensable Cocktail\"],[215,\"Kup's Indispensable Cocktail\"],[216,\"Knock-Out Cocktail\"],[217,\"Knock-Out Cocktail\"],[218,\"Knock-Out Cocktail\"],[219,\"Knock-Out Cocktail\"],[220,\"K. G. B. Cocktail\"],[221,\"K. G. B. Cocktail\"],[222,\"K. G. B. Cocktail\"],[223,\"K. G. B. Cocktail\"],[224,\"Imperial Fizz\"],[225,\"Imperial Fizz\"],[226,\"Imperial Fizz\"],[227,\"Imperial Fizz\"],[228,\"Imperial Fizz\"],[229,\"Jeyplak Cocktail\"],[230,\"Jeyplak Cocktail\"],[231,\"Jeyplak Cocktail\"],[232,\"H. P. W. Cocktail\"],[233,\"H. P. W. Cocktail\"],[234,\"H. P. W. Cocktail\"],[235,\"I.A.P.\"],[236,\"I.A.P.\"],[237,\"I.A.P.\"],[238,\"Hotel Plaza Cocktail\"],[239,\"Hotel Plaza Cocktail\"],[240,\"Hotel Plaza Cocktail\"],[241,\"Hoffman House Cocktail\"],[242,\"Hoffman House Cocktail\"],[243,\"Hawaiin Cocktail\"],[244,\"Hawaiin Cocktail\"],[245,\"Hawaiin Cocktail\"],[246,\"White Russian\"],[247,\"White Russian\"],[248,\"Greyhound\"],[249,\"Greyhound\"],[250,\"Green Devil\"],[251,\"Green Devil\"],[252,\"Green Devil\"],[253,\"Greenback\"],[254,\"Greenback\"],[255,\"Greenback\"],[256,\"Grapefruit Cocktail\"],[257,\"Grapefruit Cocktail\"],[258,\"Grapefruit Cocktail\"],[259,\"Hotel D'alsace\"],[260,\"Hotel D'alsace\"],[261,\"Hotel D'alsace\"],[262,\"Hotel D'alsace\"],[263,\"Jamaica Granito\"],[264,\"Jamaica Granito\"],[265,\"Jamaica Granito\"],[266,\"Gin Sling\"],[267,\"Gin Sling\"],[268,\"Gin Sling\"],[269,\"Gin Sling\"],[270,\"Gin Milk Punch\"],[271,\"Gin Milk Punch\"],[272,\"Gin Milk Punch\"],[273,\"Horse's Neck (With A Kick)\"],[274,\"Horse's Neck (With A Kick)\"],[275,\"Horse's Neck (With A Kick)\"],[276,\"Gin and It\"],[277,\"Gin and It\"],[278,\"Gin Cocktail\"],[279,\"Gin Cocktail\"],[280,\"West Side\"],[281,\"West Side\"],[282,\"West Side\"],[283,\"West Side\"],[284,\"Gimlet\"],[285,\"Gimlet\"],[286,\"Gimlet\"],[287,\"Free Silver\"],[288,\"Free Silver\"],[289,\"Free Silver\"],[290,\"Free Silver\"],[291,\"Free Silver\"],[292,\"Frankenjack Cocktail\"],[293,\"Frankenjack Cocktail\"],[294,\"Frankenjack Cocktail\"],[295,\"Frankenjack Cocktail\"],[296,\"Frankenjack Cocktail\"],[297,\"Frankenjack Cocktail\"],[298,\"Fog Horn\"],[299,\"Fog Horn\"],[300,\"Fog Horn\"],[301,\"Fog Horn\"],[302,\"Flying Dutchman\"],[303,\"Flying Dutchman\"],[304,\"Hoot Mon Cocktail\"],[305,\"Hoot Mon Cocktail\"],[306,\"Hoot Mon Cocktail\"],[307,\"Fifty-Fifty Cocktail\"],[308,\"Fifty-Fifty Cocktail\"],[309,\"Favorite Cocktail\"],[310,\"Favorite Cocktail\"],[311,\"Favorite Cocktail\"],[312,\"Favorite Cocktail\"],[313,\"Farmer's Cocktail\"],[314,\"Farmer's Cocktail\"],[315,\"Farmer's Cocktail\"],[316,\"Farmer's Cocktail\"],[317,\"Warsaw Cocktail\"],[318,\"Warsaw Cocktail\"],[319,\"Warsaw Cocktail\"],[320,\"Warsaw Cocktail\"],[321,\"Emerald Isle Cocktail\"],[322,\"Emerald Isle Cocktail\"],[323,\"Emerald Isle Cocktail\"],[324,\"Du Barry Cocktail\"],[325,\"Du Barry Cocktail\"],[326,\"Du Barry Cocktail\"],[327,\"Du Barry Cocktail\"],[328,\"Dry Martini (5-to-1)\"],[329,\"Dry Martini (5-to-1)\"],[330,\"Dixie Cocktail\"],[331,\"Dixie Cocktail\"],[332,\"Dixie Cocktail\"],[333,\"Dixie Cocktail\"],[334,\"Delmonico No. 2\"],[335,\"Delmonico No. 2\"],[336,\"Delmonico No. 2\"],[337,\"Hole-In-One\"],[338,\"Hole-In-One\"],[339,\"Hole-In-One\"],[340,\"Hole-In-One\"],[341,\"Vodka Stinger\"],[342,\"Vodka Stinger\"],[343,\"Caruso\"],[344,\"Caruso\"],[345,\"Caruso\"],[346,\"Bulldog Highball\"],[347,\"Bulldog Highball\"],[348,\"Brown Cocktail\"],[349,\"Brown Cocktail\"],[350,\"Brown Cocktail\"],[351,\"Bronx Terrace Cocktail\"],[352,\"Bronx Terrace Cocktail\"],[353,\"Bronx Terrace Cocktail\"],[354,\"Bronx Cocktail (Dry)\"],[355,\"Bronx Cocktail (Dry)\"],[356,\"Bronx Cocktail (Dry)\"],[357,\"Hill Dog\"],[358,\"Hill Dog\"],[359,\"Hill Dog\"],[360,\"Hill Dog\"],[361,\"Blue Devil Cocktail\"],[362,\"Blue Devil Cocktail\"],[363,\"Blue Devil Cocktail\"],[364,\"Blue Devil Cocktail\"],[365,\"Blue Canary\"],[366,\"Blue Canary\"],[367,\"Blue Canary\"],[368,\"Blue Bird\"],[369,\"Blue Bird\"],[370,\"Blue Bird\"],[371,\"Bloodhound Cocktail\"],[372,\"Bloodhound Cocktail\"],[373,\"Bloodhound Cocktail\"],[374,\"Billy Taylor\"],[375,\"Billy Taylor\"],[376,\"Bijou Cocktail\"],[377,\"Bijou Cocktail\"],[378,\"Bijou Cocktail\"],[379,\"Bijou Cocktail\"],[380,\"Bermuda Rose\"],[381,\"Bermuda Rose\"],[382,\"Bermuda Rose\"],[383,\"Vodka Sour\"],[384,\"Vodka Sour\"],[385,\"Vodka Sour\"],[386,\"Vodka Sour\"],[387,\"Apricot Anisette Collins\"],[388,\"Apricot Anisette Collins\"],[389,\"Apricot Anisette Collins\"],[390,\"Apricot Anisette Collins\"],[391,\"Alexander's Sister Cocktail\"],[392,\"Alexander's Sister Cocktail\"],[393,\"Alexander's Sister Cocktail\"],[394,\"Highland Cooler\"],[395,\"Highland Cooler\"],[396,\"Alexander Cocktail No. 1\"],[397,\"Alexander Cocktail No. 1\"],[398,\"Alexander Cocktail No. 1\"],[399,\"Adam and Eve\"],[400,\"Adam and Eve\"],[401,\"Adam and Eve\"],[402,\"Adam and Eve\"],[403,\"Vodka Sling\"],[404,\"Vodka Sling\"],[405,\"Vodka Sling\"],[406,\"Jack Rose Cocktail\"],[407,\"Jack Rose Cocktail\"],[408,\"Jack Rose Cocktail\"],[409,\"Tempter Cocktail\"],[410,\"Tempter Cocktail\"],[411,\"Special Rough Cocktail\"],[412,\"Special Rough Cocktail\"],[413,\"Special Rough Cocktail\"],[414,\"Vodka Grasshopper\"],[415,\"Vodka Grasshopper\"],[416,\"Vodka Grasshopper\"],[417,\"Vodka Grasshopper\"],[418,\"Singapore Sling\"],[419,\"Singapore Sling\"],[420,\"Singapore Sling\"],[421,\"Singapore Sling\"],[422,\"Saratoga Cocktail\"],[423,\"Saratoga Cocktail\"],[424,\"Saratoga Cocktail\"],[425,\"Saratoga Cocktail\"],[426,\"Saratoga Cocktail\"],[427,\"High Cotton\"],[428,\"High Cotton\"],[429,\"High Cotton\"],[430,\"High Cotton\"],[431,\"Polonaise\"],[432,\"Polonaise\"],[433,\"Polonaise\"],[434,\"Polonaise\"],[435,\"Vodka Gimlet\"],[436,\"Vodka Gimlet\"],[437,\"Vodka Gimlet\"],[438,\"Merry Widow Cocktail No. 2\"],[439,\"Merry Widow Cocktail No. 2\"],[440,\"Lugger\"],[441,\"Lugger\"],[442,\"Lugger\"],[443,\"Jamaica Hop\"],[444,\"Jamaica Hop\"],[445,\"Jamaica Hop\"],[446,\"Hebrides\"],[447,\"Hebrides\"],[448,\"Hebrides\"],[449,\"Hebrides\"],[450,\"Hebrides\"],[451,\"Hebrides\"],[452,\"Hennessy Martini\"],[453,\"Hennessy Martini\"],[454,\"Vodka Daisy\"],[455,\"Vodka Daisy\"],[456,\"Vodka Daisy\"],[457,\"Vodka Daisy\"],[458,\"Heavenly Dram\"],[459,\"Heavenly Dram\"],[460,\"Heavenly Dram\"],[461,\"Heavenly Dram\"],[462,\"Classic Cocktail\"],[463,\"Classic Cocktail\"],[464,\"Classic Cocktail\"],[465,\"Classic Cocktail\"],[466,\"Cherry Sling\"],[467,\"Cherry Sling\"],[468,\"Cherry Fizz\"],[469,\"Cherry Fizz\"],[470,\"Vodka Cooler\"],[471,\"Vodka Cooler\"],[472,\"Carrol Cocktail\"],[473,\"Carrol Cocktail\"],[474,\"Button Hook Cocktail\"],[475,\"Button Hook Cocktail\"],[476,\"Button Hook Cocktail\"],[477,\"Button Hook Cocktail\"],[478,\"Bull's Eye\"],[479,\"Bull's Eye\"],[480,\"Brantini\"],[481,\"Brantini\"],[482,\"Brantini\"],[483,\"Heather's Kiss\"],[484,\"Heather's Kiss\"],[485,\"Heather's Kiss\"],[486,\"Heather's Kiss\"],[487,\"Brandy Squirt\"],[488,\"Brandy Squirt\"],[489,\"Brandy Squirt\"],[490,\"Brandy and Soda\"],[491,\"Brandy Milk Punch\"],[492,\"Brandy Milk Punch\"],[493,\"Brandy Milk Punch\"],[494,\"Vodka Collins\"],[495,\"Vodka Collins\"],[496,\"Vodka Collins\"],[497,\"Brandy Crusta Cocktail\"],[498,\"Brandy Crusta Cocktail\"],[499,\"Brandy Crusta Cocktail\"],[500,\"Brandy Crusta Cocktail\"],[501,\"Brandy Crusta Cocktail\"],[502,\"Heather Blush\"],[503,\"Heather Blush\"],[504,\"Heather Blush\"],[505,\"Jack Maples\"],[506,\"Jack Maples\"],[507,\"Jack Maples\"],[508,\"Brandy Alexander\"],[509,\"Brandy Alexander\"],[510,\"Brandy Alexander\"],[511,\"Vodka and Tonic\"],[512,\"Apricot Cocktail\"],[513,\"Apricot Cocktail\"],[514,\"Apricot Cocktail\"],[515,\"Apricot Cocktail\"],[516,\"Alexander Cocktail No. 2\"],[517,\"Alexander Cocktail No. 2\"],[518,\"Alexander Cocktail No. 2\"],[519,\"After Dinner Cocktail\"],[520,\"After Dinner Cocktail\"],[521,\"After Dinner Cocktail\"],[522,\"Harvest Moon\"],[523,\"Harvest Moon\"],[524,\"Harvest Moon\"],[525,\"Harvest Moon\"],[526,\"Harvest Moon\"],[527,\"Red Raider\"],[528,\"Red Raider\"],[529,\"Red Raider\"],[530,\"Red Raider\"],[531,\"Vodka and Apple Juice\"],[532,\"Mint Julep (Southern Style)\"],[533,\"Mint Julep (Southern Style)\"],[534,\"Mint Julep (Southern Style)\"],[535,\"Mint Julep (Southern Style)\"],[536,\"Limestone\"],[537,\"Grounds For Divorce\"],[538,\"Grounds For Divorce\"],[539,\"Grounds For Divorce\"],[540,\"Grounds For Divorce\"],[541,\"Gentleman's Cocktail\"],[542,\"Gentleman's Cocktail\"],[543,\"Gentleman's Cocktail\"],[544,\"Dixie Julep\"],[545,\"Dixie Julep\"],[546,\"Victory Collins\"],[547,\"Victory Collins\"],[548,\"Victory Collins\"],[549,\"Victory Collins\"],[550,\"Buddy's Favorite\"],[551,\"Buddy's Favorite\"],[552,\"Bourbon On The Rocks\"],[553,\"Bourbon Cobbler\"],[554,\"Bourbon Cobbler\"],[555,\"Bourbon Cobbler\"],[556,\"Bourbon Cobbler\"],[557,\"Bourbon and Water\"],[558,\"Bourbon and Water\"],[559,\"Greenpoint\"],[560,\"Greenpoint\"],[561,\"Greenpoint\"],[562,\"Greenpoint\"],[563,\"Greenpoint\"],[564,\"Yellowjacket\"],[565,\"Yellowjacket\"],[566,\"Yellowjacket\"],[567,\"Velvet Peach Hammer\"],[568,\"Velvet Peach Hammer\"],[569,\"Velvet Peach Hammer\"],[570,\"Velvet Peach Hammer\"],[571,\"Grandfather\"],[572,\"Grandfather\"],[573,\"Grandfather\"],[574,\"Grandfather\"],[575,\"Grandfather\"],[576,\"Goldrush\"],[577,\"Goldrush\"],[578,\"Goldrush\"],[579,\"Sake Martini\"],[580,\"Sake Martini\"],[581,\"Godfather\"],[582,\"Godfather\"],[583,\"Jack-In-The-Box\"],[584,\"Jack-In-The-Box\"],[585,\"Jack-In-The-Box\"],[586,\"Saronno\"],[587,\"Saronno\"],[588,\"Saronno\"],[589,\"Saronno Colada (Nutty Colada)\"],[590,\"Saronno Colada (Nutty Colada)\"],[591,\"Saronno Colada (Nutty Colada)\"],[592,\"Saronno Mist\"],[593,\"Saronno Rose\"],[594,\"Saronno Rose\"],[595,\"Saronno Rose\"],[596,\"Gilchrist\"],[597,\"Gilchrist\"],[598,\"Gilchrist\"],[599,\"Gilchrist\"],[600,\"Gilchrist\"],[601,\"Frisco Sour\"],[602,\"Frisco Sour\"],[603,\"Frisco Sour\"],[604,\"Frisco Sour\"],[605,\"Frisco Sour\"],[606,\"Fratelli Cocktail\"],[607,\"Fratelli Cocktail\"],[608,\"Fratelli Cocktail\"],[609,\"Fratelli Cocktail\"],[610,\"Francis The Mule\"],[611,\"Francis The Mule\"],[612,\"Francis The Mule\"],[613,\"Francis The Mule\"],[614,\"Francis The Mule\"],[615,\"Fox River Cocktail\"],[616,\"Fox River Cocktail\"],[617,\"Fox River Cocktail\"],[618,\"Flying Scotchman\"],[619,\"Flying Scotchman\"],[620,\"Flying Scotchman\"],[621,\"Flying Scotchman\"],[622,\"The Final Ward\"],[623,\"The Final Ward\"],[624,\"The Final Ward\"],[625,\"The Final Ward\"],[626,\"Martini\"],[627,\"Martini\"],[628,\"Fancy Whiskey\"],[629,\"Fancy Whiskey\"],[630,\"Fancy Whiskey\"],[631,\"Fancy Whiskey\"],[632,\"Fancy Whiskey\"],[633,\"Mandarine Sour\"],[634,\"Mandarine Sour\"],[635,\"Mandarine Mist\"],[636,\"Underneath The Mango Tree\"],[637,\"Underneath The Mango Tree\"],[638,\"Underneath The Mango Tree\"],[639,\"Underneath The Mango Tree\"],[640,\"Underneath The Mango Tree\"],[641,\"Underneath The Mango Tree\"],[642,\"Fancy-Free Cocktail\"],[643,\"Fancy-Free Cocktail\"],[644,\"Fancy-Free Cocktail\"],[645,\"Fancy-Free Cocktail\"],[646,\"Honeymoon Cocktail\"],[647,\"Honeymoon Cocktail\"],[648,\"Honeymoon Cocktail\"],[649,\"Honeymoon Cocktail\"],[650,\"Twister\"],[651,\"Twister\"],[652,\"Everybody's Irish Cocktail\"],[653,\"Everybody's Irish Cocktail\"],[654,\"Everybody's Irish Cocktail\"],[655,\"Everybody's Irish Cocktail\"],[656,\"Trident\"],[657,\"Trident\"],[658,\"Trident\"],[659,\"Trident\"],[660,\"Top Banana\"],[661,\"Top Banana\"],[662,\"Top Banana\"],[663,\"Emperor Norton's Mistress\"],[664,\"Emperor Norton's Mistress\"],[665,\"Emperor Norton's Mistress\"],[666,\"Emperor Norton's Mistress\"],[667,\"Easterner\"],[668,\"Easterner\"],[669,\"Easterner\"],[670,\"Toasted Drop\"],[671,\"Toasted Drop\"],[672,\"Toasted Drop\"],[673,\"Toasted Drop\"],[674,\"Toasted Drop\"],[675,\"Toasted Drop\"],[676,\"Eastern Sour\"],[677,\"Eastern Sour\"],[678,\"Eastern Sour\"],[679,\"Eastern Sour\"],[680,\"Eastern Sour\"],[681,\"K. C. B. Cocktail\"],[682,\"K. C. B. Cocktail\"],[683,\"K. C. B. Cocktail\"],[684,\"K. C. B. Cocktail\"],[685,\"Easter Elchies\"],[686,\"Easter Elchies\"],[687,\"Easter Elchies\"],[688,\"Easter Elchies\"],[689,\"Dufftown Flip\"],[690,\"Dufftown Flip\"],[691,\"Dufftown Flip\"],[692,\"Dufftown Flip\"],[693,\"Dufftown Flip\"],[694,\"Harvard Cooler\"],[695,\"Harvard Cooler\"],[696,\"The Duboudreau Cocktail\"],[697,\"The Duboudreau Cocktail\"],[698,\"The Duboudreau Cocktail\"],[699,\"The Duboudreau Cocktail\"],[700,\"Irish Whisky\"],[701,\"Irish Whisky\"],[702,\"Irish Whisky\"],[703,\"Irish Whisky\"],[704,\"Irish Whisky\"],[705,\"Dubliner\"],[706,\"Dubliner\"],[707,\"Dubliner\"],[708,\"Dubliner\"],[709,\"Double Standard Sour\"],[710,\"Double Standard Sour\"],[711,\"Double Standard Sour\"],[712,\"Double Standard Sour\"],[713,\"Double Standard Sour\"],[714,\"Double Standard Sour\"],[715,\"Dixie Whiskey Cocktail\"],[716,\"Dixie Whiskey Cocktail\"],[717,\"Dixie Whiskey Cocktail\"],[718,\"Dixie Whiskey Cocktail\"],[719,\"Dixie Whiskey Cocktail\"],[720,\"Hill Billy Highball\"],[721,\"The Titian\"],[722,\"The Titian\"],[723,\"The Titian\"],[724,\"The Titian\"],[725,\"The Titian\"],[726,\"Tiger Tanaka\"],[727,\"Tiger Tanaka\"],[728,\"Tiger Tanaka\"],[729,\"Tiger Tanaka\"],[730,\"Tiger Tanaka\"],[731,\"Grenadine Rickey\"],[732,\"Grenadine Rickey\"],[733,\"Thyme Collins\"],[734,\"Thyme Collins\"],[735,\"Thyme Collins\"],[736,\"Thyme Collins\"],[737,\"Thyme Collins\"],[738,\"Thyme Collins\"],[739,\"Tabby Cat\"],[740,\"Tabby Cat\"],[741,\"Tabby Cat\"],[742,\"God Child\"],[743,\"God Child\"],[744,\"God Child\"],[745,\"Sweet Maria\"],[746,\"Sweet Maria\"],[747,\"Sweet Maria\"],[748,\"Dirty Harry\"],[749,\"Dirty Harry\"],[750,\"Dirty Harry\"],[751,\"Dirty Harry\"],[752,\"Harvard Cocktail\"],[753,\"Harvard Cocktail\"],[754,\"Harvard Cocktail\"],[755,\"Harvard Cocktail\"],[756,\"Harvard Cocktail\"],[757,\"Gin and Milk Punch\"],[758,\"Gin and Milk Punch\"],[759,\"Gin and Milk Punch\"],[760,\"Surf Rider\"],[761,\"Surf Rider\"],[762,\"Surf Rider\"],[763,\"Surf Rider\"],[764,\"Surf Rider\"],[765,\"Dinah Cocktail\"],[766,\"Dinah Cocktail\"],[767,\"Dinah Cocktail\"],[768,\"Tea Saronno\"],[769,\"Tea Saronno\"],[770,\"Tea Saronno\"],[771,\"The Summer Of Love\"],[772,\"The Summer Of Love\"],[773,\"The Summer Of Love\"],[774,\"The Summer Of Love\"],[775,\"Devil's Soul\"],[776,\"Devil's Soul\"],[777,\"Devil's Soul\"],[778,\"Devil's Soul\"],[779,\"Devil's Soul\"],[780,\"Deshler\"],[781,\"Deshler\"],[782,\"Deshler\"],[783,\"Deshler\"],[784,\"T.N.T. No. 1\"],[785,\"T.N.T. No. 1\"],[786,\"Stupid Cupid\"],[787,\"Stupid Cupid\"],[788,\"Stupid Cupid\"],[789,\"Stupid Cupid\"],[790,\"Derby\"],[791,\"Derby\"],[792,\"Derby\"],[793,\"Stockholm 75\"],[794,\"Stockholm 75\"],[795,\"Stockholm 75\"],[796,\"Stockholm 75\"],[797,\"Stockholm 75\"],[798,\"The Delmarva Cocktail\"],[799,\"The Delmarva Cocktail\"],[800,\"The Delmarva Cocktail\"],[801,\"The Delmarva Cocktail\"],[802,\"Sputnik\"],[803,\"Sputnik\"],[804,\"Sputnik\"],[805,\"Sputnik\"],[806,\"Gotham\"],[807,\"Gotham\"],[808,\"Gotham\"],[809,\"De La Louisiane\"],[810,\"De La Louisiane\"],[811,\"De La Louisiane\"],[812,\"De La Louisiane\"],[813,\"De La Louisiane\"],[814,\"The Debonair\"],[815,\"The Debonair\"],[816,\"Soviet\"],[817,\"Soviet\"],[818,\"Soviet\"],[819,\"Daisy Dueller\"],[820,\"Daisy Dueller\"],[821,\"Daisy Dueller\"],[822,\"Daisy Dueller\"],[823,\"Sonic Blaster\"],[824,\"Sonic Blaster\"],[825,\"Sonic Blaster\"],[826,\"Sonic Blaster\"],[827,\"Sonic Blaster\"],[828,\"Sonic Blaster\"],[829,\"Creole Lady\"],[830,\"Creole Lady\"],[831,\"Creole Lady\"],[832,\"Rum Coooler\"],[833,\"Rum Coooler\"],[834,\"Rum Coooler\"],[835,\"Siberian Sleighride\"],[836,\"Siberian Sleighride\"],[837,\"Siberian Sleighride\"],[838,\"Siberian Sleighride\"],[839,\"Cotton Club Flip\"],[840,\"Cotton Club Flip\"],[841,\"Cotton Club Flip\"],[842,\"Cotton Club Flip\"],[843,\"Cotton Club Flip\"],[844,\"Golden Dawn\"],[845,\"Golden Dawn\"],[846,\"Golden Dawn\"],[847,\"Golden Dawn\"],[848,\"Golden Dawn\"],[849,\"Sidecar\"],[850,\"Sidecar\"],[851,\"Sidecar\"],[852,\"Sidecar\"],[853,\"Sidecar\"],[854,\"Sidecar\"],[855,\"Shalom\"],[856,\"Shalom\"],[857,\"Shalom\"],[858,\"Shalom\"],[859,\"Shalom\"],[860,\"Shalom\"],[861,\"Commodore Cocktail\"],[862,\"Commodore Cocktail\"],[863,\"Commodore Cocktail\"],[864,\"Commodore Cocktail\"],[865,\"Sea Breeze\"],[866,\"Sea Breeze\"],[867,\"Sea Breeze\"],[868,\"Screwdriver\"],[869,\"Screwdriver\"],[870,\"Coffee Old-Fashioned\"],[871,\"Coffee Old-Fashioned\"],[872,\"Coffee Old-Fashioned\"],[873,\"Coffee Old-Fashioned\"],[874,\"Coffee Old-Fashioned\"],[875,\"Dry Martini\"],[876,\"Dry Martini\"],[877,\"Salty Dog\"],[878,\"Salty Dog\"],[879,\"Salty Dog\"],[880,\"Dr. Cook\"],[881,\"Dr. Cook\"],[882,\"Dr. Cook\"],[883,\"Dr. Cook\"],[884,\"Dillatini Cocktail\"],[885,\"Dillatini Cocktail\"],[886,\"Chi-Town Flip\"],[887,\"Chi-Town Flip\"],[888,\"Chi-Town Flip\"],[889,\"Chi-Town Flip\"],[890,\"Chi-Town Flip\"],[891,\"Chi-Town Flip\"],[892,\"Chef's Pain\"],[893,\"Chef's Pain\"],[894,\"Chef's Pain\"],[895,\"Chef's Pain\"],[896,\"Sampan Shipwreck A\"],[897,\"Sampan Shipwreck A\"],[898,\"Sampan Shipwreck A\"],[899,\"Sampan Shipwreck A\"],[900,\"Sampan Shipwreck A\"],[901,\"Chas\"],[902,\"Chas\"],[903,\"Chas\"],[904,\"Chas\"],[905,\"Chas\"],[906,\"Goat's Delight\"],[907,\"Goat's Delight\"],[908,\"Goat's Delight\"],[909,\"Goat's Delight\"],[910,\"Goat's Delight\"],[911,\"Russian Bear Cocktail\"],[912,\"Russian Bear Cocktail\"],[913,\"Russian Bear Cocktail\"],[914,\"Character Development\"],[915,\"Character Development\"],[916,\"Character Development\"],[917,\"Character Development\"],[918,\"Ruby Red\"],[919,\"Ruby Red\"],[920,\"Ruby Red\"],[921,\"Ruby Red\"],[922,\"Chaplin\"],[923,\"Chaplin\"],[924,\"Chaplin\"],[925,\"Chaplin\"],[926,\"Chaplin\"],[927,\"Rouxby Red\"],[928,\"Rouxby Red\"],[929,\"Rouxby Red\"],[930,\"Rouxby Red\"],[931,\"Rouxby Red\"],[932,\"Rouxby Red\"],[933,\"Rosemary Clementine Sparkle\"],[934,\"Rosemary Clementine Sparkle\"],[935,\"Rosemary Clementine Sparkle\"],[936,\"Rosemary Clementine Sparkle\"],[937,\"Rosemary Clementine Sparkle\"],[938,\"Rosemary Clementine Sparkle\"],[939,\"Chapel Hill\"],[940,\"Chapel Hill\"],[941,\"Chapel Hill\"],[942,\"Robin's Nest\"],[943,\"Robin's Nest\"],[944,\"Robin's Nest\"],[945,\"Chancellor Cocktail\"],[946,\"Chancellor Cocktail\"],[947,\"Chancellor Cocktail\"],[948,\"Chancellor Cocktail\"],[949,\"Cafe di Saronno\"],[950,\"Carre Reprise\"],[951,\"Carre Reprise\"],[952,\"Carre Reprise\"],[953,\"Carre Reprise\"],[954,\"Carre Reprise\"],[955,\"Carre Reprise\"],[956,\"Gilroy Cocktail\"],[957,\"Gilroy Cocktail\"],[958,\"Gilroy Cocktail\"],[959,\"Gilroy Cocktail\"],[960,\"Gilroy Cocktail\"],[961,\"Redhead Martini\"],[962,\"Redhead Martini\"],[963,\"Redhead Martini\"],[964,\"Redhead Martini\"],[965,\"Redhead Martini\"],[966,\"Red Apple\"],[967,\"Red Apple\"],[968,\"Red Apple\"],[969,\"Red Apple\"],[970,\"Canal Street Daisy\"],[971,\"Canal Street Daisy\"],[972,\"Canal Street Daisy\"],[973,\"Canal Street Daisy\"],[974,\"Canal Street Daisy\"],[975,\"Canadian Cocktail\"],[976,\"Canadian Cocktail\"],[977,\"Canadian Cocktail\"],[978,\"Canadian Cocktail\"],[979,\"Purple Ruby\"],[980,\"Purple Ruby\"],[981,\"Purple Ruby\"],[982,\"Purple Ruby\"],[983,\"Purple Ruby\"],[984,\"Canadian Cherry\"],[985,\"Canadian Cherry\"],[986,\"Canadian Cherry\"],[987,\"Canadian Cherry\"],[988,\"Canadian Cherry\"],[989,\"Orange Smile\"],[990,\"Orange Smile\"],[991,\"Orange Smile\"],[992,\"Purple Passion Iced Tea\"],[993,\"Purple Passion Iced Tea\"],[994,\"Purple Passion Iced Tea\"],[995,\"Purple Passion Iced Tea\"],[996,\"Purple Passion Iced Tea\"],[997,\"Purple Passion Iced Tea\"],[998,\"Canadian Breeze\"],[999,\"Canadian Breeze\"],[1000,\"Canadian Breeze\"],[1001,\"Canadian Breeze\"],[1002,\"Canadian Breeze\"],[1003,\"Purple Passion\"],[1004,\"Purple Passion\"],[1005,\"Purple Passion\"],[1006,\"Purple Passion\"],[1007,\"Cameron's Kick Cocktail\"],[1008,\"Cameron's Kick Cocktail\"],[1009,\"Cameron's Kick Cocktail\"],[1010,\"Cameron's Kick Cocktail\"],[1011,\"Georgia Mint Julep\"],[1012,\"Georgia Mint Julep\"],[1013,\"Georgia Mint Julep\"],[1014,\"Georgia Mint Julep\"],[1015,\"California Lemonade\"],[1016,\"California Lemonade\"],[1017,\"California Lemonade\"],[1018,\"California Lemonade\"],[1019,\"California Lemonade\"],[1020,\"California Lemonade\"],[1021,\"Boston Side Car\"],[1022,\"Boston Side Car\"],[1023,\"Boston Side Car\"],[1024,\"Boston Side Car\"],[1025,\"Cablegram\"],[1026,\"Cablegram\"],[1027,\"Cablegram\"],[1028,\"Cablegram\"],[1029,\"Bull And Bear\"],[1030,\"Bull And Bear\"],[1031,\"Bull And Bear\"],[1032,\"Bull And Bear\"],[1033,\"Brooklyn\"],[1034,\"Brooklyn\"],[1035,\"Brooklyn\"],[1036,\"Brooklyn\"],[1037,\"Brighton Punch\"],[1038,\"Brighton Punch\"],[1039,\"Brighton Punch\"],[1040,\"Brighton Punch\"],[1041,\"Brighton Punch\"],[1042,\"Bourbon Renewal\"],[1043,\"Bourbon Renewal\"],[1044,\"Bourbon Renewal\"],[1045,\"Bourbon Renewal\"],[1046,\"Bourbon Renewal\"],[1047,\"Bourbon Highball\"],[1048,\"Bourbon And Elder\"],[1049,\"Bourbon And Elder\"],[1050,\"Bourbon And Elder\"],[1051,\"Bourbon Crusta\"],[1052,\"Bourbon Crusta\"],[1053,\"Bourbon Crusta\"],[1054,\"Bourbon Crusta\"],[1055,\"Bourbon Crusta\"],[1056,\"Bourbon Crusta\"],[1057,\"Bourbon Cooler\"],[1058,\"Bourbon Cooler\"],[1059,\"Bourbon Cooler\"],[1060,\"Bourbon Cooler\"],[1061,\"Froupe Cocktail\"],[1062,\"Froupe Cocktail\"],[1063,\"Froupe Cocktail\"],[1064,\"Bourbon A La Creme\"],[1065,\"Bourbon A La Creme\"],[1066,\"Bourbon A La Creme\"],[1067,\"The Bone\"],[1068,\"The Bone\"],[1069,\"The Bone\"],[1070,\"The Bone\"],[1071,\"Bobby Burns Cocktail\"],[1072,\"Bobby Burns Cocktail\"],[1073,\"Bobby Burns Cocktail\"],[1074,\"Bloody Scotsman\"],[1075,\"Bloody Scotsman\"],[1076,\"Bloody Scotsman\"],[1077,\"Bloody Scotsman\"],[1078,\"Bloody Scotsman\"],[1079,\"Bloody Scotsman\"],[1080,\"White Cargo Cocktail\"],[1081,\"White Cargo Cocktail\"],[1082,\"Blood and Sand\"],[1083,\"Blood and Sand\"],[1084,\"Blood and Sand\"],[1085,\"Blood and Sand\"],[1086,\"The Blinker\"],[1087,\"The Blinker\"],[1088,\"The Blinker\"],[1089,\"Pike's Peak Cooler\"],[1090,\"Pike's Peak Cooler\"],[1091,\"Pike's Peak Cooler\"],[1092,\"Blarney Stone Cocktail\"],[1093,\"Blarney Stone Cocktail\"],[1094,\"Blarney Stone Cocktail\"],[1095,\"Blarney Stone Cocktail\"],[1096,\"Blarney Stone Cocktail\"],[1097,\"Blarney Stone Cocktail\"],[1098,\"Pacman\"],[1099,\"Pacman\"],[1100,\"Pacman\"],[1101,\"Lemonade (Golden)\"],[1102,\"Lemonade (Golden)\"],[1103,\"Lemonade (Golden)\"],[1104,\"Lemonade (Golden)\"],[1105,\"Black Hawk\"],[1106,\"Black Hawk\"],[1107,\"Black Hawk\"],[1108,\"Lemonade (Egg)\"],[1109,\"Lemonade (Egg)\"],[1110,\"Lemonade (Egg)\"],[1111,\"Bensonhurst\"],[1112,\"Bensonhurst\"],[1113,\"Bensonhurst\"],[1114,\"Bensonhurst\"],[1115,\"Chocolate Daisy\"],[1116,\"Chocolate Daisy\"],[1117,\"Chocolate Daisy\"],[1118,\"Chocolate Daisy\"],[1119,\"Chocolate Daisy\"],[1120,\"The Beautiful Day\"],[1121,\"The Beautiful Day\"],[1122,\"The Beautiful Day\"],[1123,\"French Quarter\"],[1124,\"French Quarter\"],[1125,\"Creme de Gin Cocktail\"],[1126,\"Creme de Gin Cocktail\"],[1127,\"Creme de Gin Cocktail\"],[1128,\"Creme de Gin Cocktail\"],[1129,\"Creme de Gin Cocktail\"],[1130,\"Creamy Screwdriver\"],[1131,\"Creamy Screwdriver\"],[1132,\"Creamy Screwdriver\"],[1133,\"Creamy Screwdriver\"],[1134,\"Creamy Orange\"],[1135,\"Creamy Orange\"],[1136,\"Creamy Orange\"],[1137,\"Creamy Orange\"],[1138,\"Creamsicle\"],[1139,\"Creamsicle\"],[1140,\"Creamsicle\"],[1141,\"Cowboy Cocktail\"],[1142,\"Cowboy Cocktail\"],[1143,\"Beals Cocktail\"],[1144,\"Beals Cocktail\"],[1145,\"Beals Cocktail\"],[1146,\"Coronation Cocktail\"],[1147,\"Coronation Cocktail\"],[1148,\"Coronation Cocktail\"],[1149,\"Cornell Cocktail\"],[1150,\"Cornell Cocktail\"],[1151,\"Cornell Cocktail\"],[1152,\"Cornell Cocktail\"],[1153,\"Combo\"],[1154,\"Combo\"],[1155,\"Combo\"],[1156,\"Combo\"],[1157,\"Combo\"],[1158,\"Basin Street\"],[1159,\"Basin Street\"],[1160,\"Basin Street\"],[1161,\"Cole's Raspberry Cream\"],[1162,\"Cole's Raspberry Cream\"],[1163,\"Cole's Raspberry Cream\"],[1164,\"Cole's Raspberry Cream\"],[1165,\"Cole's Raspberry Cream\"],[1166,\"Cognac Coupling\"],[1167,\"Cognac Coupling\"],[1168,\"Cognac Coupling\"],[1169,\"Cognac Coupling\"],[1170,\"Coffee Sour\"],[1171,\"Coffee Sour\"],[1172,\"Coffee Sour\"],[1173,\"Coffee Sour\"],[1174,\"Coffee Flip\"],[1175,\"Coffee Flip\"],[1176,\"Coffee Flip\"],[1177,\"Coffee Flip\"],[1178,\"Coffee Flip\"],[1179,\"Coffee Cocktail\"],[1180,\"Coffee Cocktail\"],[1181,\"Coffee Cocktail\"],[1182,\"Coffee Cocktail\"],[1183,\"Purple Mask\"],[1184,\"Purple Mask\"],[1185,\"Purple Mask\"],[1186,\"Clove Cocktail\"],[1187,\"Clove Cocktail\"],[1188,\"Clove Cocktail\"],[1189,\"Clover Leaf Cocktail\"],[1190,\"Clover Leaf Cocktail\"],[1191,\"Clover Leaf Cocktail\"],[1192,\"Clover Leaf Cocktail\"],[1193,\"Clover Club Cocktail\"],[1194,\"Clover Club Cocktail\"],[1195,\"Clover Club Cocktail\"],[1196,\"Clover Club Cocktail\"],[1197,\"Priority Cocktail\"],[1198,\"Priority Cocktail\"],[1199,\"Priority Cocktail\"],[1200,\"Clamato Cocktail\"],[1201,\"Clamato Cocktail\"],[1202,\"Clamato Cocktail\"],[1203,\"Cider Eggnog\"],[1204,\"Cider Eggnog\"],[1205,\"Cider Eggnog\"],[1206,\"Chocolate Soldier\"],[1207,\"Chocolate Soldier\"],[1208,\"Chocolate Soldier\"],[1209,\"Chocolate Flip\"],[1210,\"Chocolate Flip\"],[1211,\"Chocolate Flip\"],[1212,\"Chocolate Flip\"],[1213,\"Chocolate Flip\"],[1214,\"Chocolate Cocktail\"],[1215,\"Chocolate Cocktail\"],[1216,\"Chocolate Cocktail\"],[1217,\"Chocolate Cocktail\"],[1218,\"Chicago Fizz\"],[1219,\"Chicago Fizz\"],[1220,\"Chicago Fizz\"],[1221,\"Chicago Fizz\"],[1222,\"Chicago Fizz\"],[1223,\"Pretty In Pink\"],[1224,\"Pretty In Pink\"],[1225,\"Pretty In Pink\"],[1226,\"Pretty In Pink\"],[1227,\"Cherry Wine Cocktail\"],[1228,\"Cherry Wine Cocktail\"],[1229,\"Cherry Wine Cocktail\"],[1230,\"Cherry Flip\"],[1231,\"Cherry Flip\"],[1232,\"Cherry Flip\"],[1233,\"Cherry Flip\"],[1234,\"Cherry Cooler\"],[1235,\"Polynesian Cocktail\"],[1236,\"Polynesian Cocktail\"],[1237,\"Polynesian Cocktail\"],[1238,\"Chateau Briand's Rum Cow\"],[1239,\"Chateau Briand's Rum Cow\"],[1240,\"Chateau Briand's Rum Cow\"],[1241,\"Chateau Briand's Rum Cow\"],[1242,\"Champagne Velvet\"],[1243,\"Champagne Velvet\"],[1244,\"Pink Pussycat\"],[1245,\"Pink Pussycat\"],[1246,\"Pink Pussycat\"],[1247,\"Back Porch Swizzle\"],[1248,\"Back Porch Swizzle\"],[1249,\"Back Porch Swizzle\"],[1250,\"Back Porch Swizzle\"],[1251,\"Canadian Pineapple\"],[1252,\"Canadian Pineapple\"],[1253,\"Canadian Pineapple\"],[1254,\"Canadian Pineapple\"],[1255,\"Calm Voyage\"],[1256,\"Calm Voyage\"],[1257,\"Calm Voyage\"],[1258,\"Calm Voyage\"],[1259,\"Calm Voyage\"],[1260,\"Pink Lemonade\"],[1261,\"Pink Lemonade\"],[1262,\"Pink Lemonade\"],[1263,\"Pink Lemonade\"],[1264,\"Pink Lemonade\"],[1265,\"Pink Lemonade\"],[1266,\"Caledonia\"],[1267,\"Caledonia\"],[1268,\"Caledonia\"],[1269,\"Caledonia\"],[1270,\"Caf_ di Amaretto\"],[1271,\"Caf_ di Amaretto\"],[1272,\"Cafe De Paris Cocktail\"],[1273,\"Cafe De Paris Cocktail\"],[1274,\"Cafe De Paris Cocktail\"],[1275,\"Cafe De Paris Cocktail\"],[1276,\"Aztec's Mark\"],[1277,\"Aztec's Mark\"],[1278,\"Aztec's Mark\"],[1279,\"Aztec's Mark\"],[1280,\"Fontainebleau Special\"],[1281,\"Fontainebleau Special\"],[1282,\"Fontainebleau Special\"],[1283,\"Suntan\"],[1284,\"Suntan\"],[1285,\"Sunburn\"],[1286,\"Sunburn\"],[1287,\"Suissesse Cocktail\"],[1288,\"Suissesse Cocktail\"],[1289,\"Strawberry Sunries\"],[1290,\"Strawberry Sunries\"],[1291,\"Autumn Leaves\"],[1292,\"Autumn Leaves\"],[1293,\"Autumn Leaves\"],[1294,\"Autumn Leaves\"],[1295,\"Autumn Leaves\"],[1296,\"Pickled Pink\"],[1297,\"Pickled Pink\"],[1298,\"Pickled Pink\"],[1299,\"Pickled Pink\"],[1300,\"Aquarius\"],[1301,\"Aquarius\"],[1302,\"Aquarius\"],[1303,\"Soul Kiss Cocktail\"],[1304,\"Soul Kiss Cocktail\"],[1305,\"Soul Kiss Cocktail\"],[1306,\"Soul Kiss Cocktail\"],[1307,\"Pickled Martini\"],[1308,\"Pickled Martini\"],[1309,\"Pickled Martini\"],[1310,\"Pickled Martini\"],[1311,\"Sloe Gin Flip\"],[1312,\"Sloe Gin Flip\"],[1313,\"Sloe Gin Flip\"],[1314,\"Sloe Gin Flip\"],[1315,\"Angel's Share\"],[1316,\"Angel's Share\"],[1317,\"Angel's Share\"],[1318,\"Angel's Share\"],[1319,\"Silver Stallion Fizz\"],[1320,\"Silver Stallion Fizz\"],[1321,\"Silver King Cocktail\"],[1322,\"Silver King Cocktail\"],[1323,\"Silver King Cocktail\"],[1324,\"Silver King Cocktail\"],[1325,\"Silver King Cocktail\"],[1326,\"American Trilogy\"],[1327,\"American Trilogy\"],[1328,\"American Trilogy\"],[1329,\"Silver Fizz\"],[1330,\"Silver Fizz\"],[1331,\"Silver Fizz\"],[1332,\"Silver Fizz\"],[1333,\"Sherry Twist Cocktail\"],[1334,\"Sherry Twist Cocktail\"],[1335,\"Sherry Twist Cocktail\"],[1336,\"Sherry Twist Cocktail\"],[1337,\"Sherry Twist Cocktail\"],[1338,\"Sherry Sangaree\"],[1339,\"Sherry Sangaree\"],[1340,\"Sherry Sangaree\"],[1341,\"Sherry Sangaree\"],[1342,\"Sherry Milk Punch\"],[1343,\"Sherry Milk Punch\"],[1344,\"Petit Zinc\"],[1345,\"Petit Zinc\"],[1346,\"Petit Zinc\"],[1347,\"Petit Zinc\"],[1348,\"Sherry Flip\"],[1349,\"Sherry Flip\"],[1350,\"Sherry Flip\"],[1351,\"Sherry Flip\"],[1352,\"Sherry-and-Egg Cocktail\"],[1353,\"Americana\"],[1354,\"Americana\"],[1355,\"Americana\"],[1356,\"Allegheny\"],[1357,\"Allegheny\"],[1358,\"Allegheny\"],[1359,\"Allegheny\"],[1360,\"Sevilla Cocktail\"],[1361,\"Sevilla Cocktail\"],[1362,\"Sevilla Cocktail\"],[1363,\"Sevilla Cocktail\"],[1364,\"September Morn Cocktail\"],[1365,\"September Morn Cocktail\"],[1366,\"September Morn Cocktail\"],[1367,\"September Morn Cocktail\"],[1368,\"Peach Iced Tea\"],[1369,\"Peach Iced Tea\"],[1370,\"Peach Iced Tea\"],[1371,\"Peach Iced Tea\"],[1372,\"Peach Iced Tea\"],[1373,\"Fantasio Cocktail\"],[1374,\"Fantasio Cocktail\"],[1375,\"Fantasio Cocktail\"],[1376,\"Fantasio Cocktail\"],[1377,\"Scotch Bird Flyer\"],[1378,\"Scotch Bird Flyer\"],[1379,\"Scotch Bird Flyer\"],[1380,\"Scotch Bird Flyer\"],[1381,\"Scotch Bird Flyer\"],[1382,\"Algonquin\"],[1383,\"Algonquin\"],[1384,\"Algonquin\"],[1385,\"Savannah\"],[1386,\"Savannah\"],[1387,\"Savannah\"],[1388,\"Savannah\"],[1389,\"Pink Rose Fizz\"],[1390,\"Pink Rose Fizz\"],[1391,\"Pink Rose Fizz\"],[1392,\"Pink Rose Fizz\"],[1393,\"Pink Rose Fizz\"],[1394,\"Ninotchka Cocktail\"],[1395,\"Ninotchka Cocktail\"],[1396,\"Ninotchka Cocktail\"],[1397,\"Prairie Oyster\"],[1398,\"Prairie Oyster\"],[1399,\"Prairie Oyster\"],[1400,\"Prairie Oyster\"],[1401,\"Prairie Oyster\"],[1402,\"Prairie Chicken\"],[1403,\"Prairie Chicken\"],[1404,\"Pousse L'Amour\"],[1405,\"Pousse L'Amour\"],[1406,\"Pousse L'Amour\"],[1407,\"Pousse L'Amour\"],[1408,\"Puerto Apple\"],[1409,\"Puerto Apple\"],[1410,\"Puerto Apple\"],[1411,\"Puerto Apple\"],[1412,\"Akogare\"],[1413,\"Akogare\"],[1414,\"Akogare\"],[1415,\"Akogare\"],[1416,\"Prado\"],[1417,\"Prado\"],[1418,\"Prado\"],[1419,\"Prado\"],[1420,\"Prado\"],[1421,\"Port Wine Flip\"],[1422,\"Port Wine Flip\"],[1423,\"Port Wine Flip\"],[1424,\"Port Wine Flip\"],[1425,\"Port Wine Cobbler\"],[1426,\"Port Wine Cobbler\"],[1427,\"Port Wine Cobbler\"],[1428,\"Nijinksy Blini\"],[1429,\"Nijinksy Blini\"],[1430,\"Nijinksy Blini\"],[1431,\"Nijinksy Blini\"],[1432,\"Affinity Cocktail (whisky)\"],[1433,\"Affinity Cocktail (whisky)\"],[1434,\"Affinity Cocktail (whisky)\"],[1435,\"Affinity Cocktail (whisky)\"],[1436,\"Plain Vermouth Cocktail\"],[1437,\"Plain Vermouth Cocktail\"],[1438,\"Plain Vermouth Cocktail\"],[1439,\"Ping-Pong Cocktail\"],[1440,\"Ping-Pong Cocktail\"],[1441,\"Ping-Pong Cocktail\"],[1442,\"Moscow Mule\"],[1443,\"Moscow Mule\"],[1444,\"Phoebe Snow\"],[1445,\"Phoebe Snow\"],[1446,\"Phoebe Snow\"],[1447,\"Affinity Cocktail\"],[1448,\"Affinity Cocktail\"],[1449,\"Affinity Cocktail\"],[1450,\"Affinity Cocktail\"],[1451,\"Peggy Cocktail\"],[1452,\"Peggy Cocktail\"],[1453,\"Peggy Cocktail\"],[1454,\"Peggy Cocktail\"],[1455,\"Peach Blow Fizz\"],[1456,\"Peach Blow Fizz\"],[1457,\"Peach Blow Fizz\"],[1458,\"Peach Blow Fizz\"],[1459,\"Peach Blow Fizz\"],[1460,\"Peach Blossom\"],[1461,\"Peach Blossom\"],[1462,\"Peach Blossom\"],[1463,\"Peach Blossom\"],[1464,\"Passion Mimosa\"],[1465,\"Mocha Express\"],[1466,\"Mocha Express\"],[1467,\"Mocha Express\"],[1468,\"Mocha Express\"],[1469,\"Palmer Cocktail\"],[1470,\"Palmer Cocktail\"],[1471,\"Palmer Cocktail\"],[1472,\"Mr. 404\"],[1473,\"Mr. 404\"],[1474,\"Mr. 404\"],[1475,\"Mr. 404\"],[1476,\"Mr. 404\"],[1477,\"Mountain Cocktail\"],[1478,\"Mountain Cocktail\"],[1479,\"Mountain Cocktail\"],[1480,\"Mountain Cocktail\"],[1481,\"Mountain Cocktail\"],[1482,\"Morning Glory Fizz\"],[1483,\"Morning Glory Fizz\"],[1484,\"Morning Glory Fizz\"],[1485,\"Morning Glory Fizz\"],[1486,\"Morning Glory Fizz\"],[1487,\"Adderly Cocktail\"],[1488,\"Adderly Cocktail\"],[1489,\"Adderly Cocktail\"],[1490,\"Adderly Cocktail\"],[1491,\"Fancy Brandy\"],[1492,\"Fancy Brandy\"],[1493,\"Fancy Brandy\"],[1494,\"Fancy Brandy\"],[1495,\"Montreal Gin Sour\"],[1496,\"Montreal Gin Sour\"],[1497,\"Montreal Gin Sour\"],[1498,\"Montreal Gin Sour\"],[1499,\"Montezuma\"],[1500,\"Montezuma\"],[1501,\"Montezuma\"],[1502,\"Montezuma\"],[1503,\"Miss Jones\"],[1504,\"Miss Jones\"],[1505,\"Miss Jones\"],[1506,\"Miss Jones\"],[1507,\"Mint Gin Cocktail\"],[1508,\"Mint Gin Cocktail\"],[1509,\"Mint Gin Cocktail\"],[1510,\"Mint Collins\"],[1511,\"Mint Collins\"],[1512,\"Million-Dollar Cocktail\"],[1513,\"Million-Dollar Cocktail\"],[1514,\"Million-Dollar Cocktail\"],[1515,\"Million-Dollar Cocktail\"],[1516,\"Million-Dollar Cocktail\"],[1517,\"Millionaire Cocktail\"],[1518,\"Millionaire Cocktail\"],[1519,\"Millionaire Cocktail\"],[1520,\"Millionaire Cocktail\"],[1521,\"Academic Review\"],[1522,\"Academic Review\"],[1523,\"Academic Review\"],[1524,\"Academic Review\"],[1525,\"Academic Review\"],[1526,\"Academic Review\"],[1527,\"Milk Punch\"],[1528,\"Milk Punch\"],[1529,\"Milk Punch\"],[1530,\"Merry Widow Fizz\"],[1531,\"Merry Widow Fizz\"],[1532,\"Merry Widow Fizz\"],[1533,\"Merry Widow Fizz\"],[1534,\"Merry Widow Fizz\"],[1535,\"May Blossom Fizz\"],[1536,\"May Blossom Fizz\"],[1537,\"May Blossom Fizz\"],[1538,\"Mary Garden Cocktail\"],[1539,\"Mary Garden Cocktail\"],[1540,\"19th Century\"],[1541,\"19th Century\"],[1542,\"19th Century\"],[1543,\"19th Century\"],[1544,\"Manila Fizz\"],[1545,\"Manila Fizz\"],[1546,\"Manila Fizz\"],[1547,\"Manila Fizz\"],[1548,\"Manila Fizz\"],[1549,\"1626\"],[1550,\"1626\"],[1551,\"1626\"],[1552,\"1626\"],[1553,\"1626\"],[1554,\"Maracuya Mosquito\"],[1555,\"Maracuya Mosquito\"],[1556,\"Maracuya Mosquito\"],[1557,\"Maracuya Mosquito\"],[1558,\"Maracuya Mosquito\"],[1559,\"Maracuya Mosquito\"],[1560,\"Madras\"],[1561,\"Madras\"],[1562,\"Madras\"],[1563,\"Absinthe Cocktail\"],[1564,\"Absinthe Cocktail\"],[1565,\"Absinthe Cocktail\"],[1566,\"Absinthe Cocktail\"],[1567,\"Lychee Lucy\"],[1568,\"Lychee Lucy\"],[1569,\"Lychee Lucy\"],[1570,\"Lychee Lucy\"],[1571,\"Lychee Lucy\"],[1572,\"Vodka Martini\"],[1573,\"Vodka Martini\"],[1574,\"The Loop\"],[1575,\"The Loop\"],[1576,\"The Loop\"],[1577,\"Long Island Iced Tea\"],[1578,\"Long Island Iced Tea\"],[1579,\"Long Island Iced Tea\"],[1580,\"Long Island Iced Tea\"],[1581,\"Long Island Iced Tea\"],[1582,\"Long Island Iced Tea\"],[1583,\"Fallen Leaves\"],[1584,\"Fallen Leaves\"],[1585,\"Fallen Leaves\"],[1586,\"Fallen Leaves\"],[1587,\"L'italienne\"],[1588,\"L'italienne\"],[1589,\"L'italienne\"],[1590,\"L'italienne\"],[1591,\"Rum Dubonnet\"],[1592,\"Rum Dubonnet\"],[1593,\"Rum Dubonnet\"],[1594,\"Ruby Fizz\"],[1595,\"Ruby Fizz\"],[1596,\"Ruby Fizz\"],[1597,\"Ruby Fizz\"],[1598,\"Ruby Fizz\"],[1599,\"Limoncello Manzanilla Marmalade Sour\"],[1600,\"Limoncello Manzanilla Marmalade Sour\"],[1601,\"Limoncello Manzanilla Marmalade Sour\"],[1602,\"Limoncello Manzanilla Marmalade Sour\"],[1603,\"Limoncello Manzanilla Marmalade Sour\"],[1604,\"Royal Purple Punch\"],[1605,\"Royal Gin Fizz\"],[1606,\"Royal Gin Fizz\"],[1607,\"Royal Gin Fizz\"],[1608,\"Royal Gin Fizz\"],[1609,\"Royal Cocktail\"],[1610,\"Royal Cocktail\"],[1611,\"Royal Cocktail\"],[1612,\"Royal Cocktail\"],[1613,\"Royal Clover Club Cocktail\"],[1614,\"Royal Clover Club Cocktail\"],[1615,\"Royal Clover Club Cocktail\"],[1616,\"Royal Clover Club Cocktail\"],[1617,\"Lights On The Plaza\"],[1618,\"Lights On The Plaza\"],[1619,\"Lights On The Plaza\"],[1620,\"Lights On The Plaza\"],[1621,\"Lights On The Plaza\"],[1622,\"Lights On The Plaza\"],[1623,\"Rococo\"],[1624,\"Rococo\"],[1625,\"Rococo\"],[1626,\"Rock & Rye Cooler\"],[1627,\"Rock & Rye Cooler\"],[1628,\"Rock & Rye Cooler\"],[1629,\"Rock & Rye Cocktail\"],[1630,\"Rock & Rye Cocktail\"],[1631,\"Rock & Rye Cocktail\"],[1632,\"Le Paradini\"],[1633,\"Le Paradini\"],[1634,\"Le Paradini\"],[1635,\"Le Paradini\"],[1636,\"Red Swizzle\"],[1637,\"Red Swizzle\"],[1638,\"Red Swizzle\"],[1639,\"Red Swizzle\"],[1640,\"Red Swizzle\"],[1641,\"Red Swizzle\"],[1642,\"Lemon Drop\"],[1643,\"Lemon Drop\"],[1644,\"Lemon Drop\"],[1645,\"Lemon Drop\"],[1646,\"Rebel Charge\"],[1647,\"Rebel Charge\"],[1648,\"Rebel Charge\"],[1649,\"Rebel Charge\"],[1650,\"Rebel Charge\"],[1651,\"Rattlesnake Cocktail\"],[1652,\"Rattlesnake Cocktail\"],[1653,\"Rattlesnake Cocktail\"],[1654,\"Rattlesnake Cocktail\"],[1655,\"Rattlesnake Cocktail\"],[1656,\"Ramos Fizz\"],[1657,\"Ramos Fizz\"],[1658,\"Ramos Fizz\"],[1659,\"Ramos Fizz\"],[1660,\"Ramos Fizz\"],[1661,\"Ramos Fizz\"],[1662,\"San Francisco\"],[1663,\"San Francisco\"],[1664,\"San Francisco\"],[1665,\"San Francisco\"],[1666,\"San Francisco\"],[1667,\"Sand-Martini Cocktail\"],[1668,\"Sand-Martini Cocktail\"],[1669,\"Sand-Martini Cocktail\"],[1670,\"Sand-Martini Cocktail\"],[1671,\"Sake Martini (Sakini)\"],[1672,\"Sake Martini (Sakini)\"],[1673,\"Lemon Crush\"],[1674,\"Lemon Crush\"],[1675,\"Lemon Crush\"],[1676,\"Lemon Crush\"],[1677,\"Lemon Crush\"],[1678,\"Rye Whiskey Cocktail\"],[1679,\"Rye Whiskey Cocktail\"],[1680,\"Rye Whiskey Cocktail\"],[1681,\"Leaves Of Grass\"],[1682,\"Leaves Of Grass\"],[1683,\"Leaves Of Grass\"],[1684,\"Leaves Of Grass\"],[1685,\"Leaves Of Grass\"],[1686,\"Widow's Dream\"],[1687,\"Widow's Dream\"],[1688,\"Whiskey Flip\"],[1689,\"Whiskey Flip\"],[1690,\"Whiskey Flip\"],[1691,\"Whiskey Flip\"],[1692,\"L.A. Sunrise\"],[1693,\"L.A. Sunrise\"],[1694,\"L.A. Sunrise\"],[1695,\"L.A. Sunrise\"],[1696,\"L.A. Sunrise\"],[1697,\"White Rose Cocktail\"],[1698,\"White Rose Cocktail\"],[1699,\"White Rose Cocktail\"],[1700,\"White Rose Cocktail\"],[1701,\"White Rose Cocktail\"],[1702,\"White Plush\"],[1703,\"White Plush\"],[1704,\"White Plush\"],[1705,\"White Elephant\"],[1706,\"White Elephant\"],[1707,\"White Elephant\"],[1708,\"Whiskey Toddy (cold)\"],[1709,\"Whiskey Toddy (cold)\"],[1710,\"Whiskey Toddy (cold)\"],[1711,\"Kretchma Cocktail\"],[1712,\"Kretchma Cocktail\"],[1713,\"Kretchma Cocktail\"],[1714,\"Kretchma Cocktail\"],[1715,\"Whiskey Skin\"],[1716,\"Whiskey Skin\"],[1717,\"Whiskey Milk Punch\"],[1718,\"Whiskey Milk Punch\"],[1719,\"Katana\"],[1720,\"Katana\"],[1721,\"Katana\"],[1722,\"Katana\"],[1723,\"Katana\"],[1724,\"Katana\"],[1725,\"Ethel Duffy Cocktail\"],[1726,\"Ethel Duffy Cocktail\"],[1727,\"Ethel Duffy Cocktail\"],[1728,\"Daiquiri\"],[1729,\"Daiquiri\"],[1730,\"Daiquiri\"],[1731,\"Wembley Cocktail\"],[1732,\"Wembley Cocktail\"],[1733,\"Wembley Cocktail\"],[1734,\"Wembley Cocktail\"],[1735,\"Weep-No-More Cocktail\"],[1736,\"Weep-No-More Cocktail\"],[1737,\"Weep-No-More Cocktail\"],[1738,\"Weep-No-More Cocktail\"],[1739,\"Jungle Juice\"],[1740,\"Jungle Juice\"],[1741,\"Jungle Juice\"],[1742,\"Jungle Juice\"],[1743,\"Jungle Juice\"],[1744,\"Wedding Belle Cocktail\"],[1745,\"Wedding Belle Cocktail\"],[1746,\"Wedding Belle Cocktail\"],[1747,\"Wedding Belle Cocktail\"],[1748,\"Waterloo\"],[1749,\"Waterloo\"],[1750,\"Waterloo\"],[1751,\"Waterbury Cocktail\"],[1752,\"Waterbury Cocktail\"],[1753,\"Waterbury Cocktail\"],[1754,\"Waterbury Cocktail\"],[1755,\"Waterbury Cocktail\"],[1756,\"Washington Cocktail\"],[1757,\"Washington Cocktail\"],[1758,\"Washington Cocktail\"],[1759,\"Washington Cocktail\"],[1760,\"The Jamaican Ten Speed\"],[1761,\"The Jamaican Ten Speed\"],[1762,\"The Jamaican Ten Speed\"],[1763,\"The Jamaican Ten Speed\"],[1764,\"The Jamaican Ten Speed\"],[1765,\"Twin Six Cocktail\"],[1766,\"Twin Six Cocktail\"],[1767,\"Twin Six Cocktail\"],[1768,\"Twin Six Cocktail\"],[1769,\"Twin Six Cocktail\"],[1770,\"Jackie-O\"],[1771,\"Jackie-O\"],[1772,\"Jackie-O\"],[1773,\"Jackie-O\"],[1774,\"Jackie-O\"],[1775,\"Tropical Heart\"],[1776,\"Trois Rivieres\"],[1777,\"Trois Rivieres\"],[1778,\"Trois Rivieres\"],[1779,\"Tovarich Cocktail\"],[1780,\"Tovarich Cocktail\"],[1781,\"Tovarich Cocktail\"],[1782,\"Italian Screwdriver\"],[1783,\"Italian Screwdriver\"],[1784,\"Italian Screwdriver\"],[1785,\"Italian Screwdriver\"],[1786,\"Italian Screwdriver\"],[1787,\"T.N.T. Cocktail No. 2\"],[1788,\"T.N.T. Cocktail No. 1\"],[1789,\"T.N.T. Cocktail No. 1\"],[1790,\"Ibiza\"],[1791,\"Ibiza\"],[1792,\"Ibiza\"],[1793,\"Ibiza\"],[1794,\"Ibiza\"],[1795,\"Ibiza\"],[1796,\"Thunder\"],[1797,\"Thunder\"],[1798,\"Thunder\"],[1799,\"Thunder\"],[1800,\"Huntsman Cocktail\"],[1801,\"Huntsman Cocktail\"],[1802,\"Huntsman Cocktail\"],[1803,\"Huntsman Cocktail\"],[1804,\"Tequila Fizz\"],[1805,\"Tequila Fizz\"],[1806,\"Tequila Fizz\"],[1807,\"Tequila Fizz\"],[1808,\"Humpty Dumpty\"],[1809,\"Humpty Dumpty\"],[1810,\"Humpty Dumpty\"],[1811,\"Humpty Dumpty\"],[1812,\"Humpty Dumpty\"],[1813,\"Tequila Cocktail\"],[1814,\"Tequila Cocktail\"],[1815,\"Tequila Cocktail\"],[1816,\"Tequila Cocktail\"],[1817,\"Temptation Cocktail\"],[1818,\"Temptation Cocktail\"],[1819,\"Temptation Cocktail\"],[1820,\"Temptation Cocktail\"],[1821,\"Tchoupitolas Street Guzzle\"],[1822,\"Tahitian Tea\"],[1823,\"Tahitian Tea\"],[1824,\"Tahitian Tea\"],[1825,\"Tahitian Tea\"],[1826,\"Tahitian Tea\"],[1827,\"Tahitian Tea\"],[1828,\"Limey\"],[1829,\"Limey\"],[1830,\"Limey\"],[1831,\"Limey\"],[1832,\"Headless Horseman\"],[1833,\"Headless Horseman\"],[1834,\"Love Cocktail\"],[1835,\"Love Cocktail\"],[1836,\"Love Cocktail\"],[1837,\"Love Cocktail\"],[1838,\"Los Angeles Cocktail\"],[1839,\"Los Angeles Cocktail\"],[1840,\"Los Angeles Cocktail\"],[1841,\"Los Angeles Cocktail\"],[1842,\"Los Angeles Cocktail\"],[1843,\"Long Island Tea\"],[1844,\"Long Island Tea\"],[1845,\"Long Island Tea\"],[1846,\"Long Island Tea\"],[1847,\"Long Island Tea\"],[1848,\"Harvey Wallbanger\"],[1849,\"Harvey Wallbanger\"],[1850,\"Harvey Wallbanger\"],[1851,\"Lime Giant\"],[1852,\"Lil Naue\"],[1853,\"Lil Naue\"],[1854,\"Lil Naue\"],[1855,\"Lil Naue\"],[1856,\"Lil Naue\"],[1857,\"Harrington\"],[1858,\"Harrington\"],[1859,\"Harrington\"],[1860,\"El Profesor\"],[1861,\"El Profesor\"],[1862,\"El Profesor\"],[1863,\"El Profesor\"],[1864,\"Leap Year Cocktail\"],[1865,\"Leap Year Cocktail\"],[1866,\"Leap Year Cocktail\"],[1867,\"Leap Year Cocktail\"],[1868,\"Lasky Cocktail\"],[1869,\"Lasky Cocktail\"],[1870,\"Lasky Cocktail\"],[1871,\"Lady Love Fizz\"],[1872,\"Lady Love Fizz\"],[1873,\"Lady Love Fizz\"],[1874,\"Lady Love Fizz\"],[1875,\"Lady Love Fizz\"],[1876,\"Handball Cooler\"],[1877,\"Handball Cooler\"],[1878,\"Hyatt's Jamaican Banana\"],[1879,\"Hyatt's Jamaican Banana\"],[1880,\"Hyatt's Jamaican Banana\"],[1881,\"Hyatt's Jamaican Banana\"],[1882,\"Hyatt's Jamaican Banana\"],[1883,\"Hyatt's Jamaican Banana\"],[1884,\"H.P.W. Cocktail\"],[1885,\"H.P.W. Cocktail\"],[1886,\"H.P.W. Cocktail\"],[1887,\"Hot Shot Margarita\"],[1888,\"Hot Shot Margarita\"],[1889,\"Hot Shot Margarita\"],[1890,\"The Groupie\"],[1891,\"The Groupie\"],[1892,\"The Groupie\"],[1893,\"Hot Brandy Flip\"],[1894,\"Hot Brandy Flip\"],[1895,\"Hot Brandy Flip\"],[1896,\"Grape Nehi\"],[1897,\"Grape Nehi\"],[1898,\"Grape Nehi\"],[1899,\"Hole-in-One Cocktai\"],[1900,\"Hole-in-One Cocktai\"],[1901,\"Hole-in-One Cocktai\"],[1902,\"Hole-in-One Cocktai\"],[1903,\"Grapefruit Gimlet Royale\"],[1904,\"Grapefruit Gimlet Royale\"],[1905,\"Grapefruit Gimlet Royale\"],[1906,\"Grapefruit Gimlet Royale\"],[1907,\"Grapefruit Gimlet Royale\"],[1908,\"Hair Raiser\"],[1909,\"Hair Raiser\"],[1910,\"Hair Raiser\"],[1911,\"Godmother\"],[1912,\"Godmother\"],[1913,\"Green Opal\"],[1914,\"Green Opal\"],[1915,\"Green Opal\"],[1916,\"Green Hornet (Dry)\"],[1917,\"Green Hornet (Dry)\"],[1918,\"Green Fizz\"],[1919,\"Green Fizz\"],[1920,\"Green Fizz\"],[1921,\"Green Fizz\"],[1922,\"Green Fizz\"],[1923,\"Godchild\"],[1924,\"Godchild\"],[1925,\"Godchild\"],[1926,\"Grape Vodka Froth\"],[1927,\"Grape Vodka Froth\"],[1928,\"Grape Vodka Froth\"],[1929,\"Grape Vodka Froth\"],[1930,\"Grapefruit Nog\"],[1931,\"Grapefruit Nog\"],[1932,\"Grapefruit Nog\"],[1933,\"Grapefruit Nog\"],[1934,\"Grapefruit Nog\"],[1935,\"Golden Slipper\"],[1936,\"Golden Slipper\"],[1937,\"Golden Frappe\"],[1938,\"Golden Frappe\"],[1939,\"Golden Frappe\"],[1940,\"Golden Frappe\"],[1941,\"Glass Tower\"],[1942,\"Glass Tower\"],[1943,\"Glass Tower\"],[1944,\"Glass Tower\"],[1945,\"Glass Tower\"],[1946,\"Golden Fizz\"],[1947,\"Golden Fizz\"],[1948,\"Golden Fizz\"],[1949,\"Golden Fizz\"],[1950,\"Gloom Lifter\"],[1951,\"Gloom Lifter\"],[1952,\"Gloom Lifter\"],[1953,\"Gloom Lifter\"],[1954,\"Gloom Lifter\"],[1955,\"Gloom Lifter\"],[1956,\"Glogg\"],[1957,\"Glogg\"],[1958,\"Glogg\"],[1959,\"Glogg\"],[1960,\"Georgia Peach\"],[1961,\"Georgia Peach\"],[1962,\"Georgia Peach\"],[1963,\"Georgia Mule\"],[1964,\"Georgia Mule\"],[1965,\"Georgia Mule\"],[1966,\"Georgia Mule\"],[1967,\"Gentle Ben\"],[1968,\"Gentle Ben\"],[1969,\"Gentle Ben\"],[1970,\"East India Cocktail No. 1\"],[1971,\"East India Cocktail No. 1\"],[1972,\"East India Cocktail No. 1\"],[1973,\"East India Cocktail No. 1\"],[1974,\"East India Cocktail No. 1\"],[1975,\"General Harrison's Eggnog\"],[1976,\"General Harrison's Eggnog\"],[1977,\"Gables Collins\"],[1978,\"Gables Collins\"],[1979,\"Gables Collins\"],[1980,\"Gables Collins\"],[1981,\"Frozen Brandy and Rum\"],[1982,\"Frozen Brandy and Rum\"],[1983,\"Frozen Brandy and Rum\"],[1984,\"Frozen Brandy and Rum\"],[1985,\"Frozen Brandy and Rum\"],[1986,\"Frozen Apple\"],[1987,\"Frozen Apple\"],[1988,\"Frozen Apple\"],[1989,\"Frozen Apple\"],[1990,\"Frisky Witch\"],[1991,\"Frisky Witch\"],[1992,\"Froth Blower Cocktail\"],[1993,\"Froth Blower Cocktail\"],[1994,\"Froth Blower Cocktail\"],[1995,\"French Martini\"],[1996,\"French Martini\"],[1997,\"French Martini\"],[1998,\"Flatiron Martini\"],[1999,\"Flatiron Martini\"],[2000,\"Flatiron Martini\"],[2001,\"Favourite Cocktail\"],[2002,\"Favourite Cocktail\"],[2003,\"Favourite Cocktail\"],[2004,\"Favourite Cocktail\"],[2005,\"Electric Jam\"],[2006,\"Electric Jam\"],[2007,\"Electric Jam\"],[2008,\"Electric Jam\"],[2009,\"Fairy Belle Cocktail\"],[2010,\"Fairy Belle Cocktail\"],[2011,\"Fairy Belle Cocktail\"],[2012,\"Fairy Belle Cocktail\"],[2013,\"Duke Cocktail\"],[2014,\"Duke Cocktail\"],[2015,\"Duke Cocktail\"],[2016,\"Duke Cocktail\"],[2017,\"Duke Cocktail\"],[2018,\"Dreamy Dorini Smoking Martini\"],[2019,\"Dreamy Dorini Smoking Martini\"],[2020,\"Dreamy Dorini Smoking Martini\"],[2021,\"Dubonnet Highball\"],[2022,\"Dubonnet Fizz\"],[2023,\"Dubonnet Fizz\"],[2024,\"Dubonnet Fizz\"],[2025,\"Dubonnet Fizz\"],[2026,\"Dubonnet Cocktail\"],[2027,\"Dubonnet Cocktail\"],[2028,\"Dubonnet Cocktail\"],[2029,\"Doctor Cook\"],[2030,\"Doctor Cook\"],[2031,\"Doctor Cook\"],[2032,\"Doctor Cook\"],[2033,\"Desert Sunrise\"],[2034,\"Desert Sunrise\"],[2035,\"Desert Sunrise\"],[2036,\"Desert Sunrise\"],[2037,\"Dillatini\"],[2038,\"Dillatini\"],[2039,\"Devil's Cocktail\"],[2040,\"Devil's Cocktail\"],[2041,\"Devil's Cocktail\"],[2042,\"Derby Fizz\"],[2043,\"Derby Fizz\"],[2044,\"Derby Fizz\"],[2045,\"Derby Fizz\"],[2046,\"Derby Fizz\"],[2047,\"Cubeltini\"],[2048,\"Cubeltini\"],[2049,\"Cubeltini\"],[2050,\"Cubeltini\"],[2051,\"Cubeltini\"],[2052,\"Crocodile Cooler\"],[2053,\"Crocodile Cooler\"],[2054,\"Crocodile Cooler\"],[2055,\"Crocodile Cooler\"],[2056,\"Crocodile Cooler\"],[2057,\"Cosmopolitan\"],[2058,\"Cosmopolitan\"],[2059,\"Cosmopolitan\"],[2060,\"Cosmopolitan\"],[2061,\"Dream Cocktail\"],[2062,\"Dream Cocktail\"],[2063,\"Dream Cocktail\"],[2064,\"Jean Lafitte Cocktail\"],[2065,\"Jean Lafitte Cocktail\"],[2066,\"Jean Lafitte Cocktail\"],[2067,\"Jean Lafitte Cocktail\"],[2068,\"Jean Lafitte Cocktail\"],[2069,\"Japanese Fizz\"],[2070,\"Japanese Fizz\"],[2071,\"Japanese Fizz\"],[2072,\"Japanese Fizz\"],[2073,\"Japanese Fizz\"],[2074,\"Citronella Cooler\"],[2075,\"Citronella Cooler\"],[2076,\"Citronella Cooler\"],[2077,\"Citronella Cooler\"],[2078,\"North Pole Cocktail\"],[2079,\"North Pole Cocktail\"],[2080,\"North Pole Cocktail\"],[2081,\"North Pole Cocktail\"],[2082,\"The Cinquecento\"],[2083,\"The Cinquecento\"],[2084,\"The Cinquecento\"],[2085,\"The Cinquecento\"],[2086,\"The Cinquecento\"],[2087,\"New Orleans Gin Fizz\"],[2088,\"New Orleans Gin Fizz\"],[2089,\"New Orleans Gin Fizz\"],[2090,\"New Orleans Gin Fizz\"],[2091,\"New Orleans Gin Fizz\"],[2092,\"New Orleans Gin Fizz\"],[2093,\"Napoleon\"],[2094,\"Napoleon\"],[2095,\"Napoleon\"],[2096,\"Zombie\"],[2097,\"Zombie\"],[2098,\"Zombie\"],[2099,\"Zombie\"],[2100,\"Zombie\"],[2101,\"Zombie\"],[2102,\"Kiss the Boys Goodbye\"],[2103,\"Kiss the Boys Goodbye\"],[2104,\"Kiss the Boys Goodbye\"],[2105,\"Kiss the Boys Goodbye\"],[2106,\"X.Y.Z. Cocktail\"],[2107,\"X.Y.Z. Cocktail\"],[2108,\"X.Y.Z. Cocktail\"],[2109,\"K.G.B. Cocktail\"],[2110,\"K.G.B. Cocktail\"],[2111,\"K.G.B. Cocktail\"],[2112,\"K.G.B. Cocktail\"],[2113,\"Eye-Opener\"],[2114,\"Eye-Opener\"],[2115,\"Eye-Opener\"],[2116,\"Eye-Opener\"],[2117,\"Eye-Opener\"],[2118,\"Eye-Opener\"],[2119,\"Wiki Waki Woo\"],[2120,\"Wiki Waki Woo\"],[2121,\"Wiki Waki Woo\"],[2122,\"Wiki Waki Woo\"],[2123,\"Wiki Waki Woo\"],[2124,\"Elk's Own Cocktail\"],[2125,\"Elk's Own Cocktail\"],[2126,\"Elk's Own Cocktail\"],[2127,\"Elk's Own Cocktail\"],[2128,\"Elk's Own Cocktail\"],[2129,\"Eggnog Supreme\"],[2130,\"Eggnog Supreme\"],[2131,\"Eggnog Supreme\"],[2132,\"Eggnog Supreme\"],[2133,\"Eggnog Supreme\"],[2134,\"Egg Sour\"],[2135,\"Egg Sour\"],[2136,\"Egg Sour\"],[2137,\"Egg Sour\"],[2138,\"Egg Sour\"],[2139,\"White Lion Cocktail\"],[2140,\"White Lion Cocktail\"],[2141,\"White Lion Cocktail\"],[2142,\"White Lion Cocktail\"],[2143,\"White Lion Cocktail\"],[2144,\"White Lily Cocktail\"],[2145,\"White Lily Cocktail\"],[2146,\"White Lily Cocktail\"],[2147,\"White Lily Cocktail\"],[2148,\"Ice Cream Flip\"],[2149,\"Ice Cream Flip\"],[2150,\"Ice Cream Flip\"],[2151,\"Outrigger\"],[2152,\"Outrigger\"],[2153,\"Outrigger\"],[2154,\"Opera Cocktail\"],[2155,\"Opera Cocktail\"],[2156,\"Opera Cocktail\"],[2157,\"Virginia Dare\"],[2158,\"Virginia Dare\"],[2159,\"Virginia Dare\"],[2160,\"Virginia Dare\"],[2161,\"Opening Cocktail\"],[2162,\"Opening Cocktail\"],[2163,\"Opening Cocktail\"],[2164,\"Queen Bee\"],[2165,\"Queen Bee\"],[2166,\"Queen Bee\"],[2167,\"Van Vleet\"],[2168,\"Van Vleet\"],[2169,\"Van Vleet\"],[2170,\"Zaza Cocktail\"],[2171,\"Zaza Cocktail\"],[2172,\"The Vacation Cocktail\"],[2173,\"The Vacation Cocktail\"],[2174,\"The Vacation Cocktail\"],[2175,\"The Vacation Cocktail\"],[2176,\"The Vacation Cocktail\"],[2177,\"Dolores\"],[2178,\"Dolores\"],[2179,\"Dolores\"],[2180,\"Dolores\"],[2181,\"Vesuvio\"],[2182,\"Vesuvio\"],[2183,\"Vesuvio\"],[2184,\"Vesuvio\"],[2185,\"Vesuvio\"],[2186,\"Urban Anxiety\"],[2187,\"Urban Anxiety\"],[2188,\"Urban Anxiety\"],[2189,\"Urban Anxiety\"],[2190,\"Virgin\"],[2191,\"Virgin\"],[2192,\"Virgin\"],[2193,\"Tropica Cocktail\"],[2194,\"Tropica Cocktail\"],[2195,\"Tropica Cocktail\"],[2196,\"Tropica Cocktail\"],[2197,\"Vermouth Cassis\"],[2198,\"Vermouth Cassis\"],[2199,\"Verboten\"],[2200,\"Verboten\"],[2201,\"Verboten\"],[2202,\"Verboten\"],[2203,\"Velvet Hammer No. 2\"],[2204,\"Velvet Hammer No. 2\"],[2205,\"Velvet Hammer No. 2\"],[2206,\"Velvet Hammer No. 1\"],[2207,\"Velvet Hammer No. 1\"],[2208,\"Velvet Hammer No. 1\"],[2209,\"Ulanda Cocktail\"],[2210,\"Ulanda Cocktail\"],[2211,\"Ulanda Cocktail\"],[2212,\"Torridora Cocktail\"],[2213,\"Torridora Cocktail\"],[2214,\"Torridora Cocktail\"],[2215,\"Torridora Cocktail\"],[2216,\"Boston Sour\"],[2217,\"Boston Sour\"],[2218,\"Boston Sour\"],[2219,\"Boston Sour\"],[2220,\"Three Miller Cocktail\"],[2221,\"Three Miller Cocktail\"],[2222,\"Three Miller Cocktail\"],[2223,\"Three Miller Cocktail\"],[2224,\"Three Miller Cocktail\"],[2225,\"Bird-of-Paradise Fizz\"],[2226,\"Bird-of-Paradise Fizz\"],[2227,\"Bird-of-Paradise Fizz\"],[2228,\"Bird-of-Paradise Fizz\"],[2229,\"Bird-of-Paradise Fizz\"],[2230,\"Biffy Cocktail\"],[2231,\"Biffy Cocktail\"],[2232,\"Biffy Cocktail\"],[2233,\"Between-The-Sheets Cocktail\"],[2234,\"Between-The-Sheets Cocktail\"],[2235,\"Between-The-Sheets Cocktail\"],[2236,\"Between-The-Sheets Cocktail\"],[2237,\"Third-Rail Cocktail\"],[2238,\"Third-Rail Cocktail\"],[2239,\"Third-Rail Cocktail\"],[2240,\"Third-Rail Cocktail\"],[2241,\"Bentley\"],[2242,\"Bentley\"],[2243,\"Tahiti Club\"],[2244,\"Tahiti Club\"],[2245,\"Tahiti Club\"],[2246,\"Tahiti Club\"],[2247,\"Tahiti Club\"],[2248,\"Barton Special\"],[2249,\"Barton Special\"],[2250,\"Barton Special\"],[2251,\"Barnaby's Buffalo Blizzard\"],[2252,\"Barnaby's Buffalo Blizzard\"],[2253,\"Barnaby's Buffalo Blizzard\"],[2254,\"Barnaby's Buffalo Blizzard\"],[2255,\"Susie Taylor\"],[2256,\"Susie Taylor\"],[2257,\"Baltimore Bracer\"],[2258,\"Baltimore Bracer\"],[2259,\"Baltimore Bracer\"],[2260,\"Bachelor's Bait Cocktail\"],[2261,\"Bachelor's Bait Cocktail\"],[2262,\"Bachelor's Bait Cocktail\"],[2263,\"Bachelor's Bait Cocktail\"],[2264,\"Bushranger\"],[2265,\"Bushranger\"],[2266,\"Bushranger\"],[2267,\"Sunset at Gowanus\"],[2268,\"Sunset at Gowanus\"],[2269,\"Sunset at Gowanus\"],[2270,\"Sunset at Gowanus\"],[2271,\"Sunset at Gowanus\"],[2272,\"Bulldog Highballl\"],[2273,\"Bulldog Highballl\"],[2274,\"Bucks Fizz (Mimosa)\"],[2275,\"Buckjones\"],[2276,\"Buckjones\"],[2277,\"Buckjones\"],[2278,\"Stormy Colada\"],[2279,\"Stormy Colada\"],[2280,\"Bronx SIlver Cocktail\"],[2281,\"Bronx SIlver Cocktail\"],[2282,\"Bronx SIlver Cocktail\"],[2283,\"Bronx SIlver Cocktail\"],[2284,\"Bronx Golden Cocktail\"],[2285,\"Bronx Golden Cocktail\"],[2286,\"Bronx Golden Cocktail\"],[2287,\"Bronx Golden Cocktail\"],[2288,\"Stone Wall\"],[2289,\"Stone Wall\"],[2290,\"Stone Wall\"],[2291,\"Stone Wall\"],[2292,\"Depth Bomb\"],[2293,\"Depth Bomb\"],[2294,\"Depth Bomb\"],[2295,\"Depth Bomb\"],[2296,\"Stone Cocktail\"],[2297,\"Stone Cocktail\"],[2298,\"Stone Cocktail\"],[2299,\"Almeria\"],[2300,\"Almeria\"],[2301,\"Almeria\"],[2302,\"Aunt Jemima\"],[2303,\"Aunt Jemima\"],[2304,\"Aunt Jemima\"],[2305,\"Spanish Town Cocktail\"],[2306,\"Spanish Town Cocktail\"],[2307,\"Apricot Lady\"],[2308,\"Apricot Lady\"],[2309,\"Apricot Lady\"],[2310,\"Apricot Lady\"],[2311,\"Apricot Lady\"],[2312,\"Apricot Anise Collins\"],[2313,\"Apricot Anise Collins\"],[2314,\"Apricot Anise Collins\"],[2315,\"Apricot Anise Collins\"],[2316,\"Apple Rum Rickey\"],[2317,\"Apple Rum Rickey\"],[2318,\"Apple Rum Rickey\"],[2319,\"Sloppy Joe's Cocktail No. 1\"],[2320,\"Sloppy Joe's Cocktail No. 1\"],[2321,\"Sloppy Joe's Cocktail No. 1\"],[2322,\"Sloppy Joe's Cocktail No. 1\"],[2323,\"Sloppy Joe's Cocktail No. 1\"],[2324,\"Applejack Punch\"],[2325,\"Applejack Punch\"],[2326,\"Applejack Punch\"],[2327,\"Applejack Punch\"],[2328,\"Brandy Flip\"],[2329,\"Brandy Flip\"],[2330,\"Brandy Flip\"],[2331,\"Brandy Flip\"],[2332,\"Sir Walter Cocktail\"],[2333,\"Sir Walter Cocktail\"],[2334,\"Sir Walter Cocktail\"],[2335,\"Sir Walter Cocktail\"],[2336,\"Sir Walter Cocktail\"],[2337,\"Saxon Cocktail\"],[2338,\"Saxon Cocktail\"],[2339,\"Saxon Cocktail\"],[2340,\"Boston Bullet\"],[2341,\"Boston Bullet\"],[2342,\"Sargasso\"],[2343,\"Sargasso\"],[2344,\"Sargasso\"],[2345,\"Sargasso\"],[2346,\"Santiago Cocktail\"],[2347,\"Santiago Cocktail\"],[2348,\"Santiago Cocktail\"],[2349,\"Santiago Cocktail\"],[2350,\"Black Velvet\"],[2351,\"Black Velvet\"],[2352,\"Saint Lucy Bracer\"],[2353,\"Saint Lucy Bracer\"],[2354,\"Saint Lucy Bracer\"],[2355,\"Saint Lucy Bracer\"],[2356,\"Applecar\"],[2357,\"Applecar\"],[2358,\"Applecar\"],[2359,\"Apple Blow Fizz\"],[2360,\"Apple Blow Fizz\"],[2361,\"Apple Blow Fizz\"],[2362,\"Apple Blow Fizz\"],[2363,\"Antoine Special\"],[2364,\"Antoine Special\"],[2365,\"Ante\"],[2366,\"Ante\"],[2367,\"Ante\"],[2368,\"S & V\"],[2369,\"S & V\"],[2370,\"S & V\"],[2371,\"S & V\"],[2372,\"Rum Toddy (Cold)\"],[2373,\"Rum Toddy (Cold)\"],[2374,\"Rum Toddy (Cold)\"],[2375,\"Rum Toddy (Cold)\"],[2376,\"Deauville Cocktail\"],[2377,\"Deauville Cocktail\"],[2378,\"Deauville Cocktail\"],[2379,\"Deauville Cocktail\"],[2380,\"Deauville Cocktail\"],[2381,\"Allies Cocktail\"],[2382,\"Allies Cocktail\"],[2383,\"Allies Cocktail\"],[2384,\"Rum Swizzle\"],[2385,\"Rum Swizzle\"],[2386,\"Rum Swizzle\"],[2387,\"Rum Swizzle\"],[2388,\"A. J.\"],[2389,\"A. J.\"],[2390,\"After Supper Cocktail\"],[2391,\"After Supper Cocktail\"],[2392,\"After Supper Cocktail\"],[2393,\"Rum Sour\"],[2394,\"Rum Sour\"],[2395,\"Rum Sour\"],[2396,\"Acapulco\"],[2397,\"Acapulco\"],[2398,\"Acapulco\"],[2399,\"Acapulco\"],[2400,\"Acapulco\"],[2401,\"Absinthe Drip Cocktail\"],[2402,\"Absinthe Drip Cocktail\"],[2403,\"Ambrosia\"],[2404,\"Ambrosia\"],[2405,\"Ambrosia\"],[2406,\"Rum Screwdriver\"],[2407,\"Rum Screwdriver\"],[2408,\"Rum Rickey\"],[2409,\"Rum Rickey\"],[2410,\"Scotch Cocktail\"],[2411,\"Scotch Cocktail\"],[2412,\"Rum Relaxer\"],[2413,\"Rum Relaxer\"],[2414,\"Rum Relaxer\"],[2415,\"Rum Old-Fashioned\"],[2416,\"Rum Old-Fashioned\"],[2417,\"Rum Old-Fashioned\"],[2418,\"Rum Old-Fashioned\"],[2419,\"Rum Martini\"],[2420,\"Rum Martini\"],[2421,\"Rum Highball\"],[2422,\"Rum Fix\"],[2423,\"Rum Fix\"],[2424,\"Rum Fix\"],[2425,\"Rum Daisy\"],[2426,\"Rum Daisy\"],[2427,\"Rum Daisy\"],[2428,\"Rum Daisy\"],[2429,\"D'artagnan\"],[2430,\"D'artagnan\"],[2431,\"D'artagnan\"],[2432,\"D'artagnan\"],[2433,\"D'artagnan\"],[2434,\"Rum Cooler\"],[2435,\"Rum Cooler\"],[2436,\"Rum Cooler\"],[2437,\"Rum Collins\"],[2438,\"Rum Collins\"],[2439,\"Rum Collins\"],[2440,\"Seaboabd\"],[2441,\"Seaboabd\"],[2442,\"Seaboabd\"],[2443,\"Seaboabd\"],[2444,\"Rum Cobbler\"],[2445,\"Rum Cobbler\"],[2446,\"Robson Cocktail\"],[2447,\"Robson Cocktail\"],[2448,\"Robson Cocktail\"],[2449,\"Robson Cocktail\"],[2450,\"Rio Fix\"],[2451,\"Rio Fix\"],[2452,\"Rio Fix\"],[2453,\"Rio Fix\"],[2454,\"Rio Fix\"],[2455,\"Ringo Starr\"],[2456,\"Ringo Starr\"],[2457,\"Ringo Starr\"],[2458,\"Ringo Starr\"],[2459,\"Ringo Starr\"],[2460,\"Restless Native\"],[2461,\"Restless Native\"],[2462,\"Restless Native\"],[2463,\"Restless Native\"],[2464,\"Quarter Deck Cocktail\"],[2465,\"Quarter Deck Cocktail\"],[2466,\"Quarter Deck Cocktail\"],[2467,\"Quaker's Cocktail\"],[2468,\"Quaker's Cocktail\"],[2469,\"Quaker's Cocktail\"],[2470,\"Quaker's Cocktail\"],[2471,\"Puerto Rican Rum Daisy\"],[2472,\"Puerto Rican Rum Daisy\"],[2473,\"Puerto Rican Rum Daisy\"],[2474,\"Puerto Rican Rum Daisy\"],[2475,\"Puerto Rican Rum Daisy\"],[2476,\"Cuban Cocktail No. 2\"],[2477,\"Cuban Cocktail No. 2\"],[2478,\"Cuban Cocktail No. 2\"],[2479,\"Cuban Cocktail No. 2\"],[2480,\"Prohibition Punch\"],[2481,\"Prohibition Punch\"],[2482,\"Prohibition Punch\"],[2483,\"Prohibition Punch\"],[2484,\"Prohibition Punch\"],[2485,\"Prohibition Punch\"],[2486,\"Prairie Oyster Cocktail\"],[2487,\"Prairie Oyster Cocktail\"],[2488,\"Prairie Oyster Cocktail\"],[2489,\"Prairie Oyster Cocktail\"],[2490,\"Prairie Oyster Cocktail\"],[2491,\"Prairie Oyster Cocktail\"],[2492,\"Poker Cocktail\"],[2493,\"Poker Cocktail\"],[2494,\"Planter's Punch No. 2\"],[2495,\"Planter's Punch No. 2\"],[2496,\"Planter's Punch No. 2\"],[2497,\"Planter's Punch No. 2\"],[2498,\"Planter's Punch No. 2\"],[2499,\"Planter's Punch No. 1\"],[2500,\"Planter's Punch No. 1\"],[2501,\"Planter's Punch No. 1\"],[2502,\"Planter's Punch No. 1\"],[2503,\"Planter's Punch No. 1\"],[2504,\"Planter's Cocktail\"],[2505,\"Planter's Cocktail\"],[2506,\"Planter's Cocktail\"],[2507,\"Pink Paradise\"],[2508,\"Pink Paradise\"],[2509,\"Pink Paradise\"],[2510,\"Pink Paradise\"],[2511,\"Pink Creole\"],[2512,\"Pink Creole\"],[2513,\"Pink Creole\"],[2514,\"Pink Creole\"],[2515,\"Pineapple Fizz\"],[2516,\"Pineapple Fizz\"],[2517,\"Pineapple Fizz\"],[2518,\"Pineapple Cocktail\"],[2519,\"Pineapple Cocktail\"],[2520,\"Pineapple Cocktail\"],[2521,\"Pearl Button\"],[2522,\"Pearl Button\"],[2523,\"Pearl Button\"],[2524,\"The Crux\"],[2525,\"The Crux\"],[2526,\"The Crux\"],[2527,\"The Crux\"],[2528,\"Paris When It Sizzles\"],[2529,\"Paris When It Sizzles\"],[2530,\"Paris When It Sizzles\"],[2531,\"Paris When It Sizzles\"],[2532,\"Palmetto Cocktail\"],[2533,\"Palmetto Cocktail\"],[2534,\"Palmetto Cocktail\"],[2535,\"Paddington\"],[2536,\"Paddington\"],[2537,\"Paddington\"],[2538,\"Paddington\"],[2539,\"Paddington\"],[2540,\"Paddington\"],[2541,\"The Old Cuban\"],[2542,\"The Old Cuban\"],[2543,\"The Old Cuban\"],[2544,\"The Old Cuban\"],[2545,\"The Old Cuban\"],[2546,\"The Old Cuban\"],[2547,\"Oh, Gosh!\"],[2548,\"Oh, Gosh!\"],[2549,\"Oh, Gosh!\"],[2550,\"Night Cap\"],[2551,\"Night Cap\"],[2552,\"New Orleans Buck\"],[2553,\"New Orleans Buck\"],[2554,\"New Orleans Buck\"],[2555,\"Nevada Cocktail\"],[2556,\"Nevada Cocktail\"],[2557,\"Nevada Cocktail\"],[2558,\"Nevada Cocktail\"],[2559,\"Nevada Cocktail\"],[2560,\"Moonquake Shake\"],[2561,\"Moonquake Shake\"],[2562,\"Moonquake Shake\"],[2563,\"Monkey Wrench\"],[2564,\"Creme De Cafe\"],[2565,\"Creme De Cafe\"],[2566,\"Creme De Cafe\"],[2567,\"Creme De Cafe\"],[2568,\"Margarita\"],[2569,\"Margarita\"],[2570,\"Margarita\"],[2571,\"Mojito\"],[2572,\"Mojito\"],[2573,\"Mojito\"],[2574,\"Mojito\"],[2575,\"Champagne Flamingo\"],[2576,\"Champagne Flamingo\"],[2577,\"Champagne Flamingo\"],[2578,\"Thunder and Lightning Cocktail\"],[2579,\"Thunder and Lightning Cocktail\"],[2580,\"Thunder and Lightning Cocktail\"],[2581,\"Casco Bay Lemonade\"],[2582,\"Casco Bay Lemonade\"],[2583,\"Casco Bay Lemonade\"],[2584,\"Casco Bay Lemonade\"],[2585,\"Caribbean Cruise\"],[2586,\"Caribbean Cruise\"],[2587,\"Caribbean Cruise\"],[2588,\"Caribbean Cruise\"],[2589,\"Caribbean Cruise\"],[2590,\"Cappuccino Cocktail\"],[2591,\"Cappuccino Cocktail\"],[2592,\"Cappuccino Cocktail\"],[2593,\"Cappuccino Cocktail\"],[2594,\"Cappuccino Cocktail\"],[2595,\"Cape Codder\"],[2596,\"Cape Codder\"],[2597,\"Cape Codder\"],[2598,\"Cape Codder\"],[2599,\"Cape Codder\"],[2600,\"Baltimore Bracer Cocktail\"],[2601,\"Baltimore Bracer Cocktail\"],[2602,\"Baltimore Bracer Cocktail\"],[2603,\"Caesar\"],[2604,\"Caesar\"],[2605,\"Caesar\"],[2606,\"Caesar\"],[2607,\"Caesar\"],[2608,\"Bull Shot\"],[2609,\"Bull Shot\"],[2610,\"Bull Shot\"],[2611,\"Bull Shot\"],[2612,\"Bull Shot\"],[2613,\"Bullfrog\"],[2614,\"Bullfrog\"],[2615,\"Boston Gold\"],[2616,\"Boston Gold\"],[2617,\"Boston Gold\"],[2618,\"Corpse Reviver No. 1\"],[2619,\"Corpse Reviver No. 1\"],[2620,\"Corpse Reviver No. 1\"],[2621,\"Thanksgiving Special Cocktail\"],[2622,\"Thanksgiving Special Cocktail\"],[2623,\"Thanksgiving Special Cocktail\"],[2624,\"Thanksgiving Special Cocktail\"],[2625,\"Tequini Cocktail\"],[2626,\"Tequini Cocktail\"],[2627,\"Tequini Cocktail\"],[2628,\"Bordeaux Cocktail\"],[2629,\"Bordeaux Cocktail\"],[2630,\"Bolshoi Punch\"],[2631,\"Bolshoi Punch\"],[2632,\"Bolshoi Punch\"],[2633,\"Bolshoi Punch\"],[2634,\"Bolshoi Punch\"],[2635,\"Blue Lagoon\"],[2636,\"Blue Lagoon\"],[2637,\"Blue Lagoon\"],[2638,\"Blue Lagoon\"],[2639,\"Stinger Cocktail\"],[2640,\"Stinger Cocktail\"],[2641,\"Bloody Mary\"],[2642,\"Bloody Mary\"],[2643,\"Bloody Mary\"],[2644,\"Bloody Mary\"],[2645,\"Bloody Mary\"],[2646,\"Spritzer Highball\"],[2647,\"Bloody Bull\"],[2648,\"Bloody Bull\"],[2649,\"Bloody Bull\"],[2650,\"The Blood Orange\"],[2651,\"The Blood Orange\"],[2652,\"Black Russian\"],[2653,\"Black Russian\"],[2654,\"Black Magic\"],[2655,\"Black Magic\"],[2656,\"Black Magic\"],[2657,\"Black Cherry Chocolate\"],[2658,\"Black Cherry Chocolate\"],[2659,\"Black Cherry Chocolate\"],[2660,\"Victor Collins\"],[2661,\"Victor Collins\"],[2662,\"Victor Collins\"],[2663,\"Victor Collins\"],[2664,\"Snowball Cocktail\"],[2665,\"Snowball Cocktail\"],[2666,\"Snowball Cocktail\"],[2667,\"Violet Fizz\"],[2668,\"Violet Fizz\"],[2669,\"Violet Fizz\"],[2670,\"Violet Fizz\"],[2671,\"Bikini\"],[2672,\"Bikini\"],[2673,\"Bikini\"],[2674,\"Bikini\"],[2675,\"Bikini\"],[2676,\"Cold Deck Cocktail\"],[2677,\"Cold Deck Cocktail\"],[2678,\"Cold Deck Cocktail\"],[2679,\"The Big Crush\"],[2680,\"The Big Crush\"],[2681,\"The Big Crush\"],[2682,\"The Big Crush\"],[2683,\"Bianca\"],[2684,\"Bianca\"],[2685,\"Bianca\"],[2686,\"Bianca\"],[2687,\"Bianca\"],[2688,\"Bianca\"],[2689,\"Bella Fragolia\"],[2690,\"Bella Fragolia\"],[2691,\"Bella Fragolia\"],[2692,\"Bella Fragolia\"],[2693,\"Bella Fragolia\"],[2694,\"Beer Buster\"],[2695,\"Beer Buster\"],[2696,\"Basil 8\"],[2697,\"Basil 8\"],[2698,\"Basil 8\"],[2699,\"Basil 8\"],[2700,\"Basil 8\"],[2701,\"Shamrock Cocktail\"],[2702,\"Shamrock Cocktail\"],[2703,\"Shamrock Cocktail\"],[2704,\"Aqueduct\"],[2705,\"Aqueduct\"],[2706,\"Aqueduct\"],[2707,\"Aqueduct\"],[2708,\"Scotch Whisky Highball\"],[2709,\"Alfie Cocktail\"],[2710,\"Alfie Cocktail\"],[2711,\"Alfie Cocktail\"],[2712,\"Admiral Perry\"],[2713,\"Admiral Perry\"],[2714,\"Admiral Perry\"],[2715,\"Admiral Perry\"],[2716,\"Yellow Rose Of Texas\"],[2717,\"Yellow Rose Of Texas\"],[2718,\"Yellow Rose Of Texas\"],[2719,\"Yellow Rose Of Texas\"],[2720,\"Yellow Rose Of Texas\"],[2721,\"St. Patrick's Day Cocktail\"],[2722,\"St. Patrick's Day Cocktail\"],[2723,\"St. Patrick's Day Cocktail\"],[2724,\"St. Patrick's Day Cocktail\"],[2725,\"Purple Twister\"],[2726,\"Waiting On Summer\"],[2727,\"Waiting On Summer\"],[2728,\"Waiting On Summer\"],[2729,\"Waiting On Summer\"],[2730,\"Waiting On Summer\"],[2731,\"Waiting On Summer\"],[2732,\"Cognac Highball\"],[2733,\"Prince's Smile Cocktail\"],[2734,\"Prince's Smile Cocktail\"],[2735,\"Prince's Smile Cocktail\"],[2736,\"Prince's Smile Cocktail\"],[2737,\"Viva Villa\"],[2738,\"Viva Villa\"],[2739,\"Viva Villa\"],[2740,\"Viva Villa\"],[2741,\"Praire Oyster Cocktail\"],[2742,\"Praire Oyster Cocktail\"],[2743,\"Praire Oyster Cocktail\"],[2744,\"Praire Oyster Cocktail\"],[2745,\"Praire Oyster Cocktail\"],[2746,\"Praire Chicken\"],[2747,\"Praire Chicken\"],[2748,\"Venial Sin\"],[2749,\"Venial Sin\"],[2750,\"Venial Sin\"],[2751,\"Venial Sin\"],[2752,\"Venial Sin\"],[2753,\"Vagabundo\"],[2754,\"Vagabundo\"],[2755,\"Vagabundo\"],[2756,\"Vagabundo\"],[2757,\"The 21st Century\"],[2758,\"The 21st Century\"],[2759,\"The 21st Century\"],[2760,\"The 21st Century\"],[2761,\"The 21st Century\"],[2762,\"Pollyanna Cocktail\"],[2763,\"Pollyanna Cocktail\"],[2764,\"Pollyanna Cocktail\"],[2765,\"Pollyanna Cocktail\"],[2766,\"Toreador\"],[2767,\"Toreador\"],[2768,\"Toreador\"],[2769,\"Pink Squirrel Cocktail\"],[2770,\"Pink Squirrel Cocktail\"],[2771,\"Pink Squirrel Cocktail\"],[2772,\"Pink Lady Cocktail\"],[2773,\"Pink Lady Cocktail\"],[2774,\"Pink Lady Cocktail\"],[2775,\"Pink Lady Cocktail\"],[2776,\"Tijuana Taxi\"],[2777,\"Tijuana Taxi\"],[2778,\"Tijuana Taxi\"],[2779,\"Tia Juanathan\"],[2780,\"Tia Juanathan\"],[2781,\"Tia Juanathan\"],[2782,\"Tia Juanathan\"],[2783,\"Phoebe Snow Cocktail\"],[2784,\"Phoebe Snow Cocktail\"],[2785,\"Phoebe Snow Cocktail\"],[2786,\"Tequonic\"],[2787,\"Tequonic\"],[2788,\"Tequini\"],[2789,\"Tequini\"],[2790,\"Tequini\"],[2791,\"Passion Daiquiri Cocktail\"],[2792,\"Passion Daiquiri Cocktail\"],[2793,\"Passion Daiquiri Cocktail\"],[2794,\"Passion Daiquiri Cocktail\"],[2795,\"Parisian Blonde Cocktail\"],[2796,\"Parisian Blonde Cocktail\"],[2797,\"Parisian Blonde Cocktail\"],[2798,\"Tequila Sunrise\"],[2799,\"Tequila Sunrise\"],[2800,\"Tequila Sunrise\"],[2801,\"Coffee Grasshopper\"],[2802,\"Coffee Grasshopper\"],[2803,\"Coffee Grasshopper\"],[2804,\"Tequila Straight\"],[2805,\"Tequila Straight\"],[2806,\"Tequila Straight\"],[2807,\"Tequila Sour\"],[2808,\"Tequila Sour\"],[2809,\"Tequila Sour\"],[2810,\"Tequila Smash\"],[2811,\"Tequila Smash\"],[2812,\"Tequila Smash\"],[2813,\"Tequila Smash\"],[2814,\"Tequila Smash\"],[2815,\"Tequila Pink\"],[2816,\"Tequila Pink\"],[2817,\"Tequila Pink\"],[2818,\"Tequila Old-Fashioned\"],[2819,\"Tequila Old-Fashioned\"],[2820,\"Tequila Old-Fashioned\"],[2821,\"Tequila Old-Fashioned\"],[2822,\"Rob Roy Cocktail\"],[2823,\"Rob Roy Cocktail\"],[2824,\"Tequila Mockingbird\"],[2825,\"Tequila Mockingbird\"],[2826,\"Tequila Mockingbird\"],[2827,\"Tequila Mockingbird\"],[2828,\"Tequila Mockingbird\"],[2829,\"Tequila Matador\"],[2830,\"Tequila Matador\"],[2831,\"Tequila Matador\"],[2832,\"Tequila Manhattan\"],[2833,\"Tequila Manhattan\"],[2834,\"Tequila Manhattan\"],[2835,\"T.N.T. Cocktail\"],[2836,\"T.N.T. Cocktail\"],[2837,\"Thunderclap Cocktail\"],[2838,\"Thunderclap Cocktail\"],[2839,\"Thunderclap Cocktail\"],[2840,\"Thunder Cocktail\"],[2841,\"Thunder Cocktail\"],[2842,\"Thunder Cocktail\"],[2843,\"Thunder Cocktail\"],[2844,\"Tequila Collins\"],[2845,\"Tequila Collins\"],[2846,\"Tequila Collins\"],[2847,\"White Lady Cocktail\"],[2848,\"White Lady Cocktail\"],[2849,\"White Lady Cocktail\"],[2850,\"White Lady Cocktail\"],[2851,\"Tequila Canyon\"],[2852,\"Tequila Canyon\"],[2853,\"Tequila Canyon\"],[2854,\"Tequila Canyon\"],[2855,\"Tequila Canyon\"],[2856,\"Chicago Cocktail\"],[2857,\"Chicago Cocktail\"],[2858,\"Chicago Cocktail\"],[2859,\"Chicago Cocktail\"],[2860,\"Chicago Cocktail\"],[2861,\"Sunday Confession\"],[2862,\"Sunday Confession\"],[2863,\"Sunday Confession\"],[2864,\"Strawberry Margarita\"],[2865,\"Strawberry Margarita\"],[2866,\"Strawberry Margarita\"],[2867,\"Strawberry Margarita\"],[2868,\"Strawberry Margarita\"],[2869,\"Strawberry Margarita\"],[2870,\"Western Rose Cocktail\"],[2871,\"Western Rose Cocktail\"],[2872,\"Western Rose Cocktail\"],[2873,\"Western Rose Cocktail\"],[2874,\"Widow's Kiss Cocktail\"],[2875,\"Widow's Kiss Cocktail\"],[2876,\"Widow's Kiss Cocktail\"],[2877,\"Widow's Kiss Cocktail\"],[2878,\"Spice Of Life\"],[2879,\"Spice Of Life\"],[2880,\"Spice Of Life\"],[2881,\"Spice Of Life\"],[2882,\"Spice Of Life\"],[2883,\"Widow's Dream Cocktail\"],[2884,\"Widow's Dream Cocktail\"],[2885,\"Vodka Gypsy Cocktail\"],[2886,\"Vodka Gypsy Cocktail\"],[2887,\"Vodka Gypsy Cocktail\"],[2888,\"South Of The Border\"],[2889,\"South Of The Border\"],[2890,\"South Of The Border\"],[2891,\"Vodka Grasshopper Cocktail\"],[2892,\"Vodka Grasshopper Cocktail\"],[2893,\"Vodka Grasshopper Cocktail\"],[2894,\"Violet Fizz Juice\"],[2895,\"Violet Fizz Juice\"],[2896,\"Violet Fizz Juice\"],[2897,\"Violet Fizz Juice\"],[2898,\"Smoked Margarita\"],[2899,\"Smoked Margarita\"],[2900,\"Smoked Margarita\"],[2901,\"Smoked Margarita\"],[2902,\"Smoked Margarita\"],[2903,\"Sloe Tequila\"],[2904,\"Sloe Tequila\"],[2905,\"Sloe Tequila\"],[2906,\"Queen Elizabeth Cocktail\"],[2907,\"Queen Elizabeth Cocktail\"],[2908,\"Queen Elizabeth Cocktail\"],[2909,\"Silk Stockings\"],[2910,\"Silk Stockings\"],[2911,\"Silk Stockings\"],[2912,\"Silk Stockings\"],[2913,\"Orchid Cocktail\"],[2914,\"Orchid Cocktail\"],[2915,\"Orchid Cocktail\"],[2916,\"Orange Milk Fizz\"],[2917,\"Orange Milk Fizz\"],[2918,\"Orange Milk Fizz\"],[2919,\"Orange Milk Fizz\"],[2920,\"Orange Gin Rickey\"],[2921,\"Orange Gin Rickey\"],[2922,\"Orange Gin Highball\"],[2923,\"Orange Gin Fizz\"],[2924,\"Orange Gin Fizz\"],[2925,\"Orange Gin Fizz\"],[2926,\"Orange Gin Collins\"],[2927,\"Orange Gin Collins\"],[2928,\"Sidewinder\"],[2929,\"Sidewinder\"],[2930,\"Sidewinder\"],[2931,\"Sidewinder\"],[2932,\"Sidewinder\"],[2933,\"Sidewinder\"],[2934,\"Orange Blossom Cocktail\"],[2935,\"Orange Blossom Cocktail\"],[2936,\"Orange Blossom Cocktail\"],[2937,\"Shady Lady\"],[2938,\"Shady Lady\"],[2939,\"Shady Lady\"],[2940,\"Shady Lady\"],[2941,\"Cherry Blossom\"],[2942,\"Cherry Blossom\"],[2943,\"Cherry Blossom\"],[2944,\"Cherry Blossom\"],[2945,\"Cherry Blossom\"],[2946,\"The Sfozando\"],[2947,\"The Sfozando\"],[2948,\"The Sfozando\"],[2949,\"The Sfozando\"],[2950,\"The Sfozando\"],[2951,\"Napoleon Cocktail\"],[2952,\"Napoleon Cocktail\"],[2953,\"Napoleon Cocktail\"],[2954,\"Moulin Rouge Cocktail\"],[2955,\"Moulin Rouge Cocktail\"],[2956,\"Moulin Rouge Cocktail\"],[2957,\"Sea Of Cortez\"],[2958,\"Sea Of Cortez\"],[2959,\"Sea Of Cortez\"],[2960,\"Sea Of Cortez\"],[2961,\"Satin Sheets\"],[2962,\"Satin Sheets\"],[2963,\"Satin Sheets\"],[2964,\"Satin Sheets\"],[2965,\"Santana Sling\"],[2966,\"Santana Sling\"],[2967,\"Santana Sling\"],[2968,\"Santana Sling\"],[2969,\"Santana Sling\"],[2970,\"Rosita\"],[2971,\"Rosita\"],[2972,\"Rosita\"],[2973,\"Rosita\"],[2974,\"Rosita\"],[2975,\"Mariposa Cocktail\"],[2976,\"Mariposa Cocktail\"],[2977,\"Mariposa Cocktail\"],[2978,\"Mariposa Cocktail\"],[2979,\"Mariposa Cocktail\"],[2980,\"Margarita Cocktail\"],[2981,\"Margarita Cocktail\"],[2982,\"Margarita Cocktail\"],[2983,\"The Refuge\"],[2984,\"The Refuge\"],[2985,\"The Refuge\"],[2986,\"The Refuge\"],[2987,\"The Refuge\"],[2988,\"Manhattan Cocktail (dry)\"],[2989,\"Manhattan Cocktail (dry)\"],[2990,\"Mamie Taylor\"],[2991,\"Mamie Taylor\"],[2992,\"Quetzalcoatl\"],[2993,\"Quetzalcoatl\"],[2994,\"Quetzalcoatl\"],[2995,\"Quetzalcoatl\"],[2996,\"Quetzalcoatl\"],[2997,\"Zero Mint\"],[2998,\"Purple Pancho\"],[2999,\"Purple Pancho\"],[3000,\"Purple Pancho\"],[3001,\"Purple Pancho\"],[3002,\"Purple Pancho\"],[3003,\"Purple Pancho\"],[3004,\"Midnight Express\"],[3005,\"Midnight Express\"],[3006,\"Midnight Express\"],[3007,\"Midnight Express\"],[3008,\"Midnight Express\"],[3009,\"London Special Cocktail\"],[3010,\"Mary Pickford Cocktail\"],[3011,\"Mary Pickford Cocktail\"],[3012,\"Mary Pickford Cocktail\"],[3013,\"Mary Pickford Cocktail\"],[3014,\"Charles Cocktail\"],[3015,\"Charles Cocktail\"],[3016,\"Charles Cocktail\"],[3017,\"Martinique Rose\"],[3018,\"Martinique Rose\"],[3019,\"Martinique Rose\"],[3020,\"Martinique Rose\"],[3021,\"Martinique Rose\"],[3022,\"Mariposa\"],[3023,\"Mariposa\"],[3024,\"Mariposa\"],[3025,\"Mariposa\"],[3026,\"Mariposa\"],[3027,\"Mandeville\"],[3028,\"Mandeville\"],[3029,\"Mandeville\"],[3030,\"Mandeville\"],[3031,\"Mandeville\"],[3032,\"K.C.B. Cocktail\"],[3033,\"K.C.B. Cocktail\"],[3034,\"K.C.B. Cocktail\"],[3035,\"K.C.B. Cocktail\"],[3036,\"Malmaison\"],[3037,\"Malmaison\"],[3038,\"Malmaison\"],[3039,\"Mai-Tai (Trader Vic Version)\"],[3040,\"Mai-Tai (Trader Vic Version)\"],[3041,\"Mai-Tai (Trader Vic Version)\"],[3042,\"Mai-Tai (Trader Vic Version)\"],[3043,\"Mai-Tai (Trader Vic Version)\"],[3044,\"Jersey Lightning Cocktail\"],[3045,\"Jersey Lightning Cocktail\"],[3046,\"Jersey Lightning Cocktail\"],[3047,\"Lumination\"],[3048,\"Lumination\"],[3049,\"Lumination\"],[3050,\"Lumination\"],[3051,\"Lumination\"],[3052,\"Jamaica Glow Cocktail\"],[3053,\"Jamaica Glow Cocktail\"],[3054,\"Jamaica Glow Cocktail\"],[3055,\"Jamaica Glow Cocktail\"],[3056,\"Lounge Lizard\"],[3057,\"Lounge Lizard\"],[3058,\"Jack-in-the-Box Cocktail\"],[3059,\"Jack-in-the-Box Cocktail\"],[3060,\"Jack-in-the-Box Cocktail\"],[3061,\"Irish Whisky Cocktail\"],[3062,\"Irish Whisky Cocktail\"],[3063,\"Irish Whisky Cocktail\"],[3064,\"Irish Whisky Cocktail\"],[3065,\"Irish Whisky Cocktail\"],[3066,\"Look Out Below\"],[3067,\"Look Out Below\"],[3068,\"Look Out Below\"],[3069,\"Little Princess Cocktail\"],[3070,\"Little Princess Cocktail\"],[3071,\"Little Devil Cocktail\"],[3072,\"Little Devil Cocktail\"],[3073,\"Little Devil Cocktail\"],[3074,\"Little Devil Cocktail\"],[3075,\"Champs Elysees Cocktail\"],[3076,\"Champs Elysees Cocktail\"],[3077,\"Champs Elysees Cocktail\"],[3078,\"Champs Elysees Cocktail\"],[3079,\"Champs Elysees Cocktail\"],[3080,\"Hop Toad Cocktail\"],[3081,\"Hop Toad Cocktail\"],[3082,\"Hop Toad Cocktail\"],[3083,\"Level headed Cocktail\"],[3084,\"Level headed Cocktail\"],[3085,\"Level headed Cocktail\"],[3086,\"Level headed Cocktail\"],[3087,\"Level headed Cocktail\"],[3088,\"La Vita Dulce\"],[3089,\"La Vita Dulce\"],[3090,\"La Vita Dulce\"],[3091,\"La Vita Dulce\"],[3092,\"Hole-in-One Cocktail\"],[3093,\"Hole-in-One Cocktail\"],[3094,\"Hole-in-One Cocktail\"],[3095,\"Hole-in-One Cocktail\"],[3096,\"Ko Adang\"],[3097,\"Ko Adang\"],[3098,\"Ko Adang\"],[3099,\"Ko Adang\"],[3100,\"Ko Adang\"],[3101,\"Ko Adang\"],[3102,\"Knickerbocker Special Cocktail\"],[3103,\"Knickerbocker Special Cocktail\"],[3104,\"Knickerbocker Special Cocktail\"],[3105,\"Knickerbocker Special Cocktail\"],[3106,\"Knickerbocker Special Cocktail\"],[3107,\"Hair Raiser Cocktail\"],[3108,\"Hair Raiser Cocktail\"],[3109,\"Hair Raiser Cocktail\"],[3110,\"Green Opal Cocktail\"],[3111,\"Green Opal Cocktail\"],[3112,\"Green Opal Cocktail\"],[3113,\"Jamaican Ginger\"],[3114,\"Jamaican Ginger\"],[3115,\"Jamaican Ginger\"],[3116,\"Jamaican Ginger\"],[3117,\"Jamaican Ginger\"],[3118,\"Green Dragon Cocktail\"],[3119,\"Green Dragon Cocktail\"],[3120,\"Green Dragon Cocktail\"],[3121,\"Green Dragon Cocktail\"],[3122,\"Green Dragon Cocktail\"],[3123,\"Grasshopper Cocktail\"],[3124,\"Grasshopper Cocktail\"],[3125,\"Grasshopper Cocktail\"],[3126,\"Jamaican Crawler\"],[3127,\"Jamaican Crawler\"],[3128,\"Jamaican Crawler\"],[3129,\"Jamaican Crawler\"],[3130,\"Golden Slipper Cocktail\"],[3131,\"Golden Slipper Cocktail\"],[3132,\"Jade\"],[3133,\"Jade\"],[3134,\"Jade\"],[3135,\"Jade\"],[3136,\"Jade\"],[3137,\"Jacqueline\"],[3138,\"Jacqueline\"],[3139,\"Jacqueline\"],[3140,\"Jacqueline\"],[3141,\"Jack Sparrow Flip\"],[3142,\"Jack Sparrow Flip\"],[3143,\"Jack Sparrow Flip\"],[3144,\"Jack Sparrow Flip\"],[3145,\"Jack Sparrow Flip\"],[3146,\"Irresistible\"],[3147,\"Irresistible\"],[3148,\"Irresistible\"],[3149,\"Irresistible\"],[3150,\"Carroll Cocktail\"],[3151,\"Carroll Cocktail\"],[3152,\"Hush and Wonder\"],[3153,\"Hush and Wonder\"],[3154,\"Hush and Wonder\"],[3155,\"Hush and Wonder\"],[3156,\"Hush and Wonder\"],[3157,\"Hurricane Leah\"],[3158,\"Hurricane Leah\"],[3159,\"Hurricane Leah\"],[3160,\"Hurricane Leah\"],[3161,\"Hurricane Leah\"],[3162,\"Gimlet Cocktail\"],[3163,\"Gimlet Cocktail\"],[3164,\"Gimlet Cocktail\"],[3165,\"Hurricane\"],[3166,\"Hurricane\"],[3167,\"Hurricane\"],[3168,\"Hurricane\"],[3169,\"Hurricane\"],[3170,\"Hop Toad\"],[3171,\"Hop Toad\"],[3172,\"Hop Toad\"],[3173,\"The Holy Roller\"],[3174,\"The Holy Roller\"],[3175,\"The Holy Roller\"],[3176,\"The Holy Roller\"],[3177,\"The Holy Roller\"],[3178,\"Hemingway's Nog\"],[3179,\"Hemingway's Nog\"],[3180,\"Hemingway's Nog\"],[3181,\"Hemingway's Nog\"],[3182,\"Hemingway's Nog\"],[3183,\"Flying Scotchman Cocktail\"],[3184,\"Flying Scotchman Cocktail\"],[3185,\"Flying Scotchman Cocktail\"],[3186,\"Flying Scotchman Cocktail\"],[3187,\"Flying Grasshopper Cocktail\"],[3188,\"Flying Grasshopper Cocktail\"],[3189,\"Flying Grasshopper Cocktail\"],[3190,\"Havana Cocktail\"],[3191,\"Havana Cocktail\"],[3192,\"Havana Cocktail\"],[3193,\"Harvest Nectar\"],[3194,\"Harvest Nectar\"],[3195,\"Harvest Nectar\"],[3196,\"Harvest Nectar\"],[3197,\"Harvest Nectar\"],[3198,\"Fancy Brandy Cocktail\"],[3199,\"Fancy Brandy Cocktail\"],[3200,\"Fancy Brandy Cocktail\"],[3201,\"Fancy Brandy Cocktail\"],[3202,\"Fallen Angel Cocktail\"],[3203,\"Fallen Angel Cocktail\"],[3204,\"Fallen Angel Cocktail\"],[3205,\"Fallen Angel Cocktail\"],[3206,\"The Poncho\"],[3207,\"The Poncho\"],[3208,\"The Poncho\"],[3209,\"The Poncho\"],[3210,\"Hai Karate\"],[3211,\"Hai Karate\"],[3212,\"Hai Karate\"],[3213,\"Hai Karate\"],[3214,\"Hai Karate\"],[3215,\"Hai Karate\"],[3216,\"Cara Sposa\"],[3217,\"Cara Sposa\"],[3218,\"Cara Sposa\"],[3219,\"Traditional Martini (Dry)\"],[3220,\"Traditional Martini (Dry)\"],[3221,\"Traditional Martini (Dry)\"],[3222,\"Pina Agave\"],[3223,\"Pina Agave\"],[3224,\"Pina Agave\"],[3225,\"Pina Agave\"],[3226,\"Pina Agave\"],[3227,\"Grande Guignol\"],[3228,\"Grande Guignol\"],[3229,\"Grande Guignol\"],[3230,\"Grande Guignol\"],[3231,\"Pancho Villa\"],[3232,\"Pancho Villa\"],[3233,\"Pancho Villa\"],[3234,\"Pancho Villa\"],[3235,\"Paloma (Natural)\"],[3236,\"Paloma (Natural)\"],[3237,\"Golden Friendship\"],[3238,\"Golden Friendship\"],[3239,\"Golden Friendship\"],[3240,\"Paloma\"],[3241,\"Pacific Sunshine\"],[3242,\"Pacific Sunshine\"],[3243,\"Pacific Sunshine\"],[3244,\"Pacific Sunshine\"],[3245,\"Pacific Sunshine\"],[3246,\"Pacific Sunshine\"],[3247,\"Golden Eclipse\"],[3248,\"Golden Eclipse\"],[3249,\"Golden Eclipse\"],[3250,\"Golden Eclipse\"],[3251,\"Golden Eclipse\"],[3252,\"Diplomat Cocktail\"],[3253,\"Diplomat Cocktail\"],[3254,\"Diplomat Cocktail\"],[3255,\"Diplomat Cocktail\"],[3256,\"Oldest Temptation\"],[3257,\"Oldest Temptation\"],[3258,\"Oldest Temptation\"],[3259,\"Oldest Temptation\"],[3260,\"Oldest Temptation\"],[3261,\"Oldest Temptation\"],[3262,\"Ginger Grapefruit Rickey\"],[3263,\"Ginger Grapefruit Rickey\"],[3264,\"Ginger Grapefruit Rickey\"],[3265,\"Ginger Grapefruit Rickey\"],[3266,\"Calvados Cocktail\"],[3267,\"Calvados Cocktail\"],[3268,\"Calvados Cocktail\"],[3269,\"Calvados Cocktail\"],[3270,\"Daiquiri Cocktail\"],[3271,\"Daiquiri Cocktail\"],[3272,\"Daiquiri Cocktail\"],[3273,\"The Oaxaca Old-Fashioned\"],[3274,\"The Oaxaca Old-Fashioned\"],[3275,\"The Oaxaca Old-Fashioned\"],[3276,\"The Oaxaca Old-Fashioned\"],[3277,\"Cuban Special Cocktail\"],[3278,\"Cuban Special Cocktail\"],[3279,\"Cuban Special Cocktail\"],[3280,\"Cuban Special Cocktail\"],[3281,\"Gaugin\"],[3282,\"Gaugin\"],[3283,\"Gaugin\"],[3284,\"Gaugin\"],[3285,\"The Nomad South\"],[3286,\"The Nomad South\"],[3287,\"The Nomad South\"],[3288,\"The Nomad South\"],[3289,\"The Nomad South\"],[3290,\"The Nomad South\"],[3291,\"Creole Lady Cocktail\"],[3292,\"Creole Lady Cocktail\"],[3293,\"Creole Lady Cocktail\"],[3294,\"No. 8\"],[3295,\"No. 8\"],[3296,\"No. 8\"],[3297,\"No. 8\"],[3298,\"Fog Cutter\"],[3299,\"Fog Cutter\"],[3300,\"Fog Cutter\"],[3301,\"Fog Cutter\"],[3302,\"Fog Cutter\"],[3303,\"Fog Cutter\"],[3304,\"Mexicola\"],[3305,\"Mexicola\"],[3306,\"Floridita No. 3\"],[3307,\"Floridita No. 3\"],[3308,\"Floridita No. 3\"],[3309,\"Floridita No. 3\"],[3310,\"Floridita No. 3\"],[3311,\"Mexican Monk\"],[3312,\"Mexican Monk\"],[3313,\"Mexican Monk\"],[3314,\"Mexican Monk\"],[3315,\"Floridita No. 1\"],[3316,\"Floridita No. 1\"],[3317,\"Floridita No. 1\"],[3318,\"Floridita No. 1\"],[3319,\"Floridita No. 1\"],[3320,\"Mexican Madras\"],[3321,\"Mexican Madras\"],[3322,\"Mexican Madras\"],[3323,\"Mexican Madras\"],[3324,\"Cadiz\"],[3325,\"Cadiz\"],[3326,\"Cadiz\"],[3327,\"Cadiz\"],[3328,\"Chocolate Soldier Cocktail\"],[3329,\"Chocolate Soldier Cocktail\"],[3330,\"Chocolate Soldier Cocktail\"],[3331,\"Fireman's Sour\"],[3332,\"Fireman's Sour\"],[3333,\"Fireman's Sour\"],[3334,\"Fireman's Sour\"],[3335,\"Fat Like Buddha\"],[3336,\"Fat Like Buddha\"],[3337,\"Fat Like Buddha\"],[3338,\"Fat Like Buddha\"],[3339,\"Cherry Blossom Cocktail\"],[3340,\"Cherry Blossom Cocktail\"],[3341,\"Cherry Blossom Cocktail\"],[3342,\"Cherry Blossom Cocktail\"],[3343,\"Cherry Blossom Cocktail\"],[3344,\"Fair-and-Warmer Cocktail\"],[3345,\"Fair-and-Warmer Cocktail\"],[3346,\"Fair-and-Warmer Cocktail\"],[3347,\"Chelsea Sidecar Cocktail\"],[3348,\"Chelsea Sidecar Cocktail\"],[3349,\"Chelsea Sidecar Cocktail\"],[3350,\"Mexican Firing Squad\"],[3351,\"Mexican Firing Squad\"],[3352,\"Mexican Firing Squad\"],[3353,\"Mexican Firing Squad\"],[3354,\"Mexican Firing Squad\"],[3355,\"Mexicana\"],[3356,\"Mexicana\"],[3357,\"Mexicana\"],[3358,\"Mexicana\"],[3359,\"El Presidente Cocktail No. 2\"],[3360,\"El Presidente Cocktail No. 2\"],[3361,\"El Presidente Cocktail No. 2\"],[3362,\"Margarita Tequila\"],[3363,\"Margarita Tequila\"],[3364,\"Margarita Tequila\"],[3365,\"Lillypad\"],[3366,\"Lillypad\"],[3367,\"Lillypad\"],[3368,\"Lillypad\"],[3369,\"Lillypad\"],[3370,\"X. Y. Z. Cocktail\"],[3371,\"X. Y. Z. Cocktail\"],[3372,\"X. Y. Z. Cocktail\"],[3373,\"La Ultima Palabra\"],[3374,\"La Ultima Palabra\"],[3375,\"La Ultima Palabra\"],[3376,\"La Ultima Palabra\"],[3377,\"La Ultima Palabra\"],[3378,\"La Perla\"],[3379,\"La Perla\"],[3380,\"La Perla\"],[3381,\"Bull's Milk\"],[3382,\"Bull's Milk\"],[3383,\"Bull's Milk\"],[3384,\"Bull's Milk\"],[3385,\"La Bomba\"],[3386,\"La Bomba\"],[3387,\"La Bomba\"],[3388,\"La Bomba\"],[3389,\"La Bomba\"],[3390,\"Jinx Cocktail\"],[3391,\"Jinx Cocktail\"],[3392,\"Jinx Cocktail\"],[3393,\"Jinx Cocktail\"],[3394,\"The Interesting Cocktail\"],[3395,\"The Interesting Cocktail\"],[3396,\"The Interesting Cocktail\"],[3397,\"The Interesting Cocktail\"],[3398,\"The Interesting Cocktail\"],[3399,\"Hot Pants\"],[3400,\"Hot Pants\"],[3401,\"Hot Pants\"],[3402,\"Hot Pants\"],[3403,\"High Plains Drifter No. 1\"],[3404,\"High Plains Drifter No. 1\"],[3405,\"High Plains Drifter No. 1\"],[3406,\"High Plains Drifter No. 1\"],[3407,\"High Plains Drifter No. 1\"],[3408,\"Hairy Sunrise\"],[3409,\"Hairy Sunrise\"],[3410,\"Hairy Sunrise\"],[3411,\"Hairy Sunrise\"],[3412,\"Hairy Sunrise\"],[3413,\"Guadalajara\"],[3414,\"Guadalajara\"],[3415,\"Guadalajara\"],[3416,\"Frostbite\"],[3417,\"Frostbite\"],[3418,\"Frostbite\"],[3419,\"Flower Power\"],[3420,\"Flower Power\"],[3421,\"Flower Power\"],[3422,\"Flower Power\"],[3423,\"Flower Power\"],[3424,\"Flower Power\"],[3425,\"Cablegram Highball\"],[3426,\"Cablegram Highball\"],[3427,\"Cablegram Highball\"],[3428,\"Cabaret Cocktail\"],[3429,\"Cabaret Cocktail\"],[3430,\"Cabaret Cocktail\"],[3431,\"Cabaret Cocktail\"],[3432,\"Bulla's Eye\"],[3433,\"Bulla's Eye\"],[3434,\"El Oso (The Bear)\"],[3435,\"El Oso (The Bear)\"],[3436,\"El Oso (The Bear)\"],[3437,\"El Oso (The Bear)\"],[3438,\"El Ni_o\"],[3439,\"El Ni_o\"],[3440,\"El Ni_o\"],[3441,\"El Ni_o\"],[3442,\"El Ni_o\"],[3443,\"El Molino\"],[3444,\"El Molino\"],[3445,\"El Molino\"],[3446,\"El Molino\"],[3447,\"Bucks Fizz\"],[3448,\"Dirty Daisy\"],[3449,\"Dirty Daisy\"],[3450,\"Dirty Daisy\"],[3451,\"Dirty Daisy\"],[3452,\"Dirty Daisy\"],[3453,\"Diablo\"],[3454,\"Diablo\"],[3455,\"Diablo\"],[3456,\"Count Camillo's Paloma\"],[3457,\"Count Camillo's Paloma\"],[3458,\"Count Camillo's Paloma\"],[3459,\"Count Camillo's Paloma\"],[3460,\"Company B\"],[3461,\"Company B\"],[3462,\"Company B\"],[3463,\"Company B\"],[3464,\"Company B\"],[3465,\"Company B\"],[3466,\"Chupa Cabra\"],[3467,\"Chupa Cabra\"],[3468,\"Chupa Cabra\"],[3469,\"Chupa Cabra\"],[3470,\"Chupa Cabra\"],[3471,\"Chupa Cabra\"],[3472,\"Chinchona\"],[3473,\"Chinchona\"],[3474,\"Chinchona\"],[3475,\"Chinchona\"],[3476,\"Chapala\"],[3477,\"Chapala\"],[3478,\"Chapala\"],[3479,\"Chapala\"],[3480,\"Bulldog Cocktail\"],[3481,\"Bulldog Cocktail\"],[3482,\"Bulldog Cocktail\"],[3483,\"Boston Sidecar Cocktail\"],[3484,\"Boston Sidecar Cocktail\"],[3485,\"Boston Sidecar Cocktail\"],[3486,\"Boston Sidecar Cocktail\"],[3487,\"Catalina Margarita\"],[3488,\"Catalina Margarita\"],[3489,\"Catalina Margarita\"],[3490,\"Catalina Margarita\"],[3491,\"Catalina Margarita\"],[3492,\"Camino Del Ray\"],[3493,\"Camino Del Ray\"],[3494,\"Camino Del Ray\"],[3495,\"Camino Del Ray\"],[3496,\"Cactus Berry\"],[3497,\"Cactus Berry\"],[3498,\"Cactus Berry\"],[3499,\"Cactus Berry\"],[3500,\"Cactus Berry\"],[3501,\"Bolero Cocktail\"],[3502,\"Bolero Cocktail\"],[3503,\"Bolero Cocktail\"],[3504,\"Bum's Rush\"],[3505,\"Bum's Rush\"],[3506,\"Bum's Rush\"],[3507,\"Bum's Rush\"],[3508,\"Bum's Rush\"],[3509,\"Brave Bull\"],[3510,\"Brave Bull\"],[3511,\"Blue Margarita\"],[3512,\"Blue Margarita\"],[3513,\"Blue Margarita\"],[3514,\"Blue Margarita\"],[3515,\"Bloody Maria\"],[3516,\"Bloody Maria\"],[3517,\"Bloody Maria\"],[3518,\"Bloody Maria\"],[3519,\"Bloody Maria\"],[3520,\"Pineapple Dream Cocktail\"],[3521,\"Pineapple Dream Cocktail\"],[3522,\"Pineapple Dream Cocktail\"],[3523,\"Big Red Hooter\"],[3524,\"Big Red Hooter\"],[3525,\"Big Red Hooter\"],[3526,\"Big Red Hooter\"],[3527,\"Blood Bronx Cocktail\"],[3528,\"Blood Bronx Cocktail\"],[3529,\"Blood Bronx Cocktail\"],[3530,\"Bravo\"],[3531,\"Bravo\"],[3532,\"Bravo\"],[3533,\"Bravo\"],[3534,\"Amante Picante\"],[3535,\"Amante Picante\"],[3536,\"Amante Picante\"],[3537,\"Amante Picante\"],[3538,\"Amante Picante\"],[3539,\"Amante Picante\"],[3540,\"Brunswick Street Cocktail\"],[3541,\"Brunswick Street Cocktail\"],[3542,\"Brunswick Street Cocktail\"],[3543,\"Black Hawk Cocktail\"],[3544,\"Black Hawk Cocktail\"],[3545,\"Alamo Splash\"],[3546,\"Alamo Splash\"],[3547,\"Alamo Splash\"],[3548,\"Alamo Splash\"],[3549,\"Betsy Ross Cocktail\"],[3550,\"Betsy Ross Cocktail\"],[3551,\"Betsy Ross Cocktail\"],[3552,\"Betsy Ross Cocktail\"],[3553,\"Bermuda Rose Cocktail\"],[3554,\"Bermuda Rose Cocktail\"],[3555,\"Bermuda Rose Cocktail\"],[3556,\"Yokahama Romance\"],[3557,\"Yokahama Romance\"],[3558,\"Yokahama Romance\"],[3559,\"Yokahama Romance\"],[3560,\"Yale Cocktail\"],[3561,\"Yale Cocktail\"],[3562,\"Yale Cocktail\"],[3563,\"Yale Cocktail\"],[3564,\"Xanthia Cocktail\"],[3565,\"Xanthia Cocktail\"],[3566,\"Xanthia Cocktail\"],[3567,\"Woodstock\"],[3568,\"Woodstock\"],[3569,\"Woodstock\"],[3570,\"Woodstock\"],[3571,\"Wolf's Bite\"],[3572,\"Wolf's Bite\"],[3573,\"Wolf's Bite\"],[3574,\"Barbary Coast Cocktail\"],[3575,\"Barbary Coast Cocktail\"],[3576,\"Barbary Coast Cocktail\"],[3577,\"Barbary Coast Cocktail\"],[3578,\"Barbary Coast Cocktail\"],[3579,\"The Winkle\"],[3580,\"The Winkle\"],[3581,\"The Winkle\"],[3582,\"The Winkle\"],[3583,\"The Winkle\"],[3584,\"The Winkle\"],[3585,\"The Wink\"],[3586,\"The Wink\"],[3587,\"The Wink\"],[3588,\"The Wink\"],[3589,\"The Wink\"],[3590,\"Will Rogers\"],[3591,\"Will Rogers\"],[3592,\"Will Rogers\"],[3593,\"Will Rogers\"],[3594,\"Brandy Vermouth Cocktail\"],[3595,\"Brandy Vermouth Cocktail\"],[3596,\"Brandy Vermouth Cocktail\"],[3597,\"White Spider\"],[3598,\"White Spider\"],[3599,\"White Spider\"],[3600,\"White Spider\"],[3601,\"White Lady\"],[3602,\"White Lady\"],[3603,\"Western Rose\"],[3604,\"Western Rose\"],[3605,\"Western Rose\"],[3606,\"Western Rose\"],[3607,\"May Blosson Fizz\"],[3608,\"May Blosson Fizz\"],[3609,\"May Blosson Fizz\"],[3610,\"Wembly Cocktail\"],[3611,\"Wembly Cocktail\"],[3612,\"Wembly Cocktail\"],[3613,\"Wembly Cocktail\"],[3614,\"Apple Pie Cocktail\"],[3615,\"Apple Pie Cocktail\"],[3616,\"Apple Pie Cocktail\"],[3617,\"Apple Pie Cocktail\"],[3618,\"Apple Pie Cocktail\"],[3619,\"Water Lily\"],[3620,\"Water Lily\"],[3621,\"Water Lily\"],[3622,\"Water Lily\"],[3623,\"Wallis Blue Cocktail\"],[3624,\"Wallis Blue Cocktail\"],[3625,\"Wallis Blue Cocktail\"],[3626,\"Wallis Blue Cocktail\"],[3627,\"Minnehaha Cocktail\"],[3628,\"Minnehaha Cocktail\"],[3629,\"Minnehaha Cocktail\"],[3630,\"Minnehaha Cocktail\"],[3631,\"Wallick Cocktail\"],[3632,\"Wallick Cocktail\"],[3633,\"Wallick Cocktail\"],[3634,\"Waikiki Beachcomber\"],[3635,\"Waikiki Beachcomber\"],[3636,\"Waikiki Beachcomber\"],[3637,\"Vow Of Silence\"],[3638,\"Vow Of Silence\"],[3639,\"Vow Of Silence\"],[3640,\"Vow Of Silence\"],[3641,\"Vow Of Silence\"],[3642,\"Vow Of Silence\"]],\"hovertemplate\":\"0=%{x}\\u003cbr\\u003e1=%{y}\\u003cbr\\u003eindex_col=%{customdata[0]}\\u003cbr\\u003ename=%{customdata[1]}\\u003cextra\\u003e\\u003c\\u002fextra\\u003e\",\"legendgroup\":\"\",\"marker\":{\"color\":\"#636efa\",\"symbol\":\"circle\"},\"mode\":\"markers\",\"name\":\"\",\"showlegend\":false,\"x\":[-0.12486116399246747,-0.1422165511412363,-0.128188392910427,-0.25449065768748413,-0.21666663144043455,-0.09901450888018629,-0.2527334476156806,-0.2555653565248411,-0.2309083029205249,-0.19471812976601505,-0.2198287382255859,-0.19471812976601519,-0.25515103632436326,-0.2134017746043176,-0.14985543006352758,-0.22002379643614206,-0.05797571956960319,-0.19929472053149455,-0.19897546297210533,-0.19523195732176413,-0.12289388754096485,-0.1652465980444002,-0.16128071909071126,-0.18785531007388795,-0.23278776407921023,1.631735734239498,-0.14349673832053858,-0.09742150272830599,-0.12793352164397953,-0.15188267874105546,-0.10721835457081122,-0.16435434471021285,-0.16295965937002996,-0.05803502335636878,-0.1126470587507226,-0.15788416027641763,-0.18832802415315686,-0.3229542556156399,-0.15448295588881714,-0.25048327925080727,-0.19493738148703252,-0.12077142174437182,-0.1760121730316984,-0.41364630681998593,-0.2389630452159946,-0.24858539791581022,-0.22242575837947542,-0.18612533072893564,-0.13729551859206518,0.6139544554085309,-0.12831776440689927,-0.15210508530041003,-0.04423815087172431,-0.16545624839716302,-0.22225275663865246,-0.07202968435172809,-0.20876280630416819,-0.2183177961030613,-0.19923066991363825,-0.17142727287837572,-0.11539323785234315,0.9463104989396348,-0.11329673121139754,-0.15953937815673316,-0.031047551449248416,0.0681530384037535,-0.21354164880510235,-0.16154671141410604,-0.2201203681074545,-0.20807934449182852,-0.3145856703046115,-0.13703360301683723,0.4303314579224328,-0.21440717813980412,-0.0951153286338141,-0.1900156480798728,-0.07483005615418734,-0.18075796879407788,-0.348150284020559,-0.18449973351879248,-0.14190753801672085,-0.1468503667046173,-0.11095053282127444,-0.10535984524424348,-0.13622474767568118,-0.18987176324744826,-0.24577923486853656,-0.13178412968512318,-0.15794893001688237,1.111550052343256,1.338764684262791,2.739514748424656,70.40949908689416,-0.17570415811472168,-0.09803995361736234,-0.18751567615060408,-0.03864374018201876,0.951716573698037,-0.21826074657729852,-0.17850779468614347,-0.04346945239341088,-0.11036098557990527,-0.16229390896352539,-0.12859536247666042,-0.24527601814403996,-0.22037656233560798,-0.31922731915868663,-0.11449179966971226,-0.07269233376553652,-0.23433366631604557,-0.11840808453439222,-0.20587613019879059,-0.07923881578148248,-0.127404268114478,-0.041943841532510365,-0.19493400250521561,-0.1392882740004866,-0.2782446592233861,-0.3148947638434017,-0.24004317818499152,-0.22191150818486277,-0.1617085185336384,-0.14759204439958173,-0.20169855850769228,-0.05906903591810541,-0.08982975357044232,-0.1614559816871368,-0.1769440482074188,-0.1630210760399249,-0.23172993769004738,-0.22396856171363502,-0.19913087373107238,-0.131346074932029,-0.17724713877779702,-0.12888510573958756,-0.1091590687282416,-0.10355137026636513,-0.14595977587748724,-0.13887778727236447,0.26105212931619287,-0.14626469663867095,-0.19262525543895423,-0.14626469663867095,-0.1571534690780184,-0.18826713041500567,-0.18826713041500567,-0.04517502271986832,0.8413989906125189,-0.1303769574544612,-0.16202161236236448,-0.23041674283079963,0.03312114280407968,-0.25517796914166757,-0.146651603425204,-0.13330890886360314,-0.3822394525248013,-0.13326917757343912,-0.2748971818321787,-0.10829825273965243,-0.2511499113832501,0.915707816534137,-0.2407002115028052,-0.17344558325135181,-0.1731037811744985,-0.059598962689959664,-0.17186889647724912,-0.14332883804502114,-0.09286908591136828,-0.1921119281552179,-0.10571981772733596,-0.24394874798810745,-0.14309379725369736,-0.1381075373843912,-0.10160005722158448,-0.15077801887959152,-0.15547208632177603,-0.16334977351112082,-0.16334977351112082,-0.18528957180435582,-0.22112758467022084,-0.029260788468216236,0.04772500072377573,-0.08529811517842006,-0.13622474767568118,-0.05550901945022565,-0.16653521386530287,-0.06487929324838031,-0.10194409273475935,-0.23398985114265375,-0.107083030250684,-0.18769357909886797,-0.11089926807486178,-0.20153118046119273,0.8332174912550041,-0.18775374869347997,-0.18194704545097737,-0.43668558233430294,-0.115312251104604,-0.1916402384898215,-0.3055732375734683,-0.1522224042763572,-0.19164023848982079,-0.14738538124980458,-0.17102874703206916,-0.2989818726323377,-0.2037016327855936,-0.2613137944357812,-0.31837380059052206,-0.30893897775170165,-0.18674335166631068,-0.19320386714178514,0.5299734265758659,-0.22277915753078853,0.6964745714503277,1.9572799815512592,-0.2806796790805242,-0.17356916218713567,-0.35151208481124385,-0.3036131117957088,-0.28609027305125917,-0.3478399180083842,-0.15407786466908532,0.06671986442812156,-0.25628764303571183,-0.18063594719453716,-0.08824803779321688,-0.18468813991155036,-0.24711646070488646,-0.2892772172736755,-0.1724132854388717,-0.06348374612685705,-0.1460576170166601,-0.2546877079609749,-0.160737344821145,-0.1604038932056832,0.2930544830369449,0.9706418606496269,-0.08392319821894562,-0.17340527957844631,-0.19751051120563853,-0.1861584598022643,-0.24632753772148264,-0.14251096302274807,-0.309259851230874,-0.1508212685864948,-0.1953716009251063,-0.11880228106457548,-0.13004914387635025,0.25569136322363517,-0.19818847462802255,1.0499034467004194,-0.06959323101935151,0.5682959344704731,-0.27419306737772686,-0.09721132235442641,-0.1905682920653266,-0.17957396984035306,-0.19411351623613035,-0.19608543411806678,-0.08221151157200782,-0.3532953731647388,-0.14257457593769385,-0.1236801581436592,-0.2387467788822839,-0.13271012143011826,0.39458513609178214,-0.16229390896352527,-0.14312510524266417,-0.06739984157849611,-0.25200569659919925,1.7929861595287526,-0.15290924923062585,-0.1943327452775738,-0.20091905429192777,-0.09228197093966203,-0.25281504632740986,-0.3418987767025233,-0.17532027575879616,-0.2432306444669794,-0.18677382456862004,-0.13636075548930082,-0.12975870844524479,-0.15109997658780333,-0.21173759614977397,-0.1975325544632162,-0.18959165719498686,-0.23598892024617524,-0.1440797218053458,-0.29101830284927427,-0.270394052700091,-0.1500881545082363,-0.08878890062773721,0.7194797693892555,-0.11026291093649976,-0.3303082308189009,-0.6786062357901462,-0.1011870933161866,0.0668164859197482,-0.0674690286843584,-0.09406005212720758,-0.23706466004902094,-0.03213125929152548,-0.3126362170051663,-0.267891162029549,-0.12601611168611734,-0.1536679061680419,-0.22818083974593148,-0.23368809477764865,-0.11345689358642622,-0.2265716269486828,-0.28103704043175176,-0.17967472771207058,-0.13162826710632808,-0.21779148222227915,-0.11784237790809504,-0.0992237185723351,-0.20181918471129948,-0.22001611166963073,-0.07199543974072499,-0.17809778441457458,-0.16933354074590018,-0.1914411524379175,1.510846486810662,-0.16036092783531958,0.2608254612496944,0.5462147285885287,-0.04077348035823628,-0.17127836311678865,-0.19488507529017432,-0.12825073848889035,-0.20990731086057043,-0.22084350005879588,-0.25311169596783095,-0.17399520226986206,-0.12798765041970261,-0.05004179280776001,-0.14595798123737846,-0.17797450172884746,-0.20937552714810284,-0.13052986748573994,-0.16041793170618326,0.3621173800545065,-0.1188288800518015,-0.077540564490706,-0.22803592323788144,-0.2312753061275905,-0.24588262807746186,-0.28127539869159923,-0.12747680815599682,0.29949288561640897,-0.17221641433246596,-0.2083723231376803,-0.07788433869570109,-0.1644946095283605,-0.1858734317842544,-0.16467117559484773,-0.12343358485163126,-0.1319075882618233,-0.18096318943608952,-0.23076395189168972,-0.2524148184439281,-0.21029774117110944,-0.2406816933037702,-0.2852273538987224,-0.18913988533312256,-0.21512328834262198,0.3637543774189312,-0.18889641269244326,-0.39806841634002377,-0.28559733621164024,-0.14352275835408465,-0.15406530854696915,-0.12788351115360447,-0.13421333110568903,-0.09896000096199556,-0.1805089811044705,-0.11607107900963247,-0.27600208014423017,-0.28816904650331954,-0.13712180057391551,-0.11592262597886963,-0.1311789880956594,-0.06413336982839704,-0.22949461607311536,0.6535900376335829,-0.1549121064072746,-0.10378028904357679,-0.22303616708223709,-0.16960040352965017,0.11981358118166854,-0.289975382585499,-0.2004683087717975,-0.20696623194059569,-0.3681912277018578,-0.3491038500170055,-0.1858419985836975,-0.1661942507406973,-0.1577631917268082,-0.2012128543417503,-0.1581023103937326,-0.15883178873060022,-0.1578910089495224,-0.16693468755466007,-0.06968300356044799,-0.25280514116006075,-0.25280514116006075,0.7729966686527027,-0.18685745298882375,-0.2119936908746175,-0.09373182138715486,-0.08543120427336413,-0.12577380012327138,-0.19379922392747895,-0.11786571630998914,-0.14604511923155025,-0.10835586592193897,-0.15840976810069834,-0.09844278187275245,-0.16860719723885764,-0.06422029182096102,-0.17868088034100243,-0.11718045693940768,-0.1432418336210902,-0.08738974193630916,-0.0918029706221294,-0.13493298266402054,-0.22042365647236598,0.6360386129388197,-0.09946421949345251,-0.10915906872824165,-0.19356349642660872,-0.16229390896352527,-0.18178804946537278,-0.22056480968930617,-0.18288218138035403,-0.16690328102866211,-0.18757875221622688,0.2986982907214411,-0.1685660264238183,0.030686519879239614,-0.25314511888627705,0.11115666877194778,-0.20933206863260473,-0.1922046579460508,-0.17035006228075636,-0.20473052978065803,0.33045777388661957,-0.2530284069370761,-0.11197411070424461,0.7046669387078409,-0.2158462654938035,-0.18717792406435413,-0.18840967083617982,-0.2143714251145812,-0.013927131575371123,-0.21534540888175926,0.35385676322775633,-0.1331612681693995,-0.19171447539021358,-0.20489760526310777,-0.21866387532809112,-0.21398196573932352,-0.10660723247440206,0.10733165176022817,-0.20034736455383326,0.26224978864800785,-0.02388674700650972,-0.11397255776067909,-0.15815421602291427,-0.2959666134164545,0.784957078503143,0.36740651243047384,-0.18109090407796413,-0.19338723714939976,-0.19322645645475048,-0.15246936682478276,0.48739820256796307,-0.12962920194779629,-0.352842019750538,-0.2701865631054001,-0.21896382367097436,-0.1730337080301429,-0.07938964196179345,-0.19472548839203252,0.8003793642902062,-0.034836459273336694,-0.030355993644186844,-0.19285124179040872,-0.18380384477231357,-0.21310633341224602,-0.1789926684224059,0.8050385053757693,-0.26676533446726963,-0.14156262182597046,-0.2022585299295659,0.21915477606903663,-0.11131066761356027,-0.2280322161337398,-0.12574769622162485,-0.16039794102029886,-0.17531186637383933,-0.07880902103065858,0.5314803204584306,0.6855787173412758,-0.40803629940294445,-0.16130665143697395,-0.09447976106993766,-0.20470745530184523,-0.1942819061864353,-0.2530889094359647,-0.20631009967980568,-0.13653899460869726,-0.38496357970384254,-0.483978092924929,-0.05064363518759431,-0.22768911644472933,-0.26895520680566914,0.7643889990157952,-0.122204533584504,-0.1175269469362215,-0.19409135284181372,-0.1609820095073083,-0.11914215751130654,-0.1326149861482833,-0.20470745530184523,-0.10915906872824159,-0.1638286598502053,-0.11096715927043613,-0.16739895130788693,0.2862526928055568,-0.3178407068428467,-0.07231774936823507,-0.256659201638314,-0.18552058882732422,0.05828431700818977,-0.10231667402480961,-0.109763355755012,-0.3241385739729549,-0.18617692610889777,-0.1118131157518967,-0.15854754165038507,-0.21328537806979497,-0.11254914766435402,-0.1622735612392053,-0.11957485429840047,-0.15241869559399757,-0.3741119740252343,0.5208444432794989,0.6913974773188051,-0.18292614031349425,0.6913974773188053,-0.12954221200775948,-0.21816436719178178,-0.14312510524266417,-0.15109997658780333,-0.17303282404610926,0.5230221726111544,-0.15918078067876432,-0.08640173143419219,-0.21954537695492948,-0.21954537695492948,-0.1702543400679145,-0.17567366218908742,-0.3351062383298735,0.8070837825539036,0.15110996327032564,-0.060937741776465014,-0.12136618063886563,0.3796926357417064,0.536140247510497,-0.23736499247751694,-0.261339495412292,-0.20278370736146425,-0.18227422578218797,-0.19069914997065798,-0.21267080954741793,-0.29146007341554125,-0.16381812971204546,-0.17260734765012184,0.09606394265075152,-0.07125099742614051,-0.19971398896192907,-0.267798352535572,-0.1515567618490083,-0.25030614512160065,-0.07965923240443545,-0.3500094329882487,0.3074909894192026,-0.1849805598345427,-0.21517790853697083,-0.06776035798285102,-0.18388160152658894,-0.19249562216055469,0.5641372592266158,-0.09490357451788344,-0.4409724542875157,-0.03492792326196352,-0.14656027708817035,-0.24395257342945867,-0.09686732366131037,-0.04043857501081411,-0.2163094322429154,0.6779590549267508,-0.12748701023603365,-0.16391693479463504,-0.1937816134677723,-0.14610734145914397,-0.18455695131372704,-0.24819441631292005,-0.12808005553024224,-0.16060746480595964,-0.30582175388535304,-0.2170670252828232,-0.26495569869769203,-0.14628771438202495,0.056628761704979255,-0.22754755590454742,-0.11565426337597563,-0.19670062892875656,-0.11686910682827699,-0.012198243133560044,-0.015149315797675556,-0.14592871118753456,0.3611103275641058,-0.18520431896246686,-0.27503467538560405,-0.10915906872824142,-0.2946138189693522,-0.3476201440754618,-0.17671751764769156,0.3616116153974055,-0.1805183205015471,-0.11857480029508878,-0.1972089714280406,-0.19652946544821978,-0.15227772517151827,-0.125246294114967,-0.2648492189211646,0.17107107282067505,-0.08907192452116525,-0.15505292697823558,-0.013005580344173968,-0.21414749573069278,0.30982472678901735,-0.27252277853055995,0.12191981276624139,-0.17988252509073396,-0.12071896359768829,-0.40803629940294445,-0.22846549357900597,-0.18977115996321148,-0.06095108399233642,1.598129599383753,-0.1216487608712228,-0.17035006228075636,-0.1326149861482833,-0.30098587619267475,-0.377390591656725,-0.25196928373765004,0.4857107941175044,-0.223953390815447,-0.3419260972165769,-0.22258956752836515,-0.2622879439739701,-0.1792096565139235,-0.0347291487102472,-0.17490264619694104,-0.028734474538635306,-0.04313103415265532,-0.12352140714399322,-0.16082664677481248,-0.11156380975017684,-0.09181182540820385,-0.20425235494966215,-0.08690141407385674,-0.103072302940796,2.038630216587803,-0.08478381908391991,-0.11403082078542807,0.1691940258118375,-0.10915906872824169,-0.12311834793790587,0.30798850875659867,-0.15037804271297814,-0.2149039839972995,-0.07633722145213585,-0.18439776841133343,-0.376814061493156,-0.2693846501110269,-0.19560762965213652,-0.10365145213430078,-0.18628615041334928,-0.4528016253299409,-0.11864288728108112,-0.16500330387815054,1.3165308119744101,0.015931238205695898,0.60542767191145,-0.1471708394924357,-0.0982668765654959,-0.13513840864822702,-0.23162007868058063,-0.16049261538544854,-0.12095571248469882,-0.17509704098133502,-0.18717657605649476,-0.0495932892476737,-0.09680631455303856,-0.2783675344482034,-0.27828216850924886,-0.325184795038072,-0.10915906872824159,-0.3316296726572478,-0.21163548628635234,-0.05031546268150003,0.7488538344885695,0.05062435259320258,-0.20325945845229862,-0.040940483612573304,-0.15489591004961054,-0.03676834733305576,-0.039247353916984744,-0.1045659934002263,-0.010923742080905597,-0.09290686536523347,0.3206398814491259,-0.08156414559914334,-0.036312446573520944,0.7879858602192699,-0.0010626782872136988,-0.1012688447018161,-0.2427825782085767,0.5252930977592427,-0.06767561617188005,-0.15377085882123462,-0.1921084662629576,-0.13554906504506312,-0.19035826466089548,-0.21729228329369674,-0.23012261397887673,-0.24383273266501948,0.6679976703410426,0.7305027071456558,-0.28331270248299684,-0.07526197792720718,-0.1988111981466627,-0.24427316221457304,-0.1184998874087524,-0.19413421892417204,0.703610559939807,-0.2260519352968837,0.31061074709386827,-0.277592306765141,-0.14467053021319476,-0.12602013237466794,-0.09471303762906656,-0.10611369759807716,0.7769058105440967,-0.28255507139128055,-0.18913176574648327,-0.21332701940239035,-0.060856287362901655,-0.21134169996084728,-0.18923977349542956,-0.30807608617238663,-0.20213793917075495,-0.2350710596833573,-0.17983057089512375,-0.10915906872824162,-0.17150557042222214,-0.18683536790742217,0.6067005743991416,-0.10483984805433703,-0.3225440199849389,-0.29161066445998884,-0.17206478689381416,-0.28016201012725855,-0.17297620623026802,-0.29202945047160284,0.3308905244193612,0.6507344900453198,-0.1644222149058022,-0.19093956920137073,0.3758344224726217,-0.21390457076862168,-0.1641020629379424,-0.16869547497243026,-0.11717560062842555,-0.18573905259483336,0.3237696226214775,-0.20396218021318993,-0.12895090099885947,-0.07722690390025062,-0.19663723432063068,-0.25280514116006075,1.2087051944935994,-0.17737511016425725,-0.10915906872824152,-0.20892765314098266,-0.20010222207470552,-0.1840105351446031,-0.10894597580330359,-0.1477141303338615,-0.04551332225810037,-0.05503250516967438,-0.14534245807928428,-0.1326886465111032,-0.07821519807412072,-0.21573446852485365,-0.13397923956443586,-0.05938494605457572,0.5613704744433866,-0.19486225067657834,-0.139737889045193,-0.14621486608664286,0.3261878767742303,-0.10409883907755539,-0.13741486669157707,-0.17043693188971104,-0.19786705529465612,-0.11720739286936496,-0.17043693188971104,-0.19474156472232831,0.30847051760134153,-0.17252975162271794,-0.18175368576680814,-0.07679899275124445,-0.19413421892417188,-0.178631864744702,-0.17316857186897028,-0.053624953822110605,-0.35962085394714244,0.007395460551451122,-0.26142995886844356,-0.04676938017499737,0.34306297883216713,1.4939972373825845,0.07954205617852009,-0.07638698550862738,0.6151249383737459,0.017192312393956334,0.004773309049049766,-0.03965345969867733,-0.06278423448621032,-0.1730690764397152,-0.014045347982609408,-0.1726156488963846,0.5419955647195848,-0.18205923165210527,0.36580395597891446,-0.1679439501108577,-0.07850877904476332,0.4234556489430805,-0.10421148404834032,-0.1654085736071257,-0.07680352523713219,-0.18126735232023547,-0.18257350184363713,-0.15252280784403768,-0.17439144938906673,0.7895670610722018,-0.045972171285142506,-0.12861794740196839,-0.0007932597956093066,-0.16682807905747699,0.7250427807374717,0.010483161044460593,1.002771907352775,-0.07225677850032423,0.1984827424005683,-0.17465192945855929,-0.1381581050384501,0.3539116472187906,2.264189009993378,-0.1679625264249434,1.0903092969731627,-0.1339441158733858,1.0113538657375845,-0.14532246054195783,-0.3123592845098233,-0.31836059041503995,-0.2568663364264749,-0.15682636736901345,-0.5833761317348165,0.3687241959502316,-0.18375909909033888,-0.11418185466176743,-0.21889274978628462,-0.1281963183308668,-0.05042435672580637,-0.11734338243045225,-0.1633216197039697,-0.17902962220690374,-0.238945765736526,-0.17035006228075636,-0.18112252632414053,-0.1162804453781715,-0.10598824279086648,-0.20694629349255048,0.3086560207343321,-0.16163383742549034,1.7772057939890464,-0.16238040928954267,-0.07852847897013915,0.47627114673244825,-0.04585064074711583,-0.1579059645845856,-0.1960357881745478,-0.09975235657294615,-0.023685312684541025,-0.22397185988314544,-0.11237278493318817,-0.24446756628325356,-0.40059712381363477,-0.11918858383015563,-0.2818148281091534,-0.2818148281091534,-0.18279839515273794,-0.05374115133525625,1.0294685904701892,-0.05384430261341875,-0.052459779301861596,-0.10042879364560653,0.7301569471335423,-0.12962319484874246,-0.19488507529017432,-0.16923351291345293,-0.15133514802506656,-0.07482252960998584,-0.049184177352900024,-0.13205488387484554,-0.08323485814093409,-0.08323485814093409,0.26574133939510075,-0.13223304510475584,1.0704441205887867,-0.21448895603634563,0.8852312667636804,-0.15386358845977505,-0.2926567225400335,-0.08456148156909718,-0.2597271912430996,-0.10850162780291386,-0.22612792996472172,-0.17878366097410045,-0.17552525829734467,-0.18202022781377003,-0.18656009372711346,0.0006852422189393089,-0.1689367492443121,-0.16507168948750528,-0.23583629063264866,-0.2986314057401322,-0.20855132369130083,-0.14399527563377018,-0.21049745838707273,-0.12911779635478593,-0.22825509098779617,-0.15043251818795486,-0.31055397949413277,-0.1563048768762081,-0.07576855538416342,-0.23736499247751694,-0.26089731780191777,-0.11118146585850713,-0.13097119657067802,-0.21640479498305432,-0.20060016552158394,-0.20060016552158394,-0.1674596064764161,-0.1729041527655682,-0.1766572795544565,-0.1559015140650112,-0.13093459372731106,-0.1983146882515726,-0.09950426970452148,-0.11995517445529814,-0.11891249546124022,-0.1657771234493387,0.00572285942742396,-0.14201002151920677,-0.19181260096669053,-0.202828828890469,-0.15421594239059355,-0.10915906872824173,-0.4273729380704407,null,null,null,null,null,null,null,null,null,null,null,null,null,null,null,null,null,null,null,null,null,null,null,null,null,null,null,null,null,null,null,null,null,null,null,null,null,null,null,null,null,null,null,null,null,null,null,null,null,null,null,null,null,null,null,null,null,null,null,null,null,null,null,null,null,null,null,null,null,null,null,null,null,null,null,null,null,null,null,null,null,null,null,null,null,null,null,null,null,null,null,null,null,null,null,null,null,null,null,null,null,null,null,null,null,null,null,null,null,null,null,null,null,null,null,null,null,null,null,null,null,null,null,null,null,null,null,null,null,null,null,null,null,null,null,null,null,null,null,null,null,null,null,null,null,null,null,null,null,null,null,null,null,null,null,null,null,null,null,null,null,null,null,null,null,null,null,null,null,null,null,null,null,null,null,null,null,null,null,null,null,null,null,null,null,null,null,null,null,null,null,null,null,null,null,null,null,null,null,null,null,null,null,null,null,null,null,null,null,null,null,null,null,null,null,null,null,null,null,null,null,null,null,null,null,null,null,null,null,null,null,null,null,null,null,null,null,null,null,null,null,null,null,null,null,null,null,null,null,null,null,null,null,null,null,null,null,null,null,null,null,null,null,null,null,null,null,null,null,null,null,null,null,null,null,null,null,null,null,null,null,null,null,null,null,null,null,null,null,null,null,null,null,null,null,null,null,null,null,null,null,null,null,null,null,null,null,null,null,null,null,null,null,null,null,null,null,null,null,null,null,null,null,null,null,null,null,null,null,null,null,null,null,null,null,null,null,null,null,null,null,null,null,null,null,null,null,null,null,null,null,null,null,null,null,null,null,null,null,null,null,null,null,null,null,null,null,null,null,null,null,null,null,null,null,null,null,null,null,null,null,null,null,null,null,null,null,null,null,null,null,null,null,null,null,null,null,null,null,null,null,null,null,null,null,null,null,null,null,null,null,null,null,null,null,null,null,null,null,null,null,null,null,null,null,null,null,null,null,null,null,null,null,null,null,null,null,null,null,null,null,null,null,null,null,null,null,null,null,null,null,null,null,null,null,null,null,null,null,null,null,null,null,null,null,null,null,null,null,null,null,null,null,null,null,null,null,null,null,null,null,null,null,null,null,null,null,null,null,null,null,null,null,null,null,null,null,null,null,null,null,null,null,null,null,null,null,null,null,null,null,null,null,null,null,null,null,null,null,null,null,null,null,null,null,null,null,null,null,null,null,null,null,null,null,null,null,null,null,null,null,null,null,null,null,null,null,null,null,null,null,null,null,null,null,null,null,null,null,null,null,null,null,null,null,null,null,null,null,null,null,null,null,null,null,null,null,null,null,null,null,null,null,null,null,null,null,null,null,null,null,null,null,null,null,null,null,null,null,null,null,null,null,null,null,null,null,null,null,null,null,null,null,null,null,null,null,null,null,null,null,null,null,null,null,null,null,null,null,null,null,null,null,null,null,null,null,null,null,null,null,null,null,null,null,null,null,null,null,null,null,null,null,null,null,null,null,null,null,null,null,null,null,null,null,null,null,null,null,null,null,null,null,null,null,null,null,null,null,null,null,null,null,null,null,null,null,null,null,null,null,null,null,null,null,null,null,null,null,null,null,null,null,null,null,null,null,null,null,null,null,null,null,null,null,null,null,null,null,null,null,null,null,null,null,null,null,null,null,null,null,null,null,null,null,null,null,null,null,null,null,null,null,null,null,null,null,null,null,null,null,null,null,null,null,null,null,null,null,null,null,null,null,null,null,null,null,null,null,null,null,null,null,null,null,null,null,null,null,null,null,null,null,null,null,null,null,null,null,null,null,null,null,null,null,null,null,null,null,null,null,null,null,null,null,null,null,null,null,null,null,null,null,null,null,null,null,null,null,null,null,null,null,null,null,null,null,null,null,null,null,null,null,null,null,null,null,null,null,null,null,null,null,null,null,null,null,null,null,null,null,null,null,null,null,null,null,null,null,null,null,null,null,null,null,null,null,null,null,null,null,null,null,null,null,null,null,null,null,null,null,null,null,null,null,null,null,null,null,null,null,null,null,null,null,null,null,null,null,null,null,null,null,null,null,null,null,null,null,null,null,null,null,null,null,null,null,null,null,null,null,null,null,null,null,null,null,null,null,null,null,null,null,null,null,null,null,null,null,null,null,null,null,null,null,null,null,null,null,null,null,null,null,null,null,null,null,null,null,null,null,null,null,null,null,null,null,null,null,null,null,null,null,null,null,null,null,null,null,null,null,null,null,null,null,null,null,null,null,null,null,null,null,null,null,null,null,null,null,null,null,null,null,null,null,null,null,null,null,null,null,null,null,null,null,null,null,null,null,null,null,null,null,null,null,null,null,null,null,null,null,null,null,null,null,null,null,null,null,null,null,null,null,null,null,null,null,null,null,null,null,null,null,null,null,null,null,null,null,null,null,null,null,null,null,null,null,null,null,null,null,null,null,null,null,null,null,null,null,null,null,null,null,null,null,null,null,null,null,null,null,null,null,null,null,null,null,null,null,null,null,null,null,null,null,null,null,null,null,null,null,null,null,null,null,null,null,null,null,null,null,null,null,null,null,null,null,null,null,null,null,null,null,null,null,null,null,null,null,null,null,null,null,null,null,null,null,null,null,null,null,null,null,null,null,null,null,null,null,null,null,null,null,null,null,null,null,null,null,null,null,null,null,null,null,null,null,null,null,null,null,null,null,null,null,null,null,null,null,null,null,null,null,null,null,null,null,null,null,null,null,null,null,null,null,null,null,null,null,null,null,null,null,null,null,null,null,null,null,null,null,null,null,null,null,null,null,null,null,null,null,null,null,null,null,null,null,null,null,null,null,null,null,null,null,null,null,null,null,null,null,null,null,null,null,null,null,null,null,null,null,null,null,null,null,null,null,null,null,null,null,null,null,null,null,null,null,null,null,null,null,null,null,null,null,null,null,null,null,null,null,null,null,null,null,null,null,null,null,null,null,null,null,null,null,null,null,null,null,null,null,null,null,null,null,null,null,null,null,null,null,null,null,null,null,null,null,null,null,null,null,null,null,null,null,null,null,null,null,null,null,null,null,null,null,null,null,null,null,null,null,null,null,null,null,null,null,null,null,null,null,null,null,null,null,null,null,null,null,null,null,null,null,null,null,null,null,null,null,null,null,null,null,null,null,null,null,null,null,null,null,null,null,null,null,null,null,null,null,null,null,null,null,null,null,null,null,null,null,null,null,null,null,null,null,null,null,null,null,null,null,null,null,null,null,null,null,null,null,null,null,null,null,null,null,null,null,null,null,null,null,null,null,null,null,null,null,null,null,null,null,null,null,null,null,null,null,null,null,null,null,null,null,null,null,null,null,null,null,null,null,null,null,null,null,null,null,null,null,null,null,null,null,null,null,null,null,null,null,null,null,null,null,null,null,null,null,null,null,null,null,null,null,null,null,null,null,null,null,null,null,null,null,null,null,null,null,null,null,null,null,null,null,null,null,null,null,null,null,null,null,null,null,null,null,null,null,null,null,null,null,null,null,null,null,null,null,null,null,null,null,null,null,null,null,null,null,null,null,null,null,null,null,null,null,null,null,null,null,null,null,null,null,null,null,null,null,null,null,null,null,null,null,null,null,null,null,null,null,null,null,null,null,null,null,null,null,null,null,null,null,null,null,null,null,null,null,null,null,null,null,null,null,null,null,null,null,null,null,null,null,null,null,null,null,null,null,null,null,null,null,null,null,null,null,null,null,null,null,null,null,null,null,null,null,null,null,null,null,null,null,null,null,null,null,null,null,null,null,null,null,null,null,null,null,null,null,null,null,null,null,null,null,null,null,null,null,null,null,null,null,null,null,null,null,null,null,null,null,null,null,null,null,null,null,null,null,null,null,null,null,null,null,null,null,null,null,null,null,null,null,null,null,null,null,null,null,null,null,null,null,null,null,null,null,null,null,null,null,null,null,null,null,null,null,null,null,null,null,null,null,null,null,null,null,null,null,null,null,null,null,null,null,null,null,null,null,null,null,null,null,null,null,null,null,null,null,null,null,null,null,null,null,null,null,null,null,null,null,null,null,null,null,null,null,null,null,null,null,null,null,null,null,null,null,null,null,null,null,null,null,null,null,null,null,null,null,null,null,null,null,null,null,null,null,null,null,null,null,null,null,null,null,null,null,null,null,null,null,null,null,null,null,null,null,null,null,null,null,null,null,null,null,null,null,null,null,null,null,null,null,null,null,null,null,null,null,null,null,null,null,null,null,null,null,null,null,null,null,null,null,null,null,null,null,null,null,null,null,null,null,null,null,null,null,null,null,null,null,null,null,null,null,null,null,null,null,null,null,null,null,null,null,null,null,null,null,null,null,null,null,null,null,null,null,null,null,null,null,null,null,null,null,null,null,null,null,null,null,null,null,null,null,null,null,null,null,null,null,null,null,null,null,null,null,null,null,null,null,null,null,null,null,null,null,null,null,null,null,null,null,null,null,null,null,null,null,null,null,null,null,null,null,null,null,null,null,null,null,null,null,null,null,null,null,null,null,null,null,null,null,null,null,null,null,null,null,null,null,null,null,null,null,null,null,null,null,null,null,null,null,null,null,null,null,null,null,null,null,null,null,null,null,null,null,null,null,null,null,null,null,null,null,null,null,null,null,null,null,null,null,null,null,null,null,null,null,null,null,null,null,null,null,null,null,null,null,null,null,null,null,null,null,null,null,null,null,null,null,null,null,null,null,null,null,null,null,null,null,null,null,null,null,null,null,null,null,null,null,null,null,null,null,null,null,null,null,null,null,null,null,null,null,null,null,null,null,null,null,null,null,null,null,null,null,null,null,null,null,null,null,null,null,null,null,null,null,null,null,null,null,null,null,null,null,null,null,null,null,null,null,null,null,null,null,null,null,null,null,null,null,null,null,null,null,null,null,null,null,null,null,null,null,null,null,null,null,null,null,null,null,null,null,null,null,null,null,null,null,null,null,null,null,null,null,null,null,null,null,null,null,null,null,null,null,null,null,null,null,null,null,null,null,null,null,null,null,null,null,null,null,null,null,null,null,null,null,null,null,null,null,null,null,null,null,null,null,null,null,null,null,null,null,null,null,null,null,null,null,null,null,null,null,null,null,null,null,null,null,null,null,null,null,null,null,null,null,null,null,null,null,null,null,null,null,null,null,null,null,null,null,null,null,null,null,null,null,null,null,null,null,null,null,null,null,null,null,null,null,null,null,null,null,null,null,null,null,null,null,null,null,null,null,null,null,null,null,null,null,null,null,null,null,null,null,null,null,null,null,null,null,null,null,null,null,null,null,null,null,null,null,null,null,null,null,null,null,null,null,null,null,null,null,null,null,null,null,null,null,null,null,null,null,null,null,null,null,null,null,null,null,null,null,null,null,null,null,null,null,null,null,null,null,null,null,null,null,null,null,null,null,null,null,null,null,null,null,null,null,null,null,null,null,null,null,null,null,null,null,null,null,null,null,null,null,null,null,null,null,null,null,null,null,null,null,null,null,null,null,null,null,null,null,null,null,null,null,null,null,null,null,null,null,null,null,null,null,null,null,null,null,null,null,null,null,null,null,null,null,null,null,null,null,null,null,null,null,null,null,null,null,null,null,null,null,null,null,null,null,null,null,null,null,null,null,null,null,null,null,null,null,null,null,null,null,null,null,null,null,null,null,null,null,null,null,null,null,null,null,null,null,null,null,null,null,null,null,null,null,null,null,null,null,null,null,null,null,null,null,null,null,null,null,null,null,null,null,null,null,null,null,null,null,null,null,null,null,null,null,null,null,null,null,null,null,null,null,null,null,null,null,null,null,null,null,null,null,null,null,null,null,null,null,null,null,null,null,null,null,null,null,null,null,null,null,null,null,null,null,null,null,null,null,null,null,null,null,null,null,null,null,null,null,null,null,null,null,null,null,null,null,null,null,null,null,null,null,null,null,null,null,null,null,null,null,null,null,null,null,null,null,null,null,null,null,null,null,null,null,null,null,null,null,null,null,null,null,null,null,null,null,null,null,null,null,null,null,null,null,null,null,null,null,null,null,null,null],\"xaxis\":\"x\",\"y\":[0.0773484968292416,0.3064826884624473,-0.13515748038314337,-0.2036845372535397,-1.7124864516316736,-0.013983768390073507,-0.38893140289770367,-1.7091205370100964,-0.2035642722072748,0.269900222161346,-0.1718127926184629,0.2699002221613531,-0.13349698013851968,-0.1624611462378076,-0.11473652002277952,0.46964053351506474,0.005452142793026296,-0.16619459963095107,-0.16165262246309264,-0.18925488671808807,0.0689227658725485,-0.061478565276868666,0.1442842990984415,-0.13690095976302777,-0.21493490832240178,0.663134403082005,-0.02788917085708222,0.26290042467089947,0.4693180941046598,-0.029479845887469474,0.12324374476188102,-0.14512518991596265,-0.14165558054475083,0.08695845682998134,-0.024597276725122668,-0.09030826368647837,-0.1319342949087107,-0.30183513240757,-0.1033124834920398,-0.2308924996756239,-0.16333105789621347,-0.13115866877310667,-0.17896166459470472,-0.6419306692134202,-0.21470343036169107,-0.2171210598559068,-0.1884498244728905,-0.2558639355985374,-0.05233388546840336,-0.022068613610701008,-0.07529569064711646,-0.07122014050226326,-0.004609483137925092,-0.12454245293946747,-0.17428547805333283,-0.014006729876533073,-0.16999323285550766,-0.21741899784642615,-0.1635224614306475,-0.10815461778243242,-0.0975617143570861,0.16090961823977112,0.2883997365097574,-0.09123384820457163,-0.018875457328693307,0.8470194348379056,-0.08679518097652603,-0.09543773471189564,-0.17798018081333988,-0.17197980920992206,-0.4004886132979419,-0.10049389076360414,3.208454088983104,-0.1903444540119108,-0.0008462182921408242,-0.11349285161398466,0.21793135627968505,-0.14182860343608403,-0.3535846491472093,-0.1281566505227622,-0.03270348156070514,-0.10337491373217955,0.06357632589014447,-0.03080602608582035,0.04102361673534407,-0.07462728421922092,-0.2018255861386126,-0.05965456835313841,-0.10901426359600887,-0.07481461619140405,0.09384198249054827,-0.26598842207168105,-0.3755009284188165,-0.14114059079447183,0.06626617584349698,-0.10229290734103177,0.342389648898828,0.10742731428926529,-0.12292437445036758,-0.13233249613285367,0.3124094741668952,1.5085886037720084,-0.11538700684293483,0.005844200935840682,-0.20953218684955088,-0.22286379691270555,-0.35042604972458197,0.042330486257888,0.043684693985419604,-0.17336798305671638,0.2018543843389706,0.5469388285803822,0.010172511792739519,-0.08619798309173857,0.4645512619705427,-0.1750918767318684,-0.09951655548380893,-0.2579950594575769,-0.32050000542323637,-0.2254020701394113,-0.19243769452564263,-0.10419411104091808,-0.09650048101271527,-0.14672891204028554,-0.008354787971359034,-0.01141782957719177,0.3588472282973895,-0.12858074359552793,-0.11438459275627448,-0.19851101289267853,-0.1763854666183518,-0.017828526741907262,-0.0964606287324493,-0.21214870774665034,-0.1169399600376328,-0.06013229875702112,-0.08360397205068248,-0.09995377850812213,0.43927967320271355,-0.2294673769395005,-0.09347629766715676,-0.18080483294778035,-0.09347629766715676,0.11451680520544777,-0.14537248811499676,-0.14537248811499676,0.0713838216179498,-0.04836548312928899,-0.12444005173813807,-0.11300075231100022,-0.21872930752198952,0.7158433516521302,-0.2490712297096665,-0.08217580135275147,-0.05626898457211391,-0.6933395296563403,-0.03441719179797233,-0.3351960001345651,-0.06425289678317386,-0.27958649773105554,0.7928536602900877,-0.2853402049173579,-0.04854503962110846,0.12039076537533684,-0.1395797554690618,0.2332721324166755,0.23039946198690947,0.06813291591634314,-0.10410669094349038,0.38028502782545015,-0.16502193998968448,-0.012195214797480088,-0.08161980746216176,-0.050534150829942066,-0.024803788785402545,-0.0702535166127497,-0.10906536066678113,-0.10906536066678113,-0.14711522986365114,-0.2975445656002703,2.614840807089687,1.2785493162176509,0.061913316366109084,0.04102361673534407,0.29447491443439794,-0.08714970179238281,0.27292329900968904,0.19565732827075158,-0.07852519908752223,-0.026380910739911386,-0.1251741944494544,0.019792774143220927,-1.643415831480228,0.07856964747581957,-0.1723366613754234,0.14971021535291987,-0.5499968928280273,-0.06580830694787945,-0.12667773772108823,-0.2885005744764345,-0.10900059624809359,-0.12667773772108765,-0.09822339112554133,0.4892176690746343,-0.3599045627352157,0.04091414160423186,-0.3991637648761092,-0.3543198137125091,-0.31201966921245555,-0.14520096172172464,-0.15870557354431397,0.17605168306122335,-0.2249725866429952,1.067906925334347,-0.05664594629491851,-0.2545766391100463,-0.11357906633318669,-0.35401828839685073,-0.2808202952972533,-0.3144407876299529,-0.3948578685663063,-0.08490534050011331,0.29166639536727346,-0.2619284343096455,-0.1935847449159273,-0.06723260543592341,-0.10539197295673976,-0.18818053800631057,-0.24568013663843957,0.150547035094761,0.367654802733839,0.12260201244702568,-0.23855955305105378,-0.1112835050319377,-0.1325311794749098,-0.010184691500969031,-0.2859443920690907,-0.03833623337882609,-0.15879375888690989,-0.2046517392700341,-0.16463137230865116,-1.7162596184754482,-0.09901707845209946,-0.32210538629131796,-0.02434754605670231,-0.08710335294691705,2.1699954172775238,-0.13287719938732112,-0.08196403299251073,-0.15708568885452756,0.5088543867461829,0.28183137094969574,0.11159383303758195,-0.2668294659630679,0.4177401988332667,-0.14618269780321297,0.08561144954363431,-0.12796206128270476,0.2639916031472908,0.015676146185203618,-0.36620447802862743,-0.015729379906776895,-0.026705231131541867,-0.2554429990282181,-0.02613073990015482,-0.022657914979303046,-0.11538700684293521,-0.0953455878012884,0.369880706994724,-0.23246690424466032,0.036376638818884074,-0.04783418253542755,-0.14439299349277543,-0.17934096537923874,0.0525924559057268,-0.24573094170985496,-0.39570146889039876,0.3373154400257845,-0.23571023218903142,-0.12105469163667626,-0.05062462622099455,-0.08429540849712981,-0.10660818836349681,-0.17877255051954014,-0.08027612374878682,-0.13773277161817227,-0.17487990819188012,-0.09464176385244556,-0.46513727876047156,-0.28548620896096594,-0.06211585536243091,-0.05953685225389692,0.11747805117983988,-0.0044183396690423635,-0.32724676447063,-33.747093123629334,-0.07790237714301128,0.5283601646068622,-0.041069439415058306,-0.06839747314122478,-0.1926394785608288,0.5745222439943654,-0.3587263256415847,-0.29422198476086237,-0.021763254731467504,-0.0883644626897203,-0.1663867764671791,-0.3486501431381945,-0.08130545767152053,-0.20735205532127005,-0.280980977975104,-0.11491105963376427,-0.04372931933588226,-0.2597417868038298,0.013383324608725324,0.035285242496847606,-0.07271670293447406,-0.2034702399267903,-0.0468134164893976,-0.1359855214318805,-0.1470063259459969,-0.1401412985307072,0.06612506461200052,0.019701879923525727,-0.0937427110061871,0.09249891718174962,-0.06304096626537535,-0.11214421029627605,-0.14717379393678778,-0.03310928084283335,-0.17800325960399802,0.9298080994742869,-0.19491941812592667,-0.11995698994163505,-0.10762647687023263,0.10023604721954008,0.1844347616149984,-0.07587400877891644,-0.21127474030672552,0.0873834265547761,-0.06862720398731897,0.4446772561263271,-0.04058598055752683,-0.04998816380773064,-0.1977036093513678,-0.14884354428328836,-1.760148513971116,-0.33035969223613976,0.2339409108719071,0.12133874630149177,-0.28338745815360117,-0.2020407296588458,-0.041496909332612894,-0.11661088369131678,-0.07277686710979026,0.19296992130406834,-0.021316652108415983,-0.056667866968789365,0.09671170214370467,-0.2769423650441314,-0.24586886038734757,-0.2000404116792205,-0.23448602447513558,-0.28368894855431265,-0.1392452503663218,-0.20776413241960606,-0.041059567797548664,0.03439801845537907,-1.0145163594240283,-1.0091750099621426,-0.14349203492709217,-0.10170084309898919,-0.03570823164968298,-0.04321826985635185,-0.01660293065011312,-0.09975222112242012,0.19129588185007182,-0.3046306775761723,-1.7468152707448168,-0.0645302262136572,-0.13145528908183676,-0.11812018734015338,0.45923805571194487,-0.14964688256765799,-0.03845611386129211,-0.12059192643664465,0.40974435203133747,-0.20189143834192097,-0.1157100899166614,0.06039997506640422,-0.2763279960204831,-0.14987674551258218,-0.26433486726011085,-0.27267200697655447,-0.3749581640995853,-0.1586971913558032,-0.20356607039436062,-0.11685164104246222,-0.19678423796884534,-0.060451066504853705,-0.12039182760878868,-0.0318343653884346,-0.06690399964397503,-0.037004477358527604,-0.19063252105753015,-0.19063252105752995,0.09509143517872125,-0.1694279882457,-0.200886476940164,0.04023819982826044,-0.022276583674291688,-0.05388315957869839,0.06325605080201271,0.011133667293433406,0.004057969568864215,-0.026123997387195105,0.03053733688032742,0.058990984268083996,-0.09960606345777046,0.0009558634817124396,-0.10306843302940827,0.13129698840154144,0.4048339985526841,0.25746175461003884,-0.014708503494851045,-0.09901279511020526,-0.06729698439949211,0.19899028634990587,0.02860706796395368,-0.06013229875702086,-0.0896830819481292,-0.11538700684293521,0.005383352674712528,-0.18267425209471827,-0.11792956756253957,0.21057614686481876,-0.09767876318695634,-0.05328896094534341,-0.13438407570004868,0.3254585451486215,-0.24008292448688287,0.4716798269128841,-0.17274483265758367,0.040451408543580925,-0.11820503781643156,-0.1266298233965856,0.09107125182632048,-0.385294524713719,1.113205605047433,0.18545235563035586,-0.1399499057874953,-0.011243872099249482,0.10728621937865312,-0.17735139435640476,0.5280384588010545,-0.07145814473527443,-0.000510716191317015,0.5186389878986868,-0.09862609302752076,-0.12785336719313692,-0.17845623243968237,-0.18286684782544377,0.02113884244455919,2.0261483071088455,-0.27896367401552435,-0.13272220585485903,0.11918323806423467,-0.0948089149041105,-0.10056600037480702,-1.520606913926297,0.18258874101286454,-0.07743094227256284,-0.10661184039666148,-0.11872037749112643,-0.16338816901703554,0.12330532167894948,0.030011266778029306,-0.09057629117305134,-0.4169075566484093,-0.32497423785583857,-0.16032437375756883,-0.1239571041741817,-0.03050042367004602,0.26638873552567643,0.26037493168494463,0.6836498671610979,0.18000345291461436,-0.14922883616314572,-0.14305531231513405,-0.1794953834280107,-0.14184649756802636,0.28223257795943446,-0.2542952944870011,0.27200792706825055,-0.14825132275511158,-0.1884035287971603,0.03272908614529943,-0.20276827935783426,-0.027777582714923463,0.018688591150312916,-7.850015433110592e-05,0.503471557601179,0.017858873469660547,0.14982791375136653,-0.43069446083495566,-0.12200843256064474,0.030292604444832155,-0.17842759998588176,-0.15078112036558705,-0.4103517097897693,2.8921152994571595,0.7311357745207272,-0.43076493409213024,-0.590516334831578,0.06822088551853003,1.085178457073674,-0.3137321613084512,0.11063366546967479,-0.07565931619740476,-0.0760928759626377,-0.3418834647218995,3.3266129487733087,0.11541842317029395,-0.10327118146101372,-0.17842759998588176,-0.06013229875702114,-0.11587832641857455,-0.06697675166891878,-0.1478326670501774,-0.30339978691851016,-0.3449703615365245,-0.029664930669957103,-0.22333987797931734,-0.12559321533203108,0.5213063665934753,0.001977483601515658,0.017055867932122333,-0.05198038854400009,-0.15311054052651352,0.3122962983780481,-0.11433556603200296,-0.1780727715237284,-0.06986444996917236,-0.13709135299788439,0.08441398146074619,-0.10609132276697468,-0.3915662173140831,0.2390992543846621,0.02875575919440317,-0.1521603577738284,0.02875575919440313,0.10906673492072419,-0.2245669618387087,-0.0953455878012884,-0.10660818836349681,-0.12396598378928524,-0.006158640875309825,-0.10718000322093955,-0.04208149335144482,-0.1979379376152601,-0.1979379376152601,-0.13333111104982795,-0.11554914727817969,-0.3290672735832587,0.3067506646267582,0.03448045148183832,-0.04245393282695876,0.3230621844578755,0.023857493040981392,0.13097080696263078,-0.2569074950163836,-0.18948098169232785,-0.18366282706503936,-0.13791136452768016,-0.1655401121998839,-0.15988629024515225,-0.2939624390034516,1.1119608598990727,-0.058951988727394634,0.32592369095850054,-0.05277995893419112,-0.15071729149404825,-0.25262561480194057,-0.10679027066637757,-0.25118636003724415,0.030994413771960872,-0.41629812725199966,-0.010695278391612788,-0.15180850848848187,-0.20545404089157188,0.39297658017654774,-0.14091145154609042,-0.15891760064287647,0.1348244152579519,0.1557606964019262,-0.4784684261961746,0.03543456214563102,0.1699289995279215,-0.20452724058879854,0.053525993325864954,-0.05934010658661613,-0.1977134504037171,-0.021439697410749352,0.29679958873199225,-0.13706926055197696,-0.1546375323825616,-0.1243567470375534,-0.1653712083357848,-0.2484090834941833,-0.09252804369834276,-0.12877221178598677,-0.3401365114307789,-0.1552420754052383,-0.25585581885159625,-0.06831837415034406,0.7459818391649694,-0.2369814884994628,0.1985084693826492,-0.20483286300379466,-0.08401498734825912,0.0032675310683833872,0.004292150514037151,-0.03311930673631878,0.020973424448566477,-0.13391134685896675,-0.2858768652589817,-0.06013229875702105,-0.2973873456452248,-0.3583534333801685,0.7048020810232477,0.003527850702569571,-0.1531648430312081,-0.04721765006085802,-0.18380752641847262,-0.19191090842425582,-0.06641498620301843,-0.07769447530303397,-0.27488389429628884,0.4295931407804691,0.14292843954117945,-0.10166105563888446,0.13524147737632614,-0.17684693747507377,-0.040497720404219,-0.2549271216889637,2.152055445987526,0.016587030898149665,-0.05789622555200207,-0.4306944608349556,-0.17842729540931324,-0.11676771572075681,0.3577380841642885,0.1742778639945638,-0.027652905245754325,-0.11820503781643156,-0.10327118146101372,-0.26225391611401283,-0.4354205013692973,-0.14346210975172552,-0.00342167934593093,-0.17734825197017767,-0.4130157027238235,-0.21714919747371503,-0.2510849876745695,-0.1579093694353937,-0.7050990804346716,-0.14890629488700105,-0.6209568099551916,-0.9262012562996244,0.3143572995333747,-0.12095924782400445,-0.032984992784068384,0.08491493694572079,-0.2875904931952685,0.3677745822947968,-0.038160903064410806,0.42645462058302575,0.0978352093873827,0.14028904421070237,0.4314872642428631,-0.06013229875702115,0.10417864652788644,-0.046977282339500125,-0.11007317094243033,-0.1424390466325776,-0.04256813686796009,-0.1197106307201141,-0.3826294074830635,-0.3063746076054181,-0.18064835496208756,0.16505477765157484,-0.15404566416876075,-0.5006651627625479,3.6531150875297604,-0.1309203175502756,-0.028894164623706843,2.3885664588321798,-0.007860075839302772,-0.09525854836551341,-0.03810618132468391,0.18013373063319763,-0.1844401017268,-0.18257052306998303,-0.07798602697319902,-0.12817704182487213,0.9455532015606211,-0.017559147071727538,0.2399616253938564,-0.2883369814986939,-0.27822011729691914,-0.3346907750693954,-0.060132298757021,-0.32188646491606776,-0.013673627442931264,-0.009839765787422867,0.076614486090827,0.11983222085433187,-0.15879270903590487,0.2891678519997948,-0.14862605378945773,0.04311674218086681,-0.027963417414296882,-0.08811981597084019,-0.043757320937774236,-0.05631173455154065,-0.03218999696159323,0.037306607964998094,0.3638559460065798,0.12203871735848378,0.12934142600355722,-0.04951254195712208,-0.2571137309194342,-0.061600426251929075,0.11490110086722112,-0.11180853992063676,-0.15189137800393104,0.03614056123518186,-0.15372855370061816,-0.1578698307723237,-0.16208191315951442,-0.17848541542845234,-0.03645787662481529,0.06615858589517573,-0.26679051833040257,-0.01848806869808125,-0.16483935900049837,-0.1936683544117648,-0.07349056788709467,-0.14063531328514053,0.13176959486981593,-0.20115038833927584,-0.04614709933667328,-0.30512778724700645,-0.0919673165099267,-0.07809139794435845,0.05880132653497855,0.004355226183715642,0.021918809522995644,-0.29807652022823283,-0.17880916623847765,-0.2522286564046347,0.19283479899494138,0.24697759100796057,-0.12679889429272276,-0.32681966672892065,-0.18796457124535912,-0.25570770182860814,-0.1374145744883083,-0.060132298757021044,-0.0797210487416734,0.19655033494779148,0.005887493234892437,-0.08246899612904103,-0.3280045791833345,-0.24375958684649515,-0.1249769654527843,-0.26347972977135825,0.2770897088233689,-0.29651215886618276,-0.0076922239163685355,-0.04892304695319369,-0.1308600338744768,-0.16097055394581805,0.21932240508172016,-0.18394472667369183,-0.11041546375426262,-0.12178202433390366,-0.010846857952685682,-0.15070747702110446,-0.020987807110354847,-0.11751157057671556,-0.06277330500610359,-0.058393981194394935,-0.1252053804125903,-0.19063252105753,0.8006472330571464,-0.1453579205980828,-0.060132298757021134,0.09154640221578146,-0.1531690714183543,-0.19714805311709394,1.5247387561400954,-0.09114229692509469,-0.5391121888271375,-0.014612200987537098,-0.08001838252515277,-0.0820315856956677,2.5535339558102423,-0.17694688065924483,-0.051425219926032086,0.9038611780793363,0.010037367331818047,-0.16310631458396488,-0.11277097730807255,0.1786367127598918,-0.034524131747878994,-0.030153217195167493,-0.09787409117347913,-0.12706310609719948,-0.2974676782329032,-0.07929128309842676,-0.12706310609719948,-0.07350265540202378,0.1690194904366188,-0.12539082640454566,-0.10015539334662163,-0.050445824147904966,-0.1406353132851421,-0.18628437791156285,-0.17045162986708562,0.024222837394043954,-0.3545075601535128,0.2825808908864214,-0.25772710603091137,-0.02125650646876029,0.03011274035922673,0.20870821405286288,0.22343917822475864,-0.048394480083877686,0.0845012301802968,0.42223757079544083,-0.014108392220294731,0.05615173211482915,-0.03349172473210828,-0.14501523593938198,0.005771609773763847,-0.1341107199487205,-0.0016223926831080095,-0.11275920655515623,0.007484753466563971,-0.12253413313140864,-0.007809172151845728,0.1399258041847211,-0.03190475891557932,0.1951044942487489,-0.02626738377017426,0.1285016173368509,-0.045945215376985774,0.2561236114873592,3.831004182778218,0.1212276926947472,0.439050674436362,0.08854099674851452,0.27766631772609507,-0.11724468572513963,0.12835391208952587,-0.004561688022388981,0.3711811273355576,-0.04376165249704869,0.0430308505982727,-0.14332048931136282,0.08773747366758324,-0.03792180487255709,-0.33004817010772486,-0.08973260373429683,0.7352820848692211,-0.08899266967339062,0.2604628101032081,-0.11109706482474256,-0.3589944530740469,-0.41519543013109955,-0.3226944618231885,-0.13985876497102237,52.73337539818208,0.024402064728403502,4.548851943706242,0.09060203129774994,2.973636770549805,-0.00492630794488737,0.00881633290825224,-0.2590161507469906,-0.10985077227802374,-0.11301034108942828,-0.12741438225635754,-0.11820503781643156,-0.06254439701689538,-0.047602713959158056,-0.06036105720402854,-0.1843587327385244,-0.005864506987905145,-0.1272223563946741,1.9406634022212574,-0.11396351134033736,-0.07886713132807502,-0.021624648073271843,0.3683749253358847,-0.10854102600627981,-0.17554303978160316,0.25849216455213014,-0.008683199742993605,-0.21206773791952743,-0.12954027456023307,-0.2564268234722136,-0.38435230059320297,0.4257040617782562,-0.2842255595617114,-0.2842255595617114,-0.12771614491803043,-0.029058207864284317,0.1677096112740211,0.3925155707665539,0.06409418690560484,0.41604352484559054,0.10044333944709345,-0.09384138144076583,-0.14717379393678778,-0.10885012108533786,-0.09795081648598626,0.44162359480946495,0.4118386563813841,-0.05353855942169266,-0.02645446896050319,-0.02645446896050319,-0.03185383497707003,-0.06849583639383135,0.6493409804674584,-0.14670107347854308,0.40089481780508984,0.3360691452026402,-0.27912317201743575,0.2530620419385425,-0.24108940832228132,-0.11521441549220866,-0.18488124498371675,-0.12094179033191148,-0.13231408978294304,-0.13199642072999673,-0.14019647611772318,0.5925104097534375,0.26894544104133944,-0.12905275044985048,-0.20552013564901767,-0.32357198625237665,-0.21104378104808605,-0.08760227215852366,-0.21397179028895097,-0.08171257903846642,-0.19083263421209865,-0.09555254636604019,-0.3123849268834877,-0.10894127927798314,0.4079915898333796,-0.2569074950163836,-0.2520401662713262,-0.02581551658931591,0.24946050142514464,-0.18901727452383615,-0.1408017130300913,-0.1408017130300913,-0.1697895322967195,-0.22799432125243507,-0.10468669453826163,-0.08935203294058162,0.358514889959128,-0.1892977180289026,0.1350389923301067,-0.09130380821055822,0.0011935020491019015,-0.12792747233368362,0.4488749941473406,-0.09468642227022385,-0.13994834125644542,-0.14880844687092576,-0.1089567936340802,-0.06013229875702091,-3.288142204207679,null,null,null,null,null,null,null,null,null,null,null,null,null,null,null,null,null,null,null,null,null,null,null,null,null,null,null,null,null,null,null,null,null,null,null,null,null,null,null,null,null,null,null,null,null,null,null,null,null,null,null,null,null,null,null,null,null,null,null,null,null,null,null,null,null,null,null,null,null,null,null,null,null,null,null,null,null,null,null,null,null,null,null,null,null,null,null,null,null,null,null,null,null,null,null,null,null,null,null,null,null,null,null,null,null,null,null,null,null,null,null,null,null,null,null,null,null,null,null,null,null,null,null,null,null,null,null,null,null,null,null,null,null,null,null,null,null,null,null,null,null,null,null,null,null,null,null,null,null,null,null,null,null,null,null,null,null,null,null,null,null,null,null,null,null,null,null,null,null,null,null,null,null,null,null,null,null,null,null,null,null,null,null,null,null,null,null,null,null,null,null,null,null,null,null,null,null,null,null,null,null,null,null,null,null,null,null,null,null,null,null,null,null,null,null,null,null,null,null,null,null,null,null,null,null,null,null,null,null,null,null,null,null,null,null,null,null,null,null,null,null,null,null,null,null,null,null,null,null,null,null,null,null,null,null,null,null,null,null,null,null,null,null,null,null,null,null,null,null,null,null,null,null,null,null,null,null,null,null,null,null,null,null,null,null,null,null,null,null,null,null,null,null,null,null,null,null,null,null,null,null,null,null,null,null,null,null,null,null,null,null,null,null,null,null,null,null,null,null,null,null,null,null,null,null,null,null,null,null,null,null,null,null,null,null,null,null,null,null,null,null,null,null,null,null,null,null,null,null,null,null,null,null,null,null,null,null,null,null,null,null,null,null,null,null,null,null,null,null,null,null,null,null,null,null,null,null,null,null,null,null,null,null,null,null,null,null,null,null,null,null,null,null,null,null,null,null,null,null,null,null,null,null,null,null,null,null,null,null,null,null,null,null,null,null,null,null,null,null,null,null,null,null,null,null,null,null,null,null,null,null,null,null,null,null,null,null,null,null,null,null,null,null,null,null,null,null,null,null,null,null,null,null,null,null,null,null,null,null,null,null,null,null,null,null,null,null,null,null,null,null,null,null,null,null,null,null,null,null,null,null,null,null,null,null,null,null,null,null,null,null,null,null,null,null,null,null,null,null,null,null,null,null,null,null,null,null,null,null,null,null,null,null,null,null,null,null,null,null,null,null,null,null,null,null,null,null,null,null,null,null,null,null,null,null,null,null,null,null,null,null,null,null,null,null,null,null,null,null,null,null,null,null,null,null,null,null,null,null,null,null,null,null,null,null,null,null,null,null,null,null,null,null,null,null,null,null,null,null,null,null,null,null,null,null,null,null,null,null,null,null,null,null,null,null,null,null,null,null,null,null,null,null,null,null,null,null,null,null,null,null,null,null,null,null,null,null,null,null,null,null,null,null,null,null,null,null,null,null,null,null,null,null,null,null,null,null,null,null,null,null,null,null,null,null,null,null,null,null,null,null,null,null,null,null,null,null,null,null,null,null,null,null,null,null,null,null,null,null,null,null,null,null,null,null,null,null,null,null,null,null,null,null,null,null,null,null,null,null,null,null,null,null,null,null,null,null,null,null,null,null,null,null,null,null,null,null,null,null,null,null,null,null,null,null,null,null,null,null,null,null,null,null,null,null,null,null,null,null,null,null,null,null,null,null,null,null,null,null,null,null,null,null,null,null,null,null,null,null,null,null,null,null,null,null,null,null,null,null,null,null,null,null,null,null,null,null,null,null,null,null,null,null,null,null,null,null,null,null,null,null,null,null,null,null,null,null,null,null,null,null,null,null,null,null,null,null,null,null,null,null,null,null,null,null,null,null,null,null,null,null,null,null,null,null,null,null,null,null,null,null,null,null,null,null,null,null,null,null,null,null,null,null,null,null,null,null,null,null,null,null,null,null,null,null,null,null,null,null,null,null,null,null,null,null,null,null,null,null,null,null,null,null,null,null,null,null,null,null,null,null,null,null,null,null,null,null,null,null,null,null,null,null,null,null,null,null,null,null,null,null,null,null,null,null,null,null,null,null,null,null,null,null,null,null,null,null,null,null,null,null,null,null,null,null,null,null,null,null,null,null,null,null,null,null,null,null,null,null,null,null,null,null,null,null,null,null,null,null,null,null,null,null,null,null,null,null,null,null,null,null,null,null,null,null,null,null,null,null,null,null,null,null,null,null,null,null,null,null,null,null,null,null,null,null,null,null,null,null,null,null,null,null,null,null,null,null,null,null,null,null,null,null,null,null,null,null,null,null,null,null,null,null,null,null,null,null,null,null,null,null,null,null,null,null,null,null,null,null,null,null,null,null,null,null,null,null,null,null,null,null,null,null,null,null,null,null,null,null,null,null,null,null,null,null,null,null,null,null,null,null,null,null,null,null,null,null,null,null,null,null,null,null,null,null,null,null,null,null,null,null,null,null,null,null,null,null,null,null,null,null,null,null,null,null,null,null,null,null,null,null,null,null,null,null,null,null,null,null,null,null,null,null,null,null,null,null,null,null,null,null,null,null,null,null,null,null,null,null,null,null,null,null,null,null,null,null,null,null,null,null,null,null,null,null,null,null,null,null,null,null,null,null,null,null,null,null,null,null,null,null,null,null,null,null,null,null,null,null,null,null,null,null,null,null,null,null,null,null,null,null,null,null,null,null,null,null,null,null,null,null,null,null,null,null,null,null,null,null,null,null,null,null,null,null,null,null,null,null,null,null,null,null,null,null,null,null,null,null,null,null,null,null,null,null,null,null,null,null,null,null,null,null,null,null,null,null,null,null,null,null,null,null,null,null,null,null,null,null,null,null,null,null,null,null,null,null,null,null,null,null,null,null,null,null,null,null,null,null,null,null,null,null,null,null,null,null,null,null,null,null,null,null,null,null,null,null,null,null,null,null,null,null,null,null,null,null,null,null,null,null,null,null,null,null,null,null,null,null,null,null,null,null,null,null,null,null,null,null,null,null,null,null,null,null,null,null,null,null,null,null,null,null,null,null,null,null,null,null,null,null,null,null,null,null,null,null,null,null,null,null,null,null,null,null,null,null,null,null,null,null,null,null,null,null,null,null,null,null,null,null,null,null,null,null,null,null,null,null,null,null,null,null,null,null,null,null,null,null,null,null,null,null,null,null,null,null,null,null,null,null,null,null,null,null,null,null,null,null,null,null,null,null,null,null,null,null,null,null,null,null,null,null,null,null,null,null,null,null,null,null,null,null,null,null,null,null,null,null,null,null,null,null,null,null,null,null,null,null,null,null,null,null,null,null,null,null,null,null,null,null,null,null,null,null,null,null,null,null,null,null,null,null,null,null,null,null,null,null,null,null,null,null,null,null,null,null,null,null,null,null,null,null,null,null,null,null,null,null,null,null,null,null,null,null,null,null,null,null,null,null,null,null,null,null,null,null,null,null,null,null,null,null,null,null,null,null,null,null,null,null,null,null,null,null,null,null,null,null,null,null,null,null,null,null,null,null,null,null,null,null,null,null,null,null,null,null,null,null,null,null,null,null,null,null,null,null,null,null,null,null,null,null,null,null,null,null,null,null,null,null,null,null,null,null,null,null,null,null,null,null,null,null,null,null,null,null,null,null,null,null,null,null,null,null,null,null,null,null,null,null,null,null,null,null,null,null,null,null,null,null,null,null,null,null,null,null,null,null,null,null,null,null,null,null,null,null,null,null,null,null,null,null,null,null,null,null,null,null,null,null,null,null,null,null,null,null,null,null,null,null,null,null,null,null,null,null,null,null,null,null,null,null,null,null,null,null,null,null,null,null,null,null,null,null,null,null,null,null,null,null,null,null,null,null,null,null,null,null,null,null,null,null,null,null,null,null,null,null,null,null,null,null,null,null,null,null,null,null,null,null,null,null,null,null,null,null,null,null,null,null,null,null,null,null,null,null,null,null,null,null,null,null,null,null,null,null,null,null,null,null,null,null,null,null,null,null,null,null,null,null,null,null,null,null,null,null,null,null,null,null,null,null,null,null,null,null,null,null,null,null,null,null,null,null,null,null,null,null,null,null,null,null,null,null,null,null,null,null,null,null,null,null,null,null,null,null,null,null,null,null,null,null,null,null,null,null,null,null,null,null,null,null,null,null,null,null,null,null,null,null,null,null,null,null,null,null,null,null,null,null,null,null,null,null,null,null,null,null,null,null,null,null,null,null,null,null,null,null,null,null,null,null,null,null,null,null,null,null,null,null,null,null,null,null,null,null,null,null,null,null,null,null,null,null,null,null,null,null,null,null,null,null,null,null,null,null,null,null,null,null,null,null,null,null,null,null,null,null,null,null,null,null,null,null,null,null,null,null,null,null,null,null,null,null,null,null,null,null,null,null,null,null,null,null,null,null,null,null,null,null,null,null,null,null,null,null,null,null,null,null,null,null,null,null,null,null,null,null,null,null,null,null,null,null,null,null,null,null,null,null,null,null,null,null,null,null,null,null,null,null,null,null,null,null,null,null,null,null,null,null,null,null,null,null,null,null,null,null,null,null,null,null,null,null,null,null,null,null,null,null,null,null,null,null,null,null,null,null,null,null,null,null,null,null,null,null,null,null,null,null,null,null,null,null,null,null,null,null,null,null,null,null,null,null,null,null,null,null,null,null,null,null,null,null,null,null,null,null,null,null,null,null,null,null,null,null,null,null,null,null,null,null,null,null,null,null,null,null,null,null,null,null,null,null,null,null,null,null,null,null,null,null,null,null,null,null,null,null,null,null,null,null,null,null,null,null,null,null,null,null,null,null,null,null,null,null,null,null,null,null,null,null,null,null,null,null,null,null,null,null,null,null,null,null,null,null,null,null,null,null,null,null,null,null,null,null,null,null,null,null,null,null,null,null,null,null,null,null,null,null,null,null,null,null,null,null,null,null,null,null,null,null,null,null,null,null,null,null,null,null,null,null,null,null,null,null,null,null,null,null,null,null,null,null,null,null,null,null,null,null,null,null,null,null,null,null,null,null,null,null,null,null,null,null,null,null,null,null,null,null,null,null,null,null,null,null,null,null,null,null,null,null,null,null,null,null,null,null,null,null,null,null,null,null,null,null,null,null,null,null,null,null,null,null,null,null,null,null,null,null,null,null,null,null,null,null,null,null,null,null,null,null,null,null,null,null,null,null,null,null,null,null,null,null,null,null,null,null,null,null,null,null,null,null,null,null,null,null,null,null,null,null,null,null,null,null,null,null,null,null,null,null,null,null,null,null,null,null,null,null,null,null,null,null,null,null,null,null,null,null,null,null,null,null,null,null,null,null,null,null,null,null,null,null,null,null,null,null,null,null,null,null,null,null,null,null,null,null,null,null,null,null,null,null,null,null,null,null,null,null,null,null,null,null,null,null,null,null,null,null,null,null,null,null,null,null,null,null,null,null,null,null,null,null,null,null,null,null,null,null,null,null,null,null,null,null,null,null,null,null,null,null,null,null,null,null,null,null,null,null,null,null,null,null,null,null,null,null,null,null,null,null,null,null,null,null,null,null,null,null,null,null,null,null,null,null,null,null,null,null,null,null,null,null,null,null,null,null,null,null,null,null,null,null,null,null,null,null,null,null,null,null,null,null,null,null,null,null,null,null,null,null,null,null,null,null,null,null,null,null,null,null,null,null,null,null,null,null,null,null,null,null,null,null,null,null,null,null,null,null,null,null,null,null,null,null,null,null,null,null,null,null,null,null,null,null,null,null,null,null,null,null,null,null,null,null,null,null,null,null,null,null,null,null,null,null,null,null,null,null,null,null,null,null,null,null,null,null,null,null,null,null,null,null,null,null,null,null,null,null,null,null,null,null,null,null,null,null,null,null,null,null,null,null,null,null,null,null,null,null,null,null,null,null,null,null,null,null,null,null,null,null,null,null,null,null,null,null,null,null,null,null,null,null,null,null,null,null,null,null,null,null,null,null,null,null,null,null,null,null,null,null,null,null,null,null,null,null,null,null,null,null,null,null,null,null,null,null,null,null,null,null,null,null,null,null,null,null,null,null,null,null,null,null,null,null],\"yaxis\":\"y\",\"type\":\"scattergl\"}],                        {\"template\":{\"data\":{\"histogram2dcontour\":[{\"type\":\"histogram2dcontour\",\"colorbar\":{\"outlinewidth\":0,\"ticks\":\"\"},\"colorscale\":[[0.0,\"#0d0887\"],[0.1111111111111111,\"#46039f\"],[0.2222222222222222,\"#7201a8\"],[0.3333333333333333,\"#9c179e\"],[0.4444444444444444,\"#bd3786\"],[0.5555555555555556,\"#d8576b\"],[0.6666666666666666,\"#ed7953\"],[0.7777777777777778,\"#fb9f3a\"],[0.8888888888888888,\"#fdca26\"],[1.0,\"#f0f921\"]]}],\"choropleth\":[{\"type\":\"choropleth\",\"colorbar\":{\"outlinewidth\":0,\"ticks\":\"\"}}],\"histogram2d\":[{\"type\":\"histogram2d\",\"colorbar\":{\"outlinewidth\":0,\"ticks\":\"\"},\"colorscale\":[[0.0,\"#0d0887\"],[0.1111111111111111,\"#46039f\"],[0.2222222222222222,\"#7201a8\"],[0.3333333333333333,\"#9c179e\"],[0.4444444444444444,\"#bd3786\"],[0.5555555555555556,\"#d8576b\"],[0.6666666666666666,\"#ed7953\"],[0.7777777777777778,\"#fb9f3a\"],[0.8888888888888888,\"#fdca26\"],[1.0,\"#f0f921\"]]}],\"heatmap\":[{\"type\":\"heatmap\",\"colorbar\":{\"outlinewidth\":0,\"ticks\":\"\"},\"colorscale\":[[0.0,\"#0d0887\"],[0.1111111111111111,\"#46039f\"],[0.2222222222222222,\"#7201a8\"],[0.3333333333333333,\"#9c179e\"],[0.4444444444444444,\"#bd3786\"],[0.5555555555555556,\"#d8576b\"],[0.6666666666666666,\"#ed7953\"],[0.7777777777777778,\"#fb9f3a\"],[0.8888888888888888,\"#fdca26\"],[1.0,\"#f0f921\"]]}],\"heatmapgl\":[{\"type\":\"heatmapgl\",\"colorbar\":{\"outlinewidth\":0,\"ticks\":\"\"},\"colorscale\":[[0.0,\"#0d0887\"],[0.1111111111111111,\"#46039f\"],[0.2222222222222222,\"#7201a8\"],[0.3333333333333333,\"#9c179e\"],[0.4444444444444444,\"#bd3786\"],[0.5555555555555556,\"#d8576b\"],[0.6666666666666666,\"#ed7953\"],[0.7777777777777778,\"#fb9f3a\"],[0.8888888888888888,\"#fdca26\"],[1.0,\"#f0f921\"]]}],\"contourcarpet\":[{\"type\":\"contourcarpet\",\"colorbar\":{\"outlinewidth\":0,\"ticks\":\"\"}}],\"contour\":[{\"type\":\"contour\",\"colorbar\":{\"outlinewidth\":0,\"ticks\":\"\"},\"colorscale\":[[0.0,\"#0d0887\"],[0.1111111111111111,\"#46039f\"],[0.2222222222222222,\"#7201a8\"],[0.3333333333333333,\"#9c179e\"],[0.4444444444444444,\"#bd3786\"],[0.5555555555555556,\"#d8576b\"],[0.6666666666666666,\"#ed7953\"],[0.7777777777777778,\"#fb9f3a\"],[0.8888888888888888,\"#fdca26\"],[1.0,\"#f0f921\"]]}],\"surface\":[{\"type\":\"surface\",\"colorbar\":{\"outlinewidth\":0,\"ticks\":\"\"},\"colorscale\":[[0.0,\"#0d0887\"],[0.1111111111111111,\"#46039f\"],[0.2222222222222222,\"#7201a8\"],[0.3333333333333333,\"#9c179e\"],[0.4444444444444444,\"#bd3786\"],[0.5555555555555556,\"#d8576b\"],[0.6666666666666666,\"#ed7953\"],[0.7777777777777778,\"#fb9f3a\"],[0.8888888888888888,\"#fdca26\"],[1.0,\"#f0f921\"]]}],\"mesh3d\":[{\"type\":\"mesh3d\",\"colorbar\":{\"outlinewidth\":0,\"ticks\":\"\"}}],\"scatter\":[{\"fillpattern\":{\"fillmode\":\"overlay\",\"size\":10,\"solidity\":0.2},\"type\":\"scatter\"}],\"parcoords\":[{\"type\":\"parcoords\",\"line\":{\"colorbar\":{\"outlinewidth\":0,\"ticks\":\"\"}}}],\"scatterpolargl\":[{\"type\":\"scatterpolargl\",\"marker\":{\"colorbar\":{\"outlinewidth\":0,\"ticks\":\"\"}}}],\"bar\":[{\"error_x\":{\"color\":\"#2a3f5f\"},\"error_y\":{\"color\":\"#2a3f5f\"},\"marker\":{\"line\":{\"color\":\"#E5ECF6\",\"width\":0.5},\"pattern\":{\"fillmode\":\"overlay\",\"size\":10,\"solidity\":0.2}},\"type\":\"bar\"}],\"scattergeo\":[{\"type\":\"scattergeo\",\"marker\":{\"colorbar\":{\"outlinewidth\":0,\"ticks\":\"\"}}}],\"scatterpolar\":[{\"type\":\"scatterpolar\",\"marker\":{\"colorbar\":{\"outlinewidth\":0,\"ticks\":\"\"}}}],\"histogram\":[{\"marker\":{\"pattern\":{\"fillmode\":\"overlay\",\"size\":10,\"solidity\":0.2}},\"type\":\"histogram\"}],\"scattergl\":[{\"type\":\"scattergl\",\"marker\":{\"colorbar\":{\"outlinewidth\":0,\"ticks\":\"\"}}}],\"scatter3d\":[{\"type\":\"scatter3d\",\"line\":{\"colorbar\":{\"outlinewidth\":0,\"ticks\":\"\"}},\"marker\":{\"colorbar\":{\"outlinewidth\":0,\"ticks\":\"\"}}}],\"scattermapbox\":[{\"type\":\"scattermapbox\",\"marker\":{\"colorbar\":{\"outlinewidth\":0,\"ticks\":\"\"}}}],\"scatterternary\":[{\"type\":\"scatterternary\",\"marker\":{\"colorbar\":{\"outlinewidth\":0,\"ticks\":\"\"}}}],\"scattercarpet\":[{\"type\":\"scattercarpet\",\"marker\":{\"colorbar\":{\"outlinewidth\":0,\"ticks\":\"\"}}}],\"carpet\":[{\"aaxis\":{\"endlinecolor\":\"#2a3f5f\",\"gridcolor\":\"white\",\"linecolor\":\"white\",\"minorgridcolor\":\"white\",\"startlinecolor\":\"#2a3f5f\"},\"baxis\":{\"endlinecolor\":\"#2a3f5f\",\"gridcolor\":\"white\",\"linecolor\":\"white\",\"minorgridcolor\":\"white\",\"startlinecolor\":\"#2a3f5f\"},\"type\":\"carpet\"}],\"table\":[{\"cells\":{\"fill\":{\"color\":\"#EBF0F8\"},\"line\":{\"color\":\"white\"}},\"header\":{\"fill\":{\"color\":\"#C8D4E3\"},\"line\":{\"color\":\"white\"}},\"type\":\"table\"}],\"barpolar\":[{\"marker\":{\"line\":{\"color\":\"#E5ECF6\",\"width\":0.5},\"pattern\":{\"fillmode\":\"overlay\",\"size\":10,\"solidity\":0.2}},\"type\":\"barpolar\"}],\"pie\":[{\"automargin\":true,\"type\":\"pie\"}]},\"layout\":{\"autotypenumbers\":\"strict\",\"colorway\":[\"#636efa\",\"#EF553B\",\"#00cc96\",\"#ab63fa\",\"#FFA15A\",\"#19d3f3\",\"#FF6692\",\"#B6E880\",\"#FF97FF\",\"#FECB52\"],\"font\":{\"color\":\"#2a3f5f\"},\"hovermode\":\"closest\",\"hoverlabel\":{\"align\":\"left\"},\"paper_bgcolor\":\"white\",\"plot_bgcolor\":\"#E5ECF6\",\"polar\":{\"bgcolor\":\"#E5ECF6\",\"angularaxis\":{\"gridcolor\":\"white\",\"linecolor\":\"white\",\"ticks\":\"\"},\"radialaxis\":{\"gridcolor\":\"white\",\"linecolor\":\"white\",\"ticks\":\"\"}},\"ternary\":{\"bgcolor\":\"#E5ECF6\",\"aaxis\":{\"gridcolor\":\"white\",\"linecolor\":\"white\",\"ticks\":\"\"},\"baxis\":{\"gridcolor\":\"white\",\"linecolor\":\"white\",\"ticks\":\"\"},\"caxis\":{\"gridcolor\":\"white\",\"linecolor\":\"white\",\"ticks\":\"\"}},\"coloraxis\":{\"colorbar\":{\"outlinewidth\":0,\"ticks\":\"\"}},\"colorscale\":{\"sequential\":[[0.0,\"#0d0887\"],[0.1111111111111111,\"#46039f\"],[0.2222222222222222,\"#7201a8\"],[0.3333333333333333,\"#9c179e\"],[0.4444444444444444,\"#bd3786\"],[0.5555555555555556,\"#d8576b\"],[0.6666666666666666,\"#ed7953\"],[0.7777777777777778,\"#fb9f3a\"],[0.8888888888888888,\"#fdca26\"],[1.0,\"#f0f921\"]],\"sequentialminus\":[[0.0,\"#0d0887\"],[0.1111111111111111,\"#46039f\"],[0.2222222222222222,\"#7201a8\"],[0.3333333333333333,\"#9c179e\"],[0.4444444444444444,\"#bd3786\"],[0.5555555555555556,\"#d8576b\"],[0.6666666666666666,\"#ed7953\"],[0.7777777777777778,\"#fb9f3a\"],[0.8888888888888888,\"#fdca26\"],[1.0,\"#f0f921\"]],\"diverging\":[[0,\"#8e0152\"],[0.1,\"#c51b7d\"],[0.2,\"#de77ae\"],[0.3,\"#f1b6da\"],[0.4,\"#fde0ef\"],[0.5,\"#f7f7f7\"],[0.6,\"#e6f5d0\"],[0.7,\"#b8e186\"],[0.8,\"#7fbc41\"],[0.9,\"#4d9221\"],[1,\"#276419\"]]},\"xaxis\":{\"gridcolor\":\"white\",\"linecolor\":\"white\",\"ticks\":\"\",\"title\":{\"standoff\":15},\"zerolinecolor\":\"white\",\"automargin\":true,\"zerolinewidth\":2},\"yaxis\":{\"gridcolor\":\"white\",\"linecolor\":\"white\",\"ticks\":\"\",\"title\":{\"standoff\":15},\"zerolinecolor\":\"white\",\"automargin\":true,\"zerolinewidth\":2},\"scene\":{\"xaxis\":{\"backgroundcolor\":\"#E5ECF6\",\"gridcolor\":\"white\",\"linecolor\":\"white\",\"showbackground\":true,\"ticks\":\"\",\"zerolinecolor\":\"white\",\"gridwidth\":2},\"yaxis\":{\"backgroundcolor\":\"#E5ECF6\",\"gridcolor\":\"white\",\"linecolor\":\"white\",\"showbackground\":true,\"ticks\":\"\",\"zerolinecolor\":\"white\",\"gridwidth\":2},\"zaxis\":{\"backgroundcolor\":\"#E5ECF6\",\"gridcolor\":\"white\",\"linecolor\":\"white\",\"showbackground\":true,\"ticks\":\"\",\"zerolinecolor\":\"white\",\"gridwidth\":2}},\"shapedefaults\":{\"line\":{\"color\":\"#2a3f5f\"}},\"annotationdefaults\":{\"arrowcolor\":\"#2a3f5f\",\"arrowhead\":0,\"arrowwidth\":1},\"geo\":{\"bgcolor\":\"white\",\"landcolor\":\"#E5ECF6\",\"subunitcolor\":\"white\",\"showland\":true,\"showlakes\":true,\"lakecolor\":\"white\"},\"title\":{\"x\":0.05},\"mapbox\":{\"style\":\"light\"}}},\"xaxis\":{\"anchor\":\"y\",\"domain\":[0.0,1.0],\"title\":{\"text\":\"First Principal Component\"}},\"yaxis\":{\"anchor\":\"x\",\"domain\":[0.0,1.0],\"title\":{\"text\":\"Second Principal Component\"}},\"legend\":{\"tracegroupgap\":0},\"margin\":{\"t\":60},\"title\":{\"text\":\"PCA Scatter Plot\",\"x\":0.5}},                        {\"responsive\": true}                    ).then(function(){\n",
       "                            \n",
       "var gd = document.getElementById('175d7edb-7313-4b87-a598-70c7b33d29f5');\n",
       "var x = new MutationObserver(function (mutations, observer) {{\n",
       "        var display = window.getComputedStyle(gd).display;\n",
       "        if (!display || display === 'none') {{\n",
       "            console.log([gd, 'removed!']);\n",
       "            Plotly.purge(gd);\n",
       "            observer.disconnect();\n",
       "        }}\n",
       "}});\n",
       "\n",
       "// Listen for the removal of the full notebook cells\n",
       "var notebookContainer = gd.closest('#notebook-container');\n",
       "if (notebookContainer) {{\n",
       "    x.observe(notebookContainer, {childList: true});\n",
       "}}\n",
       "\n",
       "// Listen for the clearing of the current output cell\n",
       "var outputEl = gd.closest('.output');\n",
       "if (outputEl) {{\n",
       "    x.observe(outputEl, {childList: true});\n",
       "}}\n",
       "\n",
       "                        })                };                });            </script>        </div>"
      ]
     },
     "metadata": {},
     "output_type": "display_data"
    }
   ],
   "source": [
    "# Ensure 'df' is your original DataFrame and 'df_pca' is your PCA results DataFrame\n",
    "# Merge the PCA results back into the original DataFrame\n",
    "# The assumption here is that 'df' and 'df_pca' have the same number of rows and corresponding indices\n",
    "\n",
    "# If 'df' does not already have an 'index_col' column\n",
    "df['index_col'] = df.index\n",
    "\n",
    "# Join PCA results to the original DataFrame\n",
    "df_combined = df.join(df_pca)\n",
    "\n",
    "# Now create the scatter plot using the combined DataFrame\n",
    "fig = px.scatter(\n",
    "    df_combined, \n",
    "    x=0,  # First principal component\n",
    "    y=1,  # Second principal component\n",
    "    hover_data=['index_col', 'name']  # Showing index and name on hover\n",
    ")\n",
    "\n",
    "# Updating labels\n",
    "fig.update_layout(\n",
    "    title='PCA Scatter Plot',\n",
    "    xaxis_title='First Principal Component',\n",
    "    yaxis_title='Second Principal Component',\n",
    "    title_x=0.5\n",
    ")\n",
    "\n",
    "# Show the plot\n",
    "fig.show()"
   ]
  }
 ],
 "metadata": {
  "kernelspec": {
   "display_name": "Python 3 (ipykernel)",
   "language": "python",
   "name": "python3"
  },
  "language_info": {
   "codemirror_mode": {
    "name": "ipython",
    "version": 3
   },
   "file_extension": ".py",
   "mimetype": "text/x-python",
   "name": "python",
   "nbconvert_exporter": "python",
   "pygments_lexer": "ipython3",
   "version": "3.9.12"
  }
 },
 "nbformat": 4,
 "nbformat_minor": 5
}
